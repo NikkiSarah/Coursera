{
 "cells": [
  {
   "cell_type": "markdown",
   "id": "bc2a0825-572d-4ef5-a781-32eca94e55ea",
   "metadata": {},
   "source": [
    "# **Crime Analytics - Visualising Incident Reports**\n",
    "\n",
    "In this notebook, we will be analysing the San Francisco criminal incident data as contained in the police department incident reports published on San Francisco's open data web portal: [https://data.sfgov.org](https://data.sfgov.org/Public-Safety/Police-Department-Incident-Reports-2018-to-Present/wg3w-h783). Note that whilst the original instructions were to use incident data from the summer of 2014, this is now 13 years ago so the underlying dataset has been updated to a full year of data from the summer of 2022.\n",
    "\n",
    "The raw data contained 136,677 rows of data across 35 columns:\n",
    "| Field Name | Data Type |\n",
    "| ----------- | --------- |\n",
    "| Incident Datetime | Object |\n",
    "| Incident Date | Object |\n",
    "| Incident Time | Object |\n",
    "| Incident Year | Integer |\n",
    "| Incident Day of Week | Object |\n",
    "| Report Datetime | Object |\n",
    "| Row ID | Float |\n",
    "| Incident ID | Integer |\n",
    "| Incident Number | Integer |\n",
    "| CAD Number | Object |\n",
    "| Report Type Code | Object |\n",
    "| Report Type Description | Object |\n",
    "| Filed Online | Object |\n",
    "| Incident Code | Integer |\n",
    "| Incident Category | Object |\n",
    "| Incident Subcategory | Object |\n",
    "| Incident Description | Object |\n",
    "| Resolution | Object |\n",
    "| Intersection | Object |\n",
    "| CNN | Float |\n",
    "| Police District | Object |\n",
    "| Analysis Neighborhood | Object |\n",
    "| Supervisor District | Float |\n",
    "| Supervisor District 2012 | Float |\n",
    "| Latitude | Float |\n",
    "| Longitude | Float |\n",
    "| Point | Object |\n",
    "| Neighborhoods | Float |\n",
    "| ESNCAG - Boundary File | Float |\n",
    "| Central Market/Tenderloin Boundary Polygon - Updated | Float |\n",
    "| Civic Center Harm Reduction Project Boundary | Float |\n",
    "| HSOC Zones as of 2018-06-05 | Float |\n",
    "| Invest In Neighborhoods (IIN) Areas | Float |\n",
    "| Current Supervisor Districts | Float |\n",
    "| Current Police Districts | Float |\n",
    "\n",
    "For field descriptions see the [Field Definitions](https://datasf.gitbook.io/datasf-dataset-explainers/sfpd-incident-report-2018-to-present#field-definitions)."
   ]
  },
  {
   "cell_type": "code",
   "execution_count": 61,
   "id": "31381fc7-d1f8-4681-b6dd-de4bb042acf4",
   "metadata": {
    "execution": {
     "iopub.execute_input": "2023-08-27T08:45:53.780517Z",
     "iopub.status.busy": "2023-08-27T08:45:53.780116Z",
     "iopub.status.idle": "2023-08-27T08:45:53.784035Z",
     "shell.execute_reply": "2023-08-27T08:45:53.783439Z",
     "shell.execute_reply.started": "2023-08-27T08:45:53.780493Z"
    },
    "tags": []
   },
   "outputs": [],
   "source": [
    "# import all necessary libraries\n",
    "import matplotlib.pyplot as plt\n",
    "import numpy as np\n",
    "import pandas as pd\n",
    "import plotly\n",
    "import plotly.express as px\n",
    "import seaborn as sns"
   ]
  },
  {
   "cell_type": "code",
   "execution_count": 20,
   "id": "5cb2b2a4-140b-4e1c-bd07-6372401feff1",
   "metadata": {
    "execution": {
     "iopub.execute_input": "2023-08-27T08:13:45.591078Z",
     "iopub.status.busy": "2023-08-27T08:13:45.590675Z",
     "iopub.status.idle": "2023-08-27T08:13:51.951117Z",
     "shell.execute_reply": "2023-08-27T08:13:51.950344Z",
     "shell.execute_reply.started": "2023-08-27T08:13:45.591050Z"
    },
    "tags": []
   },
   "outputs": [
    {
     "name": "stdout",
     "output_type": "stream",
     "text": [
      "<class 'pandas.core.frame.DataFrame'>\n",
      "RangeIndex: 136677 entries, 0 to 136676\n",
      "Data columns (total 18 columns):\n",
      " #   Column                 Non-Null Count   Dtype         \n",
      "---  ------                 --------------   -----         \n",
      " 0   incident_datetime      136677 non-null  datetime64[ns]\n",
      " 1   incident_date          136677 non-null  datetime64[ns]\n",
      " 2   incident_time          136677 non-null  object        \n",
      " 3   incident_year          136677 non-null  int64         \n",
      " 4   incident_day_of_week   136677 non-null  object        \n",
      " 5   incident_id            136677 non-null  int64         \n",
      " 6   incident_number        136677 non-null  int64         \n",
      " 7   incident_code          136677 non-null  int64         \n",
      " 8   incident_category      136545 non-null  object        \n",
      " 9   incident_subcategory   136545 non-null  object        \n",
      " 10  incident_description   136677 non-null  object        \n",
      " 11  resolution             136677 non-null  object        \n",
      " 12  police_district        136677 non-null  object        \n",
      " 13  analysis_neighborhood  128609 non-null  object        \n",
      " 14  supervisor_district    128560 non-null  float64       \n",
      " 15  latitude               128628 non-null  float64       \n",
      " 16  longitude              128628 non-null  float64       \n",
      " 17  point                  128628 non-null  object        \n",
      "dtypes: datetime64[ns](2), float64(3), int64(4), object(9)\n",
      "memory usage: 18.8+ MB\n"
     ]
    }
   ],
   "source": [
    "incidents = pd.read_csv('sf_incidents_2223.csv')\n",
    "# clean up the column names\n",
    "incidents.columns = incidents.columns.str.lower().str.replace(' ', '_')\n",
    "# select the 'useful' columns for the analysis\n",
    "useful_cols = [col for col in incidents if col.startswith('incident') or col in ['resolution', 'police_district', 'analysis_neighborhood', 'supervisor_district', 'neighbourhoods',\n",
    "                                                                                 'latitude', 'longitude', 'point']]\n",
    "incidents = incidents.loc[:, useful_cols]\n",
    "# convert incident_datetime to a datetime column\n",
    "incidents['incident_datetime'] = pd.to_datetime(incidents.incident_datetime, infer_datetime_format = True)\n",
    "incidents['incident_date'] = pd.to_datetime(incidents.incident_date, infer_datetime_format = True)\n",
    "incidents.info()\n",
    "\n",
    "# add hour and month information\n",
    "incidents['incident_hour'] = incidents.incident_datetime.dt.hour\n",
    "incidents['incident_month_num'] = incidents.incident_datetime.dt.month\n",
    "incidents['incident_month'] = incidents.incident_datetime.dt.month_name()"
   ]
  },
  {
   "cell_type": "code",
   "execution_count": 21,
   "id": "e8f83f9c-d294-4419-aa0c-de811a9c791c",
   "metadata": {
    "execution": {
     "iopub.execute_input": "2023-08-27T08:13:51.953416Z",
     "iopub.status.busy": "2023-08-27T08:13:51.952765Z",
     "iopub.status.idle": "2023-08-27T08:13:51.964415Z",
     "shell.execute_reply": "2023-08-27T08:13:51.963694Z",
     "shell.execute_reply.started": "2023-08-27T08:13:51.953379Z"
    },
    "tags": []
   },
   "outputs": [
    {
     "data": {
      "text/html": [
       "<div>\n",
       "<style scoped>\n",
       "    .dataframe tbody tr th:only-of-type {\n",
       "        vertical-align: middle;\n",
       "    }\n",
       "\n",
       "    .dataframe tbody tr th {\n",
       "        vertical-align: top;\n",
       "    }\n",
       "\n",
       "    .dataframe thead th {\n",
       "        text-align: right;\n",
       "    }\n",
       "</style>\n",
       "<table border=\"1\" class=\"dataframe\">\n",
       "  <thead>\n",
       "    <tr style=\"text-align: right;\">\n",
       "      <th></th>\n",
       "      <th>incident_datetime</th>\n",
       "      <th>incident_date</th>\n",
       "      <th>incident_time</th>\n",
       "      <th>incident_year</th>\n",
       "      <th>incident_day_of_week</th>\n",
       "      <th>incident_id</th>\n",
       "      <th>incident_number</th>\n",
       "      <th>incident_code</th>\n",
       "      <th>incident_category</th>\n",
       "      <th>incident_subcategory</th>\n",
       "      <th>incident_description</th>\n",
       "      <th>resolution</th>\n",
       "    </tr>\n",
       "  </thead>\n",
       "  <tbody>\n",
       "    <tr>\n",
       "      <th>0</th>\n",
       "      <td>2023-05-31 23:49:00</td>\n",
       "      <td>2023-05-31</td>\n",
       "      <td>23:49</td>\n",
       "      <td>2023</td>\n",
       "      <td>Wednesday</td>\n",
       "      <td>1281250</td>\n",
       "      <td>230377142</td>\n",
       "      <td>19057</td>\n",
       "      <td>Disorderly Conduct</td>\n",
       "      <td>Intimidation</td>\n",
       "      <td>Terrorist Threats</td>\n",
       "      <td>Open or Active</td>\n",
       "    </tr>\n",
       "    <tr>\n",
       "      <th>1</th>\n",
       "      <td>2023-05-31 23:45:00</td>\n",
       "      <td>2023-05-31</td>\n",
       "      <td>23:45</td>\n",
       "      <td>2023</td>\n",
       "      <td>Wednesday</td>\n",
       "      <td>1281464</td>\n",
       "      <td>230377948</td>\n",
       "      <td>75000</td>\n",
       "      <td>Missing Person</td>\n",
       "      <td>Missing Person</td>\n",
       "      <td>Found Person</td>\n",
       "      <td>Open or Active</td>\n",
       "    </tr>\n",
       "    <tr>\n",
       "      <th>2</th>\n",
       "      <td>2023-05-31 23:45:00</td>\n",
       "      <td>2023-05-31</td>\n",
       "      <td>23:45</td>\n",
       "      <td>2023</td>\n",
       "      <td>Wednesday</td>\n",
       "      <td>1281464</td>\n",
       "      <td>230377948</td>\n",
       "      <td>74000</td>\n",
       "      <td>Missing Person</td>\n",
       "      <td>Missing Adult</td>\n",
       "      <td>Missing Adult</td>\n",
       "      <td>Open or Active</td>\n",
       "    </tr>\n",
       "    <tr>\n",
       "      <th>3</th>\n",
       "      <td>2023-05-31 23:44:00</td>\n",
       "      <td>2023-05-31</td>\n",
       "      <td>23:44</td>\n",
       "      <td>2023</td>\n",
       "      <td>Wednesday</td>\n",
       "      <td>1281275</td>\n",
       "      <td>230377136</td>\n",
       "      <td>16210</td>\n",
       "      <td>Drug Offense</td>\n",
       "      <td>Drug Violation</td>\n",
       "      <td>Opiates Offense</td>\n",
       "      <td>Cite or Arrest Adult</td>\n",
       "    </tr>\n",
       "    <tr>\n",
       "      <th>4</th>\n",
       "      <td>2023-05-31 23:44:00</td>\n",
       "      <td>2023-05-31</td>\n",
       "      <td>23:44</td>\n",
       "      <td>2023</td>\n",
       "      <td>Wednesday</td>\n",
       "      <td>1281275</td>\n",
       "      <td>230377136</td>\n",
       "      <td>62050</td>\n",
       "      <td>Warrant</td>\n",
       "      <td>Warrant</td>\n",
       "      <td>Warrant Arrest, Enroute To Outside Jurisdiction</td>\n",
       "      <td>Cite or Arrest Adult</td>\n",
       "    </tr>\n",
       "  </tbody>\n",
       "</table>\n",
       "</div>"
      ],
      "text/plain": [
       "    incident_datetime incident_date incident_time  incident_year  \\\n",
       "0 2023-05-31 23:49:00    2023-05-31         23:49           2023   \n",
       "1 2023-05-31 23:45:00    2023-05-31         23:45           2023   \n",
       "2 2023-05-31 23:45:00    2023-05-31         23:45           2023   \n",
       "3 2023-05-31 23:44:00    2023-05-31         23:44           2023   \n",
       "4 2023-05-31 23:44:00    2023-05-31         23:44           2023   \n",
       "\n",
       "  incident_day_of_week  incident_id  incident_number  incident_code  \\\n",
       "0            Wednesday      1281250        230377142          19057   \n",
       "1            Wednesday      1281464        230377948          75000   \n",
       "2            Wednesday      1281464        230377948          74000   \n",
       "3            Wednesday      1281275        230377136          16210   \n",
       "4            Wednesday      1281275        230377136          62050   \n",
       "\n",
       "    incident_category incident_subcategory  \\\n",
       "0  Disorderly Conduct         Intimidation   \n",
       "1      Missing Person       Missing Person   \n",
       "2      Missing Person        Missing Adult   \n",
       "3        Drug Offense       Drug Violation   \n",
       "4             Warrant              Warrant   \n",
       "\n",
       "                              incident_description            resolution  \n",
       "0                                Terrorist Threats        Open or Active  \n",
       "1                                     Found Person        Open or Active  \n",
       "2                                    Missing Adult        Open or Active  \n",
       "3                                  Opiates Offense  Cite or Arrest Adult  \n",
       "4  Warrant Arrest, Enroute To Outside Jurisdiction  Cite or Arrest Adult  "
      ]
     },
     "execution_count": 21,
     "metadata": {},
     "output_type": "execute_result"
    }
   ],
   "source": [
    "incidents.iloc[:5, :12]"
   ]
  },
  {
   "cell_type": "code",
   "execution_count": 22,
   "id": "559f7c19-aa30-4ae3-b545-2d682e0a7454",
   "metadata": {
    "execution": {
     "iopub.execute_input": "2023-08-27T08:13:51.966165Z",
     "iopub.status.busy": "2023-08-27T08:13:51.965451Z",
     "iopub.status.idle": "2023-08-27T08:13:51.977495Z",
     "shell.execute_reply": "2023-08-27T08:13:51.976856Z",
     "shell.execute_reply.started": "2023-08-27T08:13:51.966132Z"
    },
    "tags": []
   },
   "outputs": [
    {
     "data": {
      "text/html": [
       "<div>\n",
       "<style scoped>\n",
       "    .dataframe tbody tr th:only-of-type {\n",
       "        vertical-align: middle;\n",
       "    }\n",
       "\n",
       "    .dataframe tbody tr th {\n",
       "        vertical-align: top;\n",
       "    }\n",
       "\n",
       "    .dataframe thead th {\n",
       "        text-align: right;\n",
       "    }\n",
       "</style>\n",
       "<table border=\"1\" class=\"dataframe\">\n",
       "  <thead>\n",
       "    <tr style=\"text-align: right;\">\n",
       "      <th></th>\n",
       "      <th>police_district</th>\n",
       "      <th>analysis_neighborhood</th>\n",
       "      <th>supervisor_district</th>\n",
       "      <th>latitude</th>\n",
       "      <th>longitude</th>\n",
       "      <th>point</th>\n",
       "      <th>incident_hour</th>\n",
       "      <th>incident_month_num</th>\n",
       "      <th>incident_month</th>\n",
       "    </tr>\n",
       "  </thead>\n",
       "  <tbody>\n",
       "    <tr>\n",
       "      <th>0</th>\n",
       "      <td>Tenderloin</td>\n",
       "      <td>Tenderloin</td>\n",
       "      <td>5.0</td>\n",
       "      <td>37.785790</td>\n",
       "      <td>-122.412970</td>\n",
       "      <td>POINT (-122.41296966814406 37.78578958358186)</td>\n",
       "      <td>23</td>\n",
       "      <td>5</td>\n",
       "      <td>May</td>\n",
       "    </tr>\n",
       "    <tr>\n",
       "      <th>1</th>\n",
       "      <td>Taraval</td>\n",
       "      <td>Lakeshore</td>\n",
       "      <td>7.0</td>\n",
       "      <td>37.719056</td>\n",
       "      <td>-122.481424</td>\n",
       "      <td>POINT (-122.48142396348878 37.71905643663192)</td>\n",
       "      <td>23</td>\n",
       "      <td>5</td>\n",
       "      <td>May</td>\n",
       "    </tr>\n",
       "    <tr>\n",
       "      <th>2</th>\n",
       "      <td>Taraval</td>\n",
       "      <td>Lakeshore</td>\n",
       "      <td>7.0</td>\n",
       "      <td>37.719056</td>\n",
       "      <td>-122.481424</td>\n",
       "      <td>POINT (-122.48142396348878 37.71905643663192)</td>\n",
       "      <td>23</td>\n",
       "      <td>5</td>\n",
       "      <td>May</td>\n",
       "    </tr>\n",
       "    <tr>\n",
       "      <th>3</th>\n",
       "      <td>Northern</td>\n",
       "      <td>Tenderloin</td>\n",
       "      <td>5.0</td>\n",
       "      <td>37.783101</td>\n",
       "      <td>-122.419182</td>\n",
       "      <td>POINT (-122.41918170505187 37.78310139923345)</td>\n",
       "      <td>23</td>\n",
       "      <td>5</td>\n",
       "      <td>May</td>\n",
       "    </tr>\n",
       "    <tr>\n",
       "      <th>4</th>\n",
       "      <td>Northern</td>\n",
       "      <td>Tenderloin</td>\n",
       "      <td>5.0</td>\n",
       "      <td>37.783101</td>\n",
       "      <td>-122.419182</td>\n",
       "      <td>POINT (-122.41918170505187 37.78310139923345)</td>\n",
       "      <td>23</td>\n",
       "      <td>5</td>\n",
       "      <td>May</td>\n",
       "    </tr>\n",
       "  </tbody>\n",
       "</table>\n",
       "</div>"
      ],
      "text/plain": [
       "  police_district analysis_neighborhood  supervisor_district   latitude  \\\n",
       "0      Tenderloin            Tenderloin                  5.0  37.785790   \n",
       "1         Taraval             Lakeshore                  7.0  37.719056   \n",
       "2         Taraval             Lakeshore                  7.0  37.719056   \n",
       "3        Northern            Tenderloin                  5.0  37.783101   \n",
       "4        Northern            Tenderloin                  5.0  37.783101   \n",
       "\n",
       "    longitude                                          point  incident_hour  \\\n",
       "0 -122.412970  POINT (-122.41296966814406 37.78578958358186)             23   \n",
       "1 -122.481424  POINT (-122.48142396348878 37.71905643663192)             23   \n",
       "2 -122.481424  POINT (-122.48142396348878 37.71905643663192)             23   \n",
       "3 -122.419182  POINT (-122.41918170505187 37.78310139923345)             23   \n",
       "4 -122.419182  POINT (-122.41918170505187 37.78310139923345)             23   \n",
       "\n",
       "   incident_month_num incident_month  \n",
       "0                   5            May  \n",
       "1                   5            May  \n",
       "2                   5            May  \n",
       "3                   5            May  \n",
       "4                   5            May  "
      ]
     },
     "execution_count": 22,
     "metadata": {},
     "output_type": "execute_result"
    }
   ],
   "source": [
    "incidents.iloc[:5, 12:]"
   ]
  },
  {
   "cell_type": "markdown",
   "id": "f618c2d4-d659-4cff-bfd5-2a09fe878e74",
   "metadata": {
    "execution": {
     "iopub.execute_input": "2023-08-27T02:17:30.151034Z",
     "iopub.status.busy": "2023-08-27T02:17:30.150665Z",
     "iopub.status.idle": "2023-08-27T02:17:30.161833Z",
     "shell.execute_reply": "2023-08-27T02:17:30.161253Z",
     "shell.execute_reply.started": "2023-08-27T02:17:30.151010Z"
    },
    "tags": []
   },
   "source": [
    "There are multiple records for each unit incident id/number. The plot below clearly indicates that most incidents only have a single record attached to them, but about 10% (16,617) have up to 4 records. The documentation indicates that a single incident report can have one or more incident codes attached; for example if the police officer discovers narcotics whilst making an arrest (for a non-narcotics related issue), then both an arrest and narcotics incident code would be reported against the same report id. Unless otherwise specified, the analysis will be at the incident code, rather than report level."
   ]
  },
  {
   "cell_type": "code",
   "execution_count": 23,
   "id": "86c11e19-33f4-456d-bf2f-0101eca072b5",
   "metadata": {
    "execution": {
     "iopub.execute_input": "2023-08-27T08:13:51.978992Z",
     "iopub.status.busy": "2023-08-27T08:13:51.978697Z",
     "iopub.status.idle": "2023-08-27T08:13:51.998138Z",
     "shell.execute_reply": "2023-08-27T08:13:51.997569Z",
     "shell.execute_reply.started": "2023-08-27T08:13:51.978972Z"
    },
    "tags": []
   },
   "outputs": [
    {
     "data": {
      "text/html": [
       "<div>\n",
       "<style scoped>\n",
       "    .dataframe tbody tr th:only-of-type {\n",
       "        vertical-align: middle;\n",
       "    }\n",
       "\n",
       "    .dataframe tbody tr th {\n",
       "        vertical-align: top;\n",
       "    }\n",
       "\n",
       "    .dataframe thead th {\n",
       "        text-align: right;\n",
       "    }\n",
       "</style>\n",
       "<table border=\"1\" class=\"dataframe\">\n",
       "  <thead>\n",
       "    <tr style=\"text-align: right;\">\n",
       "      <th></th>\n",
       "      <th>id_count</th>\n",
       "      <th>count</th>\n",
       "      <th>prop</th>\n",
       "    </tr>\n",
       "  </thead>\n",
       "  <tbody>\n",
       "    <tr>\n",
       "      <th>0</th>\n",
       "      <td>1</td>\n",
       "      <td>98180</td>\n",
       "      <td>71.833593</td>\n",
       "    </tr>\n",
       "    <tr>\n",
       "      <th>1</th>\n",
       "      <td>2</td>\n",
       "      <td>11373</td>\n",
       "      <td>8.321078</td>\n",
       "    </tr>\n",
       "    <tr>\n",
       "      <th>2</th>\n",
       "      <td>3</td>\n",
       "      <td>5225</td>\n",
       "      <td>3.822882</td>\n",
       "    </tr>\n",
       "    <tr>\n",
       "      <th>3</th>\n",
       "      <td>4</td>\n",
       "      <td>19</td>\n",
       "      <td>0.013901</td>\n",
       "    </tr>\n",
       "  </tbody>\n",
       "</table>\n",
       "</div>"
      ],
      "text/plain": [
       "   id_count  count       prop\n",
       "0         1  98180  71.833593\n",
       "1         2  11373   8.321078\n",
       "2         3   5225   3.822882\n",
       "3         4     19   0.013901"
      ]
     },
     "execution_count": 23,
     "metadata": {},
     "output_type": "execute_result"
    }
   ],
   "source": [
    "counts = pd.DataFrame(incidents.incident_id.value_counts()).reset_index()\n",
    "counts = counts.groupby(\"incident_id\").count().reset_index()\n",
    "counts['prop'] = counts['index'] / incidents.shape[0] * 100\n",
    "counts.columns = [\"id_count\", \"count\", \"prop\"]\n",
    "counts"
   ]
  },
  {
   "cell_type": "code",
   "execution_count": 119,
   "id": "84c26ed9-f98b-4e1d-9bca-984c667d2e2b",
   "metadata": {
    "execution": {
     "iopub.execute_input": "2023-08-27T09:35:29.081130Z",
     "iopub.status.busy": "2023-08-27T09:35:29.080728Z",
     "iopub.status.idle": "2023-08-27T09:35:29.085661Z",
     "shell.execute_reply": "2023-08-27T09:35:29.085131Z",
     "shell.execute_reply.started": "2023-08-27T09:35:29.081103Z"
    },
    "tags": []
   },
   "outputs": [
    {
     "data": {
      "text/plain": [
       "Renderers configuration\n",
       "-----------------------\n",
       "    Default renderer: 'plotly_mimetype+notebook'\n",
       "    Available renderers:\n",
       "        ['plotly_mimetype', 'jupyterlab', 'nteract', 'vscode',\n",
       "         'notebook', 'notebook_connected', 'kaggle', 'azure', 'colab',\n",
       "         'cocalc', 'databricks', 'json', 'png', 'jpeg', 'jpg', 'svg',\n",
       "         'pdf', 'browser', 'firefox', 'chrome', 'chromium', 'iframe',\n",
       "         'iframe_connected', 'sphinx_gallery', 'sphinx_gallery_png']"
      ]
     },
     "execution_count": 119,
     "metadata": {},
     "output_type": "execute_result"
    }
   ],
   "source": [
    "import plotly.io as pio\n",
    "pio.renderers\n",
    "# pio.renderers.default = \"iframe\""
   ]
  },
  {
   "cell_type": "code",
   "execution_count": 133,
   "id": "061f9581-5e83-4614-9341-8a0922b9c1a2",
   "metadata": {
    "execution": {
     "iopub.execute_input": "2023-08-27T09:38:35.495932Z",
     "iopub.status.busy": "2023-08-27T09:38:35.495546Z",
     "iopub.status.idle": "2023-08-27T09:38:35.552727Z",
     "shell.execute_reply": "2023-08-27T09:38:35.552159Z",
     "shell.execute_reply.started": "2023-08-27T09:38:35.495908Z"
    },
    "tags": []
   },
   "outputs": [
    {
     "data": {
      "text/html": [
       "<iframe\n",
       "    scrolling=\"no\"\n",
       "    width=\"100%\"\n",
       "    height=\"545px\"\n",
       "    src=\"iframe_figures/figure_133.html\"\n",
       "    frameborder=\"0\"\n",
       "    allowfullscreen\n",
       "></iframe>\n"
      ]
     },
     "metadata": {},
     "output_type": "display_data"
    }
   ],
   "source": [
    "fig = px.bar(data_frame=counts, x=\"id_count\", y=\"prop\",\n",
    "             hover_data={'prop':':.2f',\n",
    "                         'count':':,'},\n",
    "             labels={'prop':'Percentage (%)', 'id_count':'Occurrence'},\n",
    "             title='Proportion of records by incident id occurrence',\n",
    "             template='simple_white')\n",
    "fig.show(renderer='iframe')"
   ]
  },
  {
   "cell_type": "code",
   "execution_count": 87,
   "id": "ac5d1979-fef1-49f6-b735-220ab4da0108",
   "metadata": {
    "execution": {
     "iopub.execute_input": "2023-08-27T08:55:07.995162Z",
     "iopub.status.busy": "2023-08-27T08:55:07.994392Z",
     "iopub.status.idle": "2023-08-27T08:55:08.046142Z",
     "shell.execute_reply": "2023-08-27T08:55:08.045536Z",
     "shell.execute_reply.started": "2023-08-27T08:55:07.995131Z"
    },
    "tags": []
   },
   "outputs": [],
   "source": [
    "# clean up the incident categories\n",
    "incidents['incident_category_new'] = np.where(incidents.incident_category == 'Other Miscellaneous', 'Other',\n",
    "                                     np.where(incidents.incident_category == 'Motor Vehicle Theft?', 'Motor Vehicle Theft',\n",
    "                                     np.where(incidents.incident_category == 'Human Trafficking (A), Commercial Sex Acts', 'Human Trafficking, Commercial Sex Acts',\n",
    "                                     np.where(incidents.incident_category == 'Weapons Offence', 'Weapons Offense',\n",
    "                                     np.where(incidents.incident_category == 'Suspicious', 'Suspicious Occ',\n",
    "                                     incidents.incident_category)))))"
   ]
  },
  {
   "cell_type": "code",
   "execution_count": 86,
   "id": "623b1ab7-fee5-4084-b46e-5cb13dff37ff",
   "metadata": {
    "execution": {
     "iopub.execute_input": "2023-08-27T08:53:34.090187Z",
     "iopub.status.busy": "2023-08-27T08:53:34.089797Z",
     "iopub.status.idle": "2023-08-27T08:53:34.108148Z",
     "shell.execute_reply": "2023-08-27T08:53:34.107603Z",
     "shell.execute_reply.started": "2023-08-27T08:53:34.090163Z"
    },
    "tags": []
   },
   "outputs": [
    {
     "data": {
      "text/plain": [
       "Burglary - Other          2816\n",
       "Burglary - Residential    2547\n",
       "Burglary - Commercial      880\n",
       "Burglary - Hot Prowl       814\n",
       "Name: incident_subcategory, dtype: int64"
      ]
     },
     "execution_count": 86,
     "metadata": {},
     "output_type": "execute_result"
    }
   ],
   "source": [
    "sub = incidents.loc[incidents.incident_category == 'Burglary',\n",
    "                    ['incident_category', 'incident_subcategory']]\n",
    "sub.incident_subcategory.value_counts()"
   ]
  },
  {
   "cell_type": "markdown",
   "id": "5257790f-2a7c-4c16-aa55-322e288057a6",
   "metadata": {},
   "source": [
    "The plot below indicates that the most common incident reported in the twelve months between 1 June 2022 and 31 May 2023 was larceny/theft (30.9%). The secondmost common incident category reported was 'Other' (6.9%), and malicious mischief (6.7%), assault (6.4%) and motor vehicle theft (6.3%) rounded out the top 5.\n",
    "\n",
    "At the opposite end of the spectrum, the least common incidents included civil sidewalks, gambling, human trafficking/commercial sex acts, rape and homicide."
   ]
  },
  {
   "cell_type": "code",
   "execution_count": 88,
   "id": "84ff11f4-f19d-40b2-813e-a89b85ebef15",
   "metadata": {
    "execution": {
     "iopub.execute_input": "2023-08-27T08:55:11.445353Z",
     "iopub.status.busy": "2023-08-27T08:55:11.444976Z",
     "iopub.status.idle": "2023-08-27T08:55:11.465008Z",
     "shell.execute_reply": "2023-08-27T08:55:11.464467Z",
     "shell.execute_reply.started": "2023-08-27T08:55:11.445328Z"
    },
    "scrolled": true,
    "tags": []
   },
   "outputs": [
    {
     "data": {
      "text/html": [
       "<div>\n",
       "<style scoped>\n",
       "    .dataframe tbody tr th:only-of-type {\n",
       "        vertical-align: middle;\n",
       "    }\n",
       "\n",
       "    .dataframe tbody tr th {\n",
       "        vertical-align: top;\n",
       "    }\n",
       "\n",
       "    .dataframe thead th {\n",
       "        text-align: right;\n",
       "    }\n",
       "</style>\n",
       "<table border=\"1\" class=\"dataframe\">\n",
       "  <thead>\n",
       "    <tr style=\"text-align: right;\">\n",
       "      <th></th>\n",
       "      <th>category</th>\n",
       "      <th>count</th>\n",
       "      <th>prop</th>\n",
       "    </tr>\n",
       "  </thead>\n",
       "  <tbody>\n",
       "    <tr>\n",
       "      <th>42</th>\n",
       "      <td>Civil Sidewalks</td>\n",
       "      <td>2</td>\n",
       "      <td>0.001463</td>\n",
       "    </tr>\n",
       "    <tr>\n",
       "      <th>41</th>\n",
       "      <td>Gambling</td>\n",
       "      <td>7</td>\n",
       "      <td>0.005122</td>\n",
       "    </tr>\n",
       "    <tr>\n",
       "      <th>40</th>\n",
       "      <td>Human Trafficking, Commercial Sex Acts</td>\n",
       "      <td>10</td>\n",
       "      <td>0.007317</td>\n",
       "    </tr>\n",
       "    <tr>\n",
       "      <th>39</th>\n",
       "      <td>Rape</td>\n",
       "      <td>30</td>\n",
       "      <td>0.021950</td>\n",
       "    </tr>\n",
       "    <tr>\n",
       "      <th>38</th>\n",
       "      <td>Homicide</td>\n",
       "      <td>37</td>\n",
       "      <td>0.027071</td>\n",
       "    </tr>\n",
       "    <tr>\n",
       "      <th>37</th>\n",
       "      <td>Liquor Laws</td>\n",
       "      <td>41</td>\n",
       "      <td>0.029998</td>\n",
       "    </tr>\n",
       "    <tr>\n",
       "      <th>36</th>\n",
       "      <td>Prostitution</td>\n",
       "      <td>47</td>\n",
       "      <td>0.034388</td>\n",
       "    </tr>\n",
       "    <tr>\n",
       "      <th>35</th>\n",
       "      <td>Drug Violation</td>\n",
       "      <td>58</td>\n",
       "      <td>0.042436</td>\n",
       "    </tr>\n",
       "    <tr>\n",
       "      <th>34</th>\n",
       "      <td>Vehicle Misplaced</td>\n",
       "      <td>59</td>\n",
       "      <td>0.043167</td>\n",
       "    </tr>\n",
       "    <tr>\n",
       "      <th>33</th>\n",
       "      <td>Suicide</td>\n",
       "      <td>79</td>\n",
       "      <td>0.057801</td>\n",
       "    </tr>\n",
       "    <tr>\n",
       "      <th>32</th>\n",
       "      <td>Vehicle Impounded</td>\n",
       "      <td>93</td>\n",
       "      <td>0.068044</td>\n",
       "    </tr>\n",
       "    <tr>\n",
       "      <th>31</th>\n",
       "      <td>Sex Offense</td>\n",
       "      <td>129</td>\n",
       "      <td>0.094383</td>\n",
       "    </tr>\n",
       "    <tr>\n",
       "      <th>30</th>\n",
       "      <td>Embezzlement</td>\n",
       "      <td>140</td>\n",
       "      <td>0.102431</td>\n",
       "    </tr>\n",
       "    <tr>\n",
       "      <th>29</th>\n",
       "      <td>Fire Report</td>\n",
       "      <td>247</td>\n",
       "      <td>0.180718</td>\n",
       "    </tr>\n",
       "    <tr>\n",
       "      <th>28</th>\n",
       "      <td>Forgery And Counterfeiting</td>\n",
       "      <td>367</td>\n",
       "      <td>0.268516</td>\n",
       "    </tr>\n",
       "    <tr>\n",
       "      <th>27</th>\n",
       "      <td>Traffic Collision</td>\n",
       "      <td>371</td>\n",
       "      <td>0.271443</td>\n",
       "    </tr>\n",
       "    <tr>\n",
       "      <th>26</th>\n",
       "      <td>Arson</td>\n",
       "      <td>381</td>\n",
       "      <td>0.278759</td>\n",
       "    </tr>\n",
       "    <tr>\n",
       "      <th>25</th>\n",
       "      <td>Vandalism</td>\n",
       "      <td>397</td>\n",
       "      <td>0.290466</td>\n",
       "    </tr>\n",
       "    <tr>\n",
       "      <th>24</th>\n",
       "      <td>Case Closure</td>\n",
       "      <td>408</td>\n",
       "      <td>0.298514</td>\n",
       "    </tr>\n",
       "    <tr>\n",
       "      <th>23</th>\n",
       "      <td>Courtesy Report</td>\n",
       "      <td>439</td>\n",
       "      <td>0.321195</td>\n",
       "    </tr>\n",
       "    <tr>\n",
       "      <th>22</th>\n",
       "      <td>Stolen Property</td>\n",
       "      <td>597</td>\n",
       "      <td>0.436796</td>\n",
       "    </tr>\n",
       "    <tr>\n",
       "      <th>21</th>\n",
       "      <td>Weapons Carrying Etc</td>\n",
       "      <td>779</td>\n",
       "      <td>0.569957</td>\n",
       "    </tr>\n",
       "    <tr>\n",
       "      <th>20</th>\n",
       "      <td>Traffic Violation Arrest</td>\n",
       "      <td>875</td>\n",
       "      <td>0.640195</td>\n",
       "    </tr>\n",
       "    <tr>\n",
       "      <th>19</th>\n",
       "      <td>Weapons Offense</td>\n",
       "      <td>1071</td>\n",
       "      <td>0.783599</td>\n",
       "    </tr>\n",
       "    <tr>\n",
       "      <th>18</th>\n",
       "      <td>Other Offenses</td>\n",
       "      <td>1199</td>\n",
       "      <td>0.877251</td>\n",
       "    </tr>\n",
       "    <tr>\n",
       "      <th>17</th>\n",
       "      <td>Offences Against The Family And Children</td>\n",
       "      <td>1673</td>\n",
       "      <td>1.224054</td>\n",
       "    </tr>\n",
       "    <tr>\n",
       "      <th>16</th>\n",
       "      <td>Miscellaneous Investigation</td>\n",
       "      <td>1757</td>\n",
       "      <td>1.285513</td>\n",
       "    </tr>\n",
       "    <tr>\n",
       "      <th>15</th>\n",
       "      <td>Disorderly Conduct</td>\n",
       "      <td>2144</td>\n",
       "      <td>1.568662</td>\n",
       "    </tr>\n",
       "    <tr>\n",
       "      <th>14</th>\n",
       "      <td>Missing Person</td>\n",
       "      <td>2645</td>\n",
       "      <td>1.935220</td>\n",
       "    </tr>\n",
       "    <tr>\n",
       "      <th>13</th>\n",
       "      <td>Suspicious Occ</td>\n",
       "      <td>2698</td>\n",
       "      <td>1.973997</td>\n",
       "    </tr>\n",
       "    <tr>\n",
       "      <th>12</th>\n",
       "      <td>Robbery</td>\n",
       "      <td>2937</td>\n",
       "      <td>2.148862</td>\n",
       "    </tr>\n",
       "    <tr>\n",
       "      <th>11</th>\n",
       "      <td>Warrant</td>\n",
       "      <td>3077</td>\n",
       "      <td>2.251293</td>\n",
       "    </tr>\n",
       "    <tr>\n",
       "      <th>10</th>\n",
       "      <td>Lost Property</td>\n",
       "      <td>3567</td>\n",
       "      <td>2.609803</td>\n",
       "    </tr>\n",
       "    <tr>\n",
       "      <th>9</th>\n",
       "      <td>Drug Offense</td>\n",
       "      <td>4282</td>\n",
       "      <td>3.132934</td>\n",
       "    </tr>\n",
       "    <tr>\n",
       "      <th>8</th>\n",
       "      <td>Fraud</td>\n",
       "      <td>5092</td>\n",
       "      <td>3.725572</td>\n",
       "    </tr>\n",
       "    <tr>\n",
       "      <th>7</th>\n",
       "      <td>Recovered Vehicle</td>\n",
       "      <td>6164</td>\n",
       "      <td>4.509903</td>\n",
       "    </tr>\n",
       "    <tr>\n",
       "      <th>6</th>\n",
       "      <td>Burglary</td>\n",
       "      <td>7057</td>\n",
       "      <td>5.163268</td>\n",
       "    </tr>\n",
       "    <tr>\n",
       "      <th>5</th>\n",
       "      <td>Non-Criminal</td>\n",
       "      <td>7448</td>\n",
       "      <td>5.449344</td>\n",
       "    </tr>\n",
       "    <tr>\n",
       "      <th>4</th>\n",
       "      <td>Motor Vehicle Theft</td>\n",
       "      <td>8591</td>\n",
       "      <td>6.285622</td>\n",
       "    </tr>\n",
       "    <tr>\n",
       "      <th>3</th>\n",
       "      <td>Assault</td>\n",
       "      <td>8703</td>\n",
       "      <td>6.367567</td>\n",
       "    </tr>\n",
       "    <tr>\n",
       "      <th>2</th>\n",
       "      <td>Malicious Mischief</td>\n",
       "      <td>9114</td>\n",
       "      <td>6.668276</td>\n",
       "    </tr>\n",
       "    <tr>\n",
       "      <th>1</th>\n",
       "      <td>Other</td>\n",
       "      <td>9478</td>\n",
       "      <td>6.934598</td>\n",
       "    </tr>\n",
       "    <tr>\n",
       "      <th>0</th>\n",
       "      <td>Larceny Theft</td>\n",
       "      <td>42255</td>\n",
       "      <td>30.915955</td>\n",
       "    </tr>\n",
       "  </tbody>\n",
       "</table>\n",
       "</div>"
      ],
      "text/plain": [
       "                                    category  count       prop\n",
       "42                           Civil Sidewalks      2   0.001463\n",
       "41                                  Gambling      7   0.005122\n",
       "40    Human Trafficking, Commercial Sex Acts     10   0.007317\n",
       "39                                      Rape     30   0.021950\n",
       "38                                  Homicide     37   0.027071\n",
       "37                               Liquor Laws     41   0.029998\n",
       "36                              Prostitution     47   0.034388\n",
       "35                            Drug Violation     58   0.042436\n",
       "34                         Vehicle Misplaced     59   0.043167\n",
       "33                                   Suicide     79   0.057801\n",
       "32                         Vehicle Impounded     93   0.068044\n",
       "31                               Sex Offense    129   0.094383\n",
       "30                              Embezzlement    140   0.102431\n",
       "29                               Fire Report    247   0.180718\n",
       "28                Forgery And Counterfeiting    367   0.268516\n",
       "27                         Traffic Collision    371   0.271443\n",
       "26                                     Arson    381   0.278759\n",
       "25                                 Vandalism    397   0.290466\n",
       "24                              Case Closure    408   0.298514\n",
       "23                           Courtesy Report    439   0.321195\n",
       "22                           Stolen Property    597   0.436796\n",
       "21                      Weapons Carrying Etc    779   0.569957\n",
       "20                  Traffic Violation Arrest    875   0.640195\n",
       "19                           Weapons Offense   1071   0.783599\n",
       "18                            Other Offenses   1199   0.877251\n",
       "17  Offences Against The Family And Children   1673   1.224054\n",
       "16               Miscellaneous Investigation   1757   1.285513\n",
       "15                        Disorderly Conduct   2144   1.568662\n",
       "14                            Missing Person   2645   1.935220\n",
       "13                            Suspicious Occ   2698   1.973997\n",
       "12                                   Robbery   2937   2.148862\n",
       "11                                   Warrant   3077   2.251293\n",
       "10                             Lost Property   3567   2.609803\n",
       "9                               Drug Offense   4282   3.132934\n",
       "8                                      Fraud   5092   3.725572\n",
       "7                          Recovered Vehicle   6164   4.509903\n",
       "6                                   Burglary   7057   5.163268\n",
       "5                               Non-Criminal   7448   5.449344\n",
       "4                        Motor Vehicle Theft   8591   6.285622\n",
       "3                                    Assault   8703   6.367567\n",
       "2                         Malicious Mischief   9114   6.668276\n",
       "1                                      Other   9478   6.934598\n",
       "0                              Larceny Theft  42255  30.915955"
      ]
     },
     "execution_count": 88,
     "metadata": {},
     "output_type": "execute_result"
    }
   ],
   "source": [
    "by_cat = pd.DataFrame(incidents.incident_category_new.value_counts())\n",
    "by_cat.reset_index(inplace=True)\n",
    "by_cat.columns = ['category', 'count']\n",
    "by_cat['prop'] = by_cat['count']/incidents.shape[0]*100\n",
    "by_cat.sort_values(by='prop', inplace=True)\n",
    "# by_cat"
   ]
  },
  {
   "cell_type": "code",
   "execution_count": 112,
   "id": "119be619-3b38-4e31-978f-c902e93a65b8",
   "metadata": {
    "execution": {
     "iopub.execute_input": "2023-08-27T09:25:12.078144Z",
     "iopub.status.busy": "2023-08-27T09:25:12.077758Z",
     "iopub.status.idle": "2023-08-27T09:25:12.120478Z",
     "shell.execute_reply": "2023-08-27T09:25:12.119743Z",
     "shell.execute_reply.started": "2023-08-27T09:25:12.078119Z"
    },
    "scrolled": true,
    "tags": []
   },
   "outputs": [
    {
     "data": {
      "application/vnd.plotly.v1+json": {
       "config": {
        "plotlyServerURL": "https://plot.ly"
       },
       "data": [
        {
         "alignmentgroup": "True",
         "customdata": [
          [
           1071
          ],
          [
           1199
          ],
          [
           1673
          ],
          [
           1757
          ],
          [
           2144
          ],
          [
           2645
          ],
          [
           2698
          ],
          [
           2937
          ],
          [
           3077
          ],
          [
           3567
          ],
          [
           4282
          ],
          [
           5092
          ],
          [
           6164
          ],
          [
           7057
          ],
          [
           7448
          ],
          [
           8591
          ],
          [
           8703
          ],
          [
           9114
          ],
          [
           9478
          ],
          [
           42255
          ]
         ],
         "hovertemplate": "Percentage (%)=%{x:.2f}<br>Category=%{y}<br>count=%{customdata[0]:,}<extra></extra>",
         "legendgroup": "",
         "marker": {
          "color": "#1F77B4",
          "pattern": {
           "shape": ""
          }
         },
         "name": "",
         "offsetgroup": "",
         "orientation": "h",
         "showlegend": false,
         "textposition": "auto",
         "type": "bar",
         "x": [
          0.7835992888342589,
          0.8772507444559071,
          1.2240537910548226,
          1.2855125588065293,
          1.5686618816626061,
          1.9352195321817132,
          1.9739970880250517,
          2.148861915318598,
          2.2512931949047754,
          2.609802673456397,
          3.132933851342947,
          3.7255719689486892,
          4.509902909779992,
          5.163268143140397,
          5.44934407398465,
          6.2856223066060855,
          6.367567330275029,
          6.668276301060164,
          6.934597627984225,
          30.915955135099544
         ],
         "xaxis": "x",
         "y": [
          "Weapons Offense",
          "Other Offenses",
          "Offences Against The Family And Children",
          "Miscellaneous Investigation",
          "Disorderly Conduct",
          "Missing Person",
          "Suspicious Occ",
          "Robbery",
          "Warrant",
          "Lost Property",
          "Drug Offense",
          "Fraud",
          "Recovered Vehicle",
          "Burglary",
          "Non-Criminal",
          "Motor Vehicle Theft",
          "Assault",
          "Malicious Mischief",
          "Other",
          "Larceny Theft"
         ],
         "yaxis": "y"
        }
       ],
       "layout": {
        "barmode": "relative",
        "legend": {
         "tracegroupgap": 0
        },
        "template": {
         "data": {
          "bar": [
           {
            "error_x": {
             "color": "rgb(36,36,36)"
            },
            "error_y": {
             "color": "rgb(36,36,36)"
            },
            "marker": {
             "line": {
              "color": "white",
              "width": 0.5
             },
             "pattern": {
              "fillmode": "overlay",
              "size": 10,
              "solidity": 0.2
             }
            },
            "type": "bar"
           }
          ],
          "barpolar": [
           {
            "marker": {
             "line": {
              "color": "white",
              "width": 0.5
             },
             "pattern": {
              "fillmode": "overlay",
              "size": 10,
              "solidity": 0.2
             }
            },
            "type": "barpolar"
           }
          ],
          "carpet": [
           {
            "aaxis": {
             "endlinecolor": "rgb(36,36,36)",
             "gridcolor": "white",
             "linecolor": "white",
             "minorgridcolor": "white",
             "startlinecolor": "rgb(36,36,36)"
            },
            "baxis": {
             "endlinecolor": "rgb(36,36,36)",
             "gridcolor": "white",
             "linecolor": "white",
             "minorgridcolor": "white",
             "startlinecolor": "rgb(36,36,36)"
            },
            "type": "carpet"
           }
          ],
          "choropleth": [
           {
            "colorbar": {
             "outlinewidth": 1,
             "tickcolor": "rgb(36,36,36)",
             "ticks": "outside"
            },
            "type": "choropleth"
           }
          ],
          "contour": [
           {
            "colorbar": {
             "outlinewidth": 1,
             "tickcolor": "rgb(36,36,36)",
             "ticks": "outside"
            },
            "colorscale": [
             [
              0,
              "#440154"
             ],
             [
              0.1111111111111111,
              "#482878"
             ],
             [
              0.2222222222222222,
              "#3e4989"
             ],
             [
              0.3333333333333333,
              "#31688e"
             ],
             [
              0.4444444444444444,
              "#26828e"
             ],
             [
              0.5555555555555556,
              "#1f9e89"
             ],
             [
              0.6666666666666666,
              "#35b779"
             ],
             [
              0.7777777777777778,
              "#6ece58"
             ],
             [
              0.8888888888888888,
              "#b5de2b"
             ],
             [
              1,
              "#fde725"
             ]
            ],
            "type": "contour"
           }
          ],
          "contourcarpet": [
           {
            "colorbar": {
             "outlinewidth": 1,
             "tickcolor": "rgb(36,36,36)",
             "ticks": "outside"
            },
            "type": "contourcarpet"
           }
          ],
          "heatmap": [
           {
            "colorbar": {
             "outlinewidth": 1,
             "tickcolor": "rgb(36,36,36)",
             "ticks": "outside"
            },
            "colorscale": [
             [
              0,
              "#440154"
             ],
             [
              0.1111111111111111,
              "#482878"
             ],
             [
              0.2222222222222222,
              "#3e4989"
             ],
             [
              0.3333333333333333,
              "#31688e"
             ],
             [
              0.4444444444444444,
              "#26828e"
             ],
             [
              0.5555555555555556,
              "#1f9e89"
             ],
             [
              0.6666666666666666,
              "#35b779"
             ],
             [
              0.7777777777777778,
              "#6ece58"
             ],
             [
              0.8888888888888888,
              "#b5de2b"
             ],
             [
              1,
              "#fde725"
             ]
            ],
            "type": "heatmap"
           }
          ],
          "heatmapgl": [
           {
            "colorbar": {
             "outlinewidth": 1,
             "tickcolor": "rgb(36,36,36)",
             "ticks": "outside"
            },
            "colorscale": [
             [
              0,
              "#440154"
             ],
             [
              0.1111111111111111,
              "#482878"
             ],
             [
              0.2222222222222222,
              "#3e4989"
             ],
             [
              0.3333333333333333,
              "#31688e"
             ],
             [
              0.4444444444444444,
              "#26828e"
             ],
             [
              0.5555555555555556,
              "#1f9e89"
             ],
             [
              0.6666666666666666,
              "#35b779"
             ],
             [
              0.7777777777777778,
              "#6ece58"
             ],
             [
              0.8888888888888888,
              "#b5de2b"
             ],
             [
              1,
              "#fde725"
             ]
            ],
            "type": "heatmapgl"
           }
          ],
          "histogram": [
           {
            "marker": {
             "line": {
              "color": "white",
              "width": 0.6
             }
            },
            "type": "histogram"
           }
          ],
          "histogram2d": [
           {
            "colorbar": {
             "outlinewidth": 1,
             "tickcolor": "rgb(36,36,36)",
             "ticks": "outside"
            },
            "colorscale": [
             [
              0,
              "#440154"
             ],
             [
              0.1111111111111111,
              "#482878"
             ],
             [
              0.2222222222222222,
              "#3e4989"
             ],
             [
              0.3333333333333333,
              "#31688e"
             ],
             [
              0.4444444444444444,
              "#26828e"
             ],
             [
              0.5555555555555556,
              "#1f9e89"
             ],
             [
              0.6666666666666666,
              "#35b779"
             ],
             [
              0.7777777777777778,
              "#6ece58"
             ],
             [
              0.8888888888888888,
              "#b5de2b"
             ],
             [
              1,
              "#fde725"
             ]
            ],
            "type": "histogram2d"
           }
          ],
          "histogram2dcontour": [
           {
            "colorbar": {
             "outlinewidth": 1,
             "tickcolor": "rgb(36,36,36)",
             "ticks": "outside"
            },
            "colorscale": [
             [
              0,
              "#440154"
             ],
             [
              0.1111111111111111,
              "#482878"
             ],
             [
              0.2222222222222222,
              "#3e4989"
             ],
             [
              0.3333333333333333,
              "#31688e"
             ],
             [
              0.4444444444444444,
              "#26828e"
             ],
             [
              0.5555555555555556,
              "#1f9e89"
             ],
             [
              0.6666666666666666,
              "#35b779"
             ],
             [
              0.7777777777777778,
              "#6ece58"
             ],
             [
              0.8888888888888888,
              "#b5de2b"
             ],
             [
              1,
              "#fde725"
             ]
            ],
            "type": "histogram2dcontour"
           }
          ],
          "mesh3d": [
           {
            "colorbar": {
             "outlinewidth": 1,
             "tickcolor": "rgb(36,36,36)",
             "ticks": "outside"
            },
            "type": "mesh3d"
           }
          ],
          "parcoords": [
           {
            "line": {
             "colorbar": {
              "outlinewidth": 1,
              "tickcolor": "rgb(36,36,36)",
              "ticks": "outside"
             }
            },
            "type": "parcoords"
           }
          ],
          "pie": [
           {
            "automargin": true,
            "type": "pie"
           }
          ],
          "scatter": [
           {
            "fillpattern": {
             "fillmode": "overlay",
             "size": 10,
             "solidity": 0.2
            },
            "type": "scatter"
           }
          ],
          "scatter3d": [
           {
            "line": {
             "colorbar": {
              "outlinewidth": 1,
              "tickcolor": "rgb(36,36,36)",
              "ticks": "outside"
             }
            },
            "marker": {
             "colorbar": {
              "outlinewidth": 1,
              "tickcolor": "rgb(36,36,36)",
              "ticks": "outside"
             }
            },
            "type": "scatter3d"
           }
          ],
          "scattercarpet": [
           {
            "marker": {
             "colorbar": {
              "outlinewidth": 1,
              "tickcolor": "rgb(36,36,36)",
              "ticks": "outside"
             }
            },
            "type": "scattercarpet"
           }
          ],
          "scattergeo": [
           {
            "marker": {
             "colorbar": {
              "outlinewidth": 1,
              "tickcolor": "rgb(36,36,36)",
              "ticks": "outside"
             }
            },
            "type": "scattergeo"
           }
          ],
          "scattergl": [
           {
            "marker": {
             "colorbar": {
              "outlinewidth": 1,
              "tickcolor": "rgb(36,36,36)",
              "ticks": "outside"
             }
            },
            "type": "scattergl"
           }
          ],
          "scattermapbox": [
           {
            "marker": {
             "colorbar": {
              "outlinewidth": 1,
              "tickcolor": "rgb(36,36,36)",
              "ticks": "outside"
             }
            },
            "type": "scattermapbox"
           }
          ],
          "scatterpolar": [
           {
            "marker": {
             "colorbar": {
              "outlinewidth": 1,
              "tickcolor": "rgb(36,36,36)",
              "ticks": "outside"
             }
            },
            "type": "scatterpolar"
           }
          ],
          "scatterpolargl": [
           {
            "marker": {
             "colorbar": {
              "outlinewidth": 1,
              "tickcolor": "rgb(36,36,36)",
              "ticks": "outside"
             }
            },
            "type": "scatterpolargl"
           }
          ],
          "scatterternary": [
           {
            "marker": {
             "colorbar": {
              "outlinewidth": 1,
              "tickcolor": "rgb(36,36,36)",
              "ticks": "outside"
             }
            },
            "type": "scatterternary"
           }
          ],
          "surface": [
           {
            "colorbar": {
             "outlinewidth": 1,
             "tickcolor": "rgb(36,36,36)",
             "ticks": "outside"
            },
            "colorscale": [
             [
              0,
              "#440154"
             ],
             [
              0.1111111111111111,
              "#482878"
             ],
             [
              0.2222222222222222,
              "#3e4989"
             ],
             [
              0.3333333333333333,
              "#31688e"
             ],
             [
              0.4444444444444444,
              "#26828e"
             ],
             [
              0.5555555555555556,
              "#1f9e89"
             ],
             [
              0.6666666666666666,
              "#35b779"
             ],
             [
              0.7777777777777778,
              "#6ece58"
             ],
             [
              0.8888888888888888,
              "#b5de2b"
             ],
             [
              1,
              "#fde725"
             ]
            ],
            "type": "surface"
           }
          ],
          "table": [
           {
            "cells": {
             "fill": {
              "color": "rgb(237,237,237)"
             },
             "line": {
              "color": "white"
             }
            },
            "header": {
             "fill": {
              "color": "rgb(217,217,217)"
             },
             "line": {
              "color": "white"
             }
            },
            "type": "table"
           }
          ]
         },
         "layout": {
          "annotationdefaults": {
           "arrowhead": 0,
           "arrowwidth": 1
          },
          "autotypenumbers": "strict",
          "coloraxis": {
           "colorbar": {
            "outlinewidth": 1,
            "tickcolor": "rgb(36,36,36)",
            "ticks": "outside"
           }
          },
          "colorscale": {
           "diverging": [
            [
             0,
             "rgb(103,0,31)"
            ],
            [
             0.1,
             "rgb(178,24,43)"
            ],
            [
             0.2,
             "rgb(214,96,77)"
            ],
            [
             0.3,
             "rgb(244,165,130)"
            ],
            [
             0.4,
             "rgb(253,219,199)"
            ],
            [
             0.5,
             "rgb(247,247,247)"
            ],
            [
             0.6,
             "rgb(209,229,240)"
            ],
            [
             0.7,
             "rgb(146,197,222)"
            ],
            [
             0.8,
             "rgb(67,147,195)"
            ],
            [
             0.9,
             "rgb(33,102,172)"
            ],
            [
             1,
             "rgb(5,48,97)"
            ]
           ],
           "sequential": [
            [
             0,
             "#440154"
            ],
            [
             0.1111111111111111,
             "#482878"
            ],
            [
             0.2222222222222222,
             "#3e4989"
            ],
            [
             0.3333333333333333,
             "#31688e"
            ],
            [
             0.4444444444444444,
             "#26828e"
            ],
            [
             0.5555555555555556,
             "#1f9e89"
            ],
            [
             0.6666666666666666,
             "#35b779"
            ],
            [
             0.7777777777777778,
             "#6ece58"
            ],
            [
             0.8888888888888888,
             "#b5de2b"
            ],
            [
             1,
             "#fde725"
            ]
           ],
           "sequentialminus": [
            [
             0,
             "#440154"
            ],
            [
             0.1111111111111111,
             "#482878"
            ],
            [
             0.2222222222222222,
             "#3e4989"
            ],
            [
             0.3333333333333333,
             "#31688e"
            ],
            [
             0.4444444444444444,
             "#26828e"
            ],
            [
             0.5555555555555556,
             "#1f9e89"
            ],
            [
             0.6666666666666666,
             "#35b779"
            ],
            [
             0.7777777777777778,
             "#6ece58"
            ],
            [
             0.8888888888888888,
             "#b5de2b"
            ],
            [
             1,
             "#fde725"
            ]
           ]
          },
          "colorway": [
           "#1F77B4",
           "#FF7F0E",
           "#2CA02C",
           "#D62728",
           "#9467BD",
           "#8C564B",
           "#E377C2",
           "#7F7F7F",
           "#BCBD22",
           "#17BECF"
          ],
          "font": {
           "color": "rgb(36,36,36)"
          },
          "geo": {
           "bgcolor": "white",
           "lakecolor": "white",
           "landcolor": "white",
           "showlakes": true,
           "showland": true,
           "subunitcolor": "white"
          },
          "hoverlabel": {
           "align": "left"
          },
          "hovermode": "closest",
          "mapbox": {
           "style": "light"
          },
          "paper_bgcolor": "white",
          "plot_bgcolor": "white",
          "polar": {
           "angularaxis": {
            "gridcolor": "rgb(232,232,232)",
            "linecolor": "rgb(36,36,36)",
            "showgrid": false,
            "showline": true,
            "ticks": "outside"
           },
           "bgcolor": "white",
           "radialaxis": {
            "gridcolor": "rgb(232,232,232)",
            "linecolor": "rgb(36,36,36)",
            "showgrid": false,
            "showline": true,
            "ticks": "outside"
           }
          },
          "scene": {
           "xaxis": {
            "backgroundcolor": "white",
            "gridcolor": "rgb(232,232,232)",
            "gridwidth": 2,
            "linecolor": "rgb(36,36,36)",
            "showbackground": true,
            "showgrid": false,
            "showline": true,
            "ticks": "outside",
            "zeroline": false,
            "zerolinecolor": "rgb(36,36,36)"
           },
           "yaxis": {
            "backgroundcolor": "white",
            "gridcolor": "rgb(232,232,232)",
            "gridwidth": 2,
            "linecolor": "rgb(36,36,36)",
            "showbackground": true,
            "showgrid": false,
            "showline": true,
            "ticks": "outside",
            "zeroline": false,
            "zerolinecolor": "rgb(36,36,36)"
           },
           "zaxis": {
            "backgroundcolor": "white",
            "gridcolor": "rgb(232,232,232)",
            "gridwidth": 2,
            "linecolor": "rgb(36,36,36)",
            "showbackground": true,
            "showgrid": false,
            "showline": true,
            "ticks": "outside",
            "zeroline": false,
            "zerolinecolor": "rgb(36,36,36)"
           }
          },
          "shapedefaults": {
           "fillcolor": "black",
           "line": {
            "width": 0
           },
           "opacity": 0.3
          },
          "ternary": {
           "aaxis": {
            "gridcolor": "rgb(232,232,232)",
            "linecolor": "rgb(36,36,36)",
            "showgrid": false,
            "showline": true,
            "ticks": "outside"
           },
           "baxis": {
            "gridcolor": "rgb(232,232,232)",
            "linecolor": "rgb(36,36,36)",
            "showgrid": false,
            "showline": true,
            "ticks": "outside"
           },
           "bgcolor": "white",
           "caxis": {
            "gridcolor": "rgb(232,232,232)",
            "linecolor": "rgb(36,36,36)",
            "showgrid": false,
            "showline": true,
            "ticks": "outside"
           }
          },
          "title": {
           "x": 0.05
          },
          "xaxis": {
           "automargin": true,
           "gridcolor": "rgb(232,232,232)",
           "linecolor": "rgb(36,36,36)",
           "showgrid": false,
           "showline": true,
           "ticks": "outside",
           "title": {
            "standoff": 15
           },
           "zeroline": false,
           "zerolinecolor": "rgb(36,36,36)"
          },
          "yaxis": {
           "automargin": true,
           "gridcolor": "rgb(232,232,232)",
           "linecolor": "rgb(36,36,36)",
           "showgrid": false,
           "showline": true,
           "ticks": "outside",
           "title": {
            "standoff": 15
           },
           "zeroline": false,
           "zerolinecolor": "rgb(36,36,36)"
          }
         }
        },
        "title": {
         "text": "Proportion of top 20 incidents by category"
        },
        "xaxis": {
         "anchor": "y",
         "domain": [
          0,
          1
         ],
         "title": {
          "text": "Percentage (%)"
         }
        },
        "yaxis": {
         "anchor": "x",
         "domain": [
          0,
          1
         ],
         "title": {
          "text": "Category"
         }
        }
       }
      },
      "text/html": [
       "<div>                            <div id=\"c87b971a-57b2-44cd-b48e-48b66312dd31\" class=\"plotly-graph-div\" style=\"height:525px; width:100%;\"></div>            <script type=\"text/javascript\">                require([\"plotly\"], function(Plotly) {                    window.PLOTLYENV=window.PLOTLYENV || {};                                    if (document.getElementById(\"c87b971a-57b2-44cd-b48e-48b66312dd31\")) {                    Plotly.newPlot(                        \"c87b971a-57b2-44cd-b48e-48b66312dd31\",                        [{\"alignmentgroup\":\"True\",\"customdata\":[[1071],[1199],[1673],[1757],[2144],[2645],[2698],[2937],[3077],[3567],[4282],[5092],[6164],[7057],[7448],[8591],[8703],[9114],[9478],[42255]],\"hovertemplate\":\"Percentage (%)=%{x:.2f}\\u003cbr\\u003eCategory=%{y}\\u003cbr\\u003ecount=%{customdata[0]:,}\\u003cextra\\u003e\\u003c\\u002fextra\\u003e\",\"legendgroup\":\"\",\"marker\":{\"color\":\"#1F77B4\",\"pattern\":{\"shape\":\"\"}},\"name\":\"\",\"offsetgroup\":\"\",\"orientation\":\"h\",\"showlegend\":false,\"textposition\":\"auto\",\"x\":[0.7835992888342589,0.8772507444559071,1.2240537910548226,1.2855125588065293,1.5686618816626061,1.9352195321817132,1.9739970880250517,2.148861915318598,2.2512931949047754,2.609802673456397,3.132933851342947,3.7255719689486892,4.509902909779992,5.163268143140397,5.44934407398465,6.2856223066060855,6.367567330275029,6.668276301060164,6.934597627984225,30.915955135099544],\"xaxis\":\"x\",\"y\":[\"Weapons Offense\",\"Other Offenses\",\"Offences Against The Family And Children\",\"Miscellaneous Investigation\",\"Disorderly Conduct\",\"Missing Person\",\"Suspicious Occ\",\"Robbery\",\"Warrant\",\"Lost Property\",\"Drug Offense\",\"Fraud\",\"Recovered Vehicle\",\"Burglary\",\"Non-Criminal\",\"Motor Vehicle Theft\",\"Assault\",\"Malicious Mischief\",\"Other\",\"Larceny Theft\"],\"yaxis\":\"y\",\"type\":\"bar\"}],                        {\"template\":{\"data\":{\"barpolar\":[{\"marker\":{\"line\":{\"color\":\"white\",\"width\":0.5},\"pattern\":{\"fillmode\":\"overlay\",\"size\":10,\"solidity\":0.2}},\"type\":\"barpolar\"}],\"bar\":[{\"error_x\":{\"color\":\"rgb(36,36,36)\"},\"error_y\":{\"color\":\"rgb(36,36,36)\"},\"marker\":{\"line\":{\"color\":\"white\",\"width\":0.5},\"pattern\":{\"fillmode\":\"overlay\",\"size\":10,\"solidity\":0.2}},\"type\":\"bar\"}],\"carpet\":[{\"aaxis\":{\"endlinecolor\":\"rgb(36,36,36)\",\"gridcolor\":\"white\",\"linecolor\":\"white\",\"minorgridcolor\":\"white\",\"startlinecolor\":\"rgb(36,36,36)\"},\"baxis\":{\"endlinecolor\":\"rgb(36,36,36)\",\"gridcolor\":\"white\",\"linecolor\":\"white\",\"minorgridcolor\":\"white\",\"startlinecolor\":\"rgb(36,36,36)\"},\"type\":\"carpet\"}],\"choropleth\":[{\"colorbar\":{\"outlinewidth\":1,\"tickcolor\":\"rgb(36,36,36)\",\"ticks\":\"outside\"},\"type\":\"choropleth\"}],\"contourcarpet\":[{\"colorbar\":{\"outlinewidth\":1,\"tickcolor\":\"rgb(36,36,36)\",\"ticks\":\"outside\"},\"type\":\"contourcarpet\"}],\"contour\":[{\"colorbar\":{\"outlinewidth\":1,\"tickcolor\":\"rgb(36,36,36)\",\"ticks\":\"outside\"},\"colorscale\":[[0.0,\"#440154\"],[0.1111111111111111,\"#482878\"],[0.2222222222222222,\"#3e4989\"],[0.3333333333333333,\"#31688e\"],[0.4444444444444444,\"#26828e\"],[0.5555555555555556,\"#1f9e89\"],[0.6666666666666666,\"#35b779\"],[0.7777777777777778,\"#6ece58\"],[0.8888888888888888,\"#b5de2b\"],[1.0,\"#fde725\"]],\"type\":\"contour\"}],\"heatmapgl\":[{\"colorbar\":{\"outlinewidth\":1,\"tickcolor\":\"rgb(36,36,36)\",\"ticks\":\"outside\"},\"colorscale\":[[0.0,\"#440154\"],[0.1111111111111111,\"#482878\"],[0.2222222222222222,\"#3e4989\"],[0.3333333333333333,\"#31688e\"],[0.4444444444444444,\"#26828e\"],[0.5555555555555556,\"#1f9e89\"],[0.6666666666666666,\"#35b779\"],[0.7777777777777778,\"#6ece58\"],[0.8888888888888888,\"#b5de2b\"],[1.0,\"#fde725\"]],\"type\":\"heatmapgl\"}],\"heatmap\":[{\"colorbar\":{\"outlinewidth\":1,\"tickcolor\":\"rgb(36,36,36)\",\"ticks\":\"outside\"},\"colorscale\":[[0.0,\"#440154\"],[0.1111111111111111,\"#482878\"],[0.2222222222222222,\"#3e4989\"],[0.3333333333333333,\"#31688e\"],[0.4444444444444444,\"#26828e\"],[0.5555555555555556,\"#1f9e89\"],[0.6666666666666666,\"#35b779\"],[0.7777777777777778,\"#6ece58\"],[0.8888888888888888,\"#b5de2b\"],[1.0,\"#fde725\"]],\"type\":\"heatmap\"}],\"histogram2dcontour\":[{\"colorbar\":{\"outlinewidth\":1,\"tickcolor\":\"rgb(36,36,36)\",\"ticks\":\"outside\"},\"colorscale\":[[0.0,\"#440154\"],[0.1111111111111111,\"#482878\"],[0.2222222222222222,\"#3e4989\"],[0.3333333333333333,\"#31688e\"],[0.4444444444444444,\"#26828e\"],[0.5555555555555556,\"#1f9e89\"],[0.6666666666666666,\"#35b779\"],[0.7777777777777778,\"#6ece58\"],[0.8888888888888888,\"#b5de2b\"],[1.0,\"#fde725\"]],\"type\":\"histogram2dcontour\"}],\"histogram2d\":[{\"colorbar\":{\"outlinewidth\":1,\"tickcolor\":\"rgb(36,36,36)\",\"ticks\":\"outside\"},\"colorscale\":[[0.0,\"#440154\"],[0.1111111111111111,\"#482878\"],[0.2222222222222222,\"#3e4989\"],[0.3333333333333333,\"#31688e\"],[0.4444444444444444,\"#26828e\"],[0.5555555555555556,\"#1f9e89\"],[0.6666666666666666,\"#35b779\"],[0.7777777777777778,\"#6ece58\"],[0.8888888888888888,\"#b5de2b\"],[1.0,\"#fde725\"]],\"type\":\"histogram2d\"}],\"histogram\":[{\"marker\":{\"line\":{\"color\":\"white\",\"width\":0.6}},\"type\":\"histogram\"}],\"mesh3d\":[{\"colorbar\":{\"outlinewidth\":1,\"tickcolor\":\"rgb(36,36,36)\",\"ticks\":\"outside\"},\"type\":\"mesh3d\"}],\"parcoords\":[{\"line\":{\"colorbar\":{\"outlinewidth\":1,\"tickcolor\":\"rgb(36,36,36)\",\"ticks\":\"outside\"}},\"type\":\"parcoords\"}],\"pie\":[{\"automargin\":true,\"type\":\"pie\"}],\"scatter3d\":[{\"line\":{\"colorbar\":{\"outlinewidth\":1,\"tickcolor\":\"rgb(36,36,36)\",\"ticks\":\"outside\"}},\"marker\":{\"colorbar\":{\"outlinewidth\":1,\"tickcolor\":\"rgb(36,36,36)\",\"ticks\":\"outside\"}},\"type\":\"scatter3d\"}],\"scattercarpet\":[{\"marker\":{\"colorbar\":{\"outlinewidth\":1,\"tickcolor\":\"rgb(36,36,36)\",\"ticks\":\"outside\"}},\"type\":\"scattercarpet\"}],\"scattergeo\":[{\"marker\":{\"colorbar\":{\"outlinewidth\":1,\"tickcolor\":\"rgb(36,36,36)\",\"ticks\":\"outside\"}},\"type\":\"scattergeo\"}],\"scattergl\":[{\"marker\":{\"colorbar\":{\"outlinewidth\":1,\"tickcolor\":\"rgb(36,36,36)\",\"ticks\":\"outside\"}},\"type\":\"scattergl\"}],\"scattermapbox\":[{\"marker\":{\"colorbar\":{\"outlinewidth\":1,\"tickcolor\":\"rgb(36,36,36)\",\"ticks\":\"outside\"}},\"type\":\"scattermapbox\"}],\"scatterpolargl\":[{\"marker\":{\"colorbar\":{\"outlinewidth\":1,\"tickcolor\":\"rgb(36,36,36)\",\"ticks\":\"outside\"}},\"type\":\"scatterpolargl\"}],\"scatterpolar\":[{\"marker\":{\"colorbar\":{\"outlinewidth\":1,\"tickcolor\":\"rgb(36,36,36)\",\"ticks\":\"outside\"}},\"type\":\"scatterpolar\"}],\"scatter\":[{\"fillpattern\":{\"fillmode\":\"overlay\",\"size\":10,\"solidity\":0.2},\"type\":\"scatter\"}],\"scatterternary\":[{\"marker\":{\"colorbar\":{\"outlinewidth\":1,\"tickcolor\":\"rgb(36,36,36)\",\"ticks\":\"outside\"}},\"type\":\"scatterternary\"}],\"surface\":[{\"colorbar\":{\"outlinewidth\":1,\"tickcolor\":\"rgb(36,36,36)\",\"ticks\":\"outside\"},\"colorscale\":[[0.0,\"#440154\"],[0.1111111111111111,\"#482878\"],[0.2222222222222222,\"#3e4989\"],[0.3333333333333333,\"#31688e\"],[0.4444444444444444,\"#26828e\"],[0.5555555555555556,\"#1f9e89\"],[0.6666666666666666,\"#35b779\"],[0.7777777777777778,\"#6ece58\"],[0.8888888888888888,\"#b5de2b\"],[1.0,\"#fde725\"]],\"type\":\"surface\"}],\"table\":[{\"cells\":{\"fill\":{\"color\":\"rgb(237,237,237)\"},\"line\":{\"color\":\"white\"}},\"header\":{\"fill\":{\"color\":\"rgb(217,217,217)\"},\"line\":{\"color\":\"white\"}},\"type\":\"table\"}]},\"layout\":{\"annotationdefaults\":{\"arrowhead\":0,\"arrowwidth\":1},\"autotypenumbers\":\"strict\",\"coloraxis\":{\"colorbar\":{\"outlinewidth\":1,\"tickcolor\":\"rgb(36,36,36)\",\"ticks\":\"outside\"}},\"colorscale\":{\"diverging\":[[0.0,\"rgb(103,0,31)\"],[0.1,\"rgb(178,24,43)\"],[0.2,\"rgb(214,96,77)\"],[0.3,\"rgb(244,165,130)\"],[0.4,\"rgb(253,219,199)\"],[0.5,\"rgb(247,247,247)\"],[0.6,\"rgb(209,229,240)\"],[0.7,\"rgb(146,197,222)\"],[0.8,\"rgb(67,147,195)\"],[0.9,\"rgb(33,102,172)\"],[1.0,\"rgb(5,48,97)\"]],\"sequential\":[[0.0,\"#440154\"],[0.1111111111111111,\"#482878\"],[0.2222222222222222,\"#3e4989\"],[0.3333333333333333,\"#31688e\"],[0.4444444444444444,\"#26828e\"],[0.5555555555555556,\"#1f9e89\"],[0.6666666666666666,\"#35b779\"],[0.7777777777777778,\"#6ece58\"],[0.8888888888888888,\"#b5de2b\"],[1.0,\"#fde725\"]],\"sequentialminus\":[[0.0,\"#440154\"],[0.1111111111111111,\"#482878\"],[0.2222222222222222,\"#3e4989\"],[0.3333333333333333,\"#31688e\"],[0.4444444444444444,\"#26828e\"],[0.5555555555555556,\"#1f9e89\"],[0.6666666666666666,\"#35b779\"],[0.7777777777777778,\"#6ece58\"],[0.8888888888888888,\"#b5de2b\"],[1.0,\"#fde725\"]]},\"colorway\":[\"#1F77B4\",\"#FF7F0E\",\"#2CA02C\",\"#D62728\",\"#9467BD\",\"#8C564B\",\"#E377C2\",\"#7F7F7F\",\"#BCBD22\",\"#17BECF\"],\"font\":{\"color\":\"rgb(36,36,36)\"},\"geo\":{\"bgcolor\":\"white\",\"lakecolor\":\"white\",\"landcolor\":\"white\",\"showlakes\":true,\"showland\":true,\"subunitcolor\":\"white\"},\"hoverlabel\":{\"align\":\"left\"},\"hovermode\":\"closest\",\"mapbox\":{\"style\":\"light\"},\"paper_bgcolor\":\"white\",\"plot_bgcolor\":\"white\",\"polar\":{\"angularaxis\":{\"gridcolor\":\"rgb(232,232,232)\",\"linecolor\":\"rgb(36,36,36)\",\"showgrid\":false,\"showline\":true,\"ticks\":\"outside\"},\"bgcolor\":\"white\",\"radialaxis\":{\"gridcolor\":\"rgb(232,232,232)\",\"linecolor\":\"rgb(36,36,36)\",\"showgrid\":false,\"showline\":true,\"ticks\":\"outside\"}},\"scene\":{\"xaxis\":{\"backgroundcolor\":\"white\",\"gridcolor\":\"rgb(232,232,232)\",\"gridwidth\":2,\"linecolor\":\"rgb(36,36,36)\",\"showbackground\":true,\"showgrid\":false,\"showline\":true,\"ticks\":\"outside\",\"zeroline\":false,\"zerolinecolor\":\"rgb(36,36,36)\"},\"yaxis\":{\"backgroundcolor\":\"white\",\"gridcolor\":\"rgb(232,232,232)\",\"gridwidth\":2,\"linecolor\":\"rgb(36,36,36)\",\"showbackground\":true,\"showgrid\":false,\"showline\":true,\"ticks\":\"outside\",\"zeroline\":false,\"zerolinecolor\":\"rgb(36,36,36)\"},\"zaxis\":{\"backgroundcolor\":\"white\",\"gridcolor\":\"rgb(232,232,232)\",\"gridwidth\":2,\"linecolor\":\"rgb(36,36,36)\",\"showbackground\":true,\"showgrid\":false,\"showline\":true,\"ticks\":\"outside\",\"zeroline\":false,\"zerolinecolor\":\"rgb(36,36,36)\"}},\"shapedefaults\":{\"fillcolor\":\"black\",\"line\":{\"width\":0},\"opacity\":0.3},\"ternary\":{\"aaxis\":{\"gridcolor\":\"rgb(232,232,232)\",\"linecolor\":\"rgb(36,36,36)\",\"showgrid\":false,\"showline\":true,\"ticks\":\"outside\"},\"baxis\":{\"gridcolor\":\"rgb(232,232,232)\",\"linecolor\":\"rgb(36,36,36)\",\"showgrid\":false,\"showline\":true,\"ticks\":\"outside\"},\"bgcolor\":\"white\",\"caxis\":{\"gridcolor\":\"rgb(232,232,232)\",\"linecolor\":\"rgb(36,36,36)\",\"showgrid\":false,\"showline\":true,\"ticks\":\"outside\"}},\"title\":{\"x\":0.05},\"xaxis\":{\"automargin\":true,\"gridcolor\":\"rgb(232,232,232)\",\"linecolor\":\"rgb(36,36,36)\",\"showgrid\":false,\"showline\":true,\"ticks\":\"outside\",\"title\":{\"standoff\":15},\"zeroline\":false,\"zerolinecolor\":\"rgb(36,36,36)\"},\"yaxis\":{\"automargin\":true,\"gridcolor\":\"rgb(232,232,232)\",\"linecolor\":\"rgb(36,36,36)\",\"showgrid\":false,\"showline\":true,\"ticks\":\"outside\",\"title\":{\"standoff\":15},\"zeroline\":false,\"zerolinecolor\":\"rgb(36,36,36)\"}}},\"xaxis\":{\"anchor\":\"y\",\"domain\":[0.0,1.0],\"title\":{\"text\":\"Percentage (%)\"}},\"yaxis\":{\"anchor\":\"x\",\"domain\":[0.0,1.0],\"title\":{\"text\":\"Category\"}},\"legend\":{\"tracegroupgap\":0},\"title\":{\"text\":\"Proportion of top 20 incidents by category\"},\"barmode\":\"relative\"},                        {\"responsive\": true}                    ).then(function(){\n",
       "                            \n",
       "var gd = document.getElementById('c87b971a-57b2-44cd-b48e-48b66312dd31');\n",
       "var x = new MutationObserver(function (mutations, observer) {{\n",
       "        var display = window.getComputedStyle(gd).display;\n",
       "        if (!display || display === 'none') {{\n",
       "            console.log([gd, 'removed!']);\n",
       "            Plotly.purge(gd);\n",
       "            observer.disconnect();\n",
       "        }}\n",
       "}});\n",
       "\n",
       "// Listen for the removal of the full notebook cells\n",
       "var notebookContainer = gd.closest('#notebook-container');\n",
       "if (notebookContainer) {{\n",
       "    x.observe(notebookContainer, {childList: true});\n",
       "}}\n",
       "\n",
       "// Listen for the clearing of the current output cell\n",
       "var outputEl = gd.closest('.output');\n",
       "if (outputEl) {{\n",
       "    x.observe(outputEl, {childList: true});\n",
       "}}\n",
       "\n",
       "                        })                };                });            </script>        </div>"
      ]
     },
     "metadata": {},
     "output_type": "display_data"
    }
   ],
   "source": [
    "# let's viw the distribution by category\n",
    "fig = px.bar(data_frame=by_cat[-20:], x='prop', y='category',\n",
    "             hover_data={'prop':':.2f',\n",
    "                         'count':':,'},\n",
    "             labels={'prop':'Percentage (%)', 'category':'Category'},\n",
    "             title='Proportion of top 20 incidents by category',\n",
    "             template='simple_white')\n",
    "fig"
   ]
  },
  {
   "cell_type": "code",
   "execution_count": 96,
   "id": "cc6c6e04-4c0c-45b4-9436-2e5384c6ae47",
   "metadata": {
    "execution": {
     "iopub.execute_input": "2023-08-27T09:06:58.020276Z",
     "iopub.status.busy": "2023-08-27T09:06:58.019889Z",
     "iopub.status.idle": "2023-08-27T09:06:58.058832Z",
     "shell.execute_reply": "2023-08-27T09:06:58.058195Z",
     "shell.execute_reply.started": "2023-08-27T09:06:58.020252Z"
    },
    "scrolled": true,
    "tags": []
   },
   "outputs": [
    {
     "data": {
      "text/html": [
       "<div>\n",
       "<style scoped>\n",
       "    .dataframe tbody tr th:only-of-type {\n",
       "        vertical-align: middle;\n",
       "    }\n",
       "\n",
       "    .dataframe tbody tr th {\n",
       "        vertical-align: top;\n",
       "    }\n",
       "\n",
       "    .dataframe thead th {\n",
       "        text-align: right;\n",
       "    }\n",
       "</style>\n",
       "<table border=\"1\" class=\"dataframe\">\n",
       "  <thead>\n",
       "    <tr style=\"text-align: right;\">\n",
       "      <th></th>\n",
       "      <th>month</th>\n",
       "      <th>month_num</th>\n",
       "      <th>category</th>\n",
       "      <th>count</th>\n",
       "      <th>month_sum</th>\n",
       "      <th>total_prop</th>\n",
       "      <th>month_prop</th>\n",
       "    </tr>\n",
       "  </thead>\n",
       "  <tbody>\n",
       "    <tr>\n",
       "      <th>0</th>\n",
       "      <td>April</td>\n",
       "      <td>4</td>\n",
       "      <td>Arson</td>\n",
       "      <td>25</td>\n",
       "      <td>10983</td>\n",
       "      <td>0.018291</td>\n",
       "      <td>0.227625</td>\n",
       "    </tr>\n",
       "    <tr>\n",
       "      <th>1</th>\n",
       "      <td>April</td>\n",
       "      <td>4</td>\n",
       "      <td>Assault</td>\n",
       "      <td>683</td>\n",
       "      <td>10983</td>\n",
       "      <td>0.499718</td>\n",
       "      <td>6.218702</td>\n",
       "    </tr>\n",
       "    <tr>\n",
       "      <th>2</th>\n",
       "      <td>April</td>\n",
       "      <td>4</td>\n",
       "      <td>Burglary</td>\n",
       "      <td>550</td>\n",
       "      <td>10983</td>\n",
       "      <td>0.402409</td>\n",
       "      <td>5.007739</td>\n",
       "    </tr>\n",
       "    <tr>\n",
       "      <th>3</th>\n",
       "      <td>April</td>\n",
       "      <td>4</td>\n",
       "      <td>Case Closure</td>\n",
       "      <td>45</td>\n",
       "      <td>10983</td>\n",
       "      <td>0.032924</td>\n",
       "      <td>0.409724</td>\n",
       "    </tr>\n",
       "    <tr>\n",
       "      <th>4</th>\n",
       "      <td>April</td>\n",
       "      <td>4</td>\n",
       "      <td>Courtesy Report</td>\n",
       "      <td>47</td>\n",
       "      <td>10983</td>\n",
       "      <td>0.034388</td>\n",
       "      <td>0.427934</td>\n",
       "    </tr>\n",
       "    <tr>\n",
       "      <th>...</th>\n",
       "      <td>...</td>\n",
       "      <td>...</td>\n",
       "      <td>...</td>\n",
       "      <td>...</td>\n",
       "      <td>...</td>\n",
       "      <td>...</td>\n",
       "      <td>...</td>\n",
       "    </tr>\n",
       "    <tr>\n",
       "      <th>478</th>\n",
       "      <td>September</td>\n",
       "      <td>9</td>\n",
       "      <td>Vehicle Impounded</td>\n",
       "      <td>6</td>\n",
       "      <td>12308</td>\n",
       "      <td>0.004390</td>\n",
       "      <td>0.048749</td>\n",
       "    </tr>\n",
       "    <tr>\n",
       "      <th>479</th>\n",
       "      <td>September</td>\n",
       "      <td>9</td>\n",
       "      <td>Vehicle Misplaced</td>\n",
       "      <td>5</td>\n",
       "      <td>12308</td>\n",
       "      <td>0.003658</td>\n",
       "      <td>0.040624</td>\n",
       "    </tr>\n",
       "    <tr>\n",
       "      <th>480</th>\n",
       "      <td>September</td>\n",
       "      <td>9</td>\n",
       "      <td>Warrant</td>\n",
       "      <td>273</td>\n",
       "      <td>12308</td>\n",
       "      <td>0.199741</td>\n",
       "      <td>2.218070</td>\n",
       "    </tr>\n",
       "    <tr>\n",
       "      <th>481</th>\n",
       "      <td>September</td>\n",
       "      <td>9</td>\n",
       "      <td>Weapons Carrying Etc</td>\n",
       "      <td>69</td>\n",
       "      <td>12308</td>\n",
       "      <td>0.050484</td>\n",
       "      <td>0.560611</td>\n",
       "    </tr>\n",
       "    <tr>\n",
       "      <th>482</th>\n",
       "      <td>September</td>\n",
       "      <td>9</td>\n",
       "      <td>Weapons Offense</td>\n",
       "      <td>111</td>\n",
       "      <td>12308</td>\n",
       "      <td>0.081213</td>\n",
       "      <td>0.901852</td>\n",
       "    </tr>\n",
       "  </tbody>\n",
       "</table>\n",
       "<p>483 rows × 7 columns</p>\n",
       "</div>"
      ],
      "text/plain": [
       "         month  month_num              category  count  month_sum  total_prop  \\\n",
       "0        April          4                 Arson     25      10983    0.018291   \n",
       "1        April          4               Assault    683      10983    0.499718   \n",
       "2        April          4              Burglary    550      10983    0.402409   \n",
       "3        April          4          Case Closure     45      10983    0.032924   \n",
       "4        April          4       Courtesy Report     47      10983    0.034388   \n",
       "..         ...        ...                   ...    ...        ...         ...   \n",
       "478  September          9     Vehicle Impounded      6      12308    0.004390   \n",
       "479  September          9     Vehicle Misplaced      5      12308    0.003658   \n",
       "480  September          9               Warrant    273      12308    0.199741   \n",
       "481  September          9  Weapons Carrying Etc     69      12308    0.050484   \n",
       "482  September          9       Weapons Offense    111      12308    0.081213   \n",
       "\n",
       "     month_prop  \n",
       "0      0.227625  \n",
       "1      6.218702  \n",
       "2      5.007739  \n",
       "3      0.409724  \n",
       "4      0.427934  \n",
       "..          ...  \n",
       "478    0.048749  \n",
       "479    0.040624  \n",
       "480    2.218070  \n",
       "481    0.560611  \n",
       "482    0.901852  \n",
       "\n",
       "[483 rows x 7 columns]"
      ]
     },
     "execution_count": 96,
     "metadata": {},
     "output_type": "execute_result"
    }
   ],
   "source": [
    "# let's see if there is any pattern in the number of incidents by month of the year\n",
    "by_month_cat = pd.DataFrame(incidents.groupby(['incident_month', 'incident_month_num', 'incident_category_new'])['incident_id'].count())\n",
    "by_month_cat.reset_index(inplace=True)\n",
    "by_month_cat.columns = ['month', 'month_num', 'category', 'count']\n",
    "by_month_cat['month_sum'] = by_month_cat.groupby('month')['count'].transform('sum')\n",
    "by_month_cat['total_prop'] = by_month_cat['count']/incidents.shape[0]*100\n",
    "by_month_cat['month_prop'] = by_month_cat['count']/by_month_cat.month_sum*100\n",
    "# by_month_cat"
   ]
  },
  {
   "cell_type": "code",
   "execution_count": 113,
   "id": "b84a0d6c-3cc8-439d-802c-29ae2526506b",
   "metadata": {
    "execution": {
     "iopub.execute_input": "2023-08-27T09:26:27.668039Z",
     "iopub.status.busy": "2023-08-27T09:26:27.667630Z",
     "iopub.status.idle": "2023-08-27T09:26:27.863727Z",
     "shell.execute_reply": "2023-08-27T09:26:27.863157Z",
     "shell.execute_reply.started": "2023-08-27T09:26:27.668013Z"
    },
    "scrolled": true,
    "tags": []
   },
   "outputs": [
    {
     "data": {
      "application/vnd.plotly.v1+json": {
       "config": {
        "plotlyServerURL": "https://plot.ly"
       },
       "data": [
        {
         "alignmentgroup": "True",
         "customdata": [
          [
           3370
          ],
          [
           3057
          ],
          [
           3401
          ],
          [
           3164
          ],
          [
           2864
          ],
          [
           3598
          ],
          [
           3554
          ],
          [
           3543
          ],
          [
           3935
          ],
          [
           3983
          ],
          [
           3827
          ],
          [
           3959
          ]
         ],
         "hovertemplate": "Category=Larceny Theft<br>Month=%{x}<br>Percentage (%)=%{y:.2f}<br>count=%{customdata[0]:,}<extra></extra>",
         "legendgroup": "Larceny Theft",
         "marker": {
          "color": "#1F77B4",
          "pattern": {
           "shape": ""
          }
         },
         "name": "Larceny Theft",
         "offsetgroup": "Larceny Theft",
         "orientation": "v",
         "showlegend": true,
         "textposition": "auto",
         "type": "bar",
         "x": [
          "January",
          "February",
          "March",
          "April",
          "May",
          "June",
          "July",
          "August",
          "September",
          "October",
          "November",
          "December"
         ],
         "xaxis": "x",
         "y": [
          30.6140988372093,
          29.502026635784595,
          29.53795379537954,
          28.808158062460166,
          26.93248072221177,
          32.042034019057795,
          29.567387687188017,
          30.07895407080397,
          31.971075723106924,
          33.08414320126256,
          33.86725663716814,
          34.82276365555458
         ],
         "yaxis": "y"
        },
        {
         "alignmentgroup": "True",
         "customdata": [
          [
           804
          ],
          [
           714
          ],
          [
           852
          ],
          [
           777
          ],
          [
           758
          ],
          [
           727
          ],
          [
           863
          ],
          [
           788
          ],
          [
           886
          ],
          [
           837
          ],
          [
           740
          ],
          [
           732
          ]
         ],
         "hovertemplate": "Category=Other<br>Month=%{x}<br>Percentage (%)=%{y:.2f}<br>count=%{customdata[0]:,}<extra></extra>",
         "legendgroup": "Other",
         "marker": {
          "color": "#FF7F0E",
          "pattern": {
           "shape": ""
          }
         },
         "name": "Other",
         "offsetgroup": "Other",
         "orientation": "v",
         "showlegend": true,
         "textposition": "auto",
         "type": "bar",
         "x": [
          "January",
          "February",
          "March",
          "April",
          "May",
          "June",
          "July",
          "August",
          "September",
          "October",
          "November",
          "December"
         ],
         "xaxis": "x",
         "y": [
          7.303779069767442,
          6.890561667631731,
          7.399687337154768,
          7.0745697896749515,
          7.128079744216663,
          6.4743075964021735,
          7.179700499168053,
          6.689871805756006,
          7.198570035749106,
          6.952404684774482,
          6.548672566371681,
          6.438560999208373
         ],
         "yaxis": "y"
        },
        {
         "alignmentgroup": "True",
         "customdata": [
          [
           762
          ],
          [
           670
          ],
          [
           811
          ],
          [
           730
          ],
          [
           689
          ],
          [
           815
          ],
          [
           850
          ],
          [
           764
          ],
          [
           818
          ],
          [
           769
          ],
          [
           713
          ],
          [
           723
          ]
         ],
         "hovertemplate": "Category=Malicious Mischief<br>Month=%{x}<br>Percentage (%)=%{y:.2f}<br>count=%{customdata[0]:,}<extra></extra>",
         "legendgroup": "Malicious Mischief",
         "marker": {
          "color": "#2CA02C",
          "pattern": {
           "shape": ""
          }
         },
         "name": "Malicious Mischief",
         "offsetgroup": "Malicious Mischief",
         "orientation": "v",
         "showlegend": true,
         "textposition": "auto",
         "type": "bar",
         "x": [
          "January",
          "February",
          "March",
          "April",
          "May",
          "June",
          "July",
          "August",
          "September",
          "October",
          "November",
          "December"
         ],
         "xaxis": "x",
         "y": [
          6.922238372093023,
          6.465933217525574,
          7.04359909675178,
          6.646635709733224,
          6.47921760391198,
          7.2579926974797395,
          7.071547420965059,
          6.48611936497156,
          6.646083847903802,
          6.3875737187474035,
          6.309734513274336,
          6.359398363972205
         ],
         "yaxis": "y"
        },
        {
         "alignmentgroup": "True",
         "customdata": [
          [
           676
          ],
          [
           648
          ],
          [
           782
          ],
          [
           683
          ],
          [
           694
          ],
          [
           779
          ],
          [
           756
          ],
          [
           722
          ],
          [
           827
          ],
          [
           806
          ],
          [
           660
          ],
          [
           670
          ]
         ],
         "hovertemplate": "Category=Assault<br>Month=%{x}<br>Percentage (%)=%{y:.2f}<br>count=%{customdata[0]:,}<extra></extra>",
         "legendgroup": "Assault",
         "marker": {
          "color": "#D62728",
          "pattern": {
           "shape": ""
          }
         },
         "name": "Assault",
         "offsetgroup": "Assault",
         "orientation": "v",
         "showlegend": true,
         "textposition": "auto",
         "type": "bar",
         "x": [
          "January",
          "February",
          "March",
          "April",
          "May",
          "June",
          "July",
          "August",
          "September",
          "October",
          "November",
          "December"
         ],
         "xaxis": "x",
         "y": [
          6.140988372093023,
          6.253618992472496,
          6.791731804759424,
          6.2187016297914965,
          6.526236599586232,
          6.937394247038917,
          6.289517470881864,
          6.129552593598778,
          6.719207019824504,
          6.69490821496802,
          5.84070796460177,
          5.893218400914768
         ],
         "yaxis": "y"
        },
        {
         "alignmentgroup": "True",
         "customdata": [
          [
           653
          ],
          [
           657
          ],
          [
           745
          ],
          [
           757
          ],
          [
           850
          ],
          [
           635
          ],
          [
           683
          ],
          [
           703
          ],
          [
           748
          ],
          [
           752
          ],
          [
           709
          ],
          [
           699
          ]
         ],
         "hovertemplate": "Category=Motor Vehicle Theft<br>Month=%{x}<br>Percentage (%)=%{y:.2f}<br>count=%{customdata[0]:,}<extra></extra>",
         "legendgroup": "Motor Vehicle Theft",
         "marker": {
          "color": "#9467BD",
          "pattern": {
           "shape": ""
          }
         },
         "name": "Motor Vehicle Theft",
         "offsetgroup": "Motor Vehicle Theft",
         "orientation": "v",
         "showlegend": true,
         "textposition": "auto",
         "type": "bar",
         "x": [
          "January",
          "February",
          "March",
          "April",
          "May",
          "June",
          "July",
          "August",
          "September",
          "October",
          "November",
          "December"
         ],
         "xaxis": "x",
         "y": [
          5.9320494186046515,
          6.340474811812391,
          6.470383880493312,
          6.89247018118911,
          7.993229264622907,
          5.6550004452756255,
          5.6821963394342765,
          5.968248577977757,
          6.077348066298343,
          6.246365977240634,
          6.274336283185841,
          6.148298003342422
         ],
         "yaxis": "y"
        },
        {
         "alignmentgroup": "True",
         "customdata": [
          [
           616
          ],
          [
           552
          ],
          [
           634
          ],
          [
           599
          ],
          [
           576
          ],
          [
           601
          ],
          [
           649
          ],
          [
           671
          ],
          [
           703
          ],
          [
           641
          ],
          [
           633
          ],
          [
           573
          ]
         ],
         "hovertemplate": "Category=Non-Criminal<br>Month=%{x}<br>Percentage (%)=%{y:.2f}<br>count=%{customdata[0]:,}<extra></extra>",
         "legendgroup": "Non-Criminal",
         "marker": {
          "color": "#8C564B",
          "pattern": {
           "shape": ""
          }
         },
         "name": "Non-Criminal",
         "offsetgroup": "Non-Criminal",
         "orientation": "v",
         "showlegend": true,
         "textposition": "auto",
         "type": "bar",
         "x": [
          "January",
          "February",
          "March",
          "April",
          "May",
          "June",
          "July",
          "August",
          "September",
          "October",
          "November",
          "December"
         ],
         "xaxis": "x",
         "y": [
          5.59593023255814,
          5.327156919513607,
          5.50634010769498,
          5.453883274150961,
          5.416588301673876,
          5.352213019859293,
          5.399334442595674,
          5.696578656931828,
          5.711732206694832,
          5.324362488578785,
          5.601769911504425,
          5.040021110036063
         ],
         "yaxis": "y"
        },
        {
         "alignmentgroup": "True",
         "customdata": [
          [
           606
          ],
          [
           546
          ],
          [
           570
          ],
          [
           550
          ],
          [
           534
          ],
          [
           575
          ],
          [
           633
          ],
          [
           644
          ],
          [
           617
          ],
          [
           587
          ],
          [
           538
          ],
          [
           657
          ]
         ],
         "hovertemplate": "Category=Burglary<br>Month=%{x}<br>Percentage (%)=%{y:.2f}<br>count=%{customdata[0]:,}<extra></extra>",
         "legendgroup": "Burglary",
         "marker": {
          "color": "#E377C2",
          "pattern": {
           "shape": ""
          }
         },
         "name": "Burglary",
         "offsetgroup": "Burglary",
         "orientation": "v",
         "showlegend": true,
         "textposition": "auto",
         "type": "bar",
         "x": [
          "January",
          "February",
          "March",
          "April",
          "May",
          "June",
          "July",
          "August",
          "September",
          "October",
          "November",
          "December"
         ],
         "xaxis": "x",
         "y": [
          5.505087209302325,
          5.269253039953677,
          4.9504950495049505,
          5.007739233360648,
          5.021628738010156,
          5.12066969454092,
          5.266222961730449,
          5.467357161049325,
          5.012999675008125,
          4.875820250851399,
          4.761061946902655,
          5.778872372240302
         ],
         "yaxis": "y"
        },
        {
         "alignmentgroup": "True",
         "customdata": [
          [
           460
          ],
          [
           487
          ],
          [
           496
          ],
          [
           546
          ],
          [
           594
          ],
          [
           445
          ],
          [
           500
          ],
          [
           491
          ],
          [
           515
          ],
          [
           562
          ],
          [
           549
          ],
          [
           519
          ]
         ],
         "hovertemplate": "Category=Recovered Vehicle<br>Month=%{x}<br>Percentage (%)=%{y:.2f}<br>count=%{customdata[0]:,}<extra></extra>",
         "legendgroup": "Recovered Vehicle",
         "marker": {
          "color": "#7F7F7F",
          "pattern": {
           "shape": ""
          }
         },
         "name": "Recovered Vehicle",
         "offsetgroup": "Recovered Vehicle",
         "orientation": "v",
         "showlegend": true,
         "textposition": "auto",
         "type": "bar",
         "x": [
          "January",
          "February",
          "March",
          "April",
          "May",
          "June",
          "July",
          "August",
          "September",
          "October",
          "November",
          "December"
         ],
         "xaxis": "x",
         "y": [
          4.178779069767442,
          4.699864890947693,
          4.307799200972729,
          4.97131931166348,
          5.585856686101185,
          3.9629530679490608,
          4.159733777038269,
          4.168435351048476,
          4.184270393240169,
          4.668161807459091,
          4.8584070796460175,
          4.565045298619052
         ],
         "yaxis": "y"
        },
        {
         "alignmentgroup": "True",
         "customdata": [
          [
           441
          ],
          [
           365
          ],
          [
           438
          ],
          [
           543
          ],
          [
           341
          ],
          [
           479
          ],
          [
           501
          ],
          [
           423
          ],
          [
           404
          ],
          [
           389
          ],
          [
           375
          ],
          [
           393
          ]
         ],
         "hovertemplate": "Category=Fraud<br>Month=%{x}<br>Percentage (%)=%{y:.2f}<br>count=%{customdata[0]:,}<extra></extra>",
         "legendgroup": "Fraud",
         "marker": {
          "color": "#BCBD22",
          "pattern": {
           "shape": ""
          }
         },
         "name": "Fraud",
         "offsetgroup": "Fraud",
         "orientation": "v",
         "showlegend": true,
         "textposition": "auto",
         "type": "bar",
         "x": [
          "January",
          "February",
          "March",
          "April",
          "May",
          "June",
          "July",
          "August",
          "September",
          "October",
          "November",
          "December"
         ],
         "xaxis": "x",
         "y": [
          4.006177325581396,
          3.5224860065624397,
          3.804064616988015,
          4.944004370390603,
          3.206695504984013,
          4.265740493365393,
          4.168053244592347,
          3.591136768825877,
          3.282417939551511,
          3.2311653791843176,
          3.3185840707964607,
          3.456768405312692
         ],
         "yaxis": "y"
        },
        {
         "alignmentgroup": "True",
         "customdata": [
          [
           331
          ],
          [
           433
          ],
          [
           365
          ],
          [
           298
          ],
          [
           352
          ],
          [
           244
          ],
          [
           533
          ],
          [
           516
          ],
          [
           320
          ],
          [
           247
          ],
          [
           325
          ],
          [
           318
          ]
         ],
         "hovertemplate": "Category=Drug Offense<br>Month=%{x}<br>Percentage (%)=%{y:.2f}<br>count=%{customdata[0]:,}<extra></extra>",
         "legendgroup": "Drug Offense",
         "marker": {
          "color": "#17BECF",
          "pattern": {
           "shape": ""
          }
         },
         "name": "Drug Offense",
         "offsetgroup": "Drug Offense",
         "orientation": "v",
         "showlegend": true,
         "textposition": "auto",
         "type": "bar",
         "x": [
          "January",
          "February",
          "March",
          "April",
          "May",
          "June",
          "July",
          "August",
          "September",
          "October",
          "November",
          "December"
         ],
         "xaxis": "x",
         "y": [
          3.006904069767442,
          4.178729974908319,
          3.1700538474900117,
          2.7132841664390424,
          3.310137295467369,
          2.1729450529877994,
          4.434276206322795,
          4.380677476865609,
          2.599935001624959,
          2.0516654207160063,
          2.8761061946902653,
          2.7970797783446213
         ],
         "yaxis": "y"
        },
        {
         "alignmentgroup": "True",
         "customdata": [
          [
           274
          ],
          [
           253
          ],
          [
           265
          ],
          [
           242
          ],
          [
           277
          ],
          [
           196
          ],
          [
           291
          ],
          [
           250
          ],
          [
           273
          ],
          [
           266
          ],
          [
           241
          ],
          [
           249
          ]
         ],
         "hovertemplate": "Category=Warrant<br>Month=%{x}<br>Percentage (%)=%{y:.2f}<br>count=%{customdata[0]:,}<extra></extra>",
         "legendgroup": "Warrant",
         "marker": {
          "color": "#1F77B4",
          "pattern": {
           "shape": ""
          }
         },
         "name": "Warrant",
         "offsetgroup": "Warrant",
         "orientation": "v",
         "showlegend": true,
         "textposition": "auto",
         "type": "bar",
         "x": [
          "January",
          "February",
          "March",
          "April",
          "May",
          "June",
          "July",
          "August",
          "September",
          "October",
          "November",
          "December"
         ],
         "xaxis": "x",
         "y": [
          2.489098837209302,
          2.4416135881104037,
          2.301545944068091,
          2.2034052626786855,
          2.604852360353583,
          1.7454804524000358,
          2.420965058236273,
          2.1224212581713218,
          2.2180695482612935,
          2.2094858376941606,
          2.1327433628318584,
          2.190166241533996
         ],
         "yaxis": "y"
        },
        {
         "alignmentgroup": "True",
         "customdata": [
          [
           243
          ],
          [
           249
          ],
          [
           284
          ],
          [
           287
          ],
          [
           287
          ],
          [
           359
          ],
          [
           298
          ],
          [
           352
          ],
          [
           309
          ],
          [
           312
          ],
          [
           296
          ],
          [
           291
          ]
         ],
         "hovertemplate": "Category=Lost Property<br>Month=%{x}<br>Percentage (%)=%{y:.2f}<br>count=%{customdata[0]:,}<extra></extra>",
         "legendgroup": "Lost Property",
         "marker": {
          "color": "#FF7F0E",
          "pattern": {
           "shape": ""
          }
         },
         "name": "Lost Property",
         "offsetgroup": "Lost Property",
         "orientation": "v",
         "showlegend": true,
         "textposition": "auto",
         "type": "bar",
         "x": [
          "January",
          "February",
          "March",
          "April",
          "May",
          "June",
          "July",
          "August",
          "September",
          "October",
          "November",
          "December"
         ],
         "xaxis": "x",
         "y": [
          2.207485465116279,
          2.4030110017371165,
          2.466562445718256,
          2.613129381771829,
          2.6988903517020875,
          3.197078991895984,
          2.4792013311148087,
          2.988369131505221,
          2.5105622359441013,
          2.5915773735360084,
          2.6194690265486726,
          2.5595918726361155
         ],
         "yaxis": "y"
        },
        {
         "alignmentgroup": "True",
         "customdata": [
          [
           229
          ],
          [
           284
          ],
          [
           267
          ],
          [
           211
          ],
          [
           261
          ],
          [
           271
          ],
          [
           256
          ],
          [
           229
          ],
          [
           274
          ],
          [
           254
          ],
          [
           214
          ],
          [
           187
          ]
         ],
         "hovertemplate": "Category=Robbery<br>Month=%{x}<br>Percentage (%)=%{y:.2f}<br>count=%{customdata[0]:,}<extra></extra>",
         "legendgroup": "Robbery",
         "marker": {
          "color": "#2CA02C",
          "pattern": {
           "shape": ""
          }
         },
         "name": "Robbery",
         "offsetgroup": "Robbery",
         "orientation": "v",
         "showlegend": true,
         "textposition": "auto",
         "type": "bar",
         "x": [
          "January",
          "February",
          "March",
          "April",
          "May",
          "June",
          "July",
          "August",
          "September",
          "October",
          "November",
          "December"
         ],
         "xaxis": "x",
         "y": [
          2.0803052325581395,
          2.7407836325033776,
          2.3189161021365297,
          1.9211508695256305,
          2.454391574195975,
          2.413393890818417,
          2.129783693843594,
          1.9441378724849308,
          2.2261943451413715,
          2.1098097848658526,
          1.893805309734513,
          1.6448236432403907
         ],
         "yaxis": "y"
        },
        {
         "alignmentgroup": "True",
         "customdata": [
          [
           208
          ],
          [
           213
          ],
          [
           236
          ],
          [
           202
          ],
          [
           212
          ],
          [
           195
          ],
          [
           214
          ],
          [
           251
          ],
          [
           230
          ],
          [
           264
          ],
          [
           208
          ],
          [
           212
          ]
         ],
         "hovertemplate": "Category=Missing Person<br>Month=%{x}<br>Percentage (%)=%{y:.2f}<br>count=%{customdata[0]:,}<extra></extra>",
         "legendgroup": "Missing Person",
         "marker": {
          "color": "#D62728",
          "pattern": {
           "shape": ""
          }
         },
         "name": "Missing Person",
         "offsetgroup": "Missing Person",
         "orientation": "v",
         "showlegend": true,
         "textposition": "auto",
         "type": "bar",
         "x": [
          "January",
          "February",
          "March",
          "April",
          "May",
          "June",
          "July",
          "August",
          "September",
          "October",
          "November",
          "December"
         ],
         "xaxis": "x",
         "y": [
          1.88953488372093,
          2.055587724377533,
          2.049678652075734,
          1.8392060457070019,
          1.9936054165883017,
          1.7365749398877905,
          1.7803660565723793,
          2.130910943204007,
          1.8687032824179395,
          2.1928731622227757,
          1.8407079646017697,
          1.8647198522297477
         ],
         "yaxis": "y"
        },
        {
         "alignmentgroup": "True",
         "customdata": [
          [
           195
          ],
          [
           179
          ],
          [
           218
          ],
          [
           214
          ],
          [
           214
          ],
          [
           227
          ],
          [
           241
          ],
          [
           262
          ],
          [
           285
          ],
          [
           234
          ],
          [
           220
          ],
          [
           209
          ]
         ],
         "hovertemplate": "Category=Suspicious Occ<br>Month=%{x}<br>Percentage (%)=%{y:.2f}<br>count=%{customdata[0]:,}<extra></extra>",
         "legendgroup": "Suspicious Occ",
         "marker": {
          "color": "#9467BD",
          "pattern": {
           "shape": ""
          }
         },
         "name": "Suspicious Occ",
         "offsetgroup": "Suspicious Occ",
         "orientation": "v",
         "showlegend": true,
         "textposition": "auto",
         "type": "bar",
         "x": [
          "January",
          "February",
          "March",
          "April",
          "May",
          "June",
          "July",
          "August",
          "September",
          "October",
          "November",
          "December"
         ],
         "xaxis": "x",
         "y": [
          1.771438953488372,
          1.7274657402045936,
          1.893347229459788,
          1.9484658107985067,
          2.012413014858003,
          2.021551340279633,
          2.004991680532446,
          2.224297478563545,
          2.3155671108222293,
          1.943683030152006,
          1.9469026548672566,
          1.8383323071510245
         ],
         "yaxis": "y"
        },
        {
         "alignmentgroup": "True",
         "customdata": [
          [
           191
          ],
          [
           141
          ],
          [
           187
          ],
          [
           166
          ],
          [
           193
          ],
          [
           193
          ],
          [
           189
          ],
          [
           189
          ],
          [
           182
          ],
          [
           197
          ],
          [
           170
          ],
          [
           146
          ]
         ],
         "hovertemplate": "Category=Disorderly Conduct<br>Month=%{x}<br>Percentage (%)=%{y:.2f}<br>count=%{customdata[0]:,}<extra></extra>",
         "legendgroup": "Disorderly Conduct",
         "marker": {
          "color": "#8C564B",
          "pattern": {
           "shape": ""
          }
         },
         "name": "Disorderly Conduct",
         "offsetgroup": "Disorderly Conduct",
         "orientation": "v",
         "showlegend": true,
         "textposition": "auto",
         "type": "bar",
         "x": [
          "January",
          "February",
          "March",
          "April",
          "May",
          "June",
          "July",
          "August",
          "September",
          "October",
          "November",
          "December"
         ],
         "xaxis": "x",
         "y": [
          1.7351017441860466,
          1.3607411696583671,
          1.6241097793989925,
          1.5114267504324865,
          1.8149332330261427,
          1.7187639148633003,
          1.572379367720466,
          1.6045504711775194,
          1.4787130321741957,
          1.6363485339313897,
          1.5044247787610618,
          1.284193860497845
         ],
         "yaxis": "y"
        },
        {
         "alignmentgroup": "True",
         "customdata": [
          [
           155
          ],
          [
           160
          ],
          [
           152
          ],
          [
           163
          ],
          [
           150
          ],
          [
           160
          ],
          [
           140
          ],
          [
           141
          ],
          [
           141
          ],
          [
           158
          ],
          [
           132
          ],
          [
           105
          ]
         ],
         "hovertemplate": "Category=Miscellaneous Investigation<br>Month=%{x}<br>Percentage (%)=%{y:.2f}<br>count=%{customdata[0]:,}<extra></extra>",
         "legendgroup": "Miscellaneous Investigation",
         "marker": {
          "color": "#E377C2",
          "pattern": {
           "shape": ""
          }
         },
         "name": "Miscellaneous Investigation",
         "offsetgroup": "Miscellaneous Investigation",
         "orientation": "v",
         "showlegend": true,
         "textposition": "auto",
         "type": "bar",
         "x": [
          "January",
          "February",
          "March",
          "April",
          "May",
          "June",
          "July",
          "August",
          "September",
          "October",
          "November",
          "December"
         ],
         "xaxis": "x",
         "y": [
          1.4080668604651163,
          1.5441034549314805,
          1.3201320132013201,
          1.4841118091596102,
          1.410569870227572,
          1.4248820019592128,
          1.1647254575707155,
          1.1970455896086256,
          1.1455963600909977,
          1.3124013622393886,
          1.168141592920354,
          0.9235640777552996
         ],
         "yaxis": "y"
        },
        {
         "alignmentgroup": "True",
         "customdata": [
          [
           131
          ],
          [
           85
          ],
          [
           129
          ],
          [
           94
          ],
          [
           103
          ],
          [
           76
          ],
          [
           113
          ],
          [
           101
          ],
          [
           92
          ],
          [
           94
          ],
          [
           76
          ],
          [
           105
          ]
         ],
         "hovertemplate": "Category=Other Offenses<br>Month=%{x}<br>Percentage (%)=%{y:.2f}<br>count=%{customdata[0]:,}<extra></extra>",
         "legendgroup": "Other Offenses",
         "marker": {
          "color": "#7F7F7F",
          "pattern": {
           "shape": ""
          }
         },
         "name": "Other Offenses",
         "offsetgroup": "Other Offenses",
         "orientation": "v",
         "showlegend": true,
         "textposition": "auto",
         "type": "bar",
         "x": [
          "January",
          "February",
          "March",
          "April",
          "May",
          "June",
          "July",
          "August",
          "September",
          "October",
          "November",
          "December"
         ],
         "xaxis": "x",
         "y": [
          1.1900436046511629,
          0.8203049604323489,
          1.1203751954142784,
          0.8558681598834562,
          0.9685913108895994,
          0.676818950930626,
          0.9400998336106489,
          0.857458188301214,
          0.7474813129671758,
          0.7807957471550793,
          0.6725663716814159,
          0.9235640777552996
         ],
         "yaxis": "y"
        },
        {
         "alignmentgroup": "True",
         "customdata": [
          [
           116
          ],
          [
           119
          ],
          [
           105
          ],
          [
           124
          ],
          [
           121
          ],
          [
           154
          ],
          [
           179
          ],
          [
           197
          ],
          [
           154
          ],
          [
           135
          ],
          [
           135
          ],
          [
           134
          ]
         ],
         "hovertemplate": "Category=Offences Against The Family And Children<br>Month=%{x}<br>Percentage (%)=%{y:.2f}<br>count=%{customdata[0]:,}<extra></extra>",
         "legendgroup": "Offences Against The Family And Children",
         "marker": {
          "color": "#BCBD22",
          "pattern": {
           "shape": ""
          }
         },
         "name": "Offences Against The Family And Children",
         "offsetgroup": "Offences Against The Family And Children",
         "orientation": "v",
         "showlegend": true,
         "textposition": "auto",
         "type": "bar",
         "x": [
          "January",
          "February",
          "March",
          "April",
          "May",
          "June",
          "July",
          "August",
          "September",
          "October",
          "November",
          "December"
         ],
         "xaxis": "x",
         "y": [
          1.0537790697674418,
          1.1484269446052886,
          0.9119332985930172,
          1.129017572612219,
          1.137859695316908,
          1.3714489268857422,
          1.4891846921797005,
          1.6724679514390015,
          1.2512187195320117,
          1.121355594318465,
          1.1946902654867257,
          1.1786436801829536
         ],
         "yaxis": "y"
        },
        {
         "alignmentgroup": "True",
         "customdata": [
          [
           87
          ],
          [
           87
          ],
          [
           84
          ],
          [
           86
          ],
          [
           85
          ],
          [
           96
          ],
          [
           82
          ],
          [
           95
          ],
          [
           111
          ],
          [
           104
          ],
          [
           77
          ],
          [
           77
          ]
         ],
         "hovertemplate": "Category=Weapons Offense<br>Month=%{x}<br>Percentage (%)=%{y:.2f}<br>count=%{customdata[0]:,}<extra></extra>",
         "legendgroup": "Weapons Offense",
         "marker": {
          "color": "#17BECF",
          "pattern": {
           "shape": ""
          }
         },
         "name": "Weapons Offense",
         "offsetgroup": "Weapons Offense",
         "orientation": "v",
         "showlegend": true,
         "textposition": "auto",
         "type": "bar",
         "x": [
          "January",
          "February",
          "March",
          "April",
          "May",
          "June",
          "July",
          "August",
          "September",
          "October",
          "November",
          "December"
         ],
         "xaxis": "x",
         "y": [
          0.7903343023255814,
          0.8396062536189925,
          0.7295466388744137,
          0.7830283164891195,
          0.7993229264622908,
          0.8549292011755277,
          0.6821963394342762,
          0.8065200781051022,
          0.9018524536886579,
          0.8638591245120026,
          0.6814159292035399,
          0.6772803236872196
         ],
         "yaxis": "y"
        },
        {
         "alignmentgroup": "True",
         "customdata": [
          [
           83
          ],
          [
           76
          ],
          [
           96
          ],
          [
           121
          ],
          [
           96
          ],
          [
           36
          ],
          [
           73
          ],
          [
           50
          ],
          [
           67
          ],
          [
           61
          ],
          [
           67
          ],
          [
           49
          ]
         ],
         "hovertemplate": "Category=Traffic Violation Arrest<br>Month=%{x}<br>Percentage (%)=%{y:.2f}<br>count=%{customdata[0]:,}<extra></extra>",
         "legendgroup": "Traffic Violation Arrest",
         "marker": {
          "color": "#1F77B4",
          "pattern": {
           "shape": ""
          }
         },
         "name": "Traffic Violation Arrest",
         "offsetgroup": "Traffic Violation Arrest",
         "orientation": "v",
         "showlegend": true,
         "textposition": "auto",
         "type": "bar",
         "x": [
          "January",
          "February",
          "March",
          "April",
          "May",
          "June",
          "July",
          "August",
          "September",
          "October",
          "November",
          "December"
         ],
         "xaxis": "x",
         "y": [
          0.7539970930232559,
          0.7334491410924532,
          0.8337675872850442,
          1.1017026313393428,
          0.9027647169456461,
          0.32059845044082286,
          0.6073211314475874,
          0.42448425163426434,
          0.5443613909652258,
          0.5066866018772324,
          0.5929203539823008,
          0.4309965696191398
         ],
         "yaxis": "y"
        },
        {
         "alignmentgroup": "True",
         "customdata": [
          [
           65
          ],
          [
           69
          ],
          [
           58
          ],
          [
           58
          ],
          [
           64
          ],
          [
           68
          ],
          [
           90
          ],
          [
           56
          ],
          [
           69
          ],
          [
           61
          ],
          [
           71
          ],
          [
           50
          ]
         ],
         "hovertemplate": "Category=Weapons Carrying Etc<br>Month=%{x}<br>Percentage (%)=%{y:.2f}<br>count=%{customdata[0]:,}<extra></extra>",
         "legendgroup": "Weapons Carrying Etc",
         "marker": {
          "color": "#FF7F0E",
          "pattern": {
           "shape": ""
          }
         },
         "name": "Weapons Carrying Etc",
         "offsetgroup": "Weapons Carrying Etc",
         "orientation": "v",
         "showlegend": true,
         "textposition": "auto",
         "type": "bar",
         "x": [
          "January",
          "February",
          "March",
          "April",
          "May",
          "June",
          "July",
          "August",
          "September",
          "October",
          "November",
          "December"
         ],
         "xaxis": "x",
         "y": [
          0.5904796511627907,
          0.6658946149392009,
          0.5037345839847143,
          0.5280888646089411,
          0.6018431446304308,
          0.6055748508326654,
          0.7487520798668885,
          0.47542236183037606,
          0.5606109847253818,
          0.5066866018772324,
          0.6283185840707964,
          0.439792417978714
         ],
         "yaxis": "y"
        },
        {
         "alignmentgroup": "True",
         "customdata": [
          [
           41
          ],
          [
           19
          ],
          [
           30
          ],
          [
           48
          ],
          [
           33
          ],
          [
           33
          ],
          [
           35
          ],
          [
           46
          ],
          [
           23
          ],
          [
           41
          ],
          [
           20
          ],
          [
           28
          ]
         ],
         "hovertemplate": "Category=Vandalism<br>Month=%{x}<br>Percentage (%)=%{y:.2f}<br>count=%{customdata[0]:,}<extra></extra>",
         "legendgroup": "Vandalism",
         "marker": {
          "color": "#2CA02C",
          "pattern": {
           "shape": ""
          }
         },
         "name": "Vandalism",
         "offsetgroup": "Vandalism",
         "orientation": "v",
         "showlegend": true,
         "textposition": "auto",
         "type": "bar",
         "x": [
          "January",
          "February",
          "March",
          "April",
          "May",
          "June",
          "July",
          "August",
          "September",
          "October",
          "November",
          "December"
         ],
         "xaxis": "x",
         "y": [
          0.37245639534883723,
          0.1833622852731133,
          0.26055237102657636,
          0.4370390603660202,
          0.31032537145006583,
          0.2938819129040876,
          0.2911813643926789,
          0.3905255115035232,
          0.18687032824179395,
          0.34055984716338566,
          0.17699115044247787,
          0.24628375406807987
         ],
         "yaxis": "y"
        },
        {
         "alignmentgroup": "True",
         "customdata": [
          [
           38
          ],
          [
           32
          ],
          [
           41
          ],
          [
           45
          ],
          [
           27
          ],
          [
           31
          ],
          [
           33
          ],
          [
           33
          ],
          [
           26
          ],
          [
           31
          ],
          [
           39
          ],
          [
           32
          ]
         ],
         "hovertemplate": "Category=Case Closure<br>Month=%{x}<br>Percentage (%)=%{y:.2f}<br>count=%{customdata[0]:,}<extra></extra>",
         "legendgroup": "Case Closure",
         "marker": {
          "color": "#D62728",
          "pattern": {
           "shape": ""
          }
         },
         "name": "Case Closure",
         "offsetgroup": "Case Closure",
         "orientation": "v",
         "showlegend": true,
         "textposition": "auto",
         "type": "bar",
         "x": [
          "January",
          "February",
          "March",
          "April",
          "May",
          "June",
          "July",
          "August",
          "September",
          "October",
          "November",
          "December"
         ],
         "xaxis": "x",
         "y": [
          0.345203488372093,
          0.30882069098629605,
          0.3560882404029877,
          0.409724119093144,
          0.25390257664096294,
          0.27607088787959744,
          0.27454242928452577,
          0.28015960607861445,
          0.21124471888202798,
          0.25749646980646235,
          0.3451327433628319,
          0.28146714750637697
         ],
         "yaxis": "y"
        },
        {
         "alignmentgroup": "True",
         "customdata": [
          [
           32
          ],
          [
           39
          ],
          [
           28
          ],
          [
           25
          ],
          [
           28
          ],
          [
           33
          ],
          [
           32
          ],
          [
           36
          ],
          [
           39
          ],
          [
           30
          ],
          [
           33
          ],
          [
           26
          ]
         ],
         "hovertemplate": "Category=Arson<br>Month=%{x}<br>Percentage (%)=%{y:.2f}<br>count=%{customdata[0]:,}<extra></extra>",
         "legendgroup": "Arson",
         "marker": {
          "color": "#9467BD",
          "pattern": {
           "shape": ""
          }
         },
         "name": "Arson",
         "offsetgroup": "Arson",
         "orientation": "v",
         "showlegend": true,
         "textposition": "auto",
         "type": "bar",
         "x": [
          "January",
          "February",
          "March",
          "April",
          "May",
          "June",
          "July",
          "August",
          "September",
          "October",
          "November",
          "December"
         ],
         "xaxis": "x",
         "y": [
          0.29069767441860467,
          0.37637521713954836,
          0.2431822129581379,
          0.2276245106073022,
          0.2633063757758134,
          0.2938819129040876,
          0.26622296173044924,
          0.3056286611766703,
          0.3168670783230419,
          0.24919013207076998,
          0.2920353982300885,
          0.22869205734893128
         ],
         "yaxis": "y"
        },
        {
         "alignmentgroup": "True",
         "customdata": [
          [
           32
          ],
          [
           47
          ],
          [
           43
          ],
          [
           43
          ],
          [
           60
          ],
          [
           47
          ],
          [
           49
          ],
          [
           47
          ],
          [
           70
          ],
          [
           49
          ],
          [
           55
          ],
          [
           55
          ]
         ],
         "hovertemplate": "Category=Stolen Property<br>Month=%{x}<br>Percentage (%)=%{y:.2f}<br>count=%{customdata[0]:,}<extra></extra>",
         "legendgroup": "Stolen Property",
         "marker": {
          "color": "#8C564B",
          "pattern": {
           "shape": ""
          }
         },
         "name": "Stolen Property",
         "offsetgroup": "Stolen Property",
         "orientation": "v",
         "showlegend": true,
         "textposition": "auto",
         "type": "bar",
         "x": [
          "January",
          "February",
          "March",
          "April",
          "May",
          "June",
          "July",
          "August",
          "September",
          "October",
          "November",
          "December"
         ],
         "xaxis": "x",
         "y": [
          0.29069767441860467,
          0.45358038988612237,
          0.3734583984714261,
          0.39151415824455976,
          0.5642279480910287,
          0.4185590880755188,
          0.40765391014975044,
          0.39901519653620854,
          0.5687357816054599,
          0.4070105490489243,
          0.48672566371681414,
          0.4837716597765855
         ],
         "yaxis": "y"
        },
        {
         "alignmentgroup": "True",
         "customdata": [
          [
           32
          ],
          [
           29
          ],
          [
           29
          ],
          [
           38
          ],
          [
           27
          ],
          [
           18
          ],
          [
           32
          ],
          [
           29
          ],
          [
           33
          ],
          [
           28
          ],
          [
           41
          ],
          [
           35
          ]
         ],
         "hovertemplate": "Category=Traffic Collision<br>Month=%{x}<br>Percentage (%)=%{y:.2f}<br>count=%{customdata[0]:,}<extra></extra>",
         "legendgroup": "Traffic Collision",
         "marker": {
          "color": "#E377C2",
          "pattern": {
           "shape": ""
          }
         },
         "name": "Traffic Collision",
         "offsetgroup": "Traffic Collision",
         "orientation": "v",
         "showlegend": true,
         "textposition": "auto",
         "type": "bar",
         "x": [
          "January",
          "February",
          "March",
          "April",
          "May",
          "June",
          "July",
          "August",
          "September",
          "October",
          "November",
          "December"
         ],
         "xaxis": "x",
         "y": [
          0.29069767441860467,
          0.2798687512063308,
          0.25186729199235713,
          0.34598925612309933,
          0.25390257664096294,
          0.16029922522041143,
          0.26622296173044924,
          0.24620086594787333,
          0.2681182970425739,
          0.23257745659938533,
          0.36283185840707965,
          0.30785469258509984
         ],
         "yaxis": "y"
        },
        {
         "alignmentgroup": "True",
         "customdata": [
          [
           28
          ],
          [
           18
          ],
          [
           30
          ],
          [
           47
          ],
          [
           37
          ],
          [
           49
          ],
          [
           40
          ],
          [
           52
          ],
          [
           44
          ],
          [
           33
          ],
          [
           27
          ],
          [
           34
          ]
         ],
         "hovertemplate": "Category=Courtesy Report<br>Month=%{x}<br>Percentage (%)=%{y:.2f}<br>count=%{customdata[0]:,}<extra></extra>",
         "legendgroup": "Courtesy Report",
         "marker": {
          "color": "#7F7F7F",
          "pattern": {
           "shape": ""
          }
         },
         "name": "Courtesy Report",
         "offsetgroup": "Courtesy Report",
         "orientation": "v",
         "showlegend": true,
         "textposition": "auto",
         "type": "bar",
         "x": [
          "January",
          "February",
          "March",
          "April",
          "May",
          "June",
          "July",
          "August",
          "September",
          "October",
          "November",
          "December"
         ],
         "xaxis": "x",
         "y": [
          0.2543604651162791,
          0.17371163867979156,
          0.26055237102657636,
          0.4279340799417281,
          0.34794056798946776,
          0.43637011310000895,
          0.33277870216306155,
          0.44146362169963493,
          0.35749106272343195,
          0.27410914527784697,
          0.23893805309734514,
          0.29905884422552553
         ],
         "yaxis": "y"
        },
        {
         "alignmentgroup": "True",
         "customdata": [
          [
           27
          ],
          [
           27
          ],
          [
           41
          ],
          [
           45
          ],
          [
           29
          ],
          [
           26
          ],
          [
           29
          ],
          [
           24
          ],
          [
           26
          ],
          [
           42
          ],
          [
           30
          ],
          [
           21
          ]
         ],
         "hovertemplate": "Category=Forgery And Counterfeiting<br>Month=%{x}<br>Percentage (%)=%{y:.2f}<br>count=%{customdata[0]:,}<extra></extra>",
         "legendgroup": "Forgery And Counterfeiting",
         "marker": {
          "color": "#BCBD22",
          "pattern": {
           "shape": ""
          }
         },
         "name": "Forgery And Counterfeiting",
         "offsetgroup": "Forgery And Counterfeiting",
         "orientation": "v",
         "showlegend": true,
         "textposition": "auto",
         "type": "bar",
         "x": [
          "January",
          "February",
          "March",
          "April",
          "May",
          "June",
          "July",
          "August",
          "September",
          "October",
          "November",
          "December"
         ],
         "xaxis": "x",
         "y": [
          0.24527616279069767,
          0.26056745801968734,
          0.3560882404029877,
          0.409724119093144,
          0.2727101749106639,
          0.2315433253183721,
          0.24126455906821964,
          0.20375244078444688,
          0.21124471888202798,
          0.348866184899078,
          0.2654867256637168,
          0.1847128155510599
         ],
         "yaxis": "y"
        },
        {
         "alignmentgroup": "True",
         "customdata": [
          [
           16
          ],
          [
           25
          ],
          [
           24
          ],
          [
           23
          ],
          [
           16
          ],
          [
           23
          ],
          [
           23
          ],
          [
           18
          ],
          [
           15
          ],
          [
           13
          ],
          [
           29
          ],
          [
           22
          ]
         ],
         "hovertemplate": "Category=Fire Report<br>Month=%{x}<br>Percentage (%)=%{y:.2f}<br>count=%{customdata[0]:,}<extra></extra>",
         "legendgroup": "Fire Report",
         "marker": {
          "color": "#17BECF",
          "pattern": {
           "shape": ""
          }
         },
         "name": "Fire Report",
         "offsetgroup": "Fire Report",
         "orientation": "v",
         "showlegend": true,
         "textposition": "auto",
         "type": "bar",
         "x": [
          "January",
          "February",
          "March",
          "April",
          "May",
          "June",
          "July",
          "August",
          "September",
          "October",
          "November",
          "December"
         ],
         "xaxis": "x",
         "y": [
          0.14534883720930233,
          0.24126616483304383,
          0.20844189682126105,
          0.209414549758718,
          0.1504607861576077,
          0.20482678778163685,
          0.1913477537437604,
          0.15281433058833516,
          0.12187195320116997,
          0.10798239056400033,
          0.25663716814159293,
          0.19350866391063418
         ],
         "yaxis": "y"
        },
        {
         "alignmentgroup": "True",
         "customdata": [
          [
           15
          ],
          [
           13
          ],
          [
           12
          ],
          [
           5
          ],
          [
           10
          ],
          [
           4
          ],
          [
           15
          ],
          [
           14
          ],
          [
           10
          ],
          [
           12
          ],
          [
           11
          ],
          [
           19
          ]
         ],
         "hovertemplate": "Category=Embezzlement<br>Month=%{x}<br>Percentage (%)=%{y:.2f}<br>count=%{customdata[0]:,}<extra></extra>",
         "legendgroup": "Embezzlement",
         "marker": {
          "color": "#1F77B4",
          "pattern": {
           "shape": ""
          }
         },
         "name": "Embezzlement",
         "offsetgroup": "Embezzlement",
         "orientation": "v",
         "showlegend": true,
         "textposition": "auto",
         "type": "bar",
         "x": [
          "January",
          "February",
          "March",
          "April",
          "May",
          "June",
          "July",
          "August",
          "September",
          "October",
          "November",
          "December"
         ],
         "xaxis": "x",
         "y": [
          0.13626453488372092,
          0.12545840571318279,
          0.10422094841063052,
          0.04552490212146044,
          0.0940379913485048,
          0.035622050048980315,
          0.12479201331114809,
          0.11885559045759402,
          0.08124796880077997,
          0.099676052828308,
          0.09734513274336283,
          0.16712111883191136
         ],
         "yaxis": "y"
        },
        {
         "alignmentgroup": "True",
         "customdata": [
          [
           10
          ],
          [
           11
          ],
          [
           5
          ],
          [
           7
          ],
          [
           3
          ],
          [
           5
          ],
          [
           5
          ],
          [
           5
          ],
          [
           7
          ],
          [
           5
          ],
          [
           5
          ],
          [
           11
          ]
         ],
         "hovertemplate": "Category=Suicide<br>Month=%{x}<br>Percentage (%)=%{y:.2f}<br>count=%{customdata[0]:,}<extra></extra>",
         "legendgroup": "Suicide",
         "marker": {
          "color": "#FF7F0E",
          "pattern": {
           "shape": ""
          }
         },
         "name": "Suicide",
         "offsetgroup": "Suicide",
         "orientation": "v",
         "showlegend": true,
         "textposition": "auto",
         "type": "bar",
         "x": [
          "January",
          "February",
          "March",
          "April",
          "May",
          "June",
          "July",
          "August",
          "September",
          "October",
          "November",
          "December"
         ],
         "xaxis": "x",
         "y": [
          0.09084302325581395,
          0.10615711252653928,
          0.04342539517109606,
          0.06373486297004462,
          0.02821139740455144,
          0.0445275625612254,
          0.04159733777038269,
          0.04244842516342644,
          0.05687357816054598,
          0.041531688678461666,
          0.04424778761061947,
          0.09675433195531709
         ],
         "yaxis": "y"
        },
        {
         "alignmentgroup": "True",
         "customdata": [
          [
           8
          ],
          [
           14
          ],
          [
           10
          ],
          [
           4
          ],
          [
           1
          ],
          [
           1
          ],
          [
           3
          ],
          [
           2
          ],
          [
           1
          ],
          [
           3
          ]
         ],
         "hovertemplate": "Category=Prostitution<br>Month=%{x}<br>Percentage (%)=%{y:.2f}<br>count=%{customdata[0]:,}<extra></extra>",
         "legendgroup": "Prostitution",
         "marker": {
          "color": "#2CA02C",
          "pattern": {
           "shape": ""
          }
         },
         "name": "Prostitution",
         "offsetgroup": "Prostitution",
         "orientation": "v",
         "showlegend": true,
         "textposition": "auto",
         "type": "bar",
         "x": [
          "January",
          "February",
          "March",
          "April",
          "May",
          "August",
          "September",
          "October",
          "November",
          "December"
         ],
         "xaxis": "x",
         "y": [
          0.07267441860465117,
          0.13510905230650455,
          0.08685079034219212,
          0.03641992169716835,
          0.00940379913485048,
          0.008489685032685287,
          0.024374390640233994,
          0.016612675471384668,
          0.008849557522123894,
          0.02638754507872284
         ],
         "yaxis": "y"
        },
        {
         "alignmentgroup": "True",
         "customdata": [
          [
           8
          ],
          [
           15
          ],
          [
           10
          ],
          [
           5
          ],
          [
           18
          ],
          [
           8
          ],
          [
           9
          ],
          [
           9
          ],
          [
           16
          ],
          [
           14
          ],
          [
           9
          ],
          [
           8
          ]
         ],
         "hovertemplate": "Category=Sex Offense<br>Month=%{x}<br>Percentage (%)=%{y:.2f}<br>count=%{customdata[0]:,}<extra></extra>",
         "legendgroup": "Sex Offense",
         "marker": {
          "color": "#D62728",
          "pattern": {
           "shape": ""
          }
         },
         "name": "Sex Offense",
         "offsetgroup": "Sex Offense",
         "orientation": "v",
         "showlegend": true,
         "textposition": "auto",
         "type": "bar",
         "x": [
          "January",
          "February",
          "March",
          "April",
          "May",
          "June",
          "July",
          "August",
          "September",
          "October",
          "November",
          "December"
         ],
         "xaxis": "x",
         "y": [
          0.07267441860465117,
          0.1447596988998263,
          0.08685079034219212,
          0.04552490212146044,
          0.16926838442730863,
          0.07124410009796063,
          0.07487520798668885,
          0.07640716529416758,
          0.12999675008124797,
          0.11628872829969267,
          0.07964601769911504,
          0.07036678687659424
         ],
         "yaxis": "y"
        },
        {
         "alignmentgroup": "True",
         "customdata": [
          [
           7
          ],
          [
           5
          ],
          [
           5
          ],
          [
           1
          ],
          [
           1
          ],
          [
           2
          ],
          [
           5
          ],
          [
           5
          ],
          [
           2
          ],
          [
           4
          ]
         ],
         "hovertemplate": "Category=Homicide<br>Month=%{x}<br>Percentage (%)=%{y:.2f}<br>count=%{customdata[0]:,}<extra></extra>",
         "legendgroup": "Homicide",
         "marker": {
          "color": "#9467BD",
          "pattern": {
           "shape": ""
          }
         },
         "name": "Homicide",
         "offsetgroup": "Homicide",
         "orientation": "v",
         "showlegend": true,
         "textposition": "auto",
         "type": "bar",
         "x": [
          "January",
          "February",
          "May",
          "June",
          "July",
          "August",
          "September",
          "October",
          "November",
          "December"
         ],
         "xaxis": "x",
         "y": [
          0.06359011627906977,
          0.048253232966608765,
          0.0470189956742524,
          0.008905512512245079,
          0.008319467554076539,
          0.016979370065370574,
          0.04062398440038999,
          0.041531688678461666,
          0.017699115044247787,
          0.03518339343829712
         ],
         "yaxis": "y"
        },
        {
         "alignmentgroup": "True",
         "customdata": [
          [
           6
          ],
          [
           7
          ],
          [
           13
          ],
          [
           12
          ],
          [
           12
          ],
          [
           5
          ],
          [
           7
          ],
          [
           6
          ],
          [
           6
          ],
          [
           5
          ],
          [
           11
          ],
          [
           3
          ]
         ],
         "hovertemplate": "Category=Vehicle Impounded<br>Month=%{x}<br>Percentage (%)=%{y:.2f}<br>count=%{customdata[0]:,}<extra></extra>",
         "legendgroup": "Vehicle Impounded",
         "marker": {
          "color": "#8C564B",
          "pattern": {
           "shape": ""
          }
         },
         "name": "Vehicle Impounded",
         "offsetgroup": "Vehicle Impounded",
         "orientation": "v",
         "showlegend": true,
         "textposition": "auto",
         "type": "bar",
         "x": [
          "January",
          "February",
          "March",
          "April",
          "May",
          "June",
          "July",
          "August",
          "September",
          "October",
          "November",
          "December"
         ],
         "xaxis": "x",
         "y": [
          0.05450581395348837,
          0.06755452615325228,
          0.11290602744484975,
          0.10925976509150505,
          0.11284558961820576,
          0.0445275625612254,
          0.05823627287853577,
          0.05093811019611172,
          0.04874878128046799,
          0.041531688678461666,
          0.09734513274336283,
          0.02638754507872284
         ],
         "yaxis": "y"
        },
        {
         "alignmentgroup": "True",
         "customdata": [
          [
           6
          ],
          [
           6
          ],
          [
           7
          ],
          [
           8
          ],
          [
           3
          ],
          [
           4
          ],
          [
           3
          ],
          [
           4
          ],
          [
           5
          ],
          [
           5
          ],
          [
           5
          ],
          [
           3
          ]
         ],
         "hovertemplate": "Category=Vehicle Misplaced<br>Month=%{x}<br>Percentage (%)=%{y:.2f}<br>count=%{customdata[0]:,}<extra></extra>",
         "legendgroup": "Vehicle Misplaced",
         "marker": {
          "color": "#E377C2",
          "pattern": {
           "shape": ""
          }
         },
         "name": "Vehicle Misplaced",
         "offsetgroup": "Vehicle Misplaced",
         "orientation": "v",
         "showlegend": true,
         "textposition": "auto",
         "type": "bar",
         "x": [
          "January",
          "February",
          "March",
          "April",
          "May",
          "June",
          "July",
          "August",
          "September",
          "October",
          "November",
          "December"
         ],
         "xaxis": "x",
         "y": [
          0.05450581395348837,
          0.05790387955993051,
          0.06079555323953448,
          0.0728398433943367,
          0.02821139740455144,
          0.035622050048980315,
          0.02495840266222962,
          0.03395874013074115,
          0.04062398440038999,
          0.041531688678461666,
          0.04424778761061947,
          0.02638754507872284
         ],
         "yaxis": "y"
        },
        {
         "alignmentgroup": "True",
         "customdata": [
          [
           2
          ],
          [
           5
          ],
          [
           9
          ],
          [
           5
          ],
          [
           1
          ],
          [
           4
          ],
          [
           10
          ],
          [
           3
          ],
          [
           8
          ],
          [
           6
          ],
          [
           3
          ],
          [
           2
          ]
         ],
         "hovertemplate": "Category=Drug Violation<br>Month=%{x}<br>Percentage (%)=%{y:.2f}<br>count=%{customdata[0]:,}<extra></extra>",
         "legendgroup": "Drug Violation",
         "marker": {
          "color": "#7F7F7F",
          "pattern": {
           "shape": ""
          }
         },
         "name": "Drug Violation",
         "offsetgroup": "Drug Violation",
         "orientation": "v",
         "showlegend": true,
         "textposition": "auto",
         "type": "bar",
         "x": [
          "January",
          "February",
          "March",
          "April",
          "May",
          "June",
          "July",
          "August",
          "September",
          "October",
          "November",
          "December"
         ],
         "xaxis": "x",
         "y": [
          0.018168604651162792,
          0.048253232966608765,
          0.0781657113079729,
          0.04552490212146044,
          0.00940379913485048,
          0.035622050048980315,
          0.08319467554076539,
          0.02546905509805586,
          0.06499837504062399,
          0.049838026414154,
          0.026548672566371685,
          0.01759169671914856
         ],
         "yaxis": "y"
        },
        {
         "alignmentgroup": "True",
         "customdata": [
          [
           2
          ],
          [
           2
          ],
          [
           1
          ],
          [
           1
          ],
          [
           4
          ]
         ],
         "hovertemplate": "Category=Human Trafficking, Commercial Sex Acts<br>Month=%{x}<br>Percentage (%)=%{y:.2f}<br>count=%{customdata[0]:,}<extra></extra>",
         "legendgroup": "Human Trafficking, Commercial Sex Acts",
         "marker": {
          "color": "#BCBD22",
          "pattern": {
           "shape": ""
          }
         },
         "name": "Human Trafficking, Commercial Sex Acts",
         "offsetgroup": "Human Trafficking, Commercial Sex Acts",
         "orientation": "v",
         "showlegend": true,
         "textposition": "auto",
         "type": "bar",
         "x": [
          "January",
          "February",
          "April",
          "May",
          "August"
         ],
         "xaxis": "x",
         "y": [
          0.018168604651162792,
          0.019301293186643503,
          0.009104980424292088,
          0.00940379913485048,
          0.03395874013074115
         ],
         "yaxis": "y"
        },
        {
         "alignmentgroup": "True",
         "customdata": [
          [
           1
          ],
          [
           3
          ],
          [
           5
          ],
          [
           6
          ],
          [
           7
          ],
          [
           5
          ],
          [
           6
          ],
          [
           6
          ],
          [
           2
          ]
         ],
         "hovertemplate": "Category=Liquor Laws<br>Month=%{x}<br>Percentage (%)=%{y:.2f}<br>count=%{customdata[0]:,}<extra></extra>",
         "legendgroup": "Liquor Laws",
         "marker": {
          "color": "#17BECF",
          "pattern": {
           "shape": ""
          }
         },
         "name": "Liquor Laws",
         "offsetgroup": "Liquor Laws",
         "orientation": "v",
         "showlegend": true,
         "textposition": "auto",
         "type": "bar",
         "x": [
          "January",
          "February",
          "April",
          "May",
          "June",
          "July",
          "August",
          "September",
          "October"
         ],
         "xaxis": "x",
         "y": [
          0.009084302325581396,
          0.028951939779965255,
          0.04552490212146044,
          0.05642279480910288,
          0.06233858758571555,
          0.04159733777038269,
          0.05093811019611172,
          0.04874878128046799,
          0.016612675471384668
         ],
         "yaxis": "y"
        },
        {
         "alignmentgroup": "True",
         "customdata": [
          [
           1
          ],
          [
           1
          ],
          [
           6
          ],
          [
           2
          ],
          [
           2
          ],
          [
           2
          ],
          [
           2
          ],
          [
           1
          ],
          [
           6
          ],
          [
           1
          ],
          [
           3
          ],
          [
           3
          ]
         ],
         "hovertemplate": "Category=Rape<br>Month=%{x}<br>Percentage (%)=%{y:.2f}<br>count=%{customdata[0]:,}<extra></extra>",
         "legendgroup": "Rape",
         "marker": {
          "color": "#1F77B4",
          "pattern": {
           "shape": ""
          }
         },
         "name": "Rape",
         "offsetgroup": "Rape",
         "orientation": "v",
         "showlegend": true,
         "textposition": "auto",
         "type": "bar",
         "x": [
          "January",
          "February",
          "March",
          "April",
          "May",
          "June",
          "July",
          "August",
          "September",
          "October",
          "November",
          "December"
         ],
         "xaxis": "x",
         "y": [
          0.009084302325581396,
          0.009650646593321752,
          0.05211047420531526,
          0.018209960848584176,
          0.01880759826970096,
          0.017811025024490158,
          0.016638935108153077,
          0.008489685032685287,
          0.04874878128046799,
          0.008306337735692334,
          0.026548672566371685,
          0.02638754507872284
         ],
         "yaxis": "y"
        },
        {
         "alignmentgroup": "True",
         "customdata": [
          [
           1
          ],
          [
           2
          ],
          [
           1
          ],
          [
           3
          ]
         ],
         "hovertemplate": "Category=Gambling<br>Month=%{x}<br>Percentage (%)=%{y:.2f}<br>count=%{customdata[0]:,}<extra></extra>",
         "legendgroup": "Gambling",
         "marker": {
          "color": "#FF7F0E",
          "pattern": {
           "shape": ""
          }
         },
         "name": "Gambling",
         "offsetgroup": "Gambling",
         "orientation": "v",
         "showlegend": true,
         "textposition": "auto",
         "type": "bar",
         "x": [
          "March",
          "July",
          "August",
          "December"
         ],
         "xaxis": "x",
         "y": [
          0.008685079034219213,
          0.016638935108153077,
          0.008489685032685287,
          0.02638754507872284
         ],
         "yaxis": "y"
        },
        {
         "alignmentgroup": "True",
         "customdata": [
          [
           2
          ]
         ],
         "hovertemplate": "Category=Civil Sidewalks<br>Month=%{x}<br>Percentage (%)=%{y:.2f}<br>count=%{customdata[0]:,}<extra></extra>",
         "legendgroup": "Civil Sidewalks",
         "marker": {
          "color": "#2CA02C",
          "pattern": {
           "shape": ""
          }
         },
         "name": "Civil Sidewalks",
         "offsetgroup": "Civil Sidewalks",
         "orientation": "v",
         "showlegend": true,
         "textposition": "auto",
         "type": "bar",
         "x": [
          "October"
         ],
         "xaxis": "x",
         "y": [
          0.016612675471384668
         ],
         "yaxis": "y"
        }
       ],
       "layout": {
        "barmode": "relative",
        "legend": {
         "title": {
          "text": "Category"
         },
         "tracegroupgap": 0
        },
        "template": {
         "data": {
          "bar": [
           {
            "error_x": {
             "color": "rgb(36,36,36)"
            },
            "error_y": {
             "color": "rgb(36,36,36)"
            },
            "marker": {
             "line": {
              "color": "white",
              "width": 0.5
             },
             "pattern": {
              "fillmode": "overlay",
              "size": 10,
              "solidity": 0.2
             }
            },
            "type": "bar"
           }
          ],
          "barpolar": [
           {
            "marker": {
             "line": {
              "color": "white",
              "width": 0.5
             },
             "pattern": {
              "fillmode": "overlay",
              "size": 10,
              "solidity": 0.2
             }
            },
            "type": "barpolar"
           }
          ],
          "carpet": [
           {
            "aaxis": {
             "endlinecolor": "rgb(36,36,36)",
             "gridcolor": "white",
             "linecolor": "white",
             "minorgridcolor": "white",
             "startlinecolor": "rgb(36,36,36)"
            },
            "baxis": {
             "endlinecolor": "rgb(36,36,36)",
             "gridcolor": "white",
             "linecolor": "white",
             "minorgridcolor": "white",
             "startlinecolor": "rgb(36,36,36)"
            },
            "type": "carpet"
           }
          ],
          "choropleth": [
           {
            "colorbar": {
             "outlinewidth": 1,
             "tickcolor": "rgb(36,36,36)",
             "ticks": "outside"
            },
            "type": "choropleth"
           }
          ],
          "contour": [
           {
            "colorbar": {
             "outlinewidth": 1,
             "tickcolor": "rgb(36,36,36)",
             "ticks": "outside"
            },
            "colorscale": [
             [
              0,
              "#440154"
             ],
             [
              0.1111111111111111,
              "#482878"
             ],
             [
              0.2222222222222222,
              "#3e4989"
             ],
             [
              0.3333333333333333,
              "#31688e"
             ],
             [
              0.4444444444444444,
              "#26828e"
             ],
             [
              0.5555555555555556,
              "#1f9e89"
             ],
             [
              0.6666666666666666,
              "#35b779"
             ],
             [
              0.7777777777777778,
              "#6ece58"
             ],
             [
              0.8888888888888888,
              "#b5de2b"
             ],
             [
              1,
              "#fde725"
             ]
            ],
            "type": "contour"
           }
          ],
          "contourcarpet": [
           {
            "colorbar": {
             "outlinewidth": 1,
             "tickcolor": "rgb(36,36,36)",
             "ticks": "outside"
            },
            "type": "contourcarpet"
           }
          ],
          "heatmap": [
           {
            "colorbar": {
             "outlinewidth": 1,
             "tickcolor": "rgb(36,36,36)",
             "ticks": "outside"
            },
            "colorscale": [
             [
              0,
              "#440154"
             ],
             [
              0.1111111111111111,
              "#482878"
             ],
             [
              0.2222222222222222,
              "#3e4989"
             ],
             [
              0.3333333333333333,
              "#31688e"
             ],
             [
              0.4444444444444444,
              "#26828e"
             ],
             [
              0.5555555555555556,
              "#1f9e89"
             ],
             [
              0.6666666666666666,
              "#35b779"
             ],
             [
              0.7777777777777778,
              "#6ece58"
             ],
             [
              0.8888888888888888,
              "#b5de2b"
             ],
             [
              1,
              "#fde725"
             ]
            ],
            "type": "heatmap"
           }
          ],
          "heatmapgl": [
           {
            "colorbar": {
             "outlinewidth": 1,
             "tickcolor": "rgb(36,36,36)",
             "ticks": "outside"
            },
            "colorscale": [
             [
              0,
              "#440154"
             ],
             [
              0.1111111111111111,
              "#482878"
             ],
             [
              0.2222222222222222,
              "#3e4989"
             ],
             [
              0.3333333333333333,
              "#31688e"
             ],
             [
              0.4444444444444444,
              "#26828e"
             ],
             [
              0.5555555555555556,
              "#1f9e89"
             ],
             [
              0.6666666666666666,
              "#35b779"
             ],
             [
              0.7777777777777778,
              "#6ece58"
             ],
             [
              0.8888888888888888,
              "#b5de2b"
             ],
             [
              1,
              "#fde725"
             ]
            ],
            "type": "heatmapgl"
           }
          ],
          "histogram": [
           {
            "marker": {
             "line": {
              "color": "white",
              "width": 0.6
             }
            },
            "type": "histogram"
           }
          ],
          "histogram2d": [
           {
            "colorbar": {
             "outlinewidth": 1,
             "tickcolor": "rgb(36,36,36)",
             "ticks": "outside"
            },
            "colorscale": [
             [
              0,
              "#440154"
             ],
             [
              0.1111111111111111,
              "#482878"
             ],
             [
              0.2222222222222222,
              "#3e4989"
             ],
             [
              0.3333333333333333,
              "#31688e"
             ],
             [
              0.4444444444444444,
              "#26828e"
             ],
             [
              0.5555555555555556,
              "#1f9e89"
             ],
             [
              0.6666666666666666,
              "#35b779"
             ],
             [
              0.7777777777777778,
              "#6ece58"
             ],
             [
              0.8888888888888888,
              "#b5de2b"
             ],
             [
              1,
              "#fde725"
             ]
            ],
            "type": "histogram2d"
           }
          ],
          "histogram2dcontour": [
           {
            "colorbar": {
             "outlinewidth": 1,
             "tickcolor": "rgb(36,36,36)",
             "ticks": "outside"
            },
            "colorscale": [
             [
              0,
              "#440154"
             ],
             [
              0.1111111111111111,
              "#482878"
             ],
             [
              0.2222222222222222,
              "#3e4989"
             ],
             [
              0.3333333333333333,
              "#31688e"
             ],
             [
              0.4444444444444444,
              "#26828e"
             ],
             [
              0.5555555555555556,
              "#1f9e89"
             ],
             [
              0.6666666666666666,
              "#35b779"
             ],
             [
              0.7777777777777778,
              "#6ece58"
             ],
             [
              0.8888888888888888,
              "#b5de2b"
             ],
             [
              1,
              "#fde725"
             ]
            ],
            "type": "histogram2dcontour"
           }
          ],
          "mesh3d": [
           {
            "colorbar": {
             "outlinewidth": 1,
             "tickcolor": "rgb(36,36,36)",
             "ticks": "outside"
            },
            "type": "mesh3d"
           }
          ],
          "parcoords": [
           {
            "line": {
             "colorbar": {
              "outlinewidth": 1,
              "tickcolor": "rgb(36,36,36)",
              "ticks": "outside"
             }
            },
            "type": "parcoords"
           }
          ],
          "pie": [
           {
            "automargin": true,
            "type": "pie"
           }
          ],
          "scatter": [
           {
            "fillpattern": {
             "fillmode": "overlay",
             "size": 10,
             "solidity": 0.2
            },
            "type": "scatter"
           }
          ],
          "scatter3d": [
           {
            "line": {
             "colorbar": {
              "outlinewidth": 1,
              "tickcolor": "rgb(36,36,36)",
              "ticks": "outside"
             }
            },
            "marker": {
             "colorbar": {
              "outlinewidth": 1,
              "tickcolor": "rgb(36,36,36)",
              "ticks": "outside"
             }
            },
            "type": "scatter3d"
           }
          ],
          "scattercarpet": [
           {
            "marker": {
             "colorbar": {
              "outlinewidth": 1,
              "tickcolor": "rgb(36,36,36)",
              "ticks": "outside"
             }
            },
            "type": "scattercarpet"
           }
          ],
          "scattergeo": [
           {
            "marker": {
             "colorbar": {
              "outlinewidth": 1,
              "tickcolor": "rgb(36,36,36)",
              "ticks": "outside"
             }
            },
            "type": "scattergeo"
           }
          ],
          "scattergl": [
           {
            "marker": {
             "colorbar": {
              "outlinewidth": 1,
              "tickcolor": "rgb(36,36,36)",
              "ticks": "outside"
             }
            },
            "type": "scattergl"
           }
          ],
          "scattermapbox": [
           {
            "marker": {
             "colorbar": {
              "outlinewidth": 1,
              "tickcolor": "rgb(36,36,36)",
              "ticks": "outside"
             }
            },
            "type": "scattermapbox"
           }
          ],
          "scatterpolar": [
           {
            "marker": {
             "colorbar": {
              "outlinewidth": 1,
              "tickcolor": "rgb(36,36,36)",
              "ticks": "outside"
             }
            },
            "type": "scatterpolar"
           }
          ],
          "scatterpolargl": [
           {
            "marker": {
             "colorbar": {
              "outlinewidth": 1,
              "tickcolor": "rgb(36,36,36)",
              "ticks": "outside"
             }
            },
            "type": "scatterpolargl"
           }
          ],
          "scatterternary": [
           {
            "marker": {
             "colorbar": {
              "outlinewidth": 1,
              "tickcolor": "rgb(36,36,36)",
              "ticks": "outside"
             }
            },
            "type": "scatterternary"
           }
          ],
          "surface": [
           {
            "colorbar": {
             "outlinewidth": 1,
             "tickcolor": "rgb(36,36,36)",
             "ticks": "outside"
            },
            "colorscale": [
             [
              0,
              "#440154"
             ],
             [
              0.1111111111111111,
              "#482878"
             ],
             [
              0.2222222222222222,
              "#3e4989"
             ],
             [
              0.3333333333333333,
              "#31688e"
             ],
             [
              0.4444444444444444,
              "#26828e"
             ],
             [
              0.5555555555555556,
              "#1f9e89"
             ],
             [
              0.6666666666666666,
              "#35b779"
             ],
             [
              0.7777777777777778,
              "#6ece58"
             ],
             [
              0.8888888888888888,
              "#b5de2b"
             ],
             [
              1,
              "#fde725"
             ]
            ],
            "type": "surface"
           }
          ],
          "table": [
           {
            "cells": {
             "fill": {
              "color": "rgb(237,237,237)"
             },
             "line": {
              "color": "white"
             }
            },
            "header": {
             "fill": {
              "color": "rgb(217,217,217)"
             },
             "line": {
              "color": "white"
             }
            },
            "type": "table"
           }
          ]
         },
         "layout": {
          "annotationdefaults": {
           "arrowhead": 0,
           "arrowwidth": 1
          },
          "autotypenumbers": "strict",
          "coloraxis": {
           "colorbar": {
            "outlinewidth": 1,
            "tickcolor": "rgb(36,36,36)",
            "ticks": "outside"
           }
          },
          "colorscale": {
           "diverging": [
            [
             0,
             "rgb(103,0,31)"
            ],
            [
             0.1,
             "rgb(178,24,43)"
            ],
            [
             0.2,
             "rgb(214,96,77)"
            ],
            [
             0.3,
             "rgb(244,165,130)"
            ],
            [
             0.4,
             "rgb(253,219,199)"
            ],
            [
             0.5,
             "rgb(247,247,247)"
            ],
            [
             0.6,
             "rgb(209,229,240)"
            ],
            [
             0.7,
             "rgb(146,197,222)"
            ],
            [
             0.8,
             "rgb(67,147,195)"
            ],
            [
             0.9,
             "rgb(33,102,172)"
            ],
            [
             1,
             "rgb(5,48,97)"
            ]
           ],
           "sequential": [
            [
             0,
             "#440154"
            ],
            [
             0.1111111111111111,
             "#482878"
            ],
            [
             0.2222222222222222,
             "#3e4989"
            ],
            [
             0.3333333333333333,
             "#31688e"
            ],
            [
             0.4444444444444444,
             "#26828e"
            ],
            [
             0.5555555555555556,
             "#1f9e89"
            ],
            [
             0.6666666666666666,
             "#35b779"
            ],
            [
             0.7777777777777778,
             "#6ece58"
            ],
            [
             0.8888888888888888,
             "#b5de2b"
            ],
            [
             1,
             "#fde725"
            ]
           ],
           "sequentialminus": [
            [
             0,
             "#440154"
            ],
            [
             0.1111111111111111,
             "#482878"
            ],
            [
             0.2222222222222222,
             "#3e4989"
            ],
            [
             0.3333333333333333,
             "#31688e"
            ],
            [
             0.4444444444444444,
             "#26828e"
            ],
            [
             0.5555555555555556,
             "#1f9e89"
            ],
            [
             0.6666666666666666,
             "#35b779"
            ],
            [
             0.7777777777777778,
             "#6ece58"
            ],
            [
             0.8888888888888888,
             "#b5de2b"
            ],
            [
             1,
             "#fde725"
            ]
           ]
          },
          "colorway": [
           "#1F77B4",
           "#FF7F0E",
           "#2CA02C",
           "#D62728",
           "#9467BD",
           "#8C564B",
           "#E377C2",
           "#7F7F7F",
           "#BCBD22",
           "#17BECF"
          ],
          "font": {
           "color": "rgb(36,36,36)"
          },
          "geo": {
           "bgcolor": "white",
           "lakecolor": "white",
           "landcolor": "white",
           "showlakes": true,
           "showland": true,
           "subunitcolor": "white"
          },
          "hoverlabel": {
           "align": "left"
          },
          "hovermode": "closest",
          "mapbox": {
           "style": "light"
          },
          "paper_bgcolor": "white",
          "plot_bgcolor": "white",
          "polar": {
           "angularaxis": {
            "gridcolor": "rgb(232,232,232)",
            "linecolor": "rgb(36,36,36)",
            "showgrid": false,
            "showline": true,
            "ticks": "outside"
           },
           "bgcolor": "white",
           "radialaxis": {
            "gridcolor": "rgb(232,232,232)",
            "linecolor": "rgb(36,36,36)",
            "showgrid": false,
            "showline": true,
            "ticks": "outside"
           }
          },
          "scene": {
           "xaxis": {
            "backgroundcolor": "white",
            "gridcolor": "rgb(232,232,232)",
            "gridwidth": 2,
            "linecolor": "rgb(36,36,36)",
            "showbackground": true,
            "showgrid": false,
            "showline": true,
            "ticks": "outside",
            "zeroline": false,
            "zerolinecolor": "rgb(36,36,36)"
           },
           "yaxis": {
            "backgroundcolor": "white",
            "gridcolor": "rgb(232,232,232)",
            "gridwidth": 2,
            "linecolor": "rgb(36,36,36)",
            "showbackground": true,
            "showgrid": false,
            "showline": true,
            "ticks": "outside",
            "zeroline": false,
            "zerolinecolor": "rgb(36,36,36)"
           },
           "zaxis": {
            "backgroundcolor": "white",
            "gridcolor": "rgb(232,232,232)",
            "gridwidth": 2,
            "linecolor": "rgb(36,36,36)",
            "showbackground": true,
            "showgrid": false,
            "showline": true,
            "ticks": "outside",
            "zeroline": false,
            "zerolinecolor": "rgb(36,36,36)"
           }
          },
          "shapedefaults": {
           "fillcolor": "black",
           "line": {
            "width": 0
           },
           "opacity": 0.3
          },
          "ternary": {
           "aaxis": {
            "gridcolor": "rgb(232,232,232)",
            "linecolor": "rgb(36,36,36)",
            "showgrid": false,
            "showline": true,
            "ticks": "outside"
           },
           "baxis": {
            "gridcolor": "rgb(232,232,232)",
            "linecolor": "rgb(36,36,36)",
            "showgrid": false,
            "showline": true,
            "ticks": "outside"
           },
           "bgcolor": "white",
           "caxis": {
            "gridcolor": "rgb(232,232,232)",
            "linecolor": "rgb(36,36,36)",
            "showgrid": false,
            "showline": true,
            "ticks": "outside"
           }
          },
          "title": {
           "x": 0.05
          },
          "xaxis": {
           "automargin": true,
           "gridcolor": "rgb(232,232,232)",
           "linecolor": "rgb(36,36,36)",
           "showgrid": false,
           "showline": true,
           "ticks": "outside",
           "title": {
            "standoff": 15
           },
           "zeroline": false,
           "zerolinecolor": "rgb(36,36,36)"
          },
          "yaxis": {
           "automargin": true,
           "gridcolor": "rgb(232,232,232)",
           "linecolor": "rgb(36,36,36)",
           "showgrid": false,
           "showline": true,
           "ticks": "outside",
           "title": {
            "standoff": 15
           },
           "zeroline": false,
           "zerolinecolor": "rgb(36,36,36)"
          }
         }
        },
        "title": {
         "text": "Proportion of incidents by category and calendar month"
        },
        "xaxis": {
         "anchor": "y",
         "domain": [
          0,
          1
         ],
         "title": {
          "text": "Month"
         }
        },
        "yaxis": {
         "anchor": "x",
         "domain": [
          0,
          1
         ],
         "title": {
          "text": "Percentage (%)"
         }
        }
       }
      },
      "text/html": [
       "<div>                            <div id=\"b64c0fb1-f1aa-4286-98f1-be2312771801\" class=\"plotly-graph-div\" style=\"height:525px; width:100%;\"></div>            <script type=\"text/javascript\">                require([\"plotly\"], function(Plotly) {                    window.PLOTLYENV=window.PLOTLYENV || {};                                    if (document.getElementById(\"b64c0fb1-f1aa-4286-98f1-be2312771801\")) {                    Plotly.newPlot(                        \"b64c0fb1-f1aa-4286-98f1-be2312771801\",                        [{\"alignmentgroup\":\"True\",\"customdata\":[[3370],[3057],[3401],[3164],[2864],[3598],[3554],[3543],[3935],[3983],[3827],[3959]],\"hovertemplate\":\"Category=Larceny Theft\\u003cbr\\u003eMonth=%{x}\\u003cbr\\u003ePercentage (%)=%{y:.2f}\\u003cbr\\u003ecount=%{customdata[0]:,}\\u003cextra\\u003e\\u003c\\u002fextra\\u003e\",\"legendgroup\":\"Larceny Theft\",\"marker\":{\"color\":\"#1F77B4\",\"pattern\":{\"shape\":\"\"}},\"name\":\"Larceny Theft\",\"offsetgroup\":\"Larceny Theft\",\"orientation\":\"v\",\"showlegend\":true,\"textposition\":\"auto\",\"x\":[\"January\",\"February\",\"March\",\"April\",\"May\",\"June\",\"July\",\"August\",\"September\",\"October\",\"November\",\"December\"],\"xaxis\":\"x\",\"y\":[30.6140988372093,29.502026635784595,29.53795379537954,28.808158062460166,26.93248072221177,32.042034019057795,29.567387687188017,30.07895407080397,31.971075723106924,33.08414320126256,33.86725663716814,34.82276365555458],\"yaxis\":\"y\",\"type\":\"bar\"},{\"alignmentgroup\":\"True\",\"customdata\":[[804],[714],[852],[777],[758],[727],[863],[788],[886],[837],[740],[732]],\"hovertemplate\":\"Category=Other\\u003cbr\\u003eMonth=%{x}\\u003cbr\\u003ePercentage (%)=%{y:.2f}\\u003cbr\\u003ecount=%{customdata[0]:,}\\u003cextra\\u003e\\u003c\\u002fextra\\u003e\",\"legendgroup\":\"Other\",\"marker\":{\"color\":\"#FF7F0E\",\"pattern\":{\"shape\":\"\"}},\"name\":\"Other\",\"offsetgroup\":\"Other\",\"orientation\":\"v\",\"showlegend\":true,\"textposition\":\"auto\",\"x\":[\"January\",\"February\",\"March\",\"April\",\"May\",\"June\",\"July\",\"August\",\"September\",\"October\",\"November\",\"December\"],\"xaxis\":\"x\",\"y\":[7.303779069767442,6.890561667631731,7.399687337154768,7.0745697896749515,7.128079744216663,6.4743075964021735,7.179700499168053,6.689871805756006,7.198570035749106,6.952404684774482,6.548672566371681,6.438560999208373],\"yaxis\":\"y\",\"type\":\"bar\"},{\"alignmentgroup\":\"True\",\"customdata\":[[762],[670],[811],[730],[689],[815],[850],[764],[818],[769],[713],[723]],\"hovertemplate\":\"Category=Malicious Mischief\\u003cbr\\u003eMonth=%{x}\\u003cbr\\u003ePercentage (%)=%{y:.2f}\\u003cbr\\u003ecount=%{customdata[0]:,}\\u003cextra\\u003e\\u003c\\u002fextra\\u003e\",\"legendgroup\":\"Malicious Mischief\",\"marker\":{\"color\":\"#2CA02C\",\"pattern\":{\"shape\":\"\"}},\"name\":\"Malicious Mischief\",\"offsetgroup\":\"Malicious Mischief\",\"orientation\":\"v\",\"showlegend\":true,\"textposition\":\"auto\",\"x\":[\"January\",\"February\",\"March\",\"April\",\"May\",\"June\",\"July\",\"August\",\"September\",\"October\",\"November\",\"December\"],\"xaxis\":\"x\",\"y\":[6.922238372093023,6.465933217525574,7.04359909675178,6.646635709733224,6.47921760391198,7.2579926974797395,7.071547420965059,6.48611936497156,6.646083847903802,6.3875737187474035,6.309734513274336,6.359398363972205],\"yaxis\":\"y\",\"type\":\"bar\"},{\"alignmentgroup\":\"True\",\"customdata\":[[676],[648],[782],[683],[694],[779],[756],[722],[827],[806],[660],[670]],\"hovertemplate\":\"Category=Assault\\u003cbr\\u003eMonth=%{x}\\u003cbr\\u003ePercentage (%)=%{y:.2f}\\u003cbr\\u003ecount=%{customdata[0]:,}\\u003cextra\\u003e\\u003c\\u002fextra\\u003e\",\"legendgroup\":\"Assault\",\"marker\":{\"color\":\"#D62728\",\"pattern\":{\"shape\":\"\"}},\"name\":\"Assault\",\"offsetgroup\":\"Assault\",\"orientation\":\"v\",\"showlegend\":true,\"textposition\":\"auto\",\"x\":[\"January\",\"February\",\"March\",\"April\",\"May\",\"June\",\"July\",\"August\",\"September\",\"October\",\"November\",\"December\"],\"xaxis\":\"x\",\"y\":[6.140988372093023,6.253618992472496,6.791731804759424,6.2187016297914965,6.526236599586232,6.937394247038917,6.289517470881864,6.129552593598778,6.719207019824504,6.69490821496802,5.84070796460177,5.893218400914768],\"yaxis\":\"y\",\"type\":\"bar\"},{\"alignmentgroup\":\"True\",\"customdata\":[[653],[657],[745],[757],[850],[635],[683],[703],[748],[752],[709],[699]],\"hovertemplate\":\"Category=Motor Vehicle Theft\\u003cbr\\u003eMonth=%{x}\\u003cbr\\u003ePercentage (%)=%{y:.2f}\\u003cbr\\u003ecount=%{customdata[0]:,}\\u003cextra\\u003e\\u003c\\u002fextra\\u003e\",\"legendgroup\":\"Motor Vehicle Theft\",\"marker\":{\"color\":\"#9467BD\",\"pattern\":{\"shape\":\"\"}},\"name\":\"Motor Vehicle Theft\",\"offsetgroup\":\"Motor Vehicle Theft\",\"orientation\":\"v\",\"showlegend\":true,\"textposition\":\"auto\",\"x\":[\"January\",\"February\",\"March\",\"April\",\"May\",\"June\",\"July\",\"August\",\"September\",\"October\",\"November\",\"December\"],\"xaxis\":\"x\",\"y\":[5.9320494186046515,6.340474811812391,6.470383880493312,6.89247018118911,7.993229264622907,5.6550004452756255,5.6821963394342765,5.968248577977757,6.077348066298343,6.246365977240634,6.274336283185841,6.148298003342422],\"yaxis\":\"y\",\"type\":\"bar\"},{\"alignmentgroup\":\"True\",\"customdata\":[[616],[552],[634],[599],[576],[601],[649],[671],[703],[641],[633],[573]],\"hovertemplate\":\"Category=Non-Criminal\\u003cbr\\u003eMonth=%{x}\\u003cbr\\u003ePercentage (%)=%{y:.2f}\\u003cbr\\u003ecount=%{customdata[0]:,}\\u003cextra\\u003e\\u003c\\u002fextra\\u003e\",\"legendgroup\":\"Non-Criminal\",\"marker\":{\"color\":\"#8C564B\",\"pattern\":{\"shape\":\"\"}},\"name\":\"Non-Criminal\",\"offsetgroup\":\"Non-Criminal\",\"orientation\":\"v\",\"showlegend\":true,\"textposition\":\"auto\",\"x\":[\"January\",\"February\",\"March\",\"April\",\"May\",\"June\",\"July\",\"August\",\"September\",\"October\",\"November\",\"December\"],\"xaxis\":\"x\",\"y\":[5.59593023255814,5.327156919513607,5.50634010769498,5.453883274150961,5.416588301673876,5.352213019859293,5.399334442595674,5.696578656931828,5.711732206694832,5.324362488578785,5.601769911504425,5.040021110036063],\"yaxis\":\"y\",\"type\":\"bar\"},{\"alignmentgroup\":\"True\",\"customdata\":[[606],[546],[570],[550],[534],[575],[633],[644],[617],[587],[538],[657]],\"hovertemplate\":\"Category=Burglary\\u003cbr\\u003eMonth=%{x}\\u003cbr\\u003ePercentage (%)=%{y:.2f}\\u003cbr\\u003ecount=%{customdata[0]:,}\\u003cextra\\u003e\\u003c\\u002fextra\\u003e\",\"legendgroup\":\"Burglary\",\"marker\":{\"color\":\"#E377C2\",\"pattern\":{\"shape\":\"\"}},\"name\":\"Burglary\",\"offsetgroup\":\"Burglary\",\"orientation\":\"v\",\"showlegend\":true,\"textposition\":\"auto\",\"x\":[\"January\",\"February\",\"March\",\"April\",\"May\",\"June\",\"July\",\"August\",\"September\",\"October\",\"November\",\"December\"],\"xaxis\":\"x\",\"y\":[5.505087209302325,5.269253039953677,4.9504950495049505,5.007739233360648,5.021628738010156,5.12066969454092,5.266222961730449,5.467357161049325,5.012999675008125,4.875820250851399,4.761061946902655,5.778872372240302],\"yaxis\":\"y\",\"type\":\"bar\"},{\"alignmentgroup\":\"True\",\"customdata\":[[460],[487],[496],[546],[594],[445],[500],[491],[515],[562],[549],[519]],\"hovertemplate\":\"Category=Recovered Vehicle\\u003cbr\\u003eMonth=%{x}\\u003cbr\\u003ePercentage (%)=%{y:.2f}\\u003cbr\\u003ecount=%{customdata[0]:,}\\u003cextra\\u003e\\u003c\\u002fextra\\u003e\",\"legendgroup\":\"Recovered Vehicle\",\"marker\":{\"color\":\"#7F7F7F\",\"pattern\":{\"shape\":\"\"}},\"name\":\"Recovered Vehicle\",\"offsetgroup\":\"Recovered Vehicle\",\"orientation\":\"v\",\"showlegend\":true,\"textposition\":\"auto\",\"x\":[\"January\",\"February\",\"March\",\"April\",\"May\",\"June\",\"July\",\"August\",\"September\",\"October\",\"November\",\"December\"],\"xaxis\":\"x\",\"y\":[4.178779069767442,4.699864890947693,4.307799200972729,4.97131931166348,5.585856686101185,3.9629530679490608,4.159733777038269,4.168435351048476,4.184270393240169,4.668161807459091,4.8584070796460175,4.565045298619052],\"yaxis\":\"y\",\"type\":\"bar\"},{\"alignmentgroup\":\"True\",\"customdata\":[[441],[365],[438],[543],[341],[479],[501],[423],[404],[389],[375],[393]],\"hovertemplate\":\"Category=Fraud\\u003cbr\\u003eMonth=%{x}\\u003cbr\\u003ePercentage (%)=%{y:.2f}\\u003cbr\\u003ecount=%{customdata[0]:,}\\u003cextra\\u003e\\u003c\\u002fextra\\u003e\",\"legendgroup\":\"Fraud\",\"marker\":{\"color\":\"#BCBD22\",\"pattern\":{\"shape\":\"\"}},\"name\":\"Fraud\",\"offsetgroup\":\"Fraud\",\"orientation\":\"v\",\"showlegend\":true,\"textposition\":\"auto\",\"x\":[\"January\",\"February\",\"March\",\"April\",\"May\",\"June\",\"July\",\"August\",\"September\",\"October\",\"November\",\"December\"],\"xaxis\":\"x\",\"y\":[4.006177325581396,3.5224860065624397,3.804064616988015,4.944004370390603,3.206695504984013,4.265740493365393,4.168053244592347,3.591136768825877,3.282417939551511,3.2311653791843176,3.3185840707964607,3.456768405312692],\"yaxis\":\"y\",\"type\":\"bar\"},{\"alignmentgroup\":\"True\",\"customdata\":[[331],[433],[365],[298],[352],[244],[533],[516],[320],[247],[325],[318]],\"hovertemplate\":\"Category=Drug Offense\\u003cbr\\u003eMonth=%{x}\\u003cbr\\u003ePercentage (%)=%{y:.2f}\\u003cbr\\u003ecount=%{customdata[0]:,}\\u003cextra\\u003e\\u003c\\u002fextra\\u003e\",\"legendgroup\":\"Drug Offense\",\"marker\":{\"color\":\"#17BECF\",\"pattern\":{\"shape\":\"\"}},\"name\":\"Drug Offense\",\"offsetgroup\":\"Drug Offense\",\"orientation\":\"v\",\"showlegend\":true,\"textposition\":\"auto\",\"x\":[\"January\",\"February\",\"March\",\"April\",\"May\",\"June\",\"July\",\"August\",\"September\",\"October\",\"November\",\"December\"],\"xaxis\":\"x\",\"y\":[3.006904069767442,4.178729974908319,3.1700538474900117,2.7132841664390424,3.310137295467369,2.1729450529877994,4.434276206322795,4.380677476865609,2.599935001624959,2.0516654207160063,2.8761061946902653,2.7970797783446213],\"yaxis\":\"y\",\"type\":\"bar\"},{\"alignmentgroup\":\"True\",\"customdata\":[[274],[253],[265],[242],[277],[196],[291],[250],[273],[266],[241],[249]],\"hovertemplate\":\"Category=Warrant\\u003cbr\\u003eMonth=%{x}\\u003cbr\\u003ePercentage (%)=%{y:.2f}\\u003cbr\\u003ecount=%{customdata[0]:,}\\u003cextra\\u003e\\u003c\\u002fextra\\u003e\",\"legendgroup\":\"Warrant\",\"marker\":{\"color\":\"#1F77B4\",\"pattern\":{\"shape\":\"\"}},\"name\":\"Warrant\",\"offsetgroup\":\"Warrant\",\"orientation\":\"v\",\"showlegend\":true,\"textposition\":\"auto\",\"x\":[\"January\",\"February\",\"March\",\"April\",\"May\",\"June\",\"July\",\"August\",\"September\",\"October\",\"November\",\"December\"],\"xaxis\":\"x\",\"y\":[2.489098837209302,2.4416135881104037,2.301545944068091,2.2034052626786855,2.604852360353583,1.7454804524000358,2.420965058236273,2.1224212581713218,2.2180695482612935,2.2094858376941606,2.1327433628318584,2.190166241533996],\"yaxis\":\"y\",\"type\":\"bar\"},{\"alignmentgroup\":\"True\",\"customdata\":[[243],[249],[284],[287],[287],[359],[298],[352],[309],[312],[296],[291]],\"hovertemplate\":\"Category=Lost Property\\u003cbr\\u003eMonth=%{x}\\u003cbr\\u003ePercentage (%)=%{y:.2f}\\u003cbr\\u003ecount=%{customdata[0]:,}\\u003cextra\\u003e\\u003c\\u002fextra\\u003e\",\"legendgroup\":\"Lost Property\",\"marker\":{\"color\":\"#FF7F0E\",\"pattern\":{\"shape\":\"\"}},\"name\":\"Lost Property\",\"offsetgroup\":\"Lost Property\",\"orientation\":\"v\",\"showlegend\":true,\"textposition\":\"auto\",\"x\":[\"January\",\"February\",\"March\",\"April\",\"May\",\"June\",\"July\",\"August\",\"September\",\"October\",\"November\",\"December\"],\"xaxis\":\"x\",\"y\":[2.207485465116279,2.4030110017371165,2.466562445718256,2.613129381771829,2.6988903517020875,3.197078991895984,2.4792013311148087,2.988369131505221,2.5105622359441013,2.5915773735360084,2.6194690265486726,2.5595918726361155],\"yaxis\":\"y\",\"type\":\"bar\"},{\"alignmentgroup\":\"True\",\"customdata\":[[229],[284],[267],[211],[261],[271],[256],[229],[274],[254],[214],[187]],\"hovertemplate\":\"Category=Robbery\\u003cbr\\u003eMonth=%{x}\\u003cbr\\u003ePercentage (%)=%{y:.2f}\\u003cbr\\u003ecount=%{customdata[0]:,}\\u003cextra\\u003e\\u003c\\u002fextra\\u003e\",\"legendgroup\":\"Robbery\",\"marker\":{\"color\":\"#2CA02C\",\"pattern\":{\"shape\":\"\"}},\"name\":\"Robbery\",\"offsetgroup\":\"Robbery\",\"orientation\":\"v\",\"showlegend\":true,\"textposition\":\"auto\",\"x\":[\"January\",\"February\",\"March\",\"April\",\"May\",\"June\",\"July\",\"August\",\"September\",\"October\",\"November\",\"December\"],\"xaxis\":\"x\",\"y\":[2.0803052325581395,2.7407836325033776,2.3189161021365297,1.9211508695256305,2.454391574195975,2.413393890818417,2.129783693843594,1.9441378724849308,2.2261943451413715,2.1098097848658526,1.893805309734513,1.6448236432403907],\"yaxis\":\"y\",\"type\":\"bar\"},{\"alignmentgroup\":\"True\",\"customdata\":[[208],[213],[236],[202],[212],[195],[214],[251],[230],[264],[208],[212]],\"hovertemplate\":\"Category=Missing Person\\u003cbr\\u003eMonth=%{x}\\u003cbr\\u003ePercentage (%)=%{y:.2f}\\u003cbr\\u003ecount=%{customdata[0]:,}\\u003cextra\\u003e\\u003c\\u002fextra\\u003e\",\"legendgroup\":\"Missing Person\",\"marker\":{\"color\":\"#D62728\",\"pattern\":{\"shape\":\"\"}},\"name\":\"Missing Person\",\"offsetgroup\":\"Missing Person\",\"orientation\":\"v\",\"showlegend\":true,\"textposition\":\"auto\",\"x\":[\"January\",\"February\",\"March\",\"April\",\"May\",\"June\",\"July\",\"August\",\"September\",\"October\",\"November\",\"December\"],\"xaxis\":\"x\",\"y\":[1.88953488372093,2.055587724377533,2.049678652075734,1.8392060457070019,1.9936054165883017,1.7365749398877905,1.7803660565723793,2.130910943204007,1.8687032824179395,2.1928731622227757,1.8407079646017697,1.8647198522297477],\"yaxis\":\"y\",\"type\":\"bar\"},{\"alignmentgroup\":\"True\",\"customdata\":[[195],[179],[218],[214],[214],[227],[241],[262],[285],[234],[220],[209]],\"hovertemplate\":\"Category=Suspicious Occ\\u003cbr\\u003eMonth=%{x}\\u003cbr\\u003ePercentage (%)=%{y:.2f}\\u003cbr\\u003ecount=%{customdata[0]:,}\\u003cextra\\u003e\\u003c\\u002fextra\\u003e\",\"legendgroup\":\"Suspicious Occ\",\"marker\":{\"color\":\"#9467BD\",\"pattern\":{\"shape\":\"\"}},\"name\":\"Suspicious Occ\",\"offsetgroup\":\"Suspicious Occ\",\"orientation\":\"v\",\"showlegend\":true,\"textposition\":\"auto\",\"x\":[\"January\",\"February\",\"March\",\"April\",\"May\",\"June\",\"July\",\"August\",\"September\",\"October\",\"November\",\"December\"],\"xaxis\":\"x\",\"y\":[1.771438953488372,1.7274657402045936,1.893347229459788,1.9484658107985067,2.012413014858003,2.021551340279633,2.004991680532446,2.224297478563545,2.3155671108222293,1.943683030152006,1.9469026548672566,1.8383323071510245],\"yaxis\":\"y\",\"type\":\"bar\"},{\"alignmentgroup\":\"True\",\"customdata\":[[191],[141],[187],[166],[193],[193],[189],[189],[182],[197],[170],[146]],\"hovertemplate\":\"Category=Disorderly Conduct\\u003cbr\\u003eMonth=%{x}\\u003cbr\\u003ePercentage (%)=%{y:.2f}\\u003cbr\\u003ecount=%{customdata[0]:,}\\u003cextra\\u003e\\u003c\\u002fextra\\u003e\",\"legendgroup\":\"Disorderly Conduct\",\"marker\":{\"color\":\"#8C564B\",\"pattern\":{\"shape\":\"\"}},\"name\":\"Disorderly Conduct\",\"offsetgroup\":\"Disorderly Conduct\",\"orientation\":\"v\",\"showlegend\":true,\"textposition\":\"auto\",\"x\":[\"January\",\"February\",\"March\",\"April\",\"May\",\"June\",\"July\",\"August\",\"September\",\"October\",\"November\",\"December\"],\"xaxis\":\"x\",\"y\":[1.7351017441860466,1.3607411696583671,1.6241097793989925,1.5114267504324865,1.8149332330261427,1.7187639148633003,1.572379367720466,1.6045504711775194,1.4787130321741957,1.6363485339313897,1.5044247787610618,1.284193860497845],\"yaxis\":\"y\",\"type\":\"bar\"},{\"alignmentgroup\":\"True\",\"customdata\":[[155],[160],[152],[163],[150],[160],[140],[141],[141],[158],[132],[105]],\"hovertemplate\":\"Category=Miscellaneous Investigation\\u003cbr\\u003eMonth=%{x}\\u003cbr\\u003ePercentage (%)=%{y:.2f}\\u003cbr\\u003ecount=%{customdata[0]:,}\\u003cextra\\u003e\\u003c\\u002fextra\\u003e\",\"legendgroup\":\"Miscellaneous Investigation\",\"marker\":{\"color\":\"#E377C2\",\"pattern\":{\"shape\":\"\"}},\"name\":\"Miscellaneous Investigation\",\"offsetgroup\":\"Miscellaneous Investigation\",\"orientation\":\"v\",\"showlegend\":true,\"textposition\":\"auto\",\"x\":[\"January\",\"February\",\"March\",\"April\",\"May\",\"June\",\"July\",\"August\",\"September\",\"October\",\"November\",\"December\"],\"xaxis\":\"x\",\"y\":[1.4080668604651163,1.5441034549314805,1.3201320132013201,1.4841118091596102,1.410569870227572,1.4248820019592128,1.1647254575707155,1.1970455896086256,1.1455963600909977,1.3124013622393886,1.168141592920354,0.9235640777552996],\"yaxis\":\"y\",\"type\":\"bar\"},{\"alignmentgroup\":\"True\",\"customdata\":[[131],[85],[129],[94],[103],[76],[113],[101],[92],[94],[76],[105]],\"hovertemplate\":\"Category=Other Offenses\\u003cbr\\u003eMonth=%{x}\\u003cbr\\u003ePercentage (%)=%{y:.2f}\\u003cbr\\u003ecount=%{customdata[0]:,}\\u003cextra\\u003e\\u003c\\u002fextra\\u003e\",\"legendgroup\":\"Other Offenses\",\"marker\":{\"color\":\"#7F7F7F\",\"pattern\":{\"shape\":\"\"}},\"name\":\"Other Offenses\",\"offsetgroup\":\"Other Offenses\",\"orientation\":\"v\",\"showlegend\":true,\"textposition\":\"auto\",\"x\":[\"January\",\"February\",\"March\",\"April\",\"May\",\"June\",\"July\",\"August\",\"September\",\"October\",\"November\",\"December\"],\"xaxis\":\"x\",\"y\":[1.1900436046511629,0.8203049604323489,1.1203751954142784,0.8558681598834562,0.9685913108895994,0.676818950930626,0.9400998336106489,0.857458188301214,0.7474813129671758,0.7807957471550793,0.6725663716814159,0.9235640777552996],\"yaxis\":\"y\",\"type\":\"bar\"},{\"alignmentgroup\":\"True\",\"customdata\":[[116],[119],[105],[124],[121],[154],[179],[197],[154],[135],[135],[134]],\"hovertemplate\":\"Category=Offences Against The Family And Children\\u003cbr\\u003eMonth=%{x}\\u003cbr\\u003ePercentage (%)=%{y:.2f}\\u003cbr\\u003ecount=%{customdata[0]:,}\\u003cextra\\u003e\\u003c\\u002fextra\\u003e\",\"legendgroup\":\"Offences Against The Family And Children\",\"marker\":{\"color\":\"#BCBD22\",\"pattern\":{\"shape\":\"\"}},\"name\":\"Offences Against The Family And Children\",\"offsetgroup\":\"Offences Against The Family And Children\",\"orientation\":\"v\",\"showlegend\":true,\"textposition\":\"auto\",\"x\":[\"January\",\"February\",\"March\",\"April\",\"May\",\"June\",\"July\",\"August\",\"September\",\"October\",\"November\",\"December\"],\"xaxis\":\"x\",\"y\":[1.0537790697674418,1.1484269446052886,0.9119332985930172,1.129017572612219,1.137859695316908,1.3714489268857422,1.4891846921797005,1.6724679514390015,1.2512187195320117,1.121355594318465,1.1946902654867257,1.1786436801829536],\"yaxis\":\"y\",\"type\":\"bar\"},{\"alignmentgroup\":\"True\",\"customdata\":[[87],[87],[84],[86],[85],[96],[82],[95],[111],[104],[77],[77]],\"hovertemplate\":\"Category=Weapons Offense\\u003cbr\\u003eMonth=%{x}\\u003cbr\\u003ePercentage (%)=%{y:.2f}\\u003cbr\\u003ecount=%{customdata[0]:,}\\u003cextra\\u003e\\u003c\\u002fextra\\u003e\",\"legendgroup\":\"Weapons Offense\",\"marker\":{\"color\":\"#17BECF\",\"pattern\":{\"shape\":\"\"}},\"name\":\"Weapons Offense\",\"offsetgroup\":\"Weapons Offense\",\"orientation\":\"v\",\"showlegend\":true,\"textposition\":\"auto\",\"x\":[\"January\",\"February\",\"March\",\"April\",\"May\",\"June\",\"July\",\"August\",\"September\",\"October\",\"November\",\"December\"],\"xaxis\":\"x\",\"y\":[0.7903343023255814,0.8396062536189925,0.7295466388744137,0.7830283164891195,0.7993229264622908,0.8549292011755277,0.6821963394342762,0.8065200781051022,0.9018524536886579,0.8638591245120026,0.6814159292035399,0.6772803236872196],\"yaxis\":\"y\",\"type\":\"bar\"},{\"alignmentgroup\":\"True\",\"customdata\":[[83],[76],[96],[121],[96],[36],[73],[50],[67],[61],[67],[49]],\"hovertemplate\":\"Category=Traffic Violation Arrest\\u003cbr\\u003eMonth=%{x}\\u003cbr\\u003ePercentage (%)=%{y:.2f}\\u003cbr\\u003ecount=%{customdata[0]:,}\\u003cextra\\u003e\\u003c\\u002fextra\\u003e\",\"legendgroup\":\"Traffic Violation Arrest\",\"marker\":{\"color\":\"#1F77B4\",\"pattern\":{\"shape\":\"\"}},\"name\":\"Traffic Violation Arrest\",\"offsetgroup\":\"Traffic Violation Arrest\",\"orientation\":\"v\",\"showlegend\":true,\"textposition\":\"auto\",\"x\":[\"January\",\"February\",\"March\",\"April\",\"May\",\"June\",\"July\",\"August\",\"September\",\"October\",\"November\",\"December\"],\"xaxis\":\"x\",\"y\":[0.7539970930232559,0.7334491410924532,0.8337675872850442,1.1017026313393428,0.9027647169456461,0.32059845044082286,0.6073211314475874,0.42448425163426434,0.5443613909652258,0.5066866018772324,0.5929203539823008,0.4309965696191398],\"yaxis\":\"y\",\"type\":\"bar\"},{\"alignmentgroup\":\"True\",\"customdata\":[[65],[69],[58],[58],[64],[68],[90],[56],[69],[61],[71],[50]],\"hovertemplate\":\"Category=Weapons Carrying Etc\\u003cbr\\u003eMonth=%{x}\\u003cbr\\u003ePercentage (%)=%{y:.2f}\\u003cbr\\u003ecount=%{customdata[0]:,}\\u003cextra\\u003e\\u003c\\u002fextra\\u003e\",\"legendgroup\":\"Weapons Carrying Etc\",\"marker\":{\"color\":\"#FF7F0E\",\"pattern\":{\"shape\":\"\"}},\"name\":\"Weapons Carrying Etc\",\"offsetgroup\":\"Weapons Carrying Etc\",\"orientation\":\"v\",\"showlegend\":true,\"textposition\":\"auto\",\"x\":[\"January\",\"February\",\"March\",\"April\",\"May\",\"June\",\"July\",\"August\",\"September\",\"October\",\"November\",\"December\"],\"xaxis\":\"x\",\"y\":[0.5904796511627907,0.6658946149392009,0.5037345839847143,0.5280888646089411,0.6018431446304308,0.6055748508326654,0.7487520798668885,0.47542236183037606,0.5606109847253818,0.5066866018772324,0.6283185840707964,0.439792417978714],\"yaxis\":\"y\",\"type\":\"bar\"},{\"alignmentgroup\":\"True\",\"customdata\":[[41],[19],[30],[48],[33],[33],[35],[46],[23],[41],[20],[28]],\"hovertemplate\":\"Category=Vandalism\\u003cbr\\u003eMonth=%{x}\\u003cbr\\u003ePercentage (%)=%{y:.2f}\\u003cbr\\u003ecount=%{customdata[0]:,}\\u003cextra\\u003e\\u003c\\u002fextra\\u003e\",\"legendgroup\":\"Vandalism\",\"marker\":{\"color\":\"#2CA02C\",\"pattern\":{\"shape\":\"\"}},\"name\":\"Vandalism\",\"offsetgroup\":\"Vandalism\",\"orientation\":\"v\",\"showlegend\":true,\"textposition\":\"auto\",\"x\":[\"January\",\"February\",\"March\",\"April\",\"May\",\"June\",\"July\",\"August\",\"September\",\"October\",\"November\",\"December\"],\"xaxis\":\"x\",\"y\":[0.37245639534883723,0.1833622852731133,0.26055237102657636,0.4370390603660202,0.31032537145006583,0.2938819129040876,0.2911813643926789,0.3905255115035232,0.18687032824179395,0.34055984716338566,0.17699115044247787,0.24628375406807987],\"yaxis\":\"y\",\"type\":\"bar\"},{\"alignmentgroup\":\"True\",\"customdata\":[[38],[32],[41],[45],[27],[31],[33],[33],[26],[31],[39],[32]],\"hovertemplate\":\"Category=Case Closure\\u003cbr\\u003eMonth=%{x}\\u003cbr\\u003ePercentage (%)=%{y:.2f}\\u003cbr\\u003ecount=%{customdata[0]:,}\\u003cextra\\u003e\\u003c\\u002fextra\\u003e\",\"legendgroup\":\"Case Closure\",\"marker\":{\"color\":\"#D62728\",\"pattern\":{\"shape\":\"\"}},\"name\":\"Case Closure\",\"offsetgroup\":\"Case Closure\",\"orientation\":\"v\",\"showlegend\":true,\"textposition\":\"auto\",\"x\":[\"January\",\"February\",\"March\",\"April\",\"May\",\"June\",\"July\",\"August\",\"September\",\"October\",\"November\",\"December\"],\"xaxis\":\"x\",\"y\":[0.345203488372093,0.30882069098629605,0.3560882404029877,0.409724119093144,0.25390257664096294,0.27607088787959744,0.27454242928452577,0.28015960607861445,0.21124471888202798,0.25749646980646235,0.3451327433628319,0.28146714750637697],\"yaxis\":\"y\",\"type\":\"bar\"},{\"alignmentgroup\":\"True\",\"customdata\":[[32],[39],[28],[25],[28],[33],[32],[36],[39],[30],[33],[26]],\"hovertemplate\":\"Category=Arson\\u003cbr\\u003eMonth=%{x}\\u003cbr\\u003ePercentage (%)=%{y:.2f}\\u003cbr\\u003ecount=%{customdata[0]:,}\\u003cextra\\u003e\\u003c\\u002fextra\\u003e\",\"legendgroup\":\"Arson\",\"marker\":{\"color\":\"#9467BD\",\"pattern\":{\"shape\":\"\"}},\"name\":\"Arson\",\"offsetgroup\":\"Arson\",\"orientation\":\"v\",\"showlegend\":true,\"textposition\":\"auto\",\"x\":[\"January\",\"February\",\"March\",\"April\",\"May\",\"June\",\"July\",\"August\",\"September\",\"October\",\"November\",\"December\"],\"xaxis\":\"x\",\"y\":[0.29069767441860467,0.37637521713954836,0.2431822129581379,0.2276245106073022,0.2633063757758134,0.2938819129040876,0.26622296173044924,0.3056286611766703,0.3168670783230419,0.24919013207076998,0.2920353982300885,0.22869205734893128],\"yaxis\":\"y\",\"type\":\"bar\"},{\"alignmentgroup\":\"True\",\"customdata\":[[32],[47],[43],[43],[60],[47],[49],[47],[70],[49],[55],[55]],\"hovertemplate\":\"Category=Stolen Property\\u003cbr\\u003eMonth=%{x}\\u003cbr\\u003ePercentage (%)=%{y:.2f}\\u003cbr\\u003ecount=%{customdata[0]:,}\\u003cextra\\u003e\\u003c\\u002fextra\\u003e\",\"legendgroup\":\"Stolen Property\",\"marker\":{\"color\":\"#8C564B\",\"pattern\":{\"shape\":\"\"}},\"name\":\"Stolen Property\",\"offsetgroup\":\"Stolen Property\",\"orientation\":\"v\",\"showlegend\":true,\"textposition\":\"auto\",\"x\":[\"January\",\"February\",\"March\",\"April\",\"May\",\"June\",\"July\",\"August\",\"September\",\"October\",\"November\",\"December\"],\"xaxis\":\"x\",\"y\":[0.29069767441860467,0.45358038988612237,0.3734583984714261,0.39151415824455976,0.5642279480910287,0.4185590880755188,0.40765391014975044,0.39901519653620854,0.5687357816054599,0.4070105490489243,0.48672566371681414,0.4837716597765855],\"yaxis\":\"y\",\"type\":\"bar\"},{\"alignmentgroup\":\"True\",\"customdata\":[[32],[29],[29],[38],[27],[18],[32],[29],[33],[28],[41],[35]],\"hovertemplate\":\"Category=Traffic Collision\\u003cbr\\u003eMonth=%{x}\\u003cbr\\u003ePercentage (%)=%{y:.2f}\\u003cbr\\u003ecount=%{customdata[0]:,}\\u003cextra\\u003e\\u003c\\u002fextra\\u003e\",\"legendgroup\":\"Traffic Collision\",\"marker\":{\"color\":\"#E377C2\",\"pattern\":{\"shape\":\"\"}},\"name\":\"Traffic Collision\",\"offsetgroup\":\"Traffic Collision\",\"orientation\":\"v\",\"showlegend\":true,\"textposition\":\"auto\",\"x\":[\"January\",\"February\",\"March\",\"April\",\"May\",\"June\",\"July\",\"August\",\"September\",\"October\",\"November\",\"December\"],\"xaxis\":\"x\",\"y\":[0.29069767441860467,0.2798687512063308,0.25186729199235713,0.34598925612309933,0.25390257664096294,0.16029922522041143,0.26622296173044924,0.24620086594787333,0.2681182970425739,0.23257745659938533,0.36283185840707965,0.30785469258509984],\"yaxis\":\"y\",\"type\":\"bar\"},{\"alignmentgroup\":\"True\",\"customdata\":[[28],[18],[30],[47],[37],[49],[40],[52],[44],[33],[27],[34]],\"hovertemplate\":\"Category=Courtesy Report\\u003cbr\\u003eMonth=%{x}\\u003cbr\\u003ePercentage (%)=%{y:.2f}\\u003cbr\\u003ecount=%{customdata[0]:,}\\u003cextra\\u003e\\u003c\\u002fextra\\u003e\",\"legendgroup\":\"Courtesy Report\",\"marker\":{\"color\":\"#7F7F7F\",\"pattern\":{\"shape\":\"\"}},\"name\":\"Courtesy Report\",\"offsetgroup\":\"Courtesy Report\",\"orientation\":\"v\",\"showlegend\":true,\"textposition\":\"auto\",\"x\":[\"January\",\"February\",\"March\",\"April\",\"May\",\"June\",\"July\",\"August\",\"September\",\"October\",\"November\",\"December\"],\"xaxis\":\"x\",\"y\":[0.2543604651162791,0.17371163867979156,0.26055237102657636,0.4279340799417281,0.34794056798946776,0.43637011310000895,0.33277870216306155,0.44146362169963493,0.35749106272343195,0.27410914527784697,0.23893805309734514,0.29905884422552553],\"yaxis\":\"y\",\"type\":\"bar\"},{\"alignmentgroup\":\"True\",\"customdata\":[[27],[27],[41],[45],[29],[26],[29],[24],[26],[42],[30],[21]],\"hovertemplate\":\"Category=Forgery And Counterfeiting\\u003cbr\\u003eMonth=%{x}\\u003cbr\\u003ePercentage (%)=%{y:.2f}\\u003cbr\\u003ecount=%{customdata[0]:,}\\u003cextra\\u003e\\u003c\\u002fextra\\u003e\",\"legendgroup\":\"Forgery And Counterfeiting\",\"marker\":{\"color\":\"#BCBD22\",\"pattern\":{\"shape\":\"\"}},\"name\":\"Forgery And Counterfeiting\",\"offsetgroup\":\"Forgery And Counterfeiting\",\"orientation\":\"v\",\"showlegend\":true,\"textposition\":\"auto\",\"x\":[\"January\",\"February\",\"March\",\"April\",\"May\",\"June\",\"July\",\"August\",\"September\",\"October\",\"November\",\"December\"],\"xaxis\":\"x\",\"y\":[0.24527616279069767,0.26056745801968734,0.3560882404029877,0.409724119093144,0.2727101749106639,0.2315433253183721,0.24126455906821964,0.20375244078444688,0.21124471888202798,0.348866184899078,0.2654867256637168,0.1847128155510599],\"yaxis\":\"y\",\"type\":\"bar\"},{\"alignmentgroup\":\"True\",\"customdata\":[[16],[25],[24],[23],[16],[23],[23],[18],[15],[13],[29],[22]],\"hovertemplate\":\"Category=Fire Report\\u003cbr\\u003eMonth=%{x}\\u003cbr\\u003ePercentage (%)=%{y:.2f}\\u003cbr\\u003ecount=%{customdata[0]:,}\\u003cextra\\u003e\\u003c\\u002fextra\\u003e\",\"legendgroup\":\"Fire Report\",\"marker\":{\"color\":\"#17BECF\",\"pattern\":{\"shape\":\"\"}},\"name\":\"Fire Report\",\"offsetgroup\":\"Fire Report\",\"orientation\":\"v\",\"showlegend\":true,\"textposition\":\"auto\",\"x\":[\"January\",\"February\",\"March\",\"April\",\"May\",\"June\",\"July\",\"August\",\"September\",\"October\",\"November\",\"December\"],\"xaxis\":\"x\",\"y\":[0.14534883720930233,0.24126616483304383,0.20844189682126105,0.209414549758718,0.1504607861576077,0.20482678778163685,0.1913477537437604,0.15281433058833516,0.12187195320116997,0.10798239056400033,0.25663716814159293,0.19350866391063418],\"yaxis\":\"y\",\"type\":\"bar\"},{\"alignmentgroup\":\"True\",\"customdata\":[[15],[13],[12],[5],[10],[4],[15],[14],[10],[12],[11],[19]],\"hovertemplate\":\"Category=Embezzlement\\u003cbr\\u003eMonth=%{x}\\u003cbr\\u003ePercentage (%)=%{y:.2f}\\u003cbr\\u003ecount=%{customdata[0]:,}\\u003cextra\\u003e\\u003c\\u002fextra\\u003e\",\"legendgroup\":\"Embezzlement\",\"marker\":{\"color\":\"#1F77B4\",\"pattern\":{\"shape\":\"\"}},\"name\":\"Embezzlement\",\"offsetgroup\":\"Embezzlement\",\"orientation\":\"v\",\"showlegend\":true,\"textposition\":\"auto\",\"x\":[\"January\",\"February\",\"March\",\"April\",\"May\",\"June\",\"July\",\"August\",\"September\",\"October\",\"November\",\"December\"],\"xaxis\":\"x\",\"y\":[0.13626453488372092,0.12545840571318279,0.10422094841063052,0.04552490212146044,0.0940379913485048,0.035622050048980315,0.12479201331114809,0.11885559045759402,0.08124796880077997,0.099676052828308,0.09734513274336283,0.16712111883191136],\"yaxis\":\"y\",\"type\":\"bar\"},{\"alignmentgroup\":\"True\",\"customdata\":[[10],[11],[5],[7],[3],[5],[5],[5],[7],[5],[5],[11]],\"hovertemplate\":\"Category=Suicide\\u003cbr\\u003eMonth=%{x}\\u003cbr\\u003ePercentage (%)=%{y:.2f}\\u003cbr\\u003ecount=%{customdata[0]:,}\\u003cextra\\u003e\\u003c\\u002fextra\\u003e\",\"legendgroup\":\"Suicide\",\"marker\":{\"color\":\"#FF7F0E\",\"pattern\":{\"shape\":\"\"}},\"name\":\"Suicide\",\"offsetgroup\":\"Suicide\",\"orientation\":\"v\",\"showlegend\":true,\"textposition\":\"auto\",\"x\":[\"January\",\"February\",\"March\",\"April\",\"May\",\"June\",\"July\",\"August\",\"September\",\"October\",\"November\",\"December\"],\"xaxis\":\"x\",\"y\":[0.09084302325581395,0.10615711252653928,0.04342539517109606,0.06373486297004462,0.02821139740455144,0.0445275625612254,0.04159733777038269,0.04244842516342644,0.05687357816054598,0.041531688678461666,0.04424778761061947,0.09675433195531709],\"yaxis\":\"y\",\"type\":\"bar\"},{\"alignmentgroup\":\"True\",\"customdata\":[[8],[14],[10],[4],[1],[1],[3],[2],[1],[3]],\"hovertemplate\":\"Category=Prostitution\\u003cbr\\u003eMonth=%{x}\\u003cbr\\u003ePercentage (%)=%{y:.2f}\\u003cbr\\u003ecount=%{customdata[0]:,}\\u003cextra\\u003e\\u003c\\u002fextra\\u003e\",\"legendgroup\":\"Prostitution\",\"marker\":{\"color\":\"#2CA02C\",\"pattern\":{\"shape\":\"\"}},\"name\":\"Prostitution\",\"offsetgroup\":\"Prostitution\",\"orientation\":\"v\",\"showlegend\":true,\"textposition\":\"auto\",\"x\":[\"January\",\"February\",\"March\",\"April\",\"May\",\"August\",\"September\",\"October\",\"November\",\"December\"],\"xaxis\":\"x\",\"y\":[0.07267441860465117,0.13510905230650455,0.08685079034219212,0.03641992169716835,0.00940379913485048,0.008489685032685287,0.024374390640233994,0.016612675471384668,0.008849557522123894,0.02638754507872284],\"yaxis\":\"y\",\"type\":\"bar\"},{\"alignmentgroup\":\"True\",\"customdata\":[[8],[15],[10],[5],[18],[8],[9],[9],[16],[14],[9],[8]],\"hovertemplate\":\"Category=Sex Offense\\u003cbr\\u003eMonth=%{x}\\u003cbr\\u003ePercentage (%)=%{y:.2f}\\u003cbr\\u003ecount=%{customdata[0]:,}\\u003cextra\\u003e\\u003c\\u002fextra\\u003e\",\"legendgroup\":\"Sex Offense\",\"marker\":{\"color\":\"#D62728\",\"pattern\":{\"shape\":\"\"}},\"name\":\"Sex Offense\",\"offsetgroup\":\"Sex Offense\",\"orientation\":\"v\",\"showlegend\":true,\"textposition\":\"auto\",\"x\":[\"January\",\"February\",\"March\",\"April\",\"May\",\"June\",\"July\",\"August\",\"September\",\"October\",\"November\",\"December\"],\"xaxis\":\"x\",\"y\":[0.07267441860465117,0.1447596988998263,0.08685079034219212,0.04552490212146044,0.16926838442730863,0.07124410009796063,0.07487520798668885,0.07640716529416758,0.12999675008124797,0.11628872829969267,0.07964601769911504,0.07036678687659424],\"yaxis\":\"y\",\"type\":\"bar\"},{\"alignmentgroup\":\"True\",\"customdata\":[[7],[5],[5],[1],[1],[2],[5],[5],[2],[4]],\"hovertemplate\":\"Category=Homicide\\u003cbr\\u003eMonth=%{x}\\u003cbr\\u003ePercentage (%)=%{y:.2f}\\u003cbr\\u003ecount=%{customdata[0]:,}\\u003cextra\\u003e\\u003c\\u002fextra\\u003e\",\"legendgroup\":\"Homicide\",\"marker\":{\"color\":\"#9467BD\",\"pattern\":{\"shape\":\"\"}},\"name\":\"Homicide\",\"offsetgroup\":\"Homicide\",\"orientation\":\"v\",\"showlegend\":true,\"textposition\":\"auto\",\"x\":[\"January\",\"February\",\"May\",\"June\",\"July\",\"August\",\"September\",\"October\",\"November\",\"December\"],\"xaxis\":\"x\",\"y\":[0.06359011627906977,0.048253232966608765,0.0470189956742524,0.008905512512245079,0.008319467554076539,0.016979370065370574,0.04062398440038999,0.041531688678461666,0.017699115044247787,0.03518339343829712],\"yaxis\":\"y\",\"type\":\"bar\"},{\"alignmentgroup\":\"True\",\"customdata\":[[6],[7],[13],[12],[12],[5],[7],[6],[6],[5],[11],[3]],\"hovertemplate\":\"Category=Vehicle Impounded\\u003cbr\\u003eMonth=%{x}\\u003cbr\\u003ePercentage (%)=%{y:.2f}\\u003cbr\\u003ecount=%{customdata[0]:,}\\u003cextra\\u003e\\u003c\\u002fextra\\u003e\",\"legendgroup\":\"Vehicle Impounded\",\"marker\":{\"color\":\"#8C564B\",\"pattern\":{\"shape\":\"\"}},\"name\":\"Vehicle Impounded\",\"offsetgroup\":\"Vehicle Impounded\",\"orientation\":\"v\",\"showlegend\":true,\"textposition\":\"auto\",\"x\":[\"January\",\"February\",\"March\",\"April\",\"May\",\"June\",\"July\",\"August\",\"September\",\"October\",\"November\",\"December\"],\"xaxis\":\"x\",\"y\":[0.05450581395348837,0.06755452615325228,0.11290602744484975,0.10925976509150505,0.11284558961820576,0.0445275625612254,0.05823627287853577,0.05093811019611172,0.04874878128046799,0.041531688678461666,0.09734513274336283,0.02638754507872284],\"yaxis\":\"y\",\"type\":\"bar\"},{\"alignmentgroup\":\"True\",\"customdata\":[[6],[6],[7],[8],[3],[4],[3],[4],[5],[5],[5],[3]],\"hovertemplate\":\"Category=Vehicle Misplaced\\u003cbr\\u003eMonth=%{x}\\u003cbr\\u003ePercentage (%)=%{y:.2f}\\u003cbr\\u003ecount=%{customdata[0]:,}\\u003cextra\\u003e\\u003c\\u002fextra\\u003e\",\"legendgroup\":\"Vehicle Misplaced\",\"marker\":{\"color\":\"#E377C2\",\"pattern\":{\"shape\":\"\"}},\"name\":\"Vehicle Misplaced\",\"offsetgroup\":\"Vehicle Misplaced\",\"orientation\":\"v\",\"showlegend\":true,\"textposition\":\"auto\",\"x\":[\"January\",\"February\",\"March\",\"April\",\"May\",\"June\",\"July\",\"August\",\"September\",\"October\",\"November\",\"December\"],\"xaxis\":\"x\",\"y\":[0.05450581395348837,0.05790387955993051,0.06079555323953448,0.0728398433943367,0.02821139740455144,0.035622050048980315,0.02495840266222962,0.03395874013074115,0.04062398440038999,0.041531688678461666,0.04424778761061947,0.02638754507872284],\"yaxis\":\"y\",\"type\":\"bar\"},{\"alignmentgroup\":\"True\",\"customdata\":[[2],[5],[9],[5],[1],[4],[10],[3],[8],[6],[3],[2]],\"hovertemplate\":\"Category=Drug Violation\\u003cbr\\u003eMonth=%{x}\\u003cbr\\u003ePercentage (%)=%{y:.2f}\\u003cbr\\u003ecount=%{customdata[0]:,}\\u003cextra\\u003e\\u003c\\u002fextra\\u003e\",\"legendgroup\":\"Drug Violation\",\"marker\":{\"color\":\"#7F7F7F\",\"pattern\":{\"shape\":\"\"}},\"name\":\"Drug Violation\",\"offsetgroup\":\"Drug Violation\",\"orientation\":\"v\",\"showlegend\":true,\"textposition\":\"auto\",\"x\":[\"January\",\"February\",\"March\",\"April\",\"May\",\"June\",\"July\",\"August\",\"September\",\"October\",\"November\",\"December\"],\"xaxis\":\"x\",\"y\":[0.018168604651162792,0.048253232966608765,0.0781657113079729,0.04552490212146044,0.00940379913485048,0.035622050048980315,0.08319467554076539,0.02546905509805586,0.06499837504062399,0.049838026414154,0.026548672566371685,0.01759169671914856],\"yaxis\":\"y\",\"type\":\"bar\"},{\"alignmentgroup\":\"True\",\"customdata\":[[2],[2],[1],[1],[4]],\"hovertemplate\":\"Category=Human Trafficking, Commercial Sex Acts\\u003cbr\\u003eMonth=%{x}\\u003cbr\\u003ePercentage (%)=%{y:.2f}\\u003cbr\\u003ecount=%{customdata[0]:,}\\u003cextra\\u003e\\u003c\\u002fextra\\u003e\",\"legendgroup\":\"Human Trafficking, Commercial Sex Acts\",\"marker\":{\"color\":\"#BCBD22\",\"pattern\":{\"shape\":\"\"}},\"name\":\"Human Trafficking, Commercial Sex Acts\",\"offsetgroup\":\"Human Trafficking, Commercial Sex Acts\",\"orientation\":\"v\",\"showlegend\":true,\"textposition\":\"auto\",\"x\":[\"January\",\"February\",\"April\",\"May\",\"August\"],\"xaxis\":\"x\",\"y\":[0.018168604651162792,0.019301293186643503,0.009104980424292088,0.00940379913485048,0.03395874013074115],\"yaxis\":\"y\",\"type\":\"bar\"},{\"alignmentgroup\":\"True\",\"customdata\":[[1],[3],[5],[6],[7],[5],[6],[6],[2]],\"hovertemplate\":\"Category=Liquor Laws\\u003cbr\\u003eMonth=%{x}\\u003cbr\\u003ePercentage (%)=%{y:.2f}\\u003cbr\\u003ecount=%{customdata[0]:,}\\u003cextra\\u003e\\u003c\\u002fextra\\u003e\",\"legendgroup\":\"Liquor Laws\",\"marker\":{\"color\":\"#17BECF\",\"pattern\":{\"shape\":\"\"}},\"name\":\"Liquor Laws\",\"offsetgroup\":\"Liquor Laws\",\"orientation\":\"v\",\"showlegend\":true,\"textposition\":\"auto\",\"x\":[\"January\",\"February\",\"April\",\"May\",\"June\",\"July\",\"August\",\"September\",\"October\"],\"xaxis\":\"x\",\"y\":[0.009084302325581396,0.028951939779965255,0.04552490212146044,0.05642279480910288,0.06233858758571555,0.04159733777038269,0.05093811019611172,0.04874878128046799,0.016612675471384668],\"yaxis\":\"y\",\"type\":\"bar\"},{\"alignmentgroup\":\"True\",\"customdata\":[[1],[1],[6],[2],[2],[2],[2],[1],[6],[1],[3],[3]],\"hovertemplate\":\"Category=Rape\\u003cbr\\u003eMonth=%{x}\\u003cbr\\u003ePercentage (%)=%{y:.2f}\\u003cbr\\u003ecount=%{customdata[0]:,}\\u003cextra\\u003e\\u003c\\u002fextra\\u003e\",\"legendgroup\":\"Rape\",\"marker\":{\"color\":\"#1F77B4\",\"pattern\":{\"shape\":\"\"}},\"name\":\"Rape\",\"offsetgroup\":\"Rape\",\"orientation\":\"v\",\"showlegend\":true,\"textposition\":\"auto\",\"x\":[\"January\",\"February\",\"March\",\"April\",\"May\",\"June\",\"July\",\"August\",\"September\",\"October\",\"November\",\"December\"],\"xaxis\":\"x\",\"y\":[0.009084302325581396,0.009650646593321752,0.05211047420531526,0.018209960848584176,0.01880759826970096,0.017811025024490158,0.016638935108153077,0.008489685032685287,0.04874878128046799,0.008306337735692334,0.026548672566371685,0.02638754507872284],\"yaxis\":\"y\",\"type\":\"bar\"},{\"alignmentgroup\":\"True\",\"customdata\":[[1],[2],[1],[3]],\"hovertemplate\":\"Category=Gambling\\u003cbr\\u003eMonth=%{x}\\u003cbr\\u003ePercentage (%)=%{y:.2f}\\u003cbr\\u003ecount=%{customdata[0]:,}\\u003cextra\\u003e\\u003c\\u002fextra\\u003e\",\"legendgroup\":\"Gambling\",\"marker\":{\"color\":\"#FF7F0E\",\"pattern\":{\"shape\":\"\"}},\"name\":\"Gambling\",\"offsetgroup\":\"Gambling\",\"orientation\":\"v\",\"showlegend\":true,\"textposition\":\"auto\",\"x\":[\"March\",\"July\",\"August\",\"December\"],\"xaxis\":\"x\",\"y\":[0.008685079034219213,0.016638935108153077,0.008489685032685287,0.02638754507872284],\"yaxis\":\"y\",\"type\":\"bar\"},{\"alignmentgroup\":\"True\",\"customdata\":[[2]],\"hovertemplate\":\"Category=Civil Sidewalks\\u003cbr\\u003eMonth=%{x}\\u003cbr\\u003ePercentage (%)=%{y:.2f}\\u003cbr\\u003ecount=%{customdata[0]:,}\\u003cextra\\u003e\\u003c\\u002fextra\\u003e\",\"legendgroup\":\"Civil Sidewalks\",\"marker\":{\"color\":\"#2CA02C\",\"pattern\":{\"shape\":\"\"}},\"name\":\"Civil Sidewalks\",\"offsetgroup\":\"Civil Sidewalks\",\"orientation\":\"v\",\"showlegend\":true,\"textposition\":\"auto\",\"x\":[\"October\"],\"xaxis\":\"x\",\"y\":[0.016612675471384668],\"yaxis\":\"y\",\"type\":\"bar\"}],                        {\"template\":{\"data\":{\"barpolar\":[{\"marker\":{\"line\":{\"color\":\"white\",\"width\":0.5},\"pattern\":{\"fillmode\":\"overlay\",\"size\":10,\"solidity\":0.2}},\"type\":\"barpolar\"}],\"bar\":[{\"error_x\":{\"color\":\"rgb(36,36,36)\"},\"error_y\":{\"color\":\"rgb(36,36,36)\"},\"marker\":{\"line\":{\"color\":\"white\",\"width\":0.5},\"pattern\":{\"fillmode\":\"overlay\",\"size\":10,\"solidity\":0.2}},\"type\":\"bar\"}],\"carpet\":[{\"aaxis\":{\"endlinecolor\":\"rgb(36,36,36)\",\"gridcolor\":\"white\",\"linecolor\":\"white\",\"minorgridcolor\":\"white\",\"startlinecolor\":\"rgb(36,36,36)\"},\"baxis\":{\"endlinecolor\":\"rgb(36,36,36)\",\"gridcolor\":\"white\",\"linecolor\":\"white\",\"minorgridcolor\":\"white\",\"startlinecolor\":\"rgb(36,36,36)\"},\"type\":\"carpet\"}],\"choropleth\":[{\"colorbar\":{\"outlinewidth\":1,\"tickcolor\":\"rgb(36,36,36)\",\"ticks\":\"outside\"},\"type\":\"choropleth\"}],\"contourcarpet\":[{\"colorbar\":{\"outlinewidth\":1,\"tickcolor\":\"rgb(36,36,36)\",\"ticks\":\"outside\"},\"type\":\"contourcarpet\"}],\"contour\":[{\"colorbar\":{\"outlinewidth\":1,\"tickcolor\":\"rgb(36,36,36)\",\"ticks\":\"outside\"},\"colorscale\":[[0.0,\"#440154\"],[0.1111111111111111,\"#482878\"],[0.2222222222222222,\"#3e4989\"],[0.3333333333333333,\"#31688e\"],[0.4444444444444444,\"#26828e\"],[0.5555555555555556,\"#1f9e89\"],[0.6666666666666666,\"#35b779\"],[0.7777777777777778,\"#6ece58\"],[0.8888888888888888,\"#b5de2b\"],[1.0,\"#fde725\"]],\"type\":\"contour\"}],\"heatmapgl\":[{\"colorbar\":{\"outlinewidth\":1,\"tickcolor\":\"rgb(36,36,36)\",\"ticks\":\"outside\"},\"colorscale\":[[0.0,\"#440154\"],[0.1111111111111111,\"#482878\"],[0.2222222222222222,\"#3e4989\"],[0.3333333333333333,\"#31688e\"],[0.4444444444444444,\"#26828e\"],[0.5555555555555556,\"#1f9e89\"],[0.6666666666666666,\"#35b779\"],[0.7777777777777778,\"#6ece58\"],[0.8888888888888888,\"#b5de2b\"],[1.0,\"#fde725\"]],\"type\":\"heatmapgl\"}],\"heatmap\":[{\"colorbar\":{\"outlinewidth\":1,\"tickcolor\":\"rgb(36,36,36)\",\"ticks\":\"outside\"},\"colorscale\":[[0.0,\"#440154\"],[0.1111111111111111,\"#482878\"],[0.2222222222222222,\"#3e4989\"],[0.3333333333333333,\"#31688e\"],[0.4444444444444444,\"#26828e\"],[0.5555555555555556,\"#1f9e89\"],[0.6666666666666666,\"#35b779\"],[0.7777777777777778,\"#6ece58\"],[0.8888888888888888,\"#b5de2b\"],[1.0,\"#fde725\"]],\"type\":\"heatmap\"}],\"histogram2dcontour\":[{\"colorbar\":{\"outlinewidth\":1,\"tickcolor\":\"rgb(36,36,36)\",\"ticks\":\"outside\"},\"colorscale\":[[0.0,\"#440154\"],[0.1111111111111111,\"#482878\"],[0.2222222222222222,\"#3e4989\"],[0.3333333333333333,\"#31688e\"],[0.4444444444444444,\"#26828e\"],[0.5555555555555556,\"#1f9e89\"],[0.6666666666666666,\"#35b779\"],[0.7777777777777778,\"#6ece58\"],[0.8888888888888888,\"#b5de2b\"],[1.0,\"#fde725\"]],\"type\":\"histogram2dcontour\"}],\"histogram2d\":[{\"colorbar\":{\"outlinewidth\":1,\"tickcolor\":\"rgb(36,36,36)\",\"ticks\":\"outside\"},\"colorscale\":[[0.0,\"#440154\"],[0.1111111111111111,\"#482878\"],[0.2222222222222222,\"#3e4989\"],[0.3333333333333333,\"#31688e\"],[0.4444444444444444,\"#26828e\"],[0.5555555555555556,\"#1f9e89\"],[0.6666666666666666,\"#35b779\"],[0.7777777777777778,\"#6ece58\"],[0.8888888888888888,\"#b5de2b\"],[1.0,\"#fde725\"]],\"type\":\"histogram2d\"}],\"histogram\":[{\"marker\":{\"line\":{\"color\":\"white\",\"width\":0.6}},\"type\":\"histogram\"}],\"mesh3d\":[{\"colorbar\":{\"outlinewidth\":1,\"tickcolor\":\"rgb(36,36,36)\",\"ticks\":\"outside\"},\"type\":\"mesh3d\"}],\"parcoords\":[{\"line\":{\"colorbar\":{\"outlinewidth\":1,\"tickcolor\":\"rgb(36,36,36)\",\"ticks\":\"outside\"}},\"type\":\"parcoords\"}],\"pie\":[{\"automargin\":true,\"type\":\"pie\"}],\"scatter3d\":[{\"line\":{\"colorbar\":{\"outlinewidth\":1,\"tickcolor\":\"rgb(36,36,36)\",\"ticks\":\"outside\"}},\"marker\":{\"colorbar\":{\"outlinewidth\":1,\"tickcolor\":\"rgb(36,36,36)\",\"ticks\":\"outside\"}},\"type\":\"scatter3d\"}],\"scattercarpet\":[{\"marker\":{\"colorbar\":{\"outlinewidth\":1,\"tickcolor\":\"rgb(36,36,36)\",\"ticks\":\"outside\"}},\"type\":\"scattercarpet\"}],\"scattergeo\":[{\"marker\":{\"colorbar\":{\"outlinewidth\":1,\"tickcolor\":\"rgb(36,36,36)\",\"ticks\":\"outside\"}},\"type\":\"scattergeo\"}],\"scattergl\":[{\"marker\":{\"colorbar\":{\"outlinewidth\":1,\"tickcolor\":\"rgb(36,36,36)\",\"ticks\":\"outside\"}},\"type\":\"scattergl\"}],\"scattermapbox\":[{\"marker\":{\"colorbar\":{\"outlinewidth\":1,\"tickcolor\":\"rgb(36,36,36)\",\"ticks\":\"outside\"}},\"type\":\"scattermapbox\"}],\"scatterpolargl\":[{\"marker\":{\"colorbar\":{\"outlinewidth\":1,\"tickcolor\":\"rgb(36,36,36)\",\"ticks\":\"outside\"}},\"type\":\"scatterpolargl\"}],\"scatterpolar\":[{\"marker\":{\"colorbar\":{\"outlinewidth\":1,\"tickcolor\":\"rgb(36,36,36)\",\"ticks\":\"outside\"}},\"type\":\"scatterpolar\"}],\"scatter\":[{\"fillpattern\":{\"fillmode\":\"overlay\",\"size\":10,\"solidity\":0.2},\"type\":\"scatter\"}],\"scatterternary\":[{\"marker\":{\"colorbar\":{\"outlinewidth\":1,\"tickcolor\":\"rgb(36,36,36)\",\"ticks\":\"outside\"}},\"type\":\"scatterternary\"}],\"surface\":[{\"colorbar\":{\"outlinewidth\":1,\"tickcolor\":\"rgb(36,36,36)\",\"ticks\":\"outside\"},\"colorscale\":[[0.0,\"#440154\"],[0.1111111111111111,\"#482878\"],[0.2222222222222222,\"#3e4989\"],[0.3333333333333333,\"#31688e\"],[0.4444444444444444,\"#26828e\"],[0.5555555555555556,\"#1f9e89\"],[0.6666666666666666,\"#35b779\"],[0.7777777777777778,\"#6ece58\"],[0.8888888888888888,\"#b5de2b\"],[1.0,\"#fde725\"]],\"type\":\"surface\"}],\"table\":[{\"cells\":{\"fill\":{\"color\":\"rgb(237,237,237)\"},\"line\":{\"color\":\"white\"}},\"header\":{\"fill\":{\"color\":\"rgb(217,217,217)\"},\"line\":{\"color\":\"white\"}},\"type\":\"table\"}]},\"layout\":{\"annotationdefaults\":{\"arrowhead\":0,\"arrowwidth\":1},\"autotypenumbers\":\"strict\",\"coloraxis\":{\"colorbar\":{\"outlinewidth\":1,\"tickcolor\":\"rgb(36,36,36)\",\"ticks\":\"outside\"}},\"colorscale\":{\"diverging\":[[0.0,\"rgb(103,0,31)\"],[0.1,\"rgb(178,24,43)\"],[0.2,\"rgb(214,96,77)\"],[0.3,\"rgb(244,165,130)\"],[0.4,\"rgb(253,219,199)\"],[0.5,\"rgb(247,247,247)\"],[0.6,\"rgb(209,229,240)\"],[0.7,\"rgb(146,197,222)\"],[0.8,\"rgb(67,147,195)\"],[0.9,\"rgb(33,102,172)\"],[1.0,\"rgb(5,48,97)\"]],\"sequential\":[[0.0,\"#440154\"],[0.1111111111111111,\"#482878\"],[0.2222222222222222,\"#3e4989\"],[0.3333333333333333,\"#31688e\"],[0.4444444444444444,\"#26828e\"],[0.5555555555555556,\"#1f9e89\"],[0.6666666666666666,\"#35b779\"],[0.7777777777777778,\"#6ece58\"],[0.8888888888888888,\"#b5de2b\"],[1.0,\"#fde725\"]],\"sequentialminus\":[[0.0,\"#440154\"],[0.1111111111111111,\"#482878\"],[0.2222222222222222,\"#3e4989\"],[0.3333333333333333,\"#31688e\"],[0.4444444444444444,\"#26828e\"],[0.5555555555555556,\"#1f9e89\"],[0.6666666666666666,\"#35b779\"],[0.7777777777777778,\"#6ece58\"],[0.8888888888888888,\"#b5de2b\"],[1.0,\"#fde725\"]]},\"colorway\":[\"#1F77B4\",\"#FF7F0E\",\"#2CA02C\",\"#D62728\",\"#9467BD\",\"#8C564B\",\"#E377C2\",\"#7F7F7F\",\"#BCBD22\",\"#17BECF\"],\"font\":{\"color\":\"rgb(36,36,36)\"},\"geo\":{\"bgcolor\":\"white\",\"lakecolor\":\"white\",\"landcolor\":\"white\",\"showlakes\":true,\"showland\":true,\"subunitcolor\":\"white\"},\"hoverlabel\":{\"align\":\"left\"},\"hovermode\":\"closest\",\"mapbox\":{\"style\":\"light\"},\"paper_bgcolor\":\"white\",\"plot_bgcolor\":\"white\",\"polar\":{\"angularaxis\":{\"gridcolor\":\"rgb(232,232,232)\",\"linecolor\":\"rgb(36,36,36)\",\"showgrid\":false,\"showline\":true,\"ticks\":\"outside\"},\"bgcolor\":\"white\",\"radialaxis\":{\"gridcolor\":\"rgb(232,232,232)\",\"linecolor\":\"rgb(36,36,36)\",\"showgrid\":false,\"showline\":true,\"ticks\":\"outside\"}},\"scene\":{\"xaxis\":{\"backgroundcolor\":\"white\",\"gridcolor\":\"rgb(232,232,232)\",\"gridwidth\":2,\"linecolor\":\"rgb(36,36,36)\",\"showbackground\":true,\"showgrid\":false,\"showline\":true,\"ticks\":\"outside\",\"zeroline\":false,\"zerolinecolor\":\"rgb(36,36,36)\"},\"yaxis\":{\"backgroundcolor\":\"white\",\"gridcolor\":\"rgb(232,232,232)\",\"gridwidth\":2,\"linecolor\":\"rgb(36,36,36)\",\"showbackground\":true,\"showgrid\":false,\"showline\":true,\"ticks\":\"outside\",\"zeroline\":false,\"zerolinecolor\":\"rgb(36,36,36)\"},\"zaxis\":{\"backgroundcolor\":\"white\",\"gridcolor\":\"rgb(232,232,232)\",\"gridwidth\":2,\"linecolor\":\"rgb(36,36,36)\",\"showbackground\":true,\"showgrid\":false,\"showline\":true,\"ticks\":\"outside\",\"zeroline\":false,\"zerolinecolor\":\"rgb(36,36,36)\"}},\"shapedefaults\":{\"fillcolor\":\"black\",\"line\":{\"width\":0},\"opacity\":0.3},\"ternary\":{\"aaxis\":{\"gridcolor\":\"rgb(232,232,232)\",\"linecolor\":\"rgb(36,36,36)\",\"showgrid\":false,\"showline\":true,\"ticks\":\"outside\"},\"baxis\":{\"gridcolor\":\"rgb(232,232,232)\",\"linecolor\":\"rgb(36,36,36)\",\"showgrid\":false,\"showline\":true,\"ticks\":\"outside\"},\"bgcolor\":\"white\",\"caxis\":{\"gridcolor\":\"rgb(232,232,232)\",\"linecolor\":\"rgb(36,36,36)\",\"showgrid\":false,\"showline\":true,\"ticks\":\"outside\"}},\"title\":{\"x\":0.05},\"xaxis\":{\"automargin\":true,\"gridcolor\":\"rgb(232,232,232)\",\"linecolor\":\"rgb(36,36,36)\",\"showgrid\":false,\"showline\":true,\"ticks\":\"outside\",\"title\":{\"standoff\":15},\"zeroline\":false,\"zerolinecolor\":\"rgb(36,36,36)\"},\"yaxis\":{\"automargin\":true,\"gridcolor\":\"rgb(232,232,232)\",\"linecolor\":\"rgb(36,36,36)\",\"showgrid\":false,\"showline\":true,\"ticks\":\"outside\",\"title\":{\"standoff\":15},\"zeroline\":false,\"zerolinecolor\":\"rgb(36,36,36)\"}}},\"xaxis\":{\"anchor\":\"y\",\"domain\":[0.0,1.0],\"title\":{\"text\":\"Month\"}},\"yaxis\":{\"anchor\":\"x\",\"domain\":[0.0,1.0],\"title\":{\"text\":\"Percentage (%)\"}},\"legend\":{\"title\":{\"text\":\"Category\"},\"tracegroupgap\":0},\"title\":{\"text\":\"Proportion of incidents by category and calendar month\"},\"barmode\":\"relative\"},                        {\"responsive\": true}                    ).then(function(){\n",
       "                            \n",
       "var gd = document.getElementById('b64c0fb1-f1aa-4286-98f1-be2312771801');\n",
       "var x = new MutationObserver(function (mutations, observer) {{\n",
       "        var display = window.getComputedStyle(gd).display;\n",
       "        if (!display || display === 'none') {{\n",
       "            console.log([gd, 'removed!']);\n",
       "            Plotly.purge(gd);\n",
       "            observer.disconnect();\n",
       "        }}\n",
       "}});\n",
       "\n",
       "// Listen for the removal of the full notebook cells\n",
       "var notebookContainer = gd.closest('#notebook-container');\n",
       "if (notebookContainer) {{\n",
       "    x.observe(notebookContainer, {childList: true});\n",
       "}}\n",
       "\n",
       "// Listen for the clearing of the current output cell\n",
       "var outputEl = gd.closest('.output');\n",
       "if (outputEl) {{\n",
       "    x.observe(outputEl, {childList: true});\n",
       "}}\n",
       "\n",
       "                        })                };                });            </script>        </div>"
      ]
     },
     "metadata": {},
     "output_type": "display_data"
    }
   ],
   "source": [
    "plot_data = by_month_cat.sort_values(by=['month_num', 'month_prop'], ascending=[True, False])\n",
    "fig = px.bar(plot_data, x='month', y='month_prop', color='category',\n",
    "             hover_data={'month_prop':':.2f',\n",
    "                         'count':':,'},\n",
    "             labels={'month':'Month', 'month_prop':'Percentage (%)', 'category':'Category'},\n",
    "             title='Proportion of incidents by category and calendar month',\n",
    "             template='simple_white')\n",
    "# fig.update_layout(width=700, height=700)\n",
    "fig"
   ]
  },
  {
   "cell_type": "code",
   "execution_count": 114,
   "id": "0a94e29d-d384-438f-bad5-2e6d7a3a5d6a",
   "metadata": {
    "execution": {
     "iopub.execute_input": "2023-08-27T09:26:28.088555Z",
     "iopub.status.busy": "2023-08-27T09:26:28.088184Z",
     "iopub.status.idle": "2023-08-27T09:26:28.285457Z",
     "shell.execute_reply": "2023-08-27T09:26:28.284833Z",
     "shell.execute_reply.started": "2023-08-27T09:26:28.088531Z"
    },
    "tags": []
   },
   "outputs": [
    {
     "data": {
      "application/vnd.plotly.v1+json": {
       "config": {
        "plotlyServerURL": "https://plot.ly"
       },
       "data": [
        {
         "alignmentgroup": "True",
         "customdata": [
          [
           3370
          ],
          [
           3057
          ],
          [
           3401
          ],
          [
           3164
          ],
          [
           2864
          ],
          [
           3598
          ],
          [
           3554
          ],
          [
           3543
          ],
          [
           3935
          ],
          [
           3983
          ],
          [
           3827
          ],
          [
           3959
          ]
         ],
         "hovertemplate": "Category=Larceny Theft<br>Month=%{x}<br>Percentage (%)=%{y:.2f}<br>count=%{customdata[0]:,}<extra></extra>",
         "legendgroup": "Larceny Theft",
         "marker": {
          "color": "#1F77B4",
          "pattern": {
           "shape": ""
          }
         },
         "name": "Larceny Theft",
         "offsetgroup": "Larceny Theft",
         "orientation": "v",
         "showlegend": true,
         "textposition": "auto",
         "type": "bar",
         "x": [
          "January",
          "February",
          "March",
          "April",
          "May",
          "June",
          "July",
          "August",
          "September",
          "October",
          "November",
          "December"
         ],
         "xaxis": "x",
         "y": [
          30.6140988372093,
          29.502026635784595,
          29.53795379537954,
          28.808158062460166,
          26.93248072221177,
          32.042034019057795,
          29.567387687188017,
          30.07895407080397,
          31.971075723106924,
          33.08414320126256,
          33.86725663716814,
          34.82276365555458
         ],
         "yaxis": "y"
        },
        {
         "alignmentgroup": "True",
         "customdata": [
          [
           804
          ],
          [
           714
          ],
          [
           852
          ],
          [
           777
          ],
          [
           758
          ],
          [
           727
          ],
          [
           863
          ],
          [
           788
          ],
          [
           886
          ],
          [
           837
          ],
          [
           740
          ],
          [
           732
          ]
         ],
         "hovertemplate": "Category=Other<br>Month=%{x}<br>Percentage (%)=%{y:.2f}<br>count=%{customdata[0]:,}<extra></extra>",
         "legendgroup": "Other",
         "marker": {
          "color": "#FF7F0E",
          "pattern": {
           "shape": ""
          }
         },
         "name": "Other",
         "offsetgroup": "Other",
         "orientation": "v",
         "showlegend": true,
         "textposition": "auto",
         "type": "bar",
         "x": [
          "January",
          "February",
          "March",
          "April",
          "May",
          "June",
          "July",
          "August",
          "September",
          "October",
          "November",
          "December"
         ],
         "xaxis": "x",
         "y": [
          7.303779069767442,
          6.890561667631731,
          7.399687337154768,
          7.0745697896749515,
          7.128079744216663,
          6.4743075964021735,
          7.179700499168053,
          6.689871805756006,
          7.198570035749106,
          6.952404684774482,
          6.548672566371681,
          6.438560999208373
         ],
         "yaxis": "y"
        },
        {
         "alignmentgroup": "True",
         "customdata": [
          [
           762
          ],
          [
           670
          ],
          [
           811
          ],
          [
           730
          ],
          [
           689
          ],
          [
           815
          ],
          [
           850
          ],
          [
           764
          ],
          [
           818
          ],
          [
           769
          ],
          [
           713
          ],
          [
           723
          ]
         ],
         "hovertemplate": "Category=Malicious Mischief<br>Month=%{x}<br>Percentage (%)=%{y:.2f}<br>count=%{customdata[0]:,}<extra></extra>",
         "legendgroup": "Malicious Mischief",
         "marker": {
          "color": "#2CA02C",
          "pattern": {
           "shape": ""
          }
         },
         "name": "Malicious Mischief",
         "offsetgroup": "Malicious Mischief",
         "orientation": "v",
         "showlegend": true,
         "textposition": "auto",
         "type": "bar",
         "x": [
          "January",
          "February",
          "March",
          "April",
          "May",
          "June",
          "July",
          "August",
          "September",
          "October",
          "November",
          "December"
         ],
         "xaxis": "x",
         "y": [
          6.922238372093023,
          6.465933217525574,
          7.04359909675178,
          6.646635709733224,
          6.47921760391198,
          7.2579926974797395,
          7.071547420965059,
          6.48611936497156,
          6.646083847903802,
          6.3875737187474035,
          6.309734513274336,
          6.359398363972205
         ],
         "yaxis": "y"
        },
        {
         "alignmentgroup": "True",
         "customdata": [
          [
           676
          ],
          [
           648
          ],
          [
           782
          ],
          [
           683
          ],
          [
           694
          ],
          [
           779
          ],
          [
           756
          ],
          [
           722
          ],
          [
           827
          ],
          [
           806
          ],
          [
           660
          ],
          [
           670
          ]
         ],
         "hovertemplate": "Category=Assault<br>Month=%{x}<br>Percentage (%)=%{y:.2f}<br>count=%{customdata[0]:,}<extra></extra>",
         "legendgroup": "Assault",
         "marker": {
          "color": "#D62728",
          "pattern": {
           "shape": ""
          }
         },
         "name": "Assault",
         "offsetgroup": "Assault",
         "orientation": "v",
         "showlegend": true,
         "textposition": "auto",
         "type": "bar",
         "x": [
          "January",
          "February",
          "March",
          "April",
          "May",
          "June",
          "July",
          "August",
          "September",
          "October",
          "November",
          "December"
         ],
         "xaxis": "x",
         "y": [
          6.140988372093023,
          6.253618992472496,
          6.791731804759424,
          6.2187016297914965,
          6.526236599586232,
          6.937394247038917,
          6.289517470881864,
          6.129552593598778,
          6.719207019824504,
          6.69490821496802,
          5.84070796460177,
          5.893218400914768
         ],
         "yaxis": "y"
        },
        {
         "alignmentgroup": "True",
         "customdata": [
          [
           653
          ],
          [
           657
          ],
          [
           745
          ],
          [
           757
          ],
          [
           850
          ],
          [
           635
          ],
          [
           683
          ],
          [
           703
          ],
          [
           748
          ],
          [
           752
          ],
          [
           709
          ],
          [
           699
          ]
         ],
         "hovertemplate": "Category=Motor Vehicle Theft<br>Month=%{x}<br>Percentage (%)=%{y:.2f}<br>count=%{customdata[0]:,}<extra></extra>",
         "legendgroup": "Motor Vehicle Theft",
         "marker": {
          "color": "#9467BD",
          "pattern": {
           "shape": ""
          }
         },
         "name": "Motor Vehicle Theft",
         "offsetgroup": "Motor Vehicle Theft",
         "orientation": "v",
         "showlegend": true,
         "textposition": "auto",
         "type": "bar",
         "x": [
          "January",
          "February",
          "March",
          "April",
          "May",
          "June",
          "July",
          "August",
          "September",
          "October",
          "November",
          "December"
         ],
         "xaxis": "x",
         "y": [
          5.9320494186046515,
          6.340474811812391,
          6.470383880493312,
          6.89247018118911,
          7.993229264622907,
          5.6550004452756255,
          5.6821963394342765,
          5.968248577977757,
          6.077348066298343,
          6.246365977240634,
          6.274336283185841,
          6.148298003342422
         ],
         "yaxis": "y"
        },
        {
         "alignmentgroup": "True",
         "customdata": [
          [
           616
          ],
          [
           552
          ],
          [
           634
          ],
          [
           599
          ],
          [
           576
          ],
          [
           601
          ],
          [
           649
          ],
          [
           671
          ],
          [
           703
          ],
          [
           641
          ],
          [
           633
          ],
          [
           573
          ]
         ],
         "hovertemplate": "Category=Non-Criminal<br>Month=%{x}<br>Percentage (%)=%{y:.2f}<br>count=%{customdata[0]:,}<extra></extra>",
         "legendgroup": "Non-Criminal",
         "marker": {
          "color": "#8C564B",
          "pattern": {
           "shape": ""
          }
         },
         "name": "Non-Criminal",
         "offsetgroup": "Non-Criminal",
         "orientation": "v",
         "showlegend": true,
         "textposition": "auto",
         "type": "bar",
         "x": [
          "January",
          "February",
          "March",
          "April",
          "May",
          "June",
          "July",
          "August",
          "September",
          "October",
          "November",
          "December"
         ],
         "xaxis": "x",
         "y": [
          5.59593023255814,
          5.327156919513607,
          5.50634010769498,
          5.453883274150961,
          5.416588301673876,
          5.352213019859293,
          5.399334442595674,
          5.696578656931828,
          5.711732206694832,
          5.324362488578785,
          5.601769911504425,
          5.040021110036063
         ],
         "yaxis": "y"
        },
        {
         "alignmentgroup": "True",
         "customdata": [
          [
           606
          ],
          [
           546
          ],
          [
           570
          ],
          [
           550
          ],
          [
           534
          ],
          [
           575
          ],
          [
           633
          ],
          [
           644
          ],
          [
           617
          ],
          [
           587
          ],
          [
           538
          ],
          [
           657
          ]
         ],
         "hovertemplate": "Category=Burglary<br>Month=%{x}<br>Percentage (%)=%{y:.2f}<br>count=%{customdata[0]:,}<extra></extra>",
         "legendgroup": "Burglary",
         "marker": {
          "color": "#E377C2",
          "pattern": {
           "shape": ""
          }
         },
         "name": "Burglary",
         "offsetgroup": "Burglary",
         "orientation": "v",
         "showlegend": true,
         "textposition": "auto",
         "type": "bar",
         "x": [
          "January",
          "February",
          "March",
          "April",
          "May",
          "June",
          "July",
          "August",
          "September",
          "October",
          "November",
          "December"
         ],
         "xaxis": "x",
         "y": [
          5.505087209302325,
          5.269253039953677,
          4.9504950495049505,
          5.007739233360648,
          5.021628738010156,
          5.12066969454092,
          5.266222961730449,
          5.467357161049325,
          5.012999675008125,
          4.875820250851399,
          4.761061946902655,
          5.778872372240302
         ],
         "yaxis": "y"
        },
        {
         "alignmentgroup": "True",
         "customdata": [
          [
           460
          ],
          [
           487
          ],
          [
           496
          ],
          [
           546
          ],
          [
           594
          ],
          [
           445
          ],
          [
           500
          ],
          [
           491
          ],
          [
           515
          ],
          [
           562
          ],
          [
           549
          ],
          [
           519
          ]
         ],
         "hovertemplate": "Category=Recovered Vehicle<br>Month=%{x}<br>Percentage (%)=%{y:.2f}<br>count=%{customdata[0]:,}<extra></extra>",
         "legendgroup": "Recovered Vehicle",
         "marker": {
          "color": "#7F7F7F",
          "pattern": {
           "shape": ""
          }
         },
         "name": "Recovered Vehicle",
         "offsetgroup": "Recovered Vehicle",
         "orientation": "v",
         "showlegend": true,
         "textposition": "auto",
         "type": "bar",
         "x": [
          "January",
          "February",
          "March",
          "April",
          "May",
          "June",
          "July",
          "August",
          "September",
          "October",
          "November",
          "December"
         ],
         "xaxis": "x",
         "y": [
          4.178779069767442,
          4.699864890947693,
          4.307799200972729,
          4.97131931166348,
          5.585856686101185,
          3.9629530679490608,
          4.159733777038269,
          4.168435351048476,
          4.184270393240169,
          4.668161807459091,
          4.8584070796460175,
          4.565045298619052
         ],
         "yaxis": "y"
        },
        {
         "alignmentgroup": "True",
         "customdata": [
          [
           441
          ],
          [
           365
          ],
          [
           438
          ],
          [
           543
          ],
          [
           341
          ],
          [
           479
          ],
          [
           501
          ],
          [
           423
          ],
          [
           404
          ],
          [
           389
          ],
          [
           375
          ],
          [
           393
          ]
         ],
         "hovertemplate": "Category=Fraud<br>Month=%{x}<br>Percentage (%)=%{y:.2f}<br>count=%{customdata[0]:,}<extra></extra>",
         "legendgroup": "Fraud",
         "marker": {
          "color": "#BCBD22",
          "pattern": {
           "shape": ""
          }
         },
         "name": "Fraud",
         "offsetgroup": "Fraud",
         "orientation": "v",
         "showlegend": true,
         "textposition": "auto",
         "type": "bar",
         "x": [
          "January",
          "February",
          "March",
          "April",
          "May",
          "June",
          "July",
          "August",
          "September",
          "October",
          "November",
          "December"
         ],
         "xaxis": "x",
         "y": [
          4.006177325581396,
          3.5224860065624397,
          3.804064616988015,
          4.944004370390603,
          3.206695504984013,
          4.265740493365393,
          4.168053244592347,
          3.591136768825877,
          3.282417939551511,
          3.2311653791843176,
          3.3185840707964607,
          3.456768405312692
         ],
         "yaxis": "y"
        },
        {
         "alignmentgroup": "True",
         "customdata": [
          [
           331
          ],
          [
           433
          ],
          [
           365
          ],
          [
           298
          ],
          [
           352
          ],
          [
           244
          ],
          [
           533
          ],
          [
           516
          ],
          [
           320
          ],
          [
           247
          ],
          [
           325
          ],
          [
           318
          ]
         ],
         "hovertemplate": "Category=Drug Offense<br>Month=%{x}<br>Percentage (%)=%{y:.2f}<br>count=%{customdata[0]:,}<extra></extra>",
         "legendgroup": "Drug Offense",
         "marker": {
          "color": "#17BECF",
          "pattern": {
           "shape": ""
          }
         },
         "name": "Drug Offense",
         "offsetgroup": "Drug Offense",
         "orientation": "v",
         "showlegend": true,
         "textposition": "auto",
         "type": "bar",
         "x": [
          "January",
          "February",
          "March",
          "April",
          "May",
          "June",
          "July",
          "August",
          "September",
          "October",
          "November",
          "December"
         ],
         "xaxis": "x",
         "y": [
          3.006904069767442,
          4.178729974908319,
          3.1700538474900117,
          2.7132841664390424,
          3.310137295467369,
          2.1729450529877994,
          4.434276206322795,
          4.380677476865609,
          2.599935001624959,
          2.0516654207160063,
          2.8761061946902653,
          2.7970797783446213
         ],
         "yaxis": "y"
        },
        {
         "alignmentgroup": "True",
         "customdata": [
          [
           274
          ],
          [
           253
          ],
          [
           265
          ],
          [
           242
          ],
          [
           277
          ],
          [
           196
          ],
          [
           291
          ],
          [
           250
          ],
          [
           273
          ],
          [
           266
          ],
          [
           241
          ],
          [
           249
          ]
         ],
         "hovertemplate": "Category=Warrant<br>Month=%{x}<br>Percentage (%)=%{y:.2f}<br>count=%{customdata[0]:,}<extra></extra>",
         "legendgroup": "Warrant",
         "marker": {
          "color": "#1F77B4",
          "pattern": {
           "shape": ""
          }
         },
         "name": "Warrant",
         "offsetgroup": "Warrant",
         "orientation": "v",
         "showlegend": true,
         "textposition": "auto",
         "type": "bar",
         "x": [
          "January",
          "February",
          "March",
          "April",
          "May",
          "June",
          "July",
          "August",
          "September",
          "October",
          "November",
          "December"
         ],
         "xaxis": "x",
         "y": [
          2.489098837209302,
          2.4416135881104037,
          2.301545944068091,
          2.2034052626786855,
          2.604852360353583,
          1.7454804524000358,
          2.420965058236273,
          2.1224212581713218,
          2.2180695482612935,
          2.2094858376941606,
          2.1327433628318584,
          2.190166241533996
         ],
         "yaxis": "y"
        },
        {
         "alignmentgroup": "True",
         "customdata": [
          [
           243
          ],
          [
           249
          ],
          [
           284
          ],
          [
           287
          ],
          [
           287
          ],
          [
           359
          ],
          [
           298
          ],
          [
           352
          ],
          [
           309
          ],
          [
           312
          ],
          [
           296
          ],
          [
           291
          ]
         ],
         "hovertemplate": "Category=Lost Property<br>Month=%{x}<br>Percentage (%)=%{y:.2f}<br>count=%{customdata[0]:,}<extra></extra>",
         "legendgroup": "Lost Property",
         "marker": {
          "color": "#FF7F0E",
          "pattern": {
           "shape": ""
          }
         },
         "name": "Lost Property",
         "offsetgroup": "Lost Property",
         "orientation": "v",
         "showlegend": true,
         "textposition": "auto",
         "type": "bar",
         "x": [
          "January",
          "February",
          "March",
          "April",
          "May",
          "June",
          "July",
          "August",
          "September",
          "October",
          "November",
          "December"
         ],
         "xaxis": "x",
         "y": [
          2.207485465116279,
          2.4030110017371165,
          2.466562445718256,
          2.613129381771829,
          2.6988903517020875,
          3.197078991895984,
          2.4792013311148087,
          2.988369131505221,
          2.5105622359441013,
          2.5915773735360084,
          2.6194690265486726,
          2.5595918726361155
         ],
         "yaxis": "y"
        },
        {
         "alignmentgroup": "True",
         "customdata": [
          [
           229
          ],
          [
           284
          ],
          [
           267
          ],
          [
           211
          ],
          [
           261
          ],
          [
           271
          ],
          [
           256
          ],
          [
           229
          ],
          [
           274
          ],
          [
           254
          ],
          [
           214
          ],
          [
           187
          ]
         ],
         "hovertemplate": "Category=Robbery<br>Month=%{x}<br>Percentage (%)=%{y:.2f}<br>count=%{customdata[0]:,}<extra></extra>",
         "legendgroup": "Robbery",
         "marker": {
          "color": "#2CA02C",
          "pattern": {
           "shape": ""
          }
         },
         "name": "Robbery",
         "offsetgroup": "Robbery",
         "orientation": "v",
         "showlegend": true,
         "textposition": "auto",
         "type": "bar",
         "x": [
          "January",
          "February",
          "March",
          "April",
          "May",
          "June",
          "July",
          "August",
          "September",
          "October",
          "November",
          "December"
         ],
         "xaxis": "x",
         "y": [
          2.0803052325581395,
          2.7407836325033776,
          2.3189161021365297,
          1.9211508695256305,
          2.454391574195975,
          2.413393890818417,
          2.129783693843594,
          1.9441378724849308,
          2.2261943451413715,
          2.1098097848658526,
          1.893805309734513,
          1.6448236432403907
         ],
         "yaxis": "y"
        },
        {
         "alignmentgroup": "True",
         "customdata": [
          [
           208
          ],
          [
           213
          ],
          [
           236
          ],
          [
           202
          ],
          [
           212
          ],
          [
           195
          ],
          [
           214
          ],
          [
           251
          ],
          [
           230
          ],
          [
           264
          ],
          [
           208
          ],
          [
           212
          ]
         ],
         "hovertemplate": "Category=Missing Person<br>Month=%{x}<br>Percentage (%)=%{y:.2f}<br>count=%{customdata[0]:,}<extra></extra>",
         "legendgroup": "Missing Person",
         "marker": {
          "color": "#D62728",
          "pattern": {
           "shape": ""
          }
         },
         "name": "Missing Person",
         "offsetgroup": "Missing Person",
         "orientation": "v",
         "showlegend": true,
         "textposition": "auto",
         "type": "bar",
         "x": [
          "January",
          "February",
          "March",
          "April",
          "May",
          "June",
          "July",
          "August",
          "September",
          "October",
          "November",
          "December"
         ],
         "xaxis": "x",
         "y": [
          1.88953488372093,
          2.055587724377533,
          2.049678652075734,
          1.8392060457070019,
          1.9936054165883017,
          1.7365749398877905,
          1.7803660565723793,
          2.130910943204007,
          1.8687032824179395,
          2.1928731622227757,
          1.8407079646017697,
          1.8647198522297477
         ],
         "yaxis": "y"
        },
        {
         "alignmentgroup": "True",
         "customdata": [
          [
           195
          ],
          [
           179
          ],
          [
           218
          ],
          [
           214
          ],
          [
           214
          ],
          [
           227
          ],
          [
           241
          ],
          [
           262
          ],
          [
           285
          ],
          [
           234
          ],
          [
           220
          ],
          [
           209
          ]
         ],
         "hovertemplate": "Category=Suspicious Occ<br>Month=%{x}<br>Percentage (%)=%{y:.2f}<br>count=%{customdata[0]:,}<extra></extra>",
         "legendgroup": "Suspicious Occ",
         "marker": {
          "color": "#9467BD",
          "pattern": {
           "shape": ""
          }
         },
         "name": "Suspicious Occ",
         "offsetgroup": "Suspicious Occ",
         "orientation": "v",
         "showlegend": true,
         "textposition": "auto",
         "type": "bar",
         "x": [
          "January",
          "February",
          "March",
          "April",
          "May",
          "June",
          "July",
          "August",
          "September",
          "October",
          "November",
          "December"
         ],
         "xaxis": "x",
         "y": [
          1.771438953488372,
          1.7274657402045936,
          1.893347229459788,
          1.9484658107985067,
          2.012413014858003,
          2.021551340279633,
          2.004991680532446,
          2.224297478563545,
          2.3155671108222293,
          1.943683030152006,
          1.9469026548672566,
          1.8383323071510245
         ],
         "yaxis": "y"
        },
        {
         "alignmentgroup": "True",
         "customdata": [
          [
           191
          ],
          [
           141
          ],
          [
           187
          ],
          [
           166
          ],
          [
           193
          ],
          [
           193
          ],
          [
           189
          ],
          [
           189
          ],
          [
           182
          ],
          [
           197
          ],
          [
           170
          ],
          [
           146
          ]
         ],
         "hovertemplate": "Category=Disorderly Conduct<br>Month=%{x}<br>Percentage (%)=%{y:.2f}<br>count=%{customdata[0]:,}<extra></extra>",
         "legendgroup": "Disorderly Conduct",
         "marker": {
          "color": "#8C564B",
          "pattern": {
           "shape": ""
          }
         },
         "name": "Disorderly Conduct",
         "offsetgroup": "Disorderly Conduct",
         "orientation": "v",
         "showlegend": true,
         "textposition": "auto",
         "type": "bar",
         "x": [
          "January",
          "February",
          "March",
          "April",
          "May",
          "June",
          "July",
          "August",
          "September",
          "October",
          "November",
          "December"
         ],
         "xaxis": "x",
         "y": [
          1.7351017441860466,
          1.3607411696583671,
          1.6241097793989925,
          1.5114267504324865,
          1.8149332330261427,
          1.7187639148633003,
          1.572379367720466,
          1.6045504711775194,
          1.4787130321741957,
          1.6363485339313897,
          1.5044247787610618,
          1.284193860497845
         ],
         "yaxis": "y"
        },
        {
         "alignmentgroup": "True",
         "customdata": [
          [
           155
          ],
          [
           160
          ],
          [
           152
          ],
          [
           163
          ],
          [
           150
          ],
          [
           160
          ],
          [
           140
          ],
          [
           141
          ],
          [
           141
          ],
          [
           158
          ],
          [
           132
          ],
          [
           105
          ]
         ],
         "hovertemplate": "Category=Miscellaneous Investigation<br>Month=%{x}<br>Percentage (%)=%{y:.2f}<br>count=%{customdata[0]:,}<extra></extra>",
         "legendgroup": "Miscellaneous Investigation",
         "marker": {
          "color": "#E377C2",
          "pattern": {
           "shape": ""
          }
         },
         "name": "Miscellaneous Investigation",
         "offsetgroup": "Miscellaneous Investigation",
         "orientation": "v",
         "showlegend": true,
         "textposition": "auto",
         "type": "bar",
         "x": [
          "January",
          "February",
          "March",
          "April",
          "May",
          "June",
          "July",
          "August",
          "September",
          "October",
          "November",
          "December"
         ],
         "xaxis": "x",
         "y": [
          1.4080668604651163,
          1.5441034549314805,
          1.3201320132013201,
          1.4841118091596102,
          1.410569870227572,
          1.4248820019592128,
          1.1647254575707155,
          1.1970455896086256,
          1.1455963600909977,
          1.3124013622393886,
          1.168141592920354,
          0.9235640777552996
         ],
         "yaxis": "y"
        },
        {
         "alignmentgroup": "True",
         "customdata": [
          [
           131
          ],
          [
           85
          ],
          [
           129
          ],
          [
           94
          ],
          [
           103
          ],
          [
           76
          ],
          [
           113
          ],
          [
           101
          ],
          [
           92
          ],
          [
           94
          ],
          [
           76
          ],
          [
           105
          ]
         ],
         "hovertemplate": "Category=Other Offenses<br>Month=%{x}<br>Percentage (%)=%{y:.2f}<br>count=%{customdata[0]:,}<extra></extra>",
         "legendgroup": "Other Offenses",
         "marker": {
          "color": "#7F7F7F",
          "pattern": {
           "shape": ""
          }
         },
         "name": "Other Offenses",
         "offsetgroup": "Other Offenses",
         "orientation": "v",
         "showlegend": true,
         "textposition": "auto",
         "type": "bar",
         "x": [
          "January",
          "February",
          "March",
          "April",
          "May",
          "June",
          "July",
          "August",
          "September",
          "October",
          "November",
          "December"
         ],
         "xaxis": "x",
         "y": [
          1.1900436046511629,
          0.8203049604323489,
          1.1203751954142784,
          0.8558681598834562,
          0.9685913108895994,
          0.676818950930626,
          0.9400998336106489,
          0.857458188301214,
          0.7474813129671758,
          0.7807957471550793,
          0.6725663716814159,
          0.9235640777552996
         ],
         "yaxis": "y"
        },
        {
         "alignmentgroup": "True",
         "customdata": [
          [
           116
          ],
          [
           119
          ],
          [
           105
          ],
          [
           124
          ],
          [
           121
          ],
          [
           154
          ],
          [
           179
          ],
          [
           197
          ],
          [
           154
          ],
          [
           135
          ],
          [
           135
          ],
          [
           134
          ]
         ],
         "hovertemplate": "Category=Offences Against The Family And Children<br>Month=%{x}<br>Percentage (%)=%{y:.2f}<br>count=%{customdata[0]:,}<extra></extra>",
         "legendgroup": "Offences Against The Family And Children",
         "marker": {
          "color": "#BCBD22",
          "pattern": {
           "shape": ""
          }
         },
         "name": "Offences Against The Family And Children",
         "offsetgroup": "Offences Against The Family And Children",
         "orientation": "v",
         "showlegend": true,
         "textposition": "auto",
         "type": "bar",
         "x": [
          "January",
          "February",
          "March",
          "April",
          "May",
          "June",
          "July",
          "August",
          "September",
          "October",
          "November",
          "December"
         ],
         "xaxis": "x",
         "y": [
          1.0537790697674418,
          1.1484269446052886,
          0.9119332985930172,
          1.129017572612219,
          1.137859695316908,
          1.3714489268857422,
          1.4891846921797005,
          1.6724679514390015,
          1.2512187195320117,
          1.121355594318465,
          1.1946902654867257,
          1.1786436801829536
         ],
         "yaxis": "y"
        },
        {
         "alignmentgroup": "True",
         "customdata": [
          [
           87
          ],
          [
           87
          ],
          [
           84
          ],
          [
           86
          ],
          [
           85
          ],
          [
           96
          ],
          [
           82
          ],
          [
           95
          ],
          [
           111
          ],
          [
           104
          ],
          [
           77
          ],
          [
           77
          ]
         ],
         "hovertemplate": "Category=Weapons Offense<br>Month=%{x}<br>Percentage (%)=%{y:.2f}<br>count=%{customdata[0]:,}<extra></extra>",
         "legendgroup": "Weapons Offense",
         "marker": {
          "color": "#17BECF",
          "pattern": {
           "shape": ""
          }
         },
         "name": "Weapons Offense",
         "offsetgroup": "Weapons Offense",
         "orientation": "v",
         "showlegend": true,
         "textposition": "auto",
         "type": "bar",
         "x": [
          "January",
          "February",
          "March",
          "April",
          "May",
          "June",
          "July",
          "August",
          "September",
          "October",
          "November",
          "December"
         ],
         "xaxis": "x",
         "y": [
          0.7903343023255814,
          0.8396062536189925,
          0.7295466388744137,
          0.7830283164891195,
          0.7993229264622908,
          0.8549292011755277,
          0.6821963394342762,
          0.8065200781051022,
          0.9018524536886579,
          0.8638591245120026,
          0.6814159292035399,
          0.6772803236872196
         ],
         "yaxis": "y"
        },
        {
         "alignmentgroup": "True",
         "customdata": [
          [
           83
          ],
          [
           76
          ],
          [
           96
          ],
          [
           121
          ],
          [
           96
          ],
          [
           36
          ],
          [
           73
          ],
          [
           50
          ],
          [
           67
          ],
          [
           61
          ],
          [
           67
          ],
          [
           49
          ]
         ],
         "hovertemplate": "Category=Traffic Violation Arrest<br>Month=%{x}<br>Percentage (%)=%{y:.2f}<br>count=%{customdata[0]:,}<extra></extra>",
         "legendgroup": "Traffic Violation Arrest",
         "marker": {
          "color": "#1F77B4",
          "pattern": {
           "shape": ""
          }
         },
         "name": "Traffic Violation Arrest",
         "offsetgroup": "Traffic Violation Arrest",
         "orientation": "v",
         "showlegend": true,
         "textposition": "auto",
         "type": "bar",
         "x": [
          "January",
          "February",
          "March",
          "April",
          "May",
          "June",
          "July",
          "August",
          "September",
          "October",
          "November",
          "December"
         ],
         "xaxis": "x",
         "y": [
          0.7539970930232559,
          0.7334491410924532,
          0.8337675872850442,
          1.1017026313393428,
          0.9027647169456461,
          0.32059845044082286,
          0.6073211314475874,
          0.42448425163426434,
          0.5443613909652258,
          0.5066866018772324,
          0.5929203539823008,
          0.4309965696191398
         ],
         "yaxis": "y"
        },
        {
         "alignmentgroup": "True",
         "customdata": [
          [
           65
          ],
          [
           69
          ],
          [
           58
          ],
          [
           58
          ],
          [
           64
          ],
          [
           68
          ],
          [
           90
          ],
          [
           56
          ],
          [
           69
          ],
          [
           61
          ],
          [
           71
          ],
          [
           50
          ]
         ],
         "hovertemplate": "Category=Weapons Carrying Etc<br>Month=%{x}<br>Percentage (%)=%{y:.2f}<br>count=%{customdata[0]:,}<extra></extra>",
         "legendgroup": "Weapons Carrying Etc",
         "marker": {
          "color": "#FF7F0E",
          "pattern": {
           "shape": ""
          }
         },
         "name": "Weapons Carrying Etc",
         "offsetgroup": "Weapons Carrying Etc",
         "orientation": "v",
         "showlegend": true,
         "textposition": "auto",
         "type": "bar",
         "x": [
          "January",
          "February",
          "March",
          "April",
          "May",
          "June",
          "July",
          "August",
          "September",
          "October",
          "November",
          "December"
         ],
         "xaxis": "x",
         "y": [
          0.5904796511627907,
          0.6658946149392009,
          0.5037345839847143,
          0.5280888646089411,
          0.6018431446304308,
          0.6055748508326654,
          0.7487520798668885,
          0.47542236183037606,
          0.5606109847253818,
          0.5066866018772324,
          0.6283185840707964,
          0.439792417978714
         ],
         "yaxis": "y"
        },
        {
         "alignmentgroup": "True",
         "customdata": [
          [
           41
          ],
          [
           19
          ],
          [
           30
          ],
          [
           48
          ],
          [
           33
          ],
          [
           33
          ],
          [
           35
          ],
          [
           46
          ],
          [
           23
          ],
          [
           41
          ],
          [
           20
          ],
          [
           28
          ]
         ],
         "hovertemplate": "Category=Vandalism<br>Month=%{x}<br>Percentage (%)=%{y:.2f}<br>count=%{customdata[0]:,}<extra></extra>",
         "legendgroup": "Vandalism",
         "marker": {
          "color": "#2CA02C",
          "pattern": {
           "shape": ""
          }
         },
         "name": "Vandalism",
         "offsetgroup": "Vandalism",
         "orientation": "v",
         "showlegend": true,
         "textposition": "auto",
         "type": "bar",
         "x": [
          "January",
          "February",
          "March",
          "April",
          "May",
          "June",
          "July",
          "August",
          "September",
          "October",
          "November",
          "December"
         ],
         "xaxis": "x",
         "y": [
          0.37245639534883723,
          0.1833622852731133,
          0.26055237102657636,
          0.4370390603660202,
          0.31032537145006583,
          0.2938819129040876,
          0.2911813643926789,
          0.3905255115035232,
          0.18687032824179395,
          0.34055984716338566,
          0.17699115044247787,
          0.24628375406807987
         ],
         "yaxis": "y"
        },
        {
         "alignmentgroup": "True",
         "customdata": [
          [
           38
          ],
          [
           32
          ],
          [
           41
          ],
          [
           45
          ],
          [
           27
          ],
          [
           31
          ],
          [
           33
          ],
          [
           33
          ],
          [
           26
          ],
          [
           31
          ],
          [
           39
          ],
          [
           32
          ]
         ],
         "hovertemplate": "Category=Case Closure<br>Month=%{x}<br>Percentage (%)=%{y:.2f}<br>count=%{customdata[0]:,}<extra></extra>",
         "legendgroup": "Case Closure",
         "marker": {
          "color": "#D62728",
          "pattern": {
           "shape": ""
          }
         },
         "name": "Case Closure",
         "offsetgroup": "Case Closure",
         "orientation": "v",
         "showlegend": true,
         "textposition": "auto",
         "type": "bar",
         "x": [
          "January",
          "February",
          "March",
          "April",
          "May",
          "June",
          "July",
          "August",
          "September",
          "October",
          "November",
          "December"
         ],
         "xaxis": "x",
         "y": [
          0.345203488372093,
          0.30882069098629605,
          0.3560882404029877,
          0.409724119093144,
          0.25390257664096294,
          0.27607088787959744,
          0.27454242928452577,
          0.28015960607861445,
          0.21124471888202798,
          0.25749646980646235,
          0.3451327433628319,
          0.28146714750637697
         ],
         "yaxis": "y"
        },
        {
         "alignmentgroup": "True",
         "customdata": [
          [
           32
          ],
          [
           39
          ],
          [
           28
          ],
          [
           25
          ],
          [
           28
          ],
          [
           33
          ],
          [
           32
          ],
          [
           36
          ],
          [
           39
          ],
          [
           30
          ],
          [
           33
          ],
          [
           26
          ]
         ],
         "hovertemplate": "Category=Arson<br>Month=%{x}<br>Percentage (%)=%{y:.2f}<br>count=%{customdata[0]:,}<extra></extra>",
         "legendgroup": "Arson",
         "marker": {
          "color": "#9467BD",
          "pattern": {
           "shape": ""
          }
         },
         "name": "Arson",
         "offsetgroup": "Arson",
         "orientation": "v",
         "showlegend": true,
         "textposition": "auto",
         "type": "bar",
         "x": [
          "January",
          "February",
          "March",
          "April",
          "May",
          "June",
          "July",
          "August",
          "September",
          "October",
          "November",
          "December"
         ],
         "xaxis": "x",
         "y": [
          0.29069767441860467,
          0.37637521713954836,
          0.2431822129581379,
          0.2276245106073022,
          0.2633063757758134,
          0.2938819129040876,
          0.26622296173044924,
          0.3056286611766703,
          0.3168670783230419,
          0.24919013207076998,
          0.2920353982300885,
          0.22869205734893128
         ],
         "yaxis": "y"
        },
        {
         "alignmentgroup": "True",
         "customdata": [
          [
           32
          ],
          [
           47
          ],
          [
           43
          ],
          [
           43
          ],
          [
           60
          ],
          [
           47
          ],
          [
           49
          ],
          [
           47
          ],
          [
           70
          ],
          [
           49
          ],
          [
           55
          ],
          [
           55
          ]
         ],
         "hovertemplate": "Category=Stolen Property<br>Month=%{x}<br>Percentage (%)=%{y:.2f}<br>count=%{customdata[0]:,}<extra></extra>",
         "legendgroup": "Stolen Property",
         "marker": {
          "color": "#8C564B",
          "pattern": {
           "shape": ""
          }
         },
         "name": "Stolen Property",
         "offsetgroup": "Stolen Property",
         "orientation": "v",
         "showlegend": true,
         "textposition": "auto",
         "type": "bar",
         "x": [
          "January",
          "February",
          "March",
          "April",
          "May",
          "June",
          "July",
          "August",
          "September",
          "October",
          "November",
          "December"
         ],
         "xaxis": "x",
         "y": [
          0.29069767441860467,
          0.45358038988612237,
          0.3734583984714261,
          0.39151415824455976,
          0.5642279480910287,
          0.4185590880755188,
          0.40765391014975044,
          0.39901519653620854,
          0.5687357816054599,
          0.4070105490489243,
          0.48672566371681414,
          0.4837716597765855
         ],
         "yaxis": "y"
        },
        {
         "alignmentgroup": "True",
         "customdata": [
          [
           32
          ],
          [
           29
          ],
          [
           29
          ],
          [
           38
          ],
          [
           27
          ],
          [
           18
          ],
          [
           32
          ],
          [
           29
          ],
          [
           33
          ],
          [
           28
          ],
          [
           41
          ],
          [
           35
          ]
         ],
         "hovertemplate": "Category=Traffic Collision<br>Month=%{x}<br>Percentage (%)=%{y:.2f}<br>count=%{customdata[0]:,}<extra></extra>",
         "legendgroup": "Traffic Collision",
         "marker": {
          "color": "#E377C2",
          "pattern": {
           "shape": ""
          }
         },
         "name": "Traffic Collision",
         "offsetgroup": "Traffic Collision",
         "orientation": "v",
         "showlegend": true,
         "textposition": "auto",
         "type": "bar",
         "x": [
          "January",
          "February",
          "March",
          "April",
          "May",
          "June",
          "July",
          "August",
          "September",
          "October",
          "November",
          "December"
         ],
         "xaxis": "x",
         "y": [
          0.29069767441860467,
          0.2798687512063308,
          0.25186729199235713,
          0.34598925612309933,
          0.25390257664096294,
          0.16029922522041143,
          0.26622296173044924,
          0.24620086594787333,
          0.2681182970425739,
          0.23257745659938533,
          0.36283185840707965,
          0.30785469258509984
         ],
         "yaxis": "y"
        },
        {
         "alignmentgroup": "True",
         "customdata": [
          [
           28
          ],
          [
           18
          ],
          [
           30
          ],
          [
           47
          ],
          [
           37
          ],
          [
           49
          ],
          [
           40
          ],
          [
           52
          ],
          [
           44
          ],
          [
           33
          ],
          [
           27
          ],
          [
           34
          ]
         ],
         "hovertemplate": "Category=Courtesy Report<br>Month=%{x}<br>Percentage (%)=%{y:.2f}<br>count=%{customdata[0]:,}<extra></extra>",
         "legendgroup": "Courtesy Report",
         "marker": {
          "color": "#7F7F7F",
          "pattern": {
           "shape": ""
          }
         },
         "name": "Courtesy Report",
         "offsetgroup": "Courtesy Report",
         "orientation": "v",
         "showlegend": true,
         "textposition": "auto",
         "type": "bar",
         "x": [
          "January",
          "February",
          "March",
          "April",
          "May",
          "June",
          "July",
          "August",
          "September",
          "October",
          "November",
          "December"
         ],
         "xaxis": "x",
         "y": [
          0.2543604651162791,
          0.17371163867979156,
          0.26055237102657636,
          0.4279340799417281,
          0.34794056798946776,
          0.43637011310000895,
          0.33277870216306155,
          0.44146362169963493,
          0.35749106272343195,
          0.27410914527784697,
          0.23893805309734514,
          0.29905884422552553
         ],
         "yaxis": "y"
        },
        {
         "alignmentgroup": "True",
         "customdata": [
          [
           27
          ],
          [
           27
          ],
          [
           41
          ],
          [
           45
          ],
          [
           29
          ],
          [
           26
          ],
          [
           29
          ],
          [
           24
          ],
          [
           26
          ],
          [
           42
          ],
          [
           30
          ],
          [
           21
          ]
         ],
         "hovertemplate": "Category=Forgery And Counterfeiting<br>Month=%{x}<br>Percentage (%)=%{y:.2f}<br>count=%{customdata[0]:,}<extra></extra>",
         "legendgroup": "Forgery And Counterfeiting",
         "marker": {
          "color": "#BCBD22",
          "pattern": {
           "shape": ""
          }
         },
         "name": "Forgery And Counterfeiting",
         "offsetgroup": "Forgery And Counterfeiting",
         "orientation": "v",
         "showlegend": true,
         "textposition": "auto",
         "type": "bar",
         "x": [
          "January",
          "February",
          "March",
          "April",
          "May",
          "June",
          "July",
          "August",
          "September",
          "October",
          "November",
          "December"
         ],
         "xaxis": "x",
         "y": [
          0.24527616279069767,
          0.26056745801968734,
          0.3560882404029877,
          0.409724119093144,
          0.2727101749106639,
          0.2315433253183721,
          0.24126455906821964,
          0.20375244078444688,
          0.21124471888202798,
          0.348866184899078,
          0.2654867256637168,
          0.1847128155510599
         ],
         "yaxis": "y"
        },
        {
         "alignmentgroup": "True",
         "customdata": [
          [
           16
          ],
          [
           25
          ],
          [
           24
          ],
          [
           23
          ],
          [
           16
          ],
          [
           23
          ],
          [
           23
          ],
          [
           18
          ],
          [
           15
          ],
          [
           13
          ],
          [
           29
          ],
          [
           22
          ]
         ],
         "hovertemplate": "Category=Fire Report<br>Month=%{x}<br>Percentage (%)=%{y:.2f}<br>count=%{customdata[0]:,}<extra></extra>",
         "legendgroup": "Fire Report",
         "marker": {
          "color": "#17BECF",
          "pattern": {
           "shape": ""
          }
         },
         "name": "Fire Report",
         "offsetgroup": "Fire Report",
         "orientation": "v",
         "showlegend": true,
         "textposition": "auto",
         "type": "bar",
         "x": [
          "January",
          "February",
          "March",
          "April",
          "May",
          "June",
          "July",
          "August",
          "September",
          "October",
          "November",
          "December"
         ],
         "xaxis": "x",
         "y": [
          0.14534883720930233,
          0.24126616483304383,
          0.20844189682126105,
          0.209414549758718,
          0.1504607861576077,
          0.20482678778163685,
          0.1913477537437604,
          0.15281433058833516,
          0.12187195320116997,
          0.10798239056400033,
          0.25663716814159293,
          0.19350866391063418
         ],
         "yaxis": "y"
        },
        {
         "alignmentgroup": "True",
         "customdata": [
          [
           15
          ],
          [
           13
          ],
          [
           12
          ],
          [
           5
          ],
          [
           10
          ],
          [
           4
          ],
          [
           15
          ],
          [
           14
          ],
          [
           10
          ],
          [
           12
          ],
          [
           11
          ],
          [
           19
          ]
         ],
         "hovertemplate": "Category=Embezzlement<br>Month=%{x}<br>Percentage (%)=%{y:.2f}<br>count=%{customdata[0]:,}<extra></extra>",
         "legendgroup": "Embezzlement",
         "marker": {
          "color": "#1F77B4",
          "pattern": {
           "shape": ""
          }
         },
         "name": "Embezzlement",
         "offsetgroup": "Embezzlement",
         "orientation": "v",
         "showlegend": true,
         "textposition": "auto",
         "type": "bar",
         "x": [
          "January",
          "February",
          "March",
          "April",
          "May",
          "June",
          "July",
          "August",
          "September",
          "October",
          "November",
          "December"
         ],
         "xaxis": "x",
         "y": [
          0.13626453488372092,
          0.12545840571318279,
          0.10422094841063052,
          0.04552490212146044,
          0.0940379913485048,
          0.035622050048980315,
          0.12479201331114809,
          0.11885559045759402,
          0.08124796880077997,
          0.099676052828308,
          0.09734513274336283,
          0.16712111883191136
         ],
         "yaxis": "y"
        },
        {
         "alignmentgroup": "True",
         "customdata": [
          [
           10
          ],
          [
           11
          ],
          [
           5
          ],
          [
           7
          ],
          [
           3
          ],
          [
           5
          ],
          [
           5
          ],
          [
           5
          ],
          [
           7
          ],
          [
           5
          ],
          [
           5
          ],
          [
           11
          ]
         ],
         "hovertemplate": "Category=Suicide<br>Month=%{x}<br>Percentage (%)=%{y:.2f}<br>count=%{customdata[0]:,}<extra></extra>",
         "legendgroup": "Suicide",
         "marker": {
          "color": "#FF7F0E",
          "pattern": {
           "shape": ""
          }
         },
         "name": "Suicide",
         "offsetgroup": "Suicide",
         "orientation": "v",
         "showlegend": true,
         "textposition": "auto",
         "type": "bar",
         "x": [
          "January",
          "February",
          "March",
          "April",
          "May",
          "June",
          "July",
          "August",
          "September",
          "October",
          "November",
          "December"
         ],
         "xaxis": "x",
         "y": [
          0.09084302325581395,
          0.10615711252653928,
          0.04342539517109606,
          0.06373486297004462,
          0.02821139740455144,
          0.0445275625612254,
          0.04159733777038269,
          0.04244842516342644,
          0.05687357816054598,
          0.041531688678461666,
          0.04424778761061947,
          0.09675433195531709
         ],
         "yaxis": "y"
        },
        {
         "alignmentgroup": "True",
         "customdata": [
          [
           8
          ],
          [
           14
          ],
          [
           10
          ],
          [
           4
          ],
          [
           1
          ],
          [
           1
          ],
          [
           3
          ],
          [
           2
          ],
          [
           1
          ],
          [
           3
          ]
         ],
         "hovertemplate": "Category=Prostitution<br>Month=%{x}<br>Percentage (%)=%{y:.2f}<br>count=%{customdata[0]:,}<extra></extra>",
         "legendgroup": "Prostitution",
         "marker": {
          "color": "#2CA02C",
          "pattern": {
           "shape": ""
          }
         },
         "name": "Prostitution",
         "offsetgroup": "Prostitution",
         "orientation": "v",
         "showlegend": true,
         "textposition": "auto",
         "type": "bar",
         "x": [
          "January",
          "February",
          "March",
          "April",
          "May",
          "August",
          "September",
          "October",
          "November",
          "December"
         ],
         "xaxis": "x",
         "y": [
          0.07267441860465117,
          0.13510905230650455,
          0.08685079034219212,
          0.03641992169716835,
          0.00940379913485048,
          0.008489685032685287,
          0.024374390640233994,
          0.016612675471384668,
          0.008849557522123894,
          0.02638754507872284
         ],
         "yaxis": "y"
        },
        {
         "alignmentgroup": "True",
         "customdata": [
          [
           8
          ],
          [
           15
          ],
          [
           10
          ],
          [
           5
          ],
          [
           18
          ],
          [
           8
          ],
          [
           9
          ],
          [
           9
          ],
          [
           16
          ],
          [
           14
          ],
          [
           9
          ],
          [
           8
          ]
         ],
         "hovertemplate": "Category=Sex Offense<br>Month=%{x}<br>Percentage (%)=%{y:.2f}<br>count=%{customdata[0]:,}<extra></extra>",
         "legendgroup": "Sex Offense",
         "marker": {
          "color": "#D62728",
          "pattern": {
           "shape": ""
          }
         },
         "name": "Sex Offense",
         "offsetgroup": "Sex Offense",
         "orientation": "v",
         "showlegend": true,
         "textposition": "auto",
         "type": "bar",
         "x": [
          "January",
          "February",
          "March",
          "April",
          "May",
          "June",
          "July",
          "August",
          "September",
          "October",
          "November",
          "December"
         ],
         "xaxis": "x",
         "y": [
          0.07267441860465117,
          0.1447596988998263,
          0.08685079034219212,
          0.04552490212146044,
          0.16926838442730863,
          0.07124410009796063,
          0.07487520798668885,
          0.07640716529416758,
          0.12999675008124797,
          0.11628872829969267,
          0.07964601769911504,
          0.07036678687659424
         ],
         "yaxis": "y"
        },
        {
         "alignmentgroup": "True",
         "customdata": [
          [
           7
          ],
          [
           5
          ],
          [
           5
          ],
          [
           1
          ],
          [
           1
          ],
          [
           2
          ],
          [
           5
          ],
          [
           5
          ],
          [
           2
          ],
          [
           4
          ]
         ],
         "hovertemplate": "Category=Homicide<br>Month=%{x}<br>Percentage (%)=%{y:.2f}<br>count=%{customdata[0]:,}<extra></extra>",
         "legendgroup": "Homicide",
         "marker": {
          "color": "#9467BD",
          "pattern": {
           "shape": ""
          }
         },
         "name": "Homicide",
         "offsetgroup": "Homicide",
         "orientation": "v",
         "showlegend": true,
         "textposition": "auto",
         "type": "bar",
         "x": [
          "January",
          "February",
          "May",
          "June",
          "July",
          "August",
          "September",
          "October",
          "November",
          "December"
         ],
         "xaxis": "x",
         "y": [
          0.06359011627906977,
          0.048253232966608765,
          0.0470189956742524,
          0.008905512512245079,
          0.008319467554076539,
          0.016979370065370574,
          0.04062398440038999,
          0.041531688678461666,
          0.017699115044247787,
          0.03518339343829712
         ],
         "yaxis": "y"
        },
        {
         "alignmentgroup": "True",
         "customdata": [
          [
           6
          ],
          [
           7
          ],
          [
           13
          ],
          [
           12
          ],
          [
           12
          ],
          [
           5
          ],
          [
           7
          ],
          [
           6
          ],
          [
           6
          ],
          [
           5
          ],
          [
           11
          ],
          [
           3
          ]
         ],
         "hovertemplate": "Category=Vehicle Impounded<br>Month=%{x}<br>Percentage (%)=%{y:.2f}<br>count=%{customdata[0]:,}<extra></extra>",
         "legendgroup": "Vehicle Impounded",
         "marker": {
          "color": "#8C564B",
          "pattern": {
           "shape": ""
          }
         },
         "name": "Vehicle Impounded",
         "offsetgroup": "Vehicle Impounded",
         "orientation": "v",
         "showlegend": true,
         "textposition": "auto",
         "type": "bar",
         "x": [
          "January",
          "February",
          "March",
          "April",
          "May",
          "June",
          "July",
          "August",
          "September",
          "October",
          "November",
          "December"
         ],
         "xaxis": "x",
         "y": [
          0.05450581395348837,
          0.06755452615325228,
          0.11290602744484975,
          0.10925976509150505,
          0.11284558961820576,
          0.0445275625612254,
          0.05823627287853577,
          0.05093811019611172,
          0.04874878128046799,
          0.041531688678461666,
          0.09734513274336283,
          0.02638754507872284
         ],
         "yaxis": "y"
        },
        {
         "alignmentgroup": "True",
         "customdata": [
          [
           6
          ],
          [
           6
          ],
          [
           7
          ],
          [
           8
          ],
          [
           3
          ],
          [
           4
          ],
          [
           3
          ],
          [
           4
          ],
          [
           5
          ],
          [
           5
          ],
          [
           5
          ],
          [
           3
          ]
         ],
         "hovertemplate": "Category=Vehicle Misplaced<br>Month=%{x}<br>Percentage (%)=%{y:.2f}<br>count=%{customdata[0]:,}<extra></extra>",
         "legendgroup": "Vehicle Misplaced",
         "marker": {
          "color": "#E377C2",
          "pattern": {
           "shape": ""
          }
         },
         "name": "Vehicle Misplaced",
         "offsetgroup": "Vehicle Misplaced",
         "orientation": "v",
         "showlegend": true,
         "textposition": "auto",
         "type": "bar",
         "x": [
          "January",
          "February",
          "March",
          "April",
          "May",
          "June",
          "July",
          "August",
          "September",
          "October",
          "November",
          "December"
         ],
         "xaxis": "x",
         "y": [
          0.05450581395348837,
          0.05790387955993051,
          0.06079555323953448,
          0.0728398433943367,
          0.02821139740455144,
          0.035622050048980315,
          0.02495840266222962,
          0.03395874013074115,
          0.04062398440038999,
          0.041531688678461666,
          0.04424778761061947,
          0.02638754507872284
         ],
         "yaxis": "y"
        },
        {
         "alignmentgroup": "True",
         "customdata": [
          [
           2
          ],
          [
           5
          ],
          [
           9
          ],
          [
           5
          ],
          [
           1
          ],
          [
           4
          ],
          [
           10
          ],
          [
           3
          ],
          [
           8
          ],
          [
           6
          ],
          [
           3
          ],
          [
           2
          ]
         ],
         "hovertemplate": "Category=Drug Violation<br>Month=%{x}<br>Percentage (%)=%{y:.2f}<br>count=%{customdata[0]:,}<extra></extra>",
         "legendgroup": "Drug Violation",
         "marker": {
          "color": "#7F7F7F",
          "pattern": {
           "shape": ""
          }
         },
         "name": "Drug Violation",
         "offsetgroup": "Drug Violation",
         "orientation": "v",
         "showlegend": true,
         "textposition": "auto",
         "type": "bar",
         "x": [
          "January",
          "February",
          "March",
          "April",
          "May",
          "June",
          "July",
          "August",
          "September",
          "October",
          "November",
          "December"
         ],
         "xaxis": "x",
         "y": [
          0.018168604651162792,
          0.048253232966608765,
          0.0781657113079729,
          0.04552490212146044,
          0.00940379913485048,
          0.035622050048980315,
          0.08319467554076539,
          0.02546905509805586,
          0.06499837504062399,
          0.049838026414154,
          0.026548672566371685,
          0.01759169671914856
         ],
         "yaxis": "y"
        },
        {
         "alignmentgroup": "True",
         "customdata": [
          [
           2
          ],
          [
           2
          ],
          [
           1
          ],
          [
           1
          ],
          [
           4
          ]
         ],
         "hovertemplate": "Category=Human Trafficking, Commercial Sex Acts<br>Month=%{x}<br>Percentage (%)=%{y:.2f}<br>count=%{customdata[0]:,}<extra></extra>",
         "legendgroup": "Human Trafficking, Commercial Sex Acts",
         "marker": {
          "color": "#BCBD22",
          "pattern": {
           "shape": ""
          }
         },
         "name": "Human Trafficking, Commercial Sex Acts",
         "offsetgroup": "Human Trafficking, Commercial Sex Acts",
         "orientation": "v",
         "showlegend": true,
         "textposition": "auto",
         "type": "bar",
         "x": [
          "January",
          "February",
          "April",
          "May",
          "August"
         ],
         "xaxis": "x",
         "y": [
          0.018168604651162792,
          0.019301293186643503,
          0.009104980424292088,
          0.00940379913485048,
          0.03395874013074115
         ],
         "yaxis": "y"
        },
        {
         "alignmentgroup": "True",
         "customdata": [
          [
           1
          ],
          [
           3
          ],
          [
           5
          ],
          [
           6
          ],
          [
           7
          ],
          [
           5
          ],
          [
           6
          ],
          [
           6
          ],
          [
           2
          ]
         ],
         "hovertemplate": "Category=Liquor Laws<br>Month=%{x}<br>Percentage (%)=%{y:.2f}<br>count=%{customdata[0]:,}<extra></extra>",
         "legendgroup": "Liquor Laws",
         "marker": {
          "color": "#17BECF",
          "pattern": {
           "shape": ""
          }
         },
         "name": "Liquor Laws",
         "offsetgroup": "Liquor Laws",
         "orientation": "v",
         "showlegend": true,
         "textposition": "auto",
         "type": "bar",
         "x": [
          "January",
          "February",
          "April",
          "May",
          "June",
          "July",
          "August",
          "September",
          "October"
         ],
         "xaxis": "x",
         "y": [
          0.009084302325581396,
          0.028951939779965255,
          0.04552490212146044,
          0.05642279480910288,
          0.06233858758571555,
          0.04159733777038269,
          0.05093811019611172,
          0.04874878128046799,
          0.016612675471384668
         ],
         "yaxis": "y"
        },
        {
         "alignmentgroup": "True",
         "customdata": [
          [
           1
          ],
          [
           1
          ],
          [
           6
          ],
          [
           2
          ],
          [
           2
          ],
          [
           2
          ],
          [
           2
          ],
          [
           1
          ],
          [
           6
          ],
          [
           1
          ],
          [
           3
          ],
          [
           3
          ]
         ],
         "hovertemplate": "Category=Rape<br>Month=%{x}<br>Percentage (%)=%{y:.2f}<br>count=%{customdata[0]:,}<extra></extra>",
         "legendgroup": "Rape",
         "marker": {
          "color": "#1F77B4",
          "pattern": {
           "shape": ""
          }
         },
         "name": "Rape",
         "offsetgroup": "Rape",
         "orientation": "v",
         "showlegend": true,
         "textposition": "auto",
         "type": "bar",
         "x": [
          "January",
          "February",
          "March",
          "April",
          "May",
          "June",
          "July",
          "August",
          "September",
          "October",
          "November",
          "December"
         ],
         "xaxis": "x",
         "y": [
          0.009084302325581396,
          0.009650646593321752,
          0.05211047420531526,
          0.018209960848584176,
          0.01880759826970096,
          0.017811025024490158,
          0.016638935108153077,
          0.008489685032685287,
          0.04874878128046799,
          0.008306337735692334,
          0.026548672566371685,
          0.02638754507872284
         ],
         "yaxis": "y"
        },
        {
         "alignmentgroup": "True",
         "customdata": [
          [
           1
          ],
          [
           2
          ],
          [
           1
          ],
          [
           3
          ]
         ],
         "hovertemplate": "Category=Gambling<br>Month=%{x}<br>Percentage (%)=%{y:.2f}<br>count=%{customdata[0]:,}<extra></extra>",
         "legendgroup": "Gambling",
         "marker": {
          "color": "#FF7F0E",
          "pattern": {
           "shape": ""
          }
         },
         "name": "Gambling",
         "offsetgroup": "Gambling",
         "orientation": "v",
         "showlegend": true,
         "textposition": "auto",
         "type": "bar",
         "x": [
          "March",
          "July",
          "August",
          "December"
         ],
         "xaxis": "x",
         "y": [
          0.008685079034219213,
          0.016638935108153077,
          0.008489685032685287,
          0.02638754507872284
         ],
         "yaxis": "y"
        },
        {
         "alignmentgroup": "True",
         "customdata": [
          [
           2
          ]
         ],
         "hovertemplate": "Category=Civil Sidewalks<br>Month=%{x}<br>Percentage (%)=%{y:.2f}<br>count=%{customdata[0]:,}<extra></extra>",
         "legendgroup": "Civil Sidewalks",
         "marker": {
          "color": "#2CA02C",
          "pattern": {
           "shape": ""
          }
         },
         "name": "Civil Sidewalks",
         "offsetgroup": "Civil Sidewalks",
         "orientation": "v",
         "showlegend": true,
         "textposition": "auto",
         "type": "bar",
         "x": [
          "October"
         ],
         "xaxis": "x",
         "y": [
          0.016612675471384668
         ],
         "yaxis": "y"
        }
       ],
       "layout": {
        "barmode": "relative",
        "legend": {
         "title": {
          "text": "Category"
         },
         "tracegroupgap": 0
        },
        "showlegend": false,
        "template": {
         "data": {
          "bar": [
           {
            "error_x": {
             "color": "rgb(36,36,36)"
            },
            "error_y": {
             "color": "rgb(36,36,36)"
            },
            "marker": {
             "line": {
              "color": "white",
              "width": 0.5
             },
             "pattern": {
              "fillmode": "overlay",
              "size": 10,
              "solidity": 0.2
             }
            },
            "type": "bar"
           }
          ],
          "barpolar": [
           {
            "marker": {
             "line": {
              "color": "white",
              "width": 0.5
             },
             "pattern": {
              "fillmode": "overlay",
              "size": 10,
              "solidity": 0.2
             }
            },
            "type": "barpolar"
           }
          ],
          "carpet": [
           {
            "aaxis": {
             "endlinecolor": "rgb(36,36,36)",
             "gridcolor": "white",
             "linecolor": "white",
             "minorgridcolor": "white",
             "startlinecolor": "rgb(36,36,36)"
            },
            "baxis": {
             "endlinecolor": "rgb(36,36,36)",
             "gridcolor": "white",
             "linecolor": "white",
             "minorgridcolor": "white",
             "startlinecolor": "rgb(36,36,36)"
            },
            "type": "carpet"
           }
          ],
          "choropleth": [
           {
            "colorbar": {
             "outlinewidth": 1,
             "tickcolor": "rgb(36,36,36)",
             "ticks": "outside"
            },
            "type": "choropleth"
           }
          ],
          "contour": [
           {
            "colorbar": {
             "outlinewidth": 1,
             "tickcolor": "rgb(36,36,36)",
             "ticks": "outside"
            },
            "colorscale": [
             [
              0,
              "#440154"
             ],
             [
              0.1111111111111111,
              "#482878"
             ],
             [
              0.2222222222222222,
              "#3e4989"
             ],
             [
              0.3333333333333333,
              "#31688e"
             ],
             [
              0.4444444444444444,
              "#26828e"
             ],
             [
              0.5555555555555556,
              "#1f9e89"
             ],
             [
              0.6666666666666666,
              "#35b779"
             ],
             [
              0.7777777777777778,
              "#6ece58"
             ],
             [
              0.8888888888888888,
              "#b5de2b"
             ],
             [
              1,
              "#fde725"
             ]
            ],
            "type": "contour"
           }
          ],
          "contourcarpet": [
           {
            "colorbar": {
             "outlinewidth": 1,
             "tickcolor": "rgb(36,36,36)",
             "ticks": "outside"
            },
            "type": "contourcarpet"
           }
          ],
          "heatmap": [
           {
            "colorbar": {
             "outlinewidth": 1,
             "tickcolor": "rgb(36,36,36)",
             "ticks": "outside"
            },
            "colorscale": [
             [
              0,
              "#440154"
             ],
             [
              0.1111111111111111,
              "#482878"
             ],
             [
              0.2222222222222222,
              "#3e4989"
             ],
             [
              0.3333333333333333,
              "#31688e"
             ],
             [
              0.4444444444444444,
              "#26828e"
             ],
             [
              0.5555555555555556,
              "#1f9e89"
             ],
             [
              0.6666666666666666,
              "#35b779"
             ],
             [
              0.7777777777777778,
              "#6ece58"
             ],
             [
              0.8888888888888888,
              "#b5de2b"
             ],
             [
              1,
              "#fde725"
             ]
            ],
            "type": "heatmap"
           }
          ],
          "heatmapgl": [
           {
            "colorbar": {
             "outlinewidth": 1,
             "tickcolor": "rgb(36,36,36)",
             "ticks": "outside"
            },
            "colorscale": [
             [
              0,
              "#440154"
             ],
             [
              0.1111111111111111,
              "#482878"
             ],
             [
              0.2222222222222222,
              "#3e4989"
             ],
             [
              0.3333333333333333,
              "#31688e"
             ],
             [
              0.4444444444444444,
              "#26828e"
             ],
             [
              0.5555555555555556,
              "#1f9e89"
             ],
             [
              0.6666666666666666,
              "#35b779"
             ],
             [
              0.7777777777777778,
              "#6ece58"
             ],
             [
              0.8888888888888888,
              "#b5de2b"
             ],
             [
              1,
              "#fde725"
             ]
            ],
            "type": "heatmapgl"
           }
          ],
          "histogram": [
           {
            "marker": {
             "line": {
              "color": "white",
              "width": 0.6
             }
            },
            "type": "histogram"
           }
          ],
          "histogram2d": [
           {
            "colorbar": {
             "outlinewidth": 1,
             "tickcolor": "rgb(36,36,36)",
             "ticks": "outside"
            },
            "colorscale": [
             [
              0,
              "#440154"
             ],
             [
              0.1111111111111111,
              "#482878"
             ],
             [
              0.2222222222222222,
              "#3e4989"
             ],
             [
              0.3333333333333333,
              "#31688e"
             ],
             [
              0.4444444444444444,
              "#26828e"
             ],
             [
              0.5555555555555556,
              "#1f9e89"
             ],
             [
              0.6666666666666666,
              "#35b779"
             ],
             [
              0.7777777777777778,
              "#6ece58"
             ],
             [
              0.8888888888888888,
              "#b5de2b"
             ],
             [
              1,
              "#fde725"
             ]
            ],
            "type": "histogram2d"
           }
          ],
          "histogram2dcontour": [
           {
            "colorbar": {
             "outlinewidth": 1,
             "tickcolor": "rgb(36,36,36)",
             "ticks": "outside"
            },
            "colorscale": [
             [
              0,
              "#440154"
             ],
             [
              0.1111111111111111,
              "#482878"
             ],
             [
              0.2222222222222222,
              "#3e4989"
             ],
             [
              0.3333333333333333,
              "#31688e"
             ],
             [
              0.4444444444444444,
              "#26828e"
             ],
             [
              0.5555555555555556,
              "#1f9e89"
             ],
             [
              0.6666666666666666,
              "#35b779"
             ],
             [
              0.7777777777777778,
              "#6ece58"
             ],
             [
              0.8888888888888888,
              "#b5de2b"
             ],
             [
              1,
              "#fde725"
             ]
            ],
            "type": "histogram2dcontour"
           }
          ],
          "mesh3d": [
           {
            "colorbar": {
             "outlinewidth": 1,
             "tickcolor": "rgb(36,36,36)",
             "ticks": "outside"
            },
            "type": "mesh3d"
           }
          ],
          "parcoords": [
           {
            "line": {
             "colorbar": {
              "outlinewidth": 1,
              "tickcolor": "rgb(36,36,36)",
              "ticks": "outside"
             }
            },
            "type": "parcoords"
           }
          ],
          "pie": [
           {
            "automargin": true,
            "type": "pie"
           }
          ],
          "scatter": [
           {
            "fillpattern": {
             "fillmode": "overlay",
             "size": 10,
             "solidity": 0.2
            },
            "type": "scatter"
           }
          ],
          "scatter3d": [
           {
            "line": {
             "colorbar": {
              "outlinewidth": 1,
              "tickcolor": "rgb(36,36,36)",
              "ticks": "outside"
             }
            },
            "marker": {
             "colorbar": {
              "outlinewidth": 1,
              "tickcolor": "rgb(36,36,36)",
              "ticks": "outside"
             }
            },
            "type": "scatter3d"
           }
          ],
          "scattercarpet": [
           {
            "marker": {
             "colorbar": {
              "outlinewidth": 1,
              "tickcolor": "rgb(36,36,36)",
              "ticks": "outside"
             }
            },
            "type": "scattercarpet"
           }
          ],
          "scattergeo": [
           {
            "marker": {
             "colorbar": {
              "outlinewidth": 1,
              "tickcolor": "rgb(36,36,36)",
              "ticks": "outside"
             }
            },
            "type": "scattergeo"
           }
          ],
          "scattergl": [
           {
            "marker": {
             "colorbar": {
              "outlinewidth": 1,
              "tickcolor": "rgb(36,36,36)",
              "ticks": "outside"
             }
            },
            "type": "scattergl"
           }
          ],
          "scattermapbox": [
           {
            "marker": {
             "colorbar": {
              "outlinewidth": 1,
              "tickcolor": "rgb(36,36,36)",
              "ticks": "outside"
             }
            },
            "type": "scattermapbox"
           }
          ],
          "scatterpolar": [
           {
            "marker": {
             "colorbar": {
              "outlinewidth": 1,
              "tickcolor": "rgb(36,36,36)",
              "ticks": "outside"
             }
            },
            "type": "scatterpolar"
           }
          ],
          "scatterpolargl": [
           {
            "marker": {
             "colorbar": {
              "outlinewidth": 1,
              "tickcolor": "rgb(36,36,36)",
              "ticks": "outside"
             }
            },
            "type": "scatterpolargl"
           }
          ],
          "scatterternary": [
           {
            "marker": {
             "colorbar": {
              "outlinewidth": 1,
              "tickcolor": "rgb(36,36,36)",
              "ticks": "outside"
             }
            },
            "type": "scatterternary"
           }
          ],
          "surface": [
           {
            "colorbar": {
             "outlinewidth": 1,
             "tickcolor": "rgb(36,36,36)",
             "ticks": "outside"
            },
            "colorscale": [
             [
              0,
              "#440154"
             ],
             [
              0.1111111111111111,
              "#482878"
             ],
             [
              0.2222222222222222,
              "#3e4989"
             ],
             [
              0.3333333333333333,
              "#31688e"
             ],
             [
              0.4444444444444444,
              "#26828e"
             ],
             [
              0.5555555555555556,
              "#1f9e89"
             ],
             [
              0.6666666666666666,
              "#35b779"
             ],
             [
              0.7777777777777778,
              "#6ece58"
             ],
             [
              0.8888888888888888,
              "#b5de2b"
             ],
             [
              1,
              "#fde725"
             ]
            ],
            "type": "surface"
           }
          ],
          "table": [
           {
            "cells": {
             "fill": {
              "color": "rgb(237,237,237)"
             },
             "line": {
              "color": "white"
             }
            },
            "header": {
             "fill": {
              "color": "rgb(217,217,217)"
             },
             "line": {
              "color": "white"
             }
            },
            "type": "table"
           }
          ]
         },
         "layout": {
          "annotationdefaults": {
           "arrowhead": 0,
           "arrowwidth": 1
          },
          "autotypenumbers": "strict",
          "coloraxis": {
           "colorbar": {
            "outlinewidth": 1,
            "tickcolor": "rgb(36,36,36)",
            "ticks": "outside"
           }
          },
          "colorscale": {
           "diverging": [
            [
             0,
             "rgb(103,0,31)"
            ],
            [
             0.1,
             "rgb(178,24,43)"
            ],
            [
             0.2,
             "rgb(214,96,77)"
            ],
            [
             0.3,
             "rgb(244,165,130)"
            ],
            [
             0.4,
             "rgb(253,219,199)"
            ],
            [
             0.5,
             "rgb(247,247,247)"
            ],
            [
             0.6,
             "rgb(209,229,240)"
            ],
            [
             0.7,
             "rgb(146,197,222)"
            ],
            [
             0.8,
             "rgb(67,147,195)"
            ],
            [
             0.9,
             "rgb(33,102,172)"
            ],
            [
             1,
             "rgb(5,48,97)"
            ]
           ],
           "sequential": [
            [
             0,
             "#440154"
            ],
            [
             0.1111111111111111,
             "#482878"
            ],
            [
             0.2222222222222222,
             "#3e4989"
            ],
            [
             0.3333333333333333,
             "#31688e"
            ],
            [
             0.4444444444444444,
             "#26828e"
            ],
            [
             0.5555555555555556,
             "#1f9e89"
            ],
            [
             0.6666666666666666,
             "#35b779"
            ],
            [
             0.7777777777777778,
             "#6ece58"
            ],
            [
             0.8888888888888888,
             "#b5de2b"
            ],
            [
             1,
             "#fde725"
            ]
           ],
           "sequentialminus": [
            [
             0,
             "#440154"
            ],
            [
             0.1111111111111111,
             "#482878"
            ],
            [
             0.2222222222222222,
             "#3e4989"
            ],
            [
             0.3333333333333333,
             "#31688e"
            ],
            [
             0.4444444444444444,
             "#26828e"
            ],
            [
             0.5555555555555556,
             "#1f9e89"
            ],
            [
             0.6666666666666666,
             "#35b779"
            ],
            [
             0.7777777777777778,
             "#6ece58"
            ],
            [
             0.8888888888888888,
             "#b5de2b"
            ],
            [
             1,
             "#fde725"
            ]
           ]
          },
          "colorway": [
           "#1F77B4",
           "#FF7F0E",
           "#2CA02C",
           "#D62728",
           "#9467BD",
           "#8C564B",
           "#E377C2",
           "#7F7F7F",
           "#BCBD22",
           "#17BECF"
          ],
          "font": {
           "color": "rgb(36,36,36)"
          },
          "geo": {
           "bgcolor": "white",
           "lakecolor": "white",
           "landcolor": "white",
           "showlakes": true,
           "showland": true,
           "subunitcolor": "white"
          },
          "hoverlabel": {
           "align": "left"
          },
          "hovermode": "closest",
          "mapbox": {
           "style": "light"
          },
          "paper_bgcolor": "white",
          "plot_bgcolor": "white",
          "polar": {
           "angularaxis": {
            "gridcolor": "rgb(232,232,232)",
            "linecolor": "rgb(36,36,36)",
            "showgrid": false,
            "showline": true,
            "ticks": "outside"
           },
           "bgcolor": "white",
           "radialaxis": {
            "gridcolor": "rgb(232,232,232)",
            "linecolor": "rgb(36,36,36)",
            "showgrid": false,
            "showline": true,
            "ticks": "outside"
           }
          },
          "scene": {
           "xaxis": {
            "backgroundcolor": "white",
            "gridcolor": "rgb(232,232,232)",
            "gridwidth": 2,
            "linecolor": "rgb(36,36,36)",
            "showbackground": true,
            "showgrid": false,
            "showline": true,
            "ticks": "outside",
            "zeroline": false,
            "zerolinecolor": "rgb(36,36,36)"
           },
           "yaxis": {
            "backgroundcolor": "white",
            "gridcolor": "rgb(232,232,232)",
            "gridwidth": 2,
            "linecolor": "rgb(36,36,36)",
            "showbackground": true,
            "showgrid": false,
            "showline": true,
            "ticks": "outside",
            "zeroline": false,
            "zerolinecolor": "rgb(36,36,36)"
           },
           "zaxis": {
            "backgroundcolor": "white",
            "gridcolor": "rgb(232,232,232)",
            "gridwidth": 2,
            "linecolor": "rgb(36,36,36)",
            "showbackground": true,
            "showgrid": false,
            "showline": true,
            "ticks": "outside",
            "zeroline": false,
            "zerolinecolor": "rgb(36,36,36)"
           }
          },
          "shapedefaults": {
           "fillcolor": "black",
           "line": {
            "width": 0
           },
           "opacity": 0.3
          },
          "ternary": {
           "aaxis": {
            "gridcolor": "rgb(232,232,232)",
            "linecolor": "rgb(36,36,36)",
            "showgrid": false,
            "showline": true,
            "ticks": "outside"
           },
           "baxis": {
            "gridcolor": "rgb(232,232,232)",
            "linecolor": "rgb(36,36,36)",
            "showgrid": false,
            "showline": true,
            "ticks": "outside"
           },
           "bgcolor": "white",
           "caxis": {
            "gridcolor": "rgb(232,232,232)",
            "linecolor": "rgb(36,36,36)",
            "showgrid": false,
            "showline": true,
            "ticks": "outside"
           }
          },
          "title": {
           "x": 0.05
          },
          "xaxis": {
           "automargin": true,
           "gridcolor": "rgb(232,232,232)",
           "linecolor": "rgb(36,36,36)",
           "showgrid": false,
           "showline": true,
           "ticks": "outside",
           "title": {
            "standoff": 15
           },
           "zeroline": false,
           "zerolinecolor": "rgb(36,36,36)"
          },
          "yaxis": {
           "automargin": true,
           "gridcolor": "rgb(232,232,232)",
           "linecolor": "rgb(36,36,36)",
           "showgrid": false,
           "showline": true,
           "ticks": "outside",
           "title": {
            "standoff": 15
           },
           "zeroline": false,
           "zerolinecolor": "rgb(36,36,36)"
          }
         }
        },
        "title": {
         "text": "Proportion of incidents by category and calendar month"
        },
        "xaxis": {
         "anchor": "y",
         "domain": [
          0,
          1
         ],
         "title": {
          "text": "Month"
         }
        },
        "yaxis": {
         "anchor": "x",
         "domain": [
          0,
          1
         ],
         "title": {
          "text": "Percentage (%)"
         }
        }
       }
      },
      "text/html": [
       "<div>                            <div id=\"23431fbe-2229-4022-93fb-5a7ab2ebdadb\" class=\"plotly-graph-div\" style=\"height:525px; width:100%;\"></div>            <script type=\"text/javascript\">                require([\"plotly\"], function(Plotly) {                    window.PLOTLYENV=window.PLOTLYENV || {};                                    if (document.getElementById(\"23431fbe-2229-4022-93fb-5a7ab2ebdadb\")) {                    Plotly.newPlot(                        \"23431fbe-2229-4022-93fb-5a7ab2ebdadb\",                        [{\"alignmentgroup\":\"True\",\"customdata\":[[3370],[3057],[3401],[3164],[2864],[3598],[3554],[3543],[3935],[3983],[3827],[3959]],\"hovertemplate\":\"Category=Larceny Theft\\u003cbr\\u003eMonth=%{x}\\u003cbr\\u003ePercentage (%)=%{y:.2f}\\u003cbr\\u003ecount=%{customdata[0]:,}\\u003cextra\\u003e\\u003c\\u002fextra\\u003e\",\"legendgroup\":\"Larceny Theft\",\"marker\":{\"color\":\"#1F77B4\",\"pattern\":{\"shape\":\"\"}},\"name\":\"Larceny Theft\",\"offsetgroup\":\"Larceny Theft\",\"orientation\":\"v\",\"showlegend\":true,\"textposition\":\"auto\",\"x\":[\"January\",\"February\",\"March\",\"April\",\"May\",\"June\",\"July\",\"August\",\"September\",\"October\",\"November\",\"December\"],\"xaxis\":\"x\",\"y\":[30.6140988372093,29.502026635784595,29.53795379537954,28.808158062460166,26.93248072221177,32.042034019057795,29.567387687188017,30.07895407080397,31.971075723106924,33.08414320126256,33.86725663716814,34.82276365555458],\"yaxis\":\"y\",\"type\":\"bar\"},{\"alignmentgroup\":\"True\",\"customdata\":[[804],[714],[852],[777],[758],[727],[863],[788],[886],[837],[740],[732]],\"hovertemplate\":\"Category=Other\\u003cbr\\u003eMonth=%{x}\\u003cbr\\u003ePercentage (%)=%{y:.2f}\\u003cbr\\u003ecount=%{customdata[0]:,}\\u003cextra\\u003e\\u003c\\u002fextra\\u003e\",\"legendgroup\":\"Other\",\"marker\":{\"color\":\"#FF7F0E\",\"pattern\":{\"shape\":\"\"}},\"name\":\"Other\",\"offsetgroup\":\"Other\",\"orientation\":\"v\",\"showlegend\":true,\"textposition\":\"auto\",\"x\":[\"January\",\"February\",\"March\",\"April\",\"May\",\"June\",\"July\",\"August\",\"September\",\"October\",\"November\",\"December\"],\"xaxis\":\"x\",\"y\":[7.303779069767442,6.890561667631731,7.399687337154768,7.0745697896749515,7.128079744216663,6.4743075964021735,7.179700499168053,6.689871805756006,7.198570035749106,6.952404684774482,6.548672566371681,6.438560999208373],\"yaxis\":\"y\",\"type\":\"bar\"},{\"alignmentgroup\":\"True\",\"customdata\":[[762],[670],[811],[730],[689],[815],[850],[764],[818],[769],[713],[723]],\"hovertemplate\":\"Category=Malicious Mischief\\u003cbr\\u003eMonth=%{x}\\u003cbr\\u003ePercentage (%)=%{y:.2f}\\u003cbr\\u003ecount=%{customdata[0]:,}\\u003cextra\\u003e\\u003c\\u002fextra\\u003e\",\"legendgroup\":\"Malicious Mischief\",\"marker\":{\"color\":\"#2CA02C\",\"pattern\":{\"shape\":\"\"}},\"name\":\"Malicious Mischief\",\"offsetgroup\":\"Malicious Mischief\",\"orientation\":\"v\",\"showlegend\":true,\"textposition\":\"auto\",\"x\":[\"January\",\"February\",\"March\",\"April\",\"May\",\"June\",\"July\",\"August\",\"September\",\"October\",\"November\",\"December\"],\"xaxis\":\"x\",\"y\":[6.922238372093023,6.465933217525574,7.04359909675178,6.646635709733224,6.47921760391198,7.2579926974797395,7.071547420965059,6.48611936497156,6.646083847903802,6.3875737187474035,6.309734513274336,6.359398363972205],\"yaxis\":\"y\",\"type\":\"bar\"},{\"alignmentgroup\":\"True\",\"customdata\":[[676],[648],[782],[683],[694],[779],[756],[722],[827],[806],[660],[670]],\"hovertemplate\":\"Category=Assault\\u003cbr\\u003eMonth=%{x}\\u003cbr\\u003ePercentage (%)=%{y:.2f}\\u003cbr\\u003ecount=%{customdata[0]:,}\\u003cextra\\u003e\\u003c\\u002fextra\\u003e\",\"legendgroup\":\"Assault\",\"marker\":{\"color\":\"#D62728\",\"pattern\":{\"shape\":\"\"}},\"name\":\"Assault\",\"offsetgroup\":\"Assault\",\"orientation\":\"v\",\"showlegend\":true,\"textposition\":\"auto\",\"x\":[\"January\",\"February\",\"March\",\"April\",\"May\",\"June\",\"July\",\"August\",\"September\",\"October\",\"November\",\"December\"],\"xaxis\":\"x\",\"y\":[6.140988372093023,6.253618992472496,6.791731804759424,6.2187016297914965,6.526236599586232,6.937394247038917,6.289517470881864,6.129552593598778,6.719207019824504,6.69490821496802,5.84070796460177,5.893218400914768],\"yaxis\":\"y\",\"type\":\"bar\"},{\"alignmentgroup\":\"True\",\"customdata\":[[653],[657],[745],[757],[850],[635],[683],[703],[748],[752],[709],[699]],\"hovertemplate\":\"Category=Motor Vehicle Theft\\u003cbr\\u003eMonth=%{x}\\u003cbr\\u003ePercentage (%)=%{y:.2f}\\u003cbr\\u003ecount=%{customdata[0]:,}\\u003cextra\\u003e\\u003c\\u002fextra\\u003e\",\"legendgroup\":\"Motor Vehicle Theft\",\"marker\":{\"color\":\"#9467BD\",\"pattern\":{\"shape\":\"\"}},\"name\":\"Motor Vehicle Theft\",\"offsetgroup\":\"Motor Vehicle Theft\",\"orientation\":\"v\",\"showlegend\":true,\"textposition\":\"auto\",\"x\":[\"January\",\"February\",\"March\",\"April\",\"May\",\"June\",\"July\",\"August\",\"September\",\"October\",\"November\",\"December\"],\"xaxis\":\"x\",\"y\":[5.9320494186046515,6.340474811812391,6.470383880493312,6.89247018118911,7.993229264622907,5.6550004452756255,5.6821963394342765,5.968248577977757,6.077348066298343,6.246365977240634,6.274336283185841,6.148298003342422],\"yaxis\":\"y\",\"type\":\"bar\"},{\"alignmentgroup\":\"True\",\"customdata\":[[616],[552],[634],[599],[576],[601],[649],[671],[703],[641],[633],[573]],\"hovertemplate\":\"Category=Non-Criminal\\u003cbr\\u003eMonth=%{x}\\u003cbr\\u003ePercentage (%)=%{y:.2f}\\u003cbr\\u003ecount=%{customdata[0]:,}\\u003cextra\\u003e\\u003c\\u002fextra\\u003e\",\"legendgroup\":\"Non-Criminal\",\"marker\":{\"color\":\"#8C564B\",\"pattern\":{\"shape\":\"\"}},\"name\":\"Non-Criminal\",\"offsetgroup\":\"Non-Criminal\",\"orientation\":\"v\",\"showlegend\":true,\"textposition\":\"auto\",\"x\":[\"January\",\"February\",\"March\",\"April\",\"May\",\"June\",\"July\",\"August\",\"September\",\"October\",\"November\",\"December\"],\"xaxis\":\"x\",\"y\":[5.59593023255814,5.327156919513607,5.50634010769498,5.453883274150961,5.416588301673876,5.352213019859293,5.399334442595674,5.696578656931828,5.711732206694832,5.324362488578785,5.601769911504425,5.040021110036063],\"yaxis\":\"y\",\"type\":\"bar\"},{\"alignmentgroup\":\"True\",\"customdata\":[[606],[546],[570],[550],[534],[575],[633],[644],[617],[587],[538],[657]],\"hovertemplate\":\"Category=Burglary\\u003cbr\\u003eMonth=%{x}\\u003cbr\\u003ePercentage (%)=%{y:.2f}\\u003cbr\\u003ecount=%{customdata[0]:,}\\u003cextra\\u003e\\u003c\\u002fextra\\u003e\",\"legendgroup\":\"Burglary\",\"marker\":{\"color\":\"#E377C2\",\"pattern\":{\"shape\":\"\"}},\"name\":\"Burglary\",\"offsetgroup\":\"Burglary\",\"orientation\":\"v\",\"showlegend\":true,\"textposition\":\"auto\",\"x\":[\"January\",\"February\",\"March\",\"April\",\"May\",\"June\",\"July\",\"August\",\"September\",\"October\",\"November\",\"December\"],\"xaxis\":\"x\",\"y\":[5.505087209302325,5.269253039953677,4.9504950495049505,5.007739233360648,5.021628738010156,5.12066969454092,5.266222961730449,5.467357161049325,5.012999675008125,4.875820250851399,4.761061946902655,5.778872372240302],\"yaxis\":\"y\",\"type\":\"bar\"},{\"alignmentgroup\":\"True\",\"customdata\":[[460],[487],[496],[546],[594],[445],[500],[491],[515],[562],[549],[519]],\"hovertemplate\":\"Category=Recovered Vehicle\\u003cbr\\u003eMonth=%{x}\\u003cbr\\u003ePercentage (%)=%{y:.2f}\\u003cbr\\u003ecount=%{customdata[0]:,}\\u003cextra\\u003e\\u003c\\u002fextra\\u003e\",\"legendgroup\":\"Recovered Vehicle\",\"marker\":{\"color\":\"#7F7F7F\",\"pattern\":{\"shape\":\"\"}},\"name\":\"Recovered Vehicle\",\"offsetgroup\":\"Recovered Vehicle\",\"orientation\":\"v\",\"showlegend\":true,\"textposition\":\"auto\",\"x\":[\"January\",\"February\",\"March\",\"April\",\"May\",\"June\",\"July\",\"August\",\"September\",\"October\",\"November\",\"December\"],\"xaxis\":\"x\",\"y\":[4.178779069767442,4.699864890947693,4.307799200972729,4.97131931166348,5.585856686101185,3.9629530679490608,4.159733777038269,4.168435351048476,4.184270393240169,4.668161807459091,4.8584070796460175,4.565045298619052],\"yaxis\":\"y\",\"type\":\"bar\"},{\"alignmentgroup\":\"True\",\"customdata\":[[441],[365],[438],[543],[341],[479],[501],[423],[404],[389],[375],[393]],\"hovertemplate\":\"Category=Fraud\\u003cbr\\u003eMonth=%{x}\\u003cbr\\u003ePercentage (%)=%{y:.2f}\\u003cbr\\u003ecount=%{customdata[0]:,}\\u003cextra\\u003e\\u003c\\u002fextra\\u003e\",\"legendgroup\":\"Fraud\",\"marker\":{\"color\":\"#BCBD22\",\"pattern\":{\"shape\":\"\"}},\"name\":\"Fraud\",\"offsetgroup\":\"Fraud\",\"orientation\":\"v\",\"showlegend\":true,\"textposition\":\"auto\",\"x\":[\"January\",\"February\",\"March\",\"April\",\"May\",\"June\",\"July\",\"August\",\"September\",\"October\",\"November\",\"December\"],\"xaxis\":\"x\",\"y\":[4.006177325581396,3.5224860065624397,3.804064616988015,4.944004370390603,3.206695504984013,4.265740493365393,4.168053244592347,3.591136768825877,3.282417939551511,3.2311653791843176,3.3185840707964607,3.456768405312692],\"yaxis\":\"y\",\"type\":\"bar\"},{\"alignmentgroup\":\"True\",\"customdata\":[[331],[433],[365],[298],[352],[244],[533],[516],[320],[247],[325],[318]],\"hovertemplate\":\"Category=Drug Offense\\u003cbr\\u003eMonth=%{x}\\u003cbr\\u003ePercentage (%)=%{y:.2f}\\u003cbr\\u003ecount=%{customdata[0]:,}\\u003cextra\\u003e\\u003c\\u002fextra\\u003e\",\"legendgroup\":\"Drug Offense\",\"marker\":{\"color\":\"#17BECF\",\"pattern\":{\"shape\":\"\"}},\"name\":\"Drug Offense\",\"offsetgroup\":\"Drug Offense\",\"orientation\":\"v\",\"showlegend\":true,\"textposition\":\"auto\",\"x\":[\"January\",\"February\",\"March\",\"April\",\"May\",\"June\",\"July\",\"August\",\"September\",\"October\",\"November\",\"December\"],\"xaxis\":\"x\",\"y\":[3.006904069767442,4.178729974908319,3.1700538474900117,2.7132841664390424,3.310137295467369,2.1729450529877994,4.434276206322795,4.380677476865609,2.599935001624959,2.0516654207160063,2.8761061946902653,2.7970797783446213],\"yaxis\":\"y\",\"type\":\"bar\"},{\"alignmentgroup\":\"True\",\"customdata\":[[274],[253],[265],[242],[277],[196],[291],[250],[273],[266],[241],[249]],\"hovertemplate\":\"Category=Warrant\\u003cbr\\u003eMonth=%{x}\\u003cbr\\u003ePercentage (%)=%{y:.2f}\\u003cbr\\u003ecount=%{customdata[0]:,}\\u003cextra\\u003e\\u003c\\u002fextra\\u003e\",\"legendgroup\":\"Warrant\",\"marker\":{\"color\":\"#1F77B4\",\"pattern\":{\"shape\":\"\"}},\"name\":\"Warrant\",\"offsetgroup\":\"Warrant\",\"orientation\":\"v\",\"showlegend\":true,\"textposition\":\"auto\",\"x\":[\"January\",\"February\",\"March\",\"April\",\"May\",\"June\",\"July\",\"August\",\"September\",\"October\",\"November\",\"December\"],\"xaxis\":\"x\",\"y\":[2.489098837209302,2.4416135881104037,2.301545944068091,2.2034052626786855,2.604852360353583,1.7454804524000358,2.420965058236273,2.1224212581713218,2.2180695482612935,2.2094858376941606,2.1327433628318584,2.190166241533996],\"yaxis\":\"y\",\"type\":\"bar\"},{\"alignmentgroup\":\"True\",\"customdata\":[[243],[249],[284],[287],[287],[359],[298],[352],[309],[312],[296],[291]],\"hovertemplate\":\"Category=Lost Property\\u003cbr\\u003eMonth=%{x}\\u003cbr\\u003ePercentage (%)=%{y:.2f}\\u003cbr\\u003ecount=%{customdata[0]:,}\\u003cextra\\u003e\\u003c\\u002fextra\\u003e\",\"legendgroup\":\"Lost Property\",\"marker\":{\"color\":\"#FF7F0E\",\"pattern\":{\"shape\":\"\"}},\"name\":\"Lost Property\",\"offsetgroup\":\"Lost Property\",\"orientation\":\"v\",\"showlegend\":true,\"textposition\":\"auto\",\"x\":[\"January\",\"February\",\"March\",\"April\",\"May\",\"June\",\"July\",\"August\",\"September\",\"October\",\"November\",\"December\"],\"xaxis\":\"x\",\"y\":[2.207485465116279,2.4030110017371165,2.466562445718256,2.613129381771829,2.6988903517020875,3.197078991895984,2.4792013311148087,2.988369131505221,2.5105622359441013,2.5915773735360084,2.6194690265486726,2.5595918726361155],\"yaxis\":\"y\",\"type\":\"bar\"},{\"alignmentgroup\":\"True\",\"customdata\":[[229],[284],[267],[211],[261],[271],[256],[229],[274],[254],[214],[187]],\"hovertemplate\":\"Category=Robbery\\u003cbr\\u003eMonth=%{x}\\u003cbr\\u003ePercentage (%)=%{y:.2f}\\u003cbr\\u003ecount=%{customdata[0]:,}\\u003cextra\\u003e\\u003c\\u002fextra\\u003e\",\"legendgroup\":\"Robbery\",\"marker\":{\"color\":\"#2CA02C\",\"pattern\":{\"shape\":\"\"}},\"name\":\"Robbery\",\"offsetgroup\":\"Robbery\",\"orientation\":\"v\",\"showlegend\":true,\"textposition\":\"auto\",\"x\":[\"January\",\"February\",\"March\",\"April\",\"May\",\"June\",\"July\",\"August\",\"September\",\"October\",\"November\",\"December\"],\"xaxis\":\"x\",\"y\":[2.0803052325581395,2.7407836325033776,2.3189161021365297,1.9211508695256305,2.454391574195975,2.413393890818417,2.129783693843594,1.9441378724849308,2.2261943451413715,2.1098097848658526,1.893805309734513,1.6448236432403907],\"yaxis\":\"y\",\"type\":\"bar\"},{\"alignmentgroup\":\"True\",\"customdata\":[[208],[213],[236],[202],[212],[195],[214],[251],[230],[264],[208],[212]],\"hovertemplate\":\"Category=Missing Person\\u003cbr\\u003eMonth=%{x}\\u003cbr\\u003ePercentage (%)=%{y:.2f}\\u003cbr\\u003ecount=%{customdata[0]:,}\\u003cextra\\u003e\\u003c\\u002fextra\\u003e\",\"legendgroup\":\"Missing Person\",\"marker\":{\"color\":\"#D62728\",\"pattern\":{\"shape\":\"\"}},\"name\":\"Missing Person\",\"offsetgroup\":\"Missing Person\",\"orientation\":\"v\",\"showlegend\":true,\"textposition\":\"auto\",\"x\":[\"January\",\"February\",\"March\",\"April\",\"May\",\"June\",\"July\",\"August\",\"September\",\"October\",\"November\",\"December\"],\"xaxis\":\"x\",\"y\":[1.88953488372093,2.055587724377533,2.049678652075734,1.8392060457070019,1.9936054165883017,1.7365749398877905,1.7803660565723793,2.130910943204007,1.8687032824179395,2.1928731622227757,1.8407079646017697,1.8647198522297477],\"yaxis\":\"y\",\"type\":\"bar\"},{\"alignmentgroup\":\"True\",\"customdata\":[[195],[179],[218],[214],[214],[227],[241],[262],[285],[234],[220],[209]],\"hovertemplate\":\"Category=Suspicious Occ\\u003cbr\\u003eMonth=%{x}\\u003cbr\\u003ePercentage (%)=%{y:.2f}\\u003cbr\\u003ecount=%{customdata[0]:,}\\u003cextra\\u003e\\u003c\\u002fextra\\u003e\",\"legendgroup\":\"Suspicious Occ\",\"marker\":{\"color\":\"#9467BD\",\"pattern\":{\"shape\":\"\"}},\"name\":\"Suspicious Occ\",\"offsetgroup\":\"Suspicious Occ\",\"orientation\":\"v\",\"showlegend\":true,\"textposition\":\"auto\",\"x\":[\"January\",\"February\",\"March\",\"April\",\"May\",\"June\",\"July\",\"August\",\"September\",\"October\",\"November\",\"December\"],\"xaxis\":\"x\",\"y\":[1.771438953488372,1.7274657402045936,1.893347229459788,1.9484658107985067,2.012413014858003,2.021551340279633,2.004991680532446,2.224297478563545,2.3155671108222293,1.943683030152006,1.9469026548672566,1.8383323071510245],\"yaxis\":\"y\",\"type\":\"bar\"},{\"alignmentgroup\":\"True\",\"customdata\":[[191],[141],[187],[166],[193],[193],[189],[189],[182],[197],[170],[146]],\"hovertemplate\":\"Category=Disorderly Conduct\\u003cbr\\u003eMonth=%{x}\\u003cbr\\u003ePercentage (%)=%{y:.2f}\\u003cbr\\u003ecount=%{customdata[0]:,}\\u003cextra\\u003e\\u003c\\u002fextra\\u003e\",\"legendgroup\":\"Disorderly Conduct\",\"marker\":{\"color\":\"#8C564B\",\"pattern\":{\"shape\":\"\"}},\"name\":\"Disorderly Conduct\",\"offsetgroup\":\"Disorderly Conduct\",\"orientation\":\"v\",\"showlegend\":true,\"textposition\":\"auto\",\"x\":[\"January\",\"February\",\"March\",\"April\",\"May\",\"June\",\"July\",\"August\",\"September\",\"October\",\"November\",\"December\"],\"xaxis\":\"x\",\"y\":[1.7351017441860466,1.3607411696583671,1.6241097793989925,1.5114267504324865,1.8149332330261427,1.7187639148633003,1.572379367720466,1.6045504711775194,1.4787130321741957,1.6363485339313897,1.5044247787610618,1.284193860497845],\"yaxis\":\"y\",\"type\":\"bar\"},{\"alignmentgroup\":\"True\",\"customdata\":[[155],[160],[152],[163],[150],[160],[140],[141],[141],[158],[132],[105]],\"hovertemplate\":\"Category=Miscellaneous Investigation\\u003cbr\\u003eMonth=%{x}\\u003cbr\\u003ePercentage (%)=%{y:.2f}\\u003cbr\\u003ecount=%{customdata[0]:,}\\u003cextra\\u003e\\u003c\\u002fextra\\u003e\",\"legendgroup\":\"Miscellaneous Investigation\",\"marker\":{\"color\":\"#E377C2\",\"pattern\":{\"shape\":\"\"}},\"name\":\"Miscellaneous Investigation\",\"offsetgroup\":\"Miscellaneous Investigation\",\"orientation\":\"v\",\"showlegend\":true,\"textposition\":\"auto\",\"x\":[\"January\",\"February\",\"March\",\"April\",\"May\",\"June\",\"July\",\"August\",\"September\",\"October\",\"November\",\"December\"],\"xaxis\":\"x\",\"y\":[1.4080668604651163,1.5441034549314805,1.3201320132013201,1.4841118091596102,1.410569870227572,1.4248820019592128,1.1647254575707155,1.1970455896086256,1.1455963600909977,1.3124013622393886,1.168141592920354,0.9235640777552996],\"yaxis\":\"y\",\"type\":\"bar\"},{\"alignmentgroup\":\"True\",\"customdata\":[[131],[85],[129],[94],[103],[76],[113],[101],[92],[94],[76],[105]],\"hovertemplate\":\"Category=Other Offenses\\u003cbr\\u003eMonth=%{x}\\u003cbr\\u003ePercentage (%)=%{y:.2f}\\u003cbr\\u003ecount=%{customdata[0]:,}\\u003cextra\\u003e\\u003c\\u002fextra\\u003e\",\"legendgroup\":\"Other Offenses\",\"marker\":{\"color\":\"#7F7F7F\",\"pattern\":{\"shape\":\"\"}},\"name\":\"Other Offenses\",\"offsetgroup\":\"Other Offenses\",\"orientation\":\"v\",\"showlegend\":true,\"textposition\":\"auto\",\"x\":[\"January\",\"February\",\"March\",\"April\",\"May\",\"June\",\"July\",\"August\",\"September\",\"October\",\"November\",\"December\"],\"xaxis\":\"x\",\"y\":[1.1900436046511629,0.8203049604323489,1.1203751954142784,0.8558681598834562,0.9685913108895994,0.676818950930626,0.9400998336106489,0.857458188301214,0.7474813129671758,0.7807957471550793,0.6725663716814159,0.9235640777552996],\"yaxis\":\"y\",\"type\":\"bar\"},{\"alignmentgroup\":\"True\",\"customdata\":[[116],[119],[105],[124],[121],[154],[179],[197],[154],[135],[135],[134]],\"hovertemplate\":\"Category=Offences Against The Family And Children\\u003cbr\\u003eMonth=%{x}\\u003cbr\\u003ePercentage (%)=%{y:.2f}\\u003cbr\\u003ecount=%{customdata[0]:,}\\u003cextra\\u003e\\u003c\\u002fextra\\u003e\",\"legendgroup\":\"Offences Against The Family And Children\",\"marker\":{\"color\":\"#BCBD22\",\"pattern\":{\"shape\":\"\"}},\"name\":\"Offences Against The Family And Children\",\"offsetgroup\":\"Offences Against The Family And Children\",\"orientation\":\"v\",\"showlegend\":true,\"textposition\":\"auto\",\"x\":[\"January\",\"February\",\"March\",\"April\",\"May\",\"June\",\"July\",\"August\",\"September\",\"October\",\"November\",\"December\"],\"xaxis\":\"x\",\"y\":[1.0537790697674418,1.1484269446052886,0.9119332985930172,1.129017572612219,1.137859695316908,1.3714489268857422,1.4891846921797005,1.6724679514390015,1.2512187195320117,1.121355594318465,1.1946902654867257,1.1786436801829536],\"yaxis\":\"y\",\"type\":\"bar\"},{\"alignmentgroup\":\"True\",\"customdata\":[[87],[87],[84],[86],[85],[96],[82],[95],[111],[104],[77],[77]],\"hovertemplate\":\"Category=Weapons Offense\\u003cbr\\u003eMonth=%{x}\\u003cbr\\u003ePercentage (%)=%{y:.2f}\\u003cbr\\u003ecount=%{customdata[0]:,}\\u003cextra\\u003e\\u003c\\u002fextra\\u003e\",\"legendgroup\":\"Weapons Offense\",\"marker\":{\"color\":\"#17BECF\",\"pattern\":{\"shape\":\"\"}},\"name\":\"Weapons Offense\",\"offsetgroup\":\"Weapons Offense\",\"orientation\":\"v\",\"showlegend\":true,\"textposition\":\"auto\",\"x\":[\"January\",\"February\",\"March\",\"April\",\"May\",\"June\",\"July\",\"August\",\"September\",\"October\",\"November\",\"December\"],\"xaxis\":\"x\",\"y\":[0.7903343023255814,0.8396062536189925,0.7295466388744137,0.7830283164891195,0.7993229264622908,0.8549292011755277,0.6821963394342762,0.8065200781051022,0.9018524536886579,0.8638591245120026,0.6814159292035399,0.6772803236872196],\"yaxis\":\"y\",\"type\":\"bar\"},{\"alignmentgroup\":\"True\",\"customdata\":[[83],[76],[96],[121],[96],[36],[73],[50],[67],[61],[67],[49]],\"hovertemplate\":\"Category=Traffic Violation Arrest\\u003cbr\\u003eMonth=%{x}\\u003cbr\\u003ePercentage (%)=%{y:.2f}\\u003cbr\\u003ecount=%{customdata[0]:,}\\u003cextra\\u003e\\u003c\\u002fextra\\u003e\",\"legendgroup\":\"Traffic Violation Arrest\",\"marker\":{\"color\":\"#1F77B4\",\"pattern\":{\"shape\":\"\"}},\"name\":\"Traffic Violation Arrest\",\"offsetgroup\":\"Traffic Violation Arrest\",\"orientation\":\"v\",\"showlegend\":true,\"textposition\":\"auto\",\"x\":[\"January\",\"February\",\"March\",\"April\",\"May\",\"June\",\"July\",\"August\",\"September\",\"October\",\"November\",\"December\"],\"xaxis\":\"x\",\"y\":[0.7539970930232559,0.7334491410924532,0.8337675872850442,1.1017026313393428,0.9027647169456461,0.32059845044082286,0.6073211314475874,0.42448425163426434,0.5443613909652258,0.5066866018772324,0.5929203539823008,0.4309965696191398],\"yaxis\":\"y\",\"type\":\"bar\"},{\"alignmentgroup\":\"True\",\"customdata\":[[65],[69],[58],[58],[64],[68],[90],[56],[69],[61],[71],[50]],\"hovertemplate\":\"Category=Weapons Carrying Etc\\u003cbr\\u003eMonth=%{x}\\u003cbr\\u003ePercentage (%)=%{y:.2f}\\u003cbr\\u003ecount=%{customdata[0]:,}\\u003cextra\\u003e\\u003c\\u002fextra\\u003e\",\"legendgroup\":\"Weapons Carrying Etc\",\"marker\":{\"color\":\"#FF7F0E\",\"pattern\":{\"shape\":\"\"}},\"name\":\"Weapons Carrying Etc\",\"offsetgroup\":\"Weapons Carrying Etc\",\"orientation\":\"v\",\"showlegend\":true,\"textposition\":\"auto\",\"x\":[\"January\",\"February\",\"March\",\"April\",\"May\",\"June\",\"July\",\"August\",\"September\",\"October\",\"November\",\"December\"],\"xaxis\":\"x\",\"y\":[0.5904796511627907,0.6658946149392009,0.5037345839847143,0.5280888646089411,0.6018431446304308,0.6055748508326654,0.7487520798668885,0.47542236183037606,0.5606109847253818,0.5066866018772324,0.6283185840707964,0.439792417978714],\"yaxis\":\"y\",\"type\":\"bar\"},{\"alignmentgroup\":\"True\",\"customdata\":[[41],[19],[30],[48],[33],[33],[35],[46],[23],[41],[20],[28]],\"hovertemplate\":\"Category=Vandalism\\u003cbr\\u003eMonth=%{x}\\u003cbr\\u003ePercentage (%)=%{y:.2f}\\u003cbr\\u003ecount=%{customdata[0]:,}\\u003cextra\\u003e\\u003c\\u002fextra\\u003e\",\"legendgroup\":\"Vandalism\",\"marker\":{\"color\":\"#2CA02C\",\"pattern\":{\"shape\":\"\"}},\"name\":\"Vandalism\",\"offsetgroup\":\"Vandalism\",\"orientation\":\"v\",\"showlegend\":true,\"textposition\":\"auto\",\"x\":[\"January\",\"February\",\"March\",\"April\",\"May\",\"June\",\"July\",\"August\",\"September\",\"October\",\"November\",\"December\"],\"xaxis\":\"x\",\"y\":[0.37245639534883723,0.1833622852731133,0.26055237102657636,0.4370390603660202,0.31032537145006583,0.2938819129040876,0.2911813643926789,0.3905255115035232,0.18687032824179395,0.34055984716338566,0.17699115044247787,0.24628375406807987],\"yaxis\":\"y\",\"type\":\"bar\"},{\"alignmentgroup\":\"True\",\"customdata\":[[38],[32],[41],[45],[27],[31],[33],[33],[26],[31],[39],[32]],\"hovertemplate\":\"Category=Case Closure\\u003cbr\\u003eMonth=%{x}\\u003cbr\\u003ePercentage (%)=%{y:.2f}\\u003cbr\\u003ecount=%{customdata[0]:,}\\u003cextra\\u003e\\u003c\\u002fextra\\u003e\",\"legendgroup\":\"Case Closure\",\"marker\":{\"color\":\"#D62728\",\"pattern\":{\"shape\":\"\"}},\"name\":\"Case Closure\",\"offsetgroup\":\"Case Closure\",\"orientation\":\"v\",\"showlegend\":true,\"textposition\":\"auto\",\"x\":[\"January\",\"February\",\"March\",\"April\",\"May\",\"June\",\"July\",\"August\",\"September\",\"October\",\"November\",\"December\"],\"xaxis\":\"x\",\"y\":[0.345203488372093,0.30882069098629605,0.3560882404029877,0.409724119093144,0.25390257664096294,0.27607088787959744,0.27454242928452577,0.28015960607861445,0.21124471888202798,0.25749646980646235,0.3451327433628319,0.28146714750637697],\"yaxis\":\"y\",\"type\":\"bar\"},{\"alignmentgroup\":\"True\",\"customdata\":[[32],[39],[28],[25],[28],[33],[32],[36],[39],[30],[33],[26]],\"hovertemplate\":\"Category=Arson\\u003cbr\\u003eMonth=%{x}\\u003cbr\\u003ePercentage (%)=%{y:.2f}\\u003cbr\\u003ecount=%{customdata[0]:,}\\u003cextra\\u003e\\u003c\\u002fextra\\u003e\",\"legendgroup\":\"Arson\",\"marker\":{\"color\":\"#9467BD\",\"pattern\":{\"shape\":\"\"}},\"name\":\"Arson\",\"offsetgroup\":\"Arson\",\"orientation\":\"v\",\"showlegend\":true,\"textposition\":\"auto\",\"x\":[\"January\",\"February\",\"March\",\"April\",\"May\",\"June\",\"July\",\"August\",\"September\",\"October\",\"November\",\"December\"],\"xaxis\":\"x\",\"y\":[0.29069767441860467,0.37637521713954836,0.2431822129581379,0.2276245106073022,0.2633063757758134,0.2938819129040876,0.26622296173044924,0.3056286611766703,0.3168670783230419,0.24919013207076998,0.2920353982300885,0.22869205734893128],\"yaxis\":\"y\",\"type\":\"bar\"},{\"alignmentgroup\":\"True\",\"customdata\":[[32],[47],[43],[43],[60],[47],[49],[47],[70],[49],[55],[55]],\"hovertemplate\":\"Category=Stolen Property\\u003cbr\\u003eMonth=%{x}\\u003cbr\\u003ePercentage (%)=%{y:.2f}\\u003cbr\\u003ecount=%{customdata[0]:,}\\u003cextra\\u003e\\u003c\\u002fextra\\u003e\",\"legendgroup\":\"Stolen Property\",\"marker\":{\"color\":\"#8C564B\",\"pattern\":{\"shape\":\"\"}},\"name\":\"Stolen Property\",\"offsetgroup\":\"Stolen Property\",\"orientation\":\"v\",\"showlegend\":true,\"textposition\":\"auto\",\"x\":[\"January\",\"February\",\"March\",\"April\",\"May\",\"June\",\"July\",\"August\",\"September\",\"October\",\"November\",\"December\"],\"xaxis\":\"x\",\"y\":[0.29069767441860467,0.45358038988612237,0.3734583984714261,0.39151415824455976,0.5642279480910287,0.4185590880755188,0.40765391014975044,0.39901519653620854,0.5687357816054599,0.4070105490489243,0.48672566371681414,0.4837716597765855],\"yaxis\":\"y\",\"type\":\"bar\"},{\"alignmentgroup\":\"True\",\"customdata\":[[32],[29],[29],[38],[27],[18],[32],[29],[33],[28],[41],[35]],\"hovertemplate\":\"Category=Traffic Collision\\u003cbr\\u003eMonth=%{x}\\u003cbr\\u003ePercentage (%)=%{y:.2f}\\u003cbr\\u003ecount=%{customdata[0]:,}\\u003cextra\\u003e\\u003c\\u002fextra\\u003e\",\"legendgroup\":\"Traffic Collision\",\"marker\":{\"color\":\"#E377C2\",\"pattern\":{\"shape\":\"\"}},\"name\":\"Traffic Collision\",\"offsetgroup\":\"Traffic Collision\",\"orientation\":\"v\",\"showlegend\":true,\"textposition\":\"auto\",\"x\":[\"January\",\"February\",\"March\",\"April\",\"May\",\"June\",\"July\",\"August\",\"September\",\"October\",\"November\",\"December\"],\"xaxis\":\"x\",\"y\":[0.29069767441860467,0.2798687512063308,0.25186729199235713,0.34598925612309933,0.25390257664096294,0.16029922522041143,0.26622296173044924,0.24620086594787333,0.2681182970425739,0.23257745659938533,0.36283185840707965,0.30785469258509984],\"yaxis\":\"y\",\"type\":\"bar\"},{\"alignmentgroup\":\"True\",\"customdata\":[[28],[18],[30],[47],[37],[49],[40],[52],[44],[33],[27],[34]],\"hovertemplate\":\"Category=Courtesy Report\\u003cbr\\u003eMonth=%{x}\\u003cbr\\u003ePercentage (%)=%{y:.2f}\\u003cbr\\u003ecount=%{customdata[0]:,}\\u003cextra\\u003e\\u003c\\u002fextra\\u003e\",\"legendgroup\":\"Courtesy Report\",\"marker\":{\"color\":\"#7F7F7F\",\"pattern\":{\"shape\":\"\"}},\"name\":\"Courtesy Report\",\"offsetgroup\":\"Courtesy Report\",\"orientation\":\"v\",\"showlegend\":true,\"textposition\":\"auto\",\"x\":[\"January\",\"February\",\"March\",\"April\",\"May\",\"June\",\"July\",\"August\",\"September\",\"October\",\"November\",\"December\"],\"xaxis\":\"x\",\"y\":[0.2543604651162791,0.17371163867979156,0.26055237102657636,0.4279340799417281,0.34794056798946776,0.43637011310000895,0.33277870216306155,0.44146362169963493,0.35749106272343195,0.27410914527784697,0.23893805309734514,0.29905884422552553],\"yaxis\":\"y\",\"type\":\"bar\"},{\"alignmentgroup\":\"True\",\"customdata\":[[27],[27],[41],[45],[29],[26],[29],[24],[26],[42],[30],[21]],\"hovertemplate\":\"Category=Forgery And Counterfeiting\\u003cbr\\u003eMonth=%{x}\\u003cbr\\u003ePercentage (%)=%{y:.2f}\\u003cbr\\u003ecount=%{customdata[0]:,}\\u003cextra\\u003e\\u003c\\u002fextra\\u003e\",\"legendgroup\":\"Forgery And Counterfeiting\",\"marker\":{\"color\":\"#BCBD22\",\"pattern\":{\"shape\":\"\"}},\"name\":\"Forgery And Counterfeiting\",\"offsetgroup\":\"Forgery And Counterfeiting\",\"orientation\":\"v\",\"showlegend\":true,\"textposition\":\"auto\",\"x\":[\"January\",\"February\",\"March\",\"April\",\"May\",\"June\",\"July\",\"August\",\"September\",\"October\",\"November\",\"December\"],\"xaxis\":\"x\",\"y\":[0.24527616279069767,0.26056745801968734,0.3560882404029877,0.409724119093144,0.2727101749106639,0.2315433253183721,0.24126455906821964,0.20375244078444688,0.21124471888202798,0.348866184899078,0.2654867256637168,0.1847128155510599],\"yaxis\":\"y\",\"type\":\"bar\"},{\"alignmentgroup\":\"True\",\"customdata\":[[16],[25],[24],[23],[16],[23],[23],[18],[15],[13],[29],[22]],\"hovertemplate\":\"Category=Fire Report\\u003cbr\\u003eMonth=%{x}\\u003cbr\\u003ePercentage (%)=%{y:.2f}\\u003cbr\\u003ecount=%{customdata[0]:,}\\u003cextra\\u003e\\u003c\\u002fextra\\u003e\",\"legendgroup\":\"Fire Report\",\"marker\":{\"color\":\"#17BECF\",\"pattern\":{\"shape\":\"\"}},\"name\":\"Fire Report\",\"offsetgroup\":\"Fire Report\",\"orientation\":\"v\",\"showlegend\":true,\"textposition\":\"auto\",\"x\":[\"January\",\"February\",\"March\",\"April\",\"May\",\"June\",\"July\",\"August\",\"September\",\"October\",\"November\",\"December\"],\"xaxis\":\"x\",\"y\":[0.14534883720930233,0.24126616483304383,0.20844189682126105,0.209414549758718,0.1504607861576077,0.20482678778163685,0.1913477537437604,0.15281433058833516,0.12187195320116997,0.10798239056400033,0.25663716814159293,0.19350866391063418],\"yaxis\":\"y\",\"type\":\"bar\"},{\"alignmentgroup\":\"True\",\"customdata\":[[15],[13],[12],[5],[10],[4],[15],[14],[10],[12],[11],[19]],\"hovertemplate\":\"Category=Embezzlement\\u003cbr\\u003eMonth=%{x}\\u003cbr\\u003ePercentage (%)=%{y:.2f}\\u003cbr\\u003ecount=%{customdata[0]:,}\\u003cextra\\u003e\\u003c\\u002fextra\\u003e\",\"legendgroup\":\"Embezzlement\",\"marker\":{\"color\":\"#1F77B4\",\"pattern\":{\"shape\":\"\"}},\"name\":\"Embezzlement\",\"offsetgroup\":\"Embezzlement\",\"orientation\":\"v\",\"showlegend\":true,\"textposition\":\"auto\",\"x\":[\"January\",\"February\",\"March\",\"April\",\"May\",\"June\",\"July\",\"August\",\"September\",\"October\",\"November\",\"December\"],\"xaxis\":\"x\",\"y\":[0.13626453488372092,0.12545840571318279,0.10422094841063052,0.04552490212146044,0.0940379913485048,0.035622050048980315,0.12479201331114809,0.11885559045759402,0.08124796880077997,0.099676052828308,0.09734513274336283,0.16712111883191136],\"yaxis\":\"y\",\"type\":\"bar\"},{\"alignmentgroup\":\"True\",\"customdata\":[[10],[11],[5],[7],[3],[5],[5],[5],[7],[5],[5],[11]],\"hovertemplate\":\"Category=Suicide\\u003cbr\\u003eMonth=%{x}\\u003cbr\\u003ePercentage (%)=%{y:.2f}\\u003cbr\\u003ecount=%{customdata[0]:,}\\u003cextra\\u003e\\u003c\\u002fextra\\u003e\",\"legendgroup\":\"Suicide\",\"marker\":{\"color\":\"#FF7F0E\",\"pattern\":{\"shape\":\"\"}},\"name\":\"Suicide\",\"offsetgroup\":\"Suicide\",\"orientation\":\"v\",\"showlegend\":true,\"textposition\":\"auto\",\"x\":[\"January\",\"February\",\"March\",\"April\",\"May\",\"June\",\"July\",\"August\",\"September\",\"October\",\"November\",\"December\"],\"xaxis\":\"x\",\"y\":[0.09084302325581395,0.10615711252653928,0.04342539517109606,0.06373486297004462,0.02821139740455144,0.0445275625612254,0.04159733777038269,0.04244842516342644,0.05687357816054598,0.041531688678461666,0.04424778761061947,0.09675433195531709],\"yaxis\":\"y\",\"type\":\"bar\"},{\"alignmentgroup\":\"True\",\"customdata\":[[8],[14],[10],[4],[1],[1],[3],[2],[1],[3]],\"hovertemplate\":\"Category=Prostitution\\u003cbr\\u003eMonth=%{x}\\u003cbr\\u003ePercentage (%)=%{y:.2f}\\u003cbr\\u003ecount=%{customdata[0]:,}\\u003cextra\\u003e\\u003c\\u002fextra\\u003e\",\"legendgroup\":\"Prostitution\",\"marker\":{\"color\":\"#2CA02C\",\"pattern\":{\"shape\":\"\"}},\"name\":\"Prostitution\",\"offsetgroup\":\"Prostitution\",\"orientation\":\"v\",\"showlegend\":true,\"textposition\":\"auto\",\"x\":[\"January\",\"February\",\"March\",\"April\",\"May\",\"August\",\"September\",\"October\",\"November\",\"December\"],\"xaxis\":\"x\",\"y\":[0.07267441860465117,0.13510905230650455,0.08685079034219212,0.03641992169716835,0.00940379913485048,0.008489685032685287,0.024374390640233994,0.016612675471384668,0.008849557522123894,0.02638754507872284],\"yaxis\":\"y\",\"type\":\"bar\"},{\"alignmentgroup\":\"True\",\"customdata\":[[8],[15],[10],[5],[18],[8],[9],[9],[16],[14],[9],[8]],\"hovertemplate\":\"Category=Sex Offense\\u003cbr\\u003eMonth=%{x}\\u003cbr\\u003ePercentage (%)=%{y:.2f}\\u003cbr\\u003ecount=%{customdata[0]:,}\\u003cextra\\u003e\\u003c\\u002fextra\\u003e\",\"legendgroup\":\"Sex Offense\",\"marker\":{\"color\":\"#D62728\",\"pattern\":{\"shape\":\"\"}},\"name\":\"Sex Offense\",\"offsetgroup\":\"Sex Offense\",\"orientation\":\"v\",\"showlegend\":true,\"textposition\":\"auto\",\"x\":[\"January\",\"February\",\"March\",\"April\",\"May\",\"June\",\"July\",\"August\",\"September\",\"October\",\"November\",\"December\"],\"xaxis\":\"x\",\"y\":[0.07267441860465117,0.1447596988998263,0.08685079034219212,0.04552490212146044,0.16926838442730863,0.07124410009796063,0.07487520798668885,0.07640716529416758,0.12999675008124797,0.11628872829969267,0.07964601769911504,0.07036678687659424],\"yaxis\":\"y\",\"type\":\"bar\"},{\"alignmentgroup\":\"True\",\"customdata\":[[7],[5],[5],[1],[1],[2],[5],[5],[2],[4]],\"hovertemplate\":\"Category=Homicide\\u003cbr\\u003eMonth=%{x}\\u003cbr\\u003ePercentage (%)=%{y:.2f}\\u003cbr\\u003ecount=%{customdata[0]:,}\\u003cextra\\u003e\\u003c\\u002fextra\\u003e\",\"legendgroup\":\"Homicide\",\"marker\":{\"color\":\"#9467BD\",\"pattern\":{\"shape\":\"\"}},\"name\":\"Homicide\",\"offsetgroup\":\"Homicide\",\"orientation\":\"v\",\"showlegend\":true,\"textposition\":\"auto\",\"x\":[\"January\",\"February\",\"May\",\"June\",\"July\",\"August\",\"September\",\"October\",\"November\",\"December\"],\"xaxis\":\"x\",\"y\":[0.06359011627906977,0.048253232966608765,0.0470189956742524,0.008905512512245079,0.008319467554076539,0.016979370065370574,0.04062398440038999,0.041531688678461666,0.017699115044247787,0.03518339343829712],\"yaxis\":\"y\",\"type\":\"bar\"},{\"alignmentgroup\":\"True\",\"customdata\":[[6],[7],[13],[12],[12],[5],[7],[6],[6],[5],[11],[3]],\"hovertemplate\":\"Category=Vehicle Impounded\\u003cbr\\u003eMonth=%{x}\\u003cbr\\u003ePercentage (%)=%{y:.2f}\\u003cbr\\u003ecount=%{customdata[0]:,}\\u003cextra\\u003e\\u003c\\u002fextra\\u003e\",\"legendgroup\":\"Vehicle Impounded\",\"marker\":{\"color\":\"#8C564B\",\"pattern\":{\"shape\":\"\"}},\"name\":\"Vehicle Impounded\",\"offsetgroup\":\"Vehicle Impounded\",\"orientation\":\"v\",\"showlegend\":true,\"textposition\":\"auto\",\"x\":[\"January\",\"February\",\"March\",\"April\",\"May\",\"June\",\"July\",\"August\",\"September\",\"October\",\"November\",\"December\"],\"xaxis\":\"x\",\"y\":[0.05450581395348837,0.06755452615325228,0.11290602744484975,0.10925976509150505,0.11284558961820576,0.0445275625612254,0.05823627287853577,0.05093811019611172,0.04874878128046799,0.041531688678461666,0.09734513274336283,0.02638754507872284],\"yaxis\":\"y\",\"type\":\"bar\"},{\"alignmentgroup\":\"True\",\"customdata\":[[6],[6],[7],[8],[3],[4],[3],[4],[5],[5],[5],[3]],\"hovertemplate\":\"Category=Vehicle Misplaced\\u003cbr\\u003eMonth=%{x}\\u003cbr\\u003ePercentage (%)=%{y:.2f}\\u003cbr\\u003ecount=%{customdata[0]:,}\\u003cextra\\u003e\\u003c\\u002fextra\\u003e\",\"legendgroup\":\"Vehicle Misplaced\",\"marker\":{\"color\":\"#E377C2\",\"pattern\":{\"shape\":\"\"}},\"name\":\"Vehicle Misplaced\",\"offsetgroup\":\"Vehicle Misplaced\",\"orientation\":\"v\",\"showlegend\":true,\"textposition\":\"auto\",\"x\":[\"January\",\"February\",\"March\",\"April\",\"May\",\"June\",\"July\",\"August\",\"September\",\"October\",\"November\",\"December\"],\"xaxis\":\"x\",\"y\":[0.05450581395348837,0.05790387955993051,0.06079555323953448,0.0728398433943367,0.02821139740455144,0.035622050048980315,0.02495840266222962,0.03395874013074115,0.04062398440038999,0.041531688678461666,0.04424778761061947,0.02638754507872284],\"yaxis\":\"y\",\"type\":\"bar\"},{\"alignmentgroup\":\"True\",\"customdata\":[[2],[5],[9],[5],[1],[4],[10],[3],[8],[6],[3],[2]],\"hovertemplate\":\"Category=Drug Violation\\u003cbr\\u003eMonth=%{x}\\u003cbr\\u003ePercentage (%)=%{y:.2f}\\u003cbr\\u003ecount=%{customdata[0]:,}\\u003cextra\\u003e\\u003c\\u002fextra\\u003e\",\"legendgroup\":\"Drug Violation\",\"marker\":{\"color\":\"#7F7F7F\",\"pattern\":{\"shape\":\"\"}},\"name\":\"Drug Violation\",\"offsetgroup\":\"Drug Violation\",\"orientation\":\"v\",\"showlegend\":true,\"textposition\":\"auto\",\"x\":[\"January\",\"February\",\"March\",\"April\",\"May\",\"June\",\"July\",\"August\",\"September\",\"October\",\"November\",\"December\"],\"xaxis\":\"x\",\"y\":[0.018168604651162792,0.048253232966608765,0.0781657113079729,0.04552490212146044,0.00940379913485048,0.035622050048980315,0.08319467554076539,0.02546905509805586,0.06499837504062399,0.049838026414154,0.026548672566371685,0.01759169671914856],\"yaxis\":\"y\",\"type\":\"bar\"},{\"alignmentgroup\":\"True\",\"customdata\":[[2],[2],[1],[1],[4]],\"hovertemplate\":\"Category=Human Trafficking, Commercial Sex Acts\\u003cbr\\u003eMonth=%{x}\\u003cbr\\u003ePercentage (%)=%{y:.2f}\\u003cbr\\u003ecount=%{customdata[0]:,}\\u003cextra\\u003e\\u003c\\u002fextra\\u003e\",\"legendgroup\":\"Human Trafficking, Commercial Sex Acts\",\"marker\":{\"color\":\"#BCBD22\",\"pattern\":{\"shape\":\"\"}},\"name\":\"Human Trafficking, Commercial Sex Acts\",\"offsetgroup\":\"Human Trafficking, Commercial Sex Acts\",\"orientation\":\"v\",\"showlegend\":true,\"textposition\":\"auto\",\"x\":[\"January\",\"February\",\"April\",\"May\",\"August\"],\"xaxis\":\"x\",\"y\":[0.018168604651162792,0.019301293186643503,0.009104980424292088,0.00940379913485048,0.03395874013074115],\"yaxis\":\"y\",\"type\":\"bar\"},{\"alignmentgroup\":\"True\",\"customdata\":[[1],[3],[5],[6],[7],[5],[6],[6],[2]],\"hovertemplate\":\"Category=Liquor Laws\\u003cbr\\u003eMonth=%{x}\\u003cbr\\u003ePercentage (%)=%{y:.2f}\\u003cbr\\u003ecount=%{customdata[0]:,}\\u003cextra\\u003e\\u003c\\u002fextra\\u003e\",\"legendgroup\":\"Liquor Laws\",\"marker\":{\"color\":\"#17BECF\",\"pattern\":{\"shape\":\"\"}},\"name\":\"Liquor Laws\",\"offsetgroup\":\"Liquor Laws\",\"orientation\":\"v\",\"showlegend\":true,\"textposition\":\"auto\",\"x\":[\"January\",\"February\",\"April\",\"May\",\"June\",\"July\",\"August\",\"September\",\"October\"],\"xaxis\":\"x\",\"y\":[0.009084302325581396,0.028951939779965255,0.04552490212146044,0.05642279480910288,0.06233858758571555,0.04159733777038269,0.05093811019611172,0.04874878128046799,0.016612675471384668],\"yaxis\":\"y\",\"type\":\"bar\"},{\"alignmentgroup\":\"True\",\"customdata\":[[1],[1],[6],[2],[2],[2],[2],[1],[6],[1],[3],[3]],\"hovertemplate\":\"Category=Rape\\u003cbr\\u003eMonth=%{x}\\u003cbr\\u003ePercentage (%)=%{y:.2f}\\u003cbr\\u003ecount=%{customdata[0]:,}\\u003cextra\\u003e\\u003c\\u002fextra\\u003e\",\"legendgroup\":\"Rape\",\"marker\":{\"color\":\"#1F77B4\",\"pattern\":{\"shape\":\"\"}},\"name\":\"Rape\",\"offsetgroup\":\"Rape\",\"orientation\":\"v\",\"showlegend\":true,\"textposition\":\"auto\",\"x\":[\"January\",\"February\",\"March\",\"April\",\"May\",\"June\",\"July\",\"August\",\"September\",\"October\",\"November\",\"December\"],\"xaxis\":\"x\",\"y\":[0.009084302325581396,0.009650646593321752,0.05211047420531526,0.018209960848584176,0.01880759826970096,0.017811025024490158,0.016638935108153077,0.008489685032685287,0.04874878128046799,0.008306337735692334,0.026548672566371685,0.02638754507872284],\"yaxis\":\"y\",\"type\":\"bar\"},{\"alignmentgroup\":\"True\",\"customdata\":[[1],[2],[1],[3]],\"hovertemplate\":\"Category=Gambling\\u003cbr\\u003eMonth=%{x}\\u003cbr\\u003ePercentage (%)=%{y:.2f}\\u003cbr\\u003ecount=%{customdata[0]:,}\\u003cextra\\u003e\\u003c\\u002fextra\\u003e\",\"legendgroup\":\"Gambling\",\"marker\":{\"color\":\"#FF7F0E\",\"pattern\":{\"shape\":\"\"}},\"name\":\"Gambling\",\"offsetgroup\":\"Gambling\",\"orientation\":\"v\",\"showlegend\":true,\"textposition\":\"auto\",\"x\":[\"March\",\"July\",\"August\",\"December\"],\"xaxis\":\"x\",\"y\":[0.008685079034219213,0.016638935108153077,0.008489685032685287,0.02638754507872284],\"yaxis\":\"y\",\"type\":\"bar\"},{\"alignmentgroup\":\"True\",\"customdata\":[[2]],\"hovertemplate\":\"Category=Civil Sidewalks\\u003cbr\\u003eMonth=%{x}\\u003cbr\\u003ePercentage (%)=%{y:.2f}\\u003cbr\\u003ecount=%{customdata[0]:,}\\u003cextra\\u003e\\u003c\\u002fextra\\u003e\",\"legendgroup\":\"Civil Sidewalks\",\"marker\":{\"color\":\"#2CA02C\",\"pattern\":{\"shape\":\"\"}},\"name\":\"Civil Sidewalks\",\"offsetgroup\":\"Civil Sidewalks\",\"orientation\":\"v\",\"showlegend\":true,\"textposition\":\"auto\",\"x\":[\"October\"],\"xaxis\":\"x\",\"y\":[0.016612675471384668],\"yaxis\":\"y\",\"type\":\"bar\"}],                        {\"template\":{\"data\":{\"barpolar\":[{\"marker\":{\"line\":{\"color\":\"white\",\"width\":0.5},\"pattern\":{\"fillmode\":\"overlay\",\"size\":10,\"solidity\":0.2}},\"type\":\"barpolar\"}],\"bar\":[{\"error_x\":{\"color\":\"rgb(36,36,36)\"},\"error_y\":{\"color\":\"rgb(36,36,36)\"},\"marker\":{\"line\":{\"color\":\"white\",\"width\":0.5},\"pattern\":{\"fillmode\":\"overlay\",\"size\":10,\"solidity\":0.2}},\"type\":\"bar\"}],\"carpet\":[{\"aaxis\":{\"endlinecolor\":\"rgb(36,36,36)\",\"gridcolor\":\"white\",\"linecolor\":\"white\",\"minorgridcolor\":\"white\",\"startlinecolor\":\"rgb(36,36,36)\"},\"baxis\":{\"endlinecolor\":\"rgb(36,36,36)\",\"gridcolor\":\"white\",\"linecolor\":\"white\",\"minorgridcolor\":\"white\",\"startlinecolor\":\"rgb(36,36,36)\"},\"type\":\"carpet\"}],\"choropleth\":[{\"colorbar\":{\"outlinewidth\":1,\"tickcolor\":\"rgb(36,36,36)\",\"ticks\":\"outside\"},\"type\":\"choropleth\"}],\"contourcarpet\":[{\"colorbar\":{\"outlinewidth\":1,\"tickcolor\":\"rgb(36,36,36)\",\"ticks\":\"outside\"},\"type\":\"contourcarpet\"}],\"contour\":[{\"colorbar\":{\"outlinewidth\":1,\"tickcolor\":\"rgb(36,36,36)\",\"ticks\":\"outside\"},\"colorscale\":[[0.0,\"#440154\"],[0.1111111111111111,\"#482878\"],[0.2222222222222222,\"#3e4989\"],[0.3333333333333333,\"#31688e\"],[0.4444444444444444,\"#26828e\"],[0.5555555555555556,\"#1f9e89\"],[0.6666666666666666,\"#35b779\"],[0.7777777777777778,\"#6ece58\"],[0.8888888888888888,\"#b5de2b\"],[1.0,\"#fde725\"]],\"type\":\"contour\"}],\"heatmapgl\":[{\"colorbar\":{\"outlinewidth\":1,\"tickcolor\":\"rgb(36,36,36)\",\"ticks\":\"outside\"},\"colorscale\":[[0.0,\"#440154\"],[0.1111111111111111,\"#482878\"],[0.2222222222222222,\"#3e4989\"],[0.3333333333333333,\"#31688e\"],[0.4444444444444444,\"#26828e\"],[0.5555555555555556,\"#1f9e89\"],[0.6666666666666666,\"#35b779\"],[0.7777777777777778,\"#6ece58\"],[0.8888888888888888,\"#b5de2b\"],[1.0,\"#fde725\"]],\"type\":\"heatmapgl\"}],\"heatmap\":[{\"colorbar\":{\"outlinewidth\":1,\"tickcolor\":\"rgb(36,36,36)\",\"ticks\":\"outside\"},\"colorscale\":[[0.0,\"#440154\"],[0.1111111111111111,\"#482878\"],[0.2222222222222222,\"#3e4989\"],[0.3333333333333333,\"#31688e\"],[0.4444444444444444,\"#26828e\"],[0.5555555555555556,\"#1f9e89\"],[0.6666666666666666,\"#35b779\"],[0.7777777777777778,\"#6ece58\"],[0.8888888888888888,\"#b5de2b\"],[1.0,\"#fde725\"]],\"type\":\"heatmap\"}],\"histogram2dcontour\":[{\"colorbar\":{\"outlinewidth\":1,\"tickcolor\":\"rgb(36,36,36)\",\"ticks\":\"outside\"},\"colorscale\":[[0.0,\"#440154\"],[0.1111111111111111,\"#482878\"],[0.2222222222222222,\"#3e4989\"],[0.3333333333333333,\"#31688e\"],[0.4444444444444444,\"#26828e\"],[0.5555555555555556,\"#1f9e89\"],[0.6666666666666666,\"#35b779\"],[0.7777777777777778,\"#6ece58\"],[0.8888888888888888,\"#b5de2b\"],[1.0,\"#fde725\"]],\"type\":\"histogram2dcontour\"}],\"histogram2d\":[{\"colorbar\":{\"outlinewidth\":1,\"tickcolor\":\"rgb(36,36,36)\",\"ticks\":\"outside\"},\"colorscale\":[[0.0,\"#440154\"],[0.1111111111111111,\"#482878\"],[0.2222222222222222,\"#3e4989\"],[0.3333333333333333,\"#31688e\"],[0.4444444444444444,\"#26828e\"],[0.5555555555555556,\"#1f9e89\"],[0.6666666666666666,\"#35b779\"],[0.7777777777777778,\"#6ece58\"],[0.8888888888888888,\"#b5de2b\"],[1.0,\"#fde725\"]],\"type\":\"histogram2d\"}],\"histogram\":[{\"marker\":{\"line\":{\"color\":\"white\",\"width\":0.6}},\"type\":\"histogram\"}],\"mesh3d\":[{\"colorbar\":{\"outlinewidth\":1,\"tickcolor\":\"rgb(36,36,36)\",\"ticks\":\"outside\"},\"type\":\"mesh3d\"}],\"parcoords\":[{\"line\":{\"colorbar\":{\"outlinewidth\":1,\"tickcolor\":\"rgb(36,36,36)\",\"ticks\":\"outside\"}},\"type\":\"parcoords\"}],\"pie\":[{\"automargin\":true,\"type\":\"pie\"}],\"scatter3d\":[{\"line\":{\"colorbar\":{\"outlinewidth\":1,\"tickcolor\":\"rgb(36,36,36)\",\"ticks\":\"outside\"}},\"marker\":{\"colorbar\":{\"outlinewidth\":1,\"tickcolor\":\"rgb(36,36,36)\",\"ticks\":\"outside\"}},\"type\":\"scatter3d\"}],\"scattercarpet\":[{\"marker\":{\"colorbar\":{\"outlinewidth\":1,\"tickcolor\":\"rgb(36,36,36)\",\"ticks\":\"outside\"}},\"type\":\"scattercarpet\"}],\"scattergeo\":[{\"marker\":{\"colorbar\":{\"outlinewidth\":1,\"tickcolor\":\"rgb(36,36,36)\",\"ticks\":\"outside\"}},\"type\":\"scattergeo\"}],\"scattergl\":[{\"marker\":{\"colorbar\":{\"outlinewidth\":1,\"tickcolor\":\"rgb(36,36,36)\",\"ticks\":\"outside\"}},\"type\":\"scattergl\"}],\"scattermapbox\":[{\"marker\":{\"colorbar\":{\"outlinewidth\":1,\"tickcolor\":\"rgb(36,36,36)\",\"ticks\":\"outside\"}},\"type\":\"scattermapbox\"}],\"scatterpolargl\":[{\"marker\":{\"colorbar\":{\"outlinewidth\":1,\"tickcolor\":\"rgb(36,36,36)\",\"ticks\":\"outside\"}},\"type\":\"scatterpolargl\"}],\"scatterpolar\":[{\"marker\":{\"colorbar\":{\"outlinewidth\":1,\"tickcolor\":\"rgb(36,36,36)\",\"ticks\":\"outside\"}},\"type\":\"scatterpolar\"}],\"scatter\":[{\"fillpattern\":{\"fillmode\":\"overlay\",\"size\":10,\"solidity\":0.2},\"type\":\"scatter\"}],\"scatterternary\":[{\"marker\":{\"colorbar\":{\"outlinewidth\":1,\"tickcolor\":\"rgb(36,36,36)\",\"ticks\":\"outside\"}},\"type\":\"scatterternary\"}],\"surface\":[{\"colorbar\":{\"outlinewidth\":1,\"tickcolor\":\"rgb(36,36,36)\",\"ticks\":\"outside\"},\"colorscale\":[[0.0,\"#440154\"],[0.1111111111111111,\"#482878\"],[0.2222222222222222,\"#3e4989\"],[0.3333333333333333,\"#31688e\"],[0.4444444444444444,\"#26828e\"],[0.5555555555555556,\"#1f9e89\"],[0.6666666666666666,\"#35b779\"],[0.7777777777777778,\"#6ece58\"],[0.8888888888888888,\"#b5de2b\"],[1.0,\"#fde725\"]],\"type\":\"surface\"}],\"table\":[{\"cells\":{\"fill\":{\"color\":\"rgb(237,237,237)\"},\"line\":{\"color\":\"white\"}},\"header\":{\"fill\":{\"color\":\"rgb(217,217,217)\"},\"line\":{\"color\":\"white\"}},\"type\":\"table\"}]},\"layout\":{\"annotationdefaults\":{\"arrowhead\":0,\"arrowwidth\":1},\"autotypenumbers\":\"strict\",\"coloraxis\":{\"colorbar\":{\"outlinewidth\":1,\"tickcolor\":\"rgb(36,36,36)\",\"ticks\":\"outside\"}},\"colorscale\":{\"diverging\":[[0.0,\"rgb(103,0,31)\"],[0.1,\"rgb(178,24,43)\"],[0.2,\"rgb(214,96,77)\"],[0.3,\"rgb(244,165,130)\"],[0.4,\"rgb(253,219,199)\"],[0.5,\"rgb(247,247,247)\"],[0.6,\"rgb(209,229,240)\"],[0.7,\"rgb(146,197,222)\"],[0.8,\"rgb(67,147,195)\"],[0.9,\"rgb(33,102,172)\"],[1.0,\"rgb(5,48,97)\"]],\"sequential\":[[0.0,\"#440154\"],[0.1111111111111111,\"#482878\"],[0.2222222222222222,\"#3e4989\"],[0.3333333333333333,\"#31688e\"],[0.4444444444444444,\"#26828e\"],[0.5555555555555556,\"#1f9e89\"],[0.6666666666666666,\"#35b779\"],[0.7777777777777778,\"#6ece58\"],[0.8888888888888888,\"#b5de2b\"],[1.0,\"#fde725\"]],\"sequentialminus\":[[0.0,\"#440154\"],[0.1111111111111111,\"#482878\"],[0.2222222222222222,\"#3e4989\"],[0.3333333333333333,\"#31688e\"],[0.4444444444444444,\"#26828e\"],[0.5555555555555556,\"#1f9e89\"],[0.6666666666666666,\"#35b779\"],[0.7777777777777778,\"#6ece58\"],[0.8888888888888888,\"#b5de2b\"],[1.0,\"#fde725\"]]},\"colorway\":[\"#1F77B4\",\"#FF7F0E\",\"#2CA02C\",\"#D62728\",\"#9467BD\",\"#8C564B\",\"#E377C2\",\"#7F7F7F\",\"#BCBD22\",\"#17BECF\"],\"font\":{\"color\":\"rgb(36,36,36)\"},\"geo\":{\"bgcolor\":\"white\",\"lakecolor\":\"white\",\"landcolor\":\"white\",\"showlakes\":true,\"showland\":true,\"subunitcolor\":\"white\"},\"hoverlabel\":{\"align\":\"left\"},\"hovermode\":\"closest\",\"mapbox\":{\"style\":\"light\"},\"paper_bgcolor\":\"white\",\"plot_bgcolor\":\"white\",\"polar\":{\"angularaxis\":{\"gridcolor\":\"rgb(232,232,232)\",\"linecolor\":\"rgb(36,36,36)\",\"showgrid\":false,\"showline\":true,\"ticks\":\"outside\"},\"bgcolor\":\"white\",\"radialaxis\":{\"gridcolor\":\"rgb(232,232,232)\",\"linecolor\":\"rgb(36,36,36)\",\"showgrid\":false,\"showline\":true,\"ticks\":\"outside\"}},\"scene\":{\"xaxis\":{\"backgroundcolor\":\"white\",\"gridcolor\":\"rgb(232,232,232)\",\"gridwidth\":2,\"linecolor\":\"rgb(36,36,36)\",\"showbackground\":true,\"showgrid\":false,\"showline\":true,\"ticks\":\"outside\",\"zeroline\":false,\"zerolinecolor\":\"rgb(36,36,36)\"},\"yaxis\":{\"backgroundcolor\":\"white\",\"gridcolor\":\"rgb(232,232,232)\",\"gridwidth\":2,\"linecolor\":\"rgb(36,36,36)\",\"showbackground\":true,\"showgrid\":false,\"showline\":true,\"ticks\":\"outside\",\"zeroline\":false,\"zerolinecolor\":\"rgb(36,36,36)\"},\"zaxis\":{\"backgroundcolor\":\"white\",\"gridcolor\":\"rgb(232,232,232)\",\"gridwidth\":2,\"linecolor\":\"rgb(36,36,36)\",\"showbackground\":true,\"showgrid\":false,\"showline\":true,\"ticks\":\"outside\",\"zeroline\":false,\"zerolinecolor\":\"rgb(36,36,36)\"}},\"shapedefaults\":{\"fillcolor\":\"black\",\"line\":{\"width\":0},\"opacity\":0.3},\"ternary\":{\"aaxis\":{\"gridcolor\":\"rgb(232,232,232)\",\"linecolor\":\"rgb(36,36,36)\",\"showgrid\":false,\"showline\":true,\"ticks\":\"outside\"},\"baxis\":{\"gridcolor\":\"rgb(232,232,232)\",\"linecolor\":\"rgb(36,36,36)\",\"showgrid\":false,\"showline\":true,\"ticks\":\"outside\"},\"bgcolor\":\"white\",\"caxis\":{\"gridcolor\":\"rgb(232,232,232)\",\"linecolor\":\"rgb(36,36,36)\",\"showgrid\":false,\"showline\":true,\"ticks\":\"outside\"}},\"title\":{\"x\":0.05},\"xaxis\":{\"automargin\":true,\"gridcolor\":\"rgb(232,232,232)\",\"linecolor\":\"rgb(36,36,36)\",\"showgrid\":false,\"showline\":true,\"ticks\":\"outside\",\"title\":{\"standoff\":15},\"zeroline\":false,\"zerolinecolor\":\"rgb(36,36,36)\"},\"yaxis\":{\"automargin\":true,\"gridcolor\":\"rgb(232,232,232)\",\"linecolor\":\"rgb(36,36,36)\",\"showgrid\":false,\"showline\":true,\"ticks\":\"outside\",\"title\":{\"standoff\":15},\"zeroline\":false,\"zerolinecolor\":\"rgb(36,36,36)\"}}},\"xaxis\":{\"anchor\":\"y\",\"domain\":[0.0,1.0],\"title\":{\"text\":\"Month\"}},\"yaxis\":{\"anchor\":\"x\",\"domain\":[0.0,1.0],\"title\":{\"text\":\"Percentage (%)\"}},\"legend\":{\"title\":{\"text\":\"Category\"},\"tracegroupgap\":0},\"title\":{\"text\":\"Proportion of incidents by category and calendar month\"},\"barmode\":\"relative\",\"showlegend\":false},                        {\"responsive\": true}                    ).then(function(){\n",
       "                            \n",
       "var gd = document.getElementById('23431fbe-2229-4022-93fb-5a7ab2ebdadb');\n",
       "var x = new MutationObserver(function (mutations, observer) {{\n",
       "        var display = window.getComputedStyle(gd).display;\n",
       "        if (!display || display === 'none') {{\n",
       "            console.log([gd, 'removed!']);\n",
       "            Plotly.purge(gd);\n",
       "            observer.disconnect();\n",
       "        }}\n",
       "}});\n",
       "\n",
       "// Listen for the removal of the full notebook cells\n",
       "var notebookContainer = gd.closest('#notebook-container');\n",
       "if (notebookContainer) {{\n",
       "    x.observe(notebookContainer, {childList: true});\n",
       "}}\n",
       "\n",
       "// Listen for the clearing of the current output cell\n",
       "var outputEl = gd.closest('.output');\n",
       "if (outputEl) {{\n",
       "    x.observe(outputEl, {childList: true});\n",
       "}}\n",
       "\n",
       "                        })                };                });            </script>        </div>"
      ]
     },
     "metadata": {},
     "output_type": "display_data"
    }
   ],
   "source": [
    "fig = px.bar(plot_data, x='month', y='month_prop', color='category',\n",
    "             hover_data={'month_prop':':.2f',\n",
    "                         'count':':,'},\n",
    "             labels={'month':'Month', 'month_prop':'Percentage (%)', 'category':'Category'},\n",
    "             title='Proportion of incidents by category and calendar month',\n",
    "             template='simple_white')\n",
    "fig.update_layout(showlegend=False)\n",
    "fig"
   ]
  },
  {
   "cell_type": "code",
   "execution_count": null,
   "id": "9c543ef9-9bc9-4973-bac0-bc4b10fe10d5",
   "metadata": {},
   "outputs": [],
   "source": []
  },
  {
   "cell_type": "code",
   "execution_count": null,
   "id": "1d243494-105c-4958-b099-6b4ccf8a354b",
   "metadata": {},
   "outputs": [],
   "source": []
  }
 ],
 "metadata": {
  "kernelspec": {
   "display_name": "saturn (Python 3)",
   "language": "python",
   "name": "python3"
  },
  "language_info": {
   "codemirror_mode": {
    "name": "ipython",
    "version": 3
   },
   "file_extension": ".py",
   "mimetype": "text/x-python",
   "name": "python",
   "nbconvert_exporter": "python",
   "pygments_lexer": "ipython3",
   "version": "3.9.17"
  }
 },
 "nbformat": 4,
 "nbformat_minor": 5
}
