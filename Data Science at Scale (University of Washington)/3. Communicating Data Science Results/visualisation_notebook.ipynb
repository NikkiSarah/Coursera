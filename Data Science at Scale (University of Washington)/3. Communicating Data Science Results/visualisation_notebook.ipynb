{
 "cells": [
  {
   "cell_type": "markdown",
   "id": "bc2a0825-572d-4ef5-a781-32eca94e55ea",
   "metadata": {},
   "source": [
    "# **Crime Analytics - Visualising Incident Reports**\n",
    "\n",
    "In this notebook, we will be analysing the San Francisco criminal incident data as contained in the police department incident reports published on San Francisco's open data web portal: [https://data.sfgov.org](https://data.sfgov.org/Public-Safety/Police-Department-Incident-Reports-2018-to-Present/wg3w-h783). Note that whilst the original instructions were to use incident data from the summer of 2014, this is now 13 years ago so the underlying dataset has been updated to a full year of data from the summer of 2022.\n",
    "\n",
    "The raw data contained 136,677 rows of data across 35 columns:\n",
    "\n",
    "| Field Name | Data Type |\n",
    "| ----------- | --------- |\n",
    "| Incident Datetime | Object |\n",
    "| Incident Date | Object |\n",
    "| Incident Time | Object |\n",
    "| Incident Year | Integer |\n",
    "| Incident Day of Week | Object |\n",
    "| Report Datetime | Object |\n",
    "| Row ID | Float |\n",
    "| Incident ID | Integer |\n",
    "| Incident Number | Integer |\n",
    "| CAD Number | Object |\n",
    "| Report Type Code | Object |\n",
    "| Report Type Description | Object |\n",
    "| Filed Online | Object |\n",
    "| Incident Code | Integer |\n",
    "| Incident Category | Object |\n",
    "| Incident Subcategory | Object |\n",
    "| Incident Description | Object |\n",
    "| Resolution | Object |\n",
    "| Intersection | Object |\n",
    "| CNN | Float |\n",
    "| Police District | Object |\n",
    "| Analysis Neighborhood | Object |\n",
    "| Supervisor District | Float |\n",
    "| Supervisor District 2012 | Float |\n",
    "| Latitude | Float |\n",
    "| Longitude | Float |\n",
    "| Point | Object |\n",
    "| Neighborhoods | Float |\n",
    "| ESNCAG - Boundary File | Float |\n",
    "| Central Market/Tenderloin Boundary Polygon - Updated | Float |\n",
    "| Civic Center Harm Reduction Project Boundary | Float |\n",
    "| HSOC Zones as of 2018-06-05 | Float |\n",
    "| Invest In Neighborhoods (IIN) Areas | Float |\n",
    "| Current Supervisor Districts | Float |\n",
    "| Current Police Districts | Float |\n",
    "\n",
    "For field descriptions see the [Field Definitions](https://datasf.gitbook.io/datasf-dataset-explainers/sfpd-incident-report-2018-to-present#field-definitions)."
   ]
  },
  {
   "cell_type": "code",
   "execution_count": 1,
   "id": "31381fc7-d1f8-4681-b6dd-de4bb042acf4",
   "metadata": {
    "execution": {
     "iopub.execute_input": "2023-08-27T11:18:55.831735Z",
     "iopub.status.busy": "2023-08-27T11:18:55.831544Z",
     "iopub.status.idle": "2023-08-27T11:18:57.076577Z",
     "shell.execute_reply": "2023-08-27T11:18:57.075982Z",
     "shell.execute_reply.started": "2023-08-27T11:18:55.831715Z"
    },
    "tags": []
   },
   "outputs": [],
   "source": [
    "# import all necessary libraries\n",
    "import matplotlib.pyplot as plt\n",
    "import numpy as np\n",
    "import pandas as pd\n",
    "import plotly\n",
    "import plotly.express as px\n",
    "import seaborn as sns"
   ]
  },
  {
   "cell_type": "code",
   "execution_count": 2,
   "id": "04268d6a-4466-4dbf-ae6d-7ff2bd7b2c91",
   "metadata": {
    "execution": {
     "iopub.execute_input": "2023-08-27T11:18:57.078472Z",
     "iopub.status.busy": "2023-08-27T11:18:57.078106Z",
     "iopub.status.idle": "2023-08-27T11:18:57.197696Z",
     "shell.execute_reply": "2023-08-27T11:18:57.197099Z",
     "shell.execute_reply.started": "2023-08-27T11:18:57.078450Z"
    },
    "tags": []
   },
   "outputs": [],
   "source": [
    "import plotly.io as pio\n",
    "# pio.renderers\n",
    "pio.renderers.default = \"iframe\""
   ]
  },
  {
   "cell_type": "code",
   "execution_count": 3,
   "id": "5cb2b2a4-140b-4e1c-bd07-6372401feff1",
   "metadata": {
    "execution": {
     "iopub.execute_input": "2023-08-27T11:18:57.198714Z",
     "iopub.status.busy": "2023-08-27T11:18:57.198466Z",
     "iopub.status.idle": "2023-08-27T11:19:03.604440Z",
     "shell.execute_reply": "2023-08-27T11:19:03.603828Z",
     "shell.execute_reply.started": "2023-08-27T11:18:57.198693Z"
    },
    "tags": []
   },
   "outputs": [
    {
     "name": "stdout",
     "output_type": "stream",
     "text": [
      "<class 'pandas.core.frame.DataFrame'>\n",
      "RangeIndex: 136677 entries, 0 to 136676\n",
      "Data columns (total 19 columns):\n",
      " #   Column                 Non-Null Count   Dtype         \n",
      "---  ------                 --------------   -----         \n",
      " 0   incident_datetime      136677 non-null  datetime64[ns]\n",
      " 1   incident_date          136677 non-null  datetime64[ns]\n",
      " 2   incident_time          136677 non-null  object        \n",
      " 3   incident_year          136677 non-null  int64         \n",
      " 4   incident_day_of_week   136677 non-null  object        \n",
      " 5   incident_id            136677 non-null  int64         \n",
      " 6   incident_number        136677 non-null  int64         \n",
      " 7   incident_code          136677 non-null  int64         \n",
      " 8   incident_category      136545 non-null  object        \n",
      " 9   incident_subcategory   136545 non-null  object        \n",
      " 10  incident_description   136677 non-null  object        \n",
      " 11  resolution             136677 non-null  object        \n",
      " 12  police_district        136677 non-null  object        \n",
      " 13  analysis_neighborhood  128609 non-null  object        \n",
      " 14  supervisor_district    128560 non-null  float64       \n",
      " 15  latitude               128628 non-null  float64       \n",
      " 16  longitude              128628 non-null  float64       \n",
      " 17  point                  128628 non-null  object        \n",
      " 18  neighborhoods          126151 non-null  float64       \n",
      "dtypes: datetime64[ns](2), float64(4), int64(4), object(9)\n",
      "memory usage: 19.8+ MB\n"
     ]
    }
   ],
   "source": [
    "incidents = pd.read_csv('sf_incidents_2223.csv')\n",
    "# clean up the column names\n",
    "incidents.columns = incidents.columns.str.lower().str.replace(' ', '_')\n",
    "# select the 'useful' columns for the analysis\n",
    "useful_cols = [col for col in incidents if col.startswith('incident') or col in ['resolution', 'police_district', 'analysis_neighborhood', 'supervisor_district', 'neighborhoods',\n",
    "                                                                                 'latitude', 'longitude', 'point']]\n",
    "incidents = incidents.loc[:, useful_cols]\n",
    "# convert incident_datetime to a datetime column\n",
    "incidents['incident_datetime'] = pd.to_datetime(incidents.incident_datetime, infer_datetime_format = True)\n",
    "incidents['incident_date'] = pd.to_datetime(incidents.incident_date, infer_datetime_format = True)\n",
    "incidents.info()\n",
    "\n",
    "# add hour and month information\n",
    "incidents['incident_hour'] = incidents.incident_datetime.dt.hour\n",
    "incidents['incident_month_num'] = incidents.incident_datetime.dt.month\n",
    "incidents['incident_month'] = incidents.incident_datetime.dt.month_name()"
   ]
  },
  {
   "cell_type": "code",
   "execution_count": 4,
   "id": "e8f83f9c-d294-4419-aa0c-de811a9c791c",
   "metadata": {
    "execution": {
     "iopub.execute_input": "2023-08-27T11:19:03.605540Z",
     "iopub.status.busy": "2023-08-27T11:19:03.605248Z",
     "iopub.status.idle": "2023-08-27T11:19:03.619217Z",
     "shell.execute_reply": "2023-08-27T11:19:03.618700Z",
     "shell.execute_reply.started": "2023-08-27T11:19:03.605520Z"
    },
    "tags": []
   },
   "outputs": [
    {
     "data": {
      "text/html": [
       "<div>\n",
       "<style scoped>\n",
       "    .dataframe tbody tr th:only-of-type {\n",
       "        vertical-align: middle;\n",
       "    }\n",
       "\n",
       "    .dataframe tbody tr th {\n",
       "        vertical-align: top;\n",
       "    }\n",
       "\n",
       "    .dataframe thead th {\n",
       "        text-align: right;\n",
       "    }\n",
       "</style>\n",
       "<table border=\"1\" class=\"dataframe\">\n",
       "  <thead>\n",
       "    <tr style=\"text-align: right;\">\n",
       "      <th></th>\n",
       "      <th>incident_datetime</th>\n",
       "      <th>incident_date</th>\n",
       "      <th>incident_time</th>\n",
       "      <th>incident_year</th>\n",
       "      <th>incident_day_of_week</th>\n",
       "      <th>incident_id</th>\n",
       "      <th>incident_number</th>\n",
       "      <th>incident_code</th>\n",
       "      <th>incident_category</th>\n",
       "      <th>incident_subcategory</th>\n",
       "      <th>incident_description</th>\n",
       "      <th>resolution</th>\n",
       "    </tr>\n",
       "  </thead>\n",
       "  <tbody>\n",
       "    <tr>\n",
       "      <th>0</th>\n",
       "      <td>2023-05-31 23:49:00</td>\n",
       "      <td>2023-05-31</td>\n",
       "      <td>23:49</td>\n",
       "      <td>2023</td>\n",
       "      <td>Wednesday</td>\n",
       "      <td>1281250</td>\n",
       "      <td>230377142</td>\n",
       "      <td>19057</td>\n",
       "      <td>Disorderly Conduct</td>\n",
       "      <td>Intimidation</td>\n",
       "      <td>Terrorist Threats</td>\n",
       "      <td>Open or Active</td>\n",
       "    </tr>\n",
       "    <tr>\n",
       "      <th>1</th>\n",
       "      <td>2023-05-31 23:45:00</td>\n",
       "      <td>2023-05-31</td>\n",
       "      <td>23:45</td>\n",
       "      <td>2023</td>\n",
       "      <td>Wednesday</td>\n",
       "      <td>1281464</td>\n",
       "      <td>230377948</td>\n",
       "      <td>75000</td>\n",
       "      <td>Missing Person</td>\n",
       "      <td>Missing Person</td>\n",
       "      <td>Found Person</td>\n",
       "      <td>Open or Active</td>\n",
       "    </tr>\n",
       "    <tr>\n",
       "      <th>2</th>\n",
       "      <td>2023-05-31 23:45:00</td>\n",
       "      <td>2023-05-31</td>\n",
       "      <td>23:45</td>\n",
       "      <td>2023</td>\n",
       "      <td>Wednesday</td>\n",
       "      <td>1281464</td>\n",
       "      <td>230377948</td>\n",
       "      <td>74000</td>\n",
       "      <td>Missing Person</td>\n",
       "      <td>Missing Adult</td>\n",
       "      <td>Missing Adult</td>\n",
       "      <td>Open or Active</td>\n",
       "    </tr>\n",
       "    <tr>\n",
       "      <th>3</th>\n",
       "      <td>2023-05-31 23:44:00</td>\n",
       "      <td>2023-05-31</td>\n",
       "      <td>23:44</td>\n",
       "      <td>2023</td>\n",
       "      <td>Wednesday</td>\n",
       "      <td>1281275</td>\n",
       "      <td>230377136</td>\n",
       "      <td>16210</td>\n",
       "      <td>Drug Offense</td>\n",
       "      <td>Drug Violation</td>\n",
       "      <td>Opiates Offense</td>\n",
       "      <td>Cite or Arrest Adult</td>\n",
       "    </tr>\n",
       "    <tr>\n",
       "      <th>4</th>\n",
       "      <td>2023-05-31 23:44:00</td>\n",
       "      <td>2023-05-31</td>\n",
       "      <td>23:44</td>\n",
       "      <td>2023</td>\n",
       "      <td>Wednesday</td>\n",
       "      <td>1281275</td>\n",
       "      <td>230377136</td>\n",
       "      <td>62050</td>\n",
       "      <td>Warrant</td>\n",
       "      <td>Warrant</td>\n",
       "      <td>Warrant Arrest, Enroute To Outside Jurisdiction</td>\n",
       "      <td>Cite or Arrest Adult</td>\n",
       "    </tr>\n",
       "  </tbody>\n",
       "</table>\n",
       "</div>"
      ],
      "text/plain": [
       "    incident_datetime incident_date incident_time  incident_year  \\\n",
       "0 2023-05-31 23:49:00    2023-05-31         23:49           2023   \n",
       "1 2023-05-31 23:45:00    2023-05-31         23:45           2023   \n",
       "2 2023-05-31 23:45:00    2023-05-31         23:45           2023   \n",
       "3 2023-05-31 23:44:00    2023-05-31         23:44           2023   \n",
       "4 2023-05-31 23:44:00    2023-05-31         23:44           2023   \n",
       "\n",
       "  incident_day_of_week  incident_id  incident_number  incident_code  \\\n",
       "0            Wednesday      1281250        230377142          19057   \n",
       "1            Wednesday      1281464        230377948          75000   \n",
       "2            Wednesday      1281464        230377948          74000   \n",
       "3            Wednesday      1281275        230377136          16210   \n",
       "4            Wednesday      1281275        230377136          62050   \n",
       "\n",
       "    incident_category incident_subcategory  \\\n",
       "0  Disorderly Conduct         Intimidation   \n",
       "1      Missing Person       Missing Person   \n",
       "2      Missing Person        Missing Adult   \n",
       "3        Drug Offense       Drug Violation   \n",
       "4             Warrant              Warrant   \n",
       "\n",
       "                              incident_description            resolution  \n",
       "0                                Terrorist Threats        Open or Active  \n",
       "1                                     Found Person        Open or Active  \n",
       "2                                    Missing Adult        Open or Active  \n",
       "3                                  Opiates Offense  Cite or Arrest Adult  \n",
       "4  Warrant Arrest, Enroute To Outside Jurisdiction  Cite or Arrest Adult  "
      ]
     },
     "execution_count": 4,
     "metadata": {},
     "output_type": "execute_result"
    }
   ],
   "source": [
    "incidents.iloc[:5, :12]"
   ]
  },
  {
   "cell_type": "code",
   "execution_count": 5,
   "id": "559f7c19-aa30-4ae3-b545-2d682e0a7454",
   "metadata": {
    "execution": {
     "iopub.execute_input": "2023-08-27T11:19:03.620159Z",
     "iopub.status.busy": "2023-08-27T11:19:03.619962Z",
     "iopub.status.idle": "2023-08-27T11:19:03.630698Z",
     "shell.execute_reply": "2023-08-27T11:19:03.630193Z",
     "shell.execute_reply.started": "2023-08-27T11:19:03.620140Z"
    },
    "tags": []
   },
   "outputs": [
    {
     "data": {
      "text/html": [
       "<div>\n",
       "<style scoped>\n",
       "    .dataframe tbody tr th:only-of-type {\n",
       "        vertical-align: middle;\n",
       "    }\n",
       "\n",
       "    .dataframe tbody tr th {\n",
       "        vertical-align: top;\n",
       "    }\n",
       "\n",
       "    .dataframe thead th {\n",
       "        text-align: right;\n",
       "    }\n",
       "</style>\n",
       "<table border=\"1\" class=\"dataframe\">\n",
       "  <thead>\n",
       "    <tr style=\"text-align: right;\">\n",
       "      <th></th>\n",
       "      <th>police_district</th>\n",
       "      <th>analysis_neighborhood</th>\n",
       "      <th>supervisor_district</th>\n",
       "      <th>latitude</th>\n",
       "      <th>longitude</th>\n",
       "      <th>point</th>\n",
       "      <th>neighborhoods</th>\n",
       "      <th>incident_hour</th>\n",
       "      <th>incident_month_num</th>\n",
       "      <th>incident_month</th>\n",
       "    </tr>\n",
       "  </thead>\n",
       "  <tbody>\n",
       "    <tr>\n",
       "      <th>0</th>\n",
       "      <td>Tenderloin</td>\n",
       "      <td>Tenderloin</td>\n",
       "      <td>5.0</td>\n",
       "      <td>37.785790</td>\n",
       "      <td>-122.412970</td>\n",
       "      <td>POINT (-122.41296966814406 37.78578958358186)</td>\n",
       "      <td>20.0</td>\n",
       "      <td>23</td>\n",
       "      <td>5</td>\n",
       "      <td>May</td>\n",
       "    </tr>\n",
       "    <tr>\n",
       "      <th>1</th>\n",
       "      <td>Taraval</td>\n",
       "      <td>Lakeshore</td>\n",
       "      <td>7.0</td>\n",
       "      <td>37.719056</td>\n",
       "      <td>-122.481424</td>\n",
       "      <td>POINT (-122.48142396348878 37.71905643663192)</td>\n",
       "      <td>42.0</td>\n",
       "      <td>23</td>\n",
       "      <td>5</td>\n",
       "      <td>May</td>\n",
       "    </tr>\n",
       "    <tr>\n",
       "      <th>2</th>\n",
       "      <td>Taraval</td>\n",
       "      <td>Lakeshore</td>\n",
       "      <td>7.0</td>\n",
       "      <td>37.719056</td>\n",
       "      <td>-122.481424</td>\n",
       "      <td>POINT (-122.48142396348878 37.71905643663192)</td>\n",
       "      <td>42.0</td>\n",
       "      <td>23</td>\n",
       "      <td>5</td>\n",
       "      <td>May</td>\n",
       "    </tr>\n",
       "    <tr>\n",
       "      <th>3</th>\n",
       "      <td>Northern</td>\n",
       "      <td>Tenderloin</td>\n",
       "      <td>5.0</td>\n",
       "      <td>37.783101</td>\n",
       "      <td>-122.419182</td>\n",
       "      <td>POINT (-122.41918170505187 37.78310139923345)</td>\n",
       "      <td>20.0</td>\n",
       "      <td>23</td>\n",
       "      <td>5</td>\n",
       "      <td>May</td>\n",
       "    </tr>\n",
       "    <tr>\n",
       "      <th>4</th>\n",
       "      <td>Northern</td>\n",
       "      <td>Tenderloin</td>\n",
       "      <td>5.0</td>\n",
       "      <td>37.783101</td>\n",
       "      <td>-122.419182</td>\n",
       "      <td>POINT (-122.41918170505187 37.78310139923345)</td>\n",
       "      <td>20.0</td>\n",
       "      <td>23</td>\n",
       "      <td>5</td>\n",
       "      <td>May</td>\n",
       "    </tr>\n",
       "  </tbody>\n",
       "</table>\n",
       "</div>"
      ],
      "text/plain": [
       "  police_district analysis_neighborhood  supervisor_district   latitude  \\\n",
       "0      Tenderloin            Tenderloin                  5.0  37.785790   \n",
       "1         Taraval             Lakeshore                  7.0  37.719056   \n",
       "2         Taraval             Lakeshore                  7.0  37.719056   \n",
       "3        Northern            Tenderloin                  5.0  37.783101   \n",
       "4        Northern            Tenderloin                  5.0  37.783101   \n",
       "\n",
       "    longitude                                          point  neighborhoods  \\\n",
       "0 -122.412970  POINT (-122.41296966814406 37.78578958358186)           20.0   \n",
       "1 -122.481424  POINT (-122.48142396348878 37.71905643663192)           42.0   \n",
       "2 -122.481424  POINT (-122.48142396348878 37.71905643663192)           42.0   \n",
       "3 -122.419182  POINT (-122.41918170505187 37.78310139923345)           20.0   \n",
       "4 -122.419182  POINT (-122.41918170505187 37.78310139923345)           20.0   \n",
       "\n",
       "   incident_hour  incident_month_num incident_month  \n",
       "0             23                   5            May  \n",
       "1             23                   5            May  \n",
       "2             23                   5            May  \n",
       "3             23                   5            May  \n",
       "4             23                   5            May  "
      ]
     },
     "execution_count": 5,
     "metadata": {},
     "output_type": "execute_result"
    }
   ],
   "source": [
    "incidents.iloc[:5, 12:]"
   ]
  },
  {
   "cell_type": "markdown",
   "id": "f618c2d4-d659-4cff-bfd5-2a09fe878e74",
   "metadata": {
    "execution": {
     "iopub.execute_input": "2023-08-27T02:17:30.151034Z",
     "iopub.status.busy": "2023-08-27T02:17:30.150665Z",
     "iopub.status.idle": "2023-08-27T02:17:30.161833Z",
     "shell.execute_reply": "2023-08-27T02:17:30.161253Z",
     "shell.execute_reply.started": "2023-08-27T02:17:30.151010Z"
    },
    "tags": []
   },
   "source": [
    "There are multiple records for each unit incident id/number. The plot below clearly indicates that most incidents only have a single record attached to them, but about 10% (16,617) have up to 4 records. The documentation indicates that a single incident report can have one or more incident codes attached; for example if the police officer discovers narcotics whilst making an arrest (for a non-narcotics related issue), then both an arrest and narcotics incident code would be reported against the same report id. Unless otherwise specified, the analysis will be at the incident code, rather than report level."
   ]
  },
  {
   "cell_type": "code",
   "execution_count": 6,
   "id": "061f9581-5e83-4614-9341-8a0922b9c1a2",
   "metadata": {
    "execution": {
     "iopub.execute_input": "2023-08-27T11:19:03.631572Z",
     "iopub.status.busy": "2023-08-27T11:19:03.631358Z",
     "iopub.status.idle": "2023-08-27T11:19:03.864069Z",
     "shell.execute_reply": "2023-08-27T11:19:03.863479Z",
     "shell.execute_reply.started": "2023-08-27T11:19:03.631553Z"
    },
    "tags": []
   },
   "outputs": [
    {
     "data": {
      "text/html": [
       "<iframe\n",
       "    scrolling=\"no\"\n",
       "    width=\"720px\"\n",
       "    height=\"520\"\n",
       "    src=\"iframe_figures/figure_6.html\"\n",
       "    frameborder=\"0\"\n",
       "    allowfullscreen\n",
       "></iframe>\n"
      ]
     },
     "metadata": {},
     "output_type": "display_data"
    }
   ],
   "source": [
    "counts = pd.DataFrame(incidents.incident_id.value_counts()).reset_index()\n",
    "counts = counts.groupby(\"incident_id\").count().reset_index()\n",
    "counts['prop'] = counts['index'] / incidents.shape[0] * 100\n",
    "counts.columns = [\"id_count\", \"count\", \"prop\"]\n",
    "\n",
    "fig = px.bar(data_frame=counts, x=\"id_count\", y=\"prop\",\n",
    "             hover_data={'prop':':.2f',\n",
    "                         'count':':,'},\n",
    "             labels={'prop':'Percentage (%)', 'id_count':'Occurrence'},\n",
    "             title='Proportion of records by incident id occurrence',\n",
    "             template='simple_white')\n",
    "fig.update_layout(width=700, height=500) \n",
    "fig.show(renderer='iframe')"
   ]
  },
  {
   "cell_type": "code",
   "execution_count": 7,
   "id": "ac5d1979-fef1-49f6-b735-220ab4da0108",
   "metadata": {
    "execution": {
     "iopub.execute_input": "2023-08-27T11:19:03.866173Z",
     "iopub.status.busy": "2023-08-27T11:19:03.865896Z",
     "iopub.status.idle": "2023-08-27T11:19:03.909198Z",
     "shell.execute_reply": "2023-08-27T11:19:03.908551Z",
     "shell.execute_reply.started": "2023-08-27T11:19:03.866153Z"
    },
    "tags": []
   },
   "outputs": [],
   "source": [
    "# clean up the incident categories\n",
    "incidents['incident_category_new'] = np.where(incidents.incident_category == 'Other Miscellaneous', 'Other',\n",
    "                                     np.where(incidents.incident_category == 'Motor Vehicle Theft?', 'Motor Vehicle Theft',\n",
    "                                     np.where(incidents.incident_category == 'Human Trafficking (A), Commercial Sex Acts', 'Human Trafficking, Commercial Sex Acts',\n",
    "                                     np.where(incidents.incident_category == 'Weapons Offence', 'Weapons Offense',\n",
    "                                     np.where(incidents.incident_category == 'Suspicious', 'Suspicious Occ',\n",
    "                                     incidents.incident_category)))))"
   ]
  },
  {
   "cell_type": "markdown",
   "id": "5257790f-2a7c-4c16-aa55-322e288057a6",
   "metadata": {},
   "source": [
    "The plot below indicates that the most common incident reported in the twelve months between 1 June 2022 and 31 May 2023 was larceny/theft (30.9%). The secondmost common incident category reported was 'Other' (6.9%), and malicious mischief (6.7%), assault (6.4%) and motor vehicle theft (6.3%) rounded out the top 5.\n",
    "\n",
    "At the opposite end of the spectrum, the least common incidents included civil sidewalks, gambling, human trafficking/commercial sex acts, rape and homicide."
   ]
  },
  {
   "cell_type": "code",
   "execution_count": 8,
   "id": "119be619-3b38-4e31-978f-c902e93a65b8",
   "metadata": {
    "execution": {
     "iopub.execute_input": "2023-08-27T11:19:03.910398Z",
     "iopub.status.busy": "2023-08-27T11:19:03.909949Z",
     "iopub.status.idle": "2023-08-27T11:19:03.974209Z",
     "shell.execute_reply": "2023-08-27T11:19:03.973669Z",
     "shell.execute_reply.started": "2023-08-27T11:19:03.910378Z"
    },
    "tags": []
   },
   "outputs": [
    {
     "data": {
      "text/html": [
       "<iframe\n",
       "    scrolling=\"no\"\n",
       "    width=\"1020px\"\n",
       "    height=\"545px\"\n",
       "    src=\"iframe_figures/figure_8.html\"\n",
       "    frameborder=\"0\"\n",
       "    allowfullscreen\n",
       "></iframe>\n"
      ]
     },
     "metadata": {},
     "output_type": "display_data"
    }
   ],
   "source": [
    "by_cat = pd.DataFrame(incidents.incident_category_new.value_counts())\n",
    "by_cat.reset_index(inplace=True)\n",
    "by_cat.columns = ['category', 'count']\n",
    "by_cat['prop'] = by_cat['count']/incidents.shape[0]*100\n",
    "by_cat.sort_values(by='prop', inplace=True)\n",
    "\n",
    "fig = px.bar(data_frame=by_cat[-20:], x='prop', y='category',\n",
    "             hover_data={'prop':':.2f',\n",
    "                         'count':':,'},\n",
    "             labels={'prop':'Percentage (%)', 'category':'Category'},\n",
    "             title='Proportion of top 20 incidents by category',\n",
    "             template='simple_white')\n",
    "fig.update_layout(width=1000) \n",
    "fig"
   ]
  },
  {
   "cell_type": "markdown",
   "id": "d7940157-cb8f-4aaf-87b8-40e9926aeac5",
   "metadata": {
    "execution": {
     "iopub.execute_input": "2023-08-27T09:44:09.315245Z",
     "iopub.status.busy": "2023-08-27T09:44:09.314421Z",
     "iopub.status.idle": "2023-08-27T09:44:09.347924Z",
     "shell.execute_reply": "2023-08-27T09:44:09.347317Z",
     "shell.execute_reply.started": "2023-08-27T09:44:09.315204Z"
    },
    "tags": []
   },
   "source": [
    "This next plot indicates that there are no drastic changes in the profile of incident categories over time. However, it is interesting to note that non-motor vehicle larceny/theft is at its lowest in May and gradually increases to a peak in December. In contrast, drug offenses are highest in July, August and February."
   ]
  },
  {
   "cell_type": "code",
   "execution_count": 9,
   "id": "b84a0d6c-3cc8-439d-802c-29ae2526506b",
   "metadata": {
    "execution": {
     "iopub.execute_input": "2023-08-27T11:19:03.975251Z",
     "iopub.status.busy": "2023-08-27T11:19:03.974995Z",
     "iopub.status.idle": "2023-08-27T11:19:04.202651Z",
     "shell.execute_reply": "2023-08-27T11:19:04.202057Z",
     "shell.execute_reply.started": "2023-08-27T11:19:03.975232Z"
    },
    "tags": []
   },
   "outputs": [
    {
     "data": {
      "text/html": [
       "<iframe\n",
       "    scrolling=\"no\"\n",
       "    width=\"100%\"\n",
       "    height=\"720\"\n",
       "    src=\"iframe_figures/figure_9.html\"\n",
       "    frameborder=\"0\"\n",
       "    allowfullscreen\n",
       "></iframe>\n"
      ]
     },
     "metadata": {},
     "output_type": "display_data"
    }
   ],
   "source": [
    "# let's see if there is any pattern in the number of incidents by month of the year\n",
    "by_month = pd.DataFrame(incidents.groupby(['incident_month', 'incident_month_num', 'incident_category_new'])['incident_id'].count())\n",
    "by_month.reset_index(inplace=True)\n",
    "by_month.columns = ['month', 'month_num', 'category', 'count']\n",
    "by_month['month_sum'] = by_month.groupby('month')['count'].transform('sum')\n",
    "by_month['total_prop'] = by_month['count']/incidents.shape[0]*100\n",
    "by_month['month_prop'] = by_month['count']/by_month.month_sum*100\n",
    "\n",
    "plot_data = by_month.sort_values(by=['month_num', 'month_prop'], ascending=[True, False])\n",
    "fig = px.bar(plot_data, x='month', y='month_prop', color='category',\n",
    "             hover_data={'month_prop':':.2f',\n",
    "                         'count':':,'},\n",
    "             labels={'month':'Month', 'month_prop':'Percentage (%)', 'category':'Category'},\n",
    "             title='Proportion of incidents by category and calendar month',\n",
    "             template='simple_white')\n",
    "fig.update_layout(height=700)\n",
    "fig"
   ]
  },
  {
   "cell_type": "markdown",
   "id": "1523d57a-be6d-4b5f-821d-34edfa897a9d",
   "metadata": {},
   "source": [
    "Now, the following two plots are far more interesting as they indicates some clear patterns regarding when certain types of incidents are most likely to occur. For example, larceny/theft incidents spiked in the late morning from about 10am and again in the early evening/evening between 6pm and 8pm. Similarly:\n",
    "\n",
    "- burgleries typically occurred at night or in the early morning between 3am and 6am\n",
    "- vandalism (malicious mischief) typically occurred when it was darker between about 8pm and 6am the following morning\n",
    "- motor vehicle thefts were more prevalent in the evening from about 5pm onwards until midnight\n",
    "- fraud incidents were most likely to occur just after midnight\n",
    "- robberies between 4pm in the afternoon and 6am the following morning, and\n",
    "- drug offenses overwhelmingly in the daylight hours between 7am and 7pm."
   ]
  },
  {
   "cell_type": "code",
   "execution_count": 10,
   "id": "77339647-d655-406a-8a3f-9348cee23250",
   "metadata": {
    "execution": {
     "iopub.execute_input": "2023-08-27T11:19:04.203930Z",
     "iopub.status.busy": "2023-08-27T11:19:04.203639Z",
     "iopub.status.idle": "2023-08-27T11:19:04.477655Z",
     "shell.execute_reply": "2023-08-27T11:19:04.476918Z",
     "shell.execute_reply.started": "2023-08-27T11:19:04.203909Z"
    },
    "tags": []
   },
   "outputs": [
    {
     "data": {
      "text/html": [
       "<iframe\n",
       "    scrolling=\"no\"\n",
       "    width=\"100%\"\n",
       "    height=\"720\"\n",
       "    src=\"iframe_figures/figure_10.html\"\n",
       "    frameborder=\"0\"\n",
       "    allowfullscreen\n",
       "></iframe>\n"
      ]
     },
     "metadata": {},
     "output_type": "display_data"
    }
   ],
   "source": [
    "# add parts of the day\n",
    "incidents['incident_part_of_day'] = np.where(incidents.incident_hour < 5, 'night',\n",
    "                                    np.where((incidents.incident_hour >= 5) & (incidents.incident_hour < 8), 'early morning',\n",
    "                                    np.where((incidents.incident_hour >= 8) & (incidents.incident_hour < 11), 'morning',\n",
    "                                    np.where((incidents.incident_hour >= 11) & (incidents.incident_hour < 12), 'late morning',\n",
    "                                    np.where((incidents.incident_hour >= 12) & (incidents.incident_hour < 15), 'early afternoon',\n",
    "                                    np.where((incidents.incident_hour >= 15) & (incidents.incident_hour < 16), 'afternoon',\n",
    "                                    np.where((incidents.incident_hour >= 16) & (incidents.incident_hour < 17), 'late afternoon',\n",
    "                                    np.where((incidents.incident_hour >= 17) & (incidents.incident_hour < 19), 'early evening',\n",
    "                                    np.where((incidents.incident_hour >= 19) & (incidents.incident_hour < 21), 'evening',\n",
    "                                    np.where(incidents.incident_hour >= 21, 'night', 'TBC'))))))))))\n",
    "\n",
    "part_of_day_dict = {'early morning': 1,\n",
    "                 'morning': 2,\n",
    "                 'late morning': 3,\n",
    "                 'early afternoon': 4,\n",
    "                 'afternoon': 5,\n",
    "                 'late afternoon': 6,\n",
    "                 'early evening': 7,\n",
    "                 'evening': 8,\n",
    "                 'night': 9}\n",
    "incidents['incident_part_of_day_num'] = incidents.incident_part_of_day.map(part_of_day_dict)\n",
    "\n",
    "by_part_of_day = pd.DataFrame(incidents.groupby(['incident_part_of_day', 'incident_part_of_day_num', 'incident_category_new'])['incident_id'].count())\n",
    "by_part_of_day.reset_index(inplace=True)\n",
    "by_part_of_day.columns = ['part_of_day', 'part_of_day_num', 'category', 'count']\n",
    "by_part_of_day['day_sum'] = by_part_of_day.groupby('part_of_day')['count'].transform('sum')\n",
    "by_part_of_day['total_prop'] = by_part_of_day['count']/incidents.shape[0]*100\n",
    "by_part_of_day['part_prop'] = by_part_of_day['count']/by_part_of_day.day_sum*100\n",
    "\n",
    "plot_data = by_part_of_day.sort_values(by=['part_of_day_num', 'part_prop'], ascending=[True, False])\n",
    "fig = px.bar(plot_data, x='part_of_day', y='part_prop', color='category',\n",
    "             hover_data={'part_prop':':.2f',\n",
    "                         'count':':,'},\n",
    "             labels={'part_of_day':'Hour', 'part_prop':'Percentage (%)', 'category':'Category'},\n",
    "             title='Proportion of incidents by category and part of the day',\n",
    "             template='simple_white')\n",
    "fig.update_layout(height=700)\n",
    "fig"
   ]
  },
  {
   "cell_type": "code",
   "execution_count": 11,
   "id": "5a206bf7-4590-4a3d-bdf3-43086122bef8",
   "metadata": {
    "execution": {
     "iopub.execute_input": "2023-08-27T11:19:04.479166Z",
     "iopub.status.busy": "2023-08-27T11:19:04.478801Z",
     "iopub.status.idle": "2023-08-27T11:19:04.766185Z",
     "shell.execute_reply": "2023-08-27T11:19:04.765634Z",
     "shell.execute_reply.started": "2023-08-27T11:19:04.479136Z"
    },
    "tags": []
   },
   "outputs": [
    {
     "data": {
      "text/html": [
       "<iframe\n",
       "    scrolling=\"no\"\n",
       "    width=\"100%\"\n",
       "    height=\"720\"\n",
       "    src=\"iframe_figures/figure_11.html\"\n",
       "    frameborder=\"0\"\n",
       "    allowfullscreen\n",
       "></iframe>\n"
      ]
     },
     "metadata": {},
     "output_type": "display_data"
    }
   ],
   "source": [
    "by_hour = pd.DataFrame(incidents.groupby(['incident_hour', 'incident_category_new'])['incident_id'].count())\n",
    "by_hour.reset_index(inplace=True)\n",
    "by_hour.columns = ['hour', 'category', 'count']\n",
    "by_hour['day_sum'] = by_hour.groupby('hour')['count'].transform('sum')\n",
    "by_hour['total_prop'] = by_hour['count']/incidents.shape[0]*100\n",
    "by_hour['hour_prop'] = by_hour['count']/by_hour.day_sum*100\n",
    "\n",
    "plot_data = by_hour.sort_values(by=['hour', 'hour_prop'], ascending=[True, False])\n",
    "fig = px.bar(plot_data, x='hour', y='hour_prop', color='category',\n",
    "             hover_data={'hour_prop':':.2f',\n",
    "                         'count':':,'},\n",
    "             labels={'hour':'Hour', 'hour_prop':'Percentage (%)', 'category':'Category'},\n",
    "             title='Proportion of incidents by category and hour',\n",
    "             template='simple_white')\n",
    "fig.update_layout(height=700)\n",
    "fig"
   ]
  },
  {
   "cell_type": "code",
   "execution_count": 12,
   "id": "3ba410c1-2484-4bee-b321-d4cf355e6fa5",
   "metadata": {
    "execution": {
     "iopub.execute_input": "2023-08-27T11:19:04.767292Z",
     "iopub.status.busy": "2023-08-27T11:19:04.767024Z",
     "iopub.status.idle": "2023-08-27T11:19:04.990020Z",
     "shell.execute_reply": "2023-08-27T11:19:04.989475Z",
     "shell.execute_reply.started": "2023-08-27T11:19:04.767273Z"
    },
    "tags": []
   },
   "outputs": [
    {
     "data": {
      "text/html": [
       "<iframe\n",
       "    scrolling=\"no\"\n",
       "    width=\"100%\"\n",
       "    height=\"720\"\n",
       "    src=\"iframe_figures/figure_12.html\"\n",
       "    frameborder=\"0\"\n",
       "    allowfullscreen\n",
       "></iframe>\n"
      ]
     },
     "metadata": {},
     "output_type": "display_data"
    }
   ],
   "source": [
    "by_police_district = pd.DataFrame(incidents.groupby(['police_district', 'incident_category_new'])['incident_id'].count())\n",
    "by_police_district.reset_index(inplace=True)\n",
    "by_police_district.columns = ['district', 'category', 'count']\n",
    "by_police_district['district_sum'] = by_police_district.groupby('district')['count'].transform('sum')\n",
    "by_police_district['district_prop'] = by_police_district['count']/by_police_district.district_sum*100\n",
    "\n",
    "plot_data = by_police_district.sort_values(by=['district', 'district_prop'], ascending=[True, False])\n",
    "fig = px.bar(plot_data, x='district', y='district_prop', color='category',\n",
    "             hover_data={'district_prop':':.2f',\n",
    "                         'count':':,'},\n",
    "             labels={'district':'Police District', 'district_prop':'Percentage (%)', 'category':'Category'},\n",
    "             title='Proportion of incidents by category and police district',\n",
    "             template='simple_white')\n",
    "fig.update_layout(height=700)\n",
    "fig"
   ]
  },
  {
   "cell_type": "code",
   "execution_count": 13,
   "id": "1d243494-105c-4958-b099-6b4ccf8a354b",
   "metadata": {
    "execution": {
     "iopub.execute_input": "2023-08-27T11:19:04.991075Z",
     "iopub.status.busy": "2023-08-27T11:19:04.990859Z",
     "iopub.status.idle": "2023-08-27T11:19:05.208680Z",
     "shell.execute_reply": "2023-08-27T11:19:05.208125Z",
     "shell.execute_reply.started": "2023-08-27T11:19:04.991056Z"
    },
    "tags": []
   },
   "outputs": [
    {
     "data": {
      "text/html": [
       "<iframe\n",
       "    scrolling=\"no\"\n",
       "    width=\"100%\"\n",
       "    height=\"720\"\n",
       "    src=\"iframe_figures/figure_13.html\"\n",
       "    frameborder=\"0\"\n",
       "    allowfullscreen\n",
       "></iframe>\n"
      ]
     },
     "metadata": {},
     "output_type": "display_data"
    }
   ],
   "source": [
    "by_supervisor_district = pd.DataFrame(incidents.groupby(['supervisor_district', 'incident_category_new'])['incident_id'].count())\n",
    "by_supervisor_district.reset_index(inplace=True)\n",
    "by_supervisor_district.columns = ['district', 'category', 'count']\n",
    "by_supervisor_district['district_sum'] = by_supervisor_district.groupby('district')['count'].transform('sum')\n",
    "by_supervisor_district['district_prop'] = by_supervisor_district['count']/by_supervisor_district.district_sum*100\n",
    "\n",
    "plot_data = by_supervisor_district.sort_values(by=['district', 'district_prop'], ascending=[True, False])\n",
    "fig = px.bar(plot_data, x='district', y='district_prop', color='category',\n",
    "             hover_data={'district_prop':':.2f',\n",
    "                         'count':':,'},\n",
    "             labels={'district':'Supervisor District', 'district_prop':'Percentage (%)', 'category':'Category'},\n",
    "             title='Proportion of incidents by category and supervisor district',\n",
    "             template='simple_white')\n",
    "fig.update_layout(height=700)\n",
    "fig"
   ]
  },
  {
   "cell_type": "code",
   "execution_count": 14,
   "id": "4ede305a-8e87-41dd-b8e5-8194dd8fc89f",
   "metadata": {
    "execution": {
     "iopub.execute_input": "2023-08-27T11:19:05.209849Z",
     "iopub.status.busy": "2023-08-27T11:19:05.209620Z",
     "iopub.status.idle": "2023-08-27T11:19:05.453393Z",
     "shell.execute_reply": "2023-08-27T11:19:05.452815Z",
     "shell.execute_reply.started": "2023-08-27T11:19:05.209829Z"
    },
    "tags": []
   },
   "outputs": [
    {
     "data": {
      "text/html": [
       "<iframe\n",
       "    scrolling=\"no\"\n",
       "    width=\"100%\"\n",
       "    height=\"720\"\n",
       "    src=\"iframe_figures/figure_14.html\"\n",
       "    frameborder=\"0\"\n",
       "    allowfullscreen\n",
       "></iframe>\n"
      ]
     },
     "metadata": {},
     "output_type": "display_data"
    }
   ],
   "source": [
    "by_neighbourhood = pd.DataFrame(incidents.groupby(['analysis_neighborhood', 'neighborhoods', 'incident_category_new'])['incident_id'].count())\n",
    "by_neighbourhood.reset_index(inplace=True)\n",
    "by_neighbourhood.columns = ['name', 'id', 'category', 'count']\n",
    "by_neighbourhood['neighbourhood_sum'] = by_neighbourhood.groupby('name')['count'].transform('sum')\n",
    "by_neighbourhood['neighbourhood_prop'] = by_neighbourhood['count']/by_neighbourhood.neighbourhood_sum*100\n",
    "\n",
    "plot_data = by_neighbourhood.sort_values(by=['name', 'neighbourhood_prop'], ascending=[True, False])\n",
    "fig = px.bar(plot_data, x='name', y='neighbourhood_prop', color='category',\n",
    "             hover_data={'neighbourhood_prop':':.2f',\n",
    "                         'count':':,'},\n",
    "             labels={'name':'Neighbourhood', 'neighbourhood_prop':'Percentage (%)', 'category':'Category'},\n",
    "             title='Proportion of incidents by category and neighbourhood',\n",
    "             template='simple_white')\n",
    "fig.update_layout(height=700)\n",
    "fig"
   ]
  },
  {
   "cell_type": "code",
   "execution_count": null,
   "id": "9f3fe501-1947-475c-b307-04e980156bc2",
   "metadata": {},
   "outputs": [],
   "source": []
  }
 ],
 "metadata": {
  "kernelspec": {
   "display_name": "saturn (Python 3)",
   "language": "python",
   "name": "python3"
  },
  "language_info": {
   "codemirror_mode": {
    "name": "ipython",
    "version": 3
   },
   "file_extension": ".py",
   "mimetype": "text/x-python",
   "name": "python",
   "nbconvert_exporter": "python",
   "pygments_lexer": "ipython3",
   "version": "3.9.17"
  }
 },
 "nbformat": 4,
 "nbformat_minor": 5
}
