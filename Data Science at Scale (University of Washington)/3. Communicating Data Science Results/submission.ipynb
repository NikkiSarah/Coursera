{
 "cells": [
  {
   "cell_type": "markdown",
   "id": "bc2a0825-572d-4ef5-a781-32eca94e55ea",
   "metadata": {},
   "source": [
    "# **Crime in San Fransico Doesn't Always Occur at Night**\n",
    "**30 August 2023**\n",
    "\n",
    "You would perhaps think many crimes tend to happen at night when less people are around to witness the act. However, as it turns out, that's not always a criminal's preferred time of day. In this notebook, 12 months of incident report data between 1 June 2022 and 31 May 2023 from San Francisco's open data portal [https://data.sfgov.org](https://data.sfgov.org/Public-Safety/Police-Department-Incident-Reports-2018-to-Present/wg3w-h783) was analysed. The original brief called for an analysis of the same incident dataset, but of three months in 2014. Since that was nine years ago, and computing power has increased significantly since then, the author decided to widen the time period of analysis and use far more recent data.\n",
    "\n",
    "Whilst there were a number of possible areas of investigation, this analysis focussed on time of day patterns. This included determining when most crimes tended to occur and a more granular breakdown by crime type. The key finding from this analysis was that over a 24 hour period, the majority of crime actually occurred at midday (7.1%) followed by 6pm and 5pm (both 5.9%). Around 5.6% of crime occurred at midnight."
   ]
  },
  {
   "cell_type": "code",
   "execution_count": 12,
   "id": "31381fc7-d1f8-4681-b6dd-de4bb042acf4",
   "metadata": {
    "execution": {
     "iopub.execute_input": "2023-08-29T11:13:40.775656Z",
     "iopub.status.busy": "2023-08-29T11:13:40.775274Z",
     "iopub.status.idle": "2023-08-29T11:13:40.779607Z",
     "shell.execute_reply": "2023-08-29T11:13:40.778823Z",
     "shell.execute_reply.started": "2023-08-29T11:13:40.775632Z"
    },
    "tags": []
   },
   "outputs": [],
   "source": [
    "# import all necessary libraries\n",
    "import matplotlib.pyplot as plt\n",
    "import numpy as np\n",
    "import pandas as pd\n",
    "import seaborn as sns\n",
    "\n",
    "from pandas.api.types import CategoricalDtype"
   ]
  },
  {
   "cell_type": "code",
   "execution_count": 118,
   "id": "5cb2b2a4-140b-4e1c-bd07-6372401feff1",
   "metadata": {
    "execution": {
     "iopub.execute_input": "2023-08-29T12:36:33.229989Z",
     "iopub.status.busy": "2023-08-29T12:36:33.229606Z",
     "iopub.status.idle": "2023-08-29T12:36:39.806818Z",
     "shell.execute_reply": "2023-08-29T12:36:39.806164Z",
     "shell.execute_reply.started": "2023-08-29T12:36:33.229964Z"
    },
    "tags": []
   },
   "outputs": [
    {
     "name": "stdout",
     "output_type": "stream",
     "text": [
      "<class 'pandas.core.frame.DataFrame'>\n",
      "RangeIndex: 136677 entries, 0 to 136676\n",
      "Data columns (total 14 columns):\n",
      " #   Column              Non-Null Count   Dtype         \n",
      "---  ------              --------------   -----         \n",
      " 0   row_id              136677 non-null  int64         \n",
      " 1   datetime            136677 non-null  datetime64[ns]\n",
      " 2   date                136677 non-null  datetime64[ns]\n",
      " 3   time                136677 non-null  object        \n",
      " 4   code                136677 non-null  int64         \n",
      " 5   category            136545 non-null  object        \n",
      " 6   subcategory         136545 non-null  object        \n",
      " 7   description         136677 non-null  object        \n",
      " 8   hour_num            136677 non-null  int64         \n",
      " 9   hour                136677 non-null  category      \n",
      " 10  time_of_day         136677 non-null  category      \n",
      " 11  time_of_day2        136677 non-null  category      \n",
      " 12  category_semiclean  136545 non-null  object        \n",
      " 13  category_clean      136545 non-null  object        \n",
      "dtypes: category(3), datetime64[ns](2), int64(3), object(6)\n",
      "memory usage: 11.9+ MB\n"
     ]
    }
   ],
   "source": [
    "incidents = pd.read_csv('sf_incidents_2223.csv')\n",
    "# clean up the column names\n",
    "incidents.columns = incidents.columns.str.lower().str.replace(' ', '_')\n",
    "incidents.columns = incidents.columns.str.replace('incident_', '')\n",
    "# select the columns for analysis\n",
    "incidents = incidents.loc[:, ['row_id', 'datetime', 'date', 'time', 'code', 'category', 'subcategory', 'description']]\n",
    "\n",
    "# convert datetime from an object to datetime type\n",
    "incidents['datetime'] = pd.to_datetime(incidents.datetime, infer_datetime_format = True)\n",
    "incidents['date'] = pd.to_datetime(incidents.date, infer_datetime_format = True)\n",
    "\n",
    "# add hour information\n",
    "incidents['hour_num'] = incidents.datetime.dt.hour\n",
    "hour_dict = {0: '12 AM',\n",
    "             1: '1 AM',\n",
    "             2: '2 AM',\n",
    "             3: '3 AM',\n",
    "             4: '4 AM',\n",
    "             5: '5 AM',\n",
    "             6: '6 AM',\n",
    "             7: '7 AM',\n",
    "             8: '8 AM',\n",
    "             9: '9 AM',\n",
    "             10: '10 AM',\n",
    "             11: '11 AM',\n",
    "             12: '12 PM',\n",
    "             13: '1 PM',\n",
    "             14: '2 PM',\n",
    "             15: '3 PM',\n",
    "             16: '4 PM',\n",
    "             17: '5 PM',\n",
    "             18: '6 PM',\n",
    "             19: '7 PM',\n",
    "             20: '8 PM',\n",
    "             21: '9 PM',\n",
    "             22: '10 PM',\n",
    "             23: '11 PM'}\n",
    "incidents['hour'] = incidents.hour_num.map(hour_dict)\n",
    "cat_type = CategoricalDtype(categories=['12 AM', '1 AM', '2 AM', '3 AM', '4 AM', '5 AM', '6 AM',\n",
    "                                        '7 AM', '8 AM', '9 AM', '10 AM', '11 AM', '12 PM', '1 PM',\n",
    "                                        '2 PM', '3 PM', '4 PM', '5 PM',  '6 PM', '7 PM',\n",
    "                                        '8 PM', '9 PM', '10 PM', '11 PM'], ordered=True)\n",
    "incidents.hour = incidents.hour.astype(cat_type)\n",
    "\n",
    "# add time of day information\n",
    "incidents['time_of_day'] = np.where(incidents.hour_num < 4, '12AM - 3AM',\n",
    "                            np.where((incidents.hour_num >= 4) & (incidents.hour_num < 8), '4AM - 7AM',\n",
    "                            np.where((incidents.hour_num >= 8) & (incidents.hour_num < 12), '8AM - 11AM',\n",
    "                            np.where((incidents.hour_num >= 12) & (incidents.hour_num < 16), '12PM - 3PM',\n",
    "                            np.where((incidents.hour_num >= 16) & (incidents.hour_num < 20), '4PM - 7PM',\n",
    "                            np.where(incidents.hour_num >= 20, '8PM - 11PM', 'TBC'))))))\n",
    "cat_type = CategoricalDtype(categories=[\"12AM - 3AM\", \"4AM - 7AM\", \"8AM - 11AM\", \"12PM - 3PM\",\n",
    "                                        \"4PM - 7PM\", \"8PM - 11PM\"], ordered=True)\n",
    "incidents.time_of_day = incidents.time_of_day.astype(cat_type)\n",
    "\n",
    "incidents['time_of_day2'] = np.where(incidents.hour_num < 5, 'night',\n",
    "                            np.where((incidents.hour_num >= 5) & (incidents.hour_num < 8), 'early morning',\n",
    "                            np.where((incidents.hour_num >= 8) & (incidents.hour_num < 11), 'morning',\n",
    "                            np.where((incidents.hour_num >= 11) & (incidents.hour_num < 12), 'late morning',\n",
    "                            np.where((incidents.hour_num >= 12) & (incidents.hour_num < 15), 'early afternoon',\n",
    "                            np.where((incidents.hour_num >= 15) & (incidents.hour_num < 16), 'afternoon',\n",
    "                            np.where((incidents.hour_num >= 16) & (incidents.hour_num < 17), 'late afternoon',\n",
    "                            np.where((incidents.hour_num >= 17) & (incidents.hour_num < 19), 'early evening',\n",
    "                            np.where((incidents.hour_num >= 19) & (incidents.hour_num < 21), 'evening',\n",
    "                            np.where(incidents.hour_num >= 21, 'night', 'TBC'))))))))))\n",
    "cat_type = CategoricalDtype(categories=[\"early morning\", \"morning\", \"late morning\", \"early afternoon\",\n",
    "                                        \"afternoon\", \"late afternoon\", \"early evening\", \"evening\",\n",
    "                                        \"night\"], ordered=True)\n",
    "incidents.time_of_day2 = incidents.time_of_day2.astype(cat_type)\n",
    "\n",
    "# clean up the incident categories\n",
    "incidents['category_semiclean'] = np.where(incidents.category == 'Other Miscellaneous', 'Other',\n",
    "                                  np.where(incidents.category == 'Motor Vehicle Theft?', 'Motor Vehicle Theft',\n",
    "                                  np.where(incidents.category == 'Human Trafficking (A), Commercial Sex Acts', 'Human Trafficking, Commercial Sex Acts',\n",
    "                                  np.where(incidents.category == 'Weapons Offence', 'Weapons Offense',\n",
    "                                  np.where(incidents.category == 'Suspicious', 'Suspicious Occ',\n",
    "                                           incidents.category)))))\n",
    "\n",
    "# collapse the primary categories into something useful\n",
    "incidents.category_semiclean.value_counts()\n",
    "incidents['category_clean'] = np.where(incidents.category_semiclean == 'Larceny Theft', 'Larceny/Theft',\n",
    "                              np.where(incidents.category_semiclean == 'Malicious Mischief', 'Malicious Mischief/Damage',\n",
    "                              np.where(incidents.category_semiclean == 'Motor Vehicle Theft', 'Motor Vehicle-Related',\n",
    "                              np.where(incidents.category_semiclean == 'Recovered Vehicle', 'Motor Vehicle-Related',\n",
    "                              np.where(incidents.category_semiclean == 'Drug Offense', 'Drug/Narcotics-Related',\n",
    "                              np.where(incidents.category_semiclean == 'Weapons Offense', 'Weapons-Related',\n",
    "                              np.where(incidents.category_semiclean == 'Traffic Violation Arrest', 'Motor Vehicle-Related',\n",
    "                              np.where(incidents.category_semiclean == 'Weapons Carrying Etc', 'Motor Vehicle-Related',\n",
    "                              np.where(incidents.category_semiclean == 'Stolen Property', 'Larceny/Theft',\n",
    "                              np.where(incidents.category_semiclean == 'Courtesy Report', 'Non-Criminal',\n",
    "                              np.where(incidents.category_semiclean == 'Case Closure', 'Non-Criminal',\n",
    "                              np.where(incidents.category_semiclean == 'Vandalism', 'Malicious Mischief/Damage',\n",
    "                              np.where(incidents.category_semiclean == 'Traffic Collision', 'Motor Vehicle-Related',\n",
    "                              np.where(incidents.category_semiclean == 'Forgery And Counterfeiting', 'Fraud',\n",
    "                              np.where(incidents.category_semiclean == 'Fire Report', 'Arson',\n",
    "                              np.where(incidents.category_semiclean == 'Embezzlement', 'Fraud',\n",
    "                              np.where(incidents.category_semiclean == 'Sex Offense', 'Sex Offense-Related',\n",
    "                              np.where(incidents.category_semiclean == 'Vehicle Impounded', 'Motor Vehicle-Related',\n",
    "                              np.where(incidents.category_semiclean == 'Vehicle Misplaced', 'Motor Vehicle-Related',\n",
    "                              np.where(incidents.category_semiclean == 'Drug Violation', 'Drug/Narcotics-Related',\n",
    "                              np.where(incidents.category_semiclean == 'Prostitution', 'Sex Offense-Related',\n",
    "                              np.where(incidents.category_semiclean == 'Rape', 'Sex Offense-Related',\n",
    "                              np.where(incidents.category_semiclean == 'Human Trafficking, Commercial Sex Acts', 'Sex Offense-Related',\n",
    "                              np.where(incidents.category_semiclean == 'Lost Property', 'Larceny/Theft',\n",
    "                              np.where(incidents.category_semiclean == 'Suspicious Occ', 'Suspicious Occurrence',\n",
    "                              np.where(incidents.category_semiclean == 'Offences Against The Family And Children', 'Domestic Violence',\n",
    "                              np.where(incidents.category_semiclean == 'Gambling', 'Other',\n",
    "                              np.where(incidents.category_semiclean == 'Civil Sidewalks', 'Other',\n",
    "                                       incidents.category_semiclean))))))))))))))))))))))))))))\n",
    "\n",
    "# incidents.category_clean.value_counts()\n",
    "incidents.info()"
   ]
  },
  {
   "cell_type": "code",
   "execution_count": 173,
   "id": "380b2444-f14a-4c77-849f-472d7d39efa5",
   "metadata": {
    "execution": {
     "iopub.execute_input": "2023-08-29T12:56:40.953350Z",
     "iopub.status.busy": "2023-08-29T12:56:40.952967Z",
     "iopub.status.idle": "2023-08-29T12:56:41.261831Z",
     "shell.execute_reply": "2023-08-29T12:56:41.261165Z",
     "shell.execute_reply.started": "2023-08-29T12:56:40.953324Z"
    },
    "tags": []
   },
   "outputs": [
    {
     "data": {
      "image/png": "[encoded data removed]",
      "text/plain": [
       "<Figure size 700x300 with 1 Axes>"
      ]
     },
     "metadata": {},
     "output_type": "display_data"
    }
   ],
   "source": [
    "by_tod = pd.DataFrame(incidents.time_of_day.value_counts(normalize=True)).reset_index()\n",
    "by_tod.time_of_day = by_tod.time_of_day * 100\n",
    "by_tod.sort_values(by='index', inplace=True)\n",
    "\n",
    "values = by_tod.time_of_day\n",
    "custom_palette = sns.dark_palette(\"seagreen\", len(values), reverse=True)\n",
    "colour_mapping = dict(zip(sorted(values), custom_palette))\n",
    "colour_mapping\n",
    "\n",
    "fig, ax = plt.subplots(figsize=(7,3))\n",
    "sns.barplot(data=by_tod, x='time_of_day', y='index',\n",
    "            palette=[colour_mapping[val] for val in values], saturation=0.5)\n",
    "ax.set(title='Percentage of Crimes Committed by Time of Day',\n",
    "       xlabel = None,\n",
    "       ylabel = None)\n",
    "sns.despine()"
   ]
  },
  {
   "cell_type": "code",
   "execution_count": 174,
   "id": "9dadc0d6-b704-4347-bd74-8498fb54a5f1",
   "metadata": {
    "execution": {
     "iopub.execute_input": "2023-08-29T12:57:10.522792Z",
     "iopub.status.busy": "2023-08-29T12:57:10.522404Z",
     "iopub.status.idle": "2023-08-29T12:57:10.751215Z",
     "shell.execute_reply": "2023-08-29T12:57:10.750589Z",
     "shell.execute_reply.started": "2023-08-29T12:57:10.522768Z"
    },
    "tags": []
   },
   "outputs": [
    {
     "data": {
      "image/png": "[encoded data removed]",
      "text/plain": [
       "<Figure size 700x700 with 1 Axes>"
      ]
     },
     "metadata": {},
     "output_type": "display_data"
    }
   ],
   "source": [
    "by_hour = pd.DataFrame(incidents.hour.value_counts(normalize=True)).reset_index()\n",
    "by_hour.hour = by_hour.hour * 100\n",
    "by_hour.sort_values(by='index', inplace=True)\n",
    "\n",
    "values = by_hour.hour\n",
    "custom_palette = sns.dark_palette(\"seagreen\", len(values), reverse=True)\n",
    "colour_mapping = dict(zip(sorted(values), custom_palette))\n",
    "colour_mapping\n",
    "\n",
    "fig, ax = plt.subplots(figsize=(7,7))\n",
    "sns.barplot(data=by_hour, x='hour', y='index',\n",
    "            palette=[colour_mapping[val] for val in values], \n",
    "            saturation=0.5, orient='h')\n",
    "ax.set(title='Percentage of Crimes Committed by Hour of the Day',\n",
    "       xlabel = None,\n",
    "       ylabel = None)\n",
    "sns.despine()"
   ]
  },
  {
   "cell_type": "code",
   "execution_count": 175,
   "id": "f28f6f9c-4daa-4a77-a52a-2ec372c9c83b",
   "metadata": {
    "execution": {
     "iopub.execute_input": "2023-08-29T13:02:11.379083Z",
     "iopub.status.busy": "2023-08-29T13:02:11.378693Z",
     "iopub.status.idle": "2023-08-29T13:02:11.387432Z",
     "shell.execute_reply": "2023-08-29T13:02:11.386813Z",
     "shell.execute_reply.started": "2023-08-29T13:02:11.379057Z"
    },
    "tags": []
   },
   "outputs": [
    {
     "data": {
      "text/html": [
       "<div>\n",
       "<style scoped>\n",
       "    .dataframe tbody tr th:only-of-type {\n",
       "        vertical-align: middle;\n",
       "    }\n",
       "\n",
       "    .dataframe tbody tr th {\n",
       "        vertical-align: top;\n",
       "    }\n",
       "\n",
       "    .dataframe thead th {\n",
       "        text-align: right;\n",
       "    }\n",
       "</style>\n",
       "<table border=\"1\" class=\"dataframe\">\n",
       "  <thead>\n",
       "    <tr style=\"text-align: right;\">\n",
       "      <th></th>\n",
       "      <th>index</th>\n",
       "      <th>hour</th>\n",
       "    </tr>\n",
       "  </thead>\n",
       "  <tbody>\n",
       "    <tr>\n",
       "      <th>4</th>\n",
       "      <td>12 AM</td>\n",
       "      <td>5.569335</td>\n",
       "    </tr>\n",
       "    <tr>\n",
       "      <th>17</th>\n",
       "      <td>1 AM</td>\n",
       "      <td>2.802959</td>\n",
       "    </tr>\n",
       "    <tr>\n",
       "      <th>18</th>\n",
       "      <td>2 AM</td>\n",
       "      <td>2.532979</td>\n",
       "    </tr>\n",
       "    <tr>\n",
       "      <th>20</th>\n",
       "      <td>3 AM</td>\n",
       "      <td>2.052284</td>\n",
       "    </tr>\n",
       "    <tr>\n",
       "      <th>22</th>\n",
       "      <td>4 AM</td>\n",
       "      <td>1.879614</td>\n",
       "    </tr>\n",
       "    <tr>\n",
       "      <th>23</th>\n",
       "      <td>5 AM</td>\n",
       "      <td>1.675483</td>\n",
       "    </tr>\n",
       "    <tr>\n",
       "      <th>21</th>\n",
       "      <td>6 AM</td>\n",
       "      <td>1.941073</td>\n",
       "    </tr>\n",
       "    <tr>\n",
       "      <th>19</th>\n",
       "      <td>7 AM</td>\n",
       "      <td>2.271779</td>\n",
       "    </tr>\n",
       "    <tr>\n",
       "      <th>16</th>\n",
       "      <td>8 AM</td>\n",
       "      <td>3.402182</td>\n",
       "    </tr>\n",
       "    <tr>\n",
       "      <th>13</th>\n",
       "      <td>9 AM</td>\n",
       "      <td>3.892389</td>\n",
       "    </tr>\n",
       "    <tr>\n",
       "      <th>10</th>\n",
       "      <td>10 AM</td>\n",
       "      <td>4.796710</td>\n",
       "    </tr>\n",
       "    <tr>\n",
       "      <th>5</th>\n",
       "      <td>11 AM</td>\n",
       "      <td>5.510803</td>\n",
       "    </tr>\n",
       "    <tr>\n",
       "      <th>0</th>\n",
       "      <td>12 PM</td>\n",
       "      <td>7.083123</td>\n",
       "    </tr>\n",
       "    <tr>\n",
       "      <th>7</th>\n",
       "      <td>1 PM</td>\n",
       "      <td>5.185949</td>\n",
       "    </tr>\n",
       "    <tr>\n",
       "      <th>9</th>\n",
       "      <td>2 PM</td>\n",
       "      <td>5.060837</td>\n",
       "    </tr>\n",
       "    <tr>\n",
       "      <th>6</th>\n",
       "      <td>3 PM</td>\n",
       "      <td>5.451539</td>\n",
       "    </tr>\n",
       "    <tr>\n",
       "      <th>3</th>\n",
       "      <td>4 PM</td>\n",
       "      <td>5.665181</td>\n",
       "    </tr>\n",
       "    <tr>\n",
       "      <th>2</th>\n",
       "      <td>5 PM</td>\n",
       "      <td>5.891262</td>\n",
       "    </tr>\n",
       "    <tr>\n",
       "      <th>1</th>\n",
       "      <td>6 PM</td>\n",
       "      <td>5.932234</td>\n",
       "    </tr>\n",
       "    <tr>\n",
       "      <th>8</th>\n",
       "      <td>7 PM</td>\n",
       "      <td>5.141319</td>\n",
       "    </tr>\n",
       "    <tr>\n",
       "      <th>11</th>\n",
       "      <td>8 PM</td>\n",
       "      <td>4.716229</td>\n",
       "    </tr>\n",
       "    <tr>\n",
       "      <th>12</th>\n",
       "      <td>9 PM</td>\n",
       "      <td>4.153588</td>\n",
       "    </tr>\n",
       "    <tr>\n",
       "      <th>14</th>\n",
       "      <td>10 PM</td>\n",
       "      <td>3.881414</td>\n",
       "    </tr>\n",
       "    <tr>\n",
       "      <th>15</th>\n",
       "      <td>11 PM</td>\n",
       "      <td>3.509735</td>\n",
       "    </tr>\n",
       "  </tbody>\n",
       "</table>\n",
       "</div>"
      ],
      "text/plain": [
       "    index      hour\n",
       "4   12 AM  5.569335\n",
       "17   1 AM  2.802959\n",
       "18   2 AM  2.532979\n",
       "20   3 AM  2.052284\n",
       "22   4 AM  1.879614\n",
       "23   5 AM  1.675483\n",
       "21   6 AM  1.941073\n",
       "19   7 AM  2.271779\n",
       "16   8 AM  3.402182\n",
       "13   9 AM  3.892389\n",
       "10  10 AM  4.796710\n",
       "5   11 AM  5.510803\n",
       "0   12 PM  7.083123\n",
       "7    1 PM  5.185949\n",
       "9    2 PM  5.060837\n",
       "6    3 PM  5.451539\n",
       "3    4 PM  5.665181\n",
       "2    5 PM  5.891262\n",
       "1    6 PM  5.932234\n",
       "8    7 PM  5.141319\n",
       "11   8 PM  4.716229\n",
       "12   9 PM  4.153588\n",
       "14  10 PM  3.881414\n",
       "15  11 PM  3.509735"
      ]
     },
     "execution_count": 175,
     "metadata": {},
     "output_type": "execute_result"
    }
   ],
   "source": [
    "by_hour"
   ]
  },
  {
   "cell_type": "code",
   "execution_count": null,
   "id": "4bd0df3d-6569-412f-9305-1ebcb6c15f66",
   "metadata": {},
   "outputs": [],
   "source": []
  },
  {
   "cell_type": "code",
   "execution_count": null,
   "id": "c9f8cb4b-5ebc-43ea-9772-41152c586938",
   "metadata": {},
   "outputs": [],
   "source": []
  },
  {
   "cell_type": "code",
   "execution_count": null,
   "id": "6c05b641-96e6-4ca1-a5dd-1086d086ac4e",
   "metadata": {},
   "outputs": [],
   "source": []
  },
  {
   "cell_type": "code",
   "execution_count": null,
   "id": "d75aaadc-e269-40fa-a61f-e496db124bf8",
   "metadata": {},
   "outputs": [],
   "source": []
  },
  {
   "cell_type": "code",
   "execution_count": null,
   "id": "975606ff-09b4-4a26-b12d-ed9e2e04b699",
   "metadata": {},
   "outputs": [],
   "source": []
  },
  {
   "cell_type": "markdown",
   "id": "f618c2d4-d659-4cff-bfd5-2a09fe878e74",
   "metadata": {
    "execution": {
     "iopub.execute_input": "2023-08-27T02:17:30.151034Z",
     "iopub.status.busy": "2023-08-27T02:17:30.150665Z",
     "iopub.status.idle": "2023-08-27T02:17:30.161833Z",
     "shell.execute_reply": "2023-08-27T02:17:30.161253Z",
     "shell.execute_reply.started": "2023-08-27T02:17:30.151010Z"
    },
    "tags": []
   },
   "source": [
    "There are multiple records for each unit incident id/number. The plot below clearly indicates that most incidents only have a single record attached to them, but about 10% (16,617) have up to 4 records. The documentation indicates that a single incident report can have one or more incident codes attached; for example if the police officer discovers narcotics whilst making an arrest (for a non-narcotics related issue), then both an arrest and narcotics incident code would be reported against the same report id. Unless otherwise specified, the analysis will be at the incident code, rather than report level."
   ]
  },
  {
   "cell_type": "code",
   "execution_count": 6,
   "id": "061f9581-5e83-4614-9341-8a0922b9c1a2",
   "metadata": {
    "execution": {
     "iopub.execute_input": "2023-08-27T11:19:03.631572Z",
     "iopub.status.busy": "2023-08-27T11:19:03.631358Z",
     "iopub.status.idle": "2023-08-27T11:19:03.864069Z",
     "shell.execute_reply": "2023-08-27T11:19:03.863479Z",
     "shell.execute_reply.started": "2023-08-27T11:19:03.631553Z"
    },
    "tags": []
   },
   "outputs": [
    {
     "data": {
      "text/html": [
       "<iframe\n",
       "    scrolling=\"no\"\n",
       "    width=\"720px\"\n",
       "    height=\"520\"\n",
       "    src=\"iframe_figures/figure_6.html\"\n",
       "    frameborder=\"0\"\n",
       "    allowfullscreen\n",
       "></iframe>\n"
      ]
     },
     "metadata": {},
     "output_type": "display_data"
    }
   ],
   "source": [
    "counts = pd.DataFrame(incidents.id.value_counts()).reset_index()\n",
    "counts = counts.groupby(\"id\").count().reset_index()\n",
    "counts['prop'] = counts['index'] / incidents.shape[0] * 100\n",
    "counts.columns = [\"id_count\", \"count\", \"prop\"]\n",
    "\n",
    "fig = px.bar(data_frame=counts, x=\"id_count\", y=\"prop\",\n",
    "             hover_data={'prop':':.2f',\n",
    "                         'count':':,'},\n",
    "             labels={'prop':'Percentage (%)', 'id_count':'Occurrence'},\n",
    "             title='Proportion of records by incident id occurrence',\n",
    "             template='simple_white')\n",
    "fig.update_layout(width=700, height=500) \n",
    "fig.show(renderer='iframe')"
   ]
  },
  {
   "cell_type": "code",
   "execution_count": 7,
   "id": "ac5d1979-fef1-49f6-b735-220ab4da0108",
   "metadata": {
    "execution": {
     "iopub.execute_input": "2023-08-27T11:19:03.866173Z",
     "iopub.status.busy": "2023-08-27T11:19:03.865896Z",
     "iopub.status.idle": "2023-08-27T11:19:03.909198Z",
     "shell.execute_reply": "2023-08-27T11:19:03.908551Z",
     "shell.execute_reply.started": "2023-08-27T11:19:03.866153Z"
    },
    "tags": []
   },
   "outputs": [],
   "source": [
    "# clean up the incident categories\n",
    "incidents['category_new'] = np.where(incidents.category == 'Other Miscellaneous', 'Other',\n",
    "                                     np.where(incidents.category == 'Motor Vehicle Theft?', 'Motor Vehicle Theft',\n",
    "                                     np.where(incidents.category == 'Human Trafficking (A), Commercial Sex Acts', 'Human Trafficking, Commercial Sex Acts',\n",
    "                                     np.where(incidents.category == 'Weapons Offence', 'Weapons Offense',\n",
    "                                     np.where(incidents.category == 'Suspicious', 'Suspicious Occ',\n",
    "                                     incidents.category)))))"
   ]
  },
  {
   "cell_type": "markdown",
   "id": "5257790f-2a7c-4c16-aa55-322e288057a6",
   "metadata": {},
   "source": [
    "The plot below indicates that the most common incident reported in the twelve months between 1 June 2022 and 31 May 2023 was larceny/theft (30.9%). The secondmost common incident category reported was 'Other' (6.9%), and malicious mischief (6.7%), assault (6.4%) and motor vehicle theft (6.3%) rounded out the top 5.\n",
    "\n",
    "At the opposite end of the spectrum, the least common incidents included civil sidewalks, gambling, human trafficking/commercial sex acts, rape and homicide."
   ]
  },
  {
   "cell_type": "code",
   "execution_count": 8,
   "id": "119be619-3b38-4e31-978f-c902e93a65b8",
   "metadata": {
    "execution": {
     "iopub.execute_input": "2023-08-27T11:19:03.910398Z",
     "iopub.status.busy": "2023-08-27T11:19:03.909949Z",
     "iopub.status.idle": "2023-08-27T11:19:03.974209Z",
     "shell.execute_reply": "2023-08-27T11:19:03.973669Z",
     "shell.execute_reply.started": "2023-08-27T11:19:03.910378Z"
    },
    "tags": []
   },
   "outputs": [
    {
     "data": {
      "text/html": [
       "<iframe\n",
       "    scrolling=\"no\"\n",
       "    width=\"1020px\"\n",
       "    height=\"545px\"\n",
       "    src=\"iframe_figures/figure_8.html\"\n",
       "    frameborder=\"0\"\n",
       "    allowfullscreen\n",
       "></iframe>\n"
      ]
     },
     "metadata": {},
     "output_type": "display_data"
    }
   ],
   "source": [
    "by_cat = pd.DataFrame(incidents.category_new.value_counts())\n",
    "by_cat.reset_index(inplace=True)\n",
    "by_cat.columns = ['category', 'count']\n",
    "by_cat['prop'] = by_cat['count']/incidents.shape[0]*100\n",
    "by_cat.sort_values(by='prop', inplace=True)\n",
    "\n",
    "fig = px.bar(data_frame=by_cat[-20:], x='prop', y='category',\n",
    "             hover_data={'prop':':.2f',\n",
    "                         'count':':,'},\n",
    "             labels={'prop':'Percentage (%)', 'category':'Category'},\n",
    "             title='Proportion of top 20 incidents by category',\n",
    "             template='simple_white')\n",
    "fig.update_layout(width=1000) \n",
    "fig"
   ]
  },
  {
   "cell_type": "markdown",
   "id": "d7940157-cb8f-4aaf-87b8-40e9926aeac5",
   "metadata": {
    "execution": {
     "iopub.execute_input": "2023-08-27T09:44:09.315245Z",
     "iopub.status.busy": "2023-08-27T09:44:09.314421Z",
     "iopub.status.idle": "2023-08-27T09:44:09.347924Z",
     "shell.execute_reply": "2023-08-27T09:44:09.347317Z",
     "shell.execute_reply.started": "2023-08-27T09:44:09.315204Z"
    },
    "tags": []
   },
   "source": [
    "This next plot indicates that there are no drastic changes in the profile of incident categories over time. However, it is interesting to note that non-motor vehicle larceny/theft is at its lowest in May and gradually increases to a peak in December. In contrast, drug offenses are highest in July, August and February."
   ]
  },
  {
   "cell_type": "code",
   "execution_count": 9,
   "id": "b84a0d6c-3cc8-439d-802c-29ae2526506b",
   "metadata": {
    "execution": {
     "iopub.execute_input": "2023-08-27T11:19:03.975251Z",
     "iopub.status.busy": "2023-08-27T11:19:03.974995Z",
     "iopub.status.idle": "2023-08-27T11:19:04.202651Z",
     "shell.execute_reply": "2023-08-27T11:19:04.202057Z",
     "shell.execute_reply.started": "2023-08-27T11:19:03.975232Z"
    },
    "tags": []
   },
   "outputs": [
    {
     "data": {
      "text/html": [
       "<iframe\n",
       "    scrolling=\"no\"\n",
       "    width=\"100%\"\n",
       "    height=\"720\"\n",
       "    src=\"iframe_figures/figure_9.html\"\n",
       "    frameborder=\"0\"\n",
       "    allowfullscreen\n",
       "></iframe>\n"
      ]
     },
     "metadata": {},
     "output_type": "display_data"
    }
   ],
   "source": [
    "# let's see if there is any pattern in the number of incidents by month of the year\n",
    "by_month = pd.DataFrame(incidents.groupby(['month', 'month_num', 'category_new'])['id'].count())\n",
    "by_month.reset_index(inplace=True)\n",
    "by_month.columns = ['month', 'month_num', 'category', 'count']\n",
    "by_month['month_sum'] = by_month.groupby('month')['count'].transform('sum')\n",
    "by_month['total_prop'] = by_month['count']/incidents.shape[0]*100\n",
    "by_month['month_prop'] = by_month['count']/by_month.month_sum*100\n",
    "\n",
    "plot_data = by_month.sort_values(by=['month_num', 'month_prop'], ascending=[True, False])\n",
    "fig = px.bar(plot_data, x='month', y='month_prop', color='category',\n",
    "             hover_data={'month_prop':':.2f',\n",
    "                         'count':':,'},\n",
    "             labels={'month':'Month', 'month_prop':'Percentage (%)', 'category':'Category'},\n",
    "             title='Proportion of incidents by category and calendar month',\n",
    "             template='simple_white')\n",
    "fig.update_layout(height=700)\n",
    "fig"
   ]
  },
  {
   "cell_type": "markdown",
   "id": "1523d57a-be6d-4b5f-821d-34edfa897a9d",
   "metadata": {},
   "source": [
    "Now, the following two plots are far more interesting as they indicates some clear patterns regarding when certain types of incidents are most likely to occur. For example, larceny/theft incidents spiked in the late morning from about 10am and again in the early evening/evening between 6pm and 8pm. Similarly:\n",
    "\n",
    "- burgleries typically occurred at night or in the early morning between 3am and 6am\n",
    "- vandalism (malicious mischief) typically occurred when it was darker between about 8pm and 6am the following morning\n",
    "- motor vehicle thefts were more prevalent in the evening from about 5pm onwards until midnight\n",
    "- fraud incidents were most likely to occur just after midnight\n",
    "- robberies between 4pm in the afternoon and 6am the following morning, and\n",
    "- drug offenses overwhelmingly in the daylight hours between 7am and 7pm."
   ]
  },
  {
   "cell_type": "code",
   "execution_count": 10,
   "id": "77339647-d655-406a-8a3f-9348cee23250",
   "metadata": {
    "execution": {
     "iopub.execute_input": "2023-08-27T11:19:04.203930Z",
     "iopub.status.busy": "2023-08-27T11:19:04.203639Z",
     "iopub.status.idle": "2023-08-27T11:19:04.477655Z",
     "shell.execute_reply": "2023-08-27T11:19:04.476918Z",
     "shell.execute_reply.started": "2023-08-27T11:19:04.203909Z"
    },
    "tags": []
   },
   "outputs": [
    {
     "data": {
      "text/html": [
       "<iframe\n",
       "    scrolling=\"no\"\n",
       "    width=\"100%\"\n",
       "    height=\"720\"\n",
       "    src=\"iframe_figures/figure_10.html\"\n",
       "    frameborder=\"0\"\n",
       "    allowfullscreen\n",
       "></iframe>\n"
      ]
     },
     "metadata": {},
     "output_type": "display_data"
    }
   ],
   "source": [
    "# add parts of the day\n",
    "incidents['part_of_day'] = np.where(incidents.hour < 5, 'night',\n",
    "                                    np.where((incidents.hour >= 5) & (incidents.hour < 8), 'early morning',\n",
    "                                    np.where((incidents.hour >= 8) & (incidents.hour < 11), 'morning',\n",
    "                                    np.where((incidents.hour >= 11) & (incidents.hour < 12), 'late morning',\n",
    "                                    np.where((incidents.hour >= 12) & (incidents.hour < 15), 'early afternoon',\n",
    "                                    np.where((incidents.hour >= 15) & (incidents.hour < 16), 'afternoon',\n",
    "                                    np.where((incidents.hour >= 16) & (incidents.hour < 17), 'late afternoon',\n",
    "                                    np.where((incidents.hour >= 17) & (incidents.hour < 19), 'early evening',\n",
    "                                    np.where((incidents.hour >= 19) & (incidents.hour < 21), 'evening',\n",
    "                                    np.where(incidents.hour >= 21, 'night', 'TBC'))))))))))\n",
    "\n",
    "part_of_day_dict = {'early morning': 1,\n",
    "                 'morning': 2,\n",
    "                 'late morning': 3,\n",
    "                 'early afternoon': 4,\n",
    "                 'afternoon': 5,\n",
    "                 'late afternoon': 6,\n",
    "                 'early evening': 7,\n",
    "                 'evening': 8,\n",
    "                 'night': 9}\n",
    "incidents['part_of_day_num'] = incidents.part_of_day.map(part_of_day_dict)\n",
    "\n",
    "by_part_of_day = pd.DataFrame(incidents.groupby(['part_of_day', 'part_of_day_num', 'category_new'])['id'].count())\n",
    "by_part_of_day.reset_index(inplace=True)\n",
    "by_part_of_day.columns = ['part_of_day', 'part_of_day_num', 'category', 'count']\n",
    "by_part_of_day['day_sum'] = by_part_of_day.groupby('part_of_day')['count'].transform('sum')\n",
    "by_part_of_day['total_prop'] = by_part_of_day['count']/incidents.shape[0]*100\n",
    "by_part_of_day['part_prop'] = by_part_of_day['count']/by_part_of_day.day_sum*100\n",
    "\n",
    "plot_data = by_part_of_day.sort_values(by=['part_of_day_num', 'part_prop'], ascending=[True, False])\n",
    "fig = px.bar(plot_data, x='part_of_day', y='part_prop', color='category',\n",
    "             hover_data={'part_prop':':.2f',\n",
    "                         'count':':,'},\n",
    "             labels={'part_of_day':'Hour', 'part_prop':'Percentage (%)', 'category':'Category'},\n",
    "             title='Proportion of incidents by category and part of the day',\n",
    "             template='simple_white')\n",
    "fig.update_layout(height=700)\n",
    "fig"
   ]
  },
  {
   "cell_type": "code",
   "execution_count": 11,
   "id": "5a206bf7-4590-4a3d-bdf3-43086122bef8",
   "metadata": {
    "execution": {
     "iopub.execute_input": "2023-08-27T11:19:04.479166Z",
     "iopub.status.busy": "2023-08-27T11:19:04.478801Z",
     "iopub.status.idle": "2023-08-27T11:19:04.766185Z",
     "shell.execute_reply": "2023-08-27T11:19:04.765634Z",
     "shell.execute_reply.started": "2023-08-27T11:19:04.479136Z"
    },
    "tags": []
   },
   "outputs": [
    {
     "data": {
      "text/html": [
       "<iframe\n",
       "    scrolling=\"no\"\n",
       "    width=\"100%\"\n",
       "    height=\"720\"\n",
       "    src=\"iframe_figures/figure_11.html\"\n",
       "    frameborder=\"0\"\n",
       "    allowfullscreen\n",
       "></iframe>\n"
      ]
     },
     "metadata": {},
     "output_type": "display_data"
    }
   ],
   "source": [
    "by_hour = pd.DataFrame(incidents.groupby(['hour', 'category_new'])['id'].count())\n",
    "by_hour.reset_index(inplace=True)\n",
    "by_hour.columns = ['hour', 'category', 'count']\n",
    "by_hour['day_sum'] = by_hour.groupby('hour')['count'].transform('sum')\n",
    "by_hour['total_prop'] = by_hour['count']/incidents.shape[0]*100\n",
    "by_hour['hour_prop'] = by_hour['count']/by_hour.day_sum*100\n",
    "\n",
    "plot_data = by_hour.sort_values(by=['hour', 'hour_prop'], ascending=[True, False])\n",
    "fig = px.bar(plot_data, x='hour', y='hour_prop', color='category',\n",
    "             hover_data={'hour_prop':':.2f',\n",
    "                         'count':':,'},\n",
    "             labels={'hour':'Hour', 'hour_prop':'Percentage (%)', 'category':'Category'},\n",
    "             title='Proportion of incidents by category and hour',\n",
    "             template='simple_white')\n",
    "fig.update_layout(height=700)\n",
    "fig"
   ]
  },
  {
   "cell_type": "code",
   "execution_count": 12,
   "id": "3ba410c1-2484-4bee-b321-d4cf355e6fa5",
   "metadata": {
    "execution": {
     "iopub.execute_input": "2023-08-27T11:19:04.767292Z",
     "iopub.status.busy": "2023-08-27T11:19:04.767024Z",
     "iopub.status.idle": "2023-08-27T11:19:04.990020Z",
     "shell.execute_reply": "2023-08-27T11:19:04.989475Z",
     "shell.execute_reply.started": "2023-08-27T11:19:04.767273Z"
    },
    "tags": []
   },
   "outputs": [
    {
     "data": {
      "text/html": [
       "<iframe\n",
       "    scrolling=\"no\"\n",
       "    width=\"100%\"\n",
       "    height=\"720\"\n",
       "    src=\"iframe_figures/figure_12.html\"\n",
       "    frameborder=\"0\"\n",
       "    allowfullscreen\n",
       "></iframe>\n"
      ]
     },
     "metadata": {},
     "output_type": "display_data"
    }
   ],
   "source": [
    "by_police_district = pd.DataFrame(incidents.groupby(['police_district', 'category_new'])['id'].count())\n",
    "by_police_district.reset_index(inplace=True)\n",
    "by_police_district.columns = ['district', 'category', 'count']\n",
    "by_police_district['district_sum'] = by_police_district.groupby('district')['count'].transform('sum')\n",
    "by_police_district['district_prop'] = by_police_district['count']/by_police_district.district_sum*100\n",
    "\n",
    "plot_data = by_police_district.sort_values(by=['district', 'district_prop'], ascending=[True, False])\n",
    "fig = px.bar(plot_data, x='district', y='district_prop', color='category',\n",
    "             hover_data={'district_prop':':.2f',\n",
    "                         'count':':,'},\n",
    "             labels={'district':'Police District', 'district_prop':'Percentage (%)', 'category':'Category'},\n",
    "             title='Proportion of incidents by category and police district',\n",
    "             template='simple_white')\n",
    "fig.update_layout(height=700)\n",
    "fig"
   ]
  },
  {
   "cell_type": "code",
   "execution_count": 13,
   "id": "1d243494-105c-4958-b099-6b4ccf8a354b",
   "metadata": {
    "execution": {
     "iopub.execute_input": "2023-08-27T11:19:04.991075Z",
     "iopub.status.busy": "2023-08-27T11:19:04.990859Z",
     "iopub.status.idle": "2023-08-27T11:19:05.208680Z",
     "shell.execute_reply": "2023-08-27T11:19:05.208125Z",
     "shell.execute_reply.started": "2023-08-27T11:19:04.991056Z"
    },
    "tags": []
   },
   "outputs": [
    {
     "data": {
      "text/html": [
       "<iframe\n",
       "    scrolling=\"no\"\n",
       "    width=\"100%\"\n",
       "    height=\"720\"\n",
       "    src=\"iframe_figures/figure_13.html\"\n",
       "    frameborder=\"0\"\n",
       "    allowfullscreen\n",
       "></iframe>\n"
      ]
     },
     "metadata": {},
     "output_type": "display_data"
    }
   ],
   "source": [
    "by_supervisor_district = pd.DataFrame(incidents.groupby(['supervisor_district', 'category_new'])['id'].count())\n",
    "by_supervisor_district.reset_index(inplace=True)\n",
    "by_supervisor_district.columns = ['district', 'category', 'count']\n",
    "by_supervisor_district['district_sum'] = by_supervisor_district.groupby('district')['count'].transform('sum')\n",
    "by_supervisor_district['district_prop'] = by_supervisor_district['count']/by_supervisor_district.district_sum*100\n",
    "\n",
    "plot_data = by_supervisor_district.sort_values(by=['district', 'district_prop'], ascending=[True, False])\n",
    "fig = px.bar(plot_data, x='district', y='district_prop', color='category',\n",
    "             hover_data={'district_prop':':.2f',\n",
    "                         'count':':,'},\n",
    "             labels={'district':'Supervisor District', 'district_prop':'Percentage (%)', 'category':'Category'},\n",
    "             title='Proportion of incidents by category and supervisor district',\n",
    "             template='simple_white')\n",
    "fig.update_layout(height=700)\n",
    "fig"
   ]
  },
  {
   "cell_type": "code",
   "execution_count": 14,
   "id": "4ede305a-8e87-41dd-b8e5-8194dd8fc89f",
   "metadata": {
    "execution": {
     "iopub.execute_input": "2023-08-27T11:19:05.209849Z",
     "iopub.status.busy": "2023-08-27T11:19:05.209620Z",
     "iopub.status.idle": "2023-08-27T11:19:05.453393Z",
     "shell.execute_reply": "2023-08-27T11:19:05.452815Z",
     "shell.execute_reply.started": "2023-08-27T11:19:05.209829Z"
    },
    "tags": []
   },
   "outputs": [
    {
     "data": {
      "text/html": [
       "<iframe\n",
       "    scrolling=\"no\"\n",
       "    width=\"100%\"\n",
       "    height=\"720\"\n",
       "    src=\"iframe_figures/figure_14.html\"\n",
       "    frameborder=\"0\"\n",
       "    allowfullscreen\n",
       "></iframe>\n"
      ]
     },
     "metadata": {},
     "output_type": "display_data"
    }
   ],
   "source": [
    "by_neighbourhood = pd.DataFrame(incidents.groupby(['analysis_neighborhood', 'neighborhoods', 'category_new'])['id'].count())\n",
    "by_neighbourhood.reset_index(inplace=True)\n",
    "by_neighbourhood.columns = ['name', 'id', 'category', 'count']\n",
    "by_neighbourhood['neighbourhood_sum'] = by_neighbourhood.groupby('name')['count'].transform('sum')\n",
    "by_neighbourhood['neighbourhood_prop'] = by_neighbourhood['count']/by_neighbourhood.neighbourhood_sum*100\n",
    "\n",
    "plot_data = by_neighbourhood.sort_values(by=['name', 'neighbourhood_prop'], ascending=[True, False])\n",
    "fig = px.bar(plot_data, x='name', y='neighbourhood_prop', color='category',\n",
    "             hover_data={'neighbourhood_prop':':.2f',\n",
    "                         'count':':,'},\n",
    "             labels={'name':'Neighbourhood', 'neighbourhood_prop':'Percentage (%)', 'category':'Category'},\n",
    "             title='Proportion of incidents by category and neighbourhood',\n",
    "             template='simple_white')\n",
    "fig.update_layout(height=700)\n",
    "fig"
   ]
  },
  {
   "cell_type": "code",
   "execution_count": null,
   "id": "9f3fe501-1947-475c-b307-04e980156bc2",
   "metadata": {},
   "outputs": [],
   "source": []
  }
 ],
 "metadata": {
  "kernelspec": {
   "display_name": "saturn (Python 3)",
   "language": "python",
   "name": "python3"
  },
  "language_info": {
   "codemirror_mode": {
    "name": "ipython",
    "version": 3
   },
   "file_extension": ".py",
   "mimetype": "text/x-python",
   "name": "python",
   "nbconvert_exporter": "python",
   "pygments_lexer": "ipython3",
   "version": "3.9.17"
  }
 },
 "nbformat": 4,
 "nbformat_minor": 5
}
