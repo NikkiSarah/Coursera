{
 "cells": [
  {
   "cell_type": "markdown",
   "metadata": {},
   "source": [
    "# C3M2: Peer Reviewed Assignment"
   ]
  },
  {
   "cell_type": "markdown",
   "metadata": {},
   "source": [
    "### Outline:\n",
    "The objectives for this assignment:\n",
    "\n",
    "1. Apply Poisson Regression to real data.\n",
    "2. Learn and practice working with and interpreting Poisson Regression Models.\n",
    "3. Understand deviance and how to conduct hypothesis tests with Poisson Regression.\n",
    "4. Recognize when a model shows signs of overdispersion.\n",
    "\n",
    "General tips:\n",
    "\n",
    "1. Read the questions carefully to understand what is being asked.\n",
    "2. This work will be reviewed by another human, so make sure that you are clear and concise in what your explanations and answers."
   ]
  },
  {
   "cell_type": "code",
   "execution_count": 82,
   "metadata": {},
   "outputs": [],
   "source": [
    "# Load the required packages\n",
    "library(MASS)\n",
    "library(ggplot2)"
   ]
  },
  {
   "cell_type": "markdown",
   "metadata": {},
   "source": [
    "# Problem 1: Poisson Estimators\n",
    "\n",
    "Let $Y_1,...,Y_n \\overset{i}{\\sim} Poisson(\\lambda_i)$. Show that, if $\\eta_i = \\beta_0$, then the maximum likelihood estimator of $\\lambda_i$ is $\\widehat\\lambda_i = \\bar{Y}$, for all $i=1,...,n$."
   ]
  },
  {
   "cell_type": "markdown",
   "metadata": {},
   "source": [
    "In a Poisson distribution, the probability mass function (pmf) is given by: $P(Y_i = y_i | \\lambda_i = \\frac{e^{-\\lambda_i}\\lambda_i^{y_i}}{y_i!})$ where $Y_i$ is a random variable representing the count of events for the $i$-th observation, and $\\lambda_i$ is the parameter of the poisson distribution for that observation.\n",
    "\n",
    "Given $Y_1, Y_2,\\dots,Y_n$ independent and iid poisson random variables with parameters $\\lambda_1, \\lambda_2,\\dots,\\lambda_n$, the likelihood function is the product of the individual pmfs: $L(\\lambda_1, \\lambda_2,\\dots,\\lambda_n) = \\Pi^n_{i=1}P(Y_i|\\lambda_i)$\n",
    "\n",
    "So, $L(\\lambda_1, \\lambda_2,\\dots,\\lambda_n) = \\Pi^n_{i=1}\\frac{e^{-\\lambda_i}\\lambda_i^{y_i}}{y_i!}$\n",
    "\n",
    "And, $ln\\:L(\\lambda_1, \\lambda_2,\\dots,\\lambda_n) = \\sum^n_{i=1}(\\lambda_i + y_i\\:ln(\\lambda_i) - ln(y_i!))$\n",
    "\n",
    "If we take the partial derivative with respect to $\\lambda_i$: $\\frac{\\partial\\:ln\\:L}{\\partial\\:\\lambda_i} = -1 + \\frac{y_i}{\\lambda_i}$\n",
    "\n",
    "And set the derivative to 0 to find the maximum likelihood estimator: $-1 + \\frac{y_i}{\\hat \\lambda_i} = 0$\n",
    "\n",
    "Finally, if we solve for $\\hat \\lambda_i$, we get $\\hat \\lambda_i = y_i$"
   ]
  },
  {
   "cell_type": "markdown",
   "metadata": {},
   "source": [
    "# Problem 2: Ships data\n",
    "\n",
    "The ships dataset gives the number of damage incidents and aggregate months of service for different types of ships broken down by year of construction and period of operation. \n",
    "\n",
    "The code below splits the data into a training set (80% of the data) and a test set (the remaining 20%)."
   ]
  },
  {
   "cell_type": "code",
   "execution_count": 83,
   "metadata": {},
   "outputs": [
    {
     "data": {
      "text/html": [
       "<table>\n",
       "<caption>A data.frame: 6 × 5</caption>\n",
       "<thead>\n",
       "\t<tr><th></th><th scope=col>type</th><th scope=col>year</th><th scope=col>period</th><th scope=col>service</th><th scope=col>incidents</th></tr>\n",
       "\t<tr><th></th><th scope=col>&lt;fct&gt;</th><th scope=col>&lt;fct&gt;</th><th scope=col>&lt;fct&gt;</th><th scope=col>&lt;int&gt;</th><th scope=col>&lt;int&gt;</th></tr>\n",
       "</thead>\n",
       "<tbody>\n",
       "\t<tr><th scope=row>40</th><td>E</td><td>75</td><td>75</td><td> 542</td><td>1</td></tr>\n",
       "\t<tr><th scope=row>28</th><td>D</td><td>65</td><td>75</td><td> 192</td><td>0</td></tr>\n",
       "\t<tr><th scope=row>18</th><td>C</td><td>60</td><td>75</td><td> 552</td><td>1</td></tr>\n",
       "\t<tr><th scope=row>19</th><td>C</td><td>65</td><td>60</td><td> 781</td><td>0</td></tr>\n",
       "\t<tr><th scope=row>5</th><td>A</td><td>70</td><td>60</td><td>1512</td><td>6</td></tr>\n",
       "\t<tr><th scope=row>32</th><td>D</td><td>75</td><td>75</td><td>2051</td><td>4</td></tr>\n",
       "</tbody>\n",
       "</table>\n"
      ],
      "text/latex": [
       "A data.frame: 6 × 5\n",
       "\\begin{tabular}{r|lllll}\n",
       "  & type & year & period & service & incidents\\\\\n",
       "  & <fct> & <fct> & <fct> & <int> & <int>\\\\\n",
       "\\hline\n",
       "\t40 & E & 75 & 75 &  542 & 1\\\\\n",
       "\t28 & D & 65 & 75 &  192 & 0\\\\\n",
       "\t18 & C & 60 & 75 &  552 & 1\\\\\n",
       "\t19 & C & 65 & 60 &  781 & 0\\\\\n",
       "\t5 & A & 70 & 60 & 1512 & 6\\\\\n",
       "\t32 & D & 75 & 75 & 2051 & 4\\\\\n",
       "\\end{tabular}\n"
      ],
      "text/markdown": [
       "\n",
       "A data.frame: 6 × 5\n",
       "\n",
       "| <!--/--> | type &lt;fct&gt; | year &lt;fct&gt; | period &lt;fct&gt; | service &lt;int&gt; | incidents &lt;int&gt; |\n",
       "|---|---|---|---|---|---|\n",
       "| 40 | E | 75 | 75 |  542 | 1 |\n",
       "| 28 | D | 65 | 75 |  192 | 0 |\n",
       "| 18 | C | 60 | 75 |  552 | 1 |\n",
       "| 19 | C | 65 | 60 |  781 | 0 |\n",
       "| 5 | A | 70 | 60 | 1512 | 6 |\n",
       "| 32 | D | 75 | 75 | 2051 | 4 |\n",
       "\n"
      ],
      "text/plain": [
       "   type year period service incidents\n",
       "40 E    75   75      542    1        \n",
       "28 D    65   75      192    0        \n",
       "18 C    60   75      552    1        \n",
       "19 C    65   60      781    0        \n",
       "5  A    70   60     1512    6        \n",
       "32 D    75   75     2051    4        "
      ]
     },
     "metadata": {},
     "output_type": "display_data"
    },
    {
     "data": {
      "text/plain": [
       " type  year   period     service          incidents    \n",
       " A:5   60:7   60:11   Min.   :   45.0   Min.   : 0.00  \n",
       " B:5   65:8   75:16   1st Qu.:  318.5   1st Qu.: 0.50  \n",
       " C:6   70:8           Median : 1095.0   Median : 2.00  \n",
       " D:7   75:4           Mean   : 5012.2   Mean   :10.63  \n",
       " E:4                  3rd Qu.: 2202.5   3rd Qu.:11.50  \n",
       "                      Max.   :44882.0   Max.   :58.00  "
      ]
     },
     "metadata": {},
     "output_type": "display_data"
    }
   ],
   "source": [
    "data(ships)\n",
    "ships = ships[ships$service != 0,]\n",
    "ships$year = as.factor(ships$year)\n",
    "ships$period = as.factor(ships$period)\n",
    "\n",
    "set.seed(11)\n",
    "n = floor(0.8 * nrow(ships))\n",
    "index = sample(seq_len(nrow(ships)), size = n)\n",
    "\n",
    "train = ships[index, ]\n",
    "test = ships[-index, ]\n",
    "head(train)\n",
    "summary(train)"
   ]
  },
  {
   "cell_type": "markdown",
   "metadata": {},
   "source": [
    "### 2. (a) Poisson Regression Fitting\n",
    "\n",
    "Use the training set to develop an appropriate regression model for `incidents`, using `type`, `period`, and `year` as predictors (HINT: is this a count model or a rate model?).\n",
    "\n",
    "Calculate the mean squared prediction error (MSPE) for the test set. Display your results."
   ]
  },
  {
   "cell_type": "code",
   "execution_count": 84,
   "metadata": {},
   "outputs": [
    {
     "data": {
      "text/plain": [
       "\n",
       "Call:  glm(formula = incidents ~ . - service, family = poisson, data = train)\n",
       "\n",
       "Coefficients:\n",
       "(Intercept)        typeB        typeC        typeD        typeE       year65  \n",
       "     1.5644       1.6795      -2.0789      -1.1551      -0.5113       0.4379  \n",
       "     year70       year75     period75  \n",
       "     0.2260       0.1436       0.4123  \n",
       "\n",
       "Degrees of Freedom: 26 Total (i.e. Null);  18 Residual\n",
       "Null Deviance:\t    554.7 \n",
       "Residual Deviance: 109.2 \tAIC: 200.9"
      ]
     },
     "metadata": {},
     "output_type": "display_data"
    }
   ],
   "source": [
    "mod <- glm(incidents ~ .-service, data = train, family = poisson)\n",
    "mod"
   ]
  },
  {
   "cell_type": "code",
   "execution_count": 85,
   "metadata": {},
   "outputs": [
    {
     "name": "stdout",
     "output_type": "stream",
     "text": [
      "[1] \"The mean squared prediction error for the test set is: 131.0776\"\n"
     ]
    }
   ],
   "source": [
    "preds <- predict(mod, newdata = test, type = \"response\")\n",
    "actuals <- test$incidents\n",
    "\n",
    "mse_test <- mean((actuals - preds) ** 2)\n",
    "print(paste0(\"The mean squared prediction error for the test set is: \", round(mse_test, 4)))"
   ]
  },
  {
   "cell_type": "markdown",
   "metadata": {},
   "source": [
    "### 2. (b) Poisson Regression Model Selection\n",
    "\n",
    "Do we really need all of these predictors? Construct a new regression model leaving out `year` and calculate the MSE for this second model. \n",
    "\n",
    "Decide which model is better. Explain why you chose the model that you did."
   ]
  },
  {
   "cell_type": "code",
   "execution_count": 86,
   "metadata": {},
   "outputs": [
    {
     "data": {
      "text/plain": [
       "\n",
       "Call:  glm(formula = incidents ~ type + period, family = poisson, data = train)\n",
       "\n",
       "Coefficients:\n",
       "(Intercept)        typeB        typeC        typeD        typeE     period75  \n",
       "     1.7190       1.7831      -2.0573      -1.1281      -0.4831       0.4723  \n",
       "\n",
       "Degrees of Freedom: 26 Total (i.e. Null);  21 Residual\n",
       "Null Deviance:\t    554.7 \n",
       "Residual Deviance: 115.6 \tAIC: 201.3"
      ]
     },
     "metadata": {},
     "output_type": "display_data"
    }
   ],
   "source": [
    "mod2 <- glm(incidents ~ type + period, data = train, family = poisson)\n",
    "mod2"
   ]
  },
  {
   "cell_type": "code",
   "execution_count": 87,
   "metadata": {},
   "outputs": [
    {
     "name": "stdout",
     "output_type": "stream",
     "text": [
      "[1] \"The mean squared prediction error for the test set is: 275.1226\"\n"
     ]
    }
   ],
   "source": [
    "preds <- predict(mod2, newdata = test, type = \"response\")\n",
    "actuals <- test$incidents\n",
    "\n",
    "mse_test <- mean((actuals - preds) ** 2)\n",
    "print(paste0(\"The mean squared prediction error for the test set is: \", round(mse_test, 4)))"
   ]
  },
  {
   "cell_type": "code",
   "execution_count": 88,
   "metadata": {},
   "outputs": [
    {
     "data": {
      "text/html": [
       "0.0929203838345225"
      ],
      "text/latex": [
       "0.0929203838345225"
      ],
      "text/markdown": [
       "0.0929203838345225"
      ],
      "text/plain": [
       "[1] 0.09292038"
      ]
     },
     "metadata": {},
     "output_type": "display_data"
    }
   ],
   "source": [
    "# Can compare nested poisson models with a chi-squared\n",
    "deviance_delta <- summary(mod2)$deviance - summary(mod)$deviance\n",
    "df_delta <- summary(mod2)$df.resid - summary(mod)$df.resid\n",
    "\n",
    "pchisq(deviance_delta, df_delta, lower.tail = FALSE)"
   ]
  },
  {
   "cell_type": "markdown",
   "metadata": {},
   "source": [
    "According to the chi-squared test, at the 5% significance level, we fail to reject the null hypothesis and conclude that the `year` variable is not statistically significant. Hence, we also conclude that the model with just `type` and `period` fits well enough. This appears to be slightly contradictory to the the difference in the mean squared errors on the test dataset, which are 144.05 units different. Therefore, if the end-use of the model is for prediction then I must choose the first model irrespective of the chi-squared test results."
   ]
  },
  {
   "cell_type": "markdown",
   "metadata": {},
   "source": [
    "### 2. (c) Deviance\n",
    "\n",
    "How do we determine if our model is explaining anything? With linear regression, we had a F-test, but we can't do that for Poisson Regression. If we want to check if our model is better than the null model, then we're going to have to check directly. In particular, we need to compare the deviances of the models to see if they're significantly different.\n",
    "\n",
    "Conduct two $\\chi^2$ tests (using the deviance). Let $\\alpha = 0.05$: \n",
    "\n",
    "1. Test the adequacy of null model.\n",
    "\n",
    "2. Test the adequacy of your chosen model agaisnt the saturated model (the model fit to all predictors). \n",
    "\n",
    "What conclusions should you draw from these tests?"
   ]
  },
  {
   "cell_type": "code",
   "execution_count": 89,
   "metadata": {},
   "outputs": [
    {
     "data": {
      "text/plain": [
       "\n",
       "Call:  glm(formula = incidents ~ 1, family = poisson, data = train)\n",
       "\n",
       "Coefficients:\n",
       "(Intercept)  \n",
       "      2.364  \n",
       "\n",
       "Degrees of Freedom: 26 Total (i.e. Null);  26 Residual\n",
       "Null Deviance:\t    554.7 \n",
       "Residual Deviance: 554.7 \tAIC: 630.4"
      ]
     },
     "metadata": {},
     "output_type": "display_data"
    },
    {
     "name": "stdout",
     "output_type": "stream",
     "text": [
      "[1] \"Null model chi-squared test p-value: 1.5950789625333e-100\"\n"
     ]
    },
    {
     "data": {
      "text/plain": [
       "\n",
       "Call:  glm(formula = incidents ~ ., family = poisson, data = train)\n",
       "\n",
       "Coefficients:\n",
       "(Intercept)        typeB        typeC        typeD        typeE       year65  \n",
       " -1.2619390   -0.2351831   -1.7277785   -0.8340264   -0.4230541    2.2424975  \n",
       "     year70       year75     period75      service  \n",
       "  2.9910064    2.2365673    0.8557250    0.0001153  \n",
       "\n",
       "Degrees of Freedom: 26 Total (i.e. Null);  17 Residual\n",
       "Null Deviance:\t    554.7 \n",
       "Residual Deviance: 27.82 \tAIC: 121.5"
      ]
     },
     "metadata": {},
     "output_type": "display_data"
    },
    {
     "name": "stdout",
     "output_type": "stream",
     "text": [
      "[1] \"Chosen vs null model chi-squared test p-value: 1.85320875968548e-19\"\n"
     ]
    }
   ],
   "source": [
    "# Test the adequacy of the null model\n",
    "null_mod <- glm(incidents ~ 1, data = train, family = poisson)\n",
    "null_mod\n",
    "\n",
    "chi_sq <- pchisq(summary(null_mod)$deviance, summary(null_mod)$df.resid, lower.tail = FALSE)\n",
    "print(paste0(\"Null model chi-squared test p-value: \", chi_sq))\n",
    "\n",
    "# Test against the saturated model\n",
    "sat_mod <- glm(incidents ~., data = train, family = poisson)\n",
    "sat_mod\n",
    "\n",
    "deviance_delta <- summary(mod)$deviance - summary(sat_mod)$deviance\n",
    "df_delta <- summary(mod)$df.resid - summary(sat_mod)$df.resid\n",
    "\n",
    "chi_sq <- pchisq(deviance_delta, df_delta, lower.tail = FALSE)\n",
    "print(paste0(\"Chosen vs null model chi-squared test p-value: \", chi_sq))"
   ]
  },
  {
   "cell_type": "markdown",
   "metadata": {},
   "source": [
    "We get a statistically significant result from both tests, indicating that the chosen model is better than the null model, but worse than the saturated model."
   ]
  },
  {
   "cell_type": "markdown",
   "metadata": {},
   "source": [
    "### 2. (d) Poisson Regression Visualizations\n",
    "\n",
    "Just like with linear regression, we can use visualizations to assess the fit and appropriateness of our model. Is it maintaining the assumptions that it should be? Is there a discernable structure that isn't being accounted for? And, again like linear regression, it can be up to the user's interpretation what is an isn't a good model.\n",
    "\n",
    "Plot the deviance residuals against the linear predictor $\\eta$. Interpret this plot."
   ]
  },
  {
   "cell_type": "code",
   "execution_count": 61,
   "metadata": {},
   "outputs": [
    {
     "name": "stderr",
     "output_type": "stream",
     "text": [
      "`geom_smooth()` using formula 'y ~ x'\n",
      "\n"
     ]
    },
    {
     "data": {
      "image/png": "[encoded data removed]",
      "text/plain": [
       "plot without title"
      ]
     },
     "metadata": {
      "image/png": {
       "height": 420,
       "width": 420
      },
      "text/plain": {
       "height": 420,
       "width": 420
      }
     },
     "output_type": "display_data"
    }
   ],
   "source": [
    "options(repr.plot.width = 7, repr.plot.height = 7)\n",
    "p1 <- ggplot(glm_mod, aes(.fitted, .resid)) +\n",
    "    geom_point() +\n",
    "    geom_hline(yintercept = 0.0, col = \"grey\", linetype = \"dashed\") +\n",
    "    stat_smooth(method = \"loess\") +\n",
    "    labs(x = \"Fitted values\", y = \"Deviance residuals\") +\n",
    "    theme_classic()\n",
    "p1"
   ]
  },
  {
   "cell_type": "markdown",
   "metadata": {},
   "source": [
    "Deviance residuals should follow an approximate standard normal distribution. This plot shows only minor deviation from that assumption, which is confirmed by the calculation of an estimated deviance parameter."
   ]
  },
  {
   "cell_type": "code",
   "execution_count": 64,
   "metadata": {},
   "outputs": [
    {
     "data": {
      "text/html": [
       "5.47049561223492"
      ],
      "text/latex": [
       "5.47049561223492"
      ],
      "text/markdown": [
       "5.47049561223492"
      ],
      "text/plain": [
       "[1] 5.470496"
      ]
     },
     "metadata": {},
     "output_type": "display_data"
    }
   ],
   "source": [
    "dp = sum(residuals(glm_mod, type = \"pearson\")^2) / glm_mod$df.res\n",
    "dp"
   ]
  },
  {
   "cell_type": "markdown",
   "metadata": {},
   "source": [
    "### 2. (e) Overdispersion\n",
    "\n",
    "For linear regression, the variance of the data is controlled through the standard deviation $\\sigma$, which is independent of the other parameters like the mean $\\mu$. However, some GLMs do not have this independence, which can lead to a problem called overdispersion. Overdispersion occurs when the observed data's variance is higher than expected, if the model is correct. \n",
    "\n",
    "For Poisson Regression, we expect that the mean of the data should equal the variance. If overdispersion is present, then the assumptions of the model are not being met and we can not trust its output (or our beloved p-values)!\n",
    "\n",
    "Explore the two models fit in the beginning of this question for evidence of overdisperion. If you find evidence of overdispersion, you do not need to fix it (but it would be useful for you to know how to). Describe your process and conclusions."
   ]
  },
  {
   "cell_type": "code",
   "execution_count": 90,
   "metadata": {},
   "outputs": [
    {
     "data": {
      "text/plain": [
       "\n",
       "Call:\n",
       "glm(formula = incidents ~ . - service, family = poisson, data = train)\n",
       "\n",
       "Deviance Residuals: \n",
       "    Min       1Q   Median       3Q      Max  \n",
       "-4.0775  -1.9869  -0.0418   0.7612   3.6618  \n",
       "\n",
       "Coefficients:\n",
       "            Estimate Std. Error z value Pr(>|z|)    \n",
       "(Intercept)   1.5644     0.2199   7.113 1.13e-12 ***\n",
       "typeB         1.6795     0.1889   8.889  < 2e-16 ***\n",
       "typeC        -2.0789     0.4408  -4.717 2.40e-06 ***\n",
       "typeD        -1.1551     0.2930  -3.943 8.06e-05 ***\n",
       "typeE        -0.5113     0.2781  -1.839   0.0660 .  \n",
       "year65        0.4379     0.1885   2.324   0.0201 *  \n",
       "year70        0.2260     0.1916   1.180   0.2382    \n",
       "year75        0.1436     0.3147   0.456   0.6481    \n",
       "period75      0.4123     0.1282   3.216   0.0013 ** \n",
       "---\n",
       "Signif. codes:  0 ‘***’ 0.001 ‘**’ 0.01 ‘*’ 0.05 ‘.’ 0.1 ‘ ’ 1\n",
       "\n",
       "(Dispersion parameter for poisson family taken to be 1)\n",
       "\n",
       "    Null deviance: 554.70  on 26  degrees of freedom\n",
       "Residual deviance: 109.21  on 18  degrees of freedom\n",
       "AIC: 200.92\n",
       "\n",
       "Number of Fisher Scoring iterations: 6\n"
      ]
     },
     "metadata": {},
     "output_type": "display_data"
    },
    {
     "name": "stdout",
     "output_type": "stream",
     "text": [
      "[1] \"-----\"\n"
     ]
    },
    {
     "data": {
      "text/plain": [
       "\n",
       "Call:\n",
       "glm(formula = incidents ~ type + period, family = poisson, data = train)\n",
       "\n",
       "Deviance Residuals: \n",
       "    Min       1Q   Median       3Q      Max  \n",
       "-4.2377  -1.9003  -0.1372   0.6377   3.8906  \n",
       "\n",
       "Coefficients:\n",
       "            Estimate Std. Error z value Pr(>|z|)    \n",
       "(Intercept)   1.7190     0.1838   9.355  < 2e-16 ***\n",
       "typeB         1.7831     0.1781  10.014  < 2e-16 ***\n",
       "typeC        -2.0573     0.4394  -4.683 2.83e-06 ***\n",
       "typeD        -1.1281     0.2918  -3.866 0.000111 ***\n",
       "typeE        -0.4831     0.2767  -1.746 0.080787 .  \n",
       "period75      0.4723     0.1222   3.865 0.000111 ***\n",
       "---\n",
       "Signif. codes:  0 ‘***’ 0.001 ‘**’ 0.01 ‘*’ 0.05 ‘.’ 0.1 ‘ ’ 1\n",
       "\n",
       "(Dispersion parameter for poisson family taken to be 1)\n",
       "\n",
       "    Null deviance: 554.70  on 26  degrees of freedom\n",
       "Residual deviance: 115.63  on 21  degrees of freedom\n",
       "AIC: 201.34\n",
       "\n",
       "Number of Fisher Scoring iterations: 6\n"
      ]
     },
     "metadata": {},
     "output_type": "display_data"
    }
   ],
   "source": [
    "summary(mod)\n",
    "print('-----')\n",
    "summary(mod2)"
   ]
  },
  {
   "cell_type": "markdown",
   "metadata": {},
   "source": [
    "A common rule of thumb is that if the residual deviance is significantly greater than the degrees of freedom, then there could be overdispersion. So both models have overdispersion according to this RoT."
   ]
  },
  {
   "cell_type": "code",
   "execution_count": null,
   "metadata": {},
   "outputs": [],
   "source": []
  }
 ],
 "metadata": {
  "kernelspec": {
   "display_name": "R",
   "language": "R",
   "name": "ir"
  },
  "language_info": {
   "codemirror_mode": "r",
   "file_extension": ".r",
   "mimetype": "text/x-r-source",
   "name": "R",
   "pygments_lexer": "r",
   "version": "3.6.3"
  }
 },
 "nbformat": 4,
 "nbformat_minor": 4
}
