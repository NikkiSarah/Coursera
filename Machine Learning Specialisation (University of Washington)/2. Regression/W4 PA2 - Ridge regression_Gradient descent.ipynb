{
 "cells": [
  {
   "cell_type": "markdown",
   "metadata": {},
   "source": [
    "# Regression Week 4: Ridge Regression (gradient descent)"
   ]
  },
  {
   "cell_type": "markdown",
   "metadata": {},
   "source": [
    "In this notebook, you will implement ridge regression via gradient descent. You will:\n",
    "* Convert a dataframe into a Numpy array\n",
    "* Write a Numpy function to compute the derivative of the regression weights with respect to a single feature\n",
    "* Write gradient descent function to compute the regression weights given an initial weight vector, step size, tolerance, and L2 penalty"
   ]
  },
  {
   "cell_type": "markdown",
   "metadata": {},
   "source": [
    "### Load libraries"
   ]
  },
  {
   "cell_type": "code",
   "execution_count": 1,
   "metadata": {},
   "outputs": [],
   "source": [
    "import matplotlib.pyplot as plt\n",
    "import numpy as np\n",
    "import pandas as pd\n",
    "\n",
    "%matplotlib inline"
   ]
  },
  {
   "cell_type": "markdown",
   "metadata": {},
   "source": [
    "### Load in house sales data\n",
    "\n",
    "Dataset is from house sales in King County, the region where the city of Seattle, WA is located."
   ]
  },
  {
   "cell_type": "code",
   "execution_count": 2,
   "metadata": {},
   "outputs": [],
   "source": [
    "dtype_dict = {'bathrooms':float, 'waterfront':int, 'sqft_above':int, 'sqft_living15':float, 'grade':int,\n",
    "              'yr_renovated':int, 'price':float, 'bedrooms':float, 'zipcode':str, 'long':float, 'sqft_lot15':float,\n",
    "              'sqft_living':float, 'floors':str, 'condition':int, 'lat':float, 'date':str, 'sqft_basement':int,\n",
    "              'yr_built':int, 'id':str, 'sqft_lot':int, 'view':int}\n",
    "sales = pd.read_csv('kc_house_data.csv', dtype=dtype_dict)\n",
    "train_data = pd.read_csv('kc_house_train_data.csv', dtype=dtype_dict)\n",
    "test_data = pd.read_csv('kc_house_test_data.csv', dtype=dtype_dict)"
   ]
  },
  {
   "cell_type": "markdown",
   "metadata": {},
   "source": [
    "If we want to do any \"feature engineering\" like creating new features or adjusting existing ones we should do this directly using the SFrames as seen in the first notebook of Week 2. For this notebook, however, we will work with the existing features."
   ]
  },
  {
   "cell_type": "markdown",
   "metadata": {},
   "source": [
    "### Import useful functions from previous notebook"
   ]
  },
  {
   "cell_type": "markdown",
   "metadata": {},
   "source": [
    "As in Week 2, we convert the dataframe into a 2D Numpy array. Copy and paste `get_numpy_data()` from the second notebook of Week 2."
   ]
  },
  {
   "cell_type": "code",
   "execution_count": 3,
   "metadata": {},
   "outputs": [],
   "source": [
    "def get_numpy_data(dataframe, features, output):\n",
    "    dataframe['constant'] = 1\n",
    "    features = ['constant'] + features\n",
    "    features_frame = dataframe.loc[:, features]\n",
    "    feature_matrix = features_frame.to_numpy()\n",
    "    output_array = dataframe['price']\n",
    "    output_array = output_array.to_numpy()\n",
    "\n",
    "    return (feature_matrix, output_array)"
   ]
  },
  {
   "cell_type": "markdown",
   "metadata": {},
   "source": [
    "Also, copy and paste the `predict_output()` function to compute the predictions for an entire matrix of features given the matrix and the weights:"
   ]
  },
  {
   "cell_type": "code",
   "execution_count": 4,
   "metadata": {},
   "outputs": [],
   "source": [
    "def predict_output(feature_matrix, weights):\n",
    "    # assume feature_matrix is a numpy matrix containing the features as columns and weights is a corresponding\n",
    "    # numpy array\n",
    "    # create the predictions vector by using np.dot()\n",
    "    predictions = np.dot(feature_matrix, weights)\n",
    "    \n",
    "    return predictions"
   ]
  },
  {
   "cell_type": "markdown",
   "metadata": {},
   "source": [
    "### Computing the Derivative"
   ]
  },
  {
   "cell_type": "markdown",
   "metadata": {},
   "source": [
    "We are now going to move to computing the derivative of the regression cost function. Recall that the cost function is the sum over the data points of the squared difference between an observed output and a predicted output, plus the L2 penalty term.\n",
    "```\n",
    "Cost(w)\n",
    "= SUM[ (prediction - output)^2 ]\n",
    "+ l2_penalty*(w[0]^2 + w[1]^2 + ... + w[k]^2).\n",
    "```\n",
    "\n",
    "Since the derivative of a sum is the sum of the derivatives, we can take the derivative of the first part (the RSS) as we did in the notebook for the unregularized case in Week 2 and add the derivative of the regularisation part.  As we saw, the derivative of the RSS with respect to `w[i]` can be written as: \n",
    "```\n",
    "2*SUM[ error*[feature_i] ].\n",
    "```\n",
    "The derivative of the regularisation term with respect to `w[i]` is:\n",
    "```\n",
    "2*l2_penalty*w[i].\n",
    "```\n",
    "Summing both, we get\n",
    "```\n",
    "2*SUM[ error*[feature_i] ] + 2*l2_penalty*w[i].\n",
    "```\n",
    "That is, the derivative for the weight for feature i is the sum (over data points) of 2 times the product of the error and the feature itself, plus `2*l2_penalty*w[i]`. \n",
    "\n",
    "**We will not regularise the constant.**  Thus, in the case of the constant, the derivative is just twice the sum of the errors (without the `2*l2_penalty*w[0]` term).\n",
    "\n",
    "Recall that twice the sum of the product of two vectors is just twice the dot product of the two vectors. Therefore the derivative for the weight for feature_i is just two times the dot product between the values of feature_i and the current errors, plus `2*l2_penalty*w[i]`.\n",
    "\n",
    "With this in mind complete the following derivative function which computes the derivative of the weight given the value of the feature (over all data points) and the errors (over all data points).  To decide when to we are dealing with the constant (so we don't regularise it) we added the extra parameter to the call `feature_is_constant` which you should set to `True` when computing the derivative of the constant and `False` otherwise."
   ]
  },
  {
   "cell_type": "code",
   "execution_count": 5,
   "metadata": {},
   "outputs": [],
   "source": [
    "def feature_derivative_ridge(errors, feature, weight, l2_penalty, feature_is_constant):\n",
    "    # If feature_is_constant is True, derivative is twice the dot product of errors and feature\n",
    "    if feature_is_constant:\n",
    "        derivative = np.sum(2 * np.dot(errors, feature)) + 2*l2_penalty*weight\n",
    "        \n",
    "    # Otherwise, derivative is twice the dot product plus 2*l2_penalty*weight\n",
    "    else:\n",
    "        derivative = 2*np.dot(errors, feature) + 2*l2_penalty*weight\n",
    "    \n",
    "    return derivative"
   ]
  },
  {
   "cell_type": "markdown",
   "metadata": {},
   "source": [
    "To test your feature derivartive run the following:"
   ]
  },
  {
   "cell_type": "code",
   "execution_count": 6,
   "metadata": {},
   "outputs": [
    {
     "name": "stdout",
     "output_type": "stream",
     "text": [
      "-56554166815950.0\n",
      "-56554166815950.0\n",
      "\n",
      "-22446749328.0\n",
      "-22446749330.0\n"
     ]
    }
   ],
   "source": [
    "(example_features, example_output) = get_numpy_data(sales, ['sqft_living'], 'price') \n",
    "my_weights = np.array([1., 10.])\n",
    "test_predictions = predict_output(example_features, my_weights) \n",
    "errors = test_predictions - example_output # prediction errors\n",
    "\n",
    "# next two lines should print the same values\n",
    "print(feature_derivative_ridge(errors, example_features[:,1], my_weights[1], 1, False))\n",
    "print(np.sum(errors*example_features[:,1])*2+20.)\n",
    "print('')\n",
    "\n",
    "# next two lines should print the same values\n",
    "print(feature_derivative_ridge(errors, example_features[:,0], my_weights[0], 1, True))\n",
    "print(np.sum(errors)*2.)"
   ]
  },
  {
   "cell_type": "markdown",
   "metadata": {},
   "source": [
    "# Gradient Descent"
   ]
  },
  {
   "cell_type": "markdown",
   "metadata": {},
   "source": [
    "Now we will write a function that performs a gradient descent. The basic premise is simple. Given a starting point we update the current weights by moving in the negative gradient direction. Recall that the gradient is the direction of *increase* and therefore the negative gradient is the direction of *decrease* and we're trying to *minimize* a cost function. \n",
    "\n",
    "The amount by which we move in the negative gradient *direction*  is called the 'step size'. We stop when we are 'sufficiently close' to the optimum. Unlike in Week 2, this time we will set a **maximum number of iterations** and take gradient steps until we reach this maximum number. If no maximum number is supplied, the maximum should be set 100 by default. (Use default parameter values in Python.)\n",
    "\n",
    "With this in mind, complete the following gradient descent function below using your derivative function above. For each step in the gradient descent, we update the weight for each feature before computing our stopping criteria."
   ]
  },
  {
   "cell_type": "code",
   "execution_count": 7,
   "metadata": {},
   "outputs": [],
   "source": [
    "def ridge_regression_gradient_descent(feature_matrix, output, initial_weights, step_size, l2_penalty, max_iterations=100):\n",
    "    print('Starting gradient descent with l2_penalty = ' + str(l2_penalty))\n",
    "    \n",
    "    weights = np.array(initial_weights) # make sure it's a numpy array\n",
    "    iteration = 0 # iteration counter\n",
    "    print_frequency = 1  # for adjusting frequency of debugging output\n",
    "    \n",
    "    while not (iteration == max_iterations):\n",
    "        iteration += 1  # increment iteration counter\n",
    "        ### === code section for adjusting frequency of debugging output. ===\n",
    "        if iteration == 10:\n",
    "            print_frequency = 10\n",
    "        if iteration == 100:\n",
    "            print_frequency = 100\n",
    "        if iteration%print_frequency==0:\n",
    "            print('Iteration = ' + str(iteration))\n",
    "        ### === end code section ===\n",
    "        \n",
    "        # compute the predictions based on feature_matrix and weights using your predict_output() function\n",
    "        predictions = predict_output(feature_matrix, weights)\n",
    "        # compute the errors as predictions - output\n",
    "        errors = predictions - output\n",
    "        \n",
    "        # from time to time, print the value of the cost function\n",
    "        if iteration%print_frequency==0:\n",
    "            print('Cost function = ', str(np.dot(errors,errors) + l2_penalty*(np.dot(weights,weights) - weights[0]**2)))\n",
    "        \n",
    "        for i in range(len(weights)): # loop over each weight\n",
    "            # Recall that feature_matrix[:,i] is the feature column associated with weights[i]\n",
    "            # compute the derivative for weight[i].\n",
    "            #(Remember: when i=0, you are computing the derivative of the constant!)\n",
    "            if i == 0:\n",
    "                derivative = feature_derivative_ridge(errors, feature_matrix[:, i], weights[i], l2_penalty, True)\n",
    "            else:\n",
    "                derivative = feature_derivative_ridge(errors, feature_matrix[:, i], weights[i], l2_penalty, False)\n",
    "            # subtract the step size times the derivative from the current weight\n",
    "            weights[i] = weights[i] - step_size * derivative\n",
    "            \n",
    "    print('Done with gradient descent at iteration ', iteration)\n",
    "    print('Learned weights = ', str(weights))\n",
    "    \n",
    "    return weights"
   ]
  },
  {
   "cell_type": "markdown",
   "metadata": {},
   "source": [
    "### Visualising the effect of L2 penalty"
   ]
  },
  {
   "cell_type": "markdown",
   "metadata": {},
   "source": [
    "The L2 penalty gets its name because it causes weights to have small L2 norms than otherwise. Let's see how large weights get penalised. Let us consider a simple model with 1 feature:"
   ]
  },
  {
   "cell_type": "code",
   "execution_count": 8,
   "metadata": {},
   "outputs": [],
   "source": [
    "simple_features = ['sqft_living']\n",
    "my_output = 'price'"
   ]
  },
  {
   "cell_type": "markdown",
   "metadata": {},
   "source": [
    "In this part, we will only use `'sqft_living'` to predict `'price'`. Use the `get_numpy_data` function to get a Numpy versions of your data with only this feature, for both the `train_data` and the `test_data`. "
   ]
  },
  {
   "cell_type": "code",
   "execution_count": 9,
   "metadata": {},
   "outputs": [],
   "source": [
    "(simple_feature_matrix, output) = get_numpy_data(train_data, simple_features, my_output)\n",
    "(simple_test_feature_matrix, test_output) = get_numpy_data(test_data, simple_features, my_output)"
   ]
  },
  {
   "cell_type": "markdown",
   "metadata": {},
   "source": [
    "Let's set the parameters for our optimisation:"
   ]
  },
  {
   "cell_type": "code",
   "execution_count": 10,
   "metadata": {},
   "outputs": [],
   "source": [
    "initial_weights = np.array([0., 0.])\n",
    "step_size = 1e-12\n",
    "max_iterations=1000"
   ]
  },
  {
   "cell_type": "markdown",
   "metadata": {},
   "source": [
    "First, let's consider no regularisation.  Set the `l2_penalty` to `0.0` and run your ridge regression algorithm to learn the weights of your model.  Call your weights:\n",
    "\n",
    "`simple_weights_0_penalty`\n",
    "\n",
    "we'll use them later."
   ]
  },
  {
   "cell_type": "code",
   "execution_count": 11,
   "metadata": {},
   "outputs": [
    {
     "name": "stdout",
     "output_type": "stream",
     "text": [
      "Starting gradient descent with l2_penalty = 0.0\n",
      "Iteration = 1\n",
      "Cost function =  7433051852335772.0\n",
      "Iteration = 2\n",
      "Cost function =  5394267213533688.0\n",
      "Iteration = 3\n",
      "Cost function =  4023237736286403.5\n",
      "Iteration = 4\n",
      "Cost function =  3101256183295488.0\n",
      "Iteration = 5\n",
      "Cost function =  2481247643601011.5\n",
      "Iteration = 6\n",
      "Cost function =  2064308076801447.0\n",
      "Iteration = 7\n",
      "Cost function =  1783927096156440.5\n",
      "Iteration = 8\n",
      "Cost function =  1595378201854741.8\n",
      "Iteration = 9\n",
      "Cost function =  1468583989698184.5\n",
      "Iteration = 10\n",
      "Cost function =  1383318190090051.0\n",
      "Iteration = 20\n",
      "Cost function =  1211562139024524.5\n",
      "Iteration = 30\n",
      "Cost function =  1208313761205656.2\n",
      "Iteration = 40\n",
      "Cost function =  1208252324779675.5\n",
      "Iteration = 50\n",
      "Cost function =  1208251162139724.8\n",
      "Iteration = 60\n",
      "Cost function =  1208251139442068.0\n",
      "Iteration = 70\n",
      "Cost function =  1208251138303841.0\n",
      "Iteration = 80\n",
      "Cost function =  1208251137573361.5\n",
      "Iteration = 90\n",
      "Cost function =  1208251136850594.0\n",
      "Iteration = 100\n",
      "Cost function =  1208251136127972.8\n",
      "Iteration = 200\n",
      "Cost function =  1208251128901788.8\n",
      "Iteration = 300\n",
      "Cost function =  1208251121675613.2\n",
      "Iteration = 400\n",
      "Cost function =  1208251114449445.8\n",
      "Iteration = 500\n",
      "Cost function =  1208251107223286.5\n",
      "Iteration = 600\n",
      "Cost function =  1208251099997135.8\n",
      "Iteration = 700\n",
      "Cost function =  1208251092770992.8\n",
      "Iteration = 800\n",
      "Cost function =  1208251085544859.0\n",
      "Iteration = 900\n",
      "Cost function =  1208251078318733.0\n",
      "Iteration = 1000\n",
      "Cost function =  1208251071092615.0\n",
      "Done with gradient descent at iteration  1000\n",
      "Learned weights =  [-1.63113515e-01  2.63024369e+02]\n"
     ]
    }
   ],
   "source": [
    "simple_weights_0_penalty = ridge_regression_gradient_descent(feature_matrix=simple_feature_matrix,\n",
    "                                                             output=output,\n",
    "                                                             initial_weights=initial_weights,\n",
    "                                                             step_size=step_size,\n",
    "                                                             l2_penalty=0.0,\n",
    "                                                             max_iterations=max_iterations)"
   ]
  },
  {
   "cell_type": "markdown",
   "metadata": {},
   "source": [
    "Next, let's consider high regularisation.  Set the `l2_penalty` to `1e11` and run your ridge regression algorithm to learn the weights of your model.  Call your weights:\n",
    "\n",
    "`simple_weights_high_penalty`\n",
    "\n",
    "we'll use them later."
   ]
  },
  {
   "cell_type": "code",
   "execution_count": 12,
   "metadata": {},
   "outputs": [
    {
     "name": "stdout",
     "output_type": "stream",
     "text": [
      "Starting gradient descent with l2_penalty = 100000000000.0\n",
      "Iteration = 1\n",
      "Cost function =  7433051852335772.0\n",
      "Iteration = 2\n",
      "Cost function =  5618303898910948.0\n",
      "Iteration = 3\n",
      "Cost function =  4920613327836153.0\n",
      "Iteration = 4\n",
      "Cost function =  4652382056353857.0\n",
      "Iteration = 5\n",
      "Cost function =  4549258949620441.0\n",
      "Iteration = 6\n",
      "Cost function =  4509612654569464.0\n",
      "Iteration = 7\n",
      "Cost function =  4494370397124783.0\n",
      "Iteration = 8\n",
      "Cost function =  4488510417904798.0\n",
      "Iteration = 9\n",
      "Cost function =  4486257512209394.0\n",
      "Iteration = 10\n",
      "Cost function =  4485391368044056.0\n",
      "Iteration = 20\n",
      "Cost function =  4484850428076406.0\n",
      "Iteration = 30\n",
      "Cost function =  4484850390029666.5\n",
      "Iteration = 40\n",
      "Cost function =  4484850390044601.0\n",
      "Iteration = 50\n",
      "Cost function =  4484850390046540.0\n",
      "Iteration = 60\n",
      "Cost function =  4484850390046748.0\n",
      "Iteration = 70\n",
      "Cost function =  4484850390046770.0\n",
      "Iteration = 80\n",
      "Cost function =  4484850390046773.0\n",
      "Iteration = 90\n",
      "Cost function =  4484850390046773.5\n",
      "Iteration = 100\n",
      "Cost function =  4484850390046773.5\n",
      "Iteration = 200\n",
      "Cost function =  4484850390046773.5\n",
      "Iteration = 300\n",
      "Cost function =  4484850390046773.5\n",
      "Iteration = 400\n",
      "Cost function =  4484850390046773.5\n",
      "Iteration = 500\n",
      "Cost function =  4484850390046773.5\n",
      "Iteration = 600\n",
      "Cost function =  4484850390046773.5\n",
      "Iteration = 700\n",
      "Cost function =  4484850390046773.5\n",
      "Iteration = 800\n",
      "Cost function =  4484850390046773.5\n",
      "Iteration = 900\n",
      "Cost function =  4484850390046773.5\n",
      "Iteration = 1000\n",
      "Cost function =  4484850390046773.5\n",
      "Done with gradient descent at iteration  1000\n",
      "Learned weights =  [4.87184758e-02 1.24574021e+02]\n"
     ]
    }
   ],
   "source": [
    "simple_weights_high_penalty = ridge_regression_gradient_descent(feature_matrix=simple_feature_matrix,\n",
    "                                                                output=output,\n",
    "                                                                initial_weights=initial_weights,\n",
    "                                                                step_size=step_size,\n",
    "                                                                l2_penalty=1e11,\n",
    "                                                                max_iterations=max_iterations)"
   ]
  },
  {
   "cell_type": "markdown",
   "metadata": {},
   "source": [
    "This code will plot the two learned models.  (The blue line is for the model with no regularisation and the red line is for the one with high regularisation.)"
   ]
  },
  {
   "cell_type": "code",
   "execution_count": 13,
   "metadata": {},
   "outputs": [
    {
     "data": {
      "image/png": "[encoded data removed]",
      "text/plain": [
       "<Figure size 432x288 with 1 Axes>"
      ]
     },
     "metadata": {
      "needs_background": "light"
     },
     "output_type": "display_data"
    }
   ],
   "source": [
    "plt.plot(simple_feature_matrix, output,'k.',\n",
    "         simple_feature_matrix, predict_output(simple_feature_matrix, simple_weights_0_penalty),'b-',\n",
    "         simple_feature_matrix, predict_output(simple_feature_matrix, simple_weights_high_penalty),'r-');"
   ]
  },
  {
   "cell_type": "markdown",
   "metadata": {},
   "source": [
    "Compute the RSS on the TEST data for the following three sets of weights:\n",
    "1. The initial weights (all zeros)\n",
    "2. The weights learned with no regularisation\n",
    "3. The weights learned with high regularisation\n",
    "\n",
    "Which weights perform best?"
   ]
  },
  {
   "cell_type": "code",
   "execution_count": 14,
   "metadata": {},
   "outputs": [
    {
     "data": {
      "text/plain": [
       "1784273286136298.0"
      ]
     },
     "execution_count": 14,
     "metadata": {},
     "output_type": "execute_result"
    }
   ],
   "source": [
    "predictions_initial_weights = predict_output(simple_test_feature_matrix, initial_weights)\n",
    "RSS_initial_weights = ((predictions_initial_weights - test_output)**2).sum()\n",
    "RSS_initial_weights"
   ]
  },
  {
   "cell_type": "code",
   "execution_count": 15,
   "metadata": {},
   "outputs": [
    {
     "data": {
      "text/plain": [
       "275723632153607.44"
      ]
     },
     "execution_count": 15,
     "metadata": {},
     "output_type": "execute_result"
    }
   ],
   "source": [
    "predictions_simple_weights_0_penalty = predict_output(simple_test_feature_matrix, simple_weights_0_penalty)\n",
    "RSS_simple_weights_0_penalty = ((predictions_simple_weights_0_penalty - test_output)**2).sum()\n",
    "RSS_simple_weights_0_penalty"
   ]
  },
  {
   "cell_type": "code",
   "execution_count": 16,
   "metadata": {},
   "outputs": [
    {
     "data": {
      "text/plain": [
       "694654309578539.5"
      ]
     },
     "execution_count": 16,
     "metadata": {},
     "output_type": "execute_result"
    }
   ],
   "source": [
    "predictions_simple_weights_high_penalty = predict_output(simple_test_feature_matrix, simple_weights_high_penalty)\n",
    "RSS_simple_weights_high_penalty = ((predictions_simple_weights_high_penalty - test_output)**2).sum()\n",
    "RSS_simple_weights_high_penalty"
   ]
  },
  {
   "cell_type": "markdown",
   "metadata": {},
   "source": [
    "***QUIZ QUESTIONS***\n",
    "1. What is the value of the coefficient for `sqft_living` that you learned with no regularisation, rounded to 1 decimal place?  What about the one with high regularisation?\n",
    "2. Comparing the lines you fit with the with no regularisation versus high regularisation, which one is steeper?\n",
    "3. What are the RSS on the test data for each of the set of weights above (initial, no regularisation, high regularisation)? \n"
   ]
  },
  {
   "cell_type": "code",
   "execution_count": 18,
   "metadata": {},
   "outputs": [
    {
     "name": "stdout",
     "output_type": "stream",
     "text": [
      "263.0\n",
      "124.6\n"
     ]
    }
   ],
   "source": [
    "print(round(simple_weights_0_penalty[1], 1))\n",
    "print(round(simple_weights_high_penalty[1], 1))"
   ]
  },
  {
   "cell_type": "markdown",
   "metadata": {},
   "source": [
    "### Running a multiple regression with L2 penalty"
   ]
  },
  {
   "cell_type": "markdown",
   "metadata": {},
   "source": [
    "Let us now consider a model with 2 features: `['sqft_living', 'sqft_living15']`."
   ]
  },
  {
   "cell_type": "markdown",
   "metadata": {},
   "source": [
    "First, create Numpy versions of your training and test data with these two features. "
   ]
  },
  {
   "cell_type": "code",
   "execution_count": 19,
   "metadata": {},
   "outputs": [],
   "source": [
    "model_features = ['sqft_living', 'sqft_living15'] # sqft_living15 is the average square feet for the nearest 15 neighbors. \n",
    "my_output = 'price'\n",
    "(feature_matrix, output) = get_numpy_data(train_data, model_features, my_output)\n",
    "(test_feature_matrix, test_output) = get_numpy_data(test_data, model_features, my_output)"
   ]
  },
  {
   "cell_type": "markdown",
   "metadata": {},
   "source": [
    "We need to re-initialise the weights, since we have one extra parameter. Let us also set the step size and maximum number of iterations."
   ]
  },
  {
   "cell_type": "code",
   "execution_count": 20,
   "metadata": {},
   "outputs": [],
   "source": [
    "initial_weights = np.array([0.0,0.0,0.0])\n",
    "step_size = 1e-12\n",
    "max_iterations = 1000"
   ]
  },
  {
   "cell_type": "markdown",
   "metadata": {},
   "source": [
    "First, let's consider no regularisation.  Set the `l2_penalty` to `0.0` and run your ridge regression algorithm to learn the weights of your model.  Call your weights:\n",
    "\n",
    "`multiple_weights_0_penalty`"
   ]
  },
  {
   "cell_type": "code",
   "execution_count": 21,
   "metadata": {},
   "outputs": [
    {
     "name": "stdout",
     "output_type": "stream",
     "text": [
      "Starting gradient descent with l2_penalty = 0.0\n",
      "Iteration = 1\n",
      "Cost function =  7433051852335772.0\n",
      "Iteration = 2\n",
      "Cost function =  4056752332045942.5\n",
      "Iteration = 3\n",
      "Cost function =  2529565114525309.0\n",
      "Iteration = 4\n",
      "Cost function =  1838556694300507.0\n",
      "Iteration = 5\n",
      "Cost function =  1525675575150296.2\n",
      "Iteration = 6\n",
      "Cost function =  1383789498571784.0\n",
      "Iteration = 7\n",
      "Cost function =  1319232606146273.5\n",
      "Iteration = 8\n",
      "Cost function =  1289648871879140.8\n",
      "Iteration = 9\n",
      "Cost function =  1275884723913736.8\n",
      "Iteration = 10\n",
      "Cost function =  1269278807397619.2\n",
      "Iteration = 20\n",
      "Cost function =  1257812386017016.0\n",
      "Iteration = 30\n",
      "Cost function =  1251954570861556.5\n",
      "Iteration = 40\n",
      "Cost function =  1246755422656426.0\n",
      "Iteration = 50\n",
      "Cost function =  1242139508166548.5\n",
      "Iteration = 60\n",
      "Cost function =  1238041400480993.8\n",
      "Iteration = 70\n",
      "Cost function =  1234403012742171.0\n",
      "Iteration = 80\n",
      "Cost function =  1231172774196731.0\n",
      "Iteration = 90\n",
      "Cost function =  1228304899227735.0\n",
      "Iteration = 100\n",
      "Cost function =  1225758738385979.2\n",
      "Iteration = 200\n",
      "Cost function =  1211738880290897.0\n",
      "Iteration = 300\n",
      "Cost function =  1207473079755049.5\n",
      "Iteration = 400\n",
      "Cost function =  1206175124539964.8\n",
      "Iteration = 500\n",
      "Cost function =  1205780188995876.5\n",
      "Iteration = 600\n",
      "Cost function =  1205660013231388.8\n",
      "Iteration = 700\n",
      "Cost function =  1205623438011734.5\n",
      "Iteration = 800\n",
      "Cost function =  1205612299743252.0\n",
      "Iteration = 900\n",
      "Cost function =  1205608901119130.8\n",
      "Iteration = 1000\n",
      "Cost function =  1205607857419329.2\n",
      "Done with gradient descent at iteration  1000\n",
      "Learned weights =  [ -0.35743483 243.05416982  22.41481497]\n"
     ]
    }
   ],
   "source": [
    "multiple_weights_0_penalty = ridge_regression_gradient_descent(feature_matrix=feature_matrix,\n",
    "                                                               output=output,\n",
    "                                                               initial_weights=initial_weights,\n",
    "                                                               step_size=step_size,\n",
    "                                                               l2_penalty=0.0,\n",
    "                                                               max_iterations=max_iterations)"
   ]
  },
  {
   "cell_type": "markdown",
   "metadata": {},
   "source": [
    "Next, let's consider high regularisation.  Set the `l2_penalty` to `1e11` and run your ridge regression algorithm to learn the weights of your model.  Call your weights:\n",
    "\n",
    "`multiple_weights_high_penalty`"
   ]
  },
  {
   "cell_type": "code",
   "execution_count": 22,
   "metadata": {},
   "outputs": [
    {
     "name": "stdout",
     "output_type": "stream",
     "text": [
      "Starting gradient descent with l2_penalty = 100000000000.0\n",
      "Iteration = 1\n",
      "Cost function =  7433051852335772.0\n",
      "Iteration = 2\n",
      "Cost function =  4460489790922030.5\n",
      "Iteration = 3\n",
      "Cost function =  3796674504591489.5\n",
      "Iteration = 4\n",
      "Cost function =  3648319602094899.5\n",
      "Iteration = 5\n",
      "Cost function =  3615091213565495.0\n",
      "Iteration = 6\n",
      "Cost function =  3607602894633405.0\n",
      "Iteration = 7\n",
      "Cost function =  3605886518090020.0\n",
      "Iteration = 8\n",
      "Cost function =  3605475115347710.5\n",
      "Iteration = 9\n",
      "Cost function =  3605365453947493.5\n",
      "Iteration = 10\n",
      "Cost function =  3605329733905938.0\n",
      "Iteration = 20\n",
      "Cost function =  3605295066545630.0\n",
      "Iteration = 30\n",
      "Cost function =  3605294774663873.0\n",
      "Iteration = 40\n",
      "Cost function =  3605294771788592.5\n",
      "Iteration = 50\n",
      "Cost function =  3605294771762588.5\n",
      "Iteration = 60\n",
      "Cost function =  3605294771762597.0\n",
      "Iteration = 70\n",
      "Cost function =  3605294771762626.0\n",
      "Iteration = 80\n",
      "Cost function =  3605294771762630.0\n",
      "Iteration = 90\n",
      "Cost function =  3605294771762629.0\n",
      "Iteration = 100\n",
      "Cost function =  3605294771762629.5\n",
      "Iteration = 200\n",
      "Cost function =  3605294771762629.0\n",
      "Iteration = 300\n",
      "Cost function =  3605294771762629.0\n",
      "Iteration = 400\n",
      "Cost function =  3605294771762629.0\n",
      "Iteration = 500\n",
      "Cost function =  3605294771762629.0\n",
      "Iteration = 600\n",
      "Cost function =  3605294771762629.0\n",
      "Iteration = 700\n",
      "Cost function =  3605294771762629.0\n",
      "Iteration = 800\n",
      "Cost function =  3605294771762629.0\n",
      "Iteration = 900\n",
      "Cost function =  3605294771762629.0\n",
      "Iteration = 1000\n",
      "Cost function =  3605294771762629.0\n",
      "Done with gradient descent at iteration  1000\n",
      "Learned weights =  [3.36011655e-02 9.14901676e+01 7.84374903e+01]\n"
     ]
    }
   ],
   "source": [
    "multiple_weights_high_penalty = ridge_regression_gradient_descent(feature_matrix=feature_matrix,\n",
    "                                                                  output=output,\n",
    "                                                                  initial_weights=initial_weights,\n",
    "                                                                  step_size=step_size,\n",
    "                                                                  l2_penalty=1e11,\n",
    "                                                                  max_iterations=max_iterations)"
   ]
  },
  {
   "cell_type": "markdown",
   "metadata": {},
   "source": [
    "Compute the RSS on the TEST data for the following three sets of weights:\n",
    "1. The initial weights (all zeros)\n",
    "2. The weights learned with no regularisation\n",
    "3. The weights learned with high regularisation\n",
    "\n",
    "Which weights perform best?"
   ]
  },
  {
   "cell_type": "code",
   "execution_count": 23,
   "metadata": {},
   "outputs": [
    {
     "data": {
      "text/plain": [
       "1784273286136298.0"
      ]
     },
     "execution_count": 23,
     "metadata": {},
     "output_type": "execute_result"
    }
   ],
   "source": [
    "predictions_initial_weights = predict_output(test_feature_matrix, initial_weights)\n",
    "RSS_initial_weights = ((predictions_initial_weights - test_output)**2).sum()\n",
    "RSS_initial_weights"
   ]
  },
  {
   "cell_type": "code",
   "execution_count": 24,
   "metadata": {},
   "outputs": [
    {
     "data": {
      "text/plain": [
       "274067615918575.56"
      ]
     },
     "execution_count": 24,
     "metadata": {},
     "output_type": "execute_result"
    }
   ],
   "source": [
    "predictions_multiple_weights_0_penalty = predict_output(test_feature_matrix, multiple_weights_0_penalty)\n",
    "RSS_multiple_weights_0_penalty = ((predictions_multiple_weights_0_penalty - test_output)**2).sum()\n",
    "RSS_multiple_weights_0_penalty"
   ]
  },
  {
   "cell_type": "code",
   "execution_count": 25,
   "metadata": {},
   "outputs": [
    {
     "data": {
      "text/plain": [
       "500408530236718.3"
      ]
     },
     "execution_count": 25,
     "metadata": {},
     "output_type": "execute_result"
    }
   ],
   "source": [
    "predictions_multiple_weights_high_penalty = predict_output(test_feature_matrix, multiple_weights_high_penalty)\n",
    "RSS_multiple_weights_high_penalty = ((predictions_multiple_weights_high_penalty - test_output)**2).sum()\n",
    "RSS_multiple_weights_high_penalty"
   ]
  },
  {
   "cell_type": "markdown",
   "metadata": {},
   "source": [
    "Predict the house price for the 1st house in the test set using the no regularisation and high regularisation models. (Remember that python starts indexing from 0.) How far is the prediction from the actual price?  Which weights perform best for the 1st house?"
   ]
  },
  {
   "cell_type": "code",
   "execution_count": 26,
   "metadata": {},
   "outputs": [
    {
     "name": "stdout",
     "output_type": "stream",
     "text": [
      "77465.47605823533\n"
     ]
    }
   ],
   "source": [
    "first_house_prediction_multiple_weights_0_penalty = predict_output(test_feature_matrix[0], multiple_weights_0_penalty)\n",
    "difference = first_house_prediction_multiple_weights_0_penalty - test_output[0]\n",
    "print(difference)"
   ]
  },
  {
   "cell_type": "code",
   "execution_count": 27,
   "metadata": {},
   "outputs": [
    {
     "name": "stdout",
     "output_type": "stream",
     "text": [
      "-39550.29397229722\n"
     ]
    }
   ],
   "source": [
    "first_house_prediction_multiple_weights_high_penalty = predict_output(test_feature_matrix[0], multiple_weights_high_penalty)\n",
    "difference = first_house_prediction_multiple_weights_high_penalty - test_output[0]\n",
    "print(difference)"
   ]
  },
  {
   "cell_type": "markdown",
   "metadata": {
    "collapsed": true
   },
   "source": [
    "***QUIZ QUESTIONS***\n",
    "1. What is the value of the coefficient for `sqft_living` that you learned with no regularisation, rounded to 1 decimal place?  What about the one with high regularisation?\n",
    "2. What are the RSS on the test data for each of the set of weights above (initial, no regularisation, high regularisation)? \n",
    "3. We make prediction for the first house in the test set using two sets of weights (no regularisation vs high regularisation). Which weights make better prediction <u>for that particular house</u>?"
   ]
  },
  {
   "cell_type": "code",
   "execution_count": 29,
   "metadata": {},
   "outputs": [
    {
     "name": "stdout",
     "output_type": "stream",
     "text": [
      "243.1\n",
      "91.5\n"
     ]
    }
   ],
   "source": [
    "print(round(multiple_weights_0_penalty[1], 1))\n",
    "print(round(multiple_weights_high_penalty[1], 1))"
   ]
  },
  {
   "cell_type": "code",
   "execution_count": null,
   "metadata": {},
   "outputs": [],
   "source": []
  }
 ],
 "metadata": {
  "kernelspec": {
   "display_name": "Python 3",
   "language": "python",
   "name": "python3"
  },
  "language_info": {
   "codemirror_mode": {
    "name": "ipython",
    "version": 3
   },
   "file_extension": ".py",
   "mimetype": "text/x-python",
   "name": "python",
   "nbconvert_exporter": "python",
   "pygments_lexer": "ipython3",
   "version": "3.7.6"
  }
 },
 "nbformat": 4,
 "nbformat_minor": 1
}
