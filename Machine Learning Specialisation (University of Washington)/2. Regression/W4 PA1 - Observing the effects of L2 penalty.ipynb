{
 "cells": [
  {
   "cell_type": "markdown",
   "metadata": {},
   "source": [
    "# Regression Week 4: Ridge Regression (interpretation)"
   ]
  },
  {
   "cell_type": "markdown",
   "metadata": {},
   "source": [
    "In this notebook, we will run ridge regression multiple times with different L2 penalties to see which one produces the best fit. We will revisit the example of polynomial regression as a means to see the effect of L2 regularisation. In particular, we will:\n",
    "* Use a pre-built implementation of regression to run polynomial regression\n",
    "* Use seaborn to visualize polynomial regressions\n",
    "* Use a pre-built implementation of regression to run polynomial regression, this time with L2 penalty\n",
    "* Use seaborn to visualize polynomial regressions under L2 regularisation\n",
    "* Choose best L2 penalty using cross-validation.\n",
    "* Assess the final fit using test data.\n",
    "\n",
    "We will continue to use the House data from previous notebooks.  (In the next programming assignment for this module, you will implement your own ridge regression learning algorithm using gradient descent.)"
   ]
  },
  {
   "cell_type": "markdown",
   "metadata": {},
   "source": [
    "### Load libraries"
   ]
  },
  {
   "cell_type": "code",
   "execution_count": 1,
   "metadata": {},
   "outputs": [],
   "source": [
    "import numpy as np\n",
    "import pandas as pd\n",
    "import seaborn as sns\n",
    "import matplotlib.pyplot as plt\n",
    "\n",
    "from sklearn.linear_model import Ridge\n",
    "from sklearn.utils import shuffle"
   ]
  },
  {
   "cell_type": "markdown",
   "metadata": {},
   "source": [
    "### Polynomial regression, revisited"
   ]
  },
  {
   "cell_type": "markdown",
   "metadata": {},
   "source": [
    "We build on the material from Week 3, where we wrote the function to produce a dataframe with columns containing the powers of a given input. Copy and paste the function `polynomial_dataframe` from Week 3:"
   ]
  },
  {
   "cell_type": "code",
   "execution_count": 2,
   "metadata": {},
   "outputs": [],
   "source": [
    "def polynomial_dataframe(feature, degree): # feature is pandas.Series type\n",
    "    # assume that degree <= 1\n",
    "    # initialise the dataframe:\n",
    "    poly_dataframe = pd.DataFrame()\n",
    "    # set poly_dataframe['power_1'] equal to the passed feature\n",
    "    poly_dataframe['power_1'] = feature\n",
    "    # check if degree > 1\n",
    "    if degree > 1:\n",
    "        # loop over the remaining degrees\n",
    "        for power in range(2, degree+1):\n",
    "            # give the column a name\n",
    "            name = 'power_' + str(power)\n",
    "            # assign poly_dataframe[name] to be feature^power\n",
    "            poly_dataframe[name] = feature.apply(lambda x: x**power)\n",
    "            \n",
    "    return poly_dataframe"
   ]
  },
  {
   "cell_type": "code",
   "execution_count": 4,
   "metadata": {},
   "outputs": [],
   "source": [
    "def print_coefficients(model):    \n",
    "    # get the degree of the polynomial\n",
    "    deg = len(model.coef_)\n",
    "\n",
    "    # get the fitted parameters as a list\n",
    "    w = model.coef_.tolist()\n",
    "    # append the intercept to the start\n",
    "    w = [model.intercept_] + w\n",
    "\n",
    "    # numpy has a nifty function to print out polynomials in a pretty way\n",
    "    # (We'll use it, but it needs the parameters in the reverse order)\n",
    "    print('Fitted polynomial for degree '+str(deg)+':')\n",
    "    print(np.poly1d(w[::-1]))"
   ]
  },
  {
   "cell_type": "markdown",
   "metadata": {},
   "source": [
    "Let's use seaborn to visualise what a polynomial regression looks like on the house data."
   ]
  },
  {
   "cell_type": "code",
   "execution_count": 5,
   "metadata": {},
   "outputs": [
    {
     "data": {
      "text/html": [
       "<div>\n",
       "<style scoped>\n",
       "    .dataframe tbody tr th:only-of-type {\n",
       "        vertical-align: middle;\n",
       "    }\n",
       "\n",
       "    .dataframe tbody tr th {\n",
       "        vertical-align: top;\n",
       "    }\n",
       "\n",
       "    .dataframe thead th {\n",
       "        text-align: right;\n",
       "    }\n",
       "</style>\n",
       "<table border=\"1\" class=\"dataframe\">\n",
       "  <thead>\n",
       "    <tr style=\"text-align: right;\">\n",
       "      <th></th>\n",
       "      <th>id</th>\n",
       "      <th>date</th>\n",
       "      <th>price</th>\n",
       "      <th>bedrooms</th>\n",
       "      <th>bathrooms</th>\n",
       "      <th>sqft_living</th>\n",
       "      <th>sqft_lot</th>\n",
       "      <th>floors</th>\n",
       "      <th>waterfront</th>\n",
       "      <th>view</th>\n",
       "      <th>...</th>\n",
       "      <th>grade</th>\n",
       "      <th>sqft_above</th>\n",
       "      <th>sqft_basement</th>\n",
       "      <th>yr_built</th>\n",
       "      <th>yr_renovated</th>\n",
       "      <th>zipcode</th>\n",
       "      <th>lat</th>\n",
       "      <th>long</th>\n",
       "      <th>sqft_living15</th>\n",
       "      <th>sqft_lot15</th>\n",
       "    </tr>\n",
       "  </thead>\n",
       "  <tbody>\n",
       "    <tr>\n",
       "      <th>0</th>\n",
       "      <td>7129300520</td>\n",
       "      <td>20141013T000000</td>\n",
       "      <td>221900.0</td>\n",
       "      <td>3.0</td>\n",
       "      <td>1.00</td>\n",
       "      <td>1180.0</td>\n",
       "      <td>5650</td>\n",
       "      <td>1</td>\n",
       "      <td>0</td>\n",
       "      <td>0</td>\n",
       "      <td>...</td>\n",
       "      <td>7</td>\n",
       "      <td>1180</td>\n",
       "      <td>0</td>\n",
       "      <td>1955</td>\n",
       "      <td>0</td>\n",
       "      <td>98178</td>\n",
       "      <td>47.5112</td>\n",
       "      <td>-122.257</td>\n",
       "      <td>1340.0</td>\n",
       "      <td>5650.0</td>\n",
       "    </tr>\n",
       "    <tr>\n",
       "      <th>1</th>\n",
       "      <td>6414100192</td>\n",
       "      <td>20141209T000000</td>\n",
       "      <td>538000.0</td>\n",
       "      <td>3.0</td>\n",
       "      <td>2.25</td>\n",
       "      <td>2570.0</td>\n",
       "      <td>7242</td>\n",
       "      <td>2</td>\n",
       "      <td>0</td>\n",
       "      <td>0</td>\n",
       "      <td>...</td>\n",
       "      <td>7</td>\n",
       "      <td>2170</td>\n",
       "      <td>400</td>\n",
       "      <td>1951</td>\n",
       "      <td>1991</td>\n",
       "      <td>98125</td>\n",
       "      <td>47.7210</td>\n",
       "      <td>-122.319</td>\n",
       "      <td>1690.0</td>\n",
       "      <td>7639.0</td>\n",
       "    </tr>\n",
       "    <tr>\n",
       "      <th>2</th>\n",
       "      <td>5631500400</td>\n",
       "      <td>20150225T000000</td>\n",
       "      <td>180000.0</td>\n",
       "      <td>2.0</td>\n",
       "      <td>1.00</td>\n",
       "      <td>770.0</td>\n",
       "      <td>10000</td>\n",
       "      <td>1</td>\n",
       "      <td>0</td>\n",
       "      <td>0</td>\n",
       "      <td>...</td>\n",
       "      <td>6</td>\n",
       "      <td>770</td>\n",
       "      <td>0</td>\n",
       "      <td>1933</td>\n",
       "      <td>0</td>\n",
       "      <td>98028</td>\n",
       "      <td>47.7379</td>\n",
       "      <td>-122.233</td>\n",
       "      <td>2720.0</td>\n",
       "      <td>8062.0</td>\n",
       "    </tr>\n",
       "    <tr>\n",
       "      <th>3</th>\n",
       "      <td>2487200875</td>\n",
       "      <td>20141209T000000</td>\n",
       "      <td>604000.0</td>\n",
       "      <td>4.0</td>\n",
       "      <td>3.00</td>\n",
       "      <td>1960.0</td>\n",
       "      <td>5000</td>\n",
       "      <td>1</td>\n",
       "      <td>0</td>\n",
       "      <td>0</td>\n",
       "      <td>...</td>\n",
       "      <td>7</td>\n",
       "      <td>1050</td>\n",
       "      <td>910</td>\n",
       "      <td>1965</td>\n",
       "      <td>0</td>\n",
       "      <td>98136</td>\n",
       "      <td>47.5208</td>\n",
       "      <td>-122.393</td>\n",
       "      <td>1360.0</td>\n",
       "      <td>5000.0</td>\n",
       "    </tr>\n",
       "    <tr>\n",
       "      <th>4</th>\n",
       "      <td>1954400510</td>\n",
       "      <td>20150218T000000</td>\n",
       "      <td>510000.0</td>\n",
       "      <td>3.0</td>\n",
       "      <td>2.00</td>\n",
       "      <td>1680.0</td>\n",
       "      <td>8080</td>\n",
       "      <td>1</td>\n",
       "      <td>0</td>\n",
       "      <td>0</td>\n",
       "      <td>...</td>\n",
       "      <td>8</td>\n",
       "      <td>1680</td>\n",
       "      <td>0</td>\n",
       "      <td>1987</td>\n",
       "      <td>0</td>\n",
       "      <td>98074</td>\n",
       "      <td>47.6168</td>\n",
       "      <td>-122.045</td>\n",
       "      <td>1800.0</td>\n",
       "      <td>7503.0</td>\n",
       "    </tr>\n",
       "  </tbody>\n",
       "</table>\n",
       "<p>5 rows × 21 columns</p>\n",
       "</div>"
      ],
      "text/plain": [
       "           id             date     price  bedrooms  bathrooms  sqft_living  \\\n",
       "0  7129300520  20141013T000000  221900.0       3.0       1.00       1180.0   \n",
       "1  6414100192  20141209T000000  538000.0       3.0       2.25       2570.0   \n",
       "2  5631500400  20150225T000000  180000.0       2.0       1.00        770.0   \n",
       "3  2487200875  20141209T000000  604000.0       4.0       3.00       1960.0   \n",
       "4  1954400510  20150218T000000  510000.0       3.0       2.00       1680.0   \n",
       "\n",
       "   sqft_lot floors  waterfront  view  ...  grade  sqft_above  sqft_basement  \\\n",
       "0      5650      1           0     0  ...      7        1180              0   \n",
       "1      7242      2           0     0  ...      7        2170            400   \n",
       "2     10000      1           0     0  ...      6         770              0   \n",
       "3      5000      1           0     0  ...      7        1050            910   \n",
       "4      8080      1           0     0  ...      8        1680              0   \n",
       "\n",
       "   yr_built  yr_renovated  zipcode      lat     long  sqft_living15  \\\n",
       "0      1955             0    98178  47.5112 -122.257         1340.0   \n",
       "1      1951          1991    98125  47.7210 -122.319         1690.0   \n",
       "2      1933             0    98028  47.7379 -122.233         2720.0   \n",
       "3      1965             0    98136  47.5208 -122.393         1360.0   \n",
       "4      1987             0    98074  47.6168 -122.045         1800.0   \n",
       "\n",
       "   sqft_lot15  \n",
       "0      5650.0  \n",
       "1      7639.0  \n",
       "2      8062.0  \n",
       "3      5000.0  \n",
       "4      7503.0  \n",
       "\n",
       "[5 rows x 21 columns]"
      ]
     },
     "execution_count": 5,
     "metadata": {},
     "output_type": "execute_result"
    }
   ],
   "source": [
    "dtype_dict = {'bathrooms':float, 'waterfront':int, 'sqft_above':int, 'sqft_living15':float, 'grade':int,\n",
    "              'yr_renovated':int, 'price':float, 'bedrooms':float, 'zipcode':str, 'long':float, 'sqft_lot15':float,\n",
    "              'sqft_living':float, 'floors':str, 'condition':int, 'lat':float, 'date':str, 'sqft_basement':int,\n",
    "              'yr_built':int, 'id':str, 'sqft_lot':int, 'view':int}\n",
    "sales = pd.read_csv('kc_house_data.csv', dtype=dtype_dict)\n",
    "sales.head()"
   ]
  },
  {
   "cell_type": "markdown",
   "metadata": {},
   "source": [
    "As in Week 3, we will use the sqft_living variable. For plotting purposes (connecting the dots), you'll need to sort by the values of sqft_living. For houses with identical square footage, we break the tie by their prices."
   ]
  },
  {
   "cell_type": "code",
   "execution_count": 6,
   "metadata": {},
   "outputs": [],
   "source": [
    "sales = sales.sort_values(by=['sqft_living', 'price'])"
   ]
  },
  {
   "cell_type": "markdown",
   "metadata": {},
   "source": [
    "Let us revisit the 15th-order polynomial model using the 'sqft_living' input. Generate polynomial features up to degree 15 using `polynomial_dataframe()` and fit a model with these features. When fitting the model, use an L2 penalty of `1.5e-5`:"
   ]
  },
  {
   "cell_type": "code",
   "execution_count": 11,
   "metadata": {},
   "outputs": [],
   "source": [
    "l2_small_penalty = 1.5e-5"
   ]
  },
  {
   "cell_type": "markdown",
   "metadata": {},
   "source": [
    "Note: When we have so many features and so few data points, the solution can become highly numerically unstable, which can sometimes lead to strange unpredictable results.  Thus, rather than using no regularisation, we will introduce a tiny amount of regularisation (`l2_penalty=1.5e-5` ) to make the solution numerically stable.  (In lecture, we discussed the fact that regularisation can also help with numerical stability, and here we are seeing a practical example.)\n",
    "\n",
    "With the L2 penalty specified above, fit the model and print out the learned weights."
   ]
  },
  {
   "cell_type": "code",
   "execution_count": 12,
   "metadata": {},
   "outputs": [
    {
     "name": "stdout",
     "output_type": "stream",
     "text": [
      "Fitted polynomial for degree 15:\n",
      "           15             14             13             12\n",
      "1.398e-54 x  + 3.782e-51 x  - 1.078e-46 x  - 2.724e-42 x \n",
      "             11             10             9            8             7\n",
      " - 3.88e-38 x  - 3.279e-34 x  + 6.526e-31 x + 8.28e-26 x + 1.511e-21 x\n",
      "              6             5             4             3           2\n",
      " + 8.541e-18 x - 1.942e-13 x - 2.444e-09 x + 3.014e-05 x - 0.04774 x + 124.9 x + 2.207e+05\n"
     ]
    }
   ],
   "source": [
    "model = Ridge(alpha=l2_small_penalty, normalize=True)\n",
    "model.fit(X=polynomial_dataframe(sales['sqft_living'], 15), y=sales['price'])\n",
    "print_coefficients(model)"
   ]
  },
  {
   "cell_type": "markdown",
   "metadata": {},
   "source": [
    "***QUIZ QUESTION:  What's the learned value for the coefficient of feature `power_1`?*** 124.9 (103.0910 for turicreate)"
   ]
  },
  {
   "cell_type": "markdown",
   "metadata": {},
   "source": [
    "### Observe overfitting"
   ]
  },
  {
   "cell_type": "markdown",
   "metadata": {},
   "source": [
    "Recall from Week 3 that the polynomial fit of degree 15 changed wildly whenever the data changed. In particular, when we split the sales data into four subsets and fit the model of degree 15, the result came out to be very different for each subset. The model had a *high variance*. We will see in a moment that ridge regression reduces such variance. But first, we must reproduce the experiment we did in Week 3."
   ]
  },
  {
   "cell_type": "code",
   "execution_count": 14,
   "metadata": {},
   "outputs": [],
   "source": [
    "set_1 = pd.read_csv('wk3_kc_house_set_1_data.csv', dtype=dtype_dict)\n",
    "set_2 = pd.read_csv('wk3_kc_house_set_2_data.csv', dtype=dtype_dict)\n",
    "set_3 = pd.read_csv('wk3_kc_house_set_3_data.csv', dtype=dtype_dict)\n",
    "set_4 = pd.read_csv('wk3_kc_house_set_4_data.csv', dtype=dtype_dict)"
   ]
  },
  {
   "cell_type": "markdown",
   "metadata": {},
   "source": [
    "Next, fit a 15th degree polynomial on `set_1`, `set_2`, `set_3`, and `set_4`, using 'sqft_living' to predict prices. Print the weights and make a plot of the resulting model.\n",
    "\n",
    "Note: When calling `linear_model.Ridge()`, use `1e-9` (i.e. `alpha=1e-9`)."
   ]
  },
  {
   "cell_type": "code",
   "execution_count": 20,
   "metadata": {},
   "outputs": [
    {
     "name": "stdout",
     "output_type": "stream",
     "text": [
      "Fitted polynomial for degree 15:\n",
      "            15             14             13           12\n",
      "-3.352e-53 x  + 2.538e-49 x  + 5.566e-45 x  + 3.4e-41 x \n",
      "              11             10             9             8\n",
      " - 3.718e-37 x  - 1.041e-32 x  - 7.572e-29 x + 6.875e-25 x\n",
      "              7             6             5             4             3\n",
      " + 1.479e-20 x - 1.391e-17 x - 3.905e-13 x - 1.172e-08 x + 0.0001224 x\n",
      "           2\n",
      " - 0.3554 x + 544.7 x + 2.389e+04\n",
      "\n",
      "\n",
      "Fitted polynomial for degree 15:\n",
      "           15             14             13            12\n",
      "1.665e-50 x  - 1.388e-46 x  - 1.295e-42 x  + 3.28e-41 x \n",
      "              11             10             9             8\n",
      " + 9.259e-35 x  + 7.443e-31 x  - 1.446e-27 x - 6.308e-23 x\n",
      "              7            6             5             4             3\n",
      " - 1.427e-19 x + 3.74e-15 x - 2.696e-12 x - 9.128e-08 x + 0.0004289 x\n",
      "           2\n",
      " - 0.8181 x + 859.4 x - 5.561e+04\n",
      "\n",
      "\n",
      "Fitted polynomial for degree 15:\n",
      "            15             14             13             12\n",
      "-3.933e-51 x  + 5.085e-47 x  + 3.191e-43 x  - 1.802e-39 x \n",
      "             11             10             9             8\n",
      " - 4.16e-35 x  - 1.971e-31 x  + 2.192e-27 x + 3.381e-23 x\n",
      "              7             6            5            4             3\n",
      " - 2.137e-20 x - 2.886e-15 x + 7.15e-12 x + 7.78e-08 x - 0.0004589 x\n",
      "           2\n",
      " + 0.9756 x - 755.4 x + 4.71e+05\n",
      "\n",
      "\n",
      "Fitted polynomial for degree 15:\n",
      "           15             14            13             12            11\n",
      "6.446e-50 x  - 8.796e-46 x  - 2.43e-42 x  + 3.477e-38 x  + 3.31e-34 x \n",
      "              10            9             8             7             6\n",
      " - 2.109e-32 x  - 1.96e-26 x - 9.493e-23 x + 7.668e-19 x + 5.772e-15 x\n",
      "              5             4             3          2\n",
      " - 4.378e-11 x + 3.604e-08 x + 0.0003388 x - 0.9838 x + 1119 x - 1.457e+05\n"
     ]
    }
   ],
   "source": [
    "def model_data(data):\n",
    "    X = polynomial_dataframe(data['sqft_living'], 15)\n",
    "    y = data['price']\n",
    "\n",
    "    model = Ridge(alpha=1e-9, normalize=True)\n",
    "    model.fit(X, y)\n",
    "    print_coefficients(model)\n",
    "    \n",
    "    return model, X, y\n",
    "\n",
    "model1, X1, y1 = model_data(set_1)\n",
    "print('\\n')\n",
    "model2, X2, y2 = model_data(set_2)\n",
    "print('\\n')\n",
    "model3, X3, y3 = model_data(set_3)\n",
    "print('\\n')\n",
    "model4, X4, y4 = model_data(set_4)"
   ]
  },
  {
   "cell_type": "code",
   "execution_count": 21,
   "metadata": {},
   "outputs": [
    {
     "data": {
      "image/png": "[encoded data removed]",
      "text/plain": [
       "<Figure size 432x288 with 1 Axes>"
      ]
     },
     "metadata": {
      "needs_background": "light"
     },
     "output_type": "display_data"
    }
   ],
   "source": [
    "def plot_poly_predictions(model, X, y):\n",
    "    preds = model.predict(X)\n",
    "    \n",
    "    sns.scatterplot(data=X, x=\"power_1\", y=y)\n",
    "    sns.lineplot(x=X[\"power_1\"], y=preds, color=\"gray\")\n",
    "    plt.xlabel(\"sqft_living\")\n",
    "    sns.despine()\n",
    "    \n",
    "plot_poly_predictions(model1, X1, y1)"
   ]
  },
  {
   "cell_type": "code",
   "execution_count": 22,
   "metadata": {},
   "outputs": [
    {
     "data": {
      "image/png": "[encoded data removed]",
      "text/plain": [
       "<Figure size 432x288 with 1 Axes>"
      ]
     },
     "metadata": {
      "needs_background": "light"
     },
     "output_type": "display_data"
    }
   ],
   "source": [
    "plot_poly_predictions(model2, X2, y2)"
   ]
  },
  {
   "cell_type": "code",
   "execution_count": 23,
   "metadata": {},
   "outputs": [
    {
     "data": {
      "image/png": "[encoded data removed]",
      "text/plain": [
       "<Figure size 432x288 with 1 Axes>"
      ]
     },
     "metadata": {
      "needs_background": "light"
     },
     "output_type": "display_data"
    }
   ],
   "source": [
    "plot_poly_predictions(model3, X3, y3)"
   ]
  },
  {
   "cell_type": "code",
   "execution_count": 24,
   "metadata": {},
   "outputs": [
    {
     "data": {
      "image/png": "[encoded data removed]",
      "text/plain": [
       "<Figure size 432x288 with 1 Axes>"
      ]
     },
     "metadata": {
      "needs_background": "light"
     },
     "output_type": "display_data"
    }
   ],
   "source": [
    "plot_poly_predictions(model4, X4, y4)"
   ]
  },
  {
   "cell_type": "markdown",
   "metadata": {},
   "source": [
    "The four curves should differ from one another a lot, as should the coefficients you learned.\n",
    "\n",
    "***QUIZ QUESTION:  For the models learned in each of these training sets, what are the smallest and largest values you learned for the coefficient of feature `power_1`?***  (For the purpose of answering this question, negative numbers are considered \"smaller\" than positive numbers. So -5 is smaller than -3, and -3 is smaller than 5 and so forth.)"
   ]
  },
  {
   "cell_type": "code",
   "execution_count": 28,
   "metadata": {},
   "outputs": [
    {
     "name": "stdout",
     "output_type": "stream",
     "text": [
      "-755.3958326656758\n",
      "1119.445767520616\n"
     ]
    }
   ],
   "source": [
    "value1 = model1.coef_[0]\n",
    "value2 = model2.coef_[0]\n",
    "value3 = model3.coef_[0]\n",
    "value4 = model4.coef_[0]\n",
    "\n",
    "print(np.min((value1, value2, value3, value4)))\n",
    "print(np.max((value1, value2, value3, value4)))"
   ]
  },
  {
   "cell_type": "markdown",
   "metadata": {},
   "source": [
    "### Ridge regression comes to rescue"
   ]
  },
  {
   "cell_type": "markdown",
   "metadata": {},
   "source": [
    "Generally, whenever we see weights change so much in response to change in data, we believe the variance of our estimate to be large. Ridge regression aims to address this issue by penalizing \"large\" weights. (The weights looked quite small, but they are not that small because 'sqft_living' input is in the order of thousands.)\n",
    "\n",
    "With the argument `alpha=1.23e2`, fit a 15th-order polynomial model on `set_1`, `set_2`, `set_3`, and `set_4`. Other than the change in the `alpha / l2_penalty` parameter, the code should be the same as the experiment above."
   ]
  },
  {
   "cell_type": "code",
   "execution_count": 34,
   "metadata": {},
   "outputs": [
    {
     "name": "stdout",
     "output_type": "stream",
     "text": [
      "Fitted polynomial for degree 15:\n",
      "           15             14             13             12\n",
      "1.995e-58 x  + 2.855e-54 x  + 4.095e-50 x  + 5.895e-46 x \n",
      "              11             10             9             8\n",
      " + 8.519e-42 x  + 1.238e-37 x  + 1.816e-33 x + 2.704e-29 x\n",
      "              7             6             5             4            3\n",
      " + 4.129e-25 x + 6.578e-21 x + 1.115e-16 x + 2.001e-12 x + 3.32e-08 x\n",
      "              2\n",
      " + 0.0003536 x + 2.328 x + 5.391e+05\n",
      "\n",
      "\n",
      "Fitted polynomial for degree 15:\n",
      "          15             14             13             12\n",
      "1.32e-55 x  + 1.232e-51 x  + 1.155e-47 x  + 1.087e-43 x \n",
      "              11             10             9             8\n",
      " + 1.031e-39 x  + 9.869e-36 x  + 9.572e-32 x + 9.445e-28 x\n",
      "              7             6             5           4             3\n",
      " + 9.506e-24 x + 9.697e-20 x + 9.726e-16 x + 8.9e-12 x + 6.672e-08 x\n",
      "              2\n",
      " + 0.0003908 x + 2.098 x + 5.299e+05\n",
      "\n",
      "\n",
      "Fitted polynomial for degree 15:\n",
      "           15             14             13             12\n",
      "4.876e-56 x  + 4.859e-52 x  + 4.846e-48 x  + 4.842e-44 x \n",
      "             11            10             9             8             7\n",
      " + 4.85e-40 x  + 4.88e-36 x  + 4.947e-32 x + 5.071e-28 x + 5.288e-24 x\n",
      "              6             5             4             3             2\n",
      " + 5.644e-20 x + 6.153e-16 x + 6.586e-12 x + 6.088e-08 x + 0.0004125 x + 2.289 x + 5.336e+05\n",
      "\n",
      "\n",
      "Fitted polynomial for degree 15:\n",
      "           15            14             13             12            11\n",
      "8.308e-55 x  + 6.86e-51 x  + 5.672e-47 x  + 4.701e-43 x  + 3.91e-39 x \n",
      "             10             9             8             7             6\n",
      " + 3.27e-35 x  + 2.756e-31 x + 2.346e-27 x + 2.016e-23 x + 1.736e-19 x\n",
      "              5             4             3            2\n",
      " + 1.459e-15 x + 1.131e-11 x + 7.469e-08 x + 0.000405 x + 2.086 x + 5.246e+05\n"
     ]
    }
   ],
   "source": [
    "def model_data(data):\n",
    "    X = polynomial_dataframe(data['sqft_living'], 15)\n",
    "    y = data['price']\n",
    "\n",
    "    model = Ridge(alpha=1.23e2, normalize=True)\n",
    "    model.fit(X, y)\n",
    "    print_coefficients(model)\n",
    "    \n",
    "    return model, X, y\n",
    "\n",
    "model1, X1, y1 = model_data(set_1)\n",
    "print('\\n')\n",
    "model2, X2, y2 = model_data(set_2)\n",
    "print('\\n')\n",
    "model3, X3, y3 = model_data(set_3)\n",
    "print('\\n')\n",
    "model4, X4, y4 = model_data(set_4)"
   ]
  },
  {
   "cell_type": "code",
   "execution_count": 35,
   "metadata": {},
   "outputs": [
    {
     "data": {
      "image/png": "[encoded data removed]",
      "text/plain": [
       "<Figure size 432x288 with 1 Axes>"
      ]
     },
     "metadata": {
      "needs_background": "light"
     },
     "output_type": "display_data"
    }
   ],
   "source": [
    "plot_poly_predictions(model1, X1, y1)"
   ]
  },
  {
   "cell_type": "code",
   "execution_count": 36,
   "metadata": {},
   "outputs": [
    {
     "data": {
      "image/png": "[encoded data removed]",
      "text/plain": [
       "<Figure size 432x288 with 1 Axes>"
      ]
     },
     "metadata": {
      "needs_background": "light"
     },
     "output_type": "display_data"
    }
   ],
   "source": [
    "plot_poly_predictions(model2, X2, y2)"
   ]
  },
  {
   "cell_type": "code",
   "execution_count": 37,
   "metadata": {},
   "outputs": [
    {
     "data": {
      "image/png": "[encoded data removed]",
      "text/plain": [
       "<Figure size 432x288 with 1 Axes>"
      ]
     },
     "metadata": {
      "needs_background": "light"
     },
     "output_type": "display_data"
    }
   ],
   "source": [
    "plot_poly_predictions(model3, X3, y3)"
   ]
  },
  {
   "cell_type": "code",
   "execution_count": 38,
   "metadata": {},
   "outputs": [
    {
     "data": {
      "image/png": "[encoded data removed]",
      "text/plain": [
       "<Figure size 432x288 with 1 Axes>"
      ]
     },
     "metadata": {
      "needs_background": "light"
     },
     "output_type": "display_data"
    }
   ],
   "source": [
    "plot_poly_predictions(model4, X4, y4)"
   ]
  },
  {
   "cell_type": "markdown",
   "metadata": {},
   "source": [
    "These curves should vary a lot less, now that you applied a high degree of regularization.\n",
    "\n",
    "***QUIZ QUESTION:  For the models learned with the high level of regularization in each of these training sets, what are the smallest and largest values you learned for the coefficient of feature `power_1`?*** (For the purpose of answering this question, negative numbers are considered \"smaller\" than positive numbers. So -5 is smaller than -3, and -3 is smaller than 5 and so forth.)"
   ]
  },
  {
   "cell_type": "code",
   "execution_count": 40,
   "metadata": {},
   "outputs": [
    {
     "name": "stdout",
     "output_type": "stream",
     "text": [
      "2.0859619409193066\n",
      "2.328068029579326\n"
     ]
    }
   ],
   "source": [
    "value1 = model1.coef_[0]\n",
    "value2 = model2.coef_[0]\n",
    "value3 = model3.coef_[0]\n",
    "value4 = model4.coef_[0]\n",
    "\n",
    "print(np.min((value1, value2, value3, value4)))\n",
    "print(np.max((value1, value2, value3, value4)))"
   ]
  },
  {
   "cell_type": "markdown",
   "metadata": {},
   "source": [
    "### Selecting an L2 penalty via cross-validation"
   ]
  },
  {
   "cell_type": "markdown",
   "metadata": {},
   "source": [
    "Just like the polynomial degree, the L2 penalty is a \"magic\" parameter we need to select. We could use the validation set approach as we did in the last module, but that approach has a major disadvantage: it leaves fewer observations available for training. **Cross-validation** seeks to overcome this issue by using all of the training set in a smart way.\n",
    "\n",
    "We will implement a kind of cross-validation called **k-fold cross-validation**. The method gets its name because it involves dividing the training set into k segments of roughtly equal size. Similar to the validation set method, we measure the validation error with one of the segments designated as the validation set. The major difference is that we repeat the process k times as follows:\n",
    "\n",
    "- Set aside segment 0 as the validation set, and fit a model on rest of data, and evalutate it on this validation set<br>\n",
    "- Set aside segment 1 as the validation set, and fit a model on rest of data, and evalutate it on this validation set<br>\n",
    "...<br>\n",
    "- Set aside segment k-1 as the validation set, and fit a model on rest of data, and evalutate it on this validation set\n",
    "\n",
    "After this process, we compute the average of the k validation errors, and use it as an estimate of the generalisation error. Notice that  all observations are used for both training and validation, as we iterate over segments of data. \n",
    "\n",
    "To estimate the generalisation error well, it is crucial to shuffle the training data before dividing them into segments. We reserve 10% of the data as the test set and shuffle the remainder. Whilst we're using a pre-shuffled dataset here, in practice you would shuffle the rows with a dynamically-determined random seed."
   ]
  },
  {
   "cell_type": "code",
   "execution_count": 279,
   "metadata": {},
   "outputs": [],
   "source": [
    "train_valid_shuffled = pd.read_csv('wk3_kc_house_train_valid_shuffled.csv', dtype=dtype_dict)\n",
    "test = pd.read_csv('wk3_kc_house_test_data.csv', dtype=dtype_dict)"
   ]
  },
  {
   "cell_type": "markdown",
   "metadata": {},
   "source": [
    "Once the data is shuffled, we divide it into equal segments. Each segment should receive `n/k` elements, where `n` is the number of observations in the training set and `k` is the number of segments. Since the segment 0 starts at index 0 and contains `n/k` elements, it ends at index `(n/k)-1`. The segment 1 starts where the segment 0 left off, at index `(n/k)`. With `n/k` elements, the segment 1 ends at index `(n*2/k)-1`. Continuing in this fashion, we deduce that the segment `i` starts at index `(n*i/k)` and ends at `(n*(i+1)/k)-1`."
   ]
  },
  {
   "cell_type": "markdown",
   "metadata": {},
   "source": [
    "With this pattern in mind, we write a short loop that prints the starting and ending indices of each segment, just to make sure you are getting the splits right."
   ]
  },
  {
   "cell_type": "code",
   "execution_count": 333,
   "metadata": {},
   "outputs": [
    {
     "name": "stdout",
     "output_type": "stream",
     "text": [
      "0 (0, 1938)\n",
      "1 (1939, 3878)\n",
      "2 (3879, 5817)\n",
      "3 (5818, 7757)\n",
      "4 (7758, 9697)\n",
      "5 (9698, 11636)\n",
      "6 (11637, 13576)\n",
      "7 (13577, 15515)\n",
      "8 (15516, 17455)\n",
      "9 (17456, 19395)\n"
     ]
    }
   ],
   "source": [
    "n = len(train_valid_shuffled)\n",
    "k = 10 # 10-fold cross-validation\n",
    "\n",
    "for i in range(k):\n",
    "    start = int((n*i)/k)\n",
    "    end = int((n*(i+1))/k-1)\n",
    "    print(i, (start, end))"
   ]
  },
  {
   "cell_type": "markdown",
   "metadata": {},
   "source": [
    "Let us familiarise ourselves with array slicing. To extract a continuous slice from a dataframe, use colon in square brackets. For instance, the following cell extracts rows 0 to 9 of `train_valid_shuffled`. Notice that the first index (0) is included in the slice but the last index (10) is omitted."
   ]
  },
  {
   "cell_type": "code",
   "execution_count": 334,
   "metadata": {},
   "outputs": [
    {
     "data": {
      "text/html": [
       "<div>\n",
       "<style scoped>\n",
       "    .dataframe tbody tr th:only-of-type {\n",
       "        vertical-align: middle;\n",
       "    }\n",
       "\n",
       "    .dataframe tbody tr th {\n",
       "        vertical-align: top;\n",
       "    }\n",
       "\n",
       "    .dataframe thead th {\n",
       "        text-align: right;\n",
       "    }\n",
       "</style>\n",
       "<table border=\"1\" class=\"dataframe\">\n",
       "  <thead>\n",
       "    <tr style=\"text-align: right;\">\n",
       "      <th></th>\n",
       "      <th>id</th>\n",
       "      <th>date</th>\n",
       "      <th>price</th>\n",
       "      <th>bedrooms</th>\n",
       "      <th>bathrooms</th>\n",
       "      <th>sqft_living</th>\n",
       "      <th>sqft_lot</th>\n",
       "      <th>floors</th>\n",
       "      <th>waterfront</th>\n",
       "      <th>view</th>\n",
       "      <th>...</th>\n",
       "      <th>grade</th>\n",
       "      <th>sqft_above</th>\n",
       "      <th>sqft_basement</th>\n",
       "      <th>yr_built</th>\n",
       "      <th>yr_renovated</th>\n",
       "      <th>zipcode</th>\n",
       "      <th>lat</th>\n",
       "      <th>long</th>\n",
       "      <th>sqft_living15</th>\n",
       "      <th>sqft_lot15</th>\n",
       "    </tr>\n",
       "  </thead>\n",
       "  <tbody>\n",
       "    <tr>\n",
       "      <th>0</th>\n",
       "      <td>2780400035</td>\n",
       "      <td>20140505T000000</td>\n",
       "      <td>665000.0</td>\n",
       "      <td>4.0</td>\n",
       "      <td>2.50</td>\n",
       "      <td>2800.0</td>\n",
       "      <td>5900</td>\n",
       "      <td>1</td>\n",
       "      <td>0</td>\n",
       "      <td>0</td>\n",
       "      <td>...</td>\n",
       "      <td>8</td>\n",
       "      <td>1660</td>\n",
       "      <td>1140</td>\n",
       "      <td>1963</td>\n",
       "      <td>0</td>\n",
       "      <td>98115</td>\n",
       "      <td>47.6809</td>\n",
       "      <td>-122.286</td>\n",
       "      <td>2580.0</td>\n",
       "      <td>5900.0</td>\n",
       "    </tr>\n",
       "    <tr>\n",
       "      <th>1</th>\n",
       "      <td>1703050500</td>\n",
       "      <td>20150321T000000</td>\n",
       "      <td>645000.0</td>\n",
       "      <td>3.0</td>\n",
       "      <td>2.50</td>\n",
       "      <td>2490.0</td>\n",
       "      <td>5978</td>\n",
       "      <td>2</td>\n",
       "      <td>0</td>\n",
       "      <td>0</td>\n",
       "      <td>...</td>\n",
       "      <td>9</td>\n",
       "      <td>2490</td>\n",
       "      <td>0</td>\n",
       "      <td>2003</td>\n",
       "      <td>0</td>\n",
       "      <td>98074</td>\n",
       "      <td>47.6298</td>\n",
       "      <td>-122.022</td>\n",
       "      <td>2710.0</td>\n",
       "      <td>6629.0</td>\n",
       "    </tr>\n",
       "    <tr>\n",
       "      <th>2</th>\n",
       "      <td>5700002325</td>\n",
       "      <td>20140605T000000</td>\n",
       "      <td>640000.0</td>\n",
       "      <td>3.0</td>\n",
       "      <td>1.75</td>\n",
       "      <td>2340.0</td>\n",
       "      <td>4206</td>\n",
       "      <td>1</td>\n",
       "      <td>0</td>\n",
       "      <td>0</td>\n",
       "      <td>...</td>\n",
       "      <td>7</td>\n",
       "      <td>1170</td>\n",
       "      <td>1170</td>\n",
       "      <td>1917</td>\n",
       "      <td>0</td>\n",
       "      <td>98144</td>\n",
       "      <td>47.5759</td>\n",
       "      <td>-122.288</td>\n",
       "      <td>1360.0</td>\n",
       "      <td>4725.0</td>\n",
       "    </tr>\n",
       "    <tr>\n",
       "      <th>3</th>\n",
       "      <td>0475000510</td>\n",
       "      <td>20141118T000000</td>\n",
       "      <td>594000.0</td>\n",
       "      <td>3.0</td>\n",
       "      <td>1.00</td>\n",
       "      <td>1320.0</td>\n",
       "      <td>5000</td>\n",
       "      <td>1</td>\n",
       "      <td>0</td>\n",
       "      <td>0</td>\n",
       "      <td>...</td>\n",
       "      <td>7</td>\n",
       "      <td>1090</td>\n",
       "      <td>230</td>\n",
       "      <td>1920</td>\n",
       "      <td>0</td>\n",
       "      <td>98107</td>\n",
       "      <td>47.6674</td>\n",
       "      <td>-122.365</td>\n",
       "      <td>1700.0</td>\n",
       "      <td>5000.0</td>\n",
       "    </tr>\n",
       "    <tr>\n",
       "      <th>4</th>\n",
       "      <td>0844001052</td>\n",
       "      <td>20150128T000000</td>\n",
       "      <td>365000.0</td>\n",
       "      <td>4.0</td>\n",
       "      <td>2.50</td>\n",
       "      <td>1904.0</td>\n",
       "      <td>8200</td>\n",
       "      <td>2</td>\n",
       "      <td>0</td>\n",
       "      <td>0</td>\n",
       "      <td>...</td>\n",
       "      <td>7</td>\n",
       "      <td>1904</td>\n",
       "      <td>0</td>\n",
       "      <td>1999</td>\n",
       "      <td>0</td>\n",
       "      <td>98010</td>\n",
       "      <td>47.3107</td>\n",
       "      <td>-122.001</td>\n",
       "      <td>1560.0</td>\n",
       "      <td>12426.0</td>\n",
       "    </tr>\n",
       "    <tr>\n",
       "      <th>5</th>\n",
       "      <td>2781280290</td>\n",
       "      <td>20150427T000000</td>\n",
       "      <td>305000.0</td>\n",
       "      <td>3.0</td>\n",
       "      <td>2.50</td>\n",
       "      <td>1610.0</td>\n",
       "      <td>3516</td>\n",
       "      <td>2</td>\n",
       "      <td>0</td>\n",
       "      <td>0</td>\n",
       "      <td>...</td>\n",
       "      <td>8</td>\n",
       "      <td>1610</td>\n",
       "      <td>0</td>\n",
       "      <td>2006</td>\n",
       "      <td>0</td>\n",
       "      <td>98055</td>\n",
       "      <td>47.4491</td>\n",
       "      <td>-122.188</td>\n",
       "      <td>1610.0</td>\n",
       "      <td>3056.0</td>\n",
       "    </tr>\n",
       "    <tr>\n",
       "      <th>6</th>\n",
       "      <td>2214800630</td>\n",
       "      <td>20141105T000000</td>\n",
       "      <td>239950.0</td>\n",
       "      <td>3.0</td>\n",
       "      <td>2.25</td>\n",
       "      <td>1560.0</td>\n",
       "      <td>8280</td>\n",
       "      <td>2</td>\n",
       "      <td>0</td>\n",
       "      <td>0</td>\n",
       "      <td>...</td>\n",
       "      <td>7</td>\n",
       "      <td>1560</td>\n",
       "      <td>0</td>\n",
       "      <td>1979</td>\n",
       "      <td>0</td>\n",
       "      <td>98001</td>\n",
       "      <td>47.3393</td>\n",
       "      <td>-122.259</td>\n",
       "      <td>1920.0</td>\n",
       "      <td>8120.0</td>\n",
       "    </tr>\n",
       "    <tr>\n",
       "      <th>7</th>\n",
       "      <td>2114700540</td>\n",
       "      <td>20141021T000000</td>\n",
       "      <td>366000.0</td>\n",
       "      <td>3.0</td>\n",
       "      <td>2.50</td>\n",
       "      <td>1320.0</td>\n",
       "      <td>4320</td>\n",
       "      <td>1</td>\n",
       "      <td>0</td>\n",
       "      <td>0</td>\n",
       "      <td>...</td>\n",
       "      <td>6</td>\n",
       "      <td>660</td>\n",
       "      <td>660</td>\n",
       "      <td>1918</td>\n",
       "      <td>0</td>\n",
       "      <td>98106</td>\n",
       "      <td>47.5327</td>\n",
       "      <td>-122.347</td>\n",
       "      <td>1190.0</td>\n",
       "      <td>4200.0</td>\n",
       "    </tr>\n",
       "    <tr>\n",
       "      <th>8</th>\n",
       "      <td>2596400050</td>\n",
       "      <td>20140730T000000</td>\n",
       "      <td>375000.0</td>\n",
       "      <td>3.0</td>\n",
       "      <td>1.00</td>\n",
       "      <td>1960.0</td>\n",
       "      <td>7955</td>\n",
       "      <td>1</td>\n",
       "      <td>0</td>\n",
       "      <td>0</td>\n",
       "      <td>...</td>\n",
       "      <td>7</td>\n",
       "      <td>1260</td>\n",
       "      <td>700</td>\n",
       "      <td>1963</td>\n",
       "      <td>0</td>\n",
       "      <td>98177</td>\n",
       "      <td>47.7641</td>\n",
       "      <td>-122.364</td>\n",
       "      <td>1850.0</td>\n",
       "      <td>8219.0</td>\n",
       "    </tr>\n",
       "    <tr>\n",
       "      <th>9</th>\n",
       "      <td>4140900050</td>\n",
       "      <td>20150126T000000</td>\n",
       "      <td>440000.0</td>\n",
       "      <td>4.0</td>\n",
       "      <td>1.75</td>\n",
       "      <td>2180.0</td>\n",
       "      <td>10200</td>\n",
       "      <td>1</td>\n",
       "      <td>0</td>\n",
       "      <td>2</td>\n",
       "      <td>...</td>\n",
       "      <td>8</td>\n",
       "      <td>2000</td>\n",
       "      <td>180</td>\n",
       "      <td>1966</td>\n",
       "      <td>0</td>\n",
       "      <td>98028</td>\n",
       "      <td>47.7638</td>\n",
       "      <td>-122.270</td>\n",
       "      <td>2590.0</td>\n",
       "      <td>10445.0</td>\n",
       "    </tr>\n",
       "  </tbody>\n",
       "</table>\n",
       "<p>10 rows × 21 columns</p>\n",
       "</div>"
      ],
      "text/plain": [
       "           id             date     price  bedrooms  bathrooms  sqft_living  \\\n",
       "0  2780400035  20140505T000000  665000.0       4.0       2.50       2800.0   \n",
       "1  1703050500  20150321T000000  645000.0       3.0       2.50       2490.0   \n",
       "2  5700002325  20140605T000000  640000.0       3.0       1.75       2340.0   \n",
       "3  0475000510  20141118T000000  594000.0       3.0       1.00       1320.0   \n",
       "4  0844001052  20150128T000000  365000.0       4.0       2.50       1904.0   \n",
       "5  2781280290  20150427T000000  305000.0       3.0       2.50       1610.0   \n",
       "6  2214800630  20141105T000000  239950.0       3.0       2.25       1560.0   \n",
       "7  2114700540  20141021T000000  366000.0       3.0       2.50       1320.0   \n",
       "8  2596400050  20140730T000000  375000.0       3.0       1.00       1960.0   \n",
       "9  4140900050  20150126T000000  440000.0       4.0       1.75       2180.0   \n",
       "\n",
       "   sqft_lot floors  waterfront  view  ...  grade  sqft_above  sqft_basement  \\\n",
       "0      5900      1           0     0  ...      8        1660           1140   \n",
       "1      5978      2           0     0  ...      9        2490              0   \n",
       "2      4206      1           0     0  ...      7        1170           1170   \n",
       "3      5000      1           0     0  ...      7        1090            230   \n",
       "4      8200      2           0     0  ...      7        1904              0   \n",
       "5      3516      2           0     0  ...      8        1610              0   \n",
       "6      8280      2           0     0  ...      7        1560              0   \n",
       "7      4320      1           0     0  ...      6         660            660   \n",
       "8      7955      1           0     0  ...      7        1260            700   \n",
       "9     10200      1           0     2  ...      8        2000            180   \n",
       "\n",
       "   yr_built  yr_renovated  zipcode      lat     long  sqft_living15  \\\n",
       "0      1963             0    98115  47.6809 -122.286         2580.0   \n",
       "1      2003             0    98074  47.6298 -122.022         2710.0   \n",
       "2      1917             0    98144  47.5759 -122.288         1360.0   \n",
       "3      1920             0    98107  47.6674 -122.365         1700.0   \n",
       "4      1999             0    98010  47.3107 -122.001         1560.0   \n",
       "5      2006             0    98055  47.4491 -122.188         1610.0   \n",
       "6      1979             0    98001  47.3393 -122.259         1920.0   \n",
       "7      1918             0    98106  47.5327 -122.347         1190.0   \n",
       "8      1963             0    98177  47.7641 -122.364         1850.0   \n",
       "9      1966             0    98028  47.7638 -122.270         2590.0   \n",
       "\n",
       "   sqft_lot15  \n",
       "0      5900.0  \n",
       "1      6629.0  \n",
       "2      4725.0  \n",
       "3      5000.0  \n",
       "4     12426.0  \n",
       "5      3056.0  \n",
       "6      8120.0  \n",
       "7      4200.0  \n",
       "8      8219.0  \n",
       "9     10445.0  \n",
       "\n",
       "[10 rows x 21 columns]"
      ]
     },
     "execution_count": 334,
     "metadata": {},
     "output_type": "execute_result"
    }
   ],
   "source": [
    "train_valid_shuffled[0:10] # rows 0 to 9"
   ]
  },
  {
   "cell_type": "markdown",
   "metadata": {},
   "source": [
    "Now let us extract individual segments with array slicing. Consider the scenario where we group the houses in the `train_valid_shuffled` dataframe into k=10 segments of roughly equal size, with starting and ending indices computed as above.\n",
    "Extract the fourth segment (segment 3) and assign it to a variable called `validation4`."
   ]
  },
  {
   "cell_type": "code",
   "execution_count": 336,
   "metadata": {},
   "outputs": [],
   "source": [
    "n = len(train_valid_shuffled)\n",
    "k = 10\n",
    "i = 3 # the fourth segment\n",
    "start = int((n*i) / k)\n",
    "end = int((n*(i+1)) / k-1)\n",
    "\n",
    "validation4 = train_valid_shuffled[start:end+1]"
   ]
  },
  {
   "cell_type": "markdown",
   "metadata": {},
   "source": [
    "After designating one of the k segments as the validation set, we train a model using the rest of the data. To choose the remainder, we slice (0:start) and (end+1:n) of the data and paste them together. There is an `append()` method that pastes together two disjoint sets of rows originating from a common dataset. For instance, the following cell pastes together the first and last two rows of the `train_valid_shuffled` dataframe."
   ]
  },
  {
   "cell_type": "code",
   "execution_count": 340,
   "metadata": {},
   "outputs": [
    {
     "data": {
      "text/html": [
       "<div>\n",
       "<style scoped>\n",
       "    .dataframe tbody tr th:only-of-type {\n",
       "        vertical-align: middle;\n",
       "    }\n",
       "\n",
       "    .dataframe tbody tr th {\n",
       "        vertical-align: top;\n",
       "    }\n",
       "\n",
       "    .dataframe thead th {\n",
       "        text-align: right;\n",
       "    }\n",
       "</style>\n",
       "<table border=\"1\" class=\"dataframe\">\n",
       "  <thead>\n",
       "    <tr style=\"text-align: right;\">\n",
       "      <th></th>\n",
       "      <th>id</th>\n",
       "      <th>date</th>\n",
       "      <th>price</th>\n",
       "      <th>bedrooms</th>\n",
       "      <th>bathrooms</th>\n",
       "      <th>sqft_living</th>\n",
       "      <th>sqft_lot</th>\n",
       "      <th>floors</th>\n",
       "      <th>waterfront</th>\n",
       "      <th>view</th>\n",
       "      <th>...</th>\n",
       "      <th>grade</th>\n",
       "      <th>sqft_above</th>\n",
       "      <th>sqft_basement</th>\n",
       "      <th>yr_built</th>\n",
       "      <th>yr_renovated</th>\n",
       "      <th>zipcode</th>\n",
       "      <th>lat</th>\n",
       "      <th>long</th>\n",
       "      <th>sqft_living15</th>\n",
       "      <th>sqft_lot15</th>\n",
       "    </tr>\n",
       "  </thead>\n",
       "  <tbody>\n",
       "    <tr>\n",
       "      <th>0</th>\n",
       "      <td>2780400035</td>\n",
       "      <td>20140505T000000</td>\n",
       "      <td>665000.0</td>\n",
       "      <td>4.0</td>\n",
       "      <td>2.50</td>\n",
       "      <td>2800.0</td>\n",
       "      <td>5900</td>\n",
       "      <td>1</td>\n",
       "      <td>0</td>\n",
       "      <td>0</td>\n",
       "      <td>...</td>\n",
       "      <td>8</td>\n",
       "      <td>1660</td>\n",
       "      <td>1140</td>\n",
       "      <td>1963</td>\n",
       "      <td>0</td>\n",
       "      <td>98115</td>\n",
       "      <td>47.6809</td>\n",
       "      <td>-122.286</td>\n",
       "      <td>2580.0</td>\n",
       "      <td>5900.0</td>\n",
       "    </tr>\n",
       "    <tr>\n",
       "      <th>1</th>\n",
       "      <td>1703050500</td>\n",
       "      <td>20150321T000000</td>\n",
       "      <td>645000.0</td>\n",
       "      <td>3.0</td>\n",
       "      <td>2.50</td>\n",
       "      <td>2490.0</td>\n",
       "      <td>5978</td>\n",
       "      <td>2</td>\n",
       "      <td>0</td>\n",
       "      <td>0</td>\n",
       "      <td>...</td>\n",
       "      <td>9</td>\n",
       "      <td>2490</td>\n",
       "      <td>0</td>\n",
       "      <td>2003</td>\n",
       "      <td>0</td>\n",
       "      <td>98074</td>\n",
       "      <td>47.6298</td>\n",
       "      <td>-122.022</td>\n",
       "      <td>2710.0</td>\n",
       "      <td>6629.0</td>\n",
       "    </tr>\n",
       "    <tr>\n",
       "      <th>19394</th>\n",
       "      <td>4139480190</td>\n",
       "      <td>20140916T000000</td>\n",
       "      <td>1153000.0</td>\n",
       "      <td>3.0</td>\n",
       "      <td>3.25</td>\n",
       "      <td>3780.0</td>\n",
       "      <td>10623</td>\n",
       "      <td>1</td>\n",
       "      <td>0</td>\n",
       "      <td>1</td>\n",
       "      <td>...</td>\n",
       "      <td>11</td>\n",
       "      <td>2650</td>\n",
       "      <td>1130</td>\n",
       "      <td>1999</td>\n",
       "      <td>0</td>\n",
       "      <td>98006</td>\n",
       "      <td>47.5506</td>\n",
       "      <td>-122.101</td>\n",
       "      <td>3850.0</td>\n",
       "      <td>11170.0</td>\n",
       "    </tr>\n",
       "    <tr>\n",
       "      <th>19395</th>\n",
       "      <td>7237300290</td>\n",
       "      <td>20150326T000000</td>\n",
       "      <td>338000.0</td>\n",
       "      <td>5.0</td>\n",
       "      <td>2.50</td>\n",
       "      <td>2400.0</td>\n",
       "      <td>4496</td>\n",
       "      <td>2</td>\n",
       "      <td>0</td>\n",
       "      <td>0</td>\n",
       "      <td>...</td>\n",
       "      <td>7</td>\n",
       "      <td>2400</td>\n",
       "      <td>0</td>\n",
       "      <td>2004</td>\n",
       "      <td>0</td>\n",
       "      <td>98042</td>\n",
       "      <td>47.3692</td>\n",
       "      <td>-122.126</td>\n",
       "      <td>1880.0</td>\n",
       "      <td>4319.0</td>\n",
       "    </tr>\n",
       "  </tbody>\n",
       "</table>\n",
       "<p>4 rows × 21 columns</p>\n",
       "</div>"
      ],
      "text/plain": [
       "               id             date      price  bedrooms  bathrooms  \\\n",
       "0      2780400035  20140505T000000   665000.0       4.0       2.50   \n",
       "1      1703050500  20150321T000000   645000.0       3.0       2.50   \n",
       "19394  4139480190  20140916T000000  1153000.0       3.0       3.25   \n",
       "19395  7237300290  20150326T000000   338000.0       5.0       2.50   \n",
       "\n",
       "       sqft_living  sqft_lot floors  waterfront  view  ...  grade  sqft_above  \\\n",
       "0           2800.0      5900      1           0     0  ...      8        1660   \n",
       "1           2490.0      5978      2           0     0  ...      9        2490   \n",
       "19394       3780.0     10623      1           0     1  ...     11        2650   \n",
       "19395       2400.0      4496      2           0     0  ...      7        2400   \n",
       "\n",
       "       sqft_basement  yr_built  yr_renovated  zipcode      lat     long  \\\n",
       "0               1140      1963             0    98115  47.6809 -122.286   \n",
       "1                  0      2003             0    98074  47.6298 -122.022   \n",
       "19394           1130      1999             0    98006  47.5506 -122.101   \n",
       "19395              0      2004             0    98042  47.3692 -122.126   \n",
       "\n",
       "       sqft_living15  sqft_lot15  \n",
       "0             2580.0      5900.0  \n",
       "1             2710.0      6629.0  \n",
       "19394         3850.0     11170.0  \n",
       "19395         1880.0      4319.0  \n",
       "\n",
       "[4 rows x 21 columns]"
      ]
     },
     "execution_count": 340,
     "metadata": {},
     "output_type": "execute_result"
    }
   ],
   "source": [
    "n = len(train_valid_shuffled)\n",
    "first_two = train_valid_shuffled[0:2]\n",
    "last_two = train_valid_shuffled[n-2:n]\n",
    "first_two.append(last_two)"
   ]
  },
  {
   "cell_type": "markdown",
   "metadata": {},
   "source": [
    "Extract the remainder of the data after *excluding* fourth segment (segment 3) and assign the subset to `train4`."
   ]
  },
  {
   "cell_type": "code",
   "execution_count": 342,
   "metadata": {},
   "outputs": [],
   "source": [
    "n = len(train_valid_shuffled)\n",
    "first = train_valid_shuffled[0:start]\n",
    "last = train_valid_shuffled[end+1:n]\n",
    "train4 = first.append(last)"
   ]
  },
  {
   "cell_type": "markdown",
   "metadata": {},
   "source": [
    "Now we are ready to implement k-fold cross-validation. Write a function that computes k validation errors by designating each of the k segments as the validation set. It accepts as parameters (i) `k`, (ii) `l2_penalty` (iii) dataframe and (iv) name of output column (e.g. `price`). The function returns the average validation error using k segments as validation sets.\n",
    "\n",
    "* For each i in [0, 1, ..., k-1]:\n",
    "  * Compute starting and ending indices of segment i and call 'start' and 'end'\n",
    "  * Form validation set by taking a slice (start:end+1) from the data.\n",
    "  * Form training set by appending slice (end+1:n) to the end of slice (0:start).\n",
    "  * Train a linear model using training set just formed, with a given l2_penalty / alpha\n",
    "  * Compute validation error using validation set just formed"
   ]
  },
  {
   "cell_type": "code",
   "execution_count": 346,
   "metadata": {},
   "outputs": [],
   "source": [
    "def k_fold_cross_validation(k, l2_penalty, data, output_name):\n",
    "    n = len(data)\n",
    "    \n",
    "    RSS_list = []\n",
    "    for i in range(k):\n",
    "        start = int((n*i)/k)\n",
    "        end = int((n*(i+1))/k-1)\n",
    "\n",
    "        valid = data[start:end+1]\n",
    "\n",
    "        train_first = data[0:start]\n",
    "        train_last = data[end+1:n]\n",
    "        train = train_first.append(train_last)\n",
    "        \n",
    "        X_train = train.drop(output_name, axis=1)\n",
    "        y_train = train[output_name]\n",
    "        \n",
    "        model = Ridge(alpha=l2_penalty, normalize=True)\n",
    "        model.fit(X_train, y_train)\n",
    "        \n",
    "        X_valid = train.drop(output_name, axis=1)\n",
    "        y_valid = train[output_name]\n",
    "        \n",
    "        preds = model.predict(X_valid)\n",
    "        RSS = ((y_valid - preds)**2).sum()\n",
    "        RSS_list.append(RSS)\n",
    "        \n",
    "    average_validation_error = np.mean(RSS_list)\n",
    "    \n",
    "    return average_validation_error"
   ]
  },
  {
   "cell_type": "markdown",
   "metadata": {},
   "source": [
    "Once we have a function to compute the average validation error for a model, we can write a loop to find the model that minimises the average validation error. Write a loop that does the following:\n",
    "* We will again be aiming to fit a 15th-order polynomial model using the `sqft_living` input\n",
    "* For `l2_penalty` in [10^1, 10^1.5, 10^2, 10^2.5, ..., 10^7] (to get this in Python, you can use this Numpy function: `np.logspace(1, 7, num=13)`.)\n",
    "    * Run 10-fold cross-validation with `l2_penalty`\n",
    "* Report which L2 penalty produced the lowest average validation error.\n",
    "\n",
    "Note: since the degree of the polynomial is now fixed to 15, to make things faster, you should generate polynomial features in advance and re-use them throughout the loop. Make sure to use `train_valid_shuffled` when generating polynomial features!"
   ]
  },
  {
   "cell_type": "code",
   "execution_count": 349,
   "metadata": {},
   "outputs": [],
   "source": [
    "l2_penalty = np.logspace(3, 9, num=13)\n",
    "\n",
    "poly_frame = polynomial_dataframe(train_valid_shuffled['sqft_living'], 15)\n",
    "poly_frame['price'] = train_valid_shuffled['price']\n",
    "\n",
    "results = []\n",
    "for penalty in l2_penalty:\n",
    "    average_validation_error = k_fold_cross_validation(k=10, l2_penalty=penalty, data=poly_frame,\n",
    "                                                       output_name='price')\n",
    "    results.append((penalty, average_validation_error))"
   ]
  },
  {
   "cell_type": "code",
   "execution_count": 350,
   "metadata": {},
   "outputs": [
    {
     "data": {
      "text/html": [
       "<div>\n",
       "<style scoped>\n",
       "    .dataframe tbody tr th:only-of-type {\n",
       "        vertical-align: middle;\n",
       "    }\n",
       "\n",
       "    .dataframe tbody tr th {\n",
       "        vertical-align: top;\n",
       "    }\n",
       "\n",
       "    .dataframe thead th {\n",
       "        text-align: right;\n",
       "    }\n",
       "</style>\n",
       "<table border=\"1\" class=\"dataframe\">\n",
       "  <thead>\n",
       "    <tr style=\"text-align: right;\">\n",
       "      <th></th>\n",
       "      <th>penalty</th>\n",
       "      <th>error</th>\n",
       "    </tr>\n",
       "  </thead>\n",
       "  <tbody>\n",
       "    <tr>\n",
       "      <th>0</th>\n",
       "      <td>1.000000e+03</td>\n",
       "      <td>2.385225e+15</td>\n",
       "    </tr>\n",
       "    <tr>\n",
       "      <th>1</th>\n",
       "      <td>3.162278e+03</td>\n",
       "      <td>2.391224e+15</td>\n",
       "    </tr>\n",
       "    <tr>\n",
       "      <th>2</th>\n",
       "      <td>1.000000e+04</td>\n",
       "      <td>2.393135e+15</td>\n",
       "    </tr>\n",
       "    <tr>\n",
       "      <th>3</th>\n",
       "      <td>3.162278e+04</td>\n",
       "      <td>2.393741e+15</td>\n",
       "    </tr>\n",
       "    <tr>\n",
       "      <th>4</th>\n",
       "      <td>1.000000e+05</td>\n",
       "      <td>2.393933e+15</td>\n",
       "    </tr>\n",
       "    <tr>\n",
       "      <th>5</th>\n",
       "      <td>3.162278e+05</td>\n",
       "      <td>2.393994e+15</td>\n",
       "    </tr>\n",
       "    <tr>\n",
       "      <th>6</th>\n",
       "      <td>1.000000e+06</td>\n",
       "      <td>2.394013e+15</td>\n",
       "    </tr>\n",
       "    <tr>\n",
       "      <th>7</th>\n",
       "      <td>3.162278e+06</td>\n",
       "      <td>2.394019e+15</td>\n",
       "    </tr>\n",
       "    <tr>\n",
       "      <th>8</th>\n",
       "      <td>1.000000e+07</td>\n",
       "      <td>2.394021e+15</td>\n",
       "    </tr>\n",
       "    <tr>\n",
       "      <th>9</th>\n",
       "      <td>3.162278e+07</td>\n",
       "      <td>2.394022e+15</td>\n",
       "    </tr>\n",
       "    <tr>\n",
       "      <th>10</th>\n",
       "      <td>1.000000e+08</td>\n",
       "      <td>2.394022e+15</td>\n",
       "    </tr>\n",
       "    <tr>\n",
       "      <th>11</th>\n",
       "      <td>3.162278e+08</td>\n",
       "      <td>2.394022e+15</td>\n",
       "    </tr>\n",
       "    <tr>\n",
       "      <th>12</th>\n",
       "      <td>1.000000e+09</td>\n",
       "      <td>2.394022e+15</td>\n",
       "    </tr>\n",
       "  </tbody>\n",
       "</table>\n",
       "</div>"
      ],
      "text/plain": [
       "         penalty         error\n",
       "0   1.000000e+03  2.385225e+15\n",
       "1   3.162278e+03  2.391224e+15\n",
       "2   1.000000e+04  2.393135e+15\n",
       "3   3.162278e+04  2.393741e+15\n",
       "4   1.000000e+05  2.393933e+15\n",
       "5   3.162278e+05  2.393994e+15\n",
       "6   1.000000e+06  2.394013e+15\n",
       "7   3.162278e+06  2.394019e+15\n",
       "8   1.000000e+07  2.394021e+15\n",
       "9   3.162278e+07  2.394022e+15\n",
       "10  1.000000e+08  2.394022e+15\n",
       "11  3.162278e+08  2.394022e+15\n",
       "12  1.000000e+09  2.394022e+15"
      ]
     },
     "execution_count": 350,
     "metadata": {},
     "output_type": "execute_result"
    }
   ],
   "source": [
    "val_errors = pd.DataFrame(results, columns=['penalty', 'error'])\n",
    "val_errors_sorted = val_errors.sort_values(by='error', ascending=True)\n",
    "val_errors_sorted"
   ]
  },
  {
   "cell_type": "markdown",
   "metadata": {},
   "source": [
    "***QUIZ QUESTION:  What is the best value for the L2 penalty according to 10-fold validation?***"
   ]
  },
  {
   "cell_type": "markdown",
   "metadata": {},
   "source": [
    "You may find it useful to plot the k-fold cross-validation errors you have obtained to better understand the behavior of the method.  "
   ]
  },
  {
   "cell_type": "code",
   "execution_count": 352,
   "metadata": {},
   "outputs": [
    {
     "data": {
      "image/png": "[encoded data removed]",
      "text/plain": [
       "<Figure size 432x288 with 1 Axes>"
      ]
     },
     "metadata": {
      "needs_background": "light"
     },
     "output_type": "display_data"
    }
   ],
   "source": [
    "# Plot the l2_penalty values in the x axis and the cross-validation error in the y axis.\n",
    "# Using plt.xscale('log') will make your plot more intuitive.\n",
    "sns.lineplot(data=val_errors, x=\"penalty\", y=\"error\")\n",
    "plt.xscale('log')\n",
    "plt.xlabel(\"l2_penalty\")\n",
    "sns.despine()"
   ]
  },
  {
   "cell_type": "markdown",
   "metadata": {},
   "source": [
    "Once you found the best value for the L2 penalty using cross-validation, it is important to retrain a final model on all of the training data using this value of `l2_penalty`. This way, your final model will be trained on the entire dataset."
   ]
  },
  {
   "cell_type": "markdown",
   "metadata": {},
   "source": [
    "***QUIZ QUESTION: Using the best L2 penalty found above, train a model using all training data. What is the RSS on the TEST data of the model you learn with this L2 penalty? ***"
   ]
  },
  {
   "cell_type": "code",
   "execution_count": 359,
   "metadata": {},
   "outputs": [
    {
     "data": {
      "text/plain": [
       "283856861224150.9"
      ]
     },
     "execution_count": 359,
     "metadata": {},
     "output_type": "execute_result"
    }
   ],
   "source": [
    "best_l2_penalty = val_errors_sorted[\"penalty\"][0]\n",
    "train_X = polynomial_dataframe(train_valid_shuffled['sqft_living'], 15)\n",
    "train_y = train_valid_shuffled['price']\n",
    "\n",
    "model = Ridge(alpha=best_l2_penalty, normalize=True)\n",
    "model.fit(train_X, train_y)\n",
    "\n",
    "test_X = polynomial_dataframe(test['sqft_living'], 15)\n",
    "test_y = test['price']\n",
    "preds = model.predict(test_X)\n",
    "\n",
    "RSS = ((test_y - preds)**2).sum()\n",
    "RSS"
   ]
  },
  {
   "cell_type": "code",
   "execution_count": null,
   "metadata": {},
   "outputs": [],
   "source": []
  }
 ],
 "metadata": {
  "kernelspec": {
   "display_name": "Python 3",
   "language": "python",
   "name": "python3"
  },
  "language_info": {
   "codemirror_mode": {
    "name": "ipython",
    "version": 3
   },
   "file_extension": ".py",
   "mimetype": "text/x-python",
   "name": "python",
   "nbconvert_exporter": "python",
   "pygments_lexer": "ipython3",
   "version": "3.7.6"
  }
 },
 "nbformat": 4,
 "nbformat_minor": 1
}
