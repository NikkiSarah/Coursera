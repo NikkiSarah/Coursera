{
 "cells": [
  {
   "cell_type": "markdown",
   "metadata": {},
   "source": [
    "# Fire up Turi Create"
   ]
  },
  {
   "cell_type": "code",
   "execution_count": 1,
   "metadata": {},
   "outputs": [],
   "source": [
    "import turicreate"
   ]
  },
  {
   "cell_type": "markdown",
   "metadata": {},
   "source": [
    "# Load some house value vs. crime rate data\n",
    "\n",
    "Dataset is from Philadelphia, PA and includes average house sales price in a number of neighborhoods.  The attributes of each neighborhood we have include the crime rate ('CrimeRate'), miles from Center City ('MilesPhila'), town name ('Name'), and county name ('County')."
   ]
  },
  {
   "cell_type": "code",
   "execution_count": 2,
   "metadata": {},
   "outputs": [
    {
     "data": {
      "text/html": [
       "<pre>Finished parsing file /home/jovyan/work/Week 1/Philadelphia_Crime_Rate_noNA.csv</pre>"
      ],
      "text/plain": [
       "Finished parsing file /home/jovyan/work/Week 1/Philadelphia_Crime_Rate_noNA.csv"
      ]
     },
     "metadata": {},
     "output_type": "display_data"
    },
    {
     "data": {
      "text/html": [
       "<pre>Parsing completed. Parsed 99 lines in 0.033916 secs.</pre>"
      ],
      "text/plain": [
       "Parsing completed. Parsed 99 lines in 0.033916 secs."
      ]
     },
     "metadata": {},
     "output_type": "display_data"
    },
    {
     "name": "stdout",
     "output_type": "stream",
     "text": [
      "------------------------------------------------------\n",
      "Inferred types from first 100 line(s) of file as \n",
      "column_type_hints=[int,float,float,float,float,str,str]\n",
      "If parsing fails due to incorrect types, you can correct\n",
      "the inferred type list above and pass it to read_csv in\n",
      "the column_type_hints argument\n",
      "------------------------------------------------------\n"
     ]
    },
    {
     "data": {
      "text/html": [
       "<pre>Finished parsing file /home/jovyan/work/Week 1/Philadelphia_Crime_Rate_noNA.csv</pre>"
      ],
      "text/plain": [
       "Finished parsing file /home/jovyan/work/Week 1/Philadelphia_Crime_Rate_noNA.csv"
      ]
     },
     "metadata": {},
     "output_type": "display_data"
    },
    {
     "data": {
      "text/html": [
       "<pre>Parsing completed. Parsed 99 lines in 0.032072 secs.</pre>"
      ],
      "text/plain": [
       "Parsing completed. Parsed 99 lines in 0.032072 secs."
      ]
     },
     "metadata": {},
     "output_type": "display_data"
    }
   ],
   "source": [
    "sales = turicreate.SFrame('Philadelphia_Crime_Rate_noNA.csv')"
   ]
  },
  {
   "cell_type": "code",
   "execution_count": 3,
   "metadata": {},
   "outputs": [
    {
     "data": {
      "text/html": [
       "<div style=\"max-height:1000px;max-width:1500px;overflow:auto;\"><table frame=\"box\" rules=\"cols\">\n",
       "    <tr>\n",
       "        <th style=\"padding-left: 1em; padding-right: 1em; text-align: center\">HousePrice</th>\n",
       "        <th style=\"padding-left: 1em; padding-right: 1em; text-align: center\">HsPrc ($10,000)</th>\n",
       "        <th style=\"padding-left: 1em; padding-right: 1em; text-align: center\">CrimeRate</th>\n",
       "        <th style=\"padding-left: 1em; padding-right: 1em; text-align: center\">MilesPhila</th>\n",
       "        <th style=\"padding-left: 1em; padding-right: 1em; text-align: center\">PopChg</th>\n",
       "        <th style=\"padding-left: 1em; padding-right: 1em; text-align: center\">Name</th>\n",
       "        <th style=\"padding-left: 1em; padding-right: 1em; text-align: center\">County</th>\n",
       "    </tr>\n",
       "    <tr>\n",
       "        <td style=\"padding-left: 1em; padding-right: 1em; text-align: center; vertical-align: top\">140463</td>\n",
       "        <td style=\"padding-left: 1em; padding-right: 1em; text-align: center; vertical-align: top\">14.0463</td>\n",
       "        <td style=\"padding-left: 1em; padding-right: 1em; text-align: center; vertical-align: top\">29.7</td>\n",
       "        <td style=\"padding-left: 1em; padding-right: 1em; text-align: center; vertical-align: top\">10.0</td>\n",
       "        <td style=\"padding-left: 1em; padding-right: 1em; text-align: center; vertical-align: top\">-1.0</td>\n",
       "        <td style=\"padding-left: 1em; padding-right: 1em; text-align: center; vertical-align: top\">Abington</td>\n",
       "        <td style=\"padding-left: 1em; padding-right: 1em; text-align: center; vertical-align: top\">Montgome</td>\n",
       "    </tr>\n",
       "    <tr>\n",
       "        <td style=\"padding-left: 1em; padding-right: 1em; text-align: center; vertical-align: top\">113033</td>\n",
       "        <td style=\"padding-left: 1em; padding-right: 1em; text-align: center; vertical-align: top\">11.3033</td>\n",
       "        <td style=\"padding-left: 1em; padding-right: 1em; text-align: center; vertical-align: top\">24.1</td>\n",
       "        <td style=\"padding-left: 1em; padding-right: 1em; text-align: center; vertical-align: top\">18.0</td>\n",
       "        <td style=\"padding-left: 1em; padding-right: 1em; text-align: center; vertical-align: top\">4.0</td>\n",
       "        <td style=\"padding-left: 1em; padding-right: 1em; text-align: center; vertical-align: top\">Ambler</td>\n",
       "        <td style=\"padding-left: 1em; padding-right: 1em; text-align: center; vertical-align: top\">Montgome</td>\n",
       "    </tr>\n",
       "    <tr>\n",
       "        <td style=\"padding-left: 1em; padding-right: 1em; text-align: center; vertical-align: top\">124186</td>\n",
       "        <td style=\"padding-left: 1em; padding-right: 1em; text-align: center; vertical-align: top\">12.4186</td>\n",
       "        <td style=\"padding-left: 1em; padding-right: 1em; text-align: center; vertical-align: top\">19.5</td>\n",
       "        <td style=\"padding-left: 1em; padding-right: 1em; text-align: center; vertical-align: top\">25.0</td>\n",
       "        <td style=\"padding-left: 1em; padding-right: 1em; text-align: center; vertical-align: top\">8.0</td>\n",
       "        <td style=\"padding-left: 1em; padding-right: 1em; text-align: center; vertical-align: top\">Aston</td>\n",
       "        <td style=\"padding-left: 1em; padding-right: 1em; text-align: center; vertical-align: top\">Delaware</td>\n",
       "    </tr>\n",
       "    <tr>\n",
       "        <td style=\"padding-left: 1em; padding-right: 1em; text-align: center; vertical-align: top\">110490</td>\n",
       "        <td style=\"padding-left: 1em; padding-right: 1em; text-align: center; vertical-align: top\">11.049</td>\n",
       "        <td style=\"padding-left: 1em; padding-right: 1em; text-align: center; vertical-align: top\">49.4</td>\n",
       "        <td style=\"padding-left: 1em; padding-right: 1em; text-align: center; vertical-align: top\">25.0</td>\n",
       "        <td style=\"padding-left: 1em; padding-right: 1em; text-align: center; vertical-align: top\">2.7</td>\n",
       "        <td style=\"padding-left: 1em; padding-right: 1em; text-align: center; vertical-align: top\">Bensalem</td>\n",
       "        <td style=\"padding-left: 1em; padding-right: 1em; text-align: center; vertical-align: top\">Bucks</td>\n",
       "    </tr>\n",
       "    <tr>\n",
       "        <td style=\"padding-left: 1em; padding-right: 1em; text-align: center; vertical-align: top\">79124</td>\n",
       "        <td style=\"padding-left: 1em; padding-right: 1em; text-align: center; vertical-align: top\">7.9124</td>\n",
       "        <td style=\"padding-left: 1em; padding-right: 1em; text-align: center; vertical-align: top\">54.1</td>\n",
       "        <td style=\"padding-left: 1em; padding-right: 1em; text-align: center; vertical-align: top\">19.0</td>\n",
       "        <td style=\"padding-left: 1em; padding-right: 1em; text-align: center; vertical-align: top\">3.9</td>\n",
       "        <td style=\"padding-left: 1em; padding-right: 1em; text-align: center; vertical-align: top\">Bristol B.</td>\n",
       "        <td style=\"padding-left: 1em; padding-right: 1em; text-align: center; vertical-align: top\">Bucks</td>\n",
       "    </tr>\n",
       "    <tr>\n",
       "        <td style=\"padding-left: 1em; padding-right: 1em; text-align: center; vertical-align: top\">92634</td>\n",
       "        <td style=\"padding-left: 1em; padding-right: 1em; text-align: center; vertical-align: top\">9.2634</td>\n",
       "        <td style=\"padding-left: 1em; padding-right: 1em; text-align: center; vertical-align: top\">48.6</td>\n",
       "        <td style=\"padding-left: 1em; padding-right: 1em; text-align: center; vertical-align: top\">20.0</td>\n",
       "        <td style=\"padding-left: 1em; padding-right: 1em; text-align: center; vertical-align: top\">0.6</td>\n",
       "        <td style=\"padding-left: 1em; padding-right: 1em; text-align: center; vertical-align: top\">Bristol T.</td>\n",
       "        <td style=\"padding-left: 1em; padding-right: 1em; text-align: center; vertical-align: top\">Bucks</td>\n",
       "    </tr>\n",
       "    <tr>\n",
       "        <td style=\"padding-left: 1em; padding-right: 1em; text-align: center; vertical-align: top\">89246</td>\n",
       "        <td style=\"padding-left: 1em; padding-right: 1em; text-align: center; vertical-align: top\">8.9246</td>\n",
       "        <td style=\"padding-left: 1em; padding-right: 1em; text-align: center; vertical-align: top\">30.8</td>\n",
       "        <td style=\"padding-left: 1em; padding-right: 1em; text-align: center; vertical-align: top\">15.0</td>\n",
       "        <td style=\"padding-left: 1em; padding-right: 1em; text-align: center; vertical-align: top\">-2.6</td>\n",
       "        <td style=\"padding-left: 1em; padding-right: 1em; text-align: center; vertical-align: top\">Brookhaven</td>\n",
       "        <td style=\"padding-left: 1em; padding-right: 1em; text-align: center; vertical-align: top\">Delaware</td>\n",
       "    </tr>\n",
       "    <tr>\n",
       "        <td style=\"padding-left: 1em; padding-right: 1em; text-align: center; vertical-align: top\">195145</td>\n",
       "        <td style=\"padding-left: 1em; padding-right: 1em; text-align: center; vertical-align: top\">19.5145</td>\n",
       "        <td style=\"padding-left: 1em; padding-right: 1em; text-align: center; vertical-align: top\">10.8</td>\n",
       "        <td style=\"padding-left: 1em; padding-right: 1em; text-align: center; vertical-align: top\">20.0</td>\n",
       "        <td style=\"padding-left: 1em; padding-right: 1em; text-align: center; vertical-align: top\">-3.5</td>\n",
       "        <td style=\"padding-left: 1em; padding-right: 1em; text-align: center; vertical-align: top\">Bryn Athyn</td>\n",
       "        <td style=\"padding-left: 1em; padding-right: 1em; text-align: center; vertical-align: top\">Montgome</td>\n",
       "    </tr>\n",
       "    <tr>\n",
       "        <td style=\"padding-left: 1em; padding-right: 1em; text-align: center; vertical-align: top\">297342</td>\n",
       "        <td style=\"padding-left: 1em; padding-right: 1em; text-align: center; vertical-align: top\">29.7342</td>\n",
       "        <td style=\"padding-left: 1em; padding-right: 1em; text-align: center; vertical-align: top\">20.2</td>\n",
       "        <td style=\"padding-left: 1em; padding-right: 1em; text-align: center; vertical-align: top\">14.0</td>\n",
       "        <td style=\"padding-left: 1em; padding-right: 1em; text-align: center; vertical-align: top\">0.6</td>\n",
       "        <td style=\"padding-left: 1em; padding-right: 1em; text-align: center; vertical-align: top\">Bryn Mawr</td>\n",
       "        <td style=\"padding-left: 1em; padding-right: 1em; text-align: center; vertical-align: top\">Montgome</td>\n",
       "    </tr>\n",
       "    <tr>\n",
       "        <td style=\"padding-left: 1em; padding-right: 1em; text-align: center; vertical-align: top\">264298</td>\n",
       "        <td style=\"padding-left: 1em; padding-right: 1em; text-align: center; vertical-align: top\">26.4298</td>\n",
       "        <td style=\"padding-left: 1em; padding-right: 1em; text-align: center; vertical-align: top\">20.4</td>\n",
       "        <td style=\"padding-left: 1em; padding-right: 1em; text-align: center; vertical-align: top\">26.0</td>\n",
       "        <td style=\"padding-left: 1em; padding-right: 1em; text-align: center; vertical-align: top\">6.0</td>\n",
       "        <td style=\"padding-left: 1em; padding-right: 1em; text-align: center; vertical-align: top\">Buckingham</td>\n",
       "        <td style=\"padding-left: 1em; padding-right: 1em; text-align: center; vertical-align: top\">Bucks</td>\n",
       "    </tr>\n",
       "</table>\n",
       "[99 rows x 7 columns]<br/>Note: Only the head of the SFrame is printed.<br/>You can use print_rows(num_rows=m, num_columns=n) to print more rows and columns.\n",
       "</div>"
      ],
      "text/plain": [
       "Columns:\n",
       "\tHousePrice\tint\n",
       "\tHsPrc ($10,000)\tfloat\n",
       "\tCrimeRate\tfloat\n",
       "\tMilesPhila\tfloat\n",
       "\tPopChg\tfloat\n",
       "\tName\tstr\n",
       "\tCounty\tstr\n",
       "\n",
       "Rows: 99\n",
       "\n",
       "Data:\n",
       "+------------+-----------------+-----------+------------+--------+------------+\n",
       "| HousePrice | HsPrc ($10,000) | CrimeRate | MilesPhila | PopChg |    Name    |\n",
       "+------------+-----------------+-----------+------------+--------+------------+\n",
       "|   140463   |     14.0463     |    29.7   |    10.0    |  -1.0  |  Abington  |\n",
       "|   113033   |     11.3033     |    24.1   |    18.0    |  4.0   |   Ambler   |\n",
       "|   124186   |     12.4186     |    19.5   |    25.0    |  8.0   |   Aston    |\n",
       "|   110490   |      11.049     |    49.4   |    25.0    |  2.7   |  Bensalem  |\n",
       "|   79124    |      7.9124     |    54.1   |    19.0    |  3.9   | Bristol B. |\n",
       "|   92634    |      9.2634     |    48.6   |    20.0    |  0.6   | Bristol T. |\n",
       "|   89246    |      8.9246     |    30.8   |    15.0    |  -2.6  | Brookhaven |\n",
       "|   195145   |     19.5145     |    10.8   |    20.0    |  -3.5  | Bryn Athyn |\n",
       "|   297342   |     29.7342     |    20.2   |    14.0    |  0.6   | Bryn Mawr  |\n",
       "|   264298   |     26.4298     |    20.4   |    26.0    |  6.0   | Buckingham |\n",
       "+------------+-----------------+-----------+------------+--------+------------+\n",
       "+----------+\n",
       "|  County  |\n",
       "+----------+\n",
       "| Montgome |\n",
       "| Montgome |\n",
       "| Delaware |\n",
       "|  Bucks   |\n",
       "|  Bucks   |\n",
       "|  Bucks   |\n",
       "| Delaware |\n",
       "| Montgome |\n",
       "| Montgome |\n",
       "|  Bucks   |\n",
       "+----------+\n",
       "[99 rows x 7 columns]\n",
       "Note: Only the head of the SFrame is printed.\n",
       "You can use print_rows(num_rows=m, num_columns=n) to print more rows and columns."
      ]
     },
     "execution_count": 3,
     "metadata": {},
     "output_type": "execute_result"
    }
   ],
   "source": [
    "sales"
   ]
  },
  {
   "cell_type": "markdown",
   "metadata": {},
   "source": [
    "# Exploring the data "
   ]
  },
  {
   "cell_type": "markdown",
   "metadata": {},
   "source": [
    "The house price in a town is correlated with the crime rate of that town. Low crime towns tend to be associated with higher house prices and vice versa."
   ]
  },
  {
   "cell_type": "code",
   "execution_count": 4,
   "metadata": {},
   "outputs": [
    {
     "data": {
      "text/html": [
       "<pre>Materializing X axis SArray</pre>"
      ],
      "text/plain": [
       "Materializing X axis SArray"
      ]
     },
     "metadata": {},
     "output_type": "display_data"
    },
    {
     "data": {
      "text/html": [
       "<pre>Materializing Y axis SArray</pre>"
      ],
      "text/plain": [
       "Materializing Y axis SArray"
      ]
     },
     "metadata": {},
     "output_type": "display_data"
    },
    {
     "data": {
      "text/html": [
       "<html>                 <body>                     <iframe style=\"border:0;margin:0\" width=\"920\" height=\"770\" srcdoc='<html lang=\"en\">                         <head>                             <script src=\"https://cdnjs.cloudflare.com/ajax/libs/vega/5.4.0/vega.js\"></script>                             <script src=\"https://cdnjs.cloudflare.com/ajax/libs/vega-embed/4.0.0/vega-embed.js\"></script>                             <script src=\"https://cdnjs.cloudflare.com/ajax/libs/vega-tooltip/0.5.1/vega-tooltip.min.js\"></script>                             <link rel=\"stylesheet\" type=\"text/css\" href=\"https://cdnjs.cloudflare.com/ajax/libs/vega-tooltip/0.5.1/vega-tooltip.min.css\">                             <style>                             .vega-actions > a{                                 color:white;                                 text-decoration: none;                                 font-family: \"Arial\";                                 cursor:pointer;                                 padding:5px;                                 background:#AAAAAA;                                 border-radius:4px;                                 padding-left:10px;                                 padding-right:10px;                                 margin-right:5px;                             }                             .vega-actions{                                 margin-top:20px;                                 text-align:center                             }                            .vega-actions > a{                                 background:#999999;                            }                             </style>                         </head>                         <body>                             <div id=\"vis\">                             </div>                             <script>                                 var vega_json = \"{\\\"$schema\\\": \\\"https://vega.github.io/schema/vega/v4.json\\\", \\\"autosize\\\": {\\\"type\\\": \\\"fit\\\", \\\"resize\\\": false, \\\"contains\\\": \\\"padding\\\"}, \\\"padding\\\": 8, \\\"width\\\": 720, \\\"height\\\": 550, \\\"style\\\": \\\"cell\\\", \\\"title\\\": \\\"X vs. Y\\\", \\\"data\\\": [{\\\"name\\\": \\\"source_2\\\", \\\"values\\\": [{\\\"x\\\": 29.7, \\\"y\\\": 140463}, {\\\"x\\\": 24.1, \\\"y\\\": 113033}, {\\\"x\\\": 19.5, \\\"y\\\": 124186}, {\\\"x\\\": 49.4, \\\"y\\\": 110490}, {\\\"x\\\": 54.1, \\\"y\\\": 79124}, {\\\"x\\\": 48.6, \\\"y\\\": 92634}, {\\\"x\\\": 30.8, \\\"y\\\": 89246}, {\\\"x\\\": 10.8, \\\"y\\\": 195145}, {\\\"x\\\": 20.2, \\\"y\\\": 297342}, {\\\"x\\\": 20.4, \\\"y\\\": 264298}, {\\\"x\\\": 17.3, \\\"y\\\": 134342}, {\\\"x\\\": 50.3, \\\"y\\\": 147600}, {\\\"x\\\": 34.2, \\\"y\\\": 77370}, {\\\"x\\\": 33.7, \\\"y\\\": 170822}, {\\\"x\\\": 45.7, \\\"y\\\": 40642}, {\\\"x\\\": 22.3, \\\"y\\\": 71359}, {\\\"x\\\": 48.1, \\\"y\\\": 104923}, {\\\"x\\\": 19.4, \\\"y\\\": 190317}, {\\\"x\\\": 71.9, \\\"y\\\": 215512}, {\\\"x\\\": 45.1, \\\"y\\\": 178105}, {\\\"x\\\": 31.3, \\\"y\\\": 131025}, {\\\"x\\\": 24.9, \\\"y\\\": 149844}, {\\\"x\\\": 27.2, \\\"y\\\": 170556}, {\\\"x\\\": 17.7, \\\"y\\\": 280969}, {\\\"x\\\": 29.0, \\\"y\\\": 114233}, {\\\"x\\\": 21.4, \\\"y\\\": 74502}, {\\\"x\\\": 28.6, \\\"y\\\": 475112}, {\\\"x\\\": 29.3, \\\"y\\\": 97167}, {\\\"x\\\": 17.5, \\\"y\\\": 114572}, {\\\"x\\\": 16.5, \\\"y\\\": 436348}, {\\\"x\\\": 17.8, \\\"y\\\": 389302}, {\\\"x\\\": 17.3, \\\"y\\\": 122392}, {\\\"x\\\": 31.2, \\\"y\\\": 130436}, {\\\"x\\\": 14.5, \\\"y\\\": 272790}, {\\\"x\\\": 15.7, \\\"y\\\": 194435}, {\\\"x\\\": 28.6, \\\"y\\\": 299621}, {\\\"x\\\": 20.8, \\\"y\\\": 210884}, {\\\"x\\\": 29.3, \\\"y\\\": 112471}, {\\\"x\\\": 19.3, \\\"y\\\": 93738}, {\\\"x\\\": 39.5, \\\"y\\\": 121024}, {\\\"x\\\": 13.0, \\\"y\\\": 156035}, {\\\"x\\\": 24.1, \\\"y\\\": 185404}, {\\\"x\\\": 38.0, \\\"y\\\": 126160}, {\\\"x\\\": 40.1, \\\"y\\\": 143072}, {\\\"x\\\": 36.1, \\\"y\\\": 96769}, {\\\"x\\\": 26.6, \\\"y\\\": 94014}, {\\\"x\\\": 25.1, \\\"y\\\": 118214}, {\\\"x\\\": 14.6, \\\"y\\\": 157446}, {\\\"x\\\": 18.2, \\\"y\\\": 150283}, {\\\"x\\\": 15.3, \\\"y\\\": 153842}, {\\\"x\\\": 15.2, \\\"y\\\": 197214}, {\\\"x\\\": 17.4, \\\"y\\\": 206127}, {\\\"x\\\": 73.3, \\\"y\\\": 71981}, {\\\"x\\\": 7.1, \\\"y\\\": 169401}, {\\\"x\\\": 12.5, \\\"y\\\": 99843}, {\\\"x\\\": 45.8, \\\"y\\\": 60000}, {\\\"x\\\": 44.9, \\\"y\\\": 28000}, {\\\"x\\\": 65.0, \\\"y\\\": 60000}, {\\\"x\\\": 49.9, \\\"y\\\": 61800}, {\\\"x\\\": 54.8, \\\"y\\\": 38000}, {\\\"x\\\": 53.5, \\\"y\\\": 38000}, {\\\"x\\\": 69.9, \\\"y\\\": 42000}, {\\\"x\\\": 366.1, \\\"y\\\": 96200}, {\\\"x\\\": 24.6, \\\"y\\\": 103087}, {\\\"x\\\": 58.6, \\\"y\\\": 147720}, {\\\"x\\\": 53.2, \\\"y\\\": 78175}, {\\\"x\\\": 17.4, \\\"y\\\": 92215}, {\\\"x\\\": 15.5, \\\"y\\\": 271804}, {\\\"x\\\": 14.5, \\\"y\\\": 119566}, {\\\"x\\\": 24.1, \\\"y\\\": 100231}, {\\\"x\\\": 21.2, \\\"y\\\": 95831}, {\\\"x\\\": 9.8, \\\"y\\\": 229711}, {\\\"x\\\": 29.9, \\\"y\\\": 74308}, {\\\"x\\\": 7.2, \\\"y\\\": 259506}, {\\\"x\\\": 19.4, \\\"y\\\": 159573}, {\\\"x\\\": 41.1, \\\"y\\\": 147176}, {\\\"x\\\": 11.2, \\\"y\\\": 205732}, {\\\"x\\\": 21.2, \\\"y\\\": 215783}, {\\\"x\\\": 42.8, \\\"y\\\": 116710}, {\\\"x\\\": 9.4, \\\"y\\\": 359112}, {\\\"x\\\": 61.7, \\\"y\\\": 189959}, {\\\"x\\\": 19.4, \\\"y\\\": 133198}, {\\\"x\\\": 6.6, \\\"y\\\": 242821}, {\\\"x\\\": 15.9, \\\"y\\\": 142811}, {\\\"x\\\": 18.8, \\\"y\\\": 200498}, {\\\"x\\\": 13.2, \\\"y\\\": 199065}, {\\\"x\\\": 34.5, \\\"y\\\": 93648}, {\\\"x\\\": 22.1, \\\"y\\\": 163001}, {\\\"x\\\": 22.1, \\\"y\\\": 436348}, {\\\"x\\\": 71.9, \\\"y\\\": 124478}, {\\\"x\\\": 31.9, \\\"y\\\": 168276}, {\\\"x\\\": 44.6, \\\"y\\\": 114157}, {\\\"x\\\": 28.6, \\\"y\\\": 130088}, {\\\"x\\\": 24.0, \\\"y\\\": 152624}, {\\\"x\\\": 13.8, \\\"y\\\": 174232}, {\\\"x\\\": 29.9, \\\"y\\\": 196515}, {\\\"x\\\": 9.9, \\\"y\\\": 232714}, {\\\"x\\\": 22.6, \\\"y\\\": 245920}, {\\\"x\\\": 13.0, \\\"y\\\": 130953}]}], \\\"marks\\\": [{\\\"name\\\": \\\"marks\\\", \\\"type\\\": \\\"symbol\\\", \\\"style\\\": [\\\"circle\\\"], \\\"from\\\": {\\\"data\\\": \\\"source_2\\\"}, \\\"encode\\\": {\\\"hover\\\": {\\\"fill\\\": {\\\"value\\\": \\\"#7EC2F3\\\"}}, \\\"update\\\": {\\\"x\\\": {\\\"scale\\\": \\\"x\\\", \\\"field\\\": \\\"x\\\"}, \\\"y\\\": {\\\"scale\\\": \\\"y\\\", \\\"field\\\": \\\"y\\\", \\\"title\\\": \\\"Miles per Gallon\\\"}, \\\"fill\\\": {\\\"value\\\": \\\"#108EE9\\\"}, \\\"shape\\\": {\\\"value\\\": \\\"circle\\\"}, \\\"opacity\\\": {\\\"value\\\": 0.7}}}}], \\\"scales\\\": [{\\\"name\\\": \\\"x\\\", \\\"type\\\": \\\"linear\\\", \\\"domain\\\": {\\\"data\\\": \\\"source_2\\\", \\\"field\\\": \\\"x\\\"}, \\\"range\\\": [0, {\\\"signal\\\": \\\"width\\\"}], \\\"nice\\\": true, \\\"zero\\\": false, \\\"padding\\\": 5}, {\\\"name\\\": \\\"y\\\", \\\"type\\\": \\\"linear\\\", \\\"domain\\\": {\\\"data\\\": \\\"source_2\\\", \\\"field\\\": \\\"y\\\"}, \\\"range\\\": [{\\\"signal\\\": \\\"height\\\"}, 0], \\\"nice\\\": true, \\\"zero\\\": false, \\\"padding\\\": 5}], \\\"axes\\\": [{\\\"scale\\\": \\\"x\\\", \\\"labelOverlap\\\": true, \\\"orient\\\": \\\"bottom\\\", \\\"tickCount\\\": {\\\"signal\\\": \\\"ceil(width/40)\\\"}, \\\"title\\\": \\\"X\\\", \\\"zindex\\\": 1}, {\\\"scale\\\": \\\"x\\\", \\\"domain\\\": false, \\\"grid\\\": true, \\\"labels\\\": false, \\\"maxExtent\\\": 0, \\\"minExtent\\\": 0, \\\"orient\\\": \\\"bottom\\\", \\\"tickCount\\\": {\\\"signal\\\": \\\"ceil(width/40)\\\"}, \\\"ticks\\\": false, \\\"zindex\\\": 0, \\\"gridScale\\\": \\\"y\\\"}, {\\\"scale\\\": \\\"y\\\", \\\"labelOverlap\\\": true, \\\"orient\\\": \\\"left\\\", \\\"tickCount\\\": {\\\"signal\\\": \\\"ceil(height/40)\\\"}, \\\"title\\\": \\\"Y\\\", \\\"zindex\\\": 1}, {\\\"scale\\\": \\\"y\\\", \\\"domain\\\": false, \\\"grid\\\": true, \\\"labels\\\": false, \\\"maxExtent\\\": 0, \\\"minExtent\\\": 0, \\\"orient\\\": \\\"left\\\", \\\"tickCount\\\": {\\\"signal\\\": \\\"ceil(height/40)\\\"}, \\\"ticks\\\": false, \\\"zindex\\\": 0, \\\"gridScale\\\": \\\"x\\\"}], \\\"config\\\": {\\\"axis\\\": {\\\"gridColor\\\": \\\"rgba(204,204,204,1.0)\\\", \\\"labelFont\\\": \\\"\\\\\\\"San Francisco\\\\\\\", HelveticaNeue, Arial\\\", \\\"labelFontSize\\\": 12, \\\"labelPadding\\\": 10, \\\"labelColor\\\": \\\"rgba(0,0,0,0.847)\\\", \\\"tickColor\\\": \\\"rgb(136,136,136)\\\", \\\"titleFont\\\": \\\"\\\\\\\"San Francisco\\\\\\\", HelveticaNeue, Arial\\\", \\\"titleFontWeight\\\": \\\"normal\\\", \\\"titlePadding\\\": 20, \\\"titleFontSize\\\": 14, \\\"titleColor\\\": \\\"rgba(0,0,0,0.847)\\\"}, \\\"axisY\\\": {\\\"minExtent\\\": 30}, \\\"legend\\\": {\\\"labelFont\\\": \\\"\\\\\\\"San Francisco\\\\\\\", HelveticaNeue, Arial\\\", \\\"labelColor\\\": \\\"rgba(0,0,0,0.847)\\\", \\\"titleFont\\\": \\\"\\\\\\\"San Francisco\\\\\\\", HelveticaNeue, Arial\\\", \\\"cornerRadius\\\": 30, \\\"gradientLength\\\": 608, \\\"titleColor\\\": \\\"rgba(0,0,0,0.847)\\\"}, \\\"range\\\": {\\\"heatmap\\\": {\\\"scheme\\\": \\\"greenblue\\\"}}, \\\"style\\\": {\\\"rect\\\": {\\\"stroke\\\": \\\"rgba(200, 200, 200, 0.5)\\\"}, \\\"cell\\\": {\\\"stroke\\\": \\\"transparent\\\"}, \\\"group-title\\\": {\\\"fontSize\\\": 29, \\\"font\\\": \\\"HelveticaNeue, Arial\\\", \\\"fontWeight\\\": \\\"normal\\\", \\\"fill\\\": \\\"rgba(0,0,0,0.65)\\\"}}, \\\"title\\\": {\\\"color\\\": \\\"rgba(0,0,0,0.847)\\\", \\\"font\\\": \\\"\\\\\\\"San Francisco\\\\\\\", HelveticaNeue, Arial\\\", \\\"fontSize\\\": 18, \\\"fontWeight\\\": \\\"normal\\\", \\\"offset\\\": 30}}}\";                                 var vega_json_parsed = JSON.parse(vega_json);                                 var toolTipOpts = {                                     showAllFields: true                                 };                                 if(vega_json_parsed[\"metadata\"] != null){                                     if(vega_json_parsed[\"metadata\"][\"bubbleOpts\"] != null){                                         toolTipOpts = vega_json_parsed[\"metadata\"][\"bubbleOpts\"];                                     };                                 };                                 vegaEmbed(\"#vis\", vega_json_parsed).then(function (result) {                                     vegaTooltip.vega(result.view, toolTipOpts);                                  });                             </script>                         </body>                     </html>' src=\"demo_iframe_srcdoc.htm\">                         <p>Your browser does not support iframes.</p>                     </iframe>                 </body>             </html>"
      ],
      "text/plain": [
       "<IPython.core.display.HTML object>"
      ]
     },
     "metadata": {},
     "output_type": "display_data"
    }
   ],
   "source": [
    "turicreate.show(sales[\"CrimeRate\"], sales[\"HousePrice\"])"
   ]
  },
  {
   "cell_type": "markdown",
   "metadata": {},
   "source": [
    "# Fit the regression model using crime as the feature"
   ]
  },
  {
   "cell_type": "code",
   "execution_count": 5,
   "metadata": {},
   "outputs": [],
   "source": [
    "crime_model = turicreate.linear_regression.create(\n",
    "    sales,\n",
    "    target=\"HousePrice\",\n",
    "    features=['CrimeRate'],\n",
    "    validation_set=None,\n",
    "    verbose=False\n",
    ")"
   ]
  },
  {
   "cell_type": "markdown",
   "metadata": {},
   "source": [
    "# Let's see what our fit looks like"
   ]
  },
  {
   "cell_type": "markdown",
   "metadata": {},
   "source": [
    "Matplotlib is a Python plotting library that is also useful for plotting.  You can install it with:\n",
    "\n",
    "'pip install matplotlib'"
   ]
  },
  {
   "cell_type": "code",
   "execution_count": 6,
   "metadata": {},
   "outputs": [],
   "source": [
    "import matplotlib.pyplot as plt\n",
    "%matplotlib inline"
   ]
  },
  {
   "cell_type": "code",
   "execution_count": 7,
   "metadata": {
    "scrolled": true
   },
   "outputs": [
    {
     "data": {
      "text/plain": [
       "[<matplotlib.lines.Line2D at 0x7f75fe1c0090>,\n",
       " <matplotlib.lines.Line2D at 0x7f7531a31c90>]"
      ]
     },
     "execution_count": 7,
     "metadata": {},
     "output_type": "execute_result"
    },
    {
     "data": {
      "image/png": "[encoded data removed]",
      "text/plain": [
       "<Figure size 432x288 with 1 Axes>"
      ]
     },
     "metadata": {
      "needs_background": "light"
     },
     "output_type": "display_data"
    }
   ],
   "source": [
    "plt.plot(sales['CrimeRate'],sales['HousePrice'],'.',\n",
    "         sales['CrimeRate'],crime_model.predict(sales),'-')"
   ]
  },
  {
   "cell_type": "markdown",
   "metadata": {},
   "source": [
    "Above: blue dots are original data, green line is the fit from the simple regression."
   ]
  },
  {
   "cell_type": "markdown",
   "metadata": {},
   "source": [
    "# Remove Center City and redo the analysis"
   ]
  },
  {
   "cell_type": "markdown",
   "metadata": {},
   "source": [
    "Center City is the one observation with an extremely high crime rate, yet house prices are not very low.  This point does not follow the trend of the rest of the data very well.  A question is how much including Center City is influencing our fit on the other datapoints.  Let's remove this datapoint and see what happens."
   ]
  },
  {
   "cell_type": "code",
   "execution_count": 8,
   "metadata": {},
   "outputs": [],
   "source": [
    "sales_noCC = sales[sales['MilesPhila'] != 0.0] "
   ]
  },
  {
   "cell_type": "code",
   "execution_count": 9,
   "metadata": {},
   "outputs": [
    {
     "data": {
      "text/html": [
       "<pre>Materializing X axis SArray</pre>"
      ],
      "text/plain": [
       "Materializing X axis SArray"
      ]
     },
     "metadata": {},
     "output_type": "display_data"
    },
    {
     "data": {
      "text/html": [
       "<pre>Materializing Y axis SArray</pre>"
      ],
      "text/plain": [
       "Materializing Y axis SArray"
      ]
     },
     "metadata": {},
     "output_type": "display_data"
    },
    {
     "data": {
      "text/html": [
       "<html>                 <body>                     <iframe style=\"border:0;margin:0\" width=\"920\" height=\"770\" srcdoc='<html lang=\"en\">                         <head>                             <script src=\"https://cdnjs.cloudflare.com/ajax/libs/vega/5.4.0/vega.js\"></script>                             <script src=\"https://cdnjs.cloudflare.com/ajax/libs/vega-embed/4.0.0/vega-embed.js\"></script>                             <script src=\"https://cdnjs.cloudflare.com/ajax/libs/vega-tooltip/0.5.1/vega-tooltip.min.js\"></script>                             <link rel=\"stylesheet\" type=\"text/css\" href=\"https://cdnjs.cloudflare.com/ajax/libs/vega-tooltip/0.5.1/vega-tooltip.min.css\">                             <style>                             .vega-actions > a{                                 color:white;                                 text-decoration: none;                                 font-family: \"Arial\";                                 cursor:pointer;                                 padding:5px;                                 background:#AAAAAA;                                 border-radius:4px;                                 padding-left:10px;                                 padding-right:10px;                                 margin-right:5px;                             }                             .vega-actions{                                 margin-top:20px;                                 text-align:center                             }                            .vega-actions > a{                                 background:#999999;                            }                             </style>                         </head>                         <body>                             <div id=\"vis\">                             </div>                             <script>                                 var vega_json = \"{\\\"$schema\\\": \\\"https://vega.github.io/schema/vega/v4.json\\\", \\\"autosize\\\": {\\\"type\\\": \\\"fit\\\", \\\"resize\\\": false, \\\"contains\\\": \\\"padding\\\"}, \\\"padding\\\": 8, \\\"width\\\": 720, \\\"height\\\": 550, \\\"style\\\": \\\"cell\\\", \\\"title\\\": \\\"X vs. Y\\\", \\\"data\\\": [{\\\"name\\\": \\\"source_2\\\", \\\"values\\\": [{\\\"x\\\": 29.7, \\\"y\\\": 140463}, {\\\"x\\\": 24.1, \\\"y\\\": 113033}, {\\\"x\\\": 19.5, \\\"y\\\": 124186}, {\\\"x\\\": 49.4, \\\"y\\\": 110490}, {\\\"x\\\": 54.1, \\\"y\\\": 79124}, {\\\"x\\\": 48.6, \\\"y\\\": 92634}, {\\\"x\\\": 30.8, \\\"y\\\": 89246}, {\\\"x\\\": 10.8, \\\"y\\\": 195145}, {\\\"x\\\": 20.2, \\\"y\\\": 297342}, {\\\"x\\\": 20.4, \\\"y\\\": 264298}, {\\\"x\\\": 17.3, \\\"y\\\": 134342}, {\\\"x\\\": 50.3, \\\"y\\\": 147600}, {\\\"x\\\": 34.2, \\\"y\\\": 77370}, {\\\"x\\\": 33.7, \\\"y\\\": 170822}, {\\\"x\\\": 45.7, \\\"y\\\": 40642}, {\\\"x\\\": 22.3, \\\"y\\\": 71359}, {\\\"x\\\": 48.1, \\\"y\\\": 104923}, {\\\"x\\\": 19.4, \\\"y\\\": 190317}, {\\\"x\\\": 71.9, \\\"y\\\": 215512}, {\\\"x\\\": 45.1, \\\"y\\\": 178105}, {\\\"x\\\": 31.3, \\\"y\\\": 131025}, {\\\"x\\\": 24.9, \\\"y\\\": 149844}, {\\\"x\\\": 27.2, \\\"y\\\": 170556}, {\\\"x\\\": 17.7, \\\"y\\\": 280969}, {\\\"x\\\": 29.0, \\\"y\\\": 114233}, {\\\"x\\\": 21.4, \\\"y\\\": 74502}, {\\\"x\\\": 28.6, \\\"y\\\": 475112}, {\\\"x\\\": 29.3, \\\"y\\\": 97167}, {\\\"x\\\": 17.5, \\\"y\\\": 114572}, {\\\"x\\\": 16.5, \\\"y\\\": 436348}, {\\\"x\\\": 17.8, \\\"y\\\": 389302}, {\\\"x\\\": 17.3, \\\"y\\\": 122392}, {\\\"x\\\": 31.2, \\\"y\\\": 130436}, {\\\"x\\\": 14.5, \\\"y\\\": 272790}, {\\\"x\\\": 15.7, \\\"y\\\": 194435}, {\\\"x\\\": 28.6, \\\"y\\\": 299621}, {\\\"x\\\": 20.8, \\\"y\\\": 210884}, {\\\"x\\\": 29.3, \\\"y\\\": 112471}, {\\\"x\\\": 19.3, \\\"y\\\": 93738}, {\\\"x\\\": 39.5, \\\"y\\\": 121024}, {\\\"x\\\": 13.0, \\\"y\\\": 156035}, {\\\"x\\\": 24.1, \\\"y\\\": 185404}, {\\\"x\\\": 38.0, \\\"y\\\": 126160}, {\\\"x\\\": 40.1, \\\"y\\\": 143072}, {\\\"x\\\": 36.1, \\\"y\\\": 96769}, {\\\"x\\\": 26.6, \\\"y\\\": 94014}, {\\\"x\\\": 25.1, \\\"y\\\": 118214}, {\\\"x\\\": 14.6, \\\"y\\\": 157446}, {\\\"x\\\": 18.2, \\\"y\\\": 150283}, {\\\"x\\\": 15.3, \\\"y\\\": 153842}, {\\\"x\\\": 15.2, \\\"y\\\": 197214}, {\\\"x\\\": 17.4, \\\"y\\\": 206127}, {\\\"x\\\": 73.3, \\\"y\\\": 71981}, {\\\"x\\\": 7.1, \\\"y\\\": 169401}, {\\\"x\\\": 12.5, \\\"y\\\": 99843}, {\\\"x\\\": 45.8, \\\"y\\\": 60000}, {\\\"x\\\": 44.9, \\\"y\\\": 28000}, {\\\"x\\\": 65.0, \\\"y\\\": 60000}, {\\\"x\\\": 49.9, \\\"y\\\": 61800}, {\\\"x\\\": 54.8, \\\"y\\\": 38000}, {\\\"x\\\": 53.5, \\\"y\\\": 38000}, {\\\"x\\\": 69.9, \\\"y\\\": 42000}, {\\\"x\\\": 24.6, \\\"y\\\": 103087}, {\\\"x\\\": 58.6, \\\"y\\\": 147720}, {\\\"x\\\": 53.2, \\\"y\\\": 78175}, {\\\"x\\\": 17.4, \\\"y\\\": 92215}, {\\\"x\\\": 15.5, \\\"y\\\": 271804}, {\\\"x\\\": 14.5, \\\"y\\\": 119566}, {\\\"x\\\": 24.1, \\\"y\\\": 100231}, {\\\"x\\\": 21.2, \\\"y\\\": 95831}, {\\\"x\\\": 9.8, \\\"y\\\": 229711}, {\\\"x\\\": 29.9, \\\"y\\\": 74308}, {\\\"x\\\": 7.2, \\\"y\\\": 259506}, {\\\"x\\\": 19.4, \\\"y\\\": 159573}, {\\\"x\\\": 41.1, \\\"y\\\": 147176}, {\\\"x\\\": 11.2, \\\"y\\\": 205732}, {\\\"x\\\": 21.2, \\\"y\\\": 215783}, {\\\"x\\\": 42.8, \\\"y\\\": 116710}, {\\\"x\\\": 9.4, \\\"y\\\": 359112}, {\\\"x\\\": 61.7, \\\"y\\\": 189959}, {\\\"x\\\": 19.4, \\\"y\\\": 133198}, {\\\"x\\\": 6.6, \\\"y\\\": 242821}, {\\\"x\\\": 15.9, \\\"y\\\": 142811}, {\\\"x\\\": 18.8, \\\"y\\\": 200498}, {\\\"x\\\": 13.2, \\\"y\\\": 199065}, {\\\"x\\\": 34.5, \\\"y\\\": 93648}, {\\\"x\\\": 22.1, \\\"y\\\": 163001}, {\\\"x\\\": 22.1, \\\"y\\\": 436348}, {\\\"x\\\": 71.9, \\\"y\\\": 124478}, {\\\"x\\\": 31.9, \\\"y\\\": 168276}, {\\\"x\\\": 44.6, \\\"y\\\": 114157}, {\\\"x\\\": 28.6, \\\"y\\\": 130088}, {\\\"x\\\": 24.0, \\\"y\\\": 152624}, {\\\"x\\\": 13.8, \\\"y\\\": 174232}, {\\\"x\\\": 29.9, \\\"y\\\": 196515}, {\\\"x\\\": 9.9, \\\"y\\\": 232714}, {\\\"x\\\": 22.6, \\\"y\\\": 245920}, {\\\"x\\\": 13.0, \\\"y\\\": 130953}]}], \\\"marks\\\": [{\\\"name\\\": \\\"marks\\\", \\\"type\\\": \\\"symbol\\\", \\\"style\\\": [\\\"circle\\\"], \\\"from\\\": {\\\"data\\\": \\\"source_2\\\"}, \\\"encode\\\": {\\\"hover\\\": {\\\"fill\\\": {\\\"value\\\": \\\"#7EC2F3\\\"}}, \\\"update\\\": {\\\"x\\\": {\\\"scale\\\": \\\"x\\\", \\\"field\\\": \\\"x\\\"}, \\\"y\\\": {\\\"scale\\\": \\\"y\\\", \\\"field\\\": \\\"y\\\", \\\"title\\\": \\\"Miles per Gallon\\\"}, \\\"fill\\\": {\\\"value\\\": \\\"#108EE9\\\"}, \\\"shape\\\": {\\\"value\\\": \\\"circle\\\"}, \\\"opacity\\\": {\\\"value\\\": 0.7}}}}], \\\"scales\\\": [{\\\"name\\\": \\\"x\\\", \\\"type\\\": \\\"linear\\\", \\\"domain\\\": {\\\"data\\\": \\\"source_2\\\", \\\"field\\\": \\\"x\\\"}, \\\"range\\\": [0, {\\\"signal\\\": \\\"width\\\"}], \\\"nice\\\": true, \\\"zero\\\": false, \\\"padding\\\": 5}, {\\\"name\\\": \\\"y\\\", \\\"type\\\": \\\"linear\\\", \\\"domain\\\": {\\\"data\\\": \\\"source_2\\\", \\\"field\\\": \\\"y\\\"}, \\\"range\\\": [{\\\"signal\\\": \\\"height\\\"}, 0], \\\"nice\\\": true, \\\"zero\\\": false, \\\"padding\\\": 5}], \\\"axes\\\": [{\\\"scale\\\": \\\"x\\\", \\\"labelOverlap\\\": true, \\\"orient\\\": \\\"bottom\\\", \\\"tickCount\\\": {\\\"signal\\\": \\\"ceil(width/40)\\\"}, \\\"title\\\": \\\"X\\\", \\\"zindex\\\": 1}, {\\\"scale\\\": \\\"x\\\", \\\"domain\\\": false, \\\"grid\\\": true, \\\"labels\\\": false, \\\"maxExtent\\\": 0, \\\"minExtent\\\": 0, \\\"orient\\\": \\\"bottom\\\", \\\"tickCount\\\": {\\\"signal\\\": \\\"ceil(width/40)\\\"}, \\\"ticks\\\": false, \\\"zindex\\\": 0, \\\"gridScale\\\": \\\"y\\\"}, {\\\"scale\\\": \\\"y\\\", \\\"labelOverlap\\\": true, \\\"orient\\\": \\\"left\\\", \\\"tickCount\\\": {\\\"signal\\\": \\\"ceil(height/40)\\\"}, \\\"title\\\": \\\"Y\\\", \\\"zindex\\\": 1}, {\\\"scale\\\": \\\"y\\\", \\\"domain\\\": false, \\\"grid\\\": true, \\\"labels\\\": false, \\\"maxExtent\\\": 0, \\\"minExtent\\\": 0, \\\"orient\\\": \\\"left\\\", \\\"tickCount\\\": {\\\"signal\\\": \\\"ceil(height/40)\\\"}, \\\"ticks\\\": false, \\\"zindex\\\": 0, \\\"gridScale\\\": \\\"x\\\"}], \\\"config\\\": {\\\"axis\\\": {\\\"gridColor\\\": \\\"rgba(204,204,204,1.0)\\\", \\\"labelFont\\\": \\\"\\\\\\\"San Francisco\\\\\\\", HelveticaNeue, Arial\\\", \\\"labelFontSize\\\": 12, \\\"labelPadding\\\": 10, \\\"labelColor\\\": \\\"rgba(0,0,0,0.847)\\\", \\\"tickColor\\\": \\\"rgb(136,136,136)\\\", \\\"titleFont\\\": \\\"\\\\\\\"San Francisco\\\\\\\", HelveticaNeue, Arial\\\", \\\"titleFontWeight\\\": \\\"normal\\\", \\\"titlePadding\\\": 20, \\\"titleFontSize\\\": 14, \\\"titleColor\\\": \\\"rgba(0,0,0,0.847)\\\"}, \\\"axisY\\\": {\\\"minExtent\\\": 30}, \\\"legend\\\": {\\\"labelFont\\\": \\\"\\\\\\\"San Francisco\\\\\\\", HelveticaNeue, Arial\\\", \\\"labelColor\\\": \\\"rgba(0,0,0,0.847)\\\", \\\"titleFont\\\": \\\"\\\\\\\"San Francisco\\\\\\\", HelveticaNeue, Arial\\\", \\\"cornerRadius\\\": 30, \\\"gradientLength\\\": 608, \\\"titleColor\\\": \\\"rgba(0,0,0,0.847)\\\"}, \\\"range\\\": {\\\"heatmap\\\": {\\\"scheme\\\": \\\"greenblue\\\"}}, \\\"style\\\": {\\\"rect\\\": {\\\"stroke\\\": \\\"rgba(200, 200, 200, 0.5)\\\"}, \\\"cell\\\": {\\\"stroke\\\": \\\"transparent\\\"}, \\\"group-title\\\": {\\\"fontSize\\\": 29, \\\"font\\\": \\\"HelveticaNeue, Arial\\\", \\\"fontWeight\\\": \\\"normal\\\", \\\"fill\\\": \\\"rgba(0,0,0,0.65)\\\"}}, \\\"title\\\": {\\\"color\\\": \\\"rgba(0,0,0,0.847)\\\", \\\"font\\\": \\\"\\\\\\\"San Francisco\\\\\\\", HelveticaNeue, Arial\\\", \\\"fontSize\\\": 18, \\\"fontWeight\\\": \\\"normal\\\", \\\"offset\\\": 30}}}\";                                 var vega_json_parsed = JSON.parse(vega_json);                                 var toolTipOpts = {                                     showAllFields: true                                 };                                 if(vega_json_parsed[\"metadata\"] != null){                                     if(vega_json_parsed[\"metadata\"][\"bubbleOpts\"] != null){                                         toolTipOpts = vega_json_parsed[\"metadata\"][\"bubbleOpts\"];                                     };                                 };                                 vegaEmbed(\"#vis\", vega_json_parsed).then(function (result) {                                     vegaTooltip.vega(result.view, toolTipOpts);                                  });                             </script>                         </body>                     </html>' src=\"demo_iframe_srcdoc.htm\">                         <p>Your browser does not support iframes.</p>                     </iframe>                 </body>             </html>"
      ],
      "text/plain": [
       "<IPython.core.display.HTML object>"
      ]
     },
     "metadata": {},
     "output_type": "display_data"
    }
   ],
   "source": [
    "turicreate.show(sales_noCC['CrimeRate'], sales_noCC['HousePrice'])"
   ]
  },
  {
   "cell_type": "markdown",
   "metadata": {},
   "source": [
    "### Refit our simple regression model on this modified dataset:"
   ]
  },
  {
   "cell_type": "code",
   "execution_count": 10,
   "metadata": {},
   "outputs": [],
   "source": [
    "crime_model_noCC = turicreate.linear_regression.create(\n",
    "    sales_noCC,\n",
    "    target='HousePrice',\n",
    "    features=['CrimeRate'],\n",
    "    validation_set = None,\n",
    "    verbose = False\n",
    ")"
   ]
  },
  {
   "cell_type": "markdown",
   "metadata": {},
   "source": [
    "### Look at the fit:"
   ]
  },
  {
   "cell_type": "code",
   "execution_count": 11,
   "metadata": {},
   "outputs": [
    {
     "data": {
      "text/plain": [
       "[<matplotlib.lines.Line2D at 0x7f7531965d50>,\n",
       " <matplotlib.lines.Line2D at 0x7f7531965f90>]"
      ]
     },
     "execution_count": 11,
     "metadata": {},
     "output_type": "execute_result"
    },
    {
     "data": {
      "image/png": "[encoded data removed]",
      "text/plain": [
       "<Figure size 432x288 with 1 Axes>"
      ]
     },
     "metadata": {
      "needs_background": "light"
     },
     "output_type": "display_data"
    }
   ],
   "source": [
    "plt.plot(sales_noCC['CrimeRate'], sales_noCC['HousePrice'], '.',\n",
    "         sales_noCC['CrimeRate'], crime_model_noCC.predict(sales_noCC), '-')"
   ]
  },
  {
   "cell_type": "markdown",
   "metadata": {},
   "source": [
    "# Compare coefficients for full-data fit versus no-Center-City fit"
   ]
  },
  {
   "cell_type": "markdown",
   "metadata": {},
   "source": [
    "Visually, the fit seems different, but let's quantify this by examining the estimated coefficients of our original fit and that of the modified dataset with Center City removed."
   ]
  },
  {
   "cell_type": "code",
   "execution_count": 12,
   "metadata": {},
   "outputs": [
    {
     "data": {
      "text/html": [
       "<div style=\"max-height:1000px;max-width:1500px;overflow:auto;\"><table frame=\"box\" rules=\"cols\">\n",
       "    <tr>\n",
       "        <th style=\"padding-left: 1em; padding-right: 1em; text-align: center\">name</th>\n",
       "        <th style=\"padding-left: 1em; padding-right: 1em; text-align: center\">index</th>\n",
       "        <th style=\"padding-left: 1em; padding-right: 1em; text-align: center\">value</th>\n",
       "        <th style=\"padding-left: 1em; padding-right: 1em; text-align: center\">stderr</th>\n",
       "    </tr>\n",
       "    <tr>\n",
       "        <td style=\"padding-left: 1em; padding-right: 1em; text-align: center; vertical-align: top\">(intercept)</td>\n",
       "        <td style=\"padding-left: 1em; padding-right: 1em; text-align: center; vertical-align: top\">None</td>\n",
       "        <td style=\"padding-left: 1em; padding-right: 1em; text-align: center; vertical-align: top\">176626.04688088188</td>\n",
       "        <td style=\"padding-left: 1em; padding-right: 1em; text-align: center; vertical-align: top\">11245.588219378817</td>\n",
       "    </tr>\n",
       "    <tr>\n",
       "        <td style=\"padding-left: 1em; padding-right: 1em; text-align: center; vertical-align: top\">CrimeRate</td>\n",
       "        <td style=\"padding-left: 1em; padding-right: 1em; text-align: center; vertical-align: top\">None</td>\n",
       "        <td style=\"padding-left: 1em; padding-right: 1em; text-align: center; vertical-align: top\">-576.8049490581091</td>\n",
       "        <td style=\"padding-left: 1em; padding-right: 1em; text-align: center; vertical-align: top\">226.9022595096533</td>\n",
       "    </tr>\n",
       "</table>\n",
       "[2 rows x 4 columns]<br/>\n",
       "</div>"
      ],
      "text/plain": [
       "Columns:\n",
       "\tname\tstr\n",
       "\tindex\tstr\n",
       "\tvalue\tfloat\n",
       "\tstderr\tfloat\n",
       "\n",
       "Rows: 2\n",
       "\n",
       "Data:\n",
       "+-------------+-------+--------------------+--------------------+\n",
       "|     name    | index |       value        |       stderr       |\n",
       "+-------------+-------+--------------------+--------------------+\n",
       "| (intercept) |  None | 176626.04688088188 | 11245.588219378817 |\n",
       "|  CrimeRate  |  None | -576.8049490581091 | 226.9022595096533  |\n",
       "+-------------+-------+--------------------+--------------------+\n",
       "[2 rows x 4 columns]"
      ]
     },
     "execution_count": 12,
     "metadata": {},
     "output_type": "execute_result"
    }
   ],
   "source": [
    "crime_model.coefficients"
   ]
  },
  {
   "cell_type": "code",
   "execution_count": 13,
   "metadata": {},
   "outputs": [
    {
     "data": {
      "text/html": [
       "<div style=\"max-height:1000px;max-width:1500px;overflow:auto;\"><table frame=\"box\" rules=\"cols\">\n",
       "    <tr>\n",
       "        <th style=\"padding-left: 1em; padding-right: 1em; text-align: center\">name</th>\n",
       "        <th style=\"padding-left: 1em; padding-right: 1em; text-align: center\">index</th>\n",
       "        <th style=\"padding-left: 1em; padding-right: 1em; text-align: center\">value</th>\n",
       "        <th style=\"padding-left: 1em; padding-right: 1em; text-align: center\">stderr</th>\n",
       "    </tr>\n",
       "    <tr>\n",
       "        <td style=\"padding-left: 1em; padding-right: 1em; text-align: center; vertical-align: top\">(intercept)</td>\n",
       "        <td style=\"padding-left: 1em; padding-right: 1em; text-align: center; vertical-align: top\">None</td>\n",
       "        <td style=\"padding-left: 1em; padding-right: 1em; text-align: center; vertical-align: top\">225204.60430309852</td>\n",
       "        <td style=\"padding-left: 1em; padding-right: 1em; text-align: center; vertical-align: top\">16404.024751386656</td>\n",
       "    </tr>\n",
       "    <tr>\n",
       "        <td style=\"padding-left: 1em; padding-right: 1em; text-align: center; vertical-align: top\">CrimeRate</td>\n",
       "        <td style=\"padding-left: 1em; padding-right: 1em; text-align: center; vertical-align: top\">None</td>\n",
       "        <td style=\"padding-left: 1em; padding-right: 1em; text-align: center; vertical-align: top\">-2287.6971744328976</td>\n",
       "        <td style=\"padding-left: 1em; padding-right: 1em; text-align: center; vertical-align: top\">491.53747812308956</td>\n",
       "    </tr>\n",
       "</table>\n",
       "[2 rows x 4 columns]<br/>\n",
       "</div>"
      ],
      "text/plain": [
       "Columns:\n",
       "\tname\tstr\n",
       "\tindex\tstr\n",
       "\tvalue\tfloat\n",
       "\tstderr\tfloat\n",
       "\n",
       "Rows: 2\n",
       "\n",
       "Data:\n",
       "+-------------+-------+---------------------+--------------------+\n",
       "|     name    | index |        value        |       stderr       |\n",
       "+-------------+-------+---------------------+--------------------+\n",
       "| (intercept) |  None |  225204.60430309852 | 16404.024751386656 |\n",
       "|  CrimeRate  |  None | -2287.6971744328976 | 491.53747812308956 |\n",
       "+-------------+-------+---------------------+--------------------+\n",
       "[2 rows x 4 columns]"
      ]
     },
     "execution_count": 13,
     "metadata": {},
     "output_type": "execute_result"
    }
   ],
   "source": [
    "crime_model_noCC.coefficients"
   ]
  },
  {
   "cell_type": "markdown",
   "metadata": {},
   "source": [
    "Above: We see that for the \"no Center City\" version, per unit increase in crime, the predicted decrease in house prices is 2,287.  In contrast, for the original dataset, the drop is only 576 per unit increase in crime.  This is significantly different!"
   ]
  },
  {
   "cell_type": "markdown",
   "metadata": {},
   "source": [
    "### High leverage points: \n",
    "Center City is said to be a \"high leverage\" point because it is at an extreme x value where there are not other observations.  As a result, recalling the closed-form solution for simple regression, this point has the *potential* to dramatically change the least squares line since the center of x mass is heavily influenced by this one point and the least squares line will try to fit close to that outlying (in x) point.  If a high leverage point follows the trend of the other data, this might not have much effect.  On the other hand, if this point somehow differs, it can be strongly influential in the resulting fit.\n",
    "\n",
    "### Influential observations:  \n",
    "An influential observation is one where the removal of the point significantly changes the fit.  As discussed above, high leverage points are good candidates for being influential observations, but need not be.  Other observations that are *not* leverage points can also be influential observations (e.g., strongly outlying in y even if x is a typical value)."
   ]
  },
  {
   "cell_type": "markdown",
   "metadata": {},
   "source": [
    "### Plotting the two models\n",
    "Confirm the above calculations by looking at the plots. The orange line is the model trained removing Center City, and the green line is the model trained on all the data. Notice how much steeper the green line is, since the drop in value is much higher according to this model."
   ]
  },
  {
   "cell_type": "code",
   "execution_count": 14,
   "metadata": {},
   "outputs": [
    {
     "data": {
      "text/plain": [
       "[<matplotlib.lines.Line2D at 0x7f753195f590>,\n",
       " <matplotlib.lines.Line2D at 0x7f753195f7d0>,\n",
       " <matplotlib.lines.Line2D at 0x7f753195f990>]"
      ]
     },
     "execution_count": 14,
     "metadata": {},
     "output_type": "execute_result"
    },
    {
     "data": {
      "image/png": "[encoded data removed]",
      "text/plain": [
       "<Figure size 432x288 with 1 Axes>"
      ]
     },
     "metadata": {
      "needs_background": "light"
     },
     "output_type": "display_data"
    }
   ],
   "source": [
    "plt.plot(sales_noCC['CrimeRate'], sales_noCC['HousePrice'], '.',\n",
    "         sales_noCC['CrimeRate'], crime_model.predict(sales_noCC), '-',\n",
    "         sales_noCC['CrimeRate'], crime_model_noCC.predict(sales_noCC), '-')"
   ]
  },
  {
   "cell_type": "markdown",
   "metadata": {},
   "source": [
    "# Remove high-value outlier neighborhoods and redo analysis"
   ]
  },
  {
   "cell_type": "markdown",
   "metadata": {},
   "source": [
    "Based on the discussion above, a question is whether the outlying high-value towns are strongly influencing the fit.  Let's remove them and see what happens."
   ]
  },
  {
   "cell_type": "code",
   "execution_count": 15,
   "metadata": {},
   "outputs": [],
   "source": [
    "sales_nohighend = sales_noCC[sales_noCC['HousePrice'] < 350000]\n",
    "crime_model_nohighend = turicreate.linear_regression.create(\n",
    "    sales_nohighend,\n",
    "    target='HousePrice',\n",
    "    features=['CrimeRate'],\n",
    "    validation_set=None,\n",
    "    verbose=False\n",
    ")"
   ]
  },
  {
   "cell_type": "markdown",
   "metadata": {},
   "source": [
    "### Do the coefficients change much?"
   ]
  },
  {
   "cell_type": "code",
   "execution_count": 16,
   "metadata": {},
   "outputs": [
    {
     "data": {
      "text/html": [
       "<div style=\"max-height:1000px;max-width:1500px;overflow:auto;\"><table frame=\"box\" rules=\"cols\">\n",
       "    <tr>\n",
       "        <th style=\"padding-left: 1em; padding-right: 1em; text-align: center\">name</th>\n",
       "        <th style=\"padding-left: 1em; padding-right: 1em; text-align: center\">index</th>\n",
       "        <th style=\"padding-left: 1em; padding-right: 1em; text-align: center\">value</th>\n",
       "        <th style=\"padding-left: 1em; padding-right: 1em; text-align: center\">stderr</th>\n",
       "    </tr>\n",
       "    <tr>\n",
       "        <td style=\"padding-left: 1em; padding-right: 1em; text-align: center; vertical-align: top\">(intercept)</td>\n",
       "        <td style=\"padding-left: 1em; padding-right: 1em; text-align: center; vertical-align: top\">None</td>\n",
       "        <td style=\"padding-left: 1em; padding-right: 1em; text-align: center; vertical-align: top\">225204.60430309852</td>\n",
       "        <td style=\"padding-left: 1em; padding-right: 1em; text-align: center; vertical-align: top\">16404.024751386656</td>\n",
       "    </tr>\n",
       "    <tr>\n",
       "        <td style=\"padding-left: 1em; padding-right: 1em; text-align: center; vertical-align: top\">CrimeRate</td>\n",
       "        <td style=\"padding-left: 1em; padding-right: 1em; text-align: center; vertical-align: top\">None</td>\n",
       "        <td style=\"padding-left: 1em; padding-right: 1em; text-align: center; vertical-align: top\">-2287.6971744328976</td>\n",
       "        <td style=\"padding-left: 1em; padding-right: 1em; text-align: center; vertical-align: top\">491.53747812308956</td>\n",
       "    </tr>\n",
       "</table>\n",
       "[2 rows x 4 columns]<br/>\n",
       "</div>"
      ],
      "text/plain": [
       "Columns:\n",
       "\tname\tstr\n",
       "\tindex\tstr\n",
       "\tvalue\tfloat\n",
       "\tstderr\tfloat\n",
       "\n",
       "Rows: 2\n",
       "\n",
       "Data:\n",
       "+-------------+-------+---------------------+--------------------+\n",
       "|     name    | index |        value        |       stderr       |\n",
       "+-------------+-------+---------------------+--------------------+\n",
       "| (intercept) |  None |  225204.60430309852 | 16404.024751386656 |\n",
       "|  CrimeRate  |  None | -2287.6971744328976 | 491.53747812308956 |\n",
       "+-------------+-------+---------------------+--------------------+\n",
       "[2 rows x 4 columns]"
      ]
     },
     "execution_count": 16,
     "metadata": {},
     "output_type": "execute_result"
    }
   ],
   "source": [
    "crime_model_noCC.coefficients"
   ]
  },
  {
   "cell_type": "code",
   "execution_count": 17,
   "metadata": {},
   "outputs": [
    {
     "data": {
      "text/html": [
       "<div style=\"max-height:1000px;max-width:1500px;overflow:auto;\"><table frame=\"box\" rules=\"cols\">\n",
       "    <tr>\n",
       "        <th style=\"padding-left: 1em; padding-right: 1em; text-align: center\">name</th>\n",
       "        <th style=\"padding-left: 1em; padding-right: 1em; text-align: center\">index</th>\n",
       "        <th style=\"padding-left: 1em; padding-right: 1em; text-align: center\">value</th>\n",
       "        <th style=\"padding-left: 1em; padding-right: 1em; text-align: center\">stderr</th>\n",
       "    </tr>\n",
       "    <tr>\n",
       "        <td style=\"padding-left: 1em; padding-right: 1em; text-align: center; vertical-align: top\">(intercept)</td>\n",
       "        <td style=\"padding-left: 1em; padding-right: 1em; text-align: center; vertical-align: top\">None</td>\n",
       "        <td style=\"padding-left: 1em; padding-right: 1em; text-align: center; vertical-align: top\">199073.58961525137</td>\n",
       "        <td style=\"padding-left: 1em; padding-right: 1em; text-align: center; vertical-align: top\">11932.510110455862</td>\n",
       "    </tr>\n",
       "    <tr>\n",
       "        <td style=\"padding-left: 1em; padding-right: 1em; text-align: center; vertical-align: top\">CrimeRate</td>\n",
       "        <td style=\"padding-left: 1em; padding-right: 1em; text-align: center; vertical-align: top\">None</td>\n",
       "        <td style=\"padding-left: 1em; padding-right: 1em; text-align: center; vertical-align: top\">-1837.712809888728</td>\n",
       "        <td style=\"padding-left: 1em; padding-right: 1em; text-align: center; vertical-align: top\">351.5196093328532</td>\n",
       "    </tr>\n",
       "</table>\n",
       "[2 rows x 4 columns]<br/>\n",
       "</div>"
      ],
      "text/plain": [
       "Columns:\n",
       "\tname\tstr\n",
       "\tindex\tstr\n",
       "\tvalue\tfloat\n",
       "\tstderr\tfloat\n",
       "\n",
       "Rows: 2\n",
       "\n",
       "Data:\n",
       "+-------------+-------+--------------------+--------------------+\n",
       "|     name    | index |       value        |       stderr       |\n",
       "+-------------+-------+--------------------+--------------------+\n",
       "| (intercept) |  None | 199073.58961525137 | 11932.510110455862 |\n",
       "|  CrimeRate  |  None | -1837.712809888728 | 351.5196093328532  |\n",
       "+-------------+-------+--------------------+--------------------+\n",
       "[2 rows x 4 columns]"
      ]
     },
     "execution_count": 17,
     "metadata": {},
     "output_type": "execute_result"
    }
   ],
   "source": [
    "crime_model_nohighend.coefficients"
   ]
  },
  {
   "cell_type": "markdown",
   "metadata": {},
   "source": [
    "Above: We see that removing the outlying high-value neighborhoods has *some* effect on the fit, but not nearly as much as our high-leverage Center City datapoint."
   ]
  },
  {
   "cell_type": "markdown",
   "metadata": {
    "collapsed": true
   },
   "source": [
    "### Compare the two models\n",
    "Confirm the above calculations by looking at the plots. The orange line is the no high-end model, and the green line is the no-city-center model."
   ]
  },
  {
   "cell_type": "code",
   "execution_count": 18,
   "metadata": {},
   "outputs": [
    {
     "data": {
      "text/plain": [
       "[<matplotlib.lines.Line2D at 0x7f75318cf650>,\n",
       " <matplotlib.lines.Line2D at 0x7f75318cf890>,\n",
       " <matplotlib.lines.Line2D at 0x7f75318cfa50>]"
      ]
     },
     "execution_count": 18,
     "metadata": {},
     "output_type": "execute_result"
    },
    {
     "data": {
      "image/png": "[encoded data removed]",
      "text/plain": [
       "<Figure size 432x288 with 1 Axes>"
      ]
     },
     "metadata": {
      "needs_background": "light"
     },
     "output_type": "display_data"
    }
   ],
   "source": [
    "plt.plot(sales_nohighend['CrimeRate'], sales_nohighend['HousePrice'], '.',\n",
    "         sales_nohighend['CrimeRate'], crime_model_nohighend.predict(sales_nohighend), '-',\n",
    "         sales_nohighend['CrimeRate'], crime_model_noCC.predict(sales_nohighend), '-')         "
   ]
  },
  {
   "cell_type": "code",
   "execution_count": null,
   "metadata": {},
   "outputs": [],
   "source": []
  }
 ],
 "metadata": {
  "kernelspec": {
   "display_name": "Python 3",
   "language": "python",
   "name": "python3"
  },
  "language_info": {
   "codemirror_mode": {
    "name": "ipython",
    "version": 3
   },
   "file_extension": ".py",
   "mimetype": "text/x-python",
   "name": "python",
   "nbconvert_exporter": "python",
   "pygments_lexer": "ipython3",
   "version": "3.7.6"
  }
 },
 "nbformat": 4,
 "nbformat_minor": 1
}
