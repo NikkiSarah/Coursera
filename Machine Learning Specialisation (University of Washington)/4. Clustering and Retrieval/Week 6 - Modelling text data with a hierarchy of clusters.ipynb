{
 "cells": [
  {
   "cell_type": "markdown",
   "metadata": {},
   "source": [
    "# Hierarchical Clustering"
   ]
  },
  {
   "cell_type": "markdown",
   "metadata": {},
   "source": [
    "**Hierarchical clustering** refers to a class of clustering methods that seek to build a **hierarchy** of clusters, in which some clusters contain others. In this assignment, we will explore a top-down approach, recursively bipartitioning the data using k-means."
   ]
  },
  {
   "cell_type": "markdown",
   "metadata": {},
   "source": [
    "## Import packages"
   ]
  },
  {
   "cell_type": "code",
   "execution_count": 8,
   "metadata": {},
   "outputs": [],
   "source": [
    "import matplotlib.pyplot as plt\n",
    "import numpy as np\n",
    "from scipy.sparse import csr_matrix\n",
    "from sklearn.cluster import KMeans\n",
    "from sklearn.metrics import pairwise_distances\n",
    "from sklearn.preprocessing import normalize\n",
    "import pandas as pd\n",
    "import json\n",
    "\n",
    "%matplotlib inline"
   ]
  },
  {
   "cell_type": "markdown",
   "metadata": {},
   "source": [
    "## Load the Wikipedia dataset"
   ]
  },
  {
   "cell_type": "code",
   "execution_count": 9,
   "metadata": {},
   "outputs": [],
   "source": [
    "wiki = pd.read_csv('people_wiki.csv')"
   ]
  },
  {
   "cell_type": "markdown",
   "metadata": {},
   "source": [
    "As in the previous assignment, we extract the TF-IDF vector of each document.\n",
    "\n",
    "For your convenience, we extracted the TF-IDF vectors from the dataset. The vectors are packaged in a sparse matrix, where the i-th row gives the TF-IDF vectors for the i-th document. Each column corresponds to a unique word appearing in the dataset.\n",
    "\n",
    "To load in the TF-IDF vectors, run:"
   ]
  },
  {
   "cell_type": "code",
   "execution_count": 10,
   "metadata": {},
   "outputs": [],
   "source": [
    "def load_sparse_csr(filename):\n",
    "    loader = np.load(filename)\n",
    "    data = loader['data']\n",
    "    indices = loader['indices']\n",
    "    indptr = loader['indptr']\n",
    "    shape = loader['shape']\n",
    "    \n",
    "    return csr_matrix( (data, indices, indptr), shape)\n",
    "\n",
    "tf_idf = load_sparse_csr('people_wiki_tf_idf.npz')\n",
    "map_index_to_word = pd.read_json('people_wiki_map_index_to_word.json', typ='series')"
   ]
  },
  {
   "cell_type": "markdown",
   "metadata": {},
   "source": [
    "To be consistent with the k-means assignment, let's normalize all vectors to have unit norm."
   ]
  },
  {
   "cell_type": "code",
   "execution_count": 17,
   "metadata": {},
   "outputs": [
    {
     "data": {
      "text/plain": [
       "(59071, 547979)"
      ]
     },
     "execution_count": 17,
     "metadata": {},
     "output_type": "execute_result"
    }
   ],
   "source": [
    "tf_idf = normalize(tf_idf)\n",
    "tf_idf.shape"
   ]
  },
  {
   "cell_type": "markdown",
   "metadata": {},
   "source": [
    "## Bipartition the Wikipedia dataset using k-means"
   ]
  },
  {
   "cell_type": "markdown",
   "metadata": {},
   "source": [
    "Recall our workflow for clustering text data with k-means:\n",
    "\n",
    "1. Load the dataframe containing a dataset, such as the Wikipedia text dataset.\n",
    "2. Extract the data matrix from the dataframe.\n",
    "3. Run k-means on the data matrix with some value of k.\n",
    "4. Visualize the clustering results using the centroids, cluster assignments, and the original dataframe. We keep the original dataframe around because the data matrix does not keep auxiliary information (in the case of the text dataset, the title of each article).\n",
    "\n",
    "Let us modify the workflow to perform bipartitioning:\n",
    "\n",
    "1. Load the dataframe containing a dataset, such as the Wikipedia text dataset.\n",
    "2. Extract the data matrix from the dataframe.\n",
    "3. Run k-means on the data matrix with k=2.\n",
    "4. Divide the data matrix into two parts using the cluster assignments.\n",
    "5. Divide the dataframe into two parts, again using the cluster assignments. This step is necessary to allow for visualization.\n",
    "6. Visualize the bipartition of data.\n",
    "\n",
    "We'd like to be able to repeat Steps 3-6 multiple times to produce a **hierarchy** of clusters such as the following:\n",
    "```\n",
    "                      (root)\n",
    "                         |\n",
    "            +------------+-------------+\n",
    "            |                          |\n",
    "         Cluster                    Cluster\n",
    "     +------+-----+             +------+-----+\n",
    "     |            |             |            |\n",
    "   Cluster     Cluster       Cluster      Cluster\n",
    "```\n",
    "Each **parent cluster** is bipartitioned to produce two **child clusters**. At the very top is the **root cluster**, which consists of the entire dataset.\n",
    "\n",
    "Now we write a wrapper function to bipartition a given cluster using k-means. There are three variables that together comprise the cluster:\n",
    "\n",
    "* `dataframe`: a subset of the original dataframe that correspond to member rows of the cluster\n",
    "* `matrix`: same set of rows, stored in sparse matrix format\n",
    "* `centroid`: the centroid of the cluster (not applicable for the root cluster)\n",
    "\n",
    "Rather than passing around the three variables separately, we package them into a Python dictionary. The wrapper function takes a single dictionary (representing a parent cluster) and returns two dictionaries (representing the child clusters)."
   ]
  },
  {
   "cell_type": "code",
   "execution_count": 36,
   "metadata": {},
   "outputs": [],
   "source": [
    "def bipartition(cluster, maxiter=400, num_runs=4, seed=None):\n",
    "    '''cluster: should be a dictionary containing the following keys\n",
    "                * dataframe: original dataframe\n",
    "                * matrix:    same data, in matrix format\n",
    "                * centroid:  centroid for this particular cluster'''\n",
    "    \n",
    "    data_matrix = cluster['matrix']\n",
    "    dataframe   = cluster['dataframe']\n",
    "    \n",
    "    # Run k-means on the data matrix with k=2. We use scikit-learn here to simplify workflow.\n",
    "    kmeans_model = KMeans(n_clusters=2, max_iter=maxiter, n_init=num_runs, random_state=seed, n_jobs=-1,verbose=2)\n",
    "    kmeans_model.fit(data_matrix)\n",
    "    centroids, cluster_assignment = kmeans_model.cluster_centers_, kmeans_model.labels_\n",
    "    \n",
    "    # Divide the data matrix into two parts using the cluster assignments.\n",
    "    data_matrix_left_child, data_matrix_right_child = data_matrix[cluster_assignment==0], \\\n",
    "                                                      data_matrix[cluster_assignment==1]\n",
    "    \n",
    "    # Divide the dataframe into two parts, again using the cluster assignments.\n",
    "    cluster_assignment_sa = np.array(cluster_assignment) # minor format conversion\n",
    "    dataframe_left_child, dataframe_right_child     = dataframe[cluster_assignment_sa==0], \\\n",
    "                                                      dataframe[cluster_assignment_sa==1]\n",
    "            \n",
    "    # Package relevant variables for the child clusters\n",
    "    cluster_left_child  = {'matrix': data_matrix_left_child,\n",
    "                           'dataframe': dataframe_left_child,\n",
    "                           'centroid': centroids[0]}\n",
    "    cluster_right_child = {'matrix': data_matrix_right_child,\n",
    "                           'dataframe': dataframe_right_child,\n",
    "                           'centroid': centroids[1]}\n",
    "    \n",
    "    return cluster_left_child, cluster_right_child"
   ]
  },
  {
   "cell_type": "markdown",
   "metadata": {},
   "source": [
    "The following cell performs bipartitioning of the Wikipedia dataset. Allow 5 minutes to finish.\n",
    "\n",
    "Note. For the purpose of the assignment, we set an explicit seed (`seed=1`) to produce identical outputs for every run. In pratical applications, you might want to use different random seeds for all runs."
   ]
  },
  {
   "cell_type": "code",
   "execution_count": 44,
   "metadata": {},
   "outputs": [
    {
     "name": "stdout",
     "output_type": "stream",
     "text": [
      "CPU times: user 290 ms, sys: 122 ms, total: 412 ms\n",
      "Wall time: 4min 43s\n"
     ]
    }
   ],
   "source": [
    "%%time\n",
    "wiki_data = {'matrix': tf_idf, 'dataframe': wiki} # no 'centroid' for the root cluster\n",
    "# reduced the number of iterations from 100 to 5 as 5 already takes 5 minutes\n",
    "left_child, right_child = bipartition(wiki_data, maxiter=5, num_runs=6, seed=1)"
   ]
  },
  {
   "cell_type": "markdown",
   "metadata": {},
   "source": [
    "Let's examine the contents of one of the two clusters, which we call the `left_child`, referring to the tree visualization above."
   ]
  },
  {
   "cell_type": "code",
   "execution_count": 45,
   "metadata": {},
   "outputs": [
    {
     "data": {
      "text/plain": [
       "{'matrix': <25533x547979 sparse matrix of type '<class 'numpy.float64'>'\n",
       " \twith 4280739 stored elements in Compressed Sparse Row format>,\n",
       " 'dataframe':                                                      URI  \\\n",
       " 0            <http://dbpedia.org/resource/Digby_Morrell>   \n",
       " 13     <http://dbpedia.org/resource/Anthony_Gueterboc...   \n",
       " 14      <http://dbpedia.org/resource/David_Chernushenko>   \n",
       " 17     <http://dbpedia.org/resource/Paddy_Dunne_(Gael...   \n",
       " 19     <http://dbpedia.org/resource/John_Angus_Campbell>   \n",
       " ...                                                  ...   \n",
       " 59064            <http://dbpedia.org/resource/Oz_Bengur>   \n",
       " 59065  <http://dbpedia.org/resource/Dee_Brown_(basket...   \n",
       " 59068  <http://dbpedia.org/resource/David_Cass_(footb...   \n",
       " 59069          <http://dbpedia.org/resource/Keith_Elias>   \n",
       " 59070         <http://dbpedia.org/resource/Fawaz_Damrah>   \n",
       " \n",
       "                                           name  \\\n",
       " 0                                Digby Morrell   \n",
       " 13     Anthony Gueterbock, 18th Baron Berkeley   \n",
       " 14                          David Chernushenko   \n",
       " 17             Paddy Dunne (Gaelic footballer)   \n",
       " 19                         John Angus Campbell   \n",
       " ...                                        ...   \n",
       " 59064                                Oz Bengur   \n",
       " 59065        Dee Brown (basketball, born 1968)   \n",
       " 59068                  David Cass (footballer)   \n",
       " 59069                              Keith Elias   \n",
       " 59070                             Fawaz Damrah   \n",
       " \n",
       "                                                     text  \n",
       " 0      digby morrell born 10 october 1979 is a former...  \n",
       " 13     anthony fitzhardinge gueterbock 18th baron ber...  \n",
       " 14     david chernushenko born june 1963 in calgary a...  \n",
       " 17     paddy dunne was a gaelic football player from ...  \n",
       " 19     john angus campbell born march 10 1942 in port...  \n",
       " ...                                                  ...  \n",
       " 59064  osman oz bengur born february 23 1949 is an am...  \n",
       " 59065  decovan kadell dee brown born november 29 1968...  \n",
       " 59068  david william royce cass born 27 march 1962 in...  \n",
       " 59069  keith hector elias born february 3 1972 in lac...  \n",
       " 59070  fawaz mohammed damrah arabic fawwz damra was t...  \n",
       " \n",
       " [25533 rows x 3 columns],\n",
       " 'centroid': array([0.00000000e+00, 3.75590069e-06, 5.22807661e-06, ...,\n",
       "        1.21242427e-04, 7.17849027e-05, 2.17505610e-05])}"
      ]
     },
     "execution_count": 45,
     "metadata": {},
     "output_type": "execute_result"
    }
   ],
   "source": [
    "left_child"
   ]
  },
  {
   "cell_type": "markdown",
   "metadata": {},
   "source": [
    "And here is the content of the other cluster we named `right_child`."
   ]
  },
  {
   "cell_type": "code",
   "execution_count": 46,
   "metadata": {},
   "outputs": [
    {
     "data": {
      "text/plain": [
       "{'matrix': <33538x547979 sparse matrix of type '<class 'numpy.float64'>'\n",
       " \twith 6098544 stored elements in Compressed Sparse Row format>,\n",
       " 'dataframe':                                                      URI                 name  \\\n",
       " 1           <http://dbpedia.org/resource/Alfred_J._Lewy>       Alfred J. Lewy   \n",
       " 2            <http://dbpedia.org/resource/Harpdog_Brown>        Harpdog Brown   \n",
       " 3      <http://dbpedia.org/resource/Franz_Rottensteiner>  Franz Rottensteiner   \n",
       " 4                   <http://dbpedia.org/resource/G-Enka>               G-Enka   \n",
       " 5            <http://dbpedia.org/resource/Sam_Henderson>        Sam Henderson   \n",
       " ...                                                  ...                  ...   \n",
       " 59058        <http://dbpedia.org/resource/George_Krause>        George Krause   \n",
       " 59059           <http://dbpedia.org/resource/Sean_Slade>           Sean Slade   \n",
       " 59060         <http://dbpedia.org/resource/Lynne_Lipton>         Lynne Lipton   \n",
       " 59066           <http://dbpedia.org/resource/Olari_Elts>           Olari Elts   \n",
       " 59067       <http://dbpedia.org/resource/Scott_F._Crago>       Scott F. Crago   \n",
       " \n",
       "                                                     text  \n",
       " 1      alfred j lewy aka sandy lewy graduated from un...  \n",
       " 2      harpdog brown is a singer and harmonica player...  \n",
       " 3      franz rottensteiner born in waidmannsfeld lowe...  \n",
       " 4      henry krvits born 30 december 1974 in tallinn ...  \n",
       " 5      sam henderson born october 18 1969 is an ameri...  \n",
       " ...                                                  ...  \n",
       " 59058  george krause born 1937 philadelphia pennsylva...  \n",
       " 59059  sean slade b november 14 1957 lansing michigan...  \n",
       " 59060  lynne lipton is an american film stage televis...  \n",
       " 59066  olari elts born april 27 1971 in tallinn eston...  \n",
       " 59067  scott francis crago born july 26 1963 twin bro...  \n",
       " \n",
       " [33538 rows x 3 columns],\n",
       " 'centroid': array([4.36394709e-06, 0.00000000e+00, 0.00000000e+00, ...,\n",
       "        1.11438128e-04, 9.57720978e-05, 2.00662311e-05])}"
      ]
     },
     "execution_count": 46,
     "metadata": {},
     "output_type": "execute_result"
    }
   ],
   "source": [
    "right_child"
   ]
  },
  {
   "cell_type": "markdown",
   "metadata": {},
   "source": [
    "## Visualize the bipartition"
   ]
  },
  {
   "cell_type": "markdown",
   "metadata": {},
   "source": [
    "We provide you with a modified version of the visualization function from the k-means assignment. For each cluster, we print the top 5 words with highest TF-IDF weights in the centroid and display excerpts for the 8 nearest neighbors of the centroid."
   ]
  },
  {
   "cell_type": "code",
   "execution_count": 47,
   "metadata": {
    "scrolled": true
   },
   "outputs": [],
   "source": [
    "def display_single_tf_idf_cluster(cluster, map_index_to_word):\n",
    "    '''map_index_to_word: dataframe specifying the mapping betweeen words and column indices'''\n",
    "    \n",
    "    wiki_subset   = cluster['dataframe']\n",
    "    tf_idf_subset = cluster['matrix']\n",
    "    centroid      = cluster['centroid']\n",
    "    \n",
    "    # Print top 5 words with largest TF-IDF weights in the cluster\n",
    "    idx = centroid.argsort()[::-1]\n",
    "    for i in range(5):\n",
    "        print('{0:s}:{1:.3f}'.format(map_index_to_word.index[idx[i]], centroid[idx[i]])),\n",
    "    print('')\n",
    "    \n",
    "    # Compute distances from the centroid to all data points in the cluster.\n",
    "    distances = pairwise_distances(tf_idf_subset, [centroid], metric='euclidean').flatten()\n",
    "    # compute nearest neighbors of the centroid within the cluster.\n",
    "    nearest_neighbors = distances.argsort()\n",
    "    # For 8 nearest neighbors, print the title as well as first 180 characters of text.\n",
    "    # Wrap the text at 80-character mark.\n",
    "    for i in range(8):\n",
    "        text = ' '.join(wiki_subset.iloc[nearest_neighbors[i]]['text'].split(None, 25)[0:25])\n",
    "        print('* {0:50s} {1:.5f}\\n  {2:s}\\n  {3:s}'.format(wiki_subset.iloc[nearest_neighbors[i]]['name'],\n",
    "              distances[nearest_neighbors[i]], text[:90], text[90:180] if len(text) > 90 else ''))\n",
    "    print('')"
   ]
  },
  {
   "cell_type": "markdown",
   "metadata": {},
   "source": [
    "Let's visualize the two child clusters:"
   ]
  },
  {
   "cell_type": "code",
   "execution_count": 48,
   "metadata": {},
   "outputs": [
    {
     "name": "stdout",
     "output_type": "stream",
     "text": [
      "19771992according:0.018\n",
      "gan:0.016\n",
      "sibinki:0.016\n",
      "gonino:0.014\n",
      "anchoragearea:0.013\n",
      "\n",
      "* Todd Williams                                      0.97309\n",
      "  todd michael williams born february 13 1971 in syracuse new york is a former major league \n",
      "  baseball relief pitcher he attended east syracuseminoa high school\n",
      "* Micky Adams                                        0.97447\n",
      "  michael richard micky adams born 8 november 1961 is an english former professional footbal\n",
      "  ler turned football manager who is in charge of league two side\n",
      "* Justin Knoedler                                    0.97453\n",
      "  justin joseph knoedler born july 17 1980 in springfield illinois is a former major league \n",
      "  baseball catcherknoedler was originally drafted by the st louis cardinals\n",
      "* Phil King (footballer)                             0.97473\n",
      "  philip geoffrey king born 28 december 1967 is an english former professional footballer he\n",
      "   represented england at under21 level and in a b international he\n",
      "* Ashley Prescott                                    0.97492\n",
      "  ashley prescott born 11 september 1972 is a former australian rules footballer he played w\n",
      "  ith the richmond and fremantle football clubs in the afl between\n",
      "* Chris Day                                          0.97494\n",
      "  christopher nicholas chris day born 28 july 1975 is an english professional footballer who\n",
      "   plays as a goalkeeper for stevenageday started his career at tottenham\n",
      "* Tommy Anderson (footballer)                        0.97509\n",
      "  thomas cowan tommy anderson born 24 september 1934 in haddington is a scottish former prof\n",
      "  essional footballer he played as a forward and was noted for\n",
      "* Sol Campbell                                       0.97524\n",
      "  sulzeer jeremiah sol campbell born 18 september 1974 is a former england international foo\n",
      "  tballer a central defender he had a 19year career playing in the\n",
      "\n"
     ]
    }
   ],
   "source": [
    "display_single_tf_idf_cluster(left_child, map_index_to_word)"
   ]
  },
  {
   "cell_type": "code",
   "execution_count": 49,
   "metadata": {},
   "outputs": [
    {
     "name": "stdout",
     "output_type": "stream",
     "text": [
      "serieslong:0.037\n",
      "bostonas:0.025\n",
      "33story:0.017\n",
      "allmvfc:0.015\n",
      "conder:0.011\n",
      "\n",
      "* Madonna (entertainer)                              0.96656\n",
      "  madonna louise ciccone tkoni born august 16 1958 is an american singer songwriter actress \n",
      "  and businesswoman she achieved popularity by pushing the boundaries of lyrical\n",
      "* Janet Jackson                                      0.96672\n",
      "  janet damita jo jackson born may 16 1966 is an american singer songwriter and actress know\n",
      "  n for a series of sonically innovative socially conscious and\n",
      "* Anita Kunz                                         0.96782\n",
      "  anita e kunz oc born 1956 is a canadianborn artist and illustratorkunz has lived in london\n",
      "   new york and toronto contributing to magazines and working\n",
      "* Cher                                               0.96997\n",
      "  cher r born cherilyn sarkisian may 20 1946 is an american singer actress and television ho\n",
      "  st described as embodying female autonomy in a maledominated industry\n",
      "* Alexandra Potter                                   0.97040\n",
      "  alexandra potter born 1970 is a british author of romantic comediesborn in bradford yorksh\n",
      "  ire england and educated at liverpool university gaining an honors degree in\n",
      "* Laura Smith                                        0.97040\n",
      "  laura smith is a canadian folk singersongwriter she is best known for her 1995 single shad\n",
      "  e of your love one of the years biggest hits\n",
      "* Jane Fonda                                         0.97054\n",
      "  jane fonda born lady jayne seymour fonda december 21 1937 is an american actress writer po\n",
      "  litical activist former fashion model and fitness guru she is\n",
      "* Natashia Williams                                  0.97059\n",
      "  natashia williamsblach born august 2 1978 is an american actress and former wonderbra camp\n",
      "  aign model who is perhaps best known for her role as shane\n",
      "\n"
     ]
    }
   ],
   "source": [
    "display_single_tf_idf_cluster(right_child, map_index_to_word)"
   ]
  },
  {
   "cell_type": "markdown",
   "metadata": {},
   "source": [
    "The right cluster consists of artists (singers and actors/actresses), whereas the left cluster consists of football/baseball players. So far, we have a single-level hierarchy consisting of two clusters, as follows:"
   ]
  },
  {
   "cell_type": "markdown",
   "metadata": {},
   "source": [
    "```\n",
    "                                           Wikipedia\n",
    "                                               +\n",
    "                                               |\n",
    "                    +--------------------------+--------------------+\n",
    "                    |                                               |\n",
    "                    +                                               +\n",
    "          Football/Baseball players                              Artists\n",
    "```"
   ]
  },
  {
   "cell_type": "markdown",
   "metadata": {},
   "source": [
    "Is this hierarchy good enough? **When building a hierarchy of clusters, we must keep our particular application in mind.** For instance, we might want to build a **directory** for Wikipedia articles. A good directory would let you quickly narrow down your search to a small set of related articles. The categories of football/baseball players and artists are too general to facilitate efficient search. For this reason, we decide to build another level into our hierarchy of clusters with the goal of getting more specific cluster structure at the lower level. To that end, we subdivide both clusters."
   ]
  },
  {
   "cell_type": "markdown",
   "metadata": {},
   "source": [
    "## Perform recursive bipartitioning"
   ]
  },
  {
   "cell_type": "markdown",
   "metadata": {},
   "source": [
    "### Cluster of football/baseball players and artists"
   ]
  },
  {
   "cell_type": "markdown",
   "metadata": {},
   "source": [
    "To help identify the clusters we've built so far, let's give them easy-to-read aliases:"
   ]
  },
  {
   "cell_type": "code",
   "execution_count": 59,
   "metadata": {},
   "outputs": [],
   "source": [
    "football_baseball_players = left_child\n",
    "artists                   = right_child"
   ]
  },
  {
   "cell_type": "markdown",
   "metadata": {},
   "source": [
    "Using the bipartition function, we produce two child clusters of the athlete cluster:"
   ]
  },
  {
   "cell_type": "code",
   "execution_count": 61,
   "metadata": {},
   "outputs": [],
   "source": [
    "%%time\n",
    "# Bipartition the cluster of football_baseball_players\n",
    "left_child_football_baseball_players, right_child_football_baseball_players = bipartition(\n",
    "    athletes, maxiter=5, num_runs=6, seed=1)"
   ]
  },
  {
   "cell_type": "markdown",
   "metadata": {},
   "source": [
    "The left child cluster mainly consists of athletes:"
   ]
  },
  {
   "cell_type": "code",
   "execution_count": 62,
   "metadata": {},
   "outputs": [
    {
     "name": "stdout",
     "output_type": "stream",
     "text": [
      "anchoragearea:0.034\n",
      "gonino:0.029\n",
      "sibinki:0.029\n",
      "19771992according:0.025\n",
      "ssls:0.024\n",
      "\n",
      "* Jason Roberts (footballer)                         0.95786\n",
      "  jason andre davis roberts mbe born 25 january 1978 is a former professional footballer and\n",
      "   now a football punditborn in park royal london roberts was\n",
      "* Ashley Prescott                                    0.95797\n",
      "  ashley prescott born 11 september 1972 is a former australian rules footballer he played w\n",
      "  ith the richmond and fremantle football clubs in the afl between\n",
      "* Chris Day                                          0.95841\n",
      "  christopher nicholas chris day born 28 july 1975 is an english professional footballer who\n",
      "   plays as a goalkeeper for stevenageday started his career at tottenham\n",
      "* Sol Campbell                                       0.95889\n",
      "  sulzeer jeremiah sol campbell born 18 september 1974 is a former england international foo\n",
      "  tballer a central defender he had a 19year career playing in the\n",
      "* Todd Curley                                        0.95907\n",
      "  todd curley born 14 january 1973 is a former australian rules footballer who played for co\n",
      "  llingwood and the western bulldogs in the australian football league\n",
      "* Tony Smith (footballer, born 1957)                 0.95944\n",
      "  anthony tony smith born 20 february 1957 is a former footballer who played as a central de\n",
      "  fender in the football league in the 1970s and\n",
      "* Richard Ambrose                                    0.96002\n",
      "  richard ambrose born 10 june 1972 is a former australian rules footballer who played with \n",
      "  the sydney swans in the australian football league afl he\n",
      "* David Hamilton (footballer)                        0.96056\n",
      "  david hamilton born 7 november 1960 is an english former professional association football\n",
      "   player who played as a midfielder he won caps for the england\n",
      "\n"
     ]
    }
   ],
   "source": [
    "display_single_tf_idf_cluster(left_child_football_baseball_players, map_index_to_word)"
   ]
  },
  {
   "cell_type": "markdown",
   "metadata": {},
   "source": [
    "On the other hand, the right child cluster consists mainly of politicians:"
   ]
  },
  {
   "cell_type": "code",
   "execution_count": 63,
   "metadata": {},
   "outputs": [
    {
     "name": "stdout",
     "output_type": "stream",
     "text": [
      "19771992according:0.086\n",
      "qc:0.075\n",
      "sibinki:0.050\n",
      "guitarscordray:0.045\n",
      "ibnez:0.042\n",
      "\n",
      "* Todd Williams                                      0.91292\n",
      "  todd michael williams born february 13 1971 in syracuse new york is a former major league \n",
      "  baseball relief pitcher he attended east syracuseminoa high school\n",
      "* Justin Knoedler                                    0.91354\n",
      "  justin joseph knoedler born july 17 1980 in springfield illinois is a former major league \n",
      "  baseball catcherknoedler was originally drafted by the st louis cardinals\n",
      "* Steve Springer                                     0.91414\n",
      "  steven michael springer born february 11 1961 is an american former professional baseball \n",
      "  player who appeared in major league baseball as a third baseman and\n",
      "* Dave Ford                                          0.91434\n",
      "  david alan ford born december 29 1956 is a former major league baseball pitcher for the ba\n",
      "  ltimore orioles born in cleveland ohio ford attended lincolnwest\n",
      "* Kevin Nicholson (baseball)                         0.91935\n",
      "  kevin ronald nicholson born march 29 1976 is a canadian baseball shortstop he played part \n",
      "  of the 2000 season for the san diego padres of\n",
      "* Joe Strong                                         0.92063\n",
      "  joseph benjamin strong born september 9 1962 in fairfield california is a former major lea\n",
      "  gue baseball pitcher who played for the florida marlins from 2000\n",
      "* Javier L%C3%B3pez (baseball)                       0.92151\n",
      "  javier alfonso lpez born july 11 1977 is a puerto rican professional baseball pitcher for \n",
      "  the san francisco giants of major league baseball he is\n",
      "* Eric Fox                                           0.92163\n",
      "  eric hollis fox born august 15 1963 in lemoore california is an american professional base\n",
      "  ball coach the 5 ft 10 in 178 m 180 lb\n",
      "\n"
     ]
    }
   ],
   "source": [
    "display_single_tf_idf_cluster(right_child_football_baseball_players, map_index_to_word)"
   ]
  },
  {
   "cell_type": "markdown",
   "metadata": {},
   "source": [
    "Our hierarchy of clusters now looks like this:\n",
    "```\n",
    "                                           Wikipedia\n",
    "                                               +\n",
    "                                               |\n",
    "                    +--------------------------+--------------------+\n",
    "                    |                                               |\n",
    "                    +                                               +\n",
    "        Football/Baseball players                                Artists\n",
    "                    +\n",
    "                    |\n",
    "         +----------+----------+\n",
    "         |                     |\n",
    "         |                     |\n",
    "         +                     |\n",
    "    Footballers        Baseball players\n",
    "```"
   ]
  },
  {
   "cell_type": "markdown",
   "metadata": {},
   "source": [
    "Should we keep subdividing the clusters? If so, which cluster should we subdivide? To answer this question, we again think about our application. Since we organize our directory by topics, it would be nice to have topics that are about as coarse as each other. For instance, if one cluster is about baseball, we expect some other clusters about football, basketball, volleyball, and so forth. That is, **we would like to achieve similar level of granularity for all clusters.**\n",
    "\n",
    "Both the athletes and artists node can be subdivided more, as each one can be divided into more descriptive professions (singer/actress/painter/director, or baseball/football/basketball, etc.). Let's explore subdividing the athletes cluster further to produce finer child clusters."
   ]
  },
  {
   "cell_type": "markdown",
   "metadata": {},
   "source": [
    "Let's give the clusters aliases as well:"
   ]
  },
  {
   "cell_type": "code",
   "execution_count": 64,
   "metadata": {},
   "outputs": [],
   "source": [
    "footballers       = left_child_football_baseball_players\n",
    "baseball_players  = right_child_football_baseball_players"
   ]
  },
  {
   "cell_type": "markdown",
   "metadata": {},
   "source": [
    "### Cluster of footballers"
   ]
  },
  {
   "cell_type": "markdown",
   "metadata": {},
   "source": [
    "In answering the following quiz question, take a look at the topics represented in the top documents (those closest to the centroid), as well as the list of words with highest TF-IDF weights.\n",
    "\n",
    "Let us bipartition the cluster of footballers."
   ]
  },
  {
   "cell_type": "code",
   "execution_count": 65,
   "metadata": {},
   "outputs": [
    {
     "name": "stdout",
     "output_type": "stream",
     "text": [
      "CPU times: user 91.1 ms, sys: 153 ms, total: 244 ms\n",
      "Wall time: 1min 26s\n"
     ]
    }
   ],
   "source": [
    "%%time\n",
    "left_child_footballers, right_child_footballers = bipartition(footballers, maxiter=10, num_runs=6, seed=1)"
   ]
  },
  {
   "cell_type": "code",
   "execution_count": 66,
   "metadata": {},
   "outputs": [
    {
     "name": "stdout",
     "output_type": "stream",
     "text": [
      "ebe:0.037\n",
      "qafl:0.033\n",
      "agency:0.032\n",
      "spanky:0.027\n",
      "addaction:0.027\n",
      "\n",
      "* Brian Davis (golfer)                               0.94927\n",
      "  brian lester davis born 2 august 1974 is an english professional golferdavis was born in l\n",
      "  ondon he turned professional in 1994 and became a member\n",
      "* Tim Clark (golfer)                                 0.94939\n",
      "  timothy henry clark born 17 december 1975 is a south african professional golfer who curre\n",
      "  ntly plays on the pga tour his biggest win to date\n",
      "* Philip Parkin                                      0.95140\n",
      "  andrew philip parkin born 12 december 1961 is a welsh professional golfer who has also wor\n",
      "  ked as a golf commentator and analystparkin was born in\n",
      "* Marc Leishman                                      0.95204\n",
      "  marc leishman born 24 october 1983 is an australian professional golfer who currently play\n",
      "  s on the pga tour in 2009 he won the rookie of\n",
      "* Craig Parry                                        0.95216\n",
      "  craig david parry born 12 january 1966 is an australian professional golfer he has been on\n",
      "  e of australias premier golfers since turning professional in 1985\n",
      "* Per-Ulrik Johansson                                0.95219\n",
      "  perulrik johansson born 6 december 1966 is a swedish professional golfer like many europea\n",
      "  n golfers he took a golf scholarship in the united states as\n",
      "* Rodger Davis                                       0.95330\n",
      "  rodger miles davis born 18 may 1951 is an australian professional golferdavis was born in \n",
      "  sydney he turned professional in 1974 and spent his regular\n",
      "* Jay Haas                                           0.95358\n",
      "  jay dean haas born december 2 1953 is an american professional golfer formerly of the pga \n",
      "  tour who now plays on the champions tourhaas was\n",
      "\n",
      "anchoragearea:0.052\n",
      "sibinki:0.041\n",
      "19771992according:0.038\n",
      "ngandu:0.035\n",
      "ssls:0.034\n",
      "\n",
      "* Todd Curley                                        0.94456\n",
      "  todd curley born 14 january 1973 is a former australian rules footballer who played for co\n",
      "  llingwood and the western bulldogs in the australian football league\n",
      "* Tony Smith (footballer, born 1957)                 0.94483\n",
      "  anthony tony smith born 20 february 1957 is a former footballer who played as a central de\n",
      "  fender in the football league in the 1970s and\n",
      "* Ashley Prescott                                    0.94498\n",
      "  ashley prescott born 11 september 1972 is a former australian rules footballer he played w\n",
      "  ith the richmond and fremantle football clubs in the afl between\n",
      "* Jason Roberts (footballer)                         0.94537\n",
      "  jason andre davis roberts mbe born 25 january 1978 is a former professional footballer and\n",
      "   now a football punditborn in park royal london roberts was\n",
      "* Chris Day                                          0.94587\n",
      "  christopher nicholas chris day born 28 july 1975 is an english professional footballer who\n",
      "   plays as a goalkeeper for stevenageday started his career at tottenham\n",
      "* Richard Ambrose                                    0.94765\n",
      "  richard ambrose born 10 june 1972 is a former australian rules footballer who played with \n",
      "  the sydney swans in the australian football league afl he\n",
      "* Nick Salter                                        0.94783\n",
      "  nick salter born 30 july 1987 is an australian rules footballer who played for port adelai\n",
      "  de football club in the australian football league aflhe was\n",
      "* Jerry Gill                                         0.94802\n",
      "  jeremy morley jerry gill born 8 september 1970 is an english former professional footballe\n",
      "  r despite his late entry into the professional game he made his\n",
      "\n"
     ]
    }
   ],
   "source": [
    "display_single_tf_idf_cluster(left_child_footballers, map_index_to_word)\n",
    "display_single_tf_idf_cluster(right_child_footballers, map_index_to_word)"
   ]
  },
  {
   "cell_type": "markdown",
   "metadata": {},
   "source": [
    "**Quiz Question**. Which diagram best describes the hierarchy right after splitting the `footballers` cluster? Refer to the quiz form for the diagrams."
   ]
  },
  {
   "cell_type": "markdown",
   "metadata": {},
   "source": [
    "**Caution**. The granularity criteria is an imperfect heuristic and must be taken with a grain of salt. It takes a lot of manual intervention to obtain a good hierarchy of clusters.\n",
    "\n",
    "* **If a cluster is highly mixed, the top articles and words may not convey the full picture of the cluster.** Thus, we may be misled if we judge the purity of clusters solely by their top documents and words. \n",
    "* **Many interesting topics are hidden somewhere inside the clusters but do not appear in the visualization.** We may need to subdivide further to discover new topics. For instance, subdividing the `football` cluster led to the appearance of golfers."
   ]
  },
  {
   "cell_type": "markdown",
   "metadata": {},
   "source": [
    "### Cluster of non-athletes"
   ]
  },
  {
   "cell_type": "markdown",
   "metadata": {},
   "source": [
    "Now let us subdivide the cluster of artists."
   ]
  },
  {
   "cell_type": "code",
   "execution_count": 67,
   "metadata": {},
   "outputs": [
    {
     "name": "stdout",
     "output_type": "stream",
     "text": [
      "CPU times: user 215 ms, sys: 103 ms, total: 318 ms\n",
      "Wall time: 2min 44s\n"
     ]
    }
   ],
   "source": [
    "%%time \n",
    "# Bipartition the cluster of non-athletes\n",
    "left_child_artists, right_child_artists = bipartition(artists, maxiter=5, num_runs=6, seed=1)"
   ]
  },
  {
   "cell_type": "code",
   "execution_count": 68,
   "metadata": {},
   "outputs": [
    {
     "name": "stdout",
     "output_type": "stream",
     "text": [
      "serieslong:0.131\n",
      "bostonas:0.085\n",
      "allmvfc:0.012\n",
      "interlingual:0.012\n",
      "33story:0.011\n",
      "\n",
      "* Janet Jackson                                      0.93698\n",
      "  janet damita jo jackson born may 16 1966 is an american singer songwriter and actress know\n",
      "  n for a series of sonically innovative socially conscious and\n",
      "* Lauren Royal                                       0.93725\n",
      "  lauren royal born march 3 circa 1965 is a book writer from california royal has written bo\n",
      "  th historic and novelistic booksa selfproclaimed angels baseball fan\n",
      "* Barbara Hershey                                    0.93795\n",
      "  barbara hershey born barbara lynn herzstein february 5 1948 once known as barbara seagull \n",
      "  is an american actress in a career spanning nearly 50 years\n",
      "* Jane Fonda                                         0.93999\n",
      "  jane fonda born lady jayne seymour fonda december 21 1937 is an american actress writer po\n",
      "  litical activist former fashion model and fitness guru she is\n",
      "* Janine Shepherd                                    0.94008\n",
      "  janine lee shepherd am born 1962 is an australian pilot and former crosscountry skier shep\n",
      "  herds career as an athlete ended when she suffered major injuries\n",
      "* Alexandra Potter                                   0.94058\n",
      "  alexandra potter born 1970 is a british author of romantic comediesborn in bradford yorksh\n",
      "  ire england and educated at liverpool university gaining an honors degree in\n",
      "* Ellina Graypel                                     0.94092\n",
      "  ellina graypel born july 19 1972 is an awardwinning russian singersongwriter she was born \n",
      "  near the volga river in the heart of russia she spent\n",
      "* Cher                                               0.94122\n",
      "  cher r born cherilyn sarkisian may 20 1946 is an american singer actress and television ho\n",
      "  st described as embodying female autonomy in a maledominated industry\n",
      "\n"
     ]
    }
   ],
   "source": [
    "display_single_tf_idf_cluster(left_child_artists, map_index_to_word)"
   ]
  },
  {
   "cell_type": "code",
   "execution_count": 69,
   "metadata": {},
   "outputs": [
    {
     "name": "stdout",
     "output_type": "stream",
     "text": [
      "33story:0.018\n",
      "allmvfc:0.016\n",
      "gan:0.012\n",
      "efovi:0.011\n",
      "scientistagreed:0.011\n",
      "\n",
      "* Julian Knowles                                     0.97393\n",
      "  julian knowles is an australian composer and performer specialising in new and emerging te\n",
      "  chnologies his creative work spans the fields of composition for theatre dance\n",
      "* Wilson McLean                                      0.97596\n",
      "  wilson mclean born 1937 is a scottish illustrator and artist he has illustrated primarily \n",
      "  in the field of advertising but has also provided cover art\n",
      "* Craig Pruess                                       0.97624\n",
      "  craig pruess born 1950 is an american composer musician arranger and gold platinum record \n",
      "  producer who has been living in britain since 1973 his career\n",
      "* Peter Combe                                        0.97640\n",
      "  peter combe born 20 october 1948 is an australian childrens entertainer and musicianmusica\n",
      "  l genre childrens musiche has had 22 releases including seven gold albums two\n",
      "* Brenton Broadstock                                 0.97701\n",
      "  brenton broadstock ao born 1952 is an australian composerbroadstock was born in melbourne \n",
      "  he studied history politics and music at monash university and later composition\n",
      "* Ceiri Torjussen                                    0.97730\n",
      "  ceiri torjussen born 1976 is a composer who has contributed music to dozens of film and te\n",
      "  levision productions in the ushis music was described by\n",
      "* Michael Joseph Smith                               0.97748\n",
      "  michael joseph smith is an american jazz and american classical composer and pianist born \n",
      "  in tiline kentucky he has worked extensively in europe and asia\n",
      "* David J. Elliott                                   0.97779\n",
      "  david elliott is professor of music and music education at new york universityelliott was \n",
      "  educated at the university of toronto bmus m mus and bed\n",
      "\n"
     ]
    }
   ],
   "source": [
    "display_single_tf_idf_cluster(right_child_artists, map_index_to_word)"
   ]
  },
  {
   "cell_type": "markdown",
   "metadata": {},
   "source": [
    "The clusters are not as clear, but the left cluster has a tendency to show important female figures, and the right one to show composers.\n",
    "\n",
    "Let's divide them further."
   ]
  },
  {
   "cell_type": "code",
   "execution_count": 70,
   "metadata": {},
   "outputs": [],
   "source": [
    "female_figures = left_child_artists\n",
    "composers = right_child_artists"
   ]
  },
  {
   "cell_type": "markdown",
   "metadata": {},
   "source": [
    "**Quiz Question**. Let us bipartition the clusters `female_figures` and `composers`. Which diagram best describes the resulting hierarchy of clusters for artists? Refer to the quiz for the diagrams.\n",
    "\n",
    "**Note**. Use `maxiter=100, num_runs=6, seed=1` for consistency of output."
   ]
  },
  {
   "cell_type": "code",
   "execution_count": 72,
   "metadata": {},
   "outputs": [
    {
     "name": "stdout",
     "output_type": "stream",
     "text": [
      "serieslong:0.131\n",
      "bostonas:0.085\n",
      "allmvfc:0.012\n",
      "interlingual:0.012\n",
      "33story:0.011\n",
      "\n",
      "* Janet Jackson                                      0.93650\n",
      "  janet damita jo jackson born may 16 1966 is an american singer songwriter and actress know\n",
      "  n for a series of sonically innovative socially conscious and\n",
      "* Lauren Royal                                       0.93689\n",
      "  lauren royal born march 3 circa 1965 is a book writer from california royal has written bo\n",
      "  th historic and novelistic booksa selfproclaimed angels baseball fan\n",
      "* Barbara Hershey                                    0.93748\n",
      "  barbara hershey born barbara lynn herzstein february 5 1948 once known as barbara seagull \n",
      "  is an american actress in a career spanning nearly 50 years\n",
      "* Jane Fonda                                         0.93960\n",
      "  jane fonda born lady jayne seymour fonda december 21 1937 is an american actress writer po\n",
      "  litical activist former fashion model and fitness guru she is\n",
      "* Janine Shepherd                                    0.93988\n",
      "  janine lee shepherd am born 1962 is an australian pilot and former crosscountry skier shep\n",
      "  herds career as an athlete ended when she suffered major injuries\n",
      "* Alexandra Potter                                   0.94022\n",
      "  alexandra potter born 1970 is a british author of romantic comediesborn in bradford yorksh\n",
      "  ire england and educated at liverpool university gaining an honors degree in\n",
      "* Cher                                               0.94076\n",
      "  cher r born cherilyn sarkisian may 20 1946 is an american singer actress and television ho\n",
      "  st described as embodying female autonomy in a maledominated industry\n",
      "* Ellina Graypel                                     0.94098\n",
      "  ellina graypel born july 19 1972 is an awardwinning russian singersongwriter she was born \n",
      "  near the volga river in the heart of russia she spent\n",
      "\n",
      "fons:0.355\n",
      "niin:0.202\n",
      "cineyouth:0.122\n",
      "serieslong:0.114\n",
      "bostonas:0.065\n",
      "\n",
      "* Tanya Wilson                                       0.69441\n",
      "  tanya wilson born june 13 1950 is a beauty queen from honolulu hawaii who held the miss us\n",
      "  a 1972 titlewilson placed second runnerup in the\n",
      "* Amy Crawford (pageant titleholder)                 0.69565\n",
      "  amy crawford is a beauty queen from auburn washington who has competed in the miss usa pag\n",
      "  eantcrawford won the miss washington usa 2005 title in\n",
      "* Katee Doland                                       0.69827\n",
      "  katee dolandmink born 1980 in arvada colorado is a former beauty pageant titleholder who r\n",
      "  epresented colorado in miss teen usa 1998 miss usa 2001 and\n",
      "* Ellen Chapman                                      0.70305\n",
      "  ellen chapman keegan born 1982 is a beauty queen from san jose california who has competed\n",
      "   in the miss usa pageantchapmans first pageant title was\n",
      "* Marin Poole                                        0.70714\n",
      "  marin morgan poole is a beauty queen from logan utah who has competed in the miss teen usa\n",
      "   and miss usa pageantspoole won the miss\n",
      "* Amber Copley                                       0.71285\n",
      "  amber brooke copley born august 2 1985 is a beauty queen from abingdon virginia who has co\n",
      "  mpeted in the miss teen usa and miss usa\n",
      "* Kasi Kelly                                         0.71574\n",
      "  kasi laine kelly born october 1 1981 is a beauty queen from bridgeport texas who has compe\n",
      "  ted in the miss usa pageant she was born\n",
      "* Jennifer Dupont                                    0.71897\n",
      "  jennifer dupont born march 24 1981 in shreveport louisiana is an american beauty pageant c\n",
      "  ontestant who represented louisiana in miss teen usa 1998 miss usa\n",
      "\n"
     ]
    }
   ],
   "source": [
    "left_child_female_figures, right_child_female_figures = bipartition(female_figures, maxiter=5, num_runs=6, seed=1)\n",
    "display_single_tf_idf_cluster(left_child_female_figures, map_index_to_word)\n",
    "display_single_tf_idf_cluster(right_child_female_figures, map_index_to_word)"
   ]
  },
  {
   "cell_type": "code",
   "execution_count": 73,
   "metadata": {},
   "outputs": [
    {
     "name": "stdout",
     "output_type": "stream",
     "text": [
      "33story:0.055\n",
      "conder:0.036\n",
      "nanri:0.034\n",
      "burkewhite:0.021\n",
      "1975one:0.020\n",
      "\n",
      "* Brenton Broadstock                                 0.95824\n",
      "  brenton broadstock ao born 1952 is an australian composerbroadstock was born in melbourne \n",
      "  he studied history politics and music at monash university and later composition\n",
      "* Julian Knowles                                     0.96174\n",
      "  julian knowles is an australian composer and performer specialising in new and emerging te\n",
      "  chnologies his creative work spans the fields of composition for theatre dance\n",
      "* Prince (musician)                                  0.96176\n",
      "  prince rogers nelson born june 7 1958 known by his mononym prince is an american singerson\n",
      "  gwriter multiinstrumentalist and actor he has produced ten platinum albums\n",
      "* Tom Bancroft                                       0.96203\n",
      "  tom bancroft born 1967 london is a british jazz drummer and composer he began drumming age\n",
      "  d seven and started off playing jazz with his father\n",
      "* Will.i.am                                          0.96274\n",
      "  william adams born march 15 1975 known by his stage name william pronounced will i am is a\n",
      "  n american rapper songwriter entrepreneur actor dj record\n",
      "* Peter Combe                                        0.96330\n",
      "  peter combe born 20 october 1948 is an australian childrens entertainer and musicianmusica\n",
      "  l genre childrens musiche has had 22 releases including seven gold albums two\n",
      "* Dan Siegel (musician)                              0.96331\n",
      "  dan siegel born in seattle washington is a pianist composer and record producer his earlie\n",
      "  r music has been described as new age while his more\n",
      "* Tony Mills (musician)                              0.96339\n",
      "  tony mills born 7 july 1962 in solihull england is an english rock singer best known for h\n",
      "  is work with shy and tnthailing from birmingham\n",
      "\n",
      "allmvfc:0.019\n",
      "scientistagreed:0.014\n",
      "efovi:0.014\n",
      "preposition:0.013\n",
      "gan:0.012\n",
      "\n",
      "* Wilson McLean                                      0.97548\n",
      "  wilson mclean born 1937 is a scottish illustrator and artist he has illustrated primarily \n",
      "  in the field of advertising but has also provided cover art\n",
      "* Allan Stratton                                     0.97750\n",
      "  allan stratton born 1951 is a canadian playwright and novelistborn in stratford ontario st\n",
      "  ratton began his professional arts career while he was still in high\n",
      "* Anton Hecht                                        0.97811\n",
      "  anton hecht is an english artist born in london in 2007 he asked musicians from around the\n",
      "   durham area to contribute to a soundtrack for\n",
      "* Alberto Blanco (poet)                              0.97813\n",
      "  alberto blanco is considered one of mexicos most important poets born in mexico city on fe\n",
      "  bruary 18 1951 he spent his childhood and adolescence in\n",
      "* David Salle                                        0.97832\n",
      "  david salle born 1952 is an american painter printmaker and stage designer who helped defi\n",
      "  ne postmodern sensibility salle was born in norman oklahoma he earned\n",
      "* Bill Bennett (director)                            0.97837\n",
      "  bill bennett born 1953 is an australian film director producer and screenwriterhe dropped \n",
      "  out of medicine at queensland university in 1972 and joined the australian\n",
      "* Archie Brown                                       0.97845\n",
      "  archibald haworth brown cmg fba commonly known as archie brown born 10 may 1938 is a briti\n",
      "  sh political scientist and historian in 2005 he became\n",
      "* Rafal Zielinski                                    0.97875\n",
      "  rafal zielinski born 1957 montreal is an independent filmmaker he is best known for direct\n",
      "  ing films such as fun sundance film festival special jury award\n",
      "\n"
     ]
    }
   ],
   "source": [
    "left_child_composers, right_child_composers = bipartition(composers, maxiter=5, num_runs=6, seed=1)\n",
    "display_single_tf_idf_cluster(left_child_composers, map_index_to_word)\n",
    "display_single_tf_idf_cluster(right_child_composers, map_index_to_word)"
   ]
  },
  {
   "cell_type": "code",
   "execution_count": null,
   "metadata": {},
   "outputs": [],
   "source": []
  }
 ],
 "metadata": {
  "kernelspec": {
   "display_name": "Python 3",
   "language": "python",
   "name": "python3"
  },
  "language_info": {
   "codemirror_mode": {
    "name": "ipython",
    "version": 3
   },
   "file_extension": ".py",
   "mimetype": "text/x-python",
   "name": "python",
   "nbconvert_exporter": "python",
   "pygments_lexer": "ipython3",
   "version": "3.7.6"
  }
 },
 "nbformat": 4,
 "nbformat_minor": 1
}
