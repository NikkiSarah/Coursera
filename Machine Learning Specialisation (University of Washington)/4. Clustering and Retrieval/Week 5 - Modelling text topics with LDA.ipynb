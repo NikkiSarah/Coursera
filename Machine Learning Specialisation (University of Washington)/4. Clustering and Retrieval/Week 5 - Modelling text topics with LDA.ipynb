{
 "cells": [
  {
   "cell_type": "markdown",
   "metadata": {},
   "source": [
    "# Latent Dirichlet Allocation for Text Data\n",
    "\n",
    "In this assignment you will\n",
    "\n",
    "* apply standard preprocessing techniques on Wikipedia text data\n",
    "* fit a Latent Dirichlet allocation (LDA) model\n",
    "* explore and interpret the results, including topic keywords and topic assignments for documents\n",
    "\n",
    "Recall that a major feature distinguishing the LDA model from our previously explored methods is the notion of *mixed membership*. Throughout the course so far, our models have assumed that each data point belongs to a single cluster. k-means determines membership simply by shortest distance to the cluster center, and Gaussian mixture models suppose that each data point is drawn from one of their component mixture distributions. In many cases, though, it is more realistic to think of data as genuinely belonging to more than one cluster or category - for example, if we have a model for text data that includes both \"Politics\" and \"World News\" categories, then an article about a recent meeting of the United Nations should have membership in both categories rather than being forced into just one.\n",
    "\n",
    "With this in mind, we will fit an LDA model to a corpus of Wikipedia articles and examine the results to analyze the impact of a mixed membership approach. In particular, we want to identify the topics discovered by the model in terms of their most important words, and we want to use the model to predict the topic membership distribution for a given document. "
   ]
  },
  {
   "cell_type": "markdown",
   "metadata": {},
   "source": [
    "## Text Data Preprocessing\n",
    "We'll start by importing our familiar Wikipedia dataset."
   ]
  },
  {
   "cell_type": "code",
   "execution_count": 1,
   "metadata": {},
   "outputs": [
    {
     "name": "stdout",
     "output_type": "stream",
     "text": [
      "Collecting nltk\n",
      "  Downloading nltk-3.8.1-py3-none-any.whl (1.5 MB)\n",
      "\u001b[K     |████████████████████████████████| 1.5 MB 22.1 MB/s eta 0:00:01\n",
      "\u001b[?25hRequirement already satisfied: joblib in /opt/conda/lib/python3.7/site-packages (from nltk) (0.14.1)\n",
      "Requirement already satisfied: tqdm in /opt/conda/lib/python3.7/site-packages (from nltk) (4.45.0)\n",
      "Requirement already satisfied: click in /opt/conda/lib/python3.7/site-packages (from nltk) (7.1.2)\n",
      "Collecting regex>=2021.8.3\n",
      "  Downloading regex-2023.8.8-cp37-cp37m-manylinux_2_17_x86_64.manylinux2014_x86_64.whl (758 kB)\n",
      "\u001b[K     |████████████████████████████████| 758 kB 95.9 MB/s eta 0:00:01\n",
      "\u001b[?25hInstalling collected packages: regex, nltk\n",
      "Successfully installed nltk-3.8.1 regex-2023.8.8\n",
      "\u001b[33mWARNING: You are using pip version 21.2.4; however, version 23.2.1 is available.\n",
      "You should consider upgrading via the '/opt/conda/bin/python3 -m pip install --upgrade pip' command.\u001b[0m\n"
     ]
    }
   ],
   "source": [
    "!pip install nltk"
   ]
  },
  {
   "cell_type": "code",
   "execution_count": 56,
   "metadata": {},
   "outputs": [],
   "source": [
    "import json\n",
    "import numpy as np\n",
    "import pandas as pd\n",
    "from scipy.sparse import csr_matrix\n",
    "\n",
    "import nltk\n",
    "from nltk.corpus import stopwords\n",
    "import random\n",
    "from sklearn.feature_extraction.text import CountVectorizer, TfidfVectorizer\n",
    "from sklearn.decomposition import LatentDirichletAllocation as LDA\n",
    "\n",
    "from sklearn.metrics.pairwise import euclidean_distances\n",
    "from sklearn.neighbors import NearestNeighbors\n",
    "\n",
    "import seaborn as sns\n",
    "import matplotlib.pyplot as plt\n",
    "%matplotlib inline"
   ]
  },
  {
   "cell_type": "code",
   "execution_count": 3,
   "metadata": {},
   "outputs": [
    {
     "name": "stderr",
     "output_type": "stream",
     "text": [
      "[nltk_data] Downloading package stopwords to /home/jovyan/nltk_data...\n",
      "[nltk_data]   Unzipping corpora/stopwords.zip.\n"
     ]
    },
    {
     "data": {
      "text/plain": [
       "True"
      ]
     },
     "execution_count": 3,
     "metadata": {},
     "output_type": "execute_result"
    }
   ],
   "source": [
    "nltk.download('stopwords')"
   ]
  },
  {
   "cell_type": "code",
   "execution_count": 251,
   "metadata": {},
   "outputs": [
    {
     "data": {
      "text/html": [
       "<div>\n",
       "<style scoped>\n",
       "    .dataframe tbody tr th:only-of-type {\n",
       "        vertical-align: middle;\n",
       "    }\n",
       "\n",
       "    .dataframe tbody tr th {\n",
       "        vertical-align: top;\n",
       "    }\n",
       "\n",
       "    .dataframe thead th {\n",
       "        text-align: right;\n",
       "    }\n",
       "</style>\n",
       "<table border=\"1\" class=\"dataframe\">\n",
       "  <thead>\n",
       "    <tr style=\"text-align: right;\">\n",
       "      <th></th>\n",
       "      <th>URI</th>\n",
       "      <th>name</th>\n",
       "      <th>text</th>\n",
       "    </tr>\n",
       "  </thead>\n",
       "  <tbody>\n",
       "    <tr>\n",
       "      <th>0</th>\n",
       "      <td>&lt;http://dbpedia.org/resource/Digby_Morrell&gt;</td>\n",
       "      <td>Digby Morrell</td>\n",
       "      <td>digby morrell born 10 october 1979 is a former...</td>\n",
       "    </tr>\n",
       "    <tr>\n",
       "      <th>1</th>\n",
       "      <td>&lt;http://dbpedia.org/resource/Alfred_J._Lewy&gt;</td>\n",
       "      <td>Alfred J. Lewy</td>\n",
       "      <td>alfred j lewy aka sandy lewy graduated from un...</td>\n",
       "    </tr>\n",
       "    <tr>\n",
       "      <th>2</th>\n",
       "      <td>&lt;http://dbpedia.org/resource/Harpdog_Brown&gt;</td>\n",
       "      <td>Harpdog Brown</td>\n",
       "      <td>harpdog brown is a singer and harmonica player...</td>\n",
       "    </tr>\n",
       "    <tr>\n",
       "      <th>3</th>\n",
       "      <td>&lt;http://dbpedia.org/resource/Franz_Rottensteiner&gt;</td>\n",
       "      <td>Franz Rottensteiner</td>\n",
       "      <td>franz rottensteiner born in waidmannsfeld lowe...</td>\n",
       "    </tr>\n",
       "    <tr>\n",
       "      <th>4</th>\n",
       "      <td>&lt;http://dbpedia.org/resource/G-Enka&gt;</td>\n",
       "      <td>G-Enka</td>\n",
       "      <td>henry krvits born 30 december 1974 in tallinn ...</td>\n",
       "    </tr>\n",
       "    <tr>\n",
       "      <th>...</th>\n",
       "      <td>...</td>\n",
       "      <td>...</td>\n",
       "      <td>...</td>\n",
       "    </tr>\n",
       "    <tr>\n",
       "      <th>59066</th>\n",
       "      <td>&lt;http://dbpedia.org/resource/Olari_Elts&gt;</td>\n",
       "      <td>Olari Elts</td>\n",
       "      <td>olari elts born april 27 1971 in tallinn eston...</td>\n",
       "    </tr>\n",
       "    <tr>\n",
       "      <th>59067</th>\n",
       "      <td>&lt;http://dbpedia.org/resource/Scott_F._Crago&gt;</td>\n",
       "      <td>Scott F. Crago</td>\n",
       "      <td>scott francis crago born july 26 1963 twin bro...</td>\n",
       "    </tr>\n",
       "    <tr>\n",
       "      <th>59068</th>\n",
       "      <td>&lt;http://dbpedia.org/resource/David_Cass_(footb...</td>\n",
       "      <td>David Cass (footballer)</td>\n",
       "      <td>david william royce cass born 27 march 1962 in...</td>\n",
       "    </tr>\n",
       "    <tr>\n",
       "      <th>59069</th>\n",
       "      <td>&lt;http://dbpedia.org/resource/Keith_Elias&gt;</td>\n",
       "      <td>Keith Elias</td>\n",
       "      <td>keith hector elias born february 3 1972 in lac...</td>\n",
       "    </tr>\n",
       "    <tr>\n",
       "      <th>59070</th>\n",
       "      <td>&lt;http://dbpedia.org/resource/Fawaz_Damrah&gt;</td>\n",
       "      <td>Fawaz Damrah</td>\n",
       "      <td>fawaz mohammed damrah arabic fawwz damra was t...</td>\n",
       "    </tr>\n",
       "  </tbody>\n",
       "</table>\n",
       "<p>59071 rows × 3 columns</p>\n",
       "</div>"
      ],
      "text/plain": [
       "                                                     URI  \\\n",
       "0            <http://dbpedia.org/resource/Digby_Morrell>   \n",
       "1           <http://dbpedia.org/resource/Alfred_J._Lewy>   \n",
       "2            <http://dbpedia.org/resource/Harpdog_Brown>   \n",
       "3      <http://dbpedia.org/resource/Franz_Rottensteiner>   \n",
       "4                   <http://dbpedia.org/resource/G-Enka>   \n",
       "...                                                  ...   \n",
       "59066           <http://dbpedia.org/resource/Olari_Elts>   \n",
       "59067       <http://dbpedia.org/resource/Scott_F._Crago>   \n",
       "59068  <http://dbpedia.org/resource/David_Cass_(footb...   \n",
       "59069          <http://dbpedia.org/resource/Keith_Elias>   \n",
       "59070         <http://dbpedia.org/resource/Fawaz_Damrah>   \n",
       "\n",
       "                          name  \\\n",
       "0                Digby Morrell   \n",
       "1               Alfred J. Lewy   \n",
       "2                Harpdog Brown   \n",
       "3          Franz Rottensteiner   \n",
       "4                       G-Enka   \n",
       "...                        ...   \n",
       "59066               Olari Elts   \n",
       "59067           Scott F. Crago   \n",
       "59068  David Cass (footballer)   \n",
       "59069              Keith Elias   \n",
       "59070             Fawaz Damrah   \n",
       "\n",
       "                                                    text  \n",
       "0      digby morrell born 10 october 1979 is a former...  \n",
       "1      alfred j lewy aka sandy lewy graduated from un...  \n",
       "2      harpdog brown is a singer and harmonica player...  \n",
       "3      franz rottensteiner born in waidmannsfeld lowe...  \n",
       "4      henry krvits born 30 december 1974 in tallinn ...  \n",
       "...                                                  ...  \n",
       "59066  olari elts born april 27 1971 in tallinn eston...  \n",
       "59067  scott francis crago born july 26 1963 twin bro...  \n",
       "59068  david william royce cass born 27 march 1962 in...  \n",
       "59069  keith hector elias born february 3 1972 in lac...  \n",
       "59070  fawaz mohammed damrah arabic fawwz damra was t...  \n",
       "\n",
       "[59071 rows x 3 columns]"
      ]
     },
     "execution_count": 251,
     "metadata": {},
     "output_type": "execute_result"
    }
   ],
   "source": [
    "# import wiki data\n",
    "wiki = pd.read_csv('people_wiki.csv')\n",
    "wiki"
   ]
  },
  {
   "cell_type": "markdown",
   "metadata": {},
   "source": [
    "In the original data, each Wikipedia article is represented by a URI, a name, and a string containing the entire text of the article. Recall from the video lectures that LDA requires documents to be represented as a _bag of words_, which ignores word ordering in the document but retains information on how many times each word appears. As we have seen in our previous encounters with text data, words such as 'the', 'a', or 'and' are by far the most frequent, but they appear so commonly in the English language that they tell us almost nothing about how similar or dissimilar two documents might be. \n",
    "\n",
    "Therefore, before we train our LDA model, we will preprocess the Wikipedia data in two steps: first, we will create a bag of words representation for each article, and then we will remove the common words that don't help us to distinguish between documents."
   ]
  },
  {
   "cell_type": "code",
   "execution_count": 252,
   "metadata": {},
   "outputs": [],
   "source": [
    "def load_sparse_csr(filename):\n",
    "    loader = np.load(filename)\n",
    "    data = loader['data']\n",
    "    indices = loader['indices']\n",
    "    indptr = loader['indptr']\n",
    "    shape = loader['shape']\n",
    "    \n",
    "    return csr_matrix( (data, indices, indptr), shape)\n",
    "\n",
    "word_count = load_sparse_csr('people_wiki_word_count.npz')\n",
    "\n",
    "with open('people_wiki_map_index_to_word.json', 'r') as f:\n",
    "    map_index_to_word = json.load(f)"
   ]
  },
  {
   "cell_type": "code",
   "execution_count": 253,
   "metadata": {},
   "outputs": [],
   "source": [
    "def unpack_dict(matrix, map_index_to_word):\n",
    "    table = sorted(map_index_to_word, key=map_index_to_word.get)    \n",
    "    data = matrix.data\n",
    "    indices = matrix.indices\n",
    "    indptr = matrix.indptr\n",
    "    \n",
    "    num_doc = matrix.shape[0]\n",
    "\n",
    "    return [{k:v for k,v in zip([table[word_id] for word_id in indices[indptr[i]:indptr[i+1]] ],\n",
    "                                data[indptr[i]:indptr[i+1]].tolist())} \\\n",
    "            for i in range(num_doc) ]\n",
    "\n",
    "wiki['word_count'] = unpack_dict(word_count, map_index_to_word)"
   ]
  },
  {
   "cell_type": "code",
   "execution_count": 254,
   "metadata": {},
   "outputs": [
    {
     "data": {
      "text/html": [
       "<div>\n",
       "<style scoped>\n",
       "    .dataframe tbody tr th:only-of-type {\n",
       "        vertical-align: middle;\n",
       "    }\n",
       "\n",
       "    .dataframe tbody tr th {\n",
       "        vertical-align: top;\n",
       "    }\n",
       "\n",
       "    .dataframe thead th {\n",
       "        text-align: right;\n",
       "    }\n",
       "</style>\n",
       "<table border=\"1\" class=\"dataframe\">\n",
       "  <thead>\n",
       "    <tr style=\"text-align: right;\">\n",
       "      <th></th>\n",
       "      <th>URI</th>\n",
       "      <th>name</th>\n",
       "      <th>text</th>\n",
       "      <th>word_count</th>\n",
       "      <th>words</th>\n",
       "      <th>clean_words</th>\n",
       "      <th>clean_text</th>\n",
       "    </tr>\n",
       "  </thead>\n",
       "  <tbody>\n",
       "    <tr>\n",
       "      <th>0</th>\n",
       "      <td>&lt;http://dbpedia.org/resource/Digby_Morrell&gt;</td>\n",
       "      <td>Digby Morrell</td>\n",
       "      <td>digby morrell born 10 october 1979 is a former...</td>\n",
       "      <td>{'brisbaneafter': 1, 'edflhe': 1, 'aflfrom': 1...</td>\n",
       "      <td>[brisbaneafter, edflhe, aflfrom, 44game, mcker...</td>\n",
       "      <td>[brisbaneafter, edflhe, aflfrom, 44game, mcker...</td>\n",
       "      <td>brisbaneafter edflhe aflfrom 44game mckernan m...</td>\n",
       "    </tr>\n",
       "    <tr>\n",
       "      <th>1</th>\n",
       "      <td>&lt;http://dbpedia.org/resource/Alfred_J._Lewy&gt;</td>\n",
       "      <td>Alfred J. Lewy</td>\n",
       "      <td>alfred j lewy aka sandy lewy graduated from un...</td>\n",
       "      <td>{'maladaptation': 1, 'phasedelay': 1, '25hour'...</td>\n",
       "      <td>[maladaptation, phasedelay, 25hour, phaseadvan...</td>\n",
       "      <td>[maladaptation, phasedelay, 25hour, phaseadvan...</td>\n",
       "      <td>maladaptation phasedelay 25hour phaseadvance c...</td>\n",
       "    </tr>\n",
       "    <tr>\n",
       "      <th>2</th>\n",
       "      <td>&lt;http://dbpedia.org/resource/Harpdog_Brown&gt;</td>\n",
       "      <td>Harpdog Brown</td>\n",
       "      <td>harpdog brown is a singer and harmonica player...</td>\n",
       "      <td>{'germanyover': 1, 'bluesgospel': 1, 'harpdog'...</td>\n",
       "      <td>[germanyover, bluesgospel, harpdog, surveybrow...</td>\n",
       "      <td>[germanyover, bluesgospel, harpdog, surveybrow...</td>\n",
       "      <td>germanyover bluesgospel harpdog surveybrown ju...</td>\n",
       "    </tr>\n",
       "    <tr>\n",
       "      <th>3</th>\n",
       "      <td>&lt;http://dbpedia.org/resource/Franz_Rottensteiner&gt;</td>\n",
       "      <td>Franz Rottensteiner</td>\n",
       "      <td>franz rottensteiner born in waidmannsfeld lowe...</td>\n",
       "      <td>{'fantasticrottensteiner': 1, 'waidmannsfeld':...</td>\n",
       "      <td>[fantasticrottensteiner, waidmannsfeld, struga...</td>\n",
       "      <td>[fantasticrottensteiner, waidmannsfeld, struga...</td>\n",
       "      <td>fantasticrottensteiner waidmannsfeld strugatsk...</td>\n",
       "    </tr>\n",
       "    <tr>\n",
       "      <th>4</th>\n",
       "      <td>&lt;http://dbpedia.org/resource/G-Enka&gt;</td>\n",
       "      <td>G-Enka</td>\n",
       "      <td>henry krvits born 30 december 1974 in tallinn ...</td>\n",
       "      <td>{'arhm': 3, 'gangstergenka': 1, 'kuhnja': 1, '...</td>\n",
       "      <td>[arhm, gangstergenka, kuhnja, palmisaar, produ...</td>\n",
       "      <td>[arhm, gangstergenka, kuhnja, palmisaar, produ...</td>\n",
       "      <td>arhm gangstergenka kuhnja palmisaar producerge...</td>\n",
       "    </tr>\n",
       "  </tbody>\n",
       "</table>\n",
       "</div>"
      ],
      "text/plain": [
       "                                                 URI                 name  \\\n",
       "0        <http://dbpedia.org/resource/Digby_Morrell>        Digby Morrell   \n",
       "1       <http://dbpedia.org/resource/Alfred_J._Lewy>       Alfred J. Lewy   \n",
       "2        <http://dbpedia.org/resource/Harpdog_Brown>        Harpdog Brown   \n",
       "3  <http://dbpedia.org/resource/Franz_Rottensteiner>  Franz Rottensteiner   \n",
       "4               <http://dbpedia.org/resource/G-Enka>               G-Enka   \n",
       "\n",
       "                                                text  \\\n",
       "0  digby morrell born 10 october 1979 is a former...   \n",
       "1  alfred j lewy aka sandy lewy graduated from un...   \n",
       "2  harpdog brown is a singer and harmonica player...   \n",
       "3  franz rottensteiner born in waidmannsfeld lowe...   \n",
       "4  henry krvits born 30 december 1974 in tallinn ...   \n",
       "\n",
       "                                          word_count  \\\n",
       "0  {'brisbaneafter': 1, 'edflhe': 1, 'aflfrom': 1...   \n",
       "1  {'maladaptation': 1, 'phasedelay': 1, '25hour'...   \n",
       "2  {'germanyover': 1, 'bluesgospel': 1, 'harpdog'...   \n",
       "3  {'fantasticrottensteiner': 1, 'waidmannsfeld':...   \n",
       "4  {'arhm': 3, 'gangstergenka': 1, 'kuhnja': 1, '...   \n",
       "\n",
       "                                               words  \\\n",
       "0  [brisbaneafter, edflhe, aflfrom, 44game, mcker...   \n",
       "1  [maladaptation, phasedelay, 25hour, phaseadvan...   \n",
       "2  [germanyover, bluesgospel, harpdog, surveybrow...   \n",
       "3  [fantasticrottensteiner, waidmannsfeld, struga...   \n",
       "4  [arhm, gangstergenka, kuhnja, palmisaar, produ...   \n",
       "\n",
       "                                         clean_words  \\\n",
       "0  [brisbaneafter, edflhe, aflfrom, 44game, mcker...   \n",
       "1  [maladaptation, phasedelay, 25hour, phaseadvan...   \n",
       "2  [germanyover, bluesgospel, harpdog, surveybrow...   \n",
       "3  [fantasticrottensteiner, waidmannsfeld, struga...   \n",
       "4  [arhm, gangstergenka, kuhnja, palmisaar, produ...   \n",
       "\n",
       "                                          clean_text  \n",
       "0  brisbaneafter edflhe aflfrom 44game mckernan m...  \n",
       "1  maladaptation phasedelay 25hour phaseadvance c...  \n",
       "2  germanyover bluesgospel harpdog surveybrown ju...  \n",
       "3  fantasticrottensteiner waidmannsfeld strugatsk...  \n",
       "4  arhm gangstergenka kuhnja palmisaar producerge...  "
      ]
     },
     "execution_count": 254,
     "metadata": {},
     "output_type": "execute_result"
    }
   ],
   "source": [
    "# extract the words from the word count dictionary\n",
    "wiki['words'] = wiki.word_count.apply(lambda x: list(x.keys()))\n",
    "# remove English stopwords\n",
    "stop_words = list(stopwords.words('english'))\n",
    "wiki['clean_words'] = wiki.words.apply(lambda x: [w for w in x if w.lower() not in stop_words])\n",
    "\n",
    "# turn the word lists back into text strings\n",
    "wiki['clean_text'] = wiki.clean_words.apply(' '.join)\n",
    "wiki.head()"
   ]
  },
  {
   "cell_type": "code",
   "execution_count": 255,
   "metadata": {},
   "outputs": [
    {
     "data": {
      "text/plain": [
       "<20000x257417 sparse matrix of type '<class 'numpy.int64'>'\n",
       "\twith 2900058 stored elements in Compressed Sparse Row format>"
      ]
     },
     "execution_count": 255,
     "metadata": {},
     "output_type": "execute_result"
    }
   ],
   "source": [
    "# convert clean_text into a DTM\n",
    "# take a subset of the data (otherwise it takes too long)\n",
    "idx = random.sample(list(wiki.index), 20000)\n",
    "wiki_small = wiki.loc[idx]\n",
    "\n",
    "count_vec = CountVectorizer()\n",
    "wiki_dtm = count_vec.fit_transform(wiki_small.clean_text)\n",
    "wiki_dtm"
   ]
  },
  {
   "cell_type": "markdown",
   "metadata": {},
   "source": [
    "## Model fitting and interpretation\n",
    "In the video lectures we saw that Gibbs sampling can be used to perform inference in the LDA model. In this assignment we will learn the topic model for our Wikipedia data, and our main emphasis will be on interpreting the results. We'll begin by creating the topic model."
   ]
  },
  {
   "cell_type": "code",
   "execution_count": 256,
   "metadata": {
    "scrolled": true
   },
   "outputs": [
    {
     "name": "stdout",
     "output_type": "stream",
     "text": [
      "iteration: 1 of max_iter: 50\n",
      "iteration: 2 of max_iter: 50\n",
      "iteration: 3 of max_iter: 50\n",
      "iteration: 4 of max_iter: 50\n",
      "iteration: 5 of max_iter: 50\n",
      "iteration: 6 of max_iter: 50\n",
      "iteration: 7 of max_iter: 50\n",
      "iteration: 8 of max_iter: 50\n",
      "iteration: 9 of max_iter: 50\n",
      "iteration: 10 of max_iter: 50\n",
      "iteration: 11 of max_iter: 50\n",
      "iteration: 12 of max_iter: 50\n",
      "iteration: 13 of max_iter: 50\n",
      "iteration: 14 of max_iter: 50\n",
      "iteration: 15 of max_iter: 50\n",
      "iteration: 16 of max_iter: 50\n",
      "iteration: 17 of max_iter: 50\n",
      "iteration: 18 of max_iter: 50\n",
      "iteration: 19 of max_iter: 50\n",
      "iteration: 20 of max_iter: 50\n",
      "iteration: 21 of max_iter: 50\n",
      "iteration: 22 of max_iter: 50\n",
      "iteration: 23 of max_iter: 50\n",
      "iteration: 24 of max_iter: 50\n",
      "iteration: 25 of max_iter: 50\n",
      "iteration: 26 of max_iter: 50\n",
      "iteration: 27 of max_iter: 50\n",
      "iteration: 28 of max_iter: 50\n",
      "iteration: 29 of max_iter: 50\n",
      "iteration: 30 of max_iter: 50\n",
      "iteration: 31 of max_iter: 50\n",
      "iteration: 32 of max_iter: 50\n",
      "iteration: 33 of max_iter: 50\n",
      "iteration: 34 of max_iter: 50\n",
      "iteration: 35 of max_iter: 50\n",
      "iteration: 36 of max_iter: 50\n",
      "iteration: 37 of max_iter: 50\n",
      "iteration: 38 of max_iter: 50\n",
      "iteration: 39 of max_iter: 50\n",
      "iteration: 40 of max_iter: 50\n",
      "iteration: 41 of max_iter: 50\n",
      "iteration: 42 of max_iter: 50\n",
      "iteration: 43 of max_iter: 50\n",
      "iteration: 44 of max_iter: 50\n",
      "iteration: 45 of max_iter: 50\n",
      "iteration: 46 of max_iter: 50\n",
      "iteration: 47 of max_iter: 50\n",
      "iteration: 48 of max_iter: 50\n",
      "iteration: 49 of max_iter: 50\n",
      "iteration: 50 of max_iter: 50\n",
      "CPU times: user 13.6 s, sys: 3.33 s, total: 17 s\n",
      "Wall time: 3min 58s\n"
     ]
    }
   ],
   "source": [
    "%%time\n",
    "topic_model = LDA(n_components=10, max_iter=50, n_jobs=-1, evaluate_every=-1, verbose=1, random_state=42,\n",
    "                  doc_topic_prior=5, topic_word_prior=0.1)\n",
    "model_matrix = topic_model.fit_transform(wiki_dtm)"
   ]
  },
  {
   "cell_type": "markdown",
   "metadata": {},
   "source": [
    "`sklearn` provides a useful summary of the model we have fitted, including the hyperparameter settings for alpha, gamma, K (the number of topics); the structure of the output data; and some useful methods for understanding the results."
   ]
  },
  {
   "cell_type": "code",
   "execution_count": 257,
   "metadata": {},
   "outputs": [
    {
     "data": {
      "text/plain": [
       "LatentDirichletAllocation(batch_size=128, doc_topic_prior=5, evaluate_every=-1,\n",
       "                          learning_decay=0.7, learning_method='batch',\n",
       "                          learning_offset=10.0, max_doc_update_iter=100,\n",
       "                          max_iter=50, mean_change_tol=0.001, n_components=10,\n",
       "                          n_jobs=-1, perp_tol=0.1, random_state=42,\n",
       "                          topic_word_prior=0.1, total_samples=1000000.0,\n",
       "                          verbose=1)"
      ]
     },
     "execution_count": 257,
     "metadata": {},
     "output_type": "execute_result"
    }
   ],
   "source": [
    "topic_model"
   ]
  },
  {
   "cell_type": "code",
   "execution_count": 258,
   "metadata": {},
   "outputs": [
    {
     "name": "stdout",
     "output_type": "stream",
     "text": [
      "alpha: 5\n",
      "gamma: 0.1\n",
      "K: 10\n"
     ]
    }
   ],
   "source": [
    "# alpha - how much each document \"likes\" each topic\n",
    "print(\"alpha: \" + str(topic_model.doc_topic_prior_))\n",
    "# gamma - how much each topic \"likes\" a word\n",
    "print(\"gamma: \" + str(topic_model.topic_word_prior_))\n",
    "# K - the number of topics\n",
    "print(\"K: \" + str(topic_model.components_.shape[0]))"
   ]
  },
  {
   "cell_type": "markdown",
   "metadata": {},
   "source": [
    "It is certainly useful to have pre-implemented methods available for LDA, but as with our previous methods for clustering and retrieval, implementing and fitting the model gets us only halfway towards our objective. We now need to analyze the fitted model to understand what it has done with our data and whether it will be useful as a document classification system. This can be a challenging task in itself, particularly when the model that we use is complex. We will begin by outlining a sequence of objectives that will help us understand our model in detail. In particular, we will\n",
    "\n",
    "* get the top words in each topic and use these to identify topic themes\n",
    "* predict topic distributions for some example documents\n",
    "* compare the quality of LDA \"nearest neighbors\" to the NN output from the first assignment\n",
    "* understand the role of model hyperparameters alpha and gamma"
   ]
  },
  {
   "cell_type": "markdown",
   "metadata": {},
   "source": [
    "## Load a fitted topic model\n",
    "The method used to fit the LDA model is a *randomized algorithm*, which means that it involves steps that are random; in this case, the randomness comes from Gibbs sampling, as discussed in the LDA video lectures. Because of these random steps, the algorithm will be expected to yield slighty different output for different runs on the same data - note that this is different from previously seen algorithms such as k-means or EM, which will always produce the same results given the same input and initialization.\n",
    "\n",
    "It is important to understand that variation in the results is a fundamental feature of randomized methods. However, in the context of this assignment this variation makes it difficult to evaluate the correctness of your analysis, so we will load and analyze a pre-trained model. \n",
    "\n",
    "We recommend that you spend some time exploring your own fitted topic model and compare our analysis of the pre-trained model to the same analysis applied to the model you trained above."
   ]
  },
  {
   "cell_type": "code",
   "execution_count": 12,
   "metadata": {
    "scrolled": false
   },
   "outputs": [],
   "source": [
    "# topic_model = turicreate.load_model('topic_models/lda_assignment_topic_model')"
   ]
  },
  {
   "cell_type": "markdown",
   "metadata": {},
   "source": [
    "# Identifying topic themes by top words\n",
    "\n",
    "We'll start by trying to identify the topics learned by our model with some major themes. As a preliminary check on the results of applying this method, it is reasonable to hope that the model has been able to learn topics that correspond to recognizable categories. In order to do this, we must first recall what exactly a 'topic' is in the context of LDA. \n",
    "\n",
    "In the video lectures on LDA we learned that a topic is a probability distribution over words in the vocabulary; that is, each topic assigns a particular probability to every one of the unique words that appears in our data. Different topics will assign different probabilities to the same word: for instance, a topic that ends up describing science and technology articles might place more probability on the word 'university' than a topic that describes sports or politics. Looking at the highest probability words in each topic will thus give us a sense of its major themes. Ideally we would find that each topic is identifiable with some clear theme _and_ that all the topics are relatively distinct.\n",
    "\n",
    "We can use the `components_` attribute to view the topic words (along with their associated probabilities) from each topic."
   ]
  },
  {
   "cell_type": "code",
   "execution_count": 259,
   "metadata": {},
   "outputs": [
    {
     "name": "stdout",
     "output_type": "stream",
     "text": [
      "Topic 0:  ['would', 'one', 'later', 'may', 'born', 'july', 'october', 'however', 'became', 'said']\n",
      "Topic 0:  [1843.78, 1420.83, 1389.79, 1386.03, 1243.52, 1240.87, 1227.29, 1192.51, 1138.54, 1121.0]\n",
      "Topic 1:  ['born', 'also', 'first', 'one', 'british', 'english', 'two', 'years', 'new', '2009']\n",
      "Topic 1:  [3802.44, 3587.28, 3257.33, 2284.61, 2188.5, 2053.06, 2008.07, 1946.87, 1889.83, 1867.28]\n",
      "Topic 2:  ['born', 'years', 'also', 'war', 'family', 'later', 'time', 'father', 'worked', 'first']\n",
      "Topic 2:  [2394.02, 1487.11, 1310.91, 1186.93, 1150.39, 1145.6, 1083.77, 934.05, 915.45, 892.69]\n",
      "Topic 3:  ['released', 'music', 'album', 'artist', 'known', 'band', 'records', 'art', 'name', 'artists']\n",
      "Topic 3:  [2189.67, 1845.73, 1747.1, 1662.75, 1616.13, 1436.71, 1259.67, 1242.13, 1225.76, 1211.32]\n",
      "Topic 4:  ['university', 'published', 'professor', 'work', 'american', 'research', 'book', 'received', 'books', 'institute']\n",
      "Topic 4:  [4409.28, 2758.37, 2690.1, 2437.5, 2302.88, 2215.85, 2191.47, 2041.42, 2017.42, 1801.49]\n",
      "Topic 5:  ['born', 'also', 'music', 'de', 'studied', 'international', 'performed', 'new', 'including', 'performance']\n",
      "Topic 5:  [1656.07, 1509.11, 1498.47, 1487.67, 1482.26, 1276.32, 1267.62, 1239.21, 1115.75, 1114.01]\n",
      "Topic 6:  ['member', 'served', 'state', 'born', 'elected', 'former', 'party', 'school', 'university', 'law']\n",
      "Topic 6:  [3219.1, 2688.38, 2530.53, 2328.68, 2113.1, 2026.1, 1810.55, 1706.29, 1692.0, 1608.61]\n",
      "Topic 7:  ['team', 'played', 'career', 'season', 'professional', 'born', 'league', 'former', 'player', 'year']\n",
      "Topic 7:  [3486.1, 3357.87, 3151.86, 3025.1, 2603.22, 2533.68, 2455.1, 2355.24, 2338.18, 2191.08]\n",
      "Topic 8:  ['television', 'series', 'film', 'american', 'appeared', 'show', 'best', 'award', 'radio', 'also']\n",
      "Topic 8:  [2715.1, 2581.28, 2565.86, 2153.13, 2093.62, 2025.43, 2007.87, 1873.3, 1663.95, 1541.19]\n",
      "Topic 9:  ['director', 'international', 'president', 'university', 'board', 'national', 'business', 'development', 'served', 'executive']\n",
      "Topic 9:  [2591.71, 2070.16, 1994.39, 1870.82, 1849.98, 1687.87, 1656.99, 1648.52, 1573.39, 1518.18]\n"
     ]
    }
   ],
   "source": [
    "terms = count_vec.get_feature_names()\n",
    "\n",
    "for idx, component in enumerate(topic_model.components_):\n",
    "    zipped = zip(terms, component)\n",
    "    top_terms_key = sorted(zipped, key = lambda x: x[1], reverse=True)[:10]\n",
    "    top_terms_list = list(dict(top_terms_key).keys())\n",
    "    top_probs_list = [round(prob, 2) for prob in list(dict(top_terms_key).values())]\n",
    "    print(\"Topic \" + str(idx) + \": \", top_terms_list)\n",
    "    print(\"Topic \" + str(idx) + \": \", top_probs_list)    "
   ]
  },
  {
   "cell_type": "markdown",
   "metadata": {},
   "source": [
    "__Quiz Question:__ Identify the top 3 most probable words for the first topic.\n",
    "\n",
    "would, one and later"
   ]
  },
  {
   "cell_type": "markdown",
   "metadata": {},
   "source": [
    "**Quiz Question:** What is the sum of the probabilities assigned to the top 50 words in the 3rd topic?"
   ]
  },
  {
   "cell_type": "code",
   "execution_count": 260,
   "metadata": {
    "scrolled": true
   },
   "outputs": [
    {
     "name": "stdout",
     "output_type": "stream",
     "text": [
      "35809.76247290716\n"
     ]
    }
   ],
   "source": [
    "component = topic_model.components_[2]\n",
    "zipped = zip(terms, component)\n",
    "top_terms_key = sorted(zipped, key = lambda x: x[1], reverse=True)[:50]\n",
    "top_probs_list = list(dict(top_terms_key).values())\n",
    "\n",
    "print(np.array(top_probs_list).sum())"
   ]
  },
  {
   "cell_type": "markdown",
   "metadata": {},
   "source": [
    "Let's look at the top 10 words for each topic to see if we can identify any themes:"
   ]
  },
  {
   "cell_type": "code",
   "execution_count": 261,
   "metadata": {},
   "outputs": [
    {
     "name": "stdout",
     "output_type": "stream",
     "text": [
      "Topic 0:  ['would', 'one', 'later', 'may', 'born', 'july', 'october', 'however', 'became', 'said']\n",
      "Topic 1:  ['born', 'also', 'first', 'one', 'british', 'english', 'two', 'years', 'new', '2009']\n",
      "Topic 2:  ['born', 'years', 'also', 'war', 'family', 'later', 'time', 'father', 'worked', 'first']\n",
      "Topic 3:  ['released', 'music', 'album', 'artist', 'known', 'band', 'records', 'art', 'name', 'artists']\n",
      "Topic 4:  ['university', 'published', 'professor', 'work', 'american', 'research', 'book', 'received', 'books', 'institute']\n",
      "Topic 5:  ['born', 'also', 'music', 'de', 'studied', 'international', 'performed', 'new', 'including', 'performance']\n",
      "Topic 6:  ['member', 'served', 'state', 'born', 'elected', 'former', 'party', 'school', 'university', 'law']\n",
      "Topic 7:  ['team', 'played', 'career', 'season', 'professional', 'born', 'league', 'former', 'player', 'year']\n",
      "Topic 8:  ['television', 'series', 'film', 'american', 'appeared', 'show', 'best', 'award', 'radio', 'also']\n",
      "Topic 9:  ['director', 'international', 'president', 'university', 'board', 'national', 'business', 'development', 'served', 'executive']\n"
     ]
    }
   ],
   "source": [
    "for idx, component in enumerate(topic_model.components_):\n",
    "    zipped = zip(terms, component)\n",
    "    top_terms_key = sorted(zipped, key = lambda x: x[1], reverse=True)[:10]\n",
    "    top_terms_list = list(dict(top_terms_key).keys())\n",
    "    top_probs_list = [round(prob, 2) for prob in list(dict(top_terms_key).values())]\n",
    "    print(\"Topic \" + str(idx) + \": \", top_terms_list)"
   ]
  },
  {
   "cell_type": "markdown",
   "metadata": {},
   "source": [
    "We propose the following themes for each topic:\n",
    "\n",
    "- topic 0: Business\n",
    "- topic 1: Science and research\n",
    "- topic 2: International music\n",
    "- topic 3: Art and publishing\n",
    "- topic 4: Team sports\n",
    "- topic 5: Family and society\n",
    "- topic 6: Politics\n",
    "- topic 7: International athletics\n",
    "- topic 8: TV and film\n",
    "- topic 9: General music\n",
    "\n",
    "We'll save these themes for later:"
   ]
  },
  {
   "cell_type": "code",
   "execution_count": 270,
   "metadata": {},
   "outputs": [],
   "source": [
    "themes = ['?1',\n",
    "          'Britain',\n",
    "          'family',\n",
    "          'music',\n",
    "          'research and academia',\n",
    "          'performing arts',\n",
    "          'politics',\n",
    "          'sports',\n",
    "          'TV, film and radio',\n",
    "          'business']"
   ]
  },
  {
   "cell_type": "markdown",
   "metadata": {},
   "source": [
    "### Measuring the importance of top words\n",
    "\n",
    "We can learn more about topics by exploring how they place probability mass (which we can think of as a weight) on each of their top words.\n",
    "\n",
    "We'll do this with two visualizations of the weights for the top words in each topic:\n",
    " - the weights of the top 100 words, sorted by the size\n",
    " - the total weight of the top 10 words\n"
   ]
  },
  {
   "cell_type": "markdown",
   "metadata": {},
   "source": [
    "Here's a plot for the top 100 words by weight in each topic:"
   ]
  },
  {
   "cell_type": "code",
   "execution_count": 271,
   "metadata": {},
   "outputs": [],
   "source": [
    "probs_lists = []\n",
    "for idx, component in enumerate(topic_model.components_):\n",
    "    zipped = zip(terms, component)\n",
    "    top_terms_key = sorted(zipped, key = lambda x: x[1], reverse=True)[:100]\n",
    "    top_probs_list = list(dict(top_terms_key).values())\n",
    "    probs_lists.append(top_probs_list)\n",
    "\n",
    "probs_df_wide = pd.DataFrame(probs_lists).transpose()\n",
    "probs_df_wide.columns = ['topic 1', 'topic 2', 'topic 3', 'topic 4', 'topic 5', 'topic 6', 'topic 7',\n",
    "                         'topic 8', 'topic 9', 'topic 10']\n",
    "probs_df_wide.rename_axis(index='index', columns='topic', axis=1, inplace=True)\n",
    "probs_df_wide.head()\n",
    "\n",
    "probs_df = probs_df_wide.stack().reset_index(name='probability')\n",
    "probs_df.sort_values(by=['topic', 'index'], inplace=True)\n",
    "probs_df.columns = ['order', 'topic', 'probability']"
   ]
  },
  {
   "cell_type": "code",
   "execution_count": 272,
   "metadata": {},
   "outputs": [
    {
     "data": {
      "image/png": "[encoded data removed]",
      "text/plain": [
       "<Figure size 720x360 with 1 Axes>"
      ]
     },
     "metadata": {
      "needs_background": "light"
     },
     "output_type": "display_data"
    }
   ],
   "source": [
    "fig, ax = plt.subplots(figsize=(10, 5))\n",
    "sns.lineplot(data=probs_df, x='order', y='probability', hue='topic', palette='mako')\n",
    "ax.set(xlabel='Word rank', ylabel='Probability', title='Probabilities of Top 100 Words in each Topic')\n",
    "sns.despine();"
   ]
  },
  {
   "cell_type": "markdown",
   "metadata": {},
   "source": [
    "In the above plot, each line corresponds to one of our ten topics. Notice how for each topic, the weights drop off sharply as we move down the ranked list of most important words. This shows that the top 10-20 words in each topic are assigned a much greater weight than the remaining words - and remember from the summary of our topic model that our vocabulary has 256303 words in total!\n",
    "\n",
    "\n",
    "Next we plot the total weight assigned by each topic to its top 10 words: "
   ]
  },
  {
   "cell_type": "code",
   "execution_count": 273,
   "metadata": {},
   "outputs": [],
   "source": [
    "probs_sums = []\n",
    "for idx, component in enumerate(topic_model.components_):\n",
    "    zipped = zip(terms, component)\n",
    "    top_terms_key = sorted(zipped, key = lambda x: x[1], reverse=True)[:10]\n",
    "    top_probs_list = list(dict(top_terms_key).values())\n",
    "    top_probs_sum = np.array(top_probs_list).sum()\n",
    "    all_probs_sum = component.sum()\n",
    "    \n",
    "    probs_sums.append((top_probs_sum, all_probs_sum))\n",
    "    \n",
    "probs_df = pd.DataFrame(probs_sums)\n",
    "probs_df.reset_index(inplace=True)\n",
    "probs_df.columns = ['topic', 'top_terms', 'all_terms']\n",
    "probs_df['proportion'] = probs_df.top_terms / probs_df.all_terms * 100"
   ]
  },
  {
   "cell_type": "code",
   "execution_count": 274,
   "metadata": {},
   "outputs": [
    {
     "data": {
      "image/png": "[encoded data removed]",
      "text/plain": [
       "<Figure size 720x360 with 1 Axes>"
      ]
     },
     "metadata": {
      "needs_background": "light"
     },
     "output_type": "display_data"
    }
   ],
   "source": [
    "fig, ax = plt.subplots(figsize=(10, 5))\n",
    "sns.barplot(data=probs_df, x='topic', y='proportion', palette='mako')\n",
    "ax.set(xlabel='Topic', ylabel='Probability', title='Total Probability of Top 10 Words in each Topic')\n",
    "sns.despine()"
   ]
  },
  {
   "cell_type": "markdown",
   "metadata": {},
   "source": [
    "Here we see that, for our topic model, the top 10 words only account for a small fraction of their topic's total probability mass. So while we can use the top words to identify broad themes for each topic, we should keep in mind that in reality these topics are more complex than a simple 10-word summary.\n",
    "\n",
    "Finally, we observe that some 'junk' words appear highly rated in some topics despite our efforts to remove unhelpful words before fitting the model; for example, the word 'born' appears as a top 10 word in three different topics, but it doesn't help us describe these topics at all."
   ]
  },
  {
   "cell_type": "markdown",
   "metadata": {},
   "source": [
    "# Topic distributions for some example documents\n",
    "\n",
    "As we noted in the introduction to this assignment, LDA allows for mixed membership, which means that each document can partially belong to several different topics. For each document, topic membership is expressed as a vector of weights that sum to one; the magnitude of each weight indicates the degree to which the document represents that particular topic.\n",
    "\n",
    "We'll explore this in our fitted model by looking at the topic distributions for a few example Wikipedia articles from our data set. We should find that these articles have the highest weights on the topics whose themes are most relevant to the subject of the article - for example, we'd expect an article on a politician to place relatively high weight on topics related to government, while an article about an athlete should place higher weight on topics related to sports or competition."
   ]
  },
  {
   "cell_type": "markdown",
   "metadata": {},
   "source": [
    "Here we predict the topic distribution for the article on Barack Obama:"
   ]
  },
  {
   "cell_type": "code",
   "execution_count": 275,
   "metadata": {},
   "outputs": [
    {
     "data": {
      "text/html": [
       "<div>\n",
       "<style scoped>\n",
       "    .dataframe tbody tr th:only-of-type {\n",
       "        vertical-align: middle;\n",
       "    }\n",
       "\n",
       "    .dataframe tbody tr th {\n",
       "        vertical-align: top;\n",
       "    }\n",
       "\n",
       "    .dataframe thead th {\n",
       "        text-align: right;\n",
       "    }\n",
       "</style>\n",
       "<table border=\"1\" class=\"dataframe\">\n",
       "  <thead>\n",
       "    <tr style=\"text-align: right;\">\n",
       "      <th></th>\n",
       "      <th>probability</th>\n",
       "      <th>topic</th>\n",
       "    </tr>\n",
       "  </thead>\n",
       "  <tbody>\n",
       "    <tr>\n",
       "      <th>0</th>\n",
       "      <td>0.348551</td>\n",
       "      <td>politics</td>\n",
       "    </tr>\n",
       "    <tr>\n",
       "      <th>1</th>\n",
       "      <td>0.141113</td>\n",
       "      <td>?1</td>\n",
       "    </tr>\n",
       "  </tbody>\n",
       "</table>\n",
       "</div>"
      ],
      "text/plain": [
       "   probability     topic\n",
       "0     0.348551  politics\n",
       "1     0.141113        ?1"
      ]
     },
     "execution_count": 275,
     "metadata": {},
     "output_type": "execute_result"
    }
   ],
   "source": [
    "new_doc = wiki[wiki.name == \"Barack Obama\"]\n",
    "\n",
    "dtm = count_vec.transform(new_doc.clean_text)\n",
    "topic_dist = topic_model.transform(dtm)\n",
    "\n",
    "dist_df = pd.DataFrame(data={'probability': topic_dist.T.flatten(), 'topic': themes})\n",
    "dist_df.sort_values(by='probability', ascending=False, inplace=True)\n",
    "dist_df.reset_index(inplace=True, drop=True)\n",
    "dist_df.head(2)"
   ]
  },
  {
   "cell_type": "markdown",
   "metadata": {},
   "source": [
    "__Quiz Question:__ What is the topic most closely associated with the article about former US President George W. Bush? Use the average results from 100 topic predictions."
   ]
  },
  {
   "cell_type": "code",
   "execution_count": 276,
   "metadata": {},
   "outputs": [
    {
     "data": {
      "text/html": [
       "<div>\n",
       "<style scoped>\n",
       "    .dataframe tbody tr th:only-of-type {\n",
       "        vertical-align: middle;\n",
       "    }\n",
       "\n",
       "    .dataframe tbody tr th {\n",
       "        vertical-align: top;\n",
       "    }\n",
       "\n",
       "    .dataframe thead th {\n",
       "        text-align: right;\n",
       "    }\n",
       "</style>\n",
       "<table border=\"1\" class=\"dataframe\">\n",
       "  <thead>\n",
       "    <tr style=\"text-align: right;\">\n",
       "      <th></th>\n",
       "      <th>probability</th>\n",
       "      <th>topic</th>\n",
       "    </tr>\n",
       "  </thead>\n",
       "  <tbody>\n",
       "    <tr>\n",
       "      <th>0</th>\n",
       "      <td>0.283779</td>\n",
       "      <td>politics</td>\n",
       "    </tr>\n",
       "  </tbody>\n",
       "</table>\n",
       "</div>"
      ],
      "text/plain": [
       "   probability     topic\n",
       "0     0.283779  politics"
      ]
     },
     "execution_count": 276,
     "metadata": {},
     "output_type": "execute_result"
    }
   ],
   "source": [
    "new_doc = wiki[wiki.name == \"George W. Bush\"]\n",
    "dtm = count_vec.transform(new_doc.clean_text)\n",
    "topic_dist = topic_model.transform(dtm)\n",
    "\n",
    "dist_df = pd.DataFrame(data={'probability': topic_dist.T.flatten(), 'topic': themes})\n",
    "dist_df.sort_values(by='probability', ascending=False, inplace=True)\n",
    "dist_df.reset_index(inplace=True, drop=True)\n",
    "dist_df.head(1)"
   ]
  },
  {
   "cell_type": "markdown",
   "metadata": {},
   "source": [
    "__Quiz Question:__ What are the top 3 topics corresponding to the article about English football (soccer) player Steven Gerrard?"
   ]
  },
  {
   "cell_type": "code",
   "execution_count": 277,
   "metadata": {},
   "outputs": [
    {
     "data": {
      "text/html": [
       "<div>\n",
       "<style scoped>\n",
       "    .dataframe tbody tr th:only-of-type {\n",
       "        vertical-align: middle;\n",
       "    }\n",
       "\n",
       "    .dataframe tbody tr th {\n",
       "        vertical-align: top;\n",
       "    }\n",
       "\n",
       "    .dataframe thead th {\n",
       "        text-align: right;\n",
       "    }\n",
       "</style>\n",
       "<table border=\"1\" class=\"dataframe\">\n",
       "  <thead>\n",
       "    <tr style=\"text-align: right;\">\n",
       "      <th></th>\n",
       "      <th>probability</th>\n",
       "      <th>topic</th>\n",
       "    </tr>\n",
       "  </thead>\n",
       "  <tbody>\n",
       "    <tr>\n",
       "      <th>0</th>\n",
       "      <td>0.471845</td>\n",
       "      <td>sports</td>\n",
       "    </tr>\n",
       "    <tr>\n",
       "      <th>1</th>\n",
       "      <td>0.148048</td>\n",
       "      <td>Britain</td>\n",
       "    </tr>\n",
       "    <tr>\n",
       "      <th>2</th>\n",
       "      <td>0.081990</td>\n",
       "      <td>?1</td>\n",
       "    </tr>\n",
       "  </tbody>\n",
       "</table>\n",
       "</div>"
      ],
      "text/plain": [
       "   probability    topic\n",
       "0     0.471845   sports\n",
       "1     0.148048  Britain\n",
       "2     0.081990       ?1"
      ]
     },
     "execution_count": 277,
     "metadata": {},
     "output_type": "execute_result"
    }
   ],
   "source": [
    "new_doc = wiki[wiki.name == \"Steven Gerrard\"]\n",
    "dtm = count_vec.transform(new_doc.clean_text)\n",
    "topic_dist = topic_model.transform(dtm)\n",
    "\n",
    "dist_df = pd.DataFrame(data={'probability': topic_dist.T.flatten(), 'topic': themes})\n",
    "dist_df.sort_values(by='probability', ascending=False, inplace=True)\n",
    "dist_df.reset_index(inplace=True, drop=True)\n",
    "dist_df.head(3)"
   ]
  },
  {
   "cell_type": "markdown",
   "metadata": {},
   "source": [
    "# Comparing LDA to nearest neighbors for document retrieval\n",
    "\n",
    "So far we have found that our topic model has learned some coherent topics, we have explored these topics as probability distributions over a vocabulary, and we have seen how individual documents in our Wikipedia data set are assigned to these topics in a way that corresponds with our expectations. \n",
    "\n",
    "In this section, we will use the predicted topic distribution as a representation of each document, similar to how we have previously represented documents by word count or TF-IDF. This gives us a way of computing distances between documents, so that we can run a nearest neighbors search for a given document based on its membership in the topics that we learned from LDA. We can contrast the results with those obtained by running nearest neighbors under the usual TF-IDF representation, an approach that we explored in a previous assignment. \n",
    "\n",
    "We'll start by creating the LDA topic distribution representation for each document:"
   ]
  },
  {
   "cell_type": "code",
   "execution_count": 278,
   "metadata": {},
   "outputs": [],
   "source": [
    "new_dtm = count_vec.transform(wiki.clean_text)\n",
    "new_topic_dist = topic_model.transform(new_dtm)"
   ]
  },
  {
   "cell_type": "markdown",
   "metadata": {},
   "source": [
    "Next we add the TF-IDF document representations:"
   ]
  },
  {
   "cell_type": "code",
   "execution_count": 279,
   "metadata": {},
   "outputs": [],
   "source": [
    "tfidf_vec = TfidfVectorizer()\n",
    "wiki_tfidf_dtm = tfidf_vec.fit_transform(wiki.clean_text)"
   ]
  },
  {
   "cell_type": "markdown",
   "metadata": {},
   "source": [
    "For each of our two different document representations, we can use `sklearn` to compute a brute-force nearest neighbors model:"
   ]
  },
  {
   "cell_type": "code",
   "execution_count": 280,
   "metadata": {},
   "outputs": [
    {
     "data": {
      "text/plain": [
       "NearestNeighbors(algorithm='brute', leaf_size=30, metric='cosine',\n",
       "                 metric_params=None, n_jobs=-1, n_neighbors=5, p=2, radius=1.0)"
      ]
     },
     "execution_count": 280,
     "metadata": {},
     "output_type": "execute_result"
    }
   ],
   "source": [
    "model_tfidf = NearestNeighbors(algorithm='brute', metric='cosine', n_jobs=-1)\n",
    "model_tfidf.fit(wiki_tfidf_dtm)\n",
    "\n",
    "model_lda_rep = NearestNeighbors(algorithm='brute', metric='cosine', n_jobs=-1)\n",
    "model_lda_rep.fit(new_topic_dist)"
   ]
  },
  {
   "cell_type": "markdown",
   "metadata": {},
   "source": [
    "Let's compare these nearest neighbor models by finding the nearest neighbors under each representation on an example document. For this example we'll use Paul Krugman, an American economist:"
   ]
  },
  {
   "cell_type": "code",
   "execution_count": 281,
   "metadata": {},
   "outputs": [
    {
     "data": {
      "text/html": [
       "<div>\n",
       "<style scoped>\n",
       "    .dataframe tbody tr th:only-of-type {\n",
       "        vertical-align: middle;\n",
       "    }\n",
       "\n",
       "    .dataframe tbody tr th {\n",
       "        vertical-align: top;\n",
       "    }\n",
       "\n",
       "    .dataframe thead th {\n",
       "        text-align: right;\n",
       "    }\n",
       "</style>\n",
       "<table border=\"1\" class=\"dataframe\">\n",
       "  <thead>\n",
       "    <tr style=\"text-align: right;\">\n",
       "      <th></th>\n",
       "      <th>URI</th>\n",
       "      <th>name</th>\n",
       "      <th>text</th>\n",
       "      <th>word_count</th>\n",
       "      <th>words</th>\n",
       "      <th>clean_words</th>\n",
       "      <th>clean_text</th>\n",
       "    </tr>\n",
       "  </thead>\n",
       "  <tbody>\n",
       "    <tr>\n",
       "      <th>4001</th>\n",
       "      <td>&lt;http://dbpedia.org/resource/Paul_Krugman&gt;</td>\n",
       "      <td>Paul Krugman</td>\n",
       "      <td>paul robin krugman born february 28 1953 is an...</td>\n",
       "      <td>{'krugmans': 1, 'serviceskrugman': 1, 'timesfo...</td>\n",
       "      <td>[krugmans, serviceskrugman, timesfortune, slat...</td>\n",
       "      <td>[krugmans, serviceskrugman, timesfortune, slat...</td>\n",
       "      <td>krugmans serviceskrugman timesfortune slateas ...</td>\n",
       "    </tr>\n",
       "  </tbody>\n",
       "</table>\n",
       "</div>"
      ],
      "text/plain": [
       "                                             URI          name  \\\n",
       "4001  <http://dbpedia.org/resource/Paul_Krugman>  Paul Krugman   \n",
       "\n",
       "                                                   text  \\\n",
       "4001  paul robin krugman born february 28 1953 is an...   \n",
       "\n",
       "                                             word_count  \\\n",
       "4001  {'krugmans': 1, 'serviceskrugman': 1, 'timesfo...   \n",
       "\n",
       "                                                  words  \\\n",
       "4001  [krugmans, serviceskrugman, timesfortune, slat...   \n",
       "\n",
       "                                            clean_words  \\\n",
       "4001  [krugmans, serviceskrugman, timesfortune, slat...   \n",
       "\n",
       "                                             clean_text  \n",
       "4001  krugmans serviceskrugman timesfortune slateas ...  "
      ]
     },
     "execution_count": 281,
     "metadata": {},
     "output_type": "execute_result"
    }
   ],
   "source": [
    "wiki[wiki['name'] == 'Paul Krugman']"
   ]
  },
  {
   "cell_type": "code",
   "execution_count": 282,
   "metadata": {},
   "outputs": [
    {
     "data": {
      "text/html": [
       "<div>\n",
       "<style scoped>\n",
       "    .dataframe tbody tr th:only-of-type {\n",
       "        vertical-align: middle;\n",
       "    }\n",
       "\n",
       "    .dataframe tbody tr th {\n",
       "        vertical-align: top;\n",
       "    }\n",
       "\n",
       "    .dataframe thead th {\n",
       "        text-align: right;\n",
       "    }\n",
       "</style>\n",
       "<table border=\"1\" class=\"dataframe\">\n",
       "  <thead>\n",
       "    <tr style=\"text-align: right;\">\n",
       "      <th></th>\n",
       "      <th>id</th>\n",
       "      <th>name</th>\n",
       "      <th>distance</th>\n",
       "    </tr>\n",
       "  </thead>\n",
       "  <tbody>\n",
       "    <tr>\n",
       "      <th>0</th>\n",
       "      <td>4001</td>\n",
       "      <td>Paul Krugman</td>\n",
       "      <td>0.000000</td>\n",
       "    </tr>\n",
       "    <tr>\n",
       "      <th>1</th>\n",
       "      <td>40686</td>\n",
       "      <td>Daniel Kahneman</td>\n",
       "      <td>0.886498</td>\n",
       "    </tr>\n",
       "    <tr>\n",
       "      <th>2</th>\n",
       "      <td>42353</td>\n",
       "      <td>Elise Brezis</td>\n",
       "      <td>0.888683</td>\n",
       "    </tr>\n",
       "    <tr>\n",
       "      <th>3</th>\n",
       "      <td>41608</td>\n",
       "      <td>John A. List</td>\n",
       "      <td>0.895838</td>\n",
       "    </tr>\n",
       "    <tr>\n",
       "      <th>4</th>\n",
       "      <td>22732</td>\n",
       "      <td>Sophie Meunier</td>\n",
       "      <td>0.896992</td>\n",
       "    </tr>\n",
       "    <tr>\n",
       "      <th>5</th>\n",
       "      <td>45216</td>\n",
       "      <td>Branko Milanovi%C4%87</td>\n",
       "      <td>0.897815</td>\n",
       "    </tr>\n",
       "    <tr>\n",
       "      <th>6</th>\n",
       "      <td>13233</td>\n",
       "      <td>Bruno Frey</td>\n",
       "      <td>0.898801</td>\n",
       "    </tr>\n",
       "    <tr>\n",
       "      <th>7</th>\n",
       "      <td>17915</td>\n",
       "      <td>Charles Horioka</td>\n",
       "      <td>0.899708</td>\n",
       "    </tr>\n",
       "    <tr>\n",
       "      <th>8</th>\n",
       "      <td>32000</td>\n",
       "      <td>Herbert Grubel</td>\n",
       "      <td>0.902857</td>\n",
       "    </tr>\n",
       "    <tr>\n",
       "      <th>9</th>\n",
       "      <td>29567</td>\n",
       "      <td>Markos Mamalakis</td>\n",
       "      <td>0.904031</td>\n",
       "    </tr>\n",
       "  </tbody>\n",
       "</table>\n",
       "</div>"
      ],
      "text/plain": [
       "      id                   name  distance\n",
       "0   4001           Paul Krugman  0.000000\n",
       "1  40686        Daniel Kahneman  0.886498\n",
       "2  42353           Elise Brezis  0.888683\n",
       "3  41608           John A. List  0.895838\n",
       "4  22732         Sophie Meunier  0.896992\n",
       "5  45216  Branko Milanovi%C4%87  0.897815\n",
       "6  13233             Bruno Frey  0.898801\n",
       "7  17915        Charles Horioka  0.899708\n",
       "8  32000         Herbert Grubel  0.902857\n",
       "9  29567       Markos Mamalakis  0.904031"
      ]
     },
     "execution_count": 282,
     "metadata": {},
     "output_type": "execute_result"
    }
   ],
   "source": [
    "distances, indices = model_tfidf.kneighbors(wiki_tfidf_dtm[4001], n_neighbors=10)\n",
    "neighbours = pd.DataFrame({'distance':distances.flatten(), 'id':indices.flatten()})\n",
    "neighbours.set_index('id').join(wiki).reset_index().sort_values('distance')[['id', 'name', 'distance']]"
   ]
  },
  {
   "cell_type": "code",
   "execution_count": 283,
   "metadata": {},
   "outputs": [
    {
     "data": {
      "text/html": [
       "<div>\n",
       "<style scoped>\n",
       "    .dataframe tbody tr th:only-of-type {\n",
       "        vertical-align: middle;\n",
       "    }\n",
       "\n",
       "    .dataframe tbody tr th {\n",
       "        vertical-align: top;\n",
       "    }\n",
       "\n",
       "    .dataframe thead th {\n",
       "        text-align: right;\n",
       "    }\n",
       "</style>\n",
       "<table border=\"1\" class=\"dataframe\">\n",
       "  <thead>\n",
       "    <tr style=\"text-align: right;\">\n",
       "      <th></th>\n",
       "      <th>id</th>\n",
       "      <th>name</th>\n",
       "      <th>distance</th>\n",
       "    </tr>\n",
       "  </thead>\n",
       "  <tbody>\n",
       "    <tr>\n",
       "      <th>0</th>\n",
       "      <td>4001</td>\n",
       "      <td>Paul Krugman</td>\n",
       "      <td>0.000000</td>\n",
       "    </tr>\n",
       "    <tr>\n",
       "      <th>1</th>\n",
       "      <td>9528</td>\n",
       "      <td>Peter Suedfeld</td>\n",
       "      <td>0.001704</td>\n",
       "    </tr>\n",
       "    <tr>\n",
       "      <th>2</th>\n",
       "      <td>47608</td>\n",
       "      <td>Victoria Bellotti</td>\n",
       "      <td>0.002283</td>\n",
       "    </tr>\n",
       "    <tr>\n",
       "      <th>3</th>\n",
       "      <td>2272</td>\n",
       "      <td>Mark Chignell</td>\n",
       "      <td>0.002817</td>\n",
       "    </tr>\n",
       "    <tr>\n",
       "      <th>4</th>\n",
       "      <td>11303</td>\n",
       "      <td>Steven Weinberg</td>\n",
       "      <td>0.002973</td>\n",
       "    </tr>\n",
       "    <tr>\n",
       "      <th>5</th>\n",
       "      <td>6103</td>\n",
       "      <td>Larry L. Peterson</td>\n",
       "      <td>0.003113</td>\n",
       "    </tr>\n",
       "    <tr>\n",
       "      <th>6</th>\n",
       "      <td>11687</td>\n",
       "      <td>Antonio Gotto</td>\n",
       "      <td>0.003278</td>\n",
       "    </tr>\n",
       "    <tr>\n",
       "      <th>7</th>\n",
       "      <td>18531</td>\n",
       "      <td>George Annas</td>\n",
       "      <td>0.003283</td>\n",
       "    </tr>\n",
       "    <tr>\n",
       "      <th>8</th>\n",
       "      <td>43864</td>\n",
       "      <td>Stephen Barr</td>\n",
       "      <td>0.003318</td>\n",
       "    </tr>\n",
       "    <tr>\n",
       "      <th>9</th>\n",
       "      <td>31314</td>\n",
       "      <td>Diane F. Halpern</td>\n",
       "      <td>0.003324</td>\n",
       "    </tr>\n",
       "  </tbody>\n",
       "</table>\n",
       "</div>"
      ],
      "text/plain": [
       "      id               name  distance\n",
       "0   4001       Paul Krugman  0.000000\n",
       "1   9528     Peter Suedfeld  0.001704\n",
       "2  47608  Victoria Bellotti  0.002283\n",
       "3   2272      Mark Chignell  0.002817\n",
       "4  11303    Steven Weinberg  0.002973\n",
       "5   6103  Larry L. Peterson  0.003113\n",
       "6  11687      Antonio Gotto  0.003278\n",
       "7  18531       George Annas  0.003283\n",
       "8  43864       Stephen Barr  0.003318\n",
       "9  31314   Diane F. Halpern  0.003324"
      ]
     },
     "execution_count": 283,
     "metadata": {},
     "output_type": "execute_result"
    }
   ],
   "source": [
    "distances, indices = model_lda_rep.kneighbors(new_topic_dist[4001].reshape(1,-1), n_neighbors=10)\n",
    "neighbours = pd.DataFrame({'distance':distances.flatten(), 'id':indices.flatten()})\n",
    "neighbours.set_index('id').join(wiki).reset_index().sort_values('distance')[['id', 'name', 'distance']]"
   ]
  },
  {
   "cell_type": "markdown",
   "metadata": {},
   "source": [
    "Notice that that there is no overlap between the two sets of top 10 nearest neighbors. This doesn't necessarily mean that one representation is better or worse than the other, but rather that they are picking out different features of the documents. \n",
    "\n",
    "With TF-IDF, documents are distinguished by the frequency of uncommon words. Since similarity is defined based on the specific words used in the document, documents that are \"close\" under TF-IDF tend to be similar in terms of specific details. This is what we see in the example: the top 10 nearest neighbors are all economists from the US, UK, or Canada. \n",
    "\n",
    "Our LDA representation, on the other hand, defines similarity between documents in terms of their topic distributions. This means that documents can be \"close\" if they share similar themes, even though they may not share many of the same keywords. For the article on Paul Krugman, we expect the most important topics to be 'American college and politics' and 'science and research'. As a result, we see that the top 10 nearest neighbors are academics from a wide variety of fields, including literature, anthropology, and religious studies."
   ]
  },
  {
   "cell_type": "markdown",
   "metadata": {},
   "source": [
    "# Understanding the role of LDA model hyperparameters\n",
    "\n",
    "Finally, we'll take a look at the effect of the LDA model hyperparameters alpha and gamma on the characteristics of our fitted model. Recall that alpha is a parameter of the prior distribution over topic weights in each document, while gamma is a parameter of the prior distribution over word weights in each topic. \n",
    "\n",
    "In the video lectures, we saw that alpha and gamma can be thought of as smoothing parameters when we compute how much each document \"likes\" a topic (in the case of alpha) or how much each topic \"likes\" a word (in the case of gamma). In both cases, these parameters serve to reduce the differences across topics or words in terms of these calculated preferences; alpha makes the document preferences \"smoother\" over topics, and gamma makes the topic preferences \"smoother\" over words.\n",
    "\n",
    "Our goal in this section will be to understand how changing these parameter values affects the characteristics of the resulting topic model.\n",
    "\n",
    "__Quiz Question:__ What was the value of alpha used to fit our original topic model?"
   ]
  },
  {
   "cell_type": "code",
   "execution_count": 284,
   "metadata": {},
   "outputs": [
    {
     "data": {
      "text/plain": [
       "5"
      ]
     },
     "execution_count": 284,
     "metadata": {},
     "output_type": "execute_result"
    }
   ],
   "source": [
    "topic_model.doc_topic_prior_"
   ]
  },
  {
   "cell_type": "markdown",
   "metadata": {},
   "source": [
    "__Quiz Question:__ What was the value of gamma used to fit our original topic model?"
   ]
  },
  {
   "cell_type": "code",
   "execution_count": 285,
   "metadata": {},
   "outputs": [
    {
     "data": {
      "text/plain": [
       "0.1"
      ]
     },
     "execution_count": 285,
     "metadata": {},
     "output_type": "execute_result"
    }
   ],
   "source": [
    "topic_model.topic_word_prior_"
   ]
  },
  {
   "cell_type": "markdown",
   "metadata": {},
   "source": [
    "We'll start by loading some topic models that have been trained using different settings of alpha and gamma. Specifically, we will start by comparing the following two models to our original topic model:\n",
    " - tpm_low_alpha, a model trained with alpha = 1 and default gamma\n",
    " - tpm_high_alpha, a model trained with alpha = 50 and default gamma"
   ]
  },
  {
   "cell_type": "code",
   "execution_count": 286,
   "metadata": {
    "scrolled": true
   },
   "outputs": [
    {
     "name": "stdout",
     "output_type": "stream",
     "text": [
      "iteration: 1 of max_iter: 50\n",
      "iteration: 2 of max_iter: 50\n",
      "iteration: 3 of max_iter: 50\n",
      "iteration: 4 of max_iter: 50\n",
      "iteration: 5 of max_iter: 50\n",
      "iteration: 6 of max_iter: 50\n",
      "iteration: 7 of max_iter: 50\n",
      "iteration: 8 of max_iter: 50\n",
      "iteration: 9 of max_iter: 50\n",
      "iteration: 10 of max_iter: 50\n",
      "iteration: 11 of max_iter: 50\n",
      "iteration: 12 of max_iter: 50\n",
      "iteration: 13 of max_iter: 50\n",
      "iteration: 14 of max_iter: 50\n",
      "iteration: 15 of max_iter: 50\n",
      "iteration: 16 of max_iter: 50\n",
      "iteration: 17 of max_iter: 50\n",
      "iteration: 18 of max_iter: 50\n",
      "iteration: 19 of max_iter: 50\n",
      "iteration: 20 of max_iter: 50\n",
      "iteration: 21 of max_iter: 50\n",
      "iteration: 22 of max_iter: 50\n",
      "iteration: 23 of max_iter: 50\n",
      "iteration: 24 of max_iter: 50\n",
      "iteration: 25 of max_iter: 50\n",
      "iteration: 26 of max_iter: 50\n",
      "iteration: 27 of max_iter: 50\n",
      "iteration: 28 of max_iter: 50\n",
      "iteration: 29 of max_iter: 50\n",
      "iteration: 30 of max_iter: 50\n",
      "iteration: 31 of max_iter: 50\n",
      "iteration: 32 of max_iter: 50\n",
      "iteration: 33 of max_iter: 50\n",
      "iteration: 34 of max_iter: 50\n",
      "iteration: 35 of max_iter: 50\n",
      "iteration: 36 of max_iter: 50\n",
      "iteration: 37 of max_iter: 50\n",
      "iteration: 38 of max_iter: 50\n",
      "iteration: 39 of max_iter: 50\n",
      "iteration: 40 of max_iter: 50\n",
      "iteration: 41 of max_iter: 50\n",
      "iteration: 42 of max_iter: 50\n",
      "iteration: 43 of max_iter: 50\n",
      "iteration: 44 of max_iter: 50\n",
      "iteration: 45 of max_iter: 50\n",
      "iteration: 46 of max_iter: 50\n",
      "iteration: 47 of max_iter: 50\n",
      "iteration: 48 of max_iter: 50\n",
      "iteration: 49 of max_iter: 50\n",
      "iteration: 50 of max_iter: 50\n",
      "iteration: 1 of max_iter: 50\n",
      "iteration: 2 of max_iter: 50\n",
      "iteration: 3 of max_iter: 50\n",
      "iteration: 4 of max_iter: 50\n",
      "iteration: 5 of max_iter: 50\n",
      "iteration: 6 of max_iter: 50\n",
      "iteration: 7 of max_iter: 50\n",
      "iteration: 8 of max_iter: 50\n",
      "iteration: 9 of max_iter: 50\n",
      "iteration: 10 of max_iter: 50\n",
      "iteration: 11 of max_iter: 50\n",
      "iteration: 12 of max_iter: 50\n",
      "iteration: 13 of max_iter: 50\n",
      "iteration: 14 of max_iter: 50\n",
      "iteration: 15 of max_iter: 50\n",
      "iteration: 16 of max_iter: 50\n",
      "iteration: 17 of max_iter: 50\n",
      "iteration: 18 of max_iter: 50\n",
      "iteration: 19 of max_iter: 50\n",
      "iteration: 20 of max_iter: 50\n",
      "iteration: 21 of max_iter: 50\n",
      "iteration: 22 of max_iter: 50\n",
      "iteration: 23 of max_iter: 50\n",
      "iteration: 24 of max_iter: 50\n",
      "iteration: 25 of max_iter: 50\n",
      "iteration: 26 of max_iter: 50\n",
      "iteration: 27 of max_iter: 50\n",
      "iteration: 28 of max_iter: 50\n",
      "iteration: 29 of max_iter: 50\n",
      "iteration: 30 of max_iter: 50\n",
      "iteration: 31 of max_iter: 50\n",
      "iteration: 32 of max_iter: 50\n",
      "iteration: 33 of max_iter: 50\n",
      "iteration: 34 of max_iter: 50\n",
      "iteration: 35 of max_iter: 50\n",
      "iteration: 36 of max_iter: 50\n",
      "iteration: 37 of max_iter: 50\n",
      "iteration: 38 of max_iter: 50\n",
      "iteration: 39 of max_iter: 50\n",
      "iteration: 40 of max_iter: 50\n",
      "iteration: 41 of max_iter: 50\n",
      "iteration: 42 of max_iter: 50\n",
      "iteration: 43 of max_iter: 50\n",
      "iteration: 44 of max_iter: 50\n",
      "iteration: 45 of max_iter: 50\n",
      "iteration: 46 of max_iter: 50\n",
      "iteration: 47 of max_iter: 50\n",
      "iteration: 48 of max_iter: 50\n",
      "iteration: 49 of max_iter: 50\n",
      "iteration: 50 of max_iter: 50\n",
      "CPU times: user 26.9 s, sys: 6.16 s, total: 33 s\n",
      "Wall time: 8min 57s\n"
     ]
    }
   ],
   "source": [
    "%%time\n",
    "tpm_low_alpha = LDA(n_components=10, max_iter=50, n_jobs=-1, evaluate_every=-1, verbose=1, random_state=42,\n",
    "                    doc_topic_prior=1)\n",
    "low_alpha_matrix = tpm_low_alpha.fit_transform(wiki_dtm)\n",
    "\n",
    "tpm_high_alpha = LDA(n_components=10, max_iter=50, n_jobs=-1, evaluate_every=-1, verbose=1, random_state=42,\n",
    "                     doc_topic_prior=50)\n",
    "high_alpha_matrix = tpm_high_alpha.fit_transform(wiki_dtm)"
   ]
  },
  {
   "cell_type": "code",
   "execution_count": 287,
   "metadata": {},
   "outputs": [],
   "source": [
    "# tpm_low_alpha = turicreate.load_model('topic_models/lda_low_alpha')\n",
    "# tpm_high_alpha = turicreate.load_model('topic_models/lda_high_alpha')"
   ]
  },
  {
   "cell_type": "markdown",
   "metadata": {},
   "source": [
    "### Changing the hyperparameter alpha\n",
    "\n",
    "Since alpha is responsible for smoothing document preferences over topics, the impact of changing its value should be visible when we plot the distribution of topic weights for the same document under models fit with different alpha values. In the code below, we plot the (sorted) topic weights for the Wikipedia article on Barack Obama under models fit with high, original, and low settings of alpha."
   ]
  },
  {
   "cell_type": "code",
   "execution_count": 288,
   "metadata": {},
   "outputs": [],
   "source": [
    "# re-do as initial applicable vectoriser was overwritten\n",
    "count_vec = CountVectorizer()\n",
    "wiki_dtm = count_vec.fit_transform(wiki_small.clean_text)"
   ]
  },
  {
   "cell_type": "code",
   "execution_count": 289,
   "metadata": {},
   "outputs": [
    {
     "data": {
      "text/html": [
       "<div>\n",
       "<style scoped>\n",
       "    .dataframe tbody tr th:only-of-type {\n",
       "        vertical-align: middle;\n",
       "    }\n",
       "\n",
       "    .dataframe tbody tr th {\n",
       "        vertical-align: top;\n",
       "    }\n",
       "\n",
       "    .dataframe thead th {\n",
       "        text-align: right;\n",
       "    }\n",
       "</style>\n",
       "<table border=\"1\" class=\"dataframe\">\n",
       "  <thead>\n",
       "    <tr style=\"text-align: right;\">\n",
       "      <th></th>\n",
       "      <th>topic</th>\n",
       "      <th>model</th>\n",
       "      <th>probability</th>\n",
       "    </tr>\n",
       "  </thead>\n",
       "  <tbody>\n",
       "    <tr>\n",
       "      <th>0</th>\n",
       "      <td>politics</td>\n",
       "      <td>original</td>\n",
       "      <td>0.348551</td>\n",
       "    </tr>\n",
       "    <tr>\n",
       "      <th>1</th>\n",
       "      <td>?1</td>\n",
       "      <td>original</td>\n",
       "      <td>0.141113</td>\n",
       "    </tr>\n",
       "    <tr>\n",
       "      <th>2</th>\n",
       "      <td>business</td>\n",
       "      <td>original</td>\n",
       "      <td>0.125943</td>\n",
       "    </tr>\n",
       "    <tr>\n",
       "      <th>3</th>\n",
       "      <td>family</td>\n",
       "      <td>original</td>\n",
       "      <td>0.106211</td>\n",
       "    </tr>\n",
       "    <tr>\n",
       "      <th>4</th>\n",
       "      <td>research and academia</td>\n",
       "      <td>original</td>\n",
       "      <td>0.089569</td>\n",
       "    </tr>\n",
       "  </tbody>\n",
       "</table>\n",
       "</div>"
      ],
      "text/plain": [
       "                   topic     model  probability\n",
       "0               politics  original     0.348551\n",
       "1                     ?1  original     0.141113\n",
       "2               business  original     0.125943\n",
       "3                 family  original     0.106211\n",
       "4  research and academia  original     0.089569"
      ]
     },
     "execution_count": 289,
     "metadata": {},
     "output_type": "execute_result"
    }
   ],
   "source": [
    "new_doc = wiki[wiki.name == \"Barack Obama\"]\n",
    "dtm = count_vec.transform(new_doc.clean_text)\n",
    "\n",
    "high_alpha_dist = tpm_high_alpha.transform(dtm).flatten()\n",
    "original_dist = topic_model.transform(dtm).flatten()\n",
    "low_alpha_dist = tpm_low_alpha.transform(dtm).flatten()\n",
    "\n",
    "dist_df = pd.DataFrame(data={'topic': themes, 'original': original_dist, 'high': high_alpha_dist, 'low': low_alpha_dist})\n",
    "dist_df.sort_values(by='original', inplace=True, ascending=False)\n",
    "dist_df = pd.melt(dist_df, id_vars='topic', var_name='model', value_name='probability')\n",
    "dist_df.head()"
   ]
  },
  {
   "cell_type": "code",
   "execution_count": 290,
   "metadata": {},
   "outputs": [
    {
     "data": {
      "image/png": "[encoded data removed]",
      "text/plain": [
       "<Figure size 720x360 with 1 Axes>"
      ]
     },
     "metadata": {
      "needs_background": "light"
     },
     "output_type": "display_data"
    }
   ],
   "source": [
    "fig, ax = plt.subplots(figsize=(10, 5))\n",
    "sns.lineplot(data=dist_df, x='topic', y='probability', hue='model', palette='mako')\n",
    "ax.set(xlabel='Topic', ylabel='Probability', title='Topic Probabilities for the Obama Article')\n",
    "sns.despine();"
   ]
  },
  {
   "cell_type": "markdown",
   "metadata": {},
   "source": [
    "Here we can clearly see the smoothing enforced by the alpha parameter - notice that when alpha is low most of the weight in the topic distribution for this article goes to a single topic, but when alpha is high the weight is much more evenly distributed across the topics.\n",
    "\n",
    "__Quiz Question:__ How many topics are assigned a weight greater than 0.3 or less than 0.05 for the article on Paul Krugman in the **low alpha** model? All but one."
   ]
  },
  {
   "cell_type": "code",
   "execution_count": 291,
   "metadata": {},
   "outputs": [
    {
     "data": {
      "image/png": "[encoded data removed]",
      "text/plain": [
       "<Figure size 720x360 with 1 Axes>"
      ]
     },
     "metadata": {
      "needs_background": "light"
     },
     "output_type": "display_data"
    }
   ],
   "source": [
    "new_doc = wiki[wiki.name == \"Paul Krugman\"]\n",
    "dtm = count_vec.transform(new_doc.clean_text)\n",
    "\n",
    "low_alpha_dist = tpm_low_alpha.transform(dtm).flatten()\n",
    "\n",
    "dist_df = pd.DataFrame(data={'topic': themes, 'probability': low_alpha_dist})\n",
    "dist_df.sort_values(by='probability', inplace=True, ascending=False)\n",
    "dist_df.head()\n",
    "\n",
    "fig, ax = plt.subplots(figsize=(10, 5))\n",
    "sns.barplot(data=dist_df, x='topic', y='probability', palette='mako')\n",
    "plt.axhline(y=0.3, color='g', linestyle='--')\n",
    "plt.axhline(y=0.05, color='g', linestyle='--')\n",
    "ax.set(xlabel='Topic', ylabel='Probability', title='Topic Probabilities for the Paul Krugman Article')\n",
    "sns.despine();"
   ]
  },
  {
   "cell_type": "markdown",
   "metadata": {},
   "source": [
    "__Quiz Question:__ How many topics are assigned a weight greater than 0.3 or less than 0.05 for the article on Paul Krugman in the **high alpha** model? None."
   ]
  },
  {
   "cell_type": "code",
   "execution_count": 292,
   "metadata": {},
   "outputs": [
    {
     "data": {
      "image/png": "[encoded data removed]",
      "text/plain": [
       "<Figure size 720x360 with 1 Axes>"
      ]
     },
     "metadata": {
      "needs_background": "light"
     },
     "output_type": "display_data"
    }
   ],
   "source": [
    "new_doc = wiki[wiki.name == \"Paul Krugman\"]\n",
    "dtm = count_vec.transform(new_doc.clean_text)\n",
    "\n",
    "high_alpha_dist = tpm_high_alpha.transform(dtm).flatten()\n",
    "\n",
    "dist_df = pd.DataFrame(data={'topic': themes, 'probability': high_alpha_dist})\n",
    "dist_df.sort_values(by='probability', inplace=True, ascending=False)\n",
    "dist_df.head()\n",
    "\n",
    "fig, ax = plt.subplots(figsize=(10, 5))\n",
    "sns.barplot(data=dist_df, x='topic', y='probability', palette='mako')\n",
    "plt.axhline(y=0.3, color='g', linestyle='--')\n",
    "plt.axhline(y=0.05, color='g', linestyle='--')\n",
    "ax.set(xlabel='Topic', ylabel='Probability', title='Topic Probabilities for the Paul Krugman Article')\n",
    "sns.despine();"
   ]
  },
  {
   "cell_type": "markdown",
   "metadata": {},
   "source": [
    "### Changing the hyperparameter gamma\n",
    "\n",
    "Just as we were able to see the effect of alpha by plotting topic weights for a document, we expect to be able to visualize the impact of changing gamma by plotting word weights for each topic. In this case, however, there are far too many words in our vocabulary to do this effectively. Instead, we'll plot the total weight of the top 100 words and bottom 1000 words for each topic. Below, we plot the (sorted) total weights of the top 100 words and bottom 1000 from each topic in the high, original, and low gamma models."
   ]
  },
  {
   "cell_type": "markdown",
   "metadata": {},
   "source": [
    "Now we will consider the following two models:\n",
    " - tpm_low_gamma, a model trained with gamma = 0.02 and default alpha\n",
    " - tpm_high_gamma, a model trained with gamma = 0.5 and default alpha"
   ]
  },
  {
   "cell_type": "code",
   "execution_count": 151,
   "metadata": {
    "scrolled": true
   },
   "outputs": [
    {
     "name": "stdout",
     "output_type": "stream",
     "text": [
      "iteration: 1 of max_iter: 50\n",
      "iteration: 2 of max_iter: 50\n",
      "iteration: 3 of max_iter: 50\n",
      "iteration: 4 of max_iter: 50\n",
      "iteration: 5 of max_iter: 50\n",
      "iteration: 6 of max_iter: 50\n",
      "iteration: 7 of max_iter: 50\n",
      "iteration: 8 of max_iter: 50\n",
      "iteration: 9 of max_iter: 50\n",
      "iteration: 10 of max_iter: 50\n",
      "iteration: 11 of max_iter: 50\n",
      "iteration: 12 of max_iter: 50\n",
      "iteration: 13 of max_iter: 50\n",
      "iteration: 14 of max_iter: 50\n",
      "iteration: 15 of max_iter: 50\n",
      "iteration: 16 of max_iter: 50\n",
      "iteration: 17 of max_iter: 50\n",
      "iteration: 18 of max_iter: 50\n",
      "iteration: 19 of max_iter: 50\n",
      "iteration: 20 of max_iter: 50\n",
      "iteration: 21 of max_iter: 50\n",
      "iteration: 22 of max_iter: 50\n",
      "iteration: 23 of max_iter: 50\n",
      "iteration: 24 of max_iter: 50\n",
      "iteration: 25 of max_iter: 50\n",
      "iteration: 26 of max_iter: 50\n",
      "iteration: 27 of max_iter: 50\n",
      "iteration: 28 of max_iter: 50\n",
      "iteration: 29 of max_iter: 50\n",
      "iteration: 30 of max_iter: 50\n",
      "iteration: 31 of max_iter: 50\n",
      "iteration: 32 of max_iter: 50\n",
      "iteration: 33 of max_iter: 50\n",
      "iteration: 34 of max_iter: 50\n",
      "iteration: 35 of max_iter: 50\n",
      "iteration: 36 of max_iter: 50\n",
      "iteration: 37 of max_iter: 50\n",
      "iteration: 38 of max_iter: 50\n",
      "iteration: 39 of max_iter: 50\n",
      "iteration: 40 of max_iter: 50\n",
      "iteration: 41 of max_iter: 50\n",
      "iteration: 42 of max_iter: 50\n",
      "iteration: 43 of max_iter: 50\n",
      "iteration: 44 of max_iter: 50\n",
      "iteration: 45 of max_iter: 50\n",
      "iteration: 46 of max_iter: 50\n",
      "iteration: 47 of max_iter: 50\n",
      "iteration: 48 of max_iter: 50\n",
      "iteration: 49 of max_iter: 50\n",
      "iteration: 50 of max_iter: 50\n",
      "iteration: 1 of max_iter: 50\n",
      "iteration: 2 of max_iter: 50\n",
      "iteration: 3 of max_iter: 50\n",
      "iteration: 4 of max_iter: 50\n",
      "iteration: 5 of max_iter: 50\n",
      "iteration: 6 of max_iter: 50\n",
      "iteration: 7 of max_iter: 50\n",
      "iteration: 8 of max_iter: 50\n",
      "iteration: 9 of max_iter: 50\n",
      "iteration: 10 of max_iter: 50\n",
      "iteration: 11 of max_iter: 50\n",
      "iteration: 12 of max_iter: 50\n",
      "iteration: 13 of max_iter: 50\n",
      "iteration: 14 of max_iter: 50\n",
      "iteration: 15 of max_iter: 50\n",
      "iteration: 16 of max_iter: 50\n",
      "iteration: 17 of max_iter: 50\n",
      "iteration: 18 of max_iter: 50\n",
      "iteration: 19 of max_iter: 50\n",
      "iteration: 20 of max_iter: 50\n",
      "iteration: 21 of max_iter: 50\n",
      "iteration: 22 of max_iter: 50\n",
      "iteration: 23 of max_iter: 50\n",
      "iteration: 24 of max_iter: 50\n",
      "iteration: 25 of max_iter: 50\n",
      "iteration: 26 of max_iter: 50\n",
      "iteration: 27 of max_iter: 50\n",
      "iteration: 28 of max_iter: 50\n",
      "iteration: 29 of max_iter: 50\n",
      "iteration: 30 of max_iter: 50\n",
      "iteration: 31 of max_iter: 50\n",
      "iteration: 32 of max_iter: 50\n",
      "iteration: 33 of max_iter: 50\n",
      "iteration: 34 of max_iter: 50\n",
      "iteration: 35 of max_iter: 50\n",
      "iteration: 36 of max_iter: 50\n",
      "iteration: 37 of max_iter: 50\n",
      "iteration: 38 of max_iter: 50\n",
      "iteration: 39 of max_iter: 50\n",
      "iteration: 40 of max_iter: 50\n",
      "iteration: 41 of max_iter: 50\n",
      "iteration: 42 of max_iter: 50\n",
      "iteration: 43 of max_iter: 50\n",
      "iteration: 44 of max_iter: 50\n",
      "iteration: 45 of max_iter: 50\n",
      "iteration: 46 of max_iter: 50\n",
      "iteration: 47 of max_iter: 50\n",
      "iteration: 48 of max_iter: 50\n",
      "iteration: 49 of max_iter: 50\n",
      "iteration: 50 of max_iter: 50\n",
      "CPU times: user 26.8 s, sys: 6.24 s, total: 33 s\n",
      "Wall time: 12min 33s\n"
     ]
    }
   ],
   "source": [
    "%%time\n",
    "tpm_low_gamma = LDA(n_components=10, max_iter=50, n_jobs=-1, evaluate_every=-1, verbose=1, random_state=42,\n",
    "                    topic_word_prior=0.02)\n",
    "low_gamma_matrix = tpm_low_gamma.fit_transform(wiki_dtm)\n",
    "\n",
    "tpm_high_gamma = LDA(n_components=10, max_iter=50, n_jobs=-1, evaluate_every=-1, verbose=1, random_state=42,\n",
    "                     topic_word_prior=0.5)\n",
    "high_gamma_matrix = tpm_high_gamma.fit_transform(wiki_dtm)"
   ]
  },
  {
   "cell_type": "markdown",
   "metadata": {},
   "source": [
    "Instead, we'll plot the total weight of the top 100 words and bottom 1000 words for each topic. Below, we plot the (sorted) total weights of the top 100 words and bottom 1000 from each topic in the high, original, and low gamma models."
   ]
  },
  {
   "cell_type": "code",
   "execution_count": 208,
   "metadata": {},
   "outputs": [],
   "source": [
    "terms = count_vec.get_feature_names()\n",
    "\n",
    "top_probs_sums = []\n",
    "for idx, component in enumerate(topic_model.components_):\n",
    "    zipped = zip(terms, component)\n",
    "    top_terms_key = sorted(zipped, key = lambda x: x[1], reverse=True)[:100]\n",
    "    top_probs_list = list(dict(top_terms_key).values())\n",
    "    top_probs_sum = np.array(top_probs_list).sum()\n",
    "\n",
    "    top_probs_sums.append(top_probs_sum)\n",
    "\n",
    "bottom_probs_sums = []\n",
    "for idx, component in enumerate(topic_model.components_):\n",
    "    zipped = zip(terms, component)    \n",
    "    bottom_terms_key = sorted(zipped, key = lambda x: x[1], reverse=True)[-1000:]\n",
    "    bottom_probs_list = list(dict(bottom_terms_key).values())\n",
    "    bottom_probs_sum = np.array(bottom_probs_list).sum()\n",
    "    all_probs_sum = component.sum()\n",
    "    \n",
    "    bottom_probs_sums.append((bottom_probs_sum, all_probs_sum))\n",
    "    \n",
    "probs_df = pd.DataFrame(top_probs_sums, columns = ['top_terms'])\n",
    "probs_df2 = pd.DataFrame(bottom_probs_sums, columns = ['bottom_terms', 'all_terms'])\n",
    "probs_df = pd.concat([probs_df, probs_df2], axis=1)\n",
    "probs_df.reset_index(inplace=True)\n",
    "probs_df.columns = ['topic', 'top_terms', 'bottom_terms', 'all_terms']\n",
    "probs_df['top_prop'] = probs_df.top_terms / probs_df.all_terms * 100\n",
    "probs_df['bottom_prop'] = probs_df.bottom_terms / probs_df.all_terms * 100\n",
    "probs_df['model'] = 'original'\n",
    "original_probs_df = probs_df.copy()"
   ]
  },
  {
   "cell_type": "code",
   "execution_count": 209,
   "metadata": {},
   "outputs": [],
   "source": [
    "top_probs_sums = []\n",
    "for idx, component in enumerate(tpm_low_gamma.components_):\n",
    "    zipped = zip(terms, component)\n",
    "    top_terms_key = sorted(zipped, key = lambda x: x[1], reverse=True)[:100]\n",
    "    top_probs_list = list(dict(top_terms_key).values())\n",
    "    top_probs_sum = np.array(top_probs_list).sum()\n",
    "\n",
    "    top_probs_sums.append(top_probs_sum)\n",
    "\n",
    "bottom_probs_sums = []\n",
    "for idx, component in enumerate(tpm_low_gamma.components_):\n",
    "    zipped = zip(terms, component)    \n",
    "    bottom_terms_key = sorted(zipped, key = lambda x: x[1], reverse=True)[-1000:]\n",
    "    bottom_probs_list = list(dict(bottom_terms_key).values())\n",
    "    bottom_probs_sum = np.array(bottom_probs_list).sum()\n",
    "    all_probs_sum = component.sum()\n",
    "    \n",
    "    bottom_probs_sums.append((bottom_probs_sum, all_probs_sum))\n",
    "    \n",
    "probs_df = pd.DataFrame(top_probs_sums, columns = ['top_terms'])\n",
    "probs_df2 = pd.DataFrame(bottom_probs_sums, columns = ['bottom_terms', 'all_terms'])\n",
    "probs_df = pd.concat([probs_df, probs_df2], axis=1)\n",
    "probs_df.reset_index(inplace=True)\n",
    "probs_df.columns = ['topic', 'top_terms', 'bottom_terms', 'all_terms']\n",
    "probs_df['top_prop'] = probs_df.top_terms / probs_df.all_terms * 100\n",
    "probs_df['bottom_prop'] = probs_df.bottom_terms / probs_df.all_terms * 100\n",
    "probs_df['model'] = 'low_gamma'\n",
    "low_probs_df = probs_df.copy()"
   ]
  },
  {
   "cell_type": "code",
   "execution_count": 210,
   "metadata": {},
   "outputs": [],
   "source": [
    "top_probs_sums = []\n",
    "for idx, component in enumerate(tpm_high_gamma.components_):\n",
    "    zipped = zip(terms, component)\n",
    "    top_terms_key = sorted(zipped, key = lambda x: x[1], reverse=True)[:100]\n",
    "    top_probs_list = list(dict(top_terms_key).values())\n",
    "    top_probs_sum = np.array(top_probs_list).sum()\n",
    "\n",
    "    top_probs_sums.append(top_probs_sum)\n",
    "\n",
    "bottom_probs_sums = []\n",
    "for idx, component in enumerate(tpm_high_gamma.components_):\n",
    "    zipped = zip(terms, component)    \n",
    "    bottom_terms_key = sorted(zipped, key = lambda x: x[1], reverse=True)[-1000:]\n",
    "    bottom_probs_list = list(dict(bottom_terms_key).values())\n",
    "    bottom_probs_sum = np.array(bottom_probs_list).sum()\n",
    "    all_probs_sum = component.sum()\n",
    "    \n",
    "    bottom_probs_sums.append((bottom_probs_sum, all_probs_sum))\n",
    "    \n",
    "probs_df = pd.DataFrame(top_probs_sums, columns = ['top_terms'])\n",
    "probs_df2 = pd.DataFrame(bottom_probs_sums, columns = ['bottom_terms', 'all_terms'])\n",
    "probs_df = pd.concat([probs_df, probs_df2], axis=1)\n",
    "probs_df.reset_index(inplace=True)\n",
    "probs_df.columns = ['topic', 'top_terms', 'bottom_terms', 'all_terms']\n",
    "probs_df['top_prop'] = probs_df.top_terms / probs_df.all_terms * 100\n",
    "probs_df['bottom_prop'] = probs_df.bottom_terms / probs_df.all_terms * 100\n",
    "probs_df['model'] = 'high_gamma'\n",
    "high_probs_df = probs_df.copy()"
   ]
  },
  {
   "cell_type": "code",
   "execution_count": 214,
   "metadata": {},
   "outputs": [
    {
     "data": {
      "text/html": [
       "<div>\n",
       "<style scoped>\n",
       "    .dataframe tbody tr th:only-of-type {\n",
       "        vertical-align: middle;\n",
       "    }\n",
       "\n",
       "    .dataframe tbody tr th {\n",
       "        vertical-align: top;\n",
       "    }\n",
       "\n",
       "    .dataframe thead th {\n",
       "        text-align: right;\n",
       "    }\n",
       "</style>\n",
       "<table border=\"1\" class=\"dataframe\">\n",
       "  <thead>\n",
       "    <tr style=\"text-align: right;\">\n",
       "      <th></th>\n",
       "      <th>topic</th>\n",
       "      <th>top_terms</th>\n",
       "      <th>bottom_terms</th>\n",
       "      <th>all_terms</th>\n",
       "      <th>top_prop</th>\n",
       "      <th>bottom_prop</th>\n",
       "      <th>model</th>\n",
       "    </tr>\n",
       "  </thead>\n",
       "  <tbody>\n",
       "    <tr>\n",
       "      <th>0</th>\n",
       "      <td>0</td>\n",
       "      <td>13589.260972</td>\n",
       "      <td>100.0</td>\n",
       "      <td>79071.416892</td>\n",
       "      <td>17.186060</td>\n",
       "      <td>0.126468</td>\n",
       "      <td>original</td>\n",
       "    </tr>\n",
       "    <tr>\n",
       "      <th>1</th>\n",
       "      <td>1</td>\n",
       "      <td>117072.504730</td>\n",
       "      <td>100.0</td>\n",
       "      <td>611801.907177</td>\n",
       "      <td>19.135688</td>\n",
       "      <td>0.016345</td>\n",
       "      <td>original</td>\n",
       "    </tr>\n",
       "    <tr>\n",
       "      <th>2</th>\n",
       "      <td>2</td>\n",
       "      <td>574.925109</td>\n",
       "      <td>100.0</td>\n",
       "      <td>48662.279185</td>\n",
       "      <td>1.181459</td>\n",
       "      <td>0.205498</td>\n",
       "      <td>original</td>\n",
       "    </tr>\n",
       "    <tr>\n",
       "      <th>3</th>\n",
       "      <td>3</td>\n",
       "      <td>134218.902148</td>\n",
       "      <td>100.0</td>\n",
       "      <td>710283.169839</td>\n",
       "      <td>18.896534</td>\n",
       "      <td>0.014079</td>\n",
       "      <td>original</td>\n",
       "    </tr>\n",
       "    <tr>\n",
       "      <th>4</th>\n",
       "      <td>4</td>\n",
       "      <td>128825.710611</td>\n",
       "      <td>100.0</td>\n",
       "      <td>553474.373058</td>\n",
       "      <td>23.275822</td>\n",
       "      <td>0.018068</td>\n",
       "      <td>original</td>\n",
       "    </tr>\n",
       "  </tbody>\n",
       "</table>\n",
       "</div>"
      ],
      "text/plain": [
       "   topic      top_terms  bottom_terms      all_terms   top_prop  bottom_prop  \\\n",
       "0      0   13589.260972         100.0   79071.416892  17.186060     0.126468   \n",
       "1      1  117072.504730         100.0  611801.907177  19.135688     0.016345   \n",
       "2      2     574.925109         100.0   48662.279185   1.181459     0.205498   \n",
       "3      3  134218.902148         100.0  710283.169839  18.896534     0.014079   \n",
       "4      4  128825.710611         100.0  553474.373058  23.275822     0.018068   \n",
       "\n",
       "      model  \n",
       "0  original  \n",
       "1  original  \n",
       "2  original  \n",
       "3  original  \n",
       "4  original  "
      ]
     },
     "execution_count": 214,
     "metadata": {},
     "output_type": "execute_result"
    }
   ],
   "source": [
    "probs_df = pd.concat([original_probs_df, low_probs_df, high_probs_df])\n",
    "probs_df.head()"
   ]
  },
  {
   "cell_type": "code",
   "execution_count": 220,
   "metadata": {},
   "outputs": [
    {
     "data": {
      "image/png": "[encoded data removed]",
      "text/plain": [
       "<Figure size 720x360 with 1 Axes>"
      ]
     },
     "metadata": {
      "needs_background": "light"
     },
     "output_type": "display_data"
    }
   ],
   "source": [
    "fig, ax = plt.subplots(figsize=(10, 5))\n",
    "sns.barplot(data=probs_df, x=\"topic\", y=\"top_prop\", hue=\"model\", palette=\"mako\")\n",
    "ax.set(xlabel='Topic', ylabel='Probability', title='Total Probability of Top 100 Words in each Topic')\n",
    "sns.despine();"
   ]
  },
  {
   "cell_type": "code",
   "execution_count": 221,
   "metadata": {},
   "outputs": [
    {
     "data": {
      "image/png": "[encoded data removed]",
      "text/plain": [
       "<Figure size 720x360 with 1 Axes>"
      ]
     },
     "metadata": {
      "needs_background": "light"
     },
     "output_type": "display_data"
    }
   ],
   "source": [
    "fig, ax = plt.subplots(figsize=(10, 5))\n",
    "sns.barplot(data=probs_df, x=\"topic\", y=\"bottom_prop\", hue=\"model\", palette=\"mako\")\n",
    "ax.set(xlabel='Topic', ylabel='Probability', title='Total Probability of Bottom 1000 Words in each Topic')\n",
    "sns.despine();"
   ]
  },
  {
   "cell_type": "markdown",
   "metadata": {
    "collapsed": true
   },
   "source": [
    "From these two plots we can see that the low gamma model results in higher weight placed on the top words and lower weight placed on the bottom words for each topic, while the high gamma model places relatively less weight on the top words and more weight on the bottom words. Thus increasing gamma results in topics that have a smoother distribution of weight across all the words in the vocabulary."
   ]
  },
  {
   "cell_type": "markdown",
   "metadata": {},
   "source": [
    "__Quiz Question:__ For each topic of the **low gamma model**, compute the number of words required to make a list with total probability 0.5. What is the average number of words required across all topics? 1,525"
   ]
  },
  {
   "cell_type": "code",
   "execution_count": 293,
   "metadata": {},
   "outputs": [
    {
     "name": "stdout",
     "output_type": "stream",
     "text": [
      "CPU times: user 1min 9s, sys: 115 ms, total: 1min 9s\n",
      "Wall time: 1min 9s\n"
     ]
    }
   ],
   "source": [
    "%%time\n",
    "num_words_lst = []\n",
    "for idx, component in enumerate(tpm_low_gamma.components_):\n",
    "    num_words = 0\n",
    "    probability = 0\n",
    "    \n",
    "    while probability < 0.5:\n",
    "        zipped = zip(terms, component)\n",
    "        terms_key = sorted(zipped, key = lambda x: x[1], reverse=True)[:num_words]\n",
    "        probs_list = list(dict(terms_key).values())\n",
    "        probs_sum = np.array(probs_list).sum()\n",
    "        all_probs_sum = component.sum()\n",
    "        probability = probs_sum / all_probs_sum\n",
    "    \n",
    "        if probability >= 0.5:\n",
    "            num_words_lst.append((num_words, probability))\n",
    "        else:\n",
    "            num_words += 50"
   ]
  },
  {
   "cell_type": "code",
   "execution_count": 294,
   "metadata": {},
   "outputs": [
    {
     "data": {
      "text/plain": [
       "1525.0"
      ]
     },
     "execution_count": 294,
     "metadata": {},
     "output_type": "execute_result"
    }
   ],
   "source": [
    "words_df = pd.DataFrame(num_words_lst)\n",
    "words_df.reset_index(inplace=True)\n",
    "words_df.columns = ['topic', 'num_words', 'probability']\n",
    "\n",
    "avg_words = words_df.num_words.mean()\n",
    "avg_words"
   ]
  },
  {
   "cell_type": "markdown",
   "metadata": {},
   "source": [
    "__Quiz Question:__ For each topic of the **high gamma model**, compute the number of words required to make a list with total probability 0.5. What is the average number of words required across all topics? 82,800"
   ]
  },
  {
   "cell_type": "code",
   "execution_count": 295,
   "metadata": {},
   "outputs": [
    {
     "name": "stdout",
     "output_type": "stream",
     "text": [
      "CPU times: user 5min 47s, sys: 143 ms, total: 5min 48s\n",
      "Wall time: 5min 48s\n"
     ]
    }
   ],
   "source": [
    "%%time\n",
    "num_words_lst = []\n",
    "for idx, component in enumerate(tpm_high_gamma.components_):\n",
    "    num_words = 0\n",
    "    probability = 0\n",
    "    \n",
    "    while probability < 0.5:\n",
    "        zipped = zip(terms, component)\n",
    "        terms_key = sorted(zipped, key = lambda x: x[1], reverse=True)[:num_words]\n",
    "        probs_list = list(dict(terms_key).values())\n",
    "        probs_sum = np.array(probs_list).sum()\n",
    "        all_probs_sum = component.sum()\n",
    "        probability = probs_sum / all_probs_sum\n",
    "    \n",
    "        if probability >= 0.5:\n",
    "            num_words_lst.append((num_words, probability))\n",
    "        else:\n",
    "            # the number of words required for this model is high\n",
    "            num_words += 1000"
   ]
  },
  {
   "cell_type": "code",
   "execution_count": 296,
   "metadata": {},
   "outputs": [
    {
     "data": {
      "text/plain": [
       "82800.0"
      ]
     },
     "execution_count": 296,
     "metadata": {},
     "output_type": "execute_result"
    }
   ],
   "source": [
    "words_df = pd.DataFrame(num_words_lst)\n",
    "words_df.reset_index(inplace=True)\n",
    "words_df.columns = ['topic', 'num_words', 'probability']\n",
    "\n",
    "avg_words = words_df.num_words.mean()\n",
    "avg_words"
   ]
  },
  {
   "cell_type": "markdown",
   "metadata": {},
   "source": [
    "We have now seen how the hyperparameters alpha and gamma influence the characteristics of our LDA topic model, but we haven't said anything about what settings of alpha or gamma are best. We know that these parameters are responsible for controlling the smoothness of the topic distributions for documents and word distributions for topics, but there's no simple conversion between smoothness of these distributions and quality of the topic model. In reality, there is no universally \"best\" choice for these parameters. Instead, finding a good topic model requires that we be able to both explore the output (as we did by looking at the topics and checking some topic predictions for documents) and understand the impact of hyperparameter settings (as we have in this section)."
   ]
  },
  {
   "cell_type": "code",
   "execution_count": null,
   "metadata": {},
   "outputs": [],
   "source": []
  }
 ],
 "metadata": {
  "kernelspec": {
   "display_name": "Python 3",
   "language": "python",
   "name": "python3"
  },
  "language_info": {
   "codemirror_mode": {
    "name": "ipython",
    "version": 3
   },
   "file_extension": ".py",
   "mimetype": "text/x-python",
   "name": "python",
   "nbconvert_exporter": "python",
   "pygments_lexer": "ipython3",
   "version": "3.7.6"
  }
 },
 "nbformat": 4,
 "nbformat_minor": 1
}
