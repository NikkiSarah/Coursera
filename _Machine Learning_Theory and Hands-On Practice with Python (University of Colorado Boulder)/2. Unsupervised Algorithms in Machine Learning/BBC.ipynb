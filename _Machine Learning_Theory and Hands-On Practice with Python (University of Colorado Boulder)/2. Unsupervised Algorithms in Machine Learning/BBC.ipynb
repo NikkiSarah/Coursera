{
  "nbformat": 4,
  "nbformat_minor": 0,
  "metadata": {
    "colab": {
      "provenance": []
    },
    "kernelspec": {
      "name": "python3",
      "display_name": "Python 3"
    },
    "language_info": {
      "name": "python"
    }
  },
  "cells": [
    {
      "cell_type": "code",
      "execution_count": 39,
      "metadata": {
        "id": "Tea1gORQ9V4u"
      },
      "outputs": [],
      "source": [
        "import shutil\n",
        "shutil.unpack_archive('/content/BBC News Test.csv.zip')\n",
        "shutil.unpack_archive('/content/BBC News Train.csv.zip')"
      ]
    },
    {
      "cell_type": "code",
      "source": [
        "import numpy as np\n",
        "import pandas as pd\n",
        "from sklearn.decomposition import NMF\n",
        "from sklearn.feature_extraction.text import TfidfVectorizer\n",
        "from sklearn.model_selection import train_test_split\n",
        "from sklearn.preprocessing import LabelEncoder\n",
        "from sklearn.metrics import accuracy_score\n",
        "from nltk.corpus import stopwords\n",
        "import string\n",
        "import nltk\n",
        "nltk.download('stopwords')\n",
        "import warnings\n",
        "warnings.filterwarnings('ignore')\n",
        "\n",
        "# Load the data\n",
        "df_train = pd.read_csv('/content/BBC News Train.csv')\n",
        "df_test = pd.read_csv('/content/BBC News Test.csv')\n",
        "\n",
        "# Combine train and test data for consistent preprocessing\n",
        "df_combined = pd.concat([df_train, df_test], axis=0, ignore_index=True)\n",
        "\n",
        "# Text preprocessing\n",
        "stop_words = stopwords.words('english')\n",
        "punctuation = string.punctuation\n",
        "\n",
        "df_combined['Text'] = df_combined['Text'].apply(lambda x: ''.join([i for i in x if i not in punctuation]).split())\n",
        "df_combined['Text'] = df_combined['Text'].apply(lambda x: ' '.join([i for i in x if i not in stop_words]))\n",
        "\n",
        "# Encode categories consistently\n",
        "label_encoder = LabelEncoder()\n",
        "y_encoded = label_encoder.fit_transform(df_combined['Category'])\n",
        "\n",
        "# Split data back into train and test\n",
        "X_train, X_test, y_train, y_test = train_test_split(df_combined['Text'], y_encoded, test_size=0.2, random_state=42)\n",
        "\n",
        "# TF-IDF vectorization\n",
        "vectorizer = TfidfVectorizer(max_features=10000, max_df=0.8, min_df=5, stop_words='english')\n",
        "X_train_tfidf = vectorizer.fit_transform(X_train)\n",
        "X_test_tfidf = vectorizer.transform(X_test)\n",
        "\n",
        "# Fine-tune NMF parameters\n",
        "n_latent_factors = 50\n",
        "nmf_model = NMF(n_components=n_latent_factors, init='nndsvd', random_state=42)\n",
        "\n",
        "# Fit and transform on training data\n",
        "W_train = nmf_model.fit_transform(X_train_tfidf)\n",
        "H_train = nmf_model.components_\n",
        "\n",
        "# Transform test data\n",
        "W_test = nmf_model.transform(X_test_tfidf)\n",
        "\n",
        "# Predict category labels for test data\n",
        "predicted_categories = np.argmax(W_test, axis=1)\n",
        "\n",
        "# Create a DataFrame with index as document IDs and predicted categories\n",
        "result_df = pd.DataFrame({'Predicted_Category': predicted_categories})\n",
        "\n",
        "# Save the DataFrame to a CSV file\n",
        "result_df.to_csv('/content/submission.csv', index=False)\n",
        "\n",
        "print(\"Predictions saved to predicted_categories.csv\")\n"
      ],
      "metadata": {
        "colab": {
          "base_uri": "https://localhost:8080/"
        },
        "id": "lHDEmYFpWijk",
        "outputId": "1554e033-b09c-4334-eb15-d15ea22907dd"
      },
      "execution_count": 40,
      "outputs": [
        {
          "output_type": "stream",
          "name": "stderr",
          "text": [
            "[nltk_data] Downloading package stopwords to /root/nltk_data...\n",
            "[nltk_data]   Package stopwords is already up-to-date!\n"
          ]
        },
        {
          "output_type": "stream",
          "name": "stdout",
          "text": [
            "Predictions saved to predicted_categories.csv\n"
          ]
        }
      ]
    }
  ]
}